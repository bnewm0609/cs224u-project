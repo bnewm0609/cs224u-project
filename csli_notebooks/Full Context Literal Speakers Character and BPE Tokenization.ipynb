{
 "cells": [
  {
   "cell_type": "markdown",
   "metadata": {},
   "source": [
    "7/2/2019\n",
    "\n",
    "Reuben suggested using a character-based model to make inference easier (there are fewer possible next tokens)\n",
    "Chris suggested using a bert-tokenizer (so I used the sentencepiece library from some Google people).\n",
    "\n",
    "The models implemented below are conditional language models that take the entire color context (all three colors) and produce an utterance. \n",
    "\n",
    "This notebook contains the code that implements and trains these models. Both are \"evaluated\" qualitatively"
   ]
  },
  {
   "cell_type": "code",
   "execution_count": 1,
   "metadata": {},
   "outputs": [],
   "source": [
    "# so we can access classes from parent directory\n",
    "import sys\n",
    "sys.path.append(\"..\")"
   ]
  },
  {
   "cell_type": "code",
   "execution_count": 10,
   "metadata": {},
   "outputs": [],
   "source": [
    "from monroe_data import MonroeData, MonroeDataEntry, Color # for loading in training data\n",
    "import caption_featurizers                              # for getting caption representations\n",
    "import color_featurizers                                # for getting color representations\n",
    "from experiment import FeatureHandler                   # for combining caption and color features\n",
    "\n",
    "from models import PytorchModel, LiteralSpeaker, CaptionGenerator # model base that handles training / evaluation"
   ]
  },
  {
   "cell_type": "code",
   "execution_count": 67,
   "metadata": {},
   "outputs": [],
   "source": [
    "import importlib\n",
    "importlib.reload(caption_featurizers)\n",
    "import caption_featurizers"
   ]
  },
  {
   "cell_type": "code",
   "execution_count": 3,
   "metadata": {},
   "outputs": [],
   "source": [
    "# get data\n",
    "train_data = MonroeData(\"../data/csv/train_corpus_monroe.csv\", \"../data/entries/train_entries_monroe.pkl\")\n",
    "dev_data = MonroeData(\"../data/csv/dev_corpus_monroe.csv\", \"../data/entries/dev_entries_monroe.pkl\")"
   ]
  },
  {
   "cell_type": "code",
   "execution_count": 4,
   "metadata": {},
   "outputs": [],
   "source": [
    "# define feature functions\n",
    "caption_phi = caption_featurizers.CaptionFeaturizer(tokenizer = caption_featurizers.CharacterTokenizer)\n",
    "\n",
    "#    use fourier representation from the hsv space and normalize all hsv values to be between 0 and 1\n",
    "color_phi = color_featurizers.ColorFeaturizer(color_featurizers.color_phi_fourier, \"hsv\", normalized=True)"
   ]
  },
  {
   "cell_type": "code",
   "execution_count": 5,
   "metadata": {},
   "outputs": [],
   "source": [
    "# speaker's target is to predict tokens following the SOS token\n",
    "def speaker_target(data_entry):\n",
    "    _, caption_ids = caption_phi.to_string_features(data_entry.caption) # this probably works...\n",
    "    target = caption_ids[1:]\n",
    "    return target\n",
    "# pass in train and dev data, our caption and color feature functions, function for turning an element of our data\n",
    "# (train or dev) into the target, and we only care the target (which is the first color) so we aren't going to mess that up\n",
    "# by randomizing the order of the colors\n",
    "# we aren't going to use the dev data to train the model, but we'll still include it in the feature handler\n",
    "feature_handler = FeatureHandler(train_data, dev_data, caption_phi, color_phi, target_fn=speaker_target, randomized_colors=False)"
   ]
  },
  {
   "cell_type": "code",
   "execution_count": 6,
   "metadata": {},
   "outputs": [],
   "source": [
    "X_train = feature_handler.train_features()\n",
    "y_train = feature_handler.train_targets()"
   ]
  },
  {
   "cell_type": "code",
   "execution_count": 12,
   "metadata": {},
   "outputs": [],
   "source": [
    "model = LiteralSpeaker(CaptionGenerator, optimizer=torch.optim.Adam, lr=0.004, num_epochs=5)\n",
    "model.init_model(color_in_dim=54, color_dim=100,\n",
    "                 vocab_size=caption_phi.caption_indexer.size, embed_dim=100,\n",
    "                 speaker_hidden_dim=100)"
   ]
  },
  {
   "cell_type": "code",
   "execution_count": 14,
   "metadata": {
    "scrolled": true
   },
   "outputs": [
    {
     "name": "stdout",
     "output_type": "stream",
     "text": [
      "---EPOCH 0---\n",
      "0m 0s (0:0 0.00%) 0.0040\n",
      "0m 7s (0:1000 7.90%) 1.2253\n",
      "0m 17s (0:2000 15.79%) 1.0327\n",
      "0m 26s (0:3000 23.69%) 1.1016\n",
      "0m 37s (0:4000 31.58%) 1.0374\n",
      "0m 47s (0:5000 39.48%) 1.2268\n",
      "0m 58s (0:6000 47.37%) 0.9157\n",
      "1m 8s (0:7000 55.27%) 0.8102\n",
      "1m 17s (0:8000 63.17%) 0.9745\n",
      "1m 27s (0:9000 71.06%) 0.7432\n",
      "1m 36s (0:10000 78.96%) 0.8101\n",
      "1m 43s (0:11000 86.85%) 0.7606\n",
      "1m 52s (0:12000 94.75%) 0.7305\n",
      "=========================\n",
      "AFTER EPOCH 2999 - AVERAGE VALIDATION LOSS: 1.0609199364880721\n",
      "=========================\n",
      "---EPOCH 1---\n",
      "2m 4s (1:0 0.00%) 0.0007\n",
      "2m 12s (1:1000 7.90%) 0.7569\n",
      "2m 23s (1:2000 15.79%) 0.8854\n",
      "2m 33s (1:3000 23.69%) 0.9835\n",
      "2m 45s (1:4000 31.58%) 0.9493\n",
      "2m 55s (1:5000 39.48%) 1.1218\n",
      "3m 4s (1:6000 47.37%) 0.8471\n",
      "3m 13s (1:7000 55.27%) 0.7426\n",
      "3m 22s (1:8000 63.17%) 0.9110\n",
      "3m 32s (1:9000 71.06%) 0.7098\n",
      "3m 41s (1:10000 78.96%) 0.7733\n",
      "3m 50s (1:11000 86.85%) 0.7116\n",
      "3m 58s (1:12000 94.75%) 0.6977\n",
      "=========================\n",
      "AFTER EPOCH 2999 - AVERAGE VALIDATION LOSS: 0.9792641280281047\n",
      "=========================\n",
      "---EPOCH 2---\n",
      "4m 12s (2:0 0.00%) 0.0008\n",
      "4m 20s (2:1000 7.90%) 0.7118\n",
      "4m 29s (2:2000 15.79%) 0.8522\n",
      "4m 39s (2:3000 23.69%) 0.9542\n",
      "4m 49s (2:4000 31.58%) 0.9220\n",
      "4m 58s (2:5000 39.48%) 1.0843\n",
      "5m 8s (2:6000 47.37%) 0.8164\n",
      "5m 17s (2:7000 55.27%) 0.7175\n",
      "5m 28s (2:8000 63.17%) 0.8915\n",
      "5m 39s (2:9000 71.06%) 0.6884\n",
      "5m 48s (2:10000 78.96%) 0.7465\n",
      "5m 55s (2:11000 86.85%) 0.6955\n",
      "6m 3s (2:12000 94.75%) 0.6839\n",
      "=========================\n",
      "AFTER EPOCH 2999 - AVERAGE VALIDATION LOSS: 0.9770219259212415\n",
      "=========================\n",
      "---EPOCH 3---\n",
      "6m 15s (3:0 0.00%) 0.0007\n",
      "6m 24s (3:1000 7.90%) 0.6936\n",
      "6m 36s (3:2000 15.79%) 0.8312\n",
      "6m 46s (3:3000 23.69%) 0.9318\n",
      "6m 56s (3:4000 31.58%) 0.9048\n",
      "7m 5s (3:5000 39.48%) 1.0731\n",
      "7m 14s (3:6000 47.37%) 0.8062\n",
      "7m 23s (3:7000 55.27%) 0.7127\n",
      "7m 32s (3:8000 63.17%) 0.8810\n",
      "7m 41s (3:9000 71.06%) 0.6850\n",
      "7m 50s (3:10000 78.96%) 0.7320\n",
      "7m 58s (3:11000 86.85%) 0.6822\n",
      "8m 6s (3:12000 94.75%) 0.6688\n",
      "=========================\n",
      "AFTER EPOCH 2999 - AVERAGE VALIDATION LOSS: 0.9699872843362392\n",
      "=========================\n",
      "---EPOCH 4---\n",
      "8m 20s (4:0 0.00%) 0.0007\n",
      "8m 28s (4:1000 7.90%) 0.6729\n",
      "8m 38s (4:2000 15.79%) 0.8165\n",
      "8m 49s (4:3000 23.69%) 0.9170\n",
      "9m 0s (4:4000 31.58%) 0.8994\n",
      "9m 9s (4:5000 39.48%) 1.0638\n",
      "9m 18s (4:6000 47.37%) 0.8063\n",
      "9m 26s (4:7000 55.27%) 0.7049\n",
      "9m 36s (4:8000 63.17%) 0.8630\n",
      "9m 46s (4:9000 71.06%) 0.6754\n",
      "9m 55s (4:10000 78.96%) 0.7248\n",
      "10m 3s (4:11000 86.85%) 0.6666\n",
      "10m 11s (4:12000 94.75%) 0.6613\n",
      "=========================\n",
      "AFTER EPOCH 2999 - AVERAGE VALIDATION LOSS: 0.9537485641178985\n",
      "=========================\n"
     ]
    }
   ],
   "source": [
    "model.fit(X_train, y_train)"
   ]
  },
  {
   "cell_type": "code",
   "execution_count": 15,
   "metadata": {},
   "outputs": [],
   "source": [
    "model.save_model(\"../model/character_literal_speaker_full_context.params\")"
   ]
  },
  {
   "cell_type": "code",
   "execution_count": 89,
   "metadata": {},
   "outputs": [],
   "source": [
    "X_assess = feature_handler.test_features()"
   ]
  },
  {
   "cell_type": "code",
   "execution_count": 68,
   "metadata": {},
   "outputs": [],
   "source": [
    "# now let's try with the subword modeling:\n",
    "caption_phi_subword = caption_featurizers.CaptionFeaturizer(tokenizer = caption_featurizers.SentencePieceTokenizer)\n",
    "def speaker_target_subword(data_entry):\n",
    "    _, caption_ids = caption_phi_subword.to_string_features(data_entry.caption) # this probably works...\n",
    "    target = caption_ids[1:]\n",
    "    return target\n",
    "\n",
    "\n",
    "feature_handler_subword = FeatureHandler(train_data, dev_data, caption_phi_subword, color_phi, target_fn=speaker_target_subword, randomized_colors=False)"
   ]
  },
  {
   "cell_type": "code",
   "execution_count": 69,
   "metadata": {},
   "outputs": [],
   "source": [
    "X_train_subword = feature_handler_subword.train_features()\n",
    "y_train_subword = feature_handler_subword.train_targets()"
   ]
  },
  {
   "cell_type": "code",
   "execution_count": 56,
   "metadata": {},
   "outputs": [],
   "source": [
    "model_subword = LiteralSpeaker(CaptionGenerator, optimizer=torch.optim.Adam, lr=0.004, num_epochs=5)\n",
    "model_subword.init_model(color_in_dim=54, color_dim=100,\n",
    "                 vocab_size=caption_phi_subword.caption_indexer.size, embed_dim=100,\n",
    "                 speaker_hidden_dim=100)"
   ]
  },
  {
   "cell_type": "code",
   "execution_count": 57,
   "metadata": {},
   "outputs": [
    {
     "name": "stdout",
     "output_type": "stream",
     "text": [
      "---EPOCH 0---\n",
      "0m 0s (0:0 0.00%) 0.0047\n",
      "0m 5s (0:1000 7.90%) 2.3788\n",
      "0m 10s (0:2000 15.79%) 2.1848\n",
      "0m 17s (0:3000 23.69%) 2.1840\n",
      "0m 23s (0:4000 31.58%) 2.0452\n",
      "0m 29s (0:5000 39.48%) 2.1693\n",
      "0m 35s (0:6000 47.37%) 1.8951\n",
      "0m 40s (0:7000 55.27%) 1.7579\n",
      "0m 46s (0:8000 63.17%) 1.9497\n",
      "0m 51s (0:9000 71.06%) 1.6707\n",
      "0m 57s (0:10000 78.96%) 1.7363\n",
      "1m 1s (0:11000 86.85%) 1.6079\n",
      "1m 7s (0:12000 94.75%) 1.5733\n",
      "=========================\n",
      "AFTER EPOCH 2999 - AVERAGE VALIDATION LOSS: 2.0135171137452126\n",
      "=========================\n",
      "---EPOCH 1---\n",
      "1m 13s (1:0 0.00%) 0.0023\n",
      "1m 19s (1:1000 7.90%) 1.5591\n",
      "1m 25s (1:2000 15.79%) 1.8546\n",
      "1m 31s (1:3000 23.69%) 1.9572\n",
      "1m 38s (1:4000 31.58%) 1.8781\n",
      "1m 44s (1:5000 39.48%) 2.0364\n",
      "1m 50s (1:6000 47.37%) 1.7689\n",
      "1m 55s (1:7000 55.27%) 1.6444\n",
      "2m 1s (1:8000 63.17%) 1.8493\n",
      "2m 7s (1:9000 71.06%) 1.6007\n",
      "2m 12s (1:10000 78.96%) 1.6542\n",
      "2m 17s (1:11000 86.85%) 1.5157\n",
      "2m 23s (1:12000 94.75%) 1.5057\n",
      "=========================\n",
      "AFTER EPOCH 2999 - AVERAGE VALIDATION LOSS: 1.947226592173179\n",
      "=========================\n",
      "---EPOCH 2---\n",
      "2m 30s (2:0 0.00%) 0.0019\n",
      "2m 37s (2:1000 7.90%) 1.4965\n",
      "2m 44s (2:2000 15.79%) 1.8078\n",
      "2m 52s (2:3000 23.69%) 1.9137\n",
      "3m 2s (2:4000 31.58%) 1.8438\n",
      "3m 14s (2:5000 39.48%) 1.9694\n",
      "3m 22s (2:6000 47.37%) 1.7551\n",
      "3m 27s (2:7000 55.27%) 1.6099\n",
      "3m 37s (2:8000 63.17%) 1.8318\n",
      "3m 42s (2:9000 71.06%) 1.5749\n",
      "3m 51s (2:10000 78.96%) 1.6159\n",
      "3m 59s (2:11000 86.85%) 1.4987\n",
      "4m 5s (2:12000 94.75%) 1.4720\n",
      "=========================\n",
      "AFTER EPOCH 2999 - AVERAGE VALIDATION LOSS: 1.931667782853047\n",
      "=========================\n",
      "---EPOCH 3---\n",
      "4m 16s (3:0 0.00%) 0.0020\n",
      "4m 24s (3:1000 7.90%) 1.4732\n",
      "4m 33s (3:2000 15.79%) 1.7689\n",
      "4m 44s (3:3000 23.69%) 1.8784\n",
      "4m 54s (3:4000 31.58%) 1.8196\n",
      "5m 6s (3:5000 39.48%) 1.9361\n",
      "5m 18s (3:6000 47.37%) 1.7117\n",
      "5m 30s (3:7000 55.27%) 1.5856\n",
      "5m 46s (3:8000 63.17%) 1.8029\n",
      "5m 59s (3:9000 71.06%) 1.5631\n",
      "6m 11s (3:10000 78.96%) 1.6003\n",
      "6m 23s (3:11000 86.85%) 1.4892\n",
      "6m 35s (3:12000 94.75%) 1.4699\n",
      "=========================\n",
      "AFTER EPOCH 2999 - AVERAGE VALIDATION LOSS: 1.9265305559635162\n",
      "=========================\n",
      "---EPOCH 4---\n",
      "6m 53s (4:0 0.00%) 0.0024\n",
      "7m 7s (4:1000 7.90%) 1.4490\n",
      "7m 21s (4:2000 15.79%) 1.7476\n",
      "7m 37s (4:3000 23.69%) 1.8751\n",
      "7m 54s (4:4000 31.58%) 1.8210\n",
      "8m 10s (4:5000 39.48%) 1.9487\n",
      "8m 26s (4:6000 47.37%) 1.6980\n",
      "8m 40s (4:7000 55.27%) 1.5634\n",
      "8m 56s (4:8000 63.17%) 1.7785\n",
      "9m 10s (4:9000 71.06%) 1.5407\n",
      "9m 26s (4:10000 78.96%) 1.5861\n",
      "9m 40s (4:11000 86.85%) 1.4623\n",
      "9m 54s (4:12000 94.75%) 1.4514\n",
      "=========================\n",
      "AFTER EPOCH 2999 - AVERAGE VALIDATION LOSS: 1.9492692575057347\n",
      "=========================\n"
     ]
    }
   ],
   "source": [
    "model_subword.fit(X_train_subword, y_train_subword)"
   ]
  },
  {
   "cell_type": "code",
   "execution_count": 58,
   "metadata": {},
   "outputs": [],
   "source": [
    "model_subword.save_model(\"../model/subword100_literal_speaker_full_context.params\")"
   ]
  },
  {
   "cell_type": "code",
   "execution_count": 60,
   "metadata": {},
   "outputs": [],
   "source": [
    "X_assess_subword = feature_handler_subword.test_features()\n",
    "y_assess_subword = feature_handler_subword.test_targets()"
   ]
  },
  {
   "cell_type": "code",
   "execution_count": 80,
   "metadata": {},
   "outputs": [],
   "source": [
    "pred_subword = model_subword.predict(X_assess_subword[:50])"
   ]
  },
  {
   "cell_type": "code",
   "execution_count": 81,
   "metadata": {},
   "outputs": [
    {
     "name": "stdout",
     "output_type": "stream",
     "text": [
      "0) Game: 2641-2 Round: 1\n",
      "gray\n"
     ]
    },
    {
     "data": {
      "image/png": "[encoded data removed]",
      "text/plain": [
       "<Figure size 432x288 with 1 Axes>"
      ]
     },
     "metadata": {},
     "output_type": "display_data"
    },
    {
     "name": "stdout",
     "output_type": "stream",
     "text": [
      "1) Game: 2641-2 Round: 2\n",
      "green\n"
     ]
    },
    {
     "data": {
      "image/png": "[encoded data removed]",
      "text/plain": [
       "<Figure size 432x288 with 1 Axes>"
      ]
     },
     "metadata": {},
     "output_type": "display_data"
    },
    {
     "name": "stdout",
     "output_type": "stream",
     "text": [
      "2) Game: 2641-2 Round: 3\n",
      "lavender ~ the duller one\n"
     ]
    },
    {
     "data": {
      "image/png": "[encoded data removed]",
      "text/plain": [
       "<Figure size 432x288 with 1 Axes>"
      ]
     },
     "metadata": {},
     "output_type": "display_data"
    },
    {
     "name": "stdout",
     "output_type": "stream",
     "text": [
      "3) Game: 2641-2 Round: 4\n",
      "the brighter blue\n"
     ]
    },
    {
     "data": {
      "image/png": "[encoded data removed]",
      "text/plain": [
       "<Figure size 432x288 with 1 Axes>"
      ]
     },
     "metadata": {},
     "output_type": "display_data"
    },
    {
     "name": "stdout",
     "output_type": "stream",
     "text": [
      "4) Game: 2641-2 Round: 5\n",
      "yellow\n"
     ]
    },
    {
     "data": {
      "image/png": "[encoded data removed]",
      "text/plain": [
       "<Figure size 432x288 with 1 Axes>"
      ]
     },
     "metadata": {},
     "output_type": "display_data"
    },
    {
     "name": "stdout",
     "output_type": "stream",
     "text": [
      "5) Game: 2641-2 Round: 6\n",
      "the dullest purple\n"
     ]
    },
    {
     "data": {
      "image/png": "[encoded data removed]",
      "text/plain": [
       "<Figure size 432x288 with 1 Axes>"
      ]
     },
     "metadata": {},
     "output_type": "display_data"
    },
    {
     "name": "stdout",
     "output_type": "stream",
     "text": [
      "6) Game: 2641-2 Round: 7\n",
      "green\n"
     ]
    },
    {
     "data": {
      "image/png": "[encoded data removed]",
      "text/plain": [
       "<Figure size 432x288 with 1 Axes>"
      ]
     },
     "metadata": {},
     "output_type": "display_data"
    },
    {
     "name": "stdout",
     "output_type": "stream",
     "text": [
      "7) Game: 2641-2 Round: 8\n",
      "green\n"
     ]
    },
    {
     "data": {
      "image/png": "[encoded data removed]",
      "text/plain": [
       "<Figure size 432x288 with 1 Axes>"
      ]
     },
     "metadata": {},
     "output_type": "display_data"
    },
    {
     "name": "stdout",
     "output_type": "stream",
     "text": [
      "8) Game: 2641-2 Round: 9\n",
      "the brightest one\n"
     ]
    },
    {
     "data": {
      "image/png": "[encoded data removed]",
      "text/plain": [
       "<Figure size 432x288 with 1 Axes>"
      ]
     },
     "metadata": {},
     "output_type": "display_data"
    },
    {
     "name": "stdout",
     "output_type": "stream",
     "text": [
      "9) Game: 2641-2 Round: 10\n",
      "green\n"
     ]
    },
    {
     "data": {
      "image/png": "[encoded data removed]",
      "text/plain": [
       "<Figure size 432x288 with 1 Axes>"
      ]
     },
     "metadata": {},
     "output_type": "display_data"
    },
    {
     "name": "stdout",
     "output_type": "stream",
     "text": [
      "10) Game: 2641-2 Round: 11\n",
      "dull lavender\n"
     ]
    },
    {
     "data": {
      "image/png": "[encoded data removed]",
      "text/plain": [
       "<Figure size 432x288 with 1 Axes>"
      ]
     },
     "metadata": {},
     "output_type": "display_data"
    },
    {
     "name": "stdout",
     "output_type": "stream",
     "text": [
      "11) Game: 2641-2 Round: 12\n",
      "the duller aqua\n"
     ]
    },
    {
     "data": {
      "image/png": "[encoded data removed]",
      "text/plain": [
       "<Figure size 432x288 with 1 Axes>"
      ]
     },
     "metadata": {},
     "output_type": "display_data"
    },
    {
     "name": "stdout",
     "output_type": "stream",
     "text": [
      "12) Game: 2641-2 Round: 13\n",
      "the more grey green\n"
     ]
    },
    {
     "data": {
      "image/png": "[encoded data removed]",
      "text/plain": [
       "<Figure size 432x288 with 1 Axes>"
      ]
     },
     "metadata": {},
     "output_type": "display_data"
    },
    {
     "name": "stdout",
     "output_type": "stream",
     "text": [
      "13) Game: 2641-2 Round: 14\n",
      "yellow\n"
     ]
    },
    {
     "data": {
      "image/png": "[encoded data removed]",
      "text/plain": [
       "<Figure size 432x288 with 1 Axes>"
      ]
     },
     "metadata": {},
     "output_type": "display_data"
    },
    {
     "name": "stdout",
     "output_type": "stream",
     "text": [
      "14) Game: 2641-2 Round: 15\n",
      "the slightly darker lavender\n"
     ]
    },
    {
     "data": {
      "image/png": "[encoded data removed]",
      "text/plain": [
       "<Figure size 432x288 with 1 Axes>"
      ]
     },
     "metadata": {},
     "output_type": "display_data"
    },
    {
     "name": "stdout",
     "output_type": "stream",
     "text": [
      "15) Game: 2641-2 Round: 16\n",
      "the duller purple ~ dullest ~ more purple\n"
     ]
    },
    {
     "data": {
      "image/png": "[encoded data removed]",
      "text/plain": [
       "<Figure size 432x288 with 1 Axes>"
      ]
     },
     "metadata": {},
     "output_type": "display_data"
    },
    {
     "name": "stdout",
     "output_type": "stream",
     "text": [
      "16) Game: 2641-2 Round: 17\n",
      "blue\n"
     ]
    },
    {
     "data": {
      "image/png": "[encoded data removed]",
      "text/plain": [
       "<Figure size 432x288 with 1 Axes>"
      ]
     },
     "metadata": {},
     "output_type": "display_data"
    },
    {
     "name": "stdout",
     "output_type": "stream",
     "text": [
      "17) Game: 2641-2 Round: 18\n",
      "red\n"
     ]
    },
    {
     "data": {
      "image/png": "[encoded data removed]",
      "text/plain": [
       "<Figure size 432x288 with 1 Axes>"
      ]
     },
     "metadata": {},
     "output_type": "display_data"
    },
    {
     "name": "stdout",
     "output_type": "stream",
     "text": [
      "18) Game: 2641-2 Round: 19\n",
      "the brighter green\n"
     ]
    },
    {
     "data": {
      "image/png": "[encoded data removed]",
      "text/plain": [
       "<Figure size 432x288 with 1 Axes>"
      ]
     },
     "metadata": {},
     "output_type": "display_data"
    },
    {
     "name": "stdout",
     "output_type": "stream",
     "text": [
      "19) Game: 2641-2 Round: 20\n",
      "orange\n"
     ]
    },
    {
     "data": {
      "image/png": "[encoded data removed]",
      "text/plain": [
       "<Figure size 432x288 with 1 Axes>"
      ]
     },
     "metadata": {},
     "output_type": "display_data"
    },
    {
     "name": "stdout",
     "output_type": "stream",
     "text": [
      "20) Game: 2641-2 Round: 21\n",
      "the purplish blue\n"
     ]
    },
    {
     "data": {
      "image/png": "[encoded data removed]",
      "text/plain": [
       "<Figure size 432x288 with 1 Axes>"
      ]
     },
     "metadata": {},
     "output_type": "display_data"
    },
    {
     "name": "stdout",
     "output_type": "stream",
     "text": [
      "21) Game: 2641-2 Round: 22\n",
      "lavender\n"
     ]
    },
    {
     "data": {
      "image/png": "[encoded data removed]",
      "text/plain": [
       "<Figure size 432x288 with 1 Axes>"
      ]
     },
     "metadata": {},
     "output_type": "display_data"
    },
    {
     "name": "stdout",
     "output_type": "stream",
     "text": [
      "22) Game: 2641-2 Round: 23\n",
      "blue\n"
     ]
    },
    {
     "data": {
      "image/png": "[encoded data removed]",
      "text/plain": [
       "<Figure size 432x288 with 1 Axes>"
      ]
     },
     "metadata": {},
     "output_type": "display_data"
    },
    {
     "name": "stdout",
     "output_type": "stream",
     "text": [
      "23) Game: 2641-2 Round: 24\n",
      "pink\n"
     ]
    },
    {
     "data": {
      "image/png": "[encoded data removed]",
      "text/plain": [
       "<Figure size 432x288 with 1 Axes>"
      ]
     },
     "metadata": {},
     "output_type": "display_data"
    },
    {
     "name": "stdout",
     "output_type": "stream",
     "text": [
      "24) Game: 2641-2 Round: 25\n",
      "the lightest lavender\n"
     ]
    },
    {
     "data": {
      "image/png": "[encoded data removed]",
      "text/plain": [
       "<Figure size 432x288 with 1 Axes>"
      ]
     },
     "metadata": {},
     "output_type": "display_data"
    },
    {
     "name": "stdout",
     "output_type": "stream",
     "text": [
      "25) Game: 2641-2 Round: 26\n",
      "the one that looks more yellow, but not greyed out\n"
     ]
    },
    {
     "data": {
      "image/png": "[encoded data removed]",
      "text/plain": [
       "<Figure size 432x288 with 1 Axes>"
      ]
     },
     "metadata": {},
     "output_type": "display_data"
    },
    {
     "name": "stdout",
     "output_type": "stream",
     "text": [
      "26) Game: 2641-2 Round: 27\n",
      "the most intense blue\n"
     ]
    },
    {
     "data": {
      "image/png": "[encoded data removed]",
      "text/plain": [
       "<Figure size 432x288 with 1 Axes>"
      ]
     },
     "metadata": {},
     "output_type": "display_data"
    },
    {
     "name": "stdout",
     "output_type": "stream",
     "text": [
      "27) Game: 2641-2 Round: 28\n",
      "the most bright and neon looking\n"
     ]
    },
    {
     "data": {
      "image/png": "[encoded data removed]",
      "text/plain": [
       "<Figure size 432x288 with 1 Axes>"
      ]
     },
     "metadata": {},
     "output_type": "display_data"
    },
    {
     "name": "stdout",
     "output_type": "stream",
     "text": [
      "28) Game: 2641-2 Round: 29\n",
      "the dull lavender that is more purplish\n"
     ]
    },
    {
     "data": {
      "image/png": "[encoded data removed]",
      "text/plain": [
       "<Figure size 432x288 with 1 Axes>"
      ]
     },
     "metadata": {},
     "output_type": "display_data"
    },
    {
     "name": "stdout",
     "output_type": "stream",
     "text": [
      "29) Game: 2641-2 Round: 30\n",
      "the greyish blue that is slightly darker? hard to see ~ the more grey one\n"
     ]
    },
    {
     "data": {
      "image/png": "[encoded data removed]",
      "text/plain": [
       "<Figure size 432x288 with 1 Axes>"
      ]
     },
     "metadata": {},
     "output_type": "display_data"
    },
    {
     "name": "stdout",
     "output_type": "stream",
     "text": [
      "30) Game: 2641-2 Round: 31\n",
      "the brightest one\n"
     ]
    },
    {
     "data": {
      "image/png": "[encoded data removed]",
      "text/plain": [
       "<Figure size 432x288 with 1 Axes>"
      ]
     },
     "metadata": {},
     "output_type": "display_data"
    },
    {
     "name": "stdout",
     "output_type": "stream",
     "text": [
      "31) Game: 2641-2 Round: 32\n",
      "the yellowest one\n"
     ]
    },
    {
     "data": {
      "image/png": "[encoded data removed]",
      "text/plain": [
       "<Figure size 432x288 with 1 Axes>"
      ]
     },
     "metadata": {},
     "output_type": "display_data"
    },
    {
     "name": "stdout",
     "output_type": "stream",
     "text": [
      "32) Game: 2641-2 Round: 33\n",
      "green\n"
     ]
    },
    {
     "data": {
      "image/png": "[encoded data removed]",
      "text/plain": [
       "<Figure size 432x288 with 1 Axes>"
      ]
     },
     "metadata": {},
     "output_type": "display_data"
    },
    {
     "name": "stdout",
     "output_type": "stream",
     "text": [
      "33) Game: 2641-2 Round: 34\n",
      "brown/orange\n"
     ]
    },
    {
     "data": {
      "image/png": "[encoded data removed]",
      "text/plain": [
       "<Figure size 432x288 with 1 Axes>"
      ]
     },
     "metadata": {},
     "output_type": "display_data"
    },
    {
     "name": "stdout",
     "output_type": "stream",
     "text": [
      "34) Game: 2641-2 Round: 35\n",
      "blue\n"
     ]
    },
    {
     "data": {
      "image/png": "[encoded data removed]",
      "text/plain": [
       "<Figure size 432x288 with 1 Axes>"
      ]
     },
     "metadata": {},
     "output_type": "display_data"
    },
    {
     "name": "stdout",
     "output_type": "stream",
     "text": [
      "35) Game: 2641-2 Round: 36\n",
      "the most intense one\n"
     ]
    },
    {
     "data": {
      "image/png": "[encoded data removed]",
      "text/plain": [
       "<Figure size 432x288 with 1 Axes>"
      ]
     },
     "metadata": {},
     "output_type": "display_data"
    },
    {
     "name": "stdout",
     "output_type": "stream",
     "text": [
      "36) Game: 2641-2 Round: 37\n",
      "the dull slightly bluish lavender\n"
     ]
    },
    {
     "data": {
      "image/png": "[encoded data removed]",
      "text/plain": [
       "<Figure size 432x288 with 1 Axes>"
      ]
     },
     "metadata": {},
     "output_type": "display_data"
    },
    {
     "name": "stdout",
     "output_type": "stream",
     "text": [
      "37) Game: 2641-2 Round: 38\n",
      "grey\n"
     ]
    },
    {
     "data": {
      "image/png": "[encoded data removed]",
      "text/plain": [
       "<Figure size 432x288 with 1 Axes>"
      ]
     },
     "metadata": {},
     "output_type": "display_data"
    },
    {
     "name": "stdout",
     "output_type": "stream",
     "text": [
      "38) Game: 2641-2 Round: 39\n",
      "bright blue green ~ the lighter one\n"
     ]
    },
    {
     "data": {
      "image/png": "[encoded data removed]",
      "text/plain": [
       "<Figure size 432x288 with 1 Axes>"
      ]
     },
     "metadata": {},
     "output_type": "display_data"
    },
    {
     "name": "stdout",
     "output_type": "stream",
     "text": [
      "39) Game: 2641-2 Round: 40\n",
      "the greyest one\n"
     ]
    },
    {
     "data": {
      "image/png": "[encoded data removed]",
      "text/plain": [
       "<Figure size 432x288 with 1 Axes>"
      ]
     },
     "metadata": {},
     "output_type": "display_data"
    },
    {
     "name": "stdout",
     "output_type": "stream",
     "text": [
      "40) Game: 2641-2 Round: 41\n",
      "the lighter blue\n"
     ]
    },
    {
     "data": {
      "image/png": "[encoded data removed]",
      "text/plain": [
       "<Figure size 432x288 with 1 Axes>"
      ]
     },
     "metadata": {},
     "output_type": "display_data"
    },
    {
     "name": "stdout",
     "output_type": "stream",
     "text": [
      "41) Game: 2641-2 Round: 42\n",
      "pink\n"
     ]
    },
    {
     "data": {
      "image/png": "[encoded data removed]",
      "text/plain": [
       "<Figure size 432x288 with 1 Axes>"
      ]
     },
     "metadata": {},
     "output_type": "display_data"
    },
    {
     "name": "stdout",
     "output_type": "stream",
     "text": [
      "42) Game: 2641-2 Round: 43\n",
      "the most intense one\n"
     ]
    },
    {
     "data": {
      "image/png": "[encoded data removed]",
      "text/plain": [
       "<Figure size 432x288 with 1 Axes>"
      ]
     },
     "metadata": {},
     "output_type": "display_data"
    },
    {
     "name": "stdout",
     "output_type": "stream",
     "text": [
      "43) Game: 2641-2 Round: 44\n",
      "red\n"
     ]
    },
    {
     "data": {
      "image/png": "[encoded data removed]",
      "text/plain": [
       "<Figure size 432x288 with 1 Axes>"
      ]
     },
     "metadata": {},
     "output_type": "display_data"
    },
    {
     "name": "stdout",
     "output_type": "stream",
     "text": [
      "44) Game: 2641-2 Round: 45\n",
      "the greyish blue\n"
     ]
    },
    {
     "data": {
      "image/png": "[encoded data removed]",
      "text/plain": [
       "<Figure size 432x288 with 1 Axes>"
      ]
     },
     "metadata": {},
     "output_type": "display_data"
    },
    {
     "name": "stdout",
     "output_type": "stream",
     "text": [
      "45) Game: 2641-2 Round: 46\n",
      "blue\n"
     ]
    },
    {
     "data": {
      "image/png": "[encoded data removed]",
      "text/plain": [
       "<Figure size 432x288 with 1 Axes>"
      ]
     },
     "metadata": {},
     "output_type": "display_data"
    },
    {
     "name": "stdout",
     "output_type": "stream",
     "text": [
      "46) Game: 2641-2 Round: 47\n",
      "the yellower green\n"
     ]
    },
    {
     "data": {
      "image/png": "[encoded data removed]",
      "text/plain": [
       "<Figure size 432x288 with 1 Axes>"
      ]
     },
     "metadata": {},
     "output_type": "display_data"
    },
    {
     "name": "stdout",
     "output_type": "stream",
     "text": [
      "47) Game: 2641-2 Round: 48\n",
      "the brighter lavender\n"
     ]
    },
    {
     "data": {
      "image/png": "[encoded data removed]",
      "text/plain": [
       "<Figure size 432x288 with 1 Axes>"
      ]
     },
     "metadata": {},
     "output_type": "display_data"
    },
    {
     "name": "stdout",
     "output_type": "stream",
     "text": [
      "48) Game: 2641-2 Round: 49\n",
      "the pinker pink\n"
     ]
    },
    {
     "data": {
      "image/png": "[encoded data removed]",
      "text/plain": [
       "<Figure size 432x288 with 1 Axes>"
      ]
     },
     "metadata": {},
     "output_type": "display_data"
    },
    {
     "name": "stdout",
     "output_type": "stream",
     "text": [
      "49) Game: 2641-2 Round: 50\n",
      "the bluer grey\n"
     ]
    },
    {
     "data": {
      "image/png": "[encoded data removed]",
      "text/plain": [
       "<Figure size 432x288 with 1 Axes>"
      ]
     },
     "metadata": {},
     "output_type": "display_data"
    }
   ],
   "source": [
    "dev_data.display_game_for_gameid('2641-2')"
   ]
  },
  {
   "cell_type": "code",
   "execution_count": 87,
   "metadata": {},
   "outputs": [],
   "source": [
    "def subwordify(tokens):\n",
    "    word_tokens = [caption_phi_subword.caption_indexer.get_word_from_idx(t) for t in tokens]\n",
    "    return caption_phi_subword.tokenizer.untokenize(word_tokens)\n",
    "\n",
    "def wordify(tokens):\n",
    "    chars = [caption_phi.caption_indexer.get_word_from_idx(t) for t in tokens]\n",
    "    return \"\".join(chars)"
   ]
  },
  {
   "cell_type": "code",
   "execution_count": 85,
   "metadata": {
    "collapsed": true
   },
   "outputs": [
    {
     "name": "stdout",
     "output_type": "stream",
     "text": [
      "0) <sos>▁grey<eos>\n",
      "1) <sos>▁green<eos>\n",
      "2) <sos>▁purple<eos>\n",
      "3) <sos>▁blue<eos>\n",
      "4) <sos>▁orange<eos>\n",
      "5) <sos>▁pink<eos>\n",
      "6) <sos>▁green<eos>\n",
      "7) <sos>▁green<eos>\n",
      "8) <sos>▁green<eos>\n",
      "9) <sos>▁green<eos>\n",
      "10) <sos>▁grey<eos>\n",
      "11) <sos>▁grey<eos>\n",
      "12) <sos>▁tan<eos>\n",
      "13) <sos>▁yellow<eos>\n",
      "14) <sos>▁grey<eos>\n",
      "15) <sos>▁purple<eos>\n",
      "16) <sos>▁blue<eos>\n",
      "17) <sos>▁red<eos>\n",
      "18) <sos>▁green<eos>\n",
      "19) <sos>▁red<eos>\n",
      "20) <sos>▁light▁blue<eos>\n",
      "21) <sos>▁purple<eos>\n",
      "22) <sos>▁blue<eos>\n",
      "23) <sos>▁red<eos>\n",
      "24) <sos>▁purple<eos>\n",
      "25) <sos>▁green<eos>\n",
      "26) <sos>▁blue<eos>\n",
      "27) <sos>▁bright▁green<eos>\n",
      "28) <sos>▁grey<eos>\n",
      "29) <sos>▁grey<eos>\n",
      "30) <sos>▁bright▁green<eos>\n",
      "31) <sos>▁yellow<eos>\n",
      "32) <sos>▁green<eos>\n",
      "33) <sos>▁orange<eos>\n",
      "34) <sos>▁blue<eos>\n",
      "35) <sos>▁blue<eos>\n",
      "36) <sos>▁purple<eos>\n",
      "37) <sos>▁brown<eos>\n",
      "38) <sos>▁green<eos>\n",
      "39) <sos>▁grey<eos>\n",
      "40) <sos>▁blue<eos>\n",
      "41) <sos>▁red<eos>\n",
      "42) <sos>▁purple<eos>\n",
      "43) <sos>▁red<eos>\n",
      "44) <sos>▁grey<eos>\n",
      "45) <sos>▁blue<eos>\n",
      "46) <sos>▁green<eos>\n",
      "47) <sos>▁purple<eos>\n",
      "48) <sos>▁pink<eos>\n",
      "49) <sos>▁grey<eos>\n"
     ]
    }
   ],
   "source": [
    "for i, pred in enumerate(pred_subword):\n",
    "    print(f\"{i})\", subwordify(pred[0]))"
   ]
  },
  {
   "cell_type": "code",
   "execution_count": 90,
   "metadata": {},
   "outputs": [],
   "source": [
    "pred_char = model.predict(X_assess[:50])"
   ]
  },
  {
   "cell_type": "code",
   "execution_count": 91,
   "metadata": {
    "scrolled": true
   },
   "outputs": [
    {
     "name": "stdout",
     "output_type": "stream",
     "text": [
      "0) <sos>gray<eos>\n",
      "1) <sos>tan<eos>\n",
      "2) <sos>orange<eos>\n",
      "3) <sos>blue<eos>\n",
      "4) <sos>yellow<eos>\n",
      "5) <sos>brig\n",
      "6) <sos>green<eos>\n",
      "7) <sos>green<eos>\n",
      "8) <sos>green<eos>\n",
      "9) <sos>green<eos>\n",
      "10) <sos>gray<eos>\n",
      "11) <sos>green<eos>\n",
      "12) <sos>tan<eos>\n",
      "13) <sos>yellow<eos>\n",
      "14) <sos>gray<eos>\n",
      "15) <sos>purple<eos>\n",
      "16) <sos>blue<eos>\n",
      "17) <sos>red<eos>\n",
      "18) <sos>green<eos>\n",
      "19) <sos>orange<eos>\n",
      "20) <sos>purple<eos>\n",
      "21) <sos>purple<eos>\n",
      "22) <sos>blue<eos>\n",
      "23) <sos>red<eos>\n",
      "24) <sos>purple<eos>\n",
      "25) <sos>green<eos>\n",
      "26) <sos>blue<eos>\n",
      "27) <sos>green<eos>\n",
      "28) <sos>gray<eos>\n",
      "29) <sos>gray<eos>\n",
      "30) <sos>bright green<eos>\n",
      "31) <sos>yellow<eos>\n",
      "32) <sos>green<eos>\n",
      "33) <sos>orange<eos>\n",
      "34) <sos>blue<eos>\n",
      "35) <sos>blue<eos>\n",
      "36) <sos>brown<eos>\n",
      "37) <sos>brown<eos>\n",
      "38) <sos>green<eos>\n",
      "39) <sos>grey<eos>\n",
      "40) <sos>blue<eos>\n",
      "41) <sos>red<eos>\n",
      "42) <sos>purple<eos>\n",
      "43) <sos>red<eos>\n",
      "44) <sos>gray<eos>\n",
      "45) <sos>blue<eos>\n",
      "46) <sos>green<eos>\n",
      "47) <sos>purple<eos>\n",
      "48) <sos>pink<eos>\n",
      "49) <sos>gray<eos>\n"
     ]
    }
   ],
   "source": [
    "for i, pred in enumerate(pred_char):\n",
    "    print(f\"{i})\", wordify(pred[0]))"
   ]
  },
  {
   "cell_type": "code",
   "execution_count": null,
   "metadata": {},
   "outputs": [],
   "source": []
  }
 ],
 "metadata": {
  "kernelspec": {
   "display_name": "Python 3",
   "language": "python",
   "name": "python3"
  },
  "language_info": {
   "codemirror_mode": {
    "name": "ipython",
    "version": 3
   },
   "file_extension": ".py",
   "mimetype": "text/x-python",
   "name": "python",
   "nbconvert_exporter": "python",
   "pygments_lexer": "ipython3",
   "version": "3.6.8"
  }
 },
 "nbformat": 4,
 "nbformat_minor": 2
}
