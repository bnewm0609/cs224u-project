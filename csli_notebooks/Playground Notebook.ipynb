{
 "cells": [
  {
   "cell_type": "markdown",
   "metadata": {},
   "source": [
    "The purpose of this notebook is to play around with the speaker models"
   ]
  },
  {
   "cell_type": "code",
   "execution_count": 1,
   "metadata": {},
   "outputs": [],
   "source": [
    "# so we can access classes from parent directory\n",
    "import sys\n",
    "sys.path.append(\"..\")"
   ]
  },
  {
   "cell_type": "code",
   "execution_count": 124,
   "metadata": {},
   "outputs": [],
   "source": [
    "from monroe_data import MonroeData, MonroeDataEntry, Color # for loading in training data\n",
    "import caption_featurizers                              # for getting caption representations\n",
    "import color_featurizers                                # for getting color representations\n",
    "from experiment import FeatureHandler                   # for combining caption and color features\n",
    "\n",
    "from models import PytorchModel, LiteralSpeaker         # model base that handles training / evaluation\n",
    "from models import CharacterCaptionGenerator\n",
    "\n",
    "from functools import partial"
   ]
  },
  {
   "cell_type": "code",
   "execution_count": 9,
   "metadata": {},
   "outputs": [],
   "source": [
    "# set up dev data to play with\n",
    "train_data = MonroeData(\"../data/csv/train_corpus_monroe.csv\", \"../data/entries/train_entries_monroe.pkl\")\n",
    "dev_data = MonroeData(\"../data/csv/dev_corpus_monroe.csv\", \"../data/entries/dev_entries_monroe.pkl\")"
   ]
  },
  {
   "cell_type": "code",
   "execution_count": 67,
   "metadata": {},
   "outputs": [],
   "source": [
    "# set up caption featurizer with same vocab as with training\n",
    "caption_phi = caption_featurizers.CaptionFeaturizer(tokenizer = caption_featurizers.CharacterTokenizer)\n",
    "caption_phi.construct_featurizer(train_data)"
   ]
  },
  {
   "cell_type": "code",
   "execution_count": 163,
   "metadata": {},
   "outputs": [],
   "source": [
    "def wordify(idx_array):\n",
    "    return \"\".join([caption_phi.caption_indexer.get_word_from_idx(i) for i in idx_array[0]])\n",
    "\n",
    "\n",
    "def literal_speaker(value, s0_model, phi, phi_space, space=\"rgb\", display=True):\n",
    "    \"\"\"Takes non-normed, either rgb or hsl color and gets the \"\"\"\n",
    "    color = Color(*value, space=space)\n",
    "    \n",
    "    color_features = phi(color.__dict__[phi_space], space=phi_space) # access color representation using variable name as string\n",
    "    \n",
    "    sos = caption_phi.caption_indexer.get_idx_from_word(caption_phi.caption_indexer.SOS)\n",
    "    eos = caption_phi.caption_indexer.get_idx_from_word(caption_phi.caption_indexer.EOS)\n",
    "    predictions = s0_model.predict([[[sos, eos], [color_features]]], sample=3, beam_width=5)[0] # only one color-conntext\n",
    "    print(predictions)\n",
    "    captions = [wordify([prediction]) for prediction in predictions]\n",
    "    print(captions)\n",
    "    if display:\n",
    "        train_data.display_target(color.rgb_norm, captions[0])\n",
    "    return captions"
   ]
  },
  {
   "cell_type": "markdown",
   "metadata": {},
   "source": [
    "# Fourier Speaker"
   ]
  },
  {
   "cell_type": "code",
   "execution_count": 126,
   "metadata": {},
   "outputs": [],
   "source": [
    "# set up model\n",
    "model_fourier = LiteralSpeaker(CharacterCaptionGenerator, max_gen_len=40)\n",
    "model_fourier.init_model(color_in_dim=54, color_dim=50, vocab_size=caption_phi.caption_indexer.size,\n",
    "                       embed_dim=50, speaker_hidden_dim=100)\n",
    "model_fourier.load_model(\"../model/character_literal_speaker.params\")"
   ]
  },
  {
   "cell_type": "code",
   "execution_count": 164,
   "metadata": {},
   "outputs": [],
   "source": [
    "s0_fourier = partial(literal_speaker, s0_model=model_fourier, phi=color_featurizers.color_phi_fourier, \n",
    "                     phi_space=\"hsv_norm\")"
   ]
  },
  {
   "cell_type": "code",
   "execution_count": 165,
   "metadata": {},
   "outputs": [
    {
     "name": "stdout",
     "output_type": "stream",
     "text": [
      "[array([ 0, 12,  7,  6, 13, 19,  3, 14]), array([ 0, 24,  6, 13, 14]), array([ 0,  7,  3,  5, 14])]\n",
      "['<sos>orange<eos>', '<sos>yan<eos>', '<sos>red<eos>']\n",
      "<sos>orange<eos>\n"
     ]
    },
    {
     "data": {
      "image/png": "[encoded data removed]",
      "text/plain": [
       "<Figure size 432x288 with 1 Axes>"
      ]
     },
     "metadata": {},
     "output_type": "display_data"
    },
    {
     "data": {
      "text/plain": [
       "['<sos>orange<eos>', '<sos>yan<eos>', '<sos>red<eos>']"
      ]
     },
     "execution_count": 165,
     "metadata": {},
     "output_type": "execute_result"
    }
   ],
   "source": [
    "s0_fourier([218,173,79])"
   ]
  },
  {
   "cell_type": "code",
   "execution_count": 166,
   "metadata": {},
   "outputs": [
    {
     "name": "stdout",
     "output_type": "stream",
     "text": [
      "[array([ 0,  7,  3,  5, 14]), array([ 0,  7,  3,  5, 17, 23,  2, 14]), array([ 0, 15, 17, 13,  8, 14])]\n",
      "['<sos>red<eos>', '<sos>redish<eos>', '<sos>pink<eos>']\n",
      "<sos>red<eos>\n"
     ]
    },
    {
     "data": {
      "image/png": "[encoded data removed]",
      "text/plain": [
       "<Figure size 432x288 with 1 Axes>"
      ]
     },
     "metadata": {},
     "output_type": "display_data"
    },
    {
     "data": {
      "text/plain": [
       "['<sos>red<eos>', '<sos>redish<eos>', '<sos>pink<eos>']"
      ]
     },
     "execution_count": 166,
     "metadata": {},
     "output_type": "execute_result"
    }
   ],
   "source": [
    "s0_fourier([244,31,36])"
   ]
  },
  {
   "cell_type": "code",
   "execution_count": 129,
   "metadata": {},
   "outputs": [
    {
     "name": "stdout",
     "output_type": "stream",
     "text": [
      "0 <sos>brown<eos>\n",
      "1 <sos>brown<eos>\n",
      "2 <sos>brown<eos>\n",
      "3 <sos>brown<eos>\n",
      "4 <sos>brown<eos>\n",
      "5 <sos>brown<eos>\n",
      "6 <sos>brown<eos>\n",
      "7 <sos>brown<eos>\n",
      "8 <sos>brown<eos>\n",
      "9 <sos>brown<eos>\n",
      "10 <sos>brown<eos>\n",
      "11 <sos>brown<eos>\n",
      "12 <sos>brown<eos>\n",
      "13 <sos>brown<eos>\n",
      "14 <sos>brown<eos>\n",
      "15 <sos>brown<eos>\n",
      "16 <sos>brown<eos>\n",
      "17 <sos>brown<eos>\n",
      "18 <sos>brown<eos>\n",
      "19 <sos>brown<eos>\n",
      "20 <sos>brown<eos>\n",
      "21 <sos>brown<eos>\n",
      "22 <sos>brown<eos>\n",
      "23 <sos>brown<eos>\n",
      "24 <sos>brown<eos>\n",
      "25 <sos>brown<eos>\n",
      "26 <sos>brown<eos>\n",
      "27 <sos>brown<eos>\n",
      "28 <sos>brown<eos>\n",
      "29 <sos>brown<eos>\n",
      "30 <sos>brown<eos>\n",
      "31 <sos>brown<eos>\n",
      "32 <sos>brown<eos>\n",
      "33 <sos>brown<eos>\n",
      "34 <sos>brown<eos>\n",
      "35 <sos>brown<eos>\n",
      "36 <sos>brown<eos>\n",
      "37 <sos>brown<eos>\n",
      "38 <sos>brown<eos>\n",
      "39 <sos>brown<eos>\n",
      "40 <sos>brown<eos>\n",
      "41 <sos>brown<eos>\n",
      "42 <sos>brown<eos>\n",
      "43 <sos>grey<eos>\n",
      "44 <sos>grey<eos>\n",
      "45 <sos>grey<eos>\n",
      "46 <sos>grey<eos>\n",
      "47 <sos>grey<eos>\n",
      "48 <sos>grey<eos>\n",
      "49 <sos>grey<eos>\n",
      "50 <sos>grey<eos>\n",
      "51 <sos>grey<eos>\n",
      "52 <sos>grey<eos>\n",
      "53 <sos>grey<eos>\n",
      "54 <sos>grey<eos>\n",
      "55 <sos>grey<eos>\n",
      "56 <sos>grey<eos>\n",
      "57 <sos>grey<eos>\n",
      "58 <sos>gray<eos>\n",
      "59 <sos>gray<eos>\n",
      "60 <sos>gray<eos>\n",
      "61 <sos>gray<eos>\n",
      "62 <sos>gray<eos>\n",
      "63 <sos>gray<eos>\n",
      "64 <sos>gray<eos>\n",
      "65 <sos>gray<eos>\n",
      "66 <sos>gray<eos>\n",
      "67 <sos>gray<eos>\n",
      "68 <sos>gray<eos>\n",
      "69 <sos>gray<eos>\n",
      "70 <sos>gray<eos>\n",
      "71 <sos>gray<eos>\n",
      "72 <sos>gray<eos>\n",
      "73 <sos>gray<eos>\n",
      "74 <sos>gray<eos>\n",
      "75 <sos>gray<eos>\n",
      "76 <sos>gray<eos>\n",
      "77 <sos>gray<eos>\n",
      "78 <sos>gray<eos>\n",
      "79 <sos>gray<eos>\n",
      "80 <sos>gray<eos>\n",
      "81 <sos>gray<eos>\n",
      "82 <sos>gray<eos>\n",
      "83 <sos>gray<eos>\n",
      "84 <sos>gray<eos>\n",
      "85 <sos>gray<eos>\n",
      "86 <sos>gray<eos>\n",
      "87 <sos>gray<eos>\n",
      "88 <sos>gray<eos>\n",
      "89 <sos>gray<eos>\n",
      "90 <sos>gray<eos>\n",
      "91 <sos>gray<eos>\n",
      "92 <sos>gray<eos>\n",
      "93 <sos>gray<eos>\n",
      "94 <sos>gray<eos>\n",
      "95 <sos>gray<eos>\n",
      "96 <sos>gray<eos>\n",
      "97 <sos>gray<eos>\n",
      "98 <sos>gray<eos>\n",
      "99 <sos>gray<eos>\n",
      "100 <sos>gray<eos>\n",
      "101 <sos>gray<eos>\n",
      "102 <sos>gray<eos>\n",
      "103 <sos>gray<eos>\n",
      "104 <sos>gray<eos>\n",
      "105 <sos>gray<eos>\n",
      "106 <sos>gray<eos>\n",
      "107 <sos>gray<eos>\n",
      "108 <sos>gray<eos>\n",
      "109 <sos>gray<eos>\n",
      "110 <sos>gray<eos>\n",
      "111 <sos>gray<eos>\n",
      "112 <sos>gray<eos>\n",
      "113 <sos>gray<eos>\n",
      "114 <sos>gray<eos>\n",
      "115 <sos>gray<eos>\n",
      "116 <sos>gray<eos>\n",
      "117 <sos>gray<eos>\n",
      "118 <sos>gray<eos>\n",
      "119 <sos>gray<eos>\n",
      "120 <sos>gray<eos>\n",
      "121 <sos>gray<eos>\n",
      "122 <sos>gray<eos>\n",
      "123 <sos>gray<eos>\n",
      "124 <sos>gray<eos>\n",
      "125 <sos>gray<eos>\n",
      "126 <sos>gray<eos>\n",
      "127 <sos>gray<eos>\n",
      "128 <sos>gray<eos>\n",
      "129 <sos>gray<eos>\n",
      "130 <sos>gray<eos>\n",
      "131 <sos>gray<eos>\n",
      "132 <sos>gray<eos>\n",
      "133 <sos>gray<eos>\n",
      "134 <sos>gray<eos>\n",
      "135 <sos>gray<eos>\n",
      "136 <sos>gray<eos>\n",
      "137 <sos>gray<eos>\n",
      "138 <sos>gray<eos>\n",
      "139 <sos>gray<eos>\n",
      "140 <sos>gray<eos>\n",
      "141 <sos>gray<eos>\n",
      "142 <sos>gray<eos>\n",
      "143 <sos>gray<eos>\n",
      "144 <sos>gray<eos>\n",
      "145 <sos>gray<eos>\n",
      "146 <sos>gray<eos>\n",
      "147 <sos>gray<eos>\n",
      "148 <sos>gray<eos>\n",
      "149 <sos>gray<eos>\n",
      "150 <sos>gray<eos>\n",
      "151 <sos>gray<eos>\n",
      "152 <sos>gray<eos>\n",
      "153 <sos>gray<eos>\n",
      "154 <sos>gray<eos>\n",
      "155 <sos>gray<eos>\n",
      "156 <sos>gray<eos>\n",
      "157 <sos>gray<eos>\n",
      "158 <sos>gray<eos>\n",
      "159 <sos>gray<eos>\n",
      "160 <sos>gray<eos>\n",
      "161 <sos>gray<eos>\n",
      "162 <sos>gray<eos>\n",
      "163 <sos>gray<eos>\n",
      "164 <sos>gray<eos>\n",
      "165 <sos>gray<eos>\n",
      "166 <sos>gray<eos>\n",
      "167 <sos>gray<eos>\n",
      "168 <sos>gray<eos>\n",
      "169 <sos>gray<eos>\n",
      "170 <sos>gray<eos>\n",
      "171 <sos>gray<eos>\n",
      "172 <sos>gray<eos>\n",
      "173 <sos>gray<eos>\n",
      "174 <sos>gray<eos>\n",
      "175 <sos>gray<eos>\n",
      "176 <sos>gray<eos>\n",
      "177 <sos>gray<eos>\n",
      "178 <sos>gray<eos>\n",
      "179 <sos>gray<eos>\n",
      "180 <sos>gray<eos>\n",
      "181 <sos>gray<eos>\n",
      "182 <sos>gray<eos>\n",
      "183 <sos>gray<eos>\n",
      "184 <sos>gray<eos>\n",
      "185 <sos>gray<eos>\n",
      "186 <sos>gray<eos>\n",
      "187 <sos>gray<eos>\n",
      "188 <sos>gray<eos>\n",
      "189 <sos>gray<eos>\n",
      "190 <sos>gray<eos>\n",
      "191 <sos>gray<eos>\n",
      "192 <sos>gray<eos>\n",
      "193 <sos>gray<eos>\n",
      "194 <sos>gray<eos>\n",
      "195 <sos>gray<eos>\n",
      "196 <sos>gray<eos>\n",
      "197 <sos>gray<eos>\n",
      "198 <sos>gray<eos>\n",
      "199 <sos>gray<eos>\n",
      "200 <sos>gray<eos>\n",
      "201 <sos>brown<eos>\n",
      "202 <sos>brown<eos>\n",
      "203 <sos>brown<eos>\n",
      "204 <sos>brown<eos>\n",
      "205 <sos>brown<eos>\n",
      "206 <sos>brown<eos>\n",
      "207 <sos>brown<eos>\n",
      "208 <sos>brown<eos>\n",
      "209 <sos>brown<eos>\n",
      "210 <sos>brown<eos>\n",
      "211 <sos>brown<eos>\n",
      "212 <sos>brown<eos>\n",
      "213 <sos>brown<eos>\n",
      "214 <sos>red<eos>\n",
      "215 <sos>red<eos>\n",
      "216 <sos>red<eos>\n",
      "217 <sos>red<eos>\n",
      "218 <sos>red<eos>\n",
      "219 <sos>red<eos>\n",
      "220 <sos>red<eos>\n",
      "221 <sos>red<eos>\n",
      "222 <sos>red<eos>\n",
      "223 <sos>red<eos>\n",
      "224 <sos>red<eos>\n",
      "225 <sos>red<eos>\n",
      "226 <sos>red<eos>\n",
      "227 <sos>red<eos>\n",
      "228 <sos>red<eos>\n",
      "229 <sos>red<eos>\n",
      "230 <sos>red<eos>\n",
      "231 <sos>red<eos>\n",
      "232 <sos>red<eos>\n",
      "233 <sos>red<eos>\n",
      "234 <sos>red<eos>\n",
      "235 <sos>red<eos>\n",
      "236 <sos>red<eos>\n",
      "237 <sos>red<eos>\n",
      "238 <sos>red<eos>\n",
      "239 <sos>red<eos>\n",
      "240 <sos>red<eos>\n",
      "241 <sos>red<eos>\n",
      "242 <sos>red<eos>\n",
      "243 <sos>red<eos>\n",
      "244 <sos>red<eos>\n",
      "245 <sos>red<eos>\n",
      "246 <sos>red<eos>\n",
      "247 <sos>red<eos>\n",
      "248 <sos>red<eos>\n",
      "249 <sos>red<eos>\n",
      "250 <sos>red<eos>\n",
      "251 <sos>red<eos>\n",
      "252 <sos>red<eos>\n",
      "253 <sos>red<eos>\n",
      "254 <sos>red<eos>\n",
      "255 <sos>red<eos>\n"
     ]
    }
   ],
   "source": [
    "for i in range(256):\n",
    "    print(i, s0_fourier([i, i, i], display=False))"
   ]
  },
  {
   "cell_type": "markdown",
   "metadata": {},
   "source": [
    "# HSV Speaker"
   ]
  },
  {
   "cell_type": "code",
   "execution_count": 83,
   "metadata": {},
   "outputs": [],
   "source": [
    "# set up model\n",
    "model_hsv = LiteralSpeaker(CharacterCaptionGenerator, max_gen_len=40)\n",
    "model_hsv.init_model(color_in_dim=3, color_dim=50, vocab_size=caption_phi.caption_indexer.size,\n",
    "                       embed_dim=50, speaker_hidden_dim=100)\n",
    "model_hsv.load_model(\"../model/character_literal_speaker_hsv.params\")"
   ]
  },
  {
   "cell_type": "code",
   "execution_count": 132,
   "metadata": {},
   "outputs": [],
   "source": [
    "# partially evaluate the literal_speaker function with the parameters model_hsv requires\n",
    "s0_hsv = partial(literal_speaker, s0_model=model_hsv, phi=color_featurizers.color_phi_id, \n",
    "                     phi_space=\"hsv_norm\")"
   ]
  },
  {
   "cell_type": "code",
   "execution_count": 133,
   "metadata": {},
   "outputs": [
    {
     "name": "stdout",
     "output_type": "stream",
     "text": [
      "<sos>red<eos>\n"
     ]
    },
    {
     "data": {
      "image/png": "[encoded data removed]",
      "text/plain": [
       "<Figure size 432x288 with 1 Axes>"
      ]
     },
     "metadata": {},
     "output_type": "display_data"
    },
    {
     "data": {
      "text/plain": [
       "'<sos>red<eos>'"
      ]
     },
     "execution_count": 133,
     "metadata": {},
     "output_type": "execute_result"
    }
   ],
   "source": [
    "s0_hsv([244,31,36]) # for rgb values (244, 31, 36)"
   ]
  },
  {
   "cell_type": "code",
   "execution_count": 134,
   "metadata": {
    "scrolled": true
   },
   "outputs": [
    {
     "name": "stdout",
     "output_type": "stream",
     "text": [
      "0 <sos>blue<eos>\n",
      "1 <sos>blue<eos>\n",
      "2 <sos>blue<eos>\n",
      "3 <sos>blue<eos>\n",
      "4 <sos>blue<eos>\n",
      "5 <sos>blue<eos>\n",
      "6 <sos>blue<eos>\n",
      "7 <sos>blue<eos>\n",
      "8 <sos>blue<eos>\n",
      "9 <sos>blue<eos>\n",
      "10 <sos>blue<eos>\n",
      "11 <sos>blue<eos>\n",
      "12 <sos>blue<eos>\n",
      "13 <sos>blue<eos>\n",
      "14 <sos>blue<eos>\n",
      "15 <sos>blue<eos>\n",
      "16 <sos>blue<eos>\n",
      "17 <sos>blue<eos>\n",
      "18 <sos>blue<eos>\n",
      "19 <sos>blue<eos>\n",
      "20 <sos>blue<eos>\n",
      "21 <sos>blue<eos>\n",
      "22 <sos>blue<eos>\n",
      "23 <sos>blue<eos>\n",
      "24 <sos>blue<eos>\n",
      "25 <sos>blue<eos>\n",
      "26 <sos>blue<eos>\n",
      "27 <sos>blue<eos>\n",
      "28 <sos>blue<eos>\n",
      "29 <sos>blue<eos>\n",
      "30 <sos>blue<eos>\n",
      "31 <sos>blue<eos>\n",
      "32 <sos>blue<eos>\n",
      "33 <sos>blue<eos>\n",
      "34 <sos>blue<eos>\n",
      "35 <sos>purple<eos>\n",
      "36 <sos>blue<eos>\n",
      "37 <sos>purple<eos>\n",
      "38 <sos>purple<eos>\n",
      "39 <sos>purple<eos>\n",
      "40 <sos>purple<eos>\n",
      "41 <sos>purple<eos>\n",
      "42 <sos>purple<eos>\n",
      "43 <sos>purple<eos>\n",
      "44 <sos>purple<eos>\n",
      "45 <sos>purple<eos>\n",
      "46 <sos>purple<eos>\n",
      "47 <sos>purple<eos>\n",
      "48 <sos>purple<eos>\n",
      "49 <sos>purple<eos>\n",
      "50 <sos>purple<eos>\n",
      "51 <sos>purple<eos>\n",
      "52 <sos>purple<eos>\n",
      "53 <sos>purple<eos>\n",
      "54 <sos>purple<eos>\n",
      "55 <sos>purple<eos>\n",
      "56 <sos>purple<eos>\n",
      "57 <sos>purple<eos>\n",
      "58 <sos>purple<eos>\n",
      "59 <sos>purple<eos>\n",
      "60 <sos>purple<eos>\n",
      "61 <sos>purple<eos>\n",
      "62 <sos>purple<eos>\n",
      "63 <sos>purple<eos>\n",
      "64 <sos>purple<eos>\n",
      "65 <sos>purple<eos>\n",
      "66 <sos>purple<eos>\n",
      "67 <sos>grey<eos>\n",
      "68 <sos>grey<eos>\n",
      "69 <sos>grey<eos>\n",
      "70 <sos>grey<eos>\n",
      "71 <sos>grey<eos>\n",
      "72 <sos>grey<eos>\n",
      "73 <sos>grey<eos>\n",
      "74 <sos>grey<eos>\n",
      "75 <sos>grey<eos>\n",
      "76 <sos>grey<eos>\n",
      "77 <sos>grey<eos>\n",
      "78 <sos>grey<eos>\n",
      "79 <sos>grey<eos>\n",
      "80 <sos>grey<eos>\n",
      "81 <sos>grey<eos>\n",
      "82 <sos>grey<eos>\n",
      "83 <sos>grey<eos>\n",
      "84 <sos>grey<eos>\n",
      "85 <sos>grey<eos>\n",
      "86 <sos>grey<eos>\n",
      "87 <sos>gray<eos>\n",
      "88 <sos>gray<eos>\n",
      "89 <sos>gray<eos>\n",
      "90 <sos>gray<eos>\n",
      "91 <sos>gray<eos>\n",
      "92 <sos>gray<eos>\n",
      "93 <sos>gray<eos>\n",
      "94 <sos>gray<eos>\n",
      "95 <sos>gray<eos>\n",
      "96 <sos>gray<eos>\n",
      "97 <sos>gray<eos>\n",
      "98 <sos>gray<eos>\n",
      "99 <sos>gray<eos>\n",
      "100 <sos>gray<eos>\n",
      "101 <sos>gray<eos>\n",
      "102 <sos>gray<eos>\n",
      "103 <sos>gray<eos>\n",
      "104 <sos>gray<eos>\n",
      "105 <sos>gray<eos>\n",
      "106 <sos>gray<eos>\n",
      "107 <sos>gray<eos>\n",
      "108 <sos>gray<eos>\n",
      "109 <sos>gray<eos>\n",
      "110 <sos>gray<eos>\n",
      "111 <sos>gray<eos>\n",
      "112 <sos>gray<eos>\n",
      "113 <sos>gray<eos>\n",
      "114 <sos>gray<eos>\n",
      "115 <sos>gray<eos>\n",
      "116 <sos>gray<eos>\n",
      "117 <sos>grey<eos>\n",
      "118 <sos>grey<eos>\n",
      "119 <sos>grey<eos>\n",
      "120 <sos>grey<eos>\n",
      "121 <sos>grey<eos>\n",
      "122 <sos>grey<eos>\n",
      "123 <sos>grey<eos>\n",
      "124 <sos>grey<eos>\n",
      "125 <sos>grey<eos>\n",
      "126 <sos>grey<eos>\n",
      "127 <sos>grey<eos>\n",
      "128 <sos>grey<eos>\n",
      "129 <sos>grey<eos>\n",
      "130 <sos>grey<eos>\n",
      "131 <sos>grey<eos>\n",
      "132 <sos>grey<eos>\n",
      "133 <sos>grey<eos>\n",
      "134 <sos>grey<eos>\n",
      "135 <sos>grey<eos>\n",
      "136 <sos>grey<eos>\n",
      "137 <sos>grey<eos>\n",
      "138 <sos>grey<eos>\n",
      "139 <sos>grey<eos>\n",
      "140 <sos>grey<eos>\n",
      "141 <sos>grey<eos>\n",
      "142 <sos>grey<eos>\n",
      "143 <sos>grey<eos>\n",
      "144 <sos>grey<eos>\n",
      "145 <sos>grey<eos>\n",
      "146 <sos>brown<eos>\n",
      "147 <sos>brown<eos>\n",
      "148 <sos>brown<eos>\n",
      "149 <sos>brown<eos>\n",
      "150 <sos>brown<eos>\n",
      "151 <sos>brown<eos>\n",
      "152 <sos>brown<eos>\n",
      "153 <sos>brown<eos>\n",
      "154 <sos>brown<eos>\n",
      "155 <sos>brown<eos>\n",
      "156 <sos>brown<eos>\n",
      "157 <sos>brown<eos>\n",
      "158 <sos>brown<eos>\n",
      "159 <sos>brown<eos>\n",
      "160 <sos>brown<eos>\n",
      "161 <sos>brown<eos>\n",
      "162 <sos>brown<eos>\n",
      "163 <sos>brown<eos>\n",
      "164 <sos>brown<eos>\n",
      "165 <sos>brown<eos>\n",
      "166 <sos>brown<eos>\n",
      "167 <sos>brown<eos>\n",
      "168 <sos>brown<eos>\n",
      "169 <sos>brown<eos>\n",
      "170 <sos>brown<eos>\n",
      "171 <sos>brown<eos>\n",
      "172 <sos>brown<eos>\n",
      "173 <sos>brown<eos>\n",
      "174 <sos>brown<eos>\n",
      "175 <sos>brown<eos>\n",
      "176 <sos>brown<eos>\n",
      "177 <sos>brown<eos>\n",
      "178 <sos>brown<eos>\n",
      "179 <sos>brown<eos>\n",
      "180 <sos>brown<eos>\n",
      "181 <sos>brown<eos>\n",
      "182 <sos>brown<eos>\n",
      "183 <sos>brown<eos>\n",
      "184 <sos>brown<eos>\n",
      "185 <sos>brown<eos>\n",
      "186 <sos>brown<eos>\n",
      "187 <sos>brown<eos>\n",
      "188 <sos>brown<eos>\n",
      "189 <sos>brown<eos>\n",
      "190 <sos>brown<eos>\n",
      "191 <sos>brown<eos>\n",
      "192 <sos>brown<eos>\n",
      "193 <sos>brown<eos>\n",
      "194 <sos>brown<eos>\n",
      "195 <sos>brown<eos>\n",
      "196 <sos>brown<eos>\n",
      "197 <sos>brown<eos>\n",
      "198 <sos>brown<eos>\n",
      "199 <sos>brown<eos>\n",
      "200 <sos>brown<eos>\n",
      "201 <sos>brown<eos>\n",
      "202 <sos>brown<eos>\n",
      "203 <sos>brown<eos>\n",
      "204 <sos>brown<eos>\n",
      "205 <sos>brown<eos>\n",
      "206 <sos>brown<eos>\n",
      "207 <sos>brown<eos>\n",
      "208 <sos>brown<eos>\n",
      "209 <sos>brown<eos>\n",
      "210 <sos>brown<eos>\n",
      "211 <sos>brown<eos>\n",
      "212 <sos>brown<eos>\n",
      "213 <sos>brown<eos>\n",
      "214 <sos>brown<eos>\n",
      "215 <sos>brown<eos>\n",
      "216 <sos>brown<eos>\n",
      "217 <sos>brown<eos>\n",
      "218 <sos>brown<eos>\n",
      "219 <sos>brown<eos>\n",
      "220 <sos>brown<eos>\n",
      "221 <sos>brown<eos>\n",
      "222 <sos>brown<eos>\n",
      "223 <sos>brown<eos>\n",
      "224 <sos>brown<eos>\n",
      "225 <sos>brown<eos>\n",
      "226 <sos>brown<eos>\n",
      "227 <sos>brown<eos>\n",
      "228 <sos>brown<eos>\n",
      "229 <sos>brown<eos>\n",
      "230 <sos>brown<eos>\n",
      "231 <sos>brown<eos>\n",
      "232 <sos>brown<eos>\n",
      "233 <sos>brown<eos>\n",
      "234 <sos>brown<eos>\n",
      "235 <sos>brown<eos>\n",
      "236 <sos>brown<eos>\n",
      "237 <sos>brown<eos>\n",
      "238 <sos>brown<eos>\n",
      "239 <sos>brown<eos>\n",
      "240 <sos>brown<eos>\n",
      "241 <sos>brown<eos>\n",
      "242 <sos>brown<eos>\n",
      "243 <sos>brown<eos>\n",
      "244 <sos>brown<eos>\n",
      "245 <sos>brown<eos>\n",
      "246 <sos>brown<eos>\n",
      "247 <sos>brown<eos>\n",
      "248 <sos>brown<eos>\n",
      "249 <sos>brown<eos>\n",
      "250 <sos>brown<eos>\n",
      "251 <sos>brown<eos>\n",
      "252 <sos>brown<eos>\n",
      "253 <sos>brown<eos>\n",
      "254 <sos>brown<eos>\n",
      "255 <sos>brown<eos>\n"
     ]
    }
   ],
   "source": [
    "for i in range(256):\n",
    "    print(i, s0_hsv([i, i, 100], display=False))"
   ]
  },
  {
   "cell_type": "markdown",
   "metadata": {},
   "source": [
    "# RGB Speaker"
   ]
  },
  {
   "cell_type": "code",
   "execution_count": 135,
   "metadata": {},
   "outputs": [],
   "source": [
    "# set up model\n",
    "model_rgb = LiteralSpeaker(CharacterCaptionGenerator, max_gen_len=40)\n",
    "model_rgb.init_model(color_in_dim=3, color_dim=50, vocab_size=caption_phi.caption_indexer.size,\n",
    "                    embed_dim=50, speaker_hidden_dim=100)\n",
    "model_rgb.load_model(\"../model/character_literal_speaker_rgb.params\")"
   ]
  },
  {
   "cell_type": "code",
   "execution_count": 136,
   "metadata": {},
   "outputs": [],
   "source": [
    "# partially evaluate literal speaker function with the parameters model_rgb requires\n",
    "s0_rgb = partial(literal_speaker, s0_model=model_rgb, phi=color_featurizers.color_phi_id, \n",
    "                     phi_space=\"rgb_norm\")"
   ]
  },
  {
   "cell_type": "code",
   "execution_count": 137,
   "metadata": {},
   "outputs": [
    {
     "name": "stdout",
     "output_type": "stream",
     "text": [
      "<sos>redish<eos>\n"
     ]
    },
    {
     "data": {
      "image/png": "[encoded data removed]",
      "text/plain": [
       "<Figure size 432x288 with 1 Axes>"
      ]
     },
     "metadata": {},
     "output_type": "display_data"
    },
    {
     "data": {
      "text/plain": [
       "'<sos>redish<eos>'"
      ]
     },
     "execution_count": 137,
     "metadata": {},
     "output_type": "execute_result"
    }
   ],
   "source": [
    "s0_rgb([244,31,36])"
   ]
  }
 ],
 "metadata": {
  "kernelspec": {
   "display_name": "Python 3",
   "language": "python",
   "name": "python3"
  },
  "language_info": {
   "codemirror_mode": {
    "name": "ipython",
    "version": 3
   },
   "file_extension": ".py",
   "mimetype": "text/x-python",
   "name": "python",
   "nbconvert_exporter": "python",
   "pygments_lexer": "ipython3",
   "version": "3.6.8"
  }
 },
 "nbformat": 4,
 "nbformat_minor": 2
}
