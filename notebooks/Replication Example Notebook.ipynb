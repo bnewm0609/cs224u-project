{
 "cells": [
  {
   "cell_type": "code",
   "execution_count": 1,
   "metadata": {},
   "outputs": [],
   "source": [
    "import sys\n",
    "sys.path.append(\"..\")"
   ]
  },
  {
   "cell_type": "code",
   "execution_count": 2,
   "metadata": {},
   "outputs": [],
   "source": [
    "import copy\n",
    "from io import StringIO     # for converting DataFrames to MonroeDataEntry lists\n",
    "import numpy as np\n",
    "import matplotlib.pyplot as plt\n",
    "import pandas as pd # for reading CSV\n",
    "\n",
    "from color_eval_utils import normalize, flatten\n",
    "from color_eval_utils import plot_score_dists\n",
    "from color_eval_utils import NgramMetrics, ListenerMetrics\n",
    "from monroe_data import MonroeData, MonroeDataEntry, Color # stores data\n",
    "\n",
    "%matplotlib inline"
   ]
  },
  {
   "cell_type": "markdown",
   "metadata": {},
   "source": [
    "# 1. Load in Data\n",
    "All of the data from our experiments is in the file \"clean_data.csv\" in the data/csv directory. This includes both the data we collected and the entries from the Monroe et al., 2017 data we used.\n",
    "\n",
    "Rows:\n",
    "- Each row is an entry containing information about a single listener's color selection given a set of three colors and a candidate caption.\n",
    "\n",
    "Columns:\n",
    "- __contextId__: Of the form ci{id}.{flipped}\n",
    "    - id: indicates which group of three colors are in the context. (ranges from 0 to 179)\n",
    "    - flipped: 0 the target color is the same as in the Monroe dataset (unflipped), and 1 if the Monroe distr1 is the target instead (flipped). These two conditions let us calculate scores for misleading captions.\n",
    "- __contextNum__: Identifies a unique caption within the entries with the same contextId. Our data have contextNums from 0 to 9, monroe data is 10 and above.\n",
    "- __condition__: Color distances from Monroe data: close, split, or far\n",
    "- __quality__: Whether the speakers generating the captions were instructed to be descriptive or ambiguous (descriptive, ambiguous)\n",
    "- __clickStatus__, __alt1Status__, __alt2Status__: Indicates which color the listener clicked on, and which ones they did not: (target, distr1, distr2)\n",
    "- __clickColH__, __clickColS__, __clickColL__, __alt1ColH__, __alt1ColS__, __alt1ColL__, __alt2ColH__, __alt2ColS__, __alt2ColL__: The HSL values for the color the listener clicked on and the alternate colors\n",
    "- __clickLocS__, __clickalt1S__, __clickalt2S__: Where the speaker saw each of the colors when generating the caption. Target was always on the left in postition 0. Positions are numbered from left to right, 0, 1, 2\n",
    "- __clickLocL__, __clickalt1L__, __clickalt2L__: Where the listener saw each of the colors when trying to identify the target.\n",
    "- __targetD1Diff__, __targetD2Diff__, __D1D2Diff__: CIEDE2000 color differecnes between the target and distractors.\n",
    "- __outcome__: True if the listener chose the target, false otherwise\n",
    "- __contents__: The candidate caption the listener saw.\n",
    "\n",
    "\n",
    "For the data we collect, we had three humans play the listener role with each speaker utterance, so our data has three entries with the same contextId, contextNum pair. For the Monroe Data, there is only one listener, so there is only one entry with the contextId, contextNum pair.\n",
    "\n",
    "Also note that we did not collect human listener data for all of the ambiguous candidates. Some of these ambiguous candidates were also among the descriptive candidates for their contexts, so we did not collect the same data twice. (Because these captions are descriptive, they are also not ambiguous so we do not include them in our ambiguous candidates in our analysis). They are indicated by rows with NaN values."
   ]
  },
  {
   "cell_type": "code",
   "execution_count": 5,
   "metadata": {},
   "outputs": [],
   "source": [
    "# We set single_speaker to false to not do any Monroe et al-specific preprocessing\n",
    "all_data = MonroeData(\"../data/csv/clean_data.csv\", single_speaker=False)"
   ]
  },
  {
   "cell_type": "markdown",
   "metadata": {},
   "source": [
    "# 2. Separate Data\n",
    "\n",
    "We separate the data along two axis:\n",
    "1. Descriptive vs. Ambiguous: Whether the speaker was attempting to distinguish the target from the distractors (descriptive) or was trying to make it difficult for listeners to choose the target by generating a vague, but true description (ambiguous)\n",
    "2. Unflipped vs. Flipped: Whether the target is the same as in the Monroe data (unflipped) or Distractor 1 is the target (flipped)\n"
   ]
  },
  {
   "cell_type": "code",
   "execution_count": 6,
   "metadata": {},
   "outputs": [],
   "source": [
    "# Descriptive vs. Ambiguous\n",
    "desc_all = all_data.data[all_data.data['quality'] == \"descriptive\"].dropna()\n",
    "ambi_all = all_data.data[all_data.data['quality'] == \"ambiguous\"].dropna()"
   ]
  },
  {
   "cell_type": "code",
   "execution_count": 7,
   "metadata": {},
   "outputs": [],
   "source": [
    "# Unflipped vs. Flipped\n",
    "desc_unflipped_all = desc_all[desc_all['contextId'].str.contains(\".0\", regex=False)]\n",
    "desc_flipped_all = desc_all[desc_all['contextId'].str.contains(\".1\", regex=False)]\n",
    "\n",
    "ambi_unflipped_all = ambi_all[ambi_all['contextId'].str.contains(\".0\", regex=False)]\n",
    "ambi_flipped_all = ambi_all[ambi_all['contextId'].str.contains(\".1\", regex=False)]"
   ]
  },
  {
   "cell_type": "markdown",
   "metadata": {},
   "source": [
    "Some of the data above has three rows for the same context, but to use our n-gram overlap and listener-based metrics, we only want to count each context once. When we look at human evaluation and filtering we will come back to using all three contexts, as they have potentially different listener selections."
   ]
  },
  {
   "cell_type": "code",
   "execution_count": 8,
   "metadata": {},
   "outputs": [],
   "source": [
    "# These include only one of the listener's responses\n",
    "desc_unflipped = desc_unflipped_all.groupby(['contextId', 'contextNum']).first().reset_index()\n",
    "desc_flipped = desc_flipped_all.groupby(['contextId', 'contextNum']).first().reset_index()\n",
    "\n",
    "ambi_unflipped = ambi_unflipped_all.groupby(['contextId', 'contextNum']).first().reset_index()\n",
    "ambi_flipped = ambi_flipped_all.groupby(['contextId', 'contextNum']).first().reset_index()"
   ]
  },
  {
   "cell_type": "markdown",
   "metadata": {},
   "source": [
    "It's also easier to deal with a list of entries rather than raw Pandas DataFrame rows. Each entry is a MonroeDataEntry object."
   ]
  },
  {
   "cell_type": "code",
   "execution_count": 9,
   "metadata": {},
   "outputs": [],
   "source": [
    "# turn dataframes into context lists\n",
    "def df_to_ctxs(df):\n",
    "    \"\"\"Convert a pandas dataframe into a list of MonroeDataEntries\"\"\"\n",
    "    # This is going to be a bit unconventional, but we're just going\n",
    "    # to instantiate these MonroeData objects with no data, place the\n",
    "    # passed df into where the data should go, and create MonroeEntries\n",
    "    # from that df.\n",
    "    md = MonroeData(StringIO(\",\".join(df.columns)), # pd.read_csv needs columns\n",
    "                    single_speaker=False)           # don't do any fancy filtering\n",
    "    md.data = df\n",
    "    for _ in md.read_data(): pass\n",
    "    return md.entries"
   ]
  },
  {
   "cell_type": "code",
   "execution_count": 11,
   "metadata": {},
   "outputs": [
    {
     "name": "stdout",
     "output_type": "stream",
     "text": [
      "CPU times: user 13.7 s, sys: 99.2 ms, total: 13.8 s\n",
      "Wall time: 13.8 s\n"
     ]
    }
   ],
   "source": [
    "%%time \n",
    "# ~ 14 s\n",
    "desc_unflipped_ctxs = df_to_ctxs(desc_unflipped)\n",
    "desc_flipped_ctxs = df_to_ctxs(desc_flipped)\n",
    "\n",
    "ambi_unflipped_ctxs = df_to_ctxs(ambi_unflipped)\n",
    "ambi_flipped_ctxs = df_to_ctxs(ambi_flipped)"
   ]
  },
  {
   "cell_type": "markdown",
   "metadata": {},
   "source": [
    "# 3. Filter Data\n",
    "\n",
    "Before we evaluate these candidate captions with n-gram overlap or listener metrics, we have to do a little bit of filtering.\n",
    "1. __Descriptive__: Remove any candidates that led 2/3 of human listeners to the wrong the target.\n",
    "2. __Ambiguous__: Remove any candidates that are in the list of descriptive candidates that remain. (This was already mostly done before, but was not done with the Monroe dataset's descriptive candidates in this descrtiptive candidate list).\n",
    "3. __Misleading__: First, generate the misleading data by swapping the colors from the descriptive flipped contexts to the descriptive unflipped contexts and vice versa. Then remove candiates whose captions are in the set of descriptive captions AND all of the colors are far from each other(this is certainly not necessary, it removes a total of 3 contexts, but is needed to replicate the paper's results).\n",
    "\n",
    "\n",
    "All of this filtering happens at the context level, so first we are going to convert a list of contexts, into a list of lists of contexts where each context list contains all of the contexts with the same colors and targets."
   ]
  },
  {
   "cell_type": "code",
   "execution_count": 12,
   "metadata": {},
   "outputs": [],
   "source": [
    "def group_contexts(df, ctx_list):\n",
    "    \"\"\"Turn list of contexts into list of lists of contexts with the same colors\"\"\"\n",
    "    \n",
    "    # assumes ctx_list is in the same order as df rows\n",
    "    \n",
    "    # count how many of each contextId we have\n",
    "    df_counts = df.groupby('contextId')['contextId'].transform(\"count\")\n",
    "    grouped_ctx_list = []\n",
    "\n",
    "    # reshape ctx_list into list of lists. Outer list will have one list for each\n",
    "    # contextId, and each sublist will hold all of the contexts.\n",
    "    count = df_counts[0]\n",
    "    i = count\n",
    "    total = i\n",
    "    group = []\n",
    "    for ctx in ctx_list:\n",
    "        if count == 0:\n",
    "            count = df_counts[i]\n",
    "            i += count\n",
    "            total += count\n",
    "            grouped_ctx_list.append(group)\n",
    "            group = []\n",
    "\n",
    "        group.append(ctx)\n",
    "        count -= 1\n",
    "    \n",
    "    grouped_ctx_list.append(group)\n",
    "    return grouped_ctx_list"
   ]
  },
  {
   "cell_type": "code",
   "execution_count": 13,
   "metadata": {},
   "outputs": [],
   "source": [
    "# group our four categories\n",
    "desc_unflipped_ctxs_grouped = group_contexts(desc_unflipped, desc_unflipped_ctxs)\n",
    "desc_flipped_ctxs_grouped = group_contexts(desc_flipped, desc_flipped_ctxs)\n",
    "\n",
    "ambi_unflipped_ctxs_grouped = group_contexts(ambi_unflipped, ambi_unflipped_ctxs)\n",
    "ambi_flipped_ctxs_grouped = group_contexts(ambi_flipped, ambi_flipped_ctxs)"
   ]
  },
  {
   "cell_type": "code",
   "execution_count": 14,
   "metadata": {},
   "outputs": [],
   "source": [
    "# get misleading captions (note we are using the descriptive candiates BEFORE filtering. This is\n",
    "# to replicate the exact results reported in the paper)\n",
    "def desc_to_misl(desc_ctx_caption, desc_ctx_color):\n",
    "    \"\"\"Convert the good contexts to an ugly one using one for the caption and one for the colors\"\"\"\n",
    "    misl_ctx = copy.deepcopy(desc_ctx_caption)\n",
    "\n",
    "    for i in range(len(misl_ctx)):\n",
    "        for j in range(len(misl_ctx[i])):\n",
    "            misl_ctx[i][j].colors = copy.copy(desc_ctx_color[i][0].colors)\n",
    "            \n",
    "    return misl_ctx\n",
    "\n",
    "misl_unflipped_ctxs_grouped = desc_to_misl(desc_flipped_ctxs_grouped, desc_unflipped_ctxs_grouped)\n",
    "misl_flipped_ctxs_grouped = desc_to_misl(desc_unflipped_ctxs_grouped, desc_flipped_ctxs_grouped)"
   ]
  },
  {
   "cell_type": "code",
   "execution_count": 15,
   "metadata": {},
   "outputs": [],
   "source": [
    "# filtering\n",
    "def filter_desc(desc_df, desc_ctxs):\n",
    "    \"\"\"Keeps only captions that led at least 2/3 of listeners to the target\"\"\"\n",
    "    desc_ctx_groups = [] # holds filtered contexts\n",
    "    \n",
    "    # create boolean list indicating if at least 2/3 listeners chose correctly\n",
    "    desc_df_grouped = desc_df.groupby(['contextId', 'contextNum'])\n",
    "    desc_df_ml = desc_df_grouped.apply(lambda x: (x['clickStatus'] == \"target\").mean() >= 2/3)\n",
    "    \n",
    "    # filter desc_ctxs according to boolean list\n",
    "    for i, context_id in enumerate(desc_df_ml.index.levels[0]):\n",
    "        desc_ctx_group = []\n",
    "        for j, majority_correct in enumerate(desc_df_ml[context_id]):\n",
    "            if majority_correct:\n",
    "                desc_ctx_group.append(desc_ctxs[i][j])\n",
    "        desc_ctx_groups.append(desc_ctx_group)\n",
    "    return desc_ctx_groups\n",
    "\n",
    "def filter_ambi(contexts, refs):\n",
    "    \"\"\"Filters ambiguous captions that are in their reference sets\"\"\"\n",
    "    ambi_ctx_groups = []\n",
    "    for i, ctx_group in enumerate(contexts):\n",
    "        ref_caps = [normalize(ctx.caption) for ctx in refs[i]]\n",
    "        abmi_ctx_group = [ctx for ctx in ctx_group if normalize(ctx.caption) not in ref_caps]\n",
    "        ambi_ctx_groups.append(abmi_ctx_group)\n",
    "    return ambi_ctx_groups\n",
    "\n",
    "def filter_misl(df, contexts, refs):\n",
    "    \"\"\"Filters misleading captions the same way as the descriptive \n",
    "       ones and remove ones with captions in the references in the far condition\"\"\"\n",
    "    contexts = filter_desc(df, contexts)\n",
    "    misl_ctx_groups = []\n",
    "    for i, ctx_group in enumerate(contexts):\n",
    "        ref_caps = [normalize(ctx.caption) for ctx in refs[i]]\n",
    "        misl_ctx_group = []\n",
    "        for ctx in ctx_group:\n",
    "            if not (normalize(ctx.caption) in ref_caps and ctx.condition == \"far\"):\n",
    "                misl_ctx_group.append(ctx)\n",
    "        misl_ctx_groups.append(misl_ctx_group)\n",
    "    return misl_ctx_groups"
   ]
  },
  {
   "cell_type": "code",
   "execution_count": 16,
   "metadata": {},
   "outputs": [],
   "source": [
    "# descriptive filtering\n",
    "desc_unflipped_ctxs_grouped = filter_desc(desc_unflipped_all, desc_unflipped_ctxs_grouped)\n",
    "desc_flipped_ctxs_grouped = filter_desc(desc_flipped_all, desc_flipped_ctxs_grouped)\n",
    "\n",
    "# ambiguous filtering\n",
    "ambi_unflipped_ctxs_grouped = filter_ambi(ambi_unflipped_ctxs_grouped, desc_unflipped_ctxs_grouped)\n",
    "ambi_flipped_ctxs_grouped = filter_ambi(ambi_flipped_ctxs_grouped, desc_flipped_ctxs_grouped)\n",
    "\n",
    "# misleading filtering\n",
    "misl_unflipped_ctxs_grouped = filter_misl(desc_flipped_all, misl_unflipped_ctxs_grouped, desc_unflipped_ctxs_grouped)\n",
    "misl_flipped_ctxs_grouped = filter_misl(desc_unflipped_all, misl_flipped_ctxs_grouped, desc_flipped_ctxs_grouped)"
   ]
  },
  {
   "cell_type": "markdown",
   "metadata": {},
   "source": [
    "# N-Gram Overlap Metrics\n",
    "\n",
    "Finally, we can calculate some metrics. We use BLEU, ROUGE-L, METEOR, and CIDEr. All of these require reference captions, so we use our filtered and grouped descriptive candidates as references. Then we calculate and plot our overlap metric scores."
   ]
  },
  {
   "cell_type": "code",
   "execution_count": 17,
   "metadata": {},
   "outputs": [],
   "source": [
    "# generate references\n",
    "def extract_captions(ctx_list):\n",
    "    \"\"\"Converts list of contexts to list of string captions\"\"\"\n",
    "    # if we have a list of lists, flatten it first\n",
    "    if type(ctx_list[0]) is list:\n",
    "        ctx_list = flatten(ctx_list)\n",
    "    return [normalize(ctx.caption) for ctx in ctx_list]\n",
    "\n",
    "def extract_references(reference_ctxs, candidate_ctxs=None):\n",
    "    \"\"\"Uses reference_ctxs to create a list of reference captions for each candidate in candiate_ctxs\"\"\"\n",
    "    references = []\n",
    "    if candidate_ctxs is None:\n",
    "        # generate references in leave-one out style (for descriptive references only)\n",
    "        for i in range(len(reference_ctxs)):\n",
    "            if len(reference_ctxs[i]) == 1:\n",
    "                # if there's only one caption, let it be its own reference\n",
    "                references.append(extract_captions(reference_ctxs[i]))\n",
    "                continue\n",
    "            for j in range(len(reference_ctxs[i])):\n",
    "                refs = reference_ctxs[i][:j] + reference_ctxs[i][j+1:]\n",
    "                references.append(extract_captions(refs))\n",
    "\n",
    "    else:\n",
    "        # generate references using all captions in reference_ctxs (for ambiguous and misleading references)\n",
    "        for i in range(len(candidate_ctxs)): # same as len(reference_ctxs)\n",
    "            for j in range(len(candidate_ctxs[i])):\n",
    "                references.append(extract_captions(reference_ctxs[i]))\n",
    "\n",
    "    return references"
   ]
  },
  {
   "cell_type": "code",
   "execution_count": 18,
   "metadata": {},
   "outputs": [],
   "source": [
    "# unflipped contexts\n",
    "desc_unflipped_captions = extract_captions(desc_unflipped_ctxs_grouped)\n",
    "desc_unflipped_references = extract_references(desc_unflipped_ctxs_grouped)\n",
    "\n",
    "ambi_unflipped_captions = extract_captions(ambi_unflipped_ctxs_grouped)\n",
    "ambi_unflipped_references = extract_references(desc_unflipped_ctxs_grouped, ambi_unflipped_ctxs_grouped)\n",
    "\n",
    "misl_unflipped_captions = extract_captions(misl_unflipped_ctxs_grouped)\n",
    "misl_unflipped_references = extract_references(desc_unflipped_ctxs_grouped, misl_unflipped_ctxs_grouped)"
   ]
  },
  {
   "cell_type": "code",
   "execution_count": 19,
   "metadata": {},
   "outputs": [],
   "source": [
    "# flipped contexts\n",
    "desc_flipped_captions = extract_captions(desc_flipped_ctxs_grouped)\n",
    "desc_flipped_references = extract_references(desc_flipped_ctxs_grouped)\n",
    "\n",
    "ambi_flipped_captions = extract_captions(ambi_flipped_ctxs_grouped)\n",
    "ambi_flipped_references = extract_references(desc_flipped_ctxs_grouped, ambi_flipped_ctxs_grouped)\n",
    "\n",
    "misl_flipped_captions = extract_captions(misl_flipped_ctxs_grouped)\n",
    "misl_flipped_references = extract_references(desc_flipped_ctxs_grouped, misl_flipped_ctxs_grouped)"
   ]
  },
  {
   "cell_type": "code",
   "execution_count": 20,
   "metadata": {},
   "outputs": [],
   "source": [
    "# run n-gram metrics:\n",
    "ngram_metrics = NgramMetrics()"
   ]
  },
  {
   "cell_type": "code",
   "execution_count": 21,
   "metadata": {},
   "outputs": [],
   "source": [
    "desc_ngram_scores = ngram_metrics.get_overlap_scores(desc_unflipped_references + desc_flipped_references,\n",
    "                                                     desc_unflipped_captions + desc_flipped_captions)\n",
    "ambi_ngram_scores = ngram_metrics.get_overlap_scores(ambi_unflipped_references + ambi_flipped_references,\n",
    "                                                     ambi_unflipped_captions + ambi_flipped_captions)\n",
    "misl_ngram_scores = ngram_metrics.get_overlap_scores(misl_unflipped_references + misl_flipped_references,\n",
    "                                                     misl_unflipped_captions + misl_flipped_captions)"
   ]
  },
  {
   "cell_type": "markdown",
   "metadata": {},
   "source": [
    "Now we can visualize stuff with the plots and check our correlations"
   ]
  },
  {
   "cell_type": "code",
   "execution_count": 22,
   "metadata": {
    "scrolled": true
   },
   "outputs": [
    {
     "name": "stdout",
     "output_type": "stream",
     "text": [
      "Pearson r: -0.363, p = 0.000\n",
      "Spearman r: -0.349, p = 0.000\n",
      "Kendall τ: -0.290, p = 0.000\n"
     ]
    },
    {
     "data": {
      "image/png": "[encoded data removed]",
      "text/plain": [
       "<Figure size 432x288 with 1 Axes>"
      ]
     },
     "metadata": {
      "needs_background": "light"
     },
     "output_type": "display_data"
    },
    {
     "name": "stdout",
     "output_type": "stream",
     "text": [
      "Pearson r: -0.441, p = 0.000\n",
      "Spearman r: -0.439, p = 0.000\n",
      "Kendall τ: -0.378, p = 0.000\n"
     ]
    },
    {
     "data": {
      "image/png": "[encoded data removed]",
      "text/plain": [
       "<Figure size 432x288 with 1 Axes>"
      ]
     },
     "metadata": {
      "needs_background": "light"
     },
     "output_type": "display_data"
    },
    {
     "name": "stdout",
     "output_type": "stream",
     "text": [
      "Pearson r: -0.482, p = 0.000\n",
      "Spearman r: -0.479, p = 0.000\n",
      "Kendall τ: -0.404, p = 0.000\n"
     ]
    },
    {
     "data": {
      "image/png": "[encoded data removed]",
      "text/plain": [
       "<Figure size 432x288 with 1 Axes>"
      ]
     },
     "metadata": {
      "needs_background": "light"
     },
     "output_type": "display_data"
    },
    {
     "name": "stdout",
     "output_type": "stream",
     "text": [
      "Pearson r: -0.398, p = 0.000\n",
      "Spearman r: -0.413, p = 0.000\n",
      "Kendall τ: -0.337, p = 0.000\n"
     ]
    },
    {
     "data": {
      "image/png": "[encoded data removed]",
      "text/plain": [
       "<Figure size 432x288 with 1 Axes>"
      ]
     },
     "metadata": {
      "needs_background": "light"
     },
     "output_type": "display_data"
    }
   ],
   "source": [
    "plot_score_dists(desc_ngram_scores, ambi_ngram_scores, misl_ngram_scores)"
   ]
  },
  {
   "cell_type": "markdown",
   "metadata": {},
   "source": [
    "CIDEr's scores are the only ones that are different here because we use all of the captions in that condition (descriptive, ambiguous, misleading) for calculating the IDF. This difference is small: 0.398 in the combined condition, 0.403 in the separate flipped/unflipped condition. The combined way is a little cleaner, so we report it here."
   ]
  },
  {
   "cell_type": "markdown",
   "metadata": {},
   "source": [
    "# Listener Evaluation\n",
    "Now we can use the models that we created to assess the candidate captions."
   ]
  },
  {
   "cell_type": "code",
   "execution_count": 23,
   "metadata": {},
   "outputs": [],
   "source": [
    "listener_metrics = ListenerMetrics()"
   ]
  },
  {
   "cell_type": "code",
   "execution_count": 24,
   "metadata": {},
   "outputs": [
    {
     "name": "stdout",
     "output_type": "stream",
     "text": [
      "CPU times: user 1min 18s, sys: 592 ms, total: 1min 19s\n",
      "Wall time: 50.9 s\n"
     ]
    }
   ],
   "source": [
    "%%time\n",
    "# now run the evaluation - takes about a minute\n",
    "desc_listener_scores = listener_metrics.get_listener_scores(flatten(desc_unflipped_ctxs_grouped) + flatten(desc_flipped_ctxs_grouped))\n",
    "ambi_listener_scores = listener_metrics.get_listener_scores(flatten(ambi_unflipped_ctxs_grouped) + flatten(ambi_flipped_ctxs_grouped))\n",
    "misl_listener_scores = listener_metrics.get_listener_scores(flatten(misl_unflipped_ctxs_grouped) + flatten(misl_flipped_ctxs_grouped))"
   ]
  },
  {
   "cell_type": "code",
   "execution_count": 25,
   "metadata": {},
   "outputs": [
    {
     "name": "stdout",
     "output_type": "stream",
     "text": [
      "Pearson r: -0.581, p = 0.000\n",
      "Spearman r: -0.613, p = 0.000\n",
      "Kendall τ: -0.486, p = 0.000\n"
     ]
    },
    {
     "data": {
      "image/png": "[encoded data removed]",
      "text/plain": [
       "<Figure size 432x288 with 1 Axes>"
      ]
     },
     "metadata": {
      "needs_background": "light"
     },
     "output_type": "display_data"
    },
    {
     "name": "stdout",
     "output_type": "stream",
     "text": [
      "Pearson r: -0.554, p = 0.000\n",
      "Spearman r: -0.556, p = 0.000\n",
      "Kendall τ: -0.444, p = 0.000\n"
     ]
    },
    {
     "data": {
      "image/png": "[encoded data removed]",
      "text/plain": [
       "<Figure size 432x288 with 1 Axes>"
      ]
     },
     "metadata": {
      "needs_background": "light"
     },
     "output_type": "display_data"
    }
   ],
   "source": [
    "plot_score_dists(desc_listener_scores, ambi_listener_scores, misl_listener_scores, metrics=[\"Literal Listener\", \"Pragmatic Listener\"])"
   ]
  },
  {
   "cell_type": "markdown",
   "metadata": {},
   "source": [
    "# Human Listener Evaluation\n",
    "\n",
    "Finally, we can use the same human listeners we used to do the filtering to get a sense of how human behaviour would correlate with these quality categories.\n",
    "\n",
    "This section is a little different from the other two because we don't use any of the Monroe et al., 2017 data. The subset of their data that we used was chosen, among other criteria, because the Human Listeners were able to correctly identify the target*. As such, we do not include it in our human listener approximation. Also, in the previous sections we only used one caption per context, but here we have three listener's responses to each context, so we use all of them. \n",
    "\n",
    "Because of this, we deal directly with the original pandas dataframes we generated, and perform the filtering again on the dataframes themselves. (The misleading filtering is not included because when there are no monroe captions, it has no effect.)\n",
    "\n",
    "\n",
    "*Other criteria were it was in the Dev set and there were multiple colors that were close together all within the same Monroe et al. condition (e.g. close, split, far)"
   ]
  },
  {
   "cell_type": "code",
   "execution_count": 26,
   "metadata": {},
   "outputs": [
    {
     "name": "stdout",
     "output_type": "stream",
     "text": [
      "CPU times: user 1.01 s, sys: 9.12 ms, total: 1.01 s\n",
      "Wall time: 1.02 s\n"
     ]
    }
   ],
   "source": [
    "%%time\n",
    "# do the 2/3 filtering on the dataframe:\n",
    "def filter_desc_df(desc_df):\n",
    "    desc_grouped = desc_df.groupby([\"contextId\", \"contextNum\"])\n",
    "    desc_approved = desc_grouped.filter(lambda x: (x['clickStatus'] == 'target').mean() >= 2/3)\n",
    "    return desc_approved\n",
    "\n",
    "# remove monroe data - context num >= 10 goes away\n",
    "desc_unflipped_newman = filter_desc_df(desc_unflipped_all[desc_unflipped_all['contextNum'] < 10])\n",
    "desc_flipped_newman = filter_desc_df(desc_flipped_all[desc_flipped_all['contextNum'] < 10])"
   ]
  },
  {
   "cell_type": "code",
   "execution_count": 27,
   "metadata": {},
   "outputs": [
    {
     "name": "stdout",
     "output_type": "stream",
     "text": [
      "CPU times: user 1.36 s, sys: 11.2 ms, total: 1.37 s\n",
      "Wall time: 1.38 s\n"
     ]
    }
   ],
   "source": [
    "%%time\n",
    "def filter_ambi_df(contextIds, captions, desc_approved):\n",
    "    \"\"\" filter out ambiguous captions that overlap with descriptive ones\"\"\"\n",
    "    # all of the contextIds and captions are identical, so just take the first one.\n",
    "    contextId = contextIds.iloc[0]\n",
    "    caption = captions.iloc[0]\n",
    "    desc_captions = desc_approved[desc_approved[\"contextId\"] == contextId][\"contents\"]\n",
    "    desc_captions = [normalize(desc_caption) for desc_caption in desc_captions]\n",
    "    return normalize(caption) not in desc_captions\n",
    "\n",
    "desc_unflipped_approved = filter_desc_df(desc_unflipped_all)\n",
    "desc_flipped_approved = filter_desc_df(desc_flipped_all)"
   ]
  },
  {
   "cell_type": "code",
   "execution_count": 28,
   "metadata": {},
   "outputs": [],
   "source": [
    "ambi_unflipped_newman = ambi_unflipped_all.groupby([\"contextId\", \"contextNum\"]).filter(\n",
    "    lambda x: filter_ambi_df(x['contextId'], x['contents'], desc_unflipped_approved\n",
    "                            ))\n",
    "ambi_flipped_newman = ambi_flipped_all.groupby([\"contextId\", \"contextNum\"]).filter(\n",
    "    lambda x: filter_ambi_df(x['contextId'], x['contents'], desc_flipped_approved\n",
    "                            ))"
   ]
  },
  {
   "cell_type": "code",
   "execution_count": 29,
   "metadata": {},
   "outputs": [],
   "source": [
    "# \"calculate\" scores\n",
    "def get_human_listener_scores(*dfs):\n",
    "    score_report = {}\n",
    "    scores = []\n",
    "    for df in dfs:\n",
    "        scores.extend([1 if clicked_target else 0 for clicked_target in df['outcome']])\n",
    "    return {\n",
    "        \"Human Listener\": (np.mean(scores), scores)\n",
    "    }\n"
   ]
  },
  {
   "cell_type": "code",
   "execution_count": 30,
   "metadata": {},
   "outputs": [],
   "source": [
    "desc_human_scores = get_human_listener_scores(desc_unflipped_newman, desc_flipped_newman)\n",
    "ambi_human_scores = get_human_listener_scores(ambi_unflipped_newman, ambi_flipped_newman)"
   ]
  },
  {
   "cell_type": "markdown",
   "metadata": {},
   "source": [
    "The targets in the flipped conditions are distractor 1 (\"distr1\") in the unflipped condition, so we're only going to say that the listener was correct in the misleading scenario if they chose distr1. (This is slightly more correct than what we reported in the original paper where we say if a listener chose the incorrect color in the descriptive case then they chose the correct color in the misleading case)."
   ]
  },
  {
   "cell_type": "code",
   "execution_count": 31,
   "metadata": {
    "scrolled": true
   },
   "outputs": [],
   "source": [
    "# See text above for explanation of what is going on in this cell.\n",
    "misl_human_scores = []\n",
    "\n",
    "for i in range(len(desc_human_scores['Human Listener'][1])):\n",
    "    if not desc_human_scores['Human Listener'][1][i]:\n",
    "        # incorrect in descriptive: check which distractor was selected\n",
    "        if i < len(desc_unflipped_newman): # flipped\n",
    "            misl_human_scores.append(int(desc_unflipped_newman.iloc[i][\"clickStatus\"] == \"distr1\"))\n",
    "        else: # unflipped\n",
    "            misl_human_scores.append(int(desc_flipped_newman.iloc[i - len(desc_unflipped_newman)][\"clickStatus\"] == \"distr1\"))\n",
    "    else:\n",
    "        misl_human_scores.append(0) # correct in descriptive means incorrect in misleading\n",
    "        \n",
    "misl_human_scores = {\n",
    "    'Human Listener': (np.mean(misl_human_scores), misl_human_scores)\n",
    "}       "
   ]
  },
  {
   "cell_type": "code",
   "execution_count": 32,
   "metadata": {},
   "outputs": [
    {
     "name": "stdout",
     "output_type": "stream",
     "text": [
      "Pearson r: -0.722, p = 0.000\n",
      "Spearman r: -0.722, p = 0.000\n",
      "Kendall τ: -0.681, p = 0.000\n"
     ]
    },
    {
     "data": {
      "image/png": "[encoded data removed]",
      "text/plain": [
       "<Figure size 432x288 with 1 Axes>"
      ]
     },
     "metadata": {
      "needs_background": "light"
     },
     "output_type": "display_data"
    }
   ],
   "source": [
    "plot_score_dists(desc_human_scores, ambi_human_scores, misl_human_scores, metrics=['Human Listener'])"
   ]
  }
 ],
 "metadata": {
  "kernelspec": {
   "display_name": "Python 3",
   "language": "python",
   "name": "python3"
  },
  "language_info": {
   "codemirror_mode": {
    "name": "ipython",
    "version": 3
   },
   "file_extension": ".py",
   "mimetype": "text/x-python",
   "name": "python",
   "nbconvert_exporter": "python",
   "pygments_lexer": "ipython3",
   "version": "3.7.3"
  }
 },
 "nbformat": 4,
 "nbformat_minor": 2
}
