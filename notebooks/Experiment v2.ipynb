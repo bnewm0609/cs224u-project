{
 "cells": [
  {
   "cell_type": "code",
   "execution_count": 1,
   "metadata": {},
   "outputs": [],
   "source": [
    "# so we can use packages from parent directory\n",
    "import sys\n",
    "sys.path.append(\"..\")"
   ]
  },
  {
   "cell_type": "code",
   "execution_count": 5,
   "metadata": {},
   "outputs": [],
   "source": [
    "import torch\n",
    "import torch.nn as nn\n",
    "import numpy as np\n",
    "from monroe_data import MonroeData, MonroeDataEntry, Color # last two for reading pkl file\n",
    "\n",
    "from models import CaptionEncoder"
   ]
  },
  {
   "cell_type": "code",
   "execution_count": 7,
   "metadata": {},
   "outputs": [],
   "source": [
    "# for reloading\n",
    "import monroe_data\n",
    "import caption_featurizers\n",
    "import color_featurizers\n",
    "import models"
   ]
  },
  {
   "cell_type": "code",
   "execution_count": 6,
   "metadata": {},
   "outputs": [],
   "source": [
    "import importlib"
   ]
  },
  {
   "cell_type": "code",
   "execution_count": 47,
   "metadata": {},
   "outputs": [
    {
     "data": {
      "text/plain": [
       "<module 'color_featurizers' from '../color_featurizers.py'>"
      ]
     },
     "execution_count": 47,
     "metadata": {},
     "output_type": "execute_result"
    }
   ],
   "source": [
    "importlib.reload(caption_featurizers)\n",
    "importlib.reload(color_featurizers)"
   ]
  },
  {
   "cell_type": "code",
   "execution_count": 48,
   "metadata": {},
   "outputs": [],
   "source": [
    "from caption_featurizers import CaptionFeaturizer\n",
    "from color_featurizers import ColorFeaturizer, color_phi_fourier"
   ]
  },
  {
   "cell_type": "code",
   "execution_count": 113,
   "metadata": {},
   "outputs": [
    {
     "data": {
      "text/plain": [
       "<module 'models' from '../models.py'>"
      ]
     },
     "execution_count": 113,
     "metadata": {},
     "output_type": "execute_result"
    }
   ],
   "source": [
    "importlib.reload(models)"
   ]
  },
  {
   "cell_type": "code",
   "execution_count": 114,
   "metadata": {},
   "outputs": [],
   "source": [
    "from models import CaptionEncoder, LiteralListener"
   ]
  },
  {
   "cell_type": "code",
   "execution_count": 8,
   "metadata": {},
   "outputs": [],
   "source": [
    "# train data\n",
    "train_data = MonroeData(\"../data/csv/train_corpus_monroe.csv\", \"../data/entries/train_entries_monroe.pkl\")\n",
    "dev_data = MonroeData(\"../data/csv/dev_corpus_monroe.csv\", \"../data/entries/dev_entries_monroe.pkl\")"
   ]
  },
  {
   "cell_type": "code",
   "execution_count": 23,
   "metadata": {},
   "outputs": [],
   "source": []
  },
  {
   "cell_type": "code",
   "execution_count": null,
   "metadata": {},
   "outputs": [],
   "source": [
    "class Featurizer:\n",
    "    def to_features(self, data_entry, **kwargs):\n",
    "        pass\n",
    "    \n",
    "    def construct_featurizer(self, all_data, **kwargs):\n",
    "        pass"
   ]
  },
  {
   "cell_type": "code",
   "execution_count": 184,
   "metadata": {},
   "outputs": [],
   "source": [
    "class FeatureHandler:\n",
    "    \"\"\"\n",
    "    This class handles the interface between the data, the feature functions, and the model.\n",
    "    Basically what it does is the following:\n",
    "    \n",
    "    1. Convert MonroeDataEntry to a list of np.array's per speaker using the caption and color feature\n",
    "       functions along with any other feature functions that the model needs\n",
    "    2. Converts the MonroeDataEntry to the prediction targets also by applying some user-specified function\n",
    "       to each of the data entries\n",
    "    3. Handles color order randomization\n",
    "    \n",
    "    It does this for both the train and assessment datasets. From here, you should be able\n",
    "    to call a model's fit method with the resutls of a `train_features` as X and `train_targets` as y\n",
    "    \"\"\"\n",
    "    def __init__(self, train_data, test_data, caption_phi, color_phi, extra_featurizers=[], \n",
    "                 target_fn=None, randomized_colors=True):\n",
    "        \"\"\"\n",
    "        tain_data - training data (type: MonroeData)\n",
    "        test_data - assessment data (type: MonroeData)\n",
    "        caption_phi - caption feature function (type: CaptionFeaturizer). Should not have called `construct_featurizer`\n",
    "                      method yet\n",
    "        color_phi   - color feature function (type: ColorFeaturizer)\n",
    "        extra_featurizers - list any other feature functions to include. Each should have a `to_features`\n",
    "                            method that takes a MonroeDataEntry to a feature\n",
    "        target_fn - function for mapping MonroeDataentry (and permuation if randomized_colors is true)\n",
    "                    to a *single value*\n",
    "        randomized_colors - True if color order should be randomized, False if should be fixed with target first.\n",
    "        \n",
    "        \"\"\"\n",
    "        self.caption_featurizer = caption_phi\n",
    "        self.caption_featurizer.construct_featurizer(train_data)\n",
    "        \n",
    "        self.color_featurizer = color_phi\n",
    "        \n",
    "        self.extra_featurizers = extra_featurizers\n",
    "        self.train_data = train_data\n",
    "        self.test_data = test_data\n",
    "        self.randomized_colors = randomized_colors\n",
    "        \n",
    "        if target_fn is None:\n",
    "            # by default just use the color at the target index as the target\n",
    "            if self.randomized_colors:\n",
    "                self.target_fn = lambda de, color_perm: np.where(color_perm==de.target_idx)[0]\n",
    "            else:\n",
    "                self.target_fn = lambda de: de.target_idx # should be 0, but just in case\n",
    "        \n",
    "        # for keeping track of where colors ended up if randomized\n",
    "        self.train_color_permutations = []\n",
    "        self.test_color_permutations = []\n",
    "        \n",
    "        # only construct caption index once\n",
    "        self.constructed_index = False\n",
    "     \n",
    "    \n",
    "    def get_features(self, data, construct=False):\n",
    "        features = []\n",
    "        for data_entry in data:\n",
    "            entry_features = []\n",
    "            if self.caption_featurizer is not None:\n",
    "                _, idx_features = self.caption_featurizer.to_string_features(data_entry.caption, construct) # construct index while training\n",
    "                entry_features.append(idx_features)\n",
    "            \n",
    "            if self.color_featurizer is not None:\n",
    "                color_features = self.color_featurizer.to_color_features(data_entry.colors)\n",
    "                \n",
    "                if self.randomized_colors:\n",
    "                    color_features, permutations = self.color_featurizer.shuffle_colors(color_features)\n",
    "                    if construct:\n",
    "                        self.train_color_permutations.append(permutations)\n",
    "                    else:\n",
    "                        self.test_color_permutations.append(permutations)\n",
    "                    \n",
    "                entry_features.append(color_features)\n",
    "                \n",
    "            for featurizer in self.extra_featurizers:\n",
    "                entry_features.append(featurizer.to_features(data_entry))\n",
    "            features.append(entry_features)\n",
    "                \n",
    "        return features\n",
    "    \n",
    "    def train_features(self):\n",
    "        \"\"\"\n",
    "        Wrapper function for get_features that calls specifically with train data. Should\n",
    "        only be called once because it also constructs the index\n",
    "        \"\"\"\n",
    "        features = self.get_features(self.train_data, construct=(not self.constructed_index)) # will only construct index the first time\n",
    "        self.constructed_index = True\n",
    "        return features\n",
    "                                 \n",
    "                \n",
    "    def test_features(self):\n",
    "        \"\"\"\n",
    "        Wrapper function for get_features that calls specifically with assess data\n",
    "        \"\"\"\n",
    "        return self.get_features(self.test_data)\n",
    "    \n",
    "    def get_targets(self, data, permutations=[]):\n",
    "        \"\"\"\n",
    "        Given data, iterates through it and extracts whatever the target of the model prediction\n",
    "        will be by calling self.target_fn on the entry. If we are going to be predicting color\n",
    "        indices we need to know where the target color index ended up. To this end, we also pass\n",
    "        in the permuted indices list in permutations.\n",
    "        \n",
    "        A way around this would be to actually change the raw entry and get the target index with\n",
    "        entry.target_idx, but that kind of scares me...\n",
    "        \"\"\"\n",
    "        if len(permutations) == 0 and self.randomized_colors:\n",
    "            print(\"Make sure to call feature function before target function so color permutations can be used when generating targets\")\n",
    "            return\n",
    "            \n",
    "        targets = []\n",
    "        # we need to pass in the permutations to the target functions\n",
    "        # so we know where each color ended up - this is kind of ugly\n",
    "        # but needed if our task is predicting colors (not needed otherwise)\n",
    "        # but included when color is randomized\n",
    "        for i, data_entry in enumerate(data):\n",
    "            if len(permutations) == 0:\n",
    "                targets.append(self.target_fn(data_entry))\n",
    "            else:\n",
    "                targets.append(self.target_fn(data_entry, permutations[i]))\n",
    "        return targets\n",
    "    \n",
    "    \n",
    "    def train_targets(self):\n",
    "        \"\"\"\n",
    "        Wrapper function for get_targets that calls specifically with train data\n",
    "        \"\"\"\n",
    "        self.get_targets(self.train_data, self.train_color_permutations)\n",
    "            \n",
    "        \n",
    "    def test_targets(self):\n",
    "        \"\"\"\n",
    "        Wrapper function for get_targets that calls specifically with assess data\n",
    "        \"\"\"\n",
    "        return self.get_targets(self.test_data, self.test_color_permutations)\n",
    "    \n",
    "    \n",
    "        \n",
    "        "
   ]
  },
  {
   "cell_type": "code",
   "execution_count": 104,
   "metadata": {},
   "outputs": [],
   "source": [
    "caption_phi = CaptionFeaturizer()\n",
    "color_phi = ColorFeaturizer(color_phi_fourier, \"rgb\")"
   ]
  },
  {
   "cell_type": "code",
   "execution_count": 105,
   "metadata": {},
   "outputs": [],
   "source": [
    "feature_handler = FeatureHandler(train_data, dev_data, caption_phi, color_phi)"
   ]
  },
  {
   "cell_type": "code",
   "execution_count": 106,
   "metadata": {
    "scrolled": true
   },
   "outputs": [
    {
     "name": "stdout",
     "output_type": "stream",
     "text": [
      "CPU times: user 6.57 s, sys: 33.5 ms, total: 6.6 s\n",
      "Wall time: 6.64 s\n"
     ]
    }
   ],
   "source": [
    "%%time\n",
    "train_features_2 = feature_handler.train_features()"
   ]
  },
  {
   "cell_type": "code",
   "execution_count": 70,
   "metadata": {
    "scrolled": true
   },
   "outputs": [
    {
     "data": {
      "text/plain": [
       "[array([ 0,  7,  8,  9,  1,  7, 10,  4,  5]),\n",
       " array([[ 1.0000000e+00, -8.0320752e-01,  2.9028466e-01,  8.0320752e-01,\n",
       "         -1.0000000e+00,  8.0320752e-01,  2.9028466e-01, -8.0320752e-01,\n",
       "          1.0000000e+00, -6.0551107e-01,  1.2271538e-02,  5.8579785e-01,\n",
       "         -9.6043050e-01,  6.0551107e-01, -1.2271538e-02, -9.3733901e-01,\n",
       "          9.6043050e-01, -6.0551107e-01, -2.6671275e-01,  7.8834641e-01,\n",
       "         -9.9969882e-01,  3.5989505e-01,  2.6671275e-01, -7.8834641e-01,\n",
       "          8.4485358e-01, -3.5989505e-01, -2.6671275e-01,  0.0000000e+00,\n",
       "         -5.9569931e-01,  9.5694035e-01, -5.9569931e-01, -1.2246469e-16,\n",
       "          5.9569931e-01, -9.5694035e-01,  5.9569931e-01,  0.0000000e+00,\n",
       "         -7.9583693e-01,  9.9992472e-01, -8.1045717e-01, -2.7851969e-01,\n",
       "          7.9583693e-01, -9.9992472e-01,  3.4841868e-01,  2.7851969e-01,\n",
       "         -7.9583693e-01,  9.6377605e-01, -6.1523157e-01,  2.4541229e-02,\n",
       "          9.3299282e-01, -9.6377605e-01,  6.1523157e-01,  5.3499764e-01,\n",
       "         -9.3299282e-01,  9.6377605e-01],\n",
       "        [ 1.0000000e+00, -9.5330602e-01,  8.1758481e-01,  9.7570211e-01,\n",
       "         -9.9631262e-01,  9.2387950e-01,  9.0398932e-01, -9.9090266e-01,\n",
       "          9.8527765e-01, -9.7570211e-01,  8.6397284e-01, -6.7155898e-01,\n",
       "         -1.0000000e+00,  9.5330602e-01, -8.1758481e-01, -9.7570211e-01,\n",
       "          9.9631262e-01, -9.2387950e-01,  9.0398932e-01, -7.3265427e-01,\n",
       "          4.9289820e-01,  9.7570211e-01, -8.6397284e-01,  6.7155898e-01,\n",
       "          1.0000000e+00, -9.5330602e-01,  8.1758481e-01,  0.0000000e+00,\n",
       "         -3.0200595e-01,  5.7580817e-01, -2.1910124e-01, -8.5797310e-02,\n",
       "          3.8268343e-01, -4.2755508e-01,  1.3458070e-01,  1.7096189e-01,\n",
       "         -2.1910124e-01,  5.0353837e-01, -7.4095112e-01, -1.2246469e-16,\n",
       "          3.0200595e-01, -5.7580817e-01,  2.1910124e-01,  8.5797310e-02,\n",
       "         -3.8268343e-01,  4.2755508e-01, -6.8060100e-01,  8.7008697e-01,\n",
       "          2.1910124e-01, -5.0353837e-01,  7.4095112e-01,  0.0000000e+00,\n",
       "         -3.0200595e-01,  5.7580817e-01],\n",
       "        [ 1.0000000e+00, -7.6516724e-01,  1.7096189e-01,  7.8073722e-01,\n",
       "         -9.9969882e-01,  7.4913639e-01,  2.1910124e-01, -7.9583693e-01,\n",
       "          9.9879545e-01, -7.8073722e-01,  1.9509032e-01,  4.8218378e-01,\n",
       "         -1.0000000e+00,  7.6516724e-01, -1.7096189e-01, -7.8073722e-01,\n",
       "          9.9969882e-01, -7.4913639e-01,  2.1910124e-01,  4.6053872e-01,\n",
       "         -9.2387950e-01,  7.8073722e-01, -1.9509032e-01, -4.8218378e-01,\n",
       "          1.0000000e+00, -7.6516724e-01,  1.7096189e-01,  0.0000000e+00,\n",
       "         -6.4383155e-01,  9.8527765e-01, -6.2485951e-01, -2.4541229e-02,\n",
       "          6.6241580e-01, -9.7570211e-01,  6.0551107e-01,  4.9067676e-02,\n",
       "         -6.2485951e-01,  9.8078525e-01, -8.7607008e-01, -1.2246469e-16,\n",
       "          6.4383155e-01, -9.8527765e-01,  6.2485951e-01,  2.4541229e-02,\n",
       "         -6.6241580e-01,  9.7570211e-01, -8.8763964e-01,  3.8268343e-01,\n",
       "          6.2485951e-01, -9.8078525e-01,  8.7607008e-01,  0.0000000e+00,\n",
       "         -6.4383155e-01,  9.8527765e-01]], dtype=float32)]"
      ]
     },
     "execution_count": 70,
     "metadata": {},
     "output_type": "execute_result"
    }
   ],
   "source": [
    "train_features[2]"
   ]
  },
  {
   "cell_type": "code",
   "execution_count": 107,
   "metadata": {},
   "outputs": [],
   "source": [
    "train_targets_2 = feature_handler.train_targets()"
   ]
  },
  {
   "cell_type": "code",
   "execution_count": 66,
   "metadata": {},
   "outputs": [
    {
     "data": {
      "text/plain": [
       "[array([0]),\n",
       " array([1]),\n",
       " array([2]),\n",
       " array([2]),\n",
       " array([0]),\n",
       " array([1]),\n",
       " array([1]),\n",
       " array([2]),\n",
       " array([1]),\n",
       " array([1])]"
      ]
     },
     "execution_count": 66,
     "metadata": {},
     "output_type": "execute_result"
    }
   ],
   "source": [
    "train_targets[:10]"
   ]
  },
  {
   "cell_type": "code",
   "execution_count": 108,
   "metadata": {},
   "outputs": [],
   "source": [
    "%%time\n",
    "dev_features = feature_handler.test_features()"
   ]
  },
  {
   "cell_type": "code",
   "execution_count": 109,
   "metadata": {},
   "outputs": [],
   "source": [
    "dev_targets = feature_handler.dev_targets()"
   ]
  },
  {
   "cell_type": "code",
   "execution_count": 115,
   "metadata": {},
   "outputs": [],
   "source": [
    "model = LiteralListener(CaptionEncoder, num_epochs=10)\n",
    "model.init_model(embed_dim = 100, hidden_dim=100, vocab_size=feature_handler.caption_featurizer.caption_indexer.size,\n",
    "                 color_dim=54)"
   ]
  },
  {
   "cell_type": "code",
   "execution_count": 94,
   "metadata": {},
   "outputs": [
    {
     "name": "stdout",
     "output_type": "stream",
     "text": [
      "---EPOCH 0---\n",
      "0m 0s (0:0 0.00%) 0.0000\n",
      "0m 9s (0:1000 6.38%) 1.2166\n",
      "0m 20s (0:2000 12.77%) 0.9582\n",
      "0m 30s (0:3000 19.15%) 0.9452\n",
      "0m 42s (0:4000 25.53%) 0.8948\n",
      "0m 53s (0:5000 31.92%) 0.9285\n",
      "1m 4s (0:6000 38.30%) 0.7167\n",
      "1m 14s (0:7000 44.69%) 0.6538\n",
      "1m 25s (0:8000 51.07%) 0.7567\n",
      "1m 36s (0:9000 57.45%) 0.5829\n",
      "1m 47s (0:10000 63.84%) 0.5665\n",
      "1m 58s (0:11000 70.22%) 0.5253\n",
      "2m 9s (0:12000 76.60%) 0.5837\n",
      "2m 20s (0:13000 82.99%) 0.6169\n",
      "2m 32s (0:14000 89.37%) 0.5434\n",
      "2m 43s (0:15000 95.75%) 0.6253\n",
      "---EPOCH 1---\n",
      "2m 51s (1:0 0.00%) 0.0003\n",
      "3m 2s (1:1000 6.38%) 0.4815\n",
      "3m 13s (1:2000 12.77%) 0.5982\n",
      "3m 25s (1:3000 19.15%) 0.6874\n",
      "3m 37s (1:4000 25.53%) 0.6747\n",
      "3m 48s (1:5000 31.92%) 0.7112\n",
      "3m 59s (1:6000 38.30%) 0.5173\n",
      "4m 11s (1:7000 44.69%) 0.4642\n",
      "4m 22s (1:8000 51.07%) 0.6016\n",
      "4m 34s (1:9000 57.45%) 0.4483\n",
      "4m 45s (1:10000 63.84%) 0.4519\n",
      "4m 57s (1:11000 70.22%) 0.4306\n",
      "5m 8s (1:12000 76.60%) 0.5471\n",
      "5m 20s (1:13000 82.99%) 0.5106\n",
      "5m 32s (1:14000 89.37%) 0.4140\n",
      "5m 44s (1:15000 95.75%) 0.5656\n",
      "---EPOCH 2---\n",
      "5m 52s (2:0 0.00%) 0.0005\n",
      "6m 4s (2:1000 6.38%) 0.4291\n",
      "6m 16s (2:2000 12.77%) 0.5538\n",
      "6m 28s (2:3000 19.15%) 0.6448\n",
      "6m 41s (2:4000 25.53%) 0.5948\n",
      "6m 52s (2:5000 31.92%) 0.5972\n",
      "7m 4s (2:6000 38.30%) 0.4519\n",
      "7m 16s (2:7000 44.69%) 0.3992\n",
      "7m 28s (2:8000 51.07%) 0.5370\n",
      "7m 40s (2:9000 57.45%) 0.4048\n",
      "7m 53s (2:10000 63.84%) 0.3901\n",
      "8m 5s (2:11000 70.22%) 0.4325\n",
      "8m 17s (2:12000 76.60%) 0.5154\n",
      "8m 29s (2:13000 82.99%) 0.4735\n",
      "8m 42s (2:14000 89.37%) 0.3729\n",
      "8m 54s (2:15000 95.75%) 0.5212\n",
      "---EPOCH 3---\n",
      "9m 3s (3:0 0.00%) 0.0002\n",
      "9m 15s (3:1000 6.38%) 0.3918\n",
      "9m 28s (3:2000 12.77%) 0.4975\n",
      "9m 41s (3:3000 19.15%) 0.6018\n",
      "9m 54s (3:4000 25.53%) 0.5355\n",
      "10m 6s (3:5000 31.92%) 0.5452\n",
      "10m 19s (3:6000 38.30%) 0.4236\n",
      "10m 31s (3:7000 44.69%) 0.3438\n",
      "10m 46s (3:8000 51.07%) 0.5010\n",
      "10m 59s (3:9000 57.45%) 0.4097\n",
      "11m 12s (3:10000 63.84%) 0.3664\n",
      "11m 25s (3:11000 70.22%) 0.4186\n",
      "11m 38s (3:12000 76.60%) 0.4571\n",
      "11m 51s (3:13000 82.99%) 0.4284\n",
      "12m 4s (3:14000 89.37%) 0.3328\n",
      "12m 17s (3:15000 95.75%) 0.4677\n",
      "---EPOCH 4---\n",
      "12m 27s (4:0 0.00%) 0.0001\n",
      "12m 39s (4:1000 6.38%) 0.3766\n",
      "12m 53s (4:2000 12.77%) 0.4635\n",
      "13m 7s (4:3000 19.15%) 0.5434\n",
      "13m 21s (4:4000 25.53%) 0.4789\n",
      "13m 34s (4:5000 31.92%) 0.4836\n",
      "13m 48s (4:6000 38.30%) 0.3995\n",
      "14m 2s (4:7000 44.69%) 0.2919\n",
      "14m 16s (4:8000 51.07%) 0.4967\n",
      "14m 30s (4:9000 57.45%) 0.4116\n",
      "14m 43s (4:10000 63.84%) 0.3377\n",
      "14m 57s (4:11000 70.22%) 0.3862\n",
      "15m 10s (4:12000 76.60%) 0.4555\n",
      "15m 23s (4:13000 82.99%) 0.3689\n",
      "15m 38s (4:14000 89.37%) 0.3065\n",
      "15m 51s (4:15000 95.75%) 0.4291\n",
      "---EPOCH 5---\n",
      "16m 1s (5:0 0.00%) 0.0001\n",
      "16m 15s (5:1000 6.38%) 0.3305\n",
      "16m 29s (5:2000 12.77%) 0.4279\n",
      "16m 44s (5:3000 19.15%) 0.4816\n",
      "16m 59s (5:4000 25.53%) 0.4256\n",
      "17m 12s (5:5000 31.92%) 0.4355\n",
      "17m 28s (5:6000 38.30%) 0.3842\n",
      "17m 42s (5:7000 44.69%) 0.2789\n",
      "17m 57s (5:8000 51.07%) 0.4328\n",
      "18m 13s (5:9000 57.45%) 0.4181\n",
      "18m 28s (5:10000 63.84%) 0.3210\n",
      "18m 43s (5:11000 70.22%) 0.3869\n",
      "18m 58s (5:12000 76.60%) 0.4381\n",
      "19m 13s (5:13000 82.99%) 0.3926\n",
      "19m 28s (5:14000 89.37%) 0.2724\n",
      "19m 44s (5:15000 95.75%) 0.4080\n",
      "---EPOCH 6---\n",
      "19m 54s (6:0 0.00%) 0.0001\n",
      "20m 8s (6:1000 6.38%) 0.2877\n",
      "20m 24s (6:2000 12.77%) 0.3745\n",
      "20m 39s (6:3000 19.15%) 0.4173\n",
      "20m 54s (6:4000 25.53%) 0.3978\n",
      "21m 8s (6:5000 31.92%) 0.3733\n",
      "21m 25s (6:6000 38.30%) 0.3194\n",
      "21m 40s (6:7000 44.69%) 0.2555\n",
      "21m 55s (6:8000 51.07%) 0.4423\n",
      "22m 11s (6:9000 57.45%) 0.3669\n",
      "22m 27s (6:10000 63.84%) 0.2635\n",
      "22m 42s (6:11000 70.22%) 0.3987\n",
      "22m 58s (6:12000 76.60%) 0.4243\n",
      "23m 14s (6:13000 82.99%) 0.3942\n",
      "23m 30s (6:14000 89.37%) 0.2676\n",
      "23m 45s (6:15000 95.75%) 0.4266\n",
      "---EPOCH 7---\n",
      "23m 56s (7:0 0.00%) 0.0001\n",
      "24m 12s (7:1000 6.38%) 0.2689\n",
      "24m 27s (7:2000 12.77%) 0.3342\n",
      "24m 43s (7:3000 19.15%) 0.3711\n",
      "24m 58s (7:4000 25.53%) 0.4082\n",
      "25m 13s (7:5000 31.92%) 0.3219\n",
      "25m 31s (7:6000 38.30%) 0.3435\n",
      "25m 47s (7:7000 44.69%) 0.2524\n",
      "26m 3s (7:8000 51.07%) 0.4030\n",
      "26m 20s (7:9000 57.45%) 0.3365\n",
      "26m 36s (7:10000 63.84%) 0.2434\n",
      "26m 53s (7:11000 70.22%) 0.3697\n",
      "27m 10s (7:12000 76.60%) 0.4505\n",
      "27m 26s (7:13000 82.99%) 0.3377\n",
      "27m 42s (7:14000 89.37%) 0.2605\n",
      "27m 58s (7:15000 95.75%) 0.3374\n",
      "---EPOCH 8---\n",
      "28m 9s (8:0 0.00%) 0.0000\n",
      "28m 25s (8:1000 6.38%) 0.2566\n",
      "28m 42s (8:2000 12.77%) 0.3426\n",
      "28m 58s (8:3000 19.15%) 0.3757\n",
      "29m 14s (8:4000 25.53%) 0.3340\n",
      "29m 30s (8:5000 31.92%) 0.2964\n",
      "29m 48s (8:6000 38.30%) 0.3404\n",
      "30m 4s (8:7000 44.69%) 0.2454\n",
      "30m 20s (8:8000 51.07%) 0.3979\n",
      "30m 38s (8:9000 57.45%) 0.3483\n",
      "30m 55s (8:10000 63.84%) 0.2474\n",
      "31m 13s (8:11000 70.22%) 0.3793\n",
      "31m 30s (8:12000 76.60%) 0.4430\n",
      "31m 47s (8:13000 82.99%) 0.3514\n",
      "32m 4s (8:14000 89.37%) 0.2413\n",
      "32m 21s (8:15000 95.75%) 0.3119\n",
      "---EPOCH 9---\n",
      "32m 33s (9:0 0.00%) 0.0000\n",
      "32m 50s (9:1000 6.38%) 0.2542\n",
      "33m 7s (9:2000 12.77%) 0.3108\n",
      "33m 23s (9:3000 19.15%) 0.3460\n",
      "33m 41s (9:4000 25.53%) 0.3284\n",
      "33m 58s (9:5000 31.92%) 0.2395\n",
      "34m 17s (9:6000 38.30%) 0.3759\n",
      "34m 36s (9:7000 44.69%) 0.2526\n",
      "34m 53s (9:8000 51.07%) 0.3648\n",
      "35m 10s (9:9000 57.45%) 0.3113\n",
      "35m 29s (9:10000 63.84%) 0.2441\n",
      "35m 47s (9:11000 70.22%) 0.3719\n",
      "36m 5s (9:12000 76.60%) 0.4369\n",
      "36m 23s (9:13000 82.99%) 0.3037\n",
      "36m 41s (9:14000 89.37%) 0.2383\n",
      "36m 58s (9:15000 95.75%) 0.2814\n"
     ]
    }
   ],
   "source": [
    "#model.fit(train_features, train_targets)"
   ]
  },
  {
   "cell_type": "code",
   "execution_count": 112,
   "metadata": {},
   "outputs": [],
   "source": [
    "#model.save_model(\"../model/literal_listener_10epoch.params\")"
   ]
  },
  {
   "cell_type": "code",
   "execution_count": 116,
   "metadata": {},
   "outputs": [],
   "source": [
    "model.load_model(\"../model/literal_listener_10epoch.params\")"
   ]
  },
  {
   "cell_type": "code",
   "execution_count": 117,
   "metadata": {},
   "outputs": [],
   "source": [
    "%%time\n",
    "model_outputs = model.predict(dev_features)"
   ]
  },
  {
   "cell_type": "code",
   "execution_count": 118,
   "metadata": {},
   "outputs": [
    {
     "data": {
      "text/plain": [
       "[tensor([[-19.9660, -42.4203,   0.0000]]),\n",
       " tensor([[-5.0325e+01, -3.8782e+00, -2.0905e-02]]),\n",
       " tensor([[-20.6142,   0.0000, -23.8036]]),\n",
       " tensor([[-96.3790, -85.4181,   0.0000]]),\n",
       " tensor([[-69.7986, -38.0655,   0.0000]])]"
      ]
     },
     "execution_count": 118,
     "metadata": {},
     "output_type": "execute_result"
    }
   ],
   "source": [
    "model_outputs[:5]"
   ]
  },
  {
   "cell_type": "code",
   "execution_count": 119,
   "metadata": {},
   "outputs": [
    {
     "data": {
      "text/plain": [
       "[array([2]), array([2]), array([1]), array([2]), array([2])]"
      ]
     },
     "execution_count": 119,
     "metadata": {},
     "output_type": "execute_result"
    }
   ],
   "source": [
    "dev_targets[:5]"
   ]
  },
  {
   "cell_type": "code",
   "execution_count": 120,
   "metadata": {},
   "outputs": [
    {
     "data": {
      "text/plain": [
       "array([[-19.96595 , -42.420288,   0.      ]], dtype=float32)"
      ]
     },
     "execution_count": 120,
     "metadata": {},
     "output_type": "execute_result"
    }
   ],
   "source": [
    "model_outputs[0].numpy()"
   ]
  },
  {
   "cell_type": "code",
   "execution_count": 123,
   "metadata": {},
   "outputs": [],
   "source": [
    "model_outputs_np = np.array([mo.view(-1).numpy() for mo in model_outputs])"
   ]
  },
  {
   "cell_type": "code",
   "execution_count": 127,
   "metadata": {},
   "outputs": [
    {
     "data": {
      "text/plain": [
       "array([[-1.9965950e+01, -4.2420288e+01,  0.0000000e+00],\n",
       "       [-5.0324768e+01, -3.8782482e+00, -2.0904541e-02],\n",
       "       [-2.0614235e+01,  0.0000000e+00, -2.3803600e+01],\n",
       "       [-9.6378983e+01, -8.5418053e+01,  0.0000000e+00],\n",
       "       [-6.9798553e+01, -3.8065472e+01,  0.0000000e+00]], dtype=float32)"
      ]
     },
     "execution_count": 127,
     "metadata": {},
     "output_type": "execute_result"
    }
   ],
   "source": [
    "model_outputs_np[:5]"
   ]
  },
  {
   "cell_type": "code",
   "execution_count": 129,
   "metadata": {},
   "outputs": [
    {
     "data": {
      "text/plain": [
       "array([2, 2, 1, 2, 2])"
      ]
     },
     "execution_count": 129,
     "metadata": {},
     "output_type": "execute_result"
    }
   ],
   "source": [
    "np.argmax(model_outputs_np[:5], axis=1)"
   ]
  },
  {
   "cell_type": "code",
   "execution_count": 137,
   "metadata": {},
   "outputs": [],
   "source": [
    "targets_np = np.array(dev_targets[:5]).flatten()"
   ]
  },
  {
   "cell_type": "code",
   "execution_count": 133,
   "metadata": {},
   "outputs": [
    {
     "data": {
      "text/plain": [
       "5"
      ]
     },
     "execution_count": 133,
     "metadata": {},
     "output_type": "execute_result"
    }
   ],
   "source": [
    "sum(np.array(dev_targets[:5]).flatten() == np.argmax(model_outputs_np[:5], axis=1))"
   ]
  },
  {
   "cell_type": "code",
   "execution_count": 134,
   "metadata": {},
   "outputs": [],
   "source": [
    "def accuracy(model_outputs, targets):\n",
    "    model_outputs = np.argmax(model_outputs, axis=1)\n",
    "    targets = np.array(targets).flatten()\n",
    "    \n",
    "    num_correct = sum(model_outputs == targets)\n",
    "    return num_correct / len(targets)"
   ]
  },
  {
   "cell_type": "code",
   "execution_count": 136,
   "metadata": {},
   "outputs": [
    {
     "data": {
      "text/plain": [
       "0.7913848117421826"
      ]
     },
     "execution_count": 136,
     "metadata": {},
     "output_type": "execute_result"
    }
   ],
   "source": [
    "accuracy(model_outputs_np, dev_targets)"
   ]
  },
  {
   "cell_type": "code",
   "execution_count": 140,
   "metadata": {},
   "outputs": [
    {
     "data": {
      "text/plain": [
       "array([[-1.9965950e+01, -4.2420288e+01,  0.0000000e+00],\n",
       "       [-5.0324768e+01, -3.8782482e+00, -2.0904541e-02],\n",
       "       [-2.0614235e+01,  0.0000000e+00, -2.3803600e+01],\n",
       "       [-9.6378983e+01, -8.5418053e+01,  0.0000000e+00],\n",
       "       [-6.9798553e+01, -3.8065472e+01,  0.0000000e+00]], dtype=float32)"
      ]
     },
     "execution_count": 140,
     "metadata": {},
     "output_type": "execute_result"
    }
   ],
   "source": [
    "model_outputs_np[:5]"
   ]
  },
  {
   "cell_type": "code",
   "execution_count": 148,
   "metadata": {},
   "outputs": [
    {
     "data": {
      "text/plain": [
       "array([ 0.        , -0.02090454,  0.        ,  0.        ,  0.        ],\n",
       "      dtype=float32)"
      ]
     },
     "execution_count": 148,
     "metadata": {},
     "output_type": "execute_result"
    }
   ],
   "source": [
    "model_outputs_np[:5][np.arange(len(targets_np)), targets_np]"
   ]
  },
  {
   "cell_type": "code",
   "execution_count": 143,
   "metadata": {},
   "outputs": [
    {
     "data": {
      "text/plain": [
       "array([2, 2, 1, 2, 2])"
      ]
     },
     "execution_count": 143,
     "metadata": {},
     "output_type": "execute_result"
    }
   ],
   "source": [
    "targets_np.T"
   ]
  },
  {
   "cell_type": "code",
   "execution_count": 165,
   "metadata": {},
   "outputs": [],
   "source": [
    "argstuff = {'hi':2, 'lo':4}"
   ]
  },
  {
   "cell_type": "code",
   "execution_count": 170,
   "metadata": {},
   "outputs": [],
   "source": [
    "def hi(i, **kwargs):\n",
    "    print(\"The\" ,i, \"th caller\")\n",
    "    print(kwargs)"
   ]
  },
  {
   "cell_type": "code",
   "execution_count": 173,
   "metadata": {},
   "outputs": [
    {
     "name": "stdout",
     "output_type": "stream",
     "text": [
      "The 3 th caller\n",
      "{}\n"
     ]
    }
   ],
   "source": [
    "hi(3, **{})"
   ]
  },
  {
   "cell_type": "code",
   "execution_count": 156,
   "metadata": {},
   "outputs": [],
   "source": [
    "def to_score(model_outputs, dev_targets):\n",
    "    return model_outputs[np.arange(len(model_outputs)), dev_targets]"
   ]
  },
  {
   "cell_type": "code",
   "execution_count": 157,
   "metadata": {},
   "outputs": [],
   "source": [
    "model_scores = to_score(model_outputs_np, np.array(dev_targets).flatten())"
   ]
  },
  {
   "cell_type": "code",
   "execution_count": 158,
   "metadata": {},
   "outputs": [
    {
     "data": {
      "text/plain": [
       "array([ 0.        , -0.02090454,  0.        , ...,  0.        ,\n",
       "        0.        ,  0.        ], dtype=float32)"
      ]
     },
     "execution_count": 158,
     "metadata": {},
     "output_type": "execute_result"
    }
   ],
   "source": [
    "model_scores"
   ]
  },
  {
   "cell_type": "code",
   "execution_count": 151,
   "metadata": {},
   "outputs": [
    {
     "data": {
      "text/plain": [
       "array([2, 2, 1, ..., 2, 1, 2])"
      ]
     },
     "execution_count": 151,
     "metadata": {},
     "output_type": "execute_result"
    }
   ],
   "source": [
    "np.array(dev_targets).flatten()"
   ]
  },
  {
   "cell_type": "code",
   "execution_count": 152,
   "metadata": {},
   "outputs": [
    {
     "data": {
      "text/plain": [
       "array([    0,     1,     2, ..., 15667, 15668, 15669])"
      ]
     },
     "execution_count": 152,
     "metadata": {},
     "output_type": "execute_result"
    }
   ],
   "source": [
    "np.arange(len(model_outputs_np))"
   ]
  },
  {
   "cell_type": "code",
   "execution_count": 155,
   "metadata": {},
   "outputs": [
    {
     "data": {
      "text/plain": [
       "array([ 0.        , -0.02090454,  0.        , ...,  0.        ,\n",
       "        0.        ,  0.        ], dtype=float32)"
      ]
     },
     "execution_count": 155,
     "metadata": {},
     "output_type": "execute_result"
    }
   ],
   "source": [
    "model_outputs_np[np.arange(len(model_outputs_np)), np.array(dev_targets).flatten()]"
   ]
  },
  {
   "cell_type": "code",
   "execution_count": 189,
   "metadata": {},
   "outputs": [
    {
     "data": {
      "text/plain": [
       "array([ 0.        , -0.02090454,  0.        , ...,  0.        ,\n",
       "        0.        ,  0.        ], dtype=float32)"
      ]
     },
     "execution_count": 189,
     "metadata": {},
     "output_type": "execute_result"
    }
   ],
   "source": [
    "model_scores"
   ]
  },
  {
   "cell_type": "code",
   "execution_count": 159,
   "metadata": {},
   "outputs": [],
   "source": [
    "from evaluation import score_model"
   ]
  },
  {
   "cell_type": "code",
   "execution_count": 160,
   "metadata": {},
   "outputs": [
    {
     "data": {
      "text/plain": [
       "(0.2405230644216966, 1.4965601575829739e-05)"
      ]
     },
     "execution_count": 160,
     "metadata": {},
     "output_type": "execute_result"
    }
   ],
   "source": [
    "score_model(dev_data, model_scores)"
   ]
  },
  {
   "cell_type": "code",
   "execution_count": 190,
   "metadata": {},
   "outputs": [
    {
     "data": {
      "text/plain": [
       "(0.32298518345881677, 3.947468963173441e-09)"
      ]
     },
     "execution_count": 190,
     "metadata": {},
     "output_type": "execute_result"
    }
   ],
   "source": [
    "score_model(dev_data, np.exp(model_scores))"
   ]
  },
  {
   "cell_type": "code",
   "execution_count": 183,
   "metadata": {},
   "outputs": [
    {
     "data": {
      "text/plain": [
       "array([0])"
      ]
     },
     "execution_count": 183,
     "metadata": {},
     "output_type": "execute_result"
    }
   ],
   "source": [
    "np.where(np.array([0, 2, 1]) == 0)[0]"
   ]
  },
  {
   "cell_type": "code",
   "execution_count": 186,
   "metadata": {},
   "outputs": [
    {
     "data": {
      "text/plain": [
       "tensor([1])"
      ]
     },
     "execution_count": 186,
     "metadata": {},
     "output_type": "execute_result"
    }
   ],
   "source": [
    "torch.tensor([1])"
   ]
  },
  {
   "cell_type": "code",
   "execution_count": 192,
   "metadata": {},
   "outputs": [
    {
     "data": {
      "text/plain": [
       "array([[0., 0., 0.],\n",
       "       [0., 0., 0.],\n",
       "       [0., 0., 0.],\n",
       "       ...,\n",
       "       [0., 0., 0.],\n",
       "       [0., 0., 0.],\n",
       "       [0., 0., 0.]])"
      ]
     },
     "execution_count": 192,
     "metadata": {},
     "output_type": "execute_result"
    }
   ],
   "source": [
    "np.empty([len(model_outputs), 3])"
   ]
  },
  {
   "cell_type": "code",
   "execution_count": null,
   "metadata": {},
   "outputs": [],
   "source": []
  }
 ],
 "metadata": {
  "kernelspec": {
   "display_name": "Python 3",
   "language": "python",
   "name": "python3"
  },
  "language_info": {
   "codemirror_mode": {
    "name": "ipython",
    "version": 3
   },
   "file_extension": ".py",
   "mimetype": "text/x-python",
   "name": "python",
   "nbconvert_exporter": "python",
   "pygments_lexer": "ipython3",
   "version": "3.6.8"
  }
 },
 "nbformat": 4,
 "nbformat_minor": 2
}
