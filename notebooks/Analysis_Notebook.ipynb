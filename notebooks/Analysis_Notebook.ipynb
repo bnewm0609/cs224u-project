{
 "cells": [
  {
   "cell_type": "code",
   "execution_count": null,
   "metadata": {},
   "outputs": [],
   "source": [
    "# so we can use packages from parent directory\n",
    "import sys\n",
    "sys.path.append(\"..\")"
   ]
  },
  {
   "cell_type": "code",
   "execution_count": 76,
   "metadata": {
    "scrolled": true
   },
   "outputs": [],
   "source": [
    "import matplotlib\n",
    "import matplotlib.pyplot as plt\n",
    "import matplotlib.colors as cols\n",
    "import colorsys as cs\n",
    "import pandas as pd\n",
    "import numpy as np\n",
    "import pickle\n",
    "import nltk\n",
    "\n",
    "data = pd.read_csv(\"filteredCorpus.csv\")\n",
    "\n",
    "colors = data[[\"clickColH\", \"clickColS\", \"clickColL\", \"alt1ColH\", \"alt1ColS\", \"alt1ColL\", \"alt2ColH\", \"alt2ColS\", \"alt2ColL\", \"contents\"]]\n",
    "hs = data[\"clickColH\"]\n",
    "ss = data[\"clickColS\"]\n",
    "ls = data[\"clickColL\"]\n",
    "print(colors.shape)\n",
    "print(colors.head())\n",
    "print(np.array(colors.loc[0,]))"
   ]
  },
  {
   "cell_type": "code",
   "execution_count": 137,
   "metadata": {},
   "outputs": [
    {
     "data": {
      "text/plain": [
       "(57946, 36)"
      ]
     },
     "execution_count": 137,
     "metadata": {},
     "output_type": "execute_result"
    }
   ],
   "source": [
    "data.shape"
   ]
  },
  {
   "cell_type": "code",
   "execution_count": 24,
   "metadata": {},
   "outputs": [
    {
     "data": {
      "text/html": [
       "<div>\n",
       "<style>\n",
       "    .dataframe thead tr:only-child th {\n",
       "        text-align: right;\n",
       "    }\n",
       "\n",
       "    .dataframe thead th {\n",
       "        text-align: left;\n",
       "    }\n",
       "\n",
       "    .dataframe tbody tr th {\n",
       "        vertical-align: top;\n",
       "    }\n",
       "</style>\n",
       "<table border=\"1\" class=\"dataframe\">\n",
       "  <thead>\n",
       "    <tr style=\"text-align: right;\">\n",
       "      <th></th>\n",
       "      <th>0</th>\n",
       "      <th>1</th>\n",
       "      <th>2</th>\n",
       "      <th>3</th>\n",
       "    </tr>\n",
       "  </thead>\n",
       "  <tbody>\n",
       "    <tr>\n",
       "      <th>gameid</th>\n",
       "      <td>1124-1</td>\n",
       "      <td>1124-1</td>\n",
       "      <td>1124-1</td>\n",
       "      <td>1124-1</td>\n",
       "    </tr>\n",
       "    <tr>\n",
       "      <th>clkTime</th>\n",
       "      <td>1.45988e+12</td>\n",
       "      <td>1.45988e+12</td>\n",
       "      <td>1.45988e+12</td>\n",
       "      <td>1.45988e+12</td>\n",
       "    </tr>\n",
       "    <tr>\n",
       "      <th>roundNum</th>\n",
       "      <td>1</td>\n",
       "      <td>2</td>\n",
       "      <td>3</td>\n",
       "      <td>3</td>\n",
       "    </tr>\n",
       "    <tr>\n",
       "      <th>condition</th>\n",
       "      <td>close</td>\n",
       "      <td>far</td>\n",
       "      <td>close</td>\n",
       "      <td>close</td>\n",
       "    </tr>\n",
       "    <tr>\n",
       "      <th>clickStatus</th>\n",
       "      <td>distr2</td>\n",
       "      <td>target</td>\n",
       "      <td>distr2</td>\n",
       "      <td>distr2</td>\n",
       "    </tr>\n",
       "    <tr>\n",
       "      <th>clickColH</th>\n",
       "      <td>248</td>\n",
       "      <td>249</td>\n",
       "      <td>291</td>\n",
       "      <td>291</td>\n",
       "    </tr>\n",
       "    <tr>\n",
       "      <th>clickColS</th>\n",
       "      <td>92</td>\n",
       "      <td>25</td>\n",
       "      <td>59</td>\n",
       "      <td>59</td>\n",
       "    </tr>\n",
       "    <tr>\n",
       "      <th>clickColL</th>\n",
       "      <td>50</td>\n",
       "      <td>50</td>\n",
       "      <td>50</td>\n",
       "      <td>50</td>\n",
       "    </tr>\n",
       "    <tr>\n",
       "      <th>clickLocS</th>\n",
       "      <td>3</td>\n",
       "      <td>1</td>\n",
       "      <td>3</td>\n",
       "      <td>3</td>\n",
       "    </tr>\n",
       "    <tr>\n",
       "      <th>clickLocL</th>\n",
       "      <td>1</td>\n",
       "      <td>2</td>\n",
       "      <td>3</td>\n",
       "      <td>3</td>\n",
       "    </tr>\n",
       "    <tr>\n",
       "      <th>alt1Status</th>\n",
       "      <td>target</td>\n",
       "      <td>distr2</td>\n",
       "      <td>target</td>\n",
       "      <td>target</td>\n",
       "    </tr>\n",
       "    <tr>\n",
       "      <th>alt1ColH</th>\n",
       "      <td>226</td>\n",
       "      <td>54</td>\n",
       "      <td>301</td>\n",
       "      <td>301</td>\n",
       "    </tr>\n",
       "    <tr>\n",
       "      <th>alt1ColS</th>\n",
       "      <td>81</td>\n",
       "      <td>53</td>\n",
       "      <td>57</td>\n",
       "      <td>57</td>\n",
       "    </tr>\n",
       "    <tr>\n",
       "      <th>alt1ColL</th>\n",
       "      <td>50</td>\n",
       "      <td>50</td>\n",
       "      <td>50</td>\n",
       "      <td>50</td>\n",
       "    </tr>\n",
       "    <tr>\n",
       "      <th>alt1LocS</th>\n",
       "      <td>1</td>\n",
       "      <td>3</td>\n",
       "      <td>2</td>\n",
       "      <td>2</td>\n",
       "    </tr>\n",
       "    <tr>\n",
       "      <th>alt1LocL</th>\n",
       "      <td>2</td>\n",
       "      <td>3</td>\n",
       "      <td>2</td>\n",
       "      <td>2</td>\n",
       "    </tr>\n",
       "    <tr>\n",
       "      <th>alt2Status</th>\n",
       "      <td>distr1</td>\n",
       "      <td>distr1</td>\n",
       "      <td>distr1</td>\n",
       "      <td>distr1</td>\n",
       "    </tr>\n",
       "    <tr>\n",
       "      <th>alt2ColH</th>\n",
       "      <td>283</td>\n",
       "      <td>129</td>\n",
       "      <td>302</td>\n",
       "      <td>302</td>\n",
       "    </tr>\n",
       "    <tr>\n",
       "      <th>alt2ColS</th>\n",
       "      <td>87</td>\n",
       "      <td>66</td>\n",
       "      <td>86</td>\n",
       "      <td>86</td>\n",
       "    </tr>\n",
       "    <tr>\n",
       "      <th>alt2ColL</th>\n",
       "      <td>50</td>\n",
       "      <td>50</td>\n",
       "      <td>50</td>\n",
       "      <td>50</td>\n",
       "    </tr>\n",
       "    <tr>\n",
       "      <th>alt2LocS</th>\n",
       "      <td>2</td>\n",
       "      <td>2</td>\n",
       "      <td>1</td>\n",
       "      <td>1</td>\n",
       "    </tr>\n",
       "    <tr>\n",
       "      <th>alt2LocL</th>\n",
       "      <td>3</td>\n",
       "      <td>1</td>\n",
       "      <td>1</td>\n",
       "      <td>1</td>\n",
       "    </tr>\n",
       "    <tr>\n",
       "      <th>targetD1Diff</th>\n",
       "      <td>19</td>\n",
       "      <td>58</td>\n",
       "      <td>6</td>\n",
       "      <td>6</td>\n",
       "    </tr>\n",
       "    <tr>\n",
       "      <th>targetD2Diff</th>\n",
       "      <td>10</td>\n",
       "      <td>61</td>\n",
       "      <td>5</td>\n",
       "      <td>5</td>\n",
       "    </tr>\n",
       "    <tr>\n",
       "      <th>D1D2Diff</th>\n",
       "      <td>17</td>\n",
       "      <td>25</td>\n",
       "      <td>10</td>\n",
       "      <td>10</td>\n",
       "    </tr>\n",
       "    <tr>\n",
       "      <th>outcome</th>\n",
       "      <td>False</td>\n",
       "      <td>True</td>\n",
       "      <td>False</td>\n",
       "      <td>False</td>\n",
       "    </tr>\n",
       "    <tr>\n",
       "      <th>msgTime</th>\n",
       "      <td>1.45988e+12</td>\n",
       "      <td>1.45988e+12</td>\n",
       "      <td>1.45988e+12</td>\n",
       "      <td>1.45988e+12</td>\n",
       "    </tr>\n",
       "    <tr>\n",
       "      <th>role</th>\n",
       "      <td>speaker</td>\n",
       "      <td>speaker</td>\n",
       "      <td>speaker</td>\n",
       "      <td>speaker</td>\n",
       "    </tr>\n",
       "    <tr>\n",
       "      <th>contents</th>\n",
       "      <td>The darker blue one</td>\n",
       "      <td>purple</td>\n",
       "      <td>Medium pink</td>\n",
       "      <td>the medium dark one</td>\n",
       "    </tr>\n",
       "    <tr>\n",
       "      <th>workerid_uniq</th>\n",
       "      <td>201</td>\n",
       "      <td>201</td>\n",
       "      <td>201</td>\n",
       "      <td>201</td>\n",
       "    </tr>\n",
       "    <tr>\n",
       "      <th>numOutcome</th>\n",
       "      <td>0</td>\n",
       "      <td>1</td>\n",
       "      <td>0</td>\n",
       "      <td>0</td>\n",
       "    </tr>\n",
       "    <tr>\n",
       "      <th>numRawWords</th>\n",
       "      <td>4</td>\n",
       "      <td>1</td>\n",
       "      <td>2</td>\n",
       "      <td>4</td>\n",
       "    </tr>\n",
       "    <tr>\n",
       "      <th>numRawChars</th>\n",
       "      <td>16</td>\n",
       "      <td>6</td>\n",
       "      <td>10</td>\n",
       "      <td>16</td>\n",
       "    </tr>\n",
       "    <tr>\n",
       "      <th>numCleanChars</th>\n",
       "      <td>13</td>\n",
       "      <td>6</td>\n",
       "      <td>10</td>\n",
       "      <td>13</td>\n",
       "    </tr>\n",
       "    <tr>\n",
       "      <th>numCleanWords</th>\n",
       "      <td>3</td>\n",
       "      <td>1</td>\n",
       "      <td>2</td>\n",
       "      <td>3</td>\n",
       "    </tr>\n",
       "    <tr>\n",
       "      <th>source</th>\n",
       "      <td>human</td>\n",
       "      <td>human</td>\n",
       "      <td>human</td>\n",
       "      <td>human</td>\n",
       "    </tr>\n",
       "  </tbody>\n",
       "</table>\n",
       "</div>"
      ],
      "text/plain": [
       "                                 0            1            2  \\\n",
       "gameid                      1124-1       1124-1       1124-1   \n",
       "clkTime                1.45988e+12  1.45988e+12  1.45988e+12   \n",
       "roundNum                         1            2            3   \n",
       "condition                    close          far        close   \n",
       "clickStatus                 distr2       target       distr2   \n",
       "clickColH                      248          249          291   \n",
       "clickColS                       92           25           59   \n",
       "clickColL                       50           50           50   \n",
       "clickLocS                        3            1            3   \n",
       "clickLocL                        1            2            3   \n",
       "alt1Status                  target       distr2       target   \n",
       "alt1ColH                       226           54          301   \n",
       "alt1ColS                        81           53           57   \n",
       "alt1ColL                        50           50           50   \n",
       "alt1LocS                         1            3            2   \n",
       "alt1LocL                         2            3            2   \n",
       "alt2Status                  distr1       distr1       distr1   \n",
       "alt2ColH                       283          129          302   \n",
       "alt2ColS                        87           66           86   \n",
       "alt2ColL                        50           50           50   \n",
       "alt2LocS                         2            2            1   \n",
       "alt2LocL                         3            1            1   \n",
       "targetD1Diff                    19           58            6   \n",
       "targetD2Diff                    10           61            5   \n",
       "D1D2Diff                        17           25           10   \n",
       "outcome                      False         True        False   \n",
       "msgTime                1.45988e+12  1.45988e+12  1.45988e+12   \n",
       "role                       speaker      speaker      speaker   \n",
       "contents       The darker blue one       purple  Medium pink   \n",
       "workerid_uniq                  201          201          201   \n",
       "numOutcome                       0            1            0   \n",
       "numRawWords                      4            1            2   \n",
       "numRawChars                     16            6           10   \n",
       "numCleanChars                   13            6           10   \n",
       "numCleanWords                    3            1            2   \n",
       "source                       human        human        human   \n",
       "\n",
       "                                 3  \n",
       "gameid                      1124-1  \n",
       "clkTime                1.45988e+12  \n",
       "roundNum                         3  \n",
       "condition                    close  \n",
       "clickStatus                 distr2  \n",
       "clickColH                      291  \n",
       "clickColS                       59  \n",
       "clickColL                       50  \n",
       "clickLocS                        3  \n",
       "clickLocL                        3  \n",
       "alt1Status                  target  \n",
       "alt1ColH                       301  \n",
       "alt1ColS                        57  \n",
       "alt1ColL                        50  \n",
       "alt1LocS                         2  \n",
       "alt1LocL                         2  \n",
       "alt2Status                  distr1  \n",
       "alt2ColH                       302  \n",
       "alt2ColS                        86  \n",
       "alt2ColL                        50  \n",
       "alt2LocS                         1  \n",
       "alt2LocL                         1  \n",
       "targetD1Diff                     6  \n",
       "targetD2Diff                     5  \n",
       "D1D2Diff                        10  \n",
       "outcome                      False  \n",
       "msgTime                1.45988e+12  \n",
       "role                       speaker  \n",
       "contents       the medium dark one  \n",
       "workerid_uniq                  201  \n",
       "numOutcome                       0  \n",
       "numRawWords                      4  \n",
       "numRawChars                     16  \n",
       "numCleanChars                   13  \n",
       "numCleanWords                    3  \n",
       "source                       human  "
      ]
     },
     "execution_count": 24,
     "metadata": {},
     "output_type": "execute_result"
    }
   ],
   "source": [
    "data[0:4].T"
   ]
  },
  {
   "cell_type": "code",
   "execution_count": 51,
   "metadata": {},
   "outputs": [],
   "source": [
    "class MonroeDataEntry():\n",
    "    \n",
    "    def __init__(self, k, raw_row):\n",
    "        # format: [target, distr1, distr2]\n",
    "        self.click_to_idx = {'target': 0, 'distr1':1, 'distr2':2}\n",
    "        \n",
    "        self.index = k\n",
    "        self.colors = self.parse_colors(raw_row)\n",
    "        self.caption = raw_row[\"contents\"]\n",
    "        self.tokens = nltk.word_tokenize(self.caption)\n",
    "        self.target_idx = 0\n",
    "        self.click_idx = self.click_to_idx[raw_row['clickStatus']]\n",
    "        self.outcome = raw_row[\"outcome\"]\n",
    "        self.condition = raw_row[\"condition\"]\n",
    "    \n",
    "    def _parse_color(self, raw_row, field):\n",
    "        # get the dataframe keys by splitting a string - maintain HSL order\n",
    "        color_ids = \"{0}ColH {0}ColS {0}ColL {0}Status\".format(field).split()\n",
    "        color_vals = [raw_row[key] for key in color_ids]\n",
    "        color = Color(*color_vals[:3])\n",
    "        color_idx = self.click_to_idx[color_vals[-1]]\n",
    "        return (color_idx, color)\n",
    "            \n",
    "    def parse_colors(self, raw_row):\n",
    "        colors = [None, None, None]\n",
    "        for field in ['click', 'alt1', 'alt2']:\n",
    "            color_idx, color = self._parse_color(raw_row, field)\n",
    "            colors[color_idx] = color\n",
    "        return colors\n",
    "    \n",
    "    def __repr__(self):\n",
    "        return self.caption"
   ]
  },
  {
   "cell_type": "code",
   "execution_count": 116,
   "metadata": {
    "collapsed": true
   },
   "outputs": [
    {
     "ename": "IndexError",
     "evalue": "only integers, slices (`:`), ellipsis (`...`), numpy.newaxis (`None`) and integer or boolean arrays are valid indices",
     "output_type": "error",
     "traceback": [
      "\u001b[0;31m---------------------------------------------------------------------------\u001b[0m",
      "\u001b[0;31mIndexError\u001b[0m                                Traceback (most recent call last)",
      "\u001b[0;32m<ipython-input-116-ba8d679df6c4>\u001b[0m in \u001b[0;36m<module>\u001b[0;34m()\u001b[0m\n\u001b[0;32m----> 1\u001b[0;31m \u001b[0mtest_mde\u001b[0m \u001b[0;34m=\u001b[0m \u001b[0mMonroeDataEntry\u001b[0m\u001b[0;34m(\u001b[0m\u001b[0mdata\u001b[0m\u001b[0;34m[\u001b[0m\u001b[0;36m0\u001b[0m\u001b[0;34m:\u001b[0m\u001b[0;36m1\u001b[0m\u001b[0;34m]\u001b[0m\u001b[0;34m.\u001b[0m\u001b[0mvalues\u001b[0m\u001b[0;34m)\u001b[0m\u001b[0;34m\u001b[0m\u001b[0;34m\u001b[0m\u001b[0m\n\u001b[0m",
      "\u001b[0;32m<ipython-input-114-5b2ec87c3139>\u001b[0m in \u001b[0;36m__init__\u001b[0;34m(self, raw_row)\u001b[0m\n\u001b[1;32m      5\u001b[0m         \u001b[0mself\u001b[0m\u001b[0;34m.\u001b[0m\u001b[0mclick_to_idx\u001b[0m \u001b[0;34m=\u001b[0m \u001b[0;34m{\u001b[0m\u001b[0;34m'target'\u001b[0m\u001b[0;34m:\u001b[0m \u001b[0;36m0\u001b[0m\u001b[0;34m,\u001b[0m \u001b[0;34m'distr1'\u001b[0m\u001b[0;34m:\u001b[0m\u001b[0;36m1\u001b[0m\u001b[0;34m,\u001b[0m \u001b[0;34m'distr2'\u001b[0m\u001b[0;34m:\u001b[0m\u001b[0;36m2\u001b[0m\u001b[0;34m}\u001b[0m\u001b[0;34m\u001b[0m\u001b[0;34m\u001b[0m\u001b[0m\n\u001b[1;32m      6\u001b[0m \u001b[0;34m\u001b[0m\u001b[0m\n\u001b[0;32m----> 7\u001b[0;31m         \u001b[0mself\u001b[0m\u001b[0;34m.\u001b[0m\u001b[0mcolors\u001b[0m \u001b[0;34m=\u001b[0m \u001b[0mself\u001b[0m\u001b[0;34m.\u001b[0m\u001b[0mparse_colors\u001b[0m\u001b[0;34m(\u001b[0m\u001b[0mraw_row\u001b[0m\u001b[0;34m)\u001b[0m\u001b[0;34m\u001b[0m\u001b[0;34m\u001b[0m\u001b[0m\n\u001b[0m\u001b[1;32m      8\u001b[0m         \u001b[0mself\u001b[0m\u001b[0;34m.\u001b[0m\u001b[0mcaption\u001b[0m \u001b[0;34m=\u001b[0m \u001b[0mraw_row\u001b[0m\u001b[0;34m[\u001b[0m\u001b[0;34m\"contents\"\u001b[0m\u001b[0;34m]\u001b[0m\u001b[0;34m\u001b[0m\u001b[0;34m\u001b[0m\u001b[0m\n\u001b[1;32m      9\u001b[0m         \u001b[0mself\u001b[0m\u001b[0;34m.\u001b[0m\u001b[0mtarget_idx\u001b[0m \u001b[0;34m=\u001b[0m \u001b[0;36m0\u001b[0m\u001b[0;34m\u001b[0m\u001b[0;34m\u001b[0m\u001b[0m\n",
      "\u001b[0;32m<ipython-input-114-5b2ec87c3139>\u001b[0m in \u001b[0;36mparse_colors\u001b[0;34m(self, raw_row)\u001b[0m\n\u001b[1;32m     26\u001b[0m         \u001b[0mcolors\u001b[0m \u001b[0;34m=\u001b[0m \u001b[0;34m[\u001b[0m\u001b[0;32mNone\u001b[0m\u001b[0;34m,\u001b[0m \u001b[0;32mNone\u001b[0m\u001b[0;34m,\u001b[0m \u001b[0;32mNone\u001b[0m\u001b[0;34m]\u001b[0m\u001b[0;34m\u001b[0m\u001b[0;34m\u001b[0m\u001b[0m\n\u001b[1;32m     27\u001b[0m         \u001b[0;32mfor\u001b[0m \u001b[0mfield\u001b[0m \u001b[0;32min\u001b[0m \u001b[0;34m[\u001b[0m\u001b[0;34m'click'\u001b[0m\u001b[0;34m,\u001b[0m \u001b[0;34m'alt1'\u001b[0m\u001b[0;34m,\u001b[0m \u001b[0;34m'alt2'\u001b[0m\u001b[0;34m]\u001b[0m\u001b[0;34m:\u001b[0m\u001b[0;34m\u001b[0m\u001b[0;34m\u001b[0m\u001b[0m\n\u001b[0;32m---> 28\u001b[0;31m             \u001b[0mcolor_idx\u001b[0m\u001b[0;34m,\u001b[0m \u001b[0mcolor\u001b[0m \u001b[0;34m=\u001b[0m \u001b[0mself\u001b[0m\u001b[0;34m.\u001b[0m\u001b[0m_parse_color\u001b[0m\u001b[0;34m(\u001b[0m\u001b[0mraw_row\u001b[0m\u001b[0;34m,\u001b[0m \u001b[0mfield\u001b[0m\u001b[0;34m)\u001b[0m\u001b[0;34m\u001b[0m\u001b[0;34m\u001b[0m\u001b[0m\n\u001b[0m\u001b[1;32m     29\u001b[0m             \u001b[0mcolors\u001b[0m\u001b[0;34m[\u001b[0m\u001b[0mcolor_idx\u001b[0m\u001b[0;34m]\u001b[0m \u001b[0;34m=\u001b[0m \u001b[0mcolor\u001b[0m\u001b[0;34m\u001b[0m\u001b[0;34m\u001b[0m\u001b[0m\n\u001b[1;32m     30\u001b[0m         \u001b[0;32mreturn\u001b[0m \u001b[0mcolors\u001b[0m\u001b[0;34m\u001b[0m\u001b[0;34m\u001b[0m\u001b[0m\n",
      "\u001b[0;32m<ipython-input-114-5b2ec87c3139>\u001b[0m in \u001b[0;36m_parse_color\u001b[0;34m(self, raw_row, field)\u001b[0m\n\u001b[1;32m     15\u001b[0m         \u001b[0;31m# get the dataframe keys by splitting a string - maintain HSL order\u001b[0m\u001b[0;34m\u001b[0m\u001b[0;34m\u001b[0m\u001b[0;34m\u001b[0m\u001b[0m\n\u001b[1;32m     16\u001b[0m         \u001b[0mcolor_ids\u001b[0m \u001b[0;34m=\u001b[0m \u001b[0;34m\"{0}ColH {0}ColS {0}ColL {0}Status\"\u001b[0m\u001b[0;34m.\u001b[0m\u001b[0mformat\u001b[0m\u001b[0;34m(\u001b[0m\u001b[0mfield\u001b[0m\u001b[0;34m)\u001b[0m\u001b[0;34m.\u001b[0m\u001b[0msplit\u001b[0m\u001b[0;34m(\u001b[0m\u001b[0;34m)\u001b[0m\u001b[0;34m\u001b[0m\u001b[0;34m\u001b[0m\u001b[0m\n\u001b[0;32m---> 17\u001b[0;31m         \u001b[0mcolor_vals\u001b[0m \u001b[0;34m=\u001b[0m \u001b[0;34m[\u001b[0m\u001b[0mraw_row\u001b[0m\u001b[0;34m[\u001b[0m\u001b[0mkey\u001b[0m\u001b[0;34m]\u001b[0m \u001b[0;32mfor\u001b[0m \u001b[0mkey\u001b[0m \u001b[0;32min\u001b[0m \u001b[0mcolor_ids\u001b[0m\u001b[0;34m]\u001b[0m\u001b[0;34m\u001b[0m\u001b[0;34m\u001b[0m\u001b[0m\n\u001b[0m\u001b[1;32m     18\u001b[0m         \u001b[0;31m#print(color_vals)\u001b[0m\u001b[0;34m\u001b[0m\u001b[0;34m\u001b[0m\u001b[0;34m\u001b[0m\u001b[0m\n\u001b[1;32m     19\u001b[0m         \u001b[0mcolor\u001b[0m \u001b[0;34m=\u001b[0m \u001b[0mColor\u001b[0m\u001b[0;34m(\u001b[0m\u001b[0;34m*\u001b[0m\u001b[0mcolor_vals\u001b[0m\u001b[0;34m[\u001b[0m\u001b[0;34m:\u001b[0m\u001b[0;36m3\u001b[0m\u001b[0;34m]\u001b[0m\u001b[0;34m)\u001b[0m\u001b[0;34m\u001b[0m\u001b[0;34m\u001b[0m\u001b[0m\n",
      "\u001b[0;32m<ipython-input-114-5b2ec87c3139>\u001b[0m in \u001b[0;36m<listcomp>\u001b[0;34m(.0)\u001b[0m\n\u001b[1;32m     15\u001b[0m         \u001b[0;31m# get the dataframe keys by splitting a string - maintain HSL order\u001b[0m\u001b[0;34m\u001b[0m\u001b[0;34m\u001b[0m\u001b[0;34m\u001b[0m\u001b[0m\n\u001b[1;32m     16\u001b[0m         \u001b[0mcolor_ids\u001b[0m \u001b[0;34m=\u001b[0m \u001b[0;34m\"{0}ColH {0}ColS {0}ColL {0}Status\"\u001b[0m\u001b[0;34m.\u001b[0m\u001b[0mformat\u001b[0m\u001b[0;34m(\u001b[0m\u001b[0mfield\u001b[0m\u001b[0;34m)\u001b[0m\u001b[0;34m.\u001b[0m\u001b[0msplit\u001b[0m\u001b[0;34m(\u001b[0m\u001b[0;34m)\u001b[0m\u001b[0;34m\u001b[0m\u001b[0;34m\u001b[0m\u001b[0m\n\u001b[0;32m---> 17\u001b[0;31m         \u001b[0mcolor_vals\u001b[0m \u001b[0;34m=\u001b[0m \u001b[0;34m[\u001b[0m\u001b[0mraw_row\u001b[0m\u001b[0;34m[\u001b[0m\u001b[0mkey\u001b[0m\u001b[0;34m]\u001b[0m \u001b[0;32mfor\u001b[0m \u001b[0mkey\u001b[0m \u001b[0;32min\u001b[0m \u001b[0mcolor_ids\u001b[0m\u001b[0;34m]\u001b[0m\u001b[0;34m\u001b[0m\u001b[0;34m\u001b[0m\u001b[0m\n\u001b[0m\u001b[1;32m     18\u001b[0m         \u001b[0;31m#print(color_vals)\u001b[0m\u001b[0;34m\u001b[0m\u001b[0;34m\u001b[0m\u001b[0;34m\u001b[0m\u001b[0m\n\u001b[1;32m     19\u001b[0m         \u001b[0mcolor\u001b[0m \u001b[0;34m=\u001b[0m \u001b[0mColor\u001b[0m\u001b[0;34m(\u001b[0m\u001b[0;34m*\u001b[0m\u001b[0mcolor_vals\u001b[0m\u001b[0;34m[\u001b[0m\u001b[0;34m:\u001b[0m\u001b[0;36m3\u001b[0m\u001b[0;34m]\u001b[0m\u001b[0;34m)\u001b[0m\u001b[0;34m\u001b[0m\u001b[0;34m\u001b[0m\u001b[0m\n",
      "\u001b[0;31mIndexError\u001b[0m: only integers, slices (`:`), ellipsis (`...`), numpy.newaxis (`None`) and integer or boolean arrays are valid indices"
     ]
    }
   ],
   "source": [
    "test_mde = MonroeDataEntry(data[0:1].values)"
   ]
  },
  {
   "cell_type": "code",
   "execution_count": 62,
   "metadata": {},
   "outputs": [
    {
     "data": {
      "text/plain": [
       "hsl: [226, 50, 81], rgb [183, 194, 232]"
      ]
     },
     "execution_count": 62,
     "metadata": {},
     "output_type": "execute_result"
    }
   ],
   "source": [
    "test_mde.colors[test_mde.target_idx]"
   ]
  },
  {
   "cell_type": "code",
   "execution_count": 26,
   "metadata": {},
   "outputs": [
    {
     "data": {
      "text/plain": [
       "'I am a cow. cows say moo'"
      ]
     },
     "execution_count": 26,
     "metadata": {},
     "output_type": "execute_result"
    }
   ],
   "source": [
    "\"I am a {0}. {0}s say moo\".format(\"cow\")"
   ]
  },
  {
   "cell_type": "code",
   "execution_count": 33,
   "metadata": {},
   "outputs": [],
   "source": [
    "a = [1, 2, 3, 4]"
   ]
  },
  {
   "cell_type": "code",
   "execution_count": 37,
   "metadata": {},
   "outputs": [
    {
     "ename": "TypeError",
     "evalue": "tuple() takes at most 1 argument (3 given)",
     "output_type": "error",
     "traceback": [
      "\u001b[0;31m---------------------------------------------------------------------------\u001b[0m",
      "\u001b[0;31mTypeError\u001b[0m                                 Traceback (most recent call last)",
      "\u001b[0;32m<ipython-input-37-9acd224a8e1d>\u001b[0m in \u001b[0;36m<module>\u001b[0;34m()\u001b[0m\n\u001b[0;32m----> 1\u001b[0;31m \u001b[0mtuple\u001b[0m\u001b[0;34m(\u001b[0m\u001b[0;34m*\u001b[0m\u001b[0ma\u001b[0m\u001b[0;34m[\u001b[0m\u001b[0;34m:\u001b[0m\u001b[0;36m3\u001b[0m\u001b[0;34m]\u001b[0m\u001b[0;34m)\u001b[0m\u001b[0;34m\u001b[0m\u001b[0;34m\u001b[0m\u001b[0m\n\u001b[0m",
      "\u001b[0;31mTypeError\u001b[0m: tuple() takes at most 1 argument (3 given)"
     ]
    }
   ],
   "source": [
    "tuple(*a[:3])"
   ]
  },
  {
   "cell_type": "code",
   "execution_count": 34,
   "metadata": {},
   "outputs": [],
   "source": [
    "sp_data = data[data[\"role\"] == \"speaker\"]"
   ]
  },
  {
   "cell_type": "code",
   "execution_count": 11,
   "metadata": {},
   "outputs": [
    {
     "data": {
      "text/html": [
       "<div>\n",
       "<style>\n",
       "    .dataframe thead tr:only-child th {\n",
       "        text-align: right;\n",
       "    }\n",
       "\n",
       "    .dataframe thead th {\n",
       "        text-align: left;\n",
       "    }\n",
       "\n",
       "    .dataframe tbody tr th {\n",
       "        vertical-align: top;\n",
       "    }\n",
       "</style>\n",
       "<table border=\"1\" class=\"dataframe\">\n",
       "  <thead>\n",
       "    <tr style=\"text-align: right;\">\n",
       "      <th></th>\n",
       "      <th>gameid</th>\n",
       "      <th>clkTime</th>\n",
       "      <th>roundNum</th>\n",
       "      <th>condition</th>\n",
       "      <th>clickStatus</th>\n",
       "      <th>clickColH</th>\n",
       "      <th>clickColS</th>\n",
       "      <th>clickColL</th>\n",
       "      <th>clickLocS</th>\n",
       "      <th>clickLocL</th>\n",
       "      <th>...</th>\n",
       "      <th>msgTime</th>\n",
       "      <th>role</th>\n",
       "      <th>contents</th>\n",
       "      <th>workerid_uniq</th>\n",
       "      <th>numOutcome</th>\n",
       "      <th>numRawWords</th>\n",
       "      <th>numRawChars</th>\n",
       "      <th>numCleanChars</th>\n",
       "      <th>numCleanWords</th>\n",
       "      <th>source</th>\n",
       "    </tr>\n",
       "  </thead>\n",
       "  <tbody>\n",
       "    <tr>\n",
       "      <th>0</th>\n",
       "      <td>1124-1</td>\n",
       "      <td>1.459877e+12</td>\n",
       "      <td>1</td>\n",
       "      <td>close</td>\n",
       "      <td>distr2</td>\n",
       "      <td>248</td>\n",
       "      <td>92</td>\n",
       "      <td>50</td>\n",
       "      <td>3</td>\n",
       "      <td>1</td>\n",
       "      <td>...</td>\n",
       "      <td>1.459877e+12</td>\n",
       "      <td>speaker</td>\n",
       "      <td>The darker blue one</td>\n",
       "      <td>201.0</td>\n",
       "      <td>0.0</td>\n",
       "      <td>4</td>\n",
       "      <td>16</td>\n",
       "      <td>13.0</td>\n",
       "      <td>3.0</td>\n",
       "      <td>human</td>\n",
       "    </tr>\n",
       "    <tr>\n",
       "      <th>1</th>\n",
       "      <td>1124-1</td>\n",
       "      <td>1.459877e+12</td>\n",
       "      <td>2</td>\n",
       "      <td>far</td>\n",
       "      <td>target</td>\n",
       "      <td>249</td>\n",
       "      <td>25</td>\n",
       "      <td>50</td>\n",
       "      <td>1</td>\n",
       "      <td>2</td>\n",
       "      <td>...</td>\n",
       "      <td>1.459877e+12</td>\n",
       "      <td>speaker</td>\n",
       "      <td>purple</td>\n",
       "      <td>201.0</td>\n",
       "      <td>1.0</td>\n",
       "      <td>1</td>\n",
       "      <td>6</td>\n",
       "      <td>6.0</td>\n",
       "      <td>1.0</td>\n",
       "      <td>human</td>\n",
       "    </tr>\n",
       "    <tr>\n",
       "      <th>2</th>\n",
       "      <td>1124-1</td>\n",
       "      <td>1.459877e+12</td>\n",
       "      <td>3</td>\n",
       "      <td>close</td>\n",
       "      <td>distr2</td>\n",
       "      <td>291</td>\n",
       "      <td>59</td>\n",
       "      <td>50</td>\n",
       "      <td>3</td>\n",
       "      <td>3</td>\n",
       "      <td>...</td>\n",
       "      <td>1.459877e+12</td>\n",
       "      <td>speaker</td>\n",
       "      <td>Medium pink</td>\n",
       "      <td>201.0</td>\n",
       "      <td>0.0</td>\n",
       "      <td>2</td>\n",
       "      <td>10</td>\n",
       "      <td>10.0</td>\n",
       "      <td>2.0</td>\n",
       "      <td>human</td>\n",
       "    </tr>\n",
       "    <tr>\n",
       "      <th>3</th>\n",
       "      <td>1124-1</td>\n",
       "      <td>1.459877e+12</td>\n",
       "      <td>3</td>\n",
       "      <td>close</td>\n",
       "      <td>distr2</td>\n",
       "      <td>291</td>\n",
       "      <td>59</td>\n",
       "      <td>50</td>\n",
       "      <td>3</td>\n",
       "      <td>3</td>\n",
       "      <td>...</td>\n",
       "      <td>1.459877e+12</td>\n",
       "      <td>speaker</td>\n",
       "      <td>the medium dark one</td>\n",
       "      <td>201.0</td>\n",
       "      <td>0.0</td>\n",
       "      <td>4</td>\n",
       "      <td>16</td>\n",
       "      <td>13.0</td>\n",
       "      <td>3.0</td>\n",
       "      <td>human</td>\n",
       "    </tr>\n",
       "    <tr>\n",
       "      <th>4</th>\n",
       "      <td>1124-1</td>\n",
       "      <td>1.459877e+12</td>\n",
       "      <td>4</td>\n",
       "      <td>split</td>\n",
       "      <td>distr1</td>\n",
       "      <td>85</td>\n",
       "      <td>21</td>\n",
       "      <td>50</td>\n",
       "      <td>2</td>\n",
       "      <td>1</td>\n",
       "      <td>...</td>\n",
       "      <td>1.459877e+12</td>\n",
       "      <td>speaker</td>\n",
       "      <td>lime</td>\n",
       "      <td>201.0</td>\n",
       "      <td>0.0</td>\n",
       "      <td>1</td>\n",
       "      <td>4</td>\n",
       "      <td>4.0</td>\n",
       "      <td>1.0</td>\n",
       "      <td>human</td>\n",
       "    </tr>\n",
       "  </tbody>\n",
       "</table>\n",
       "<p>5 rows × 36 columns</p>\n",
       "</div>"
      ],
      "text/plain": [
       "   gameid       clkTime  roundNum condition clickStatus  clickColH  clickColS  \\\n",
       "0  1124-1  1.459877e+12         1     close      distr2        248         92   \n",
       "1  1124-1  1.459877e+12         2       far      target        249         25   \n",
       "2  1124-1  1.459877e+12         3     close      distr2        291         59   \n",
       "3  1124-1  1.459877e+12         3     close      distr2        291         59   \n",
       "4  1124-1  1.459877e+12         4     split      distr1         85         21   \n",
       "\n",
       "   clickColL  clickLocS  clickLocL   ...         msgTime     role  \\\n",
       "0         50          3          1   ...    1.459877e+12  speaker   \n",
       "1         50          1          2   ...    1.459877e+12  speaker   \n",
       "2         50          3          3   ...    1.459877e+12  speaker   \n",
       "3         50          3          3   ...    1.459877e+12  speaker   \n",
       "4         50          2          1   ...    1.459877e+12  speaker   \n",
       "\n",
       "              contents  workerid_uniq  numOutcome  numRawWords numRawChars  \\\n",
       "0  The darker blue one          201.0         0.0            4          16   \n",
       "1               purple          201.0         1.0            1           6   \n",
       "2          Medium pink          201.0         0.0            2          10   \n",
       "3  the medium dark one          201.0         0.0            4          16   \n",
       "4                 lime          201.0         0.0            1           4   \n",
       "\n",
       "   numCleanChars  numCleanWords  source  \n",
       "0           13.0            3.0   human  \n",
       "1            6.0            1.0   human  \n",
       "2           10.0            2.0   human  \n",
       "3           13.0            3.0   human  \n",
       "4            4.0            1.0   human  \n",
       "\n",
       "[5 rows x 36 columns]"
      ]
     },
     "execution_count": 11,
     "metadata": {},
     "output_type": "execute_result"
    }
   ],
   "source": [
    "sp_data.head()"
   ]
  },
  {
   "cell_type": "code",
   "execution_count": 57,
   "metadata": {
    "scrolled": true
   },
   "outputs": [
    {
     "name": "stdout",
     "output_type": "stream",
     "text": [
      "CPU times: user 7.97 s, sys: 105 ms, total: 8.08 s\n",
      "Wall time: 8.1 s\n"
     ]
    }
   ],
   "source": [
    "%%time\n",
    "combination_contents = sp_data.groupby(['gameid', 'roundNum'])['contents'].transform(' '.join)"
   ]
  },
  {
   "cell_type": "code",
   "execution_count": 64,
   "metadata": {},
   "outputs": [
    {
     "name": "stderr",
     "output_type": "stream",
     "text": [
      "/Users/benjaminnewman/miniconda3/lib/python3.6/site-packages/ipykernel_launcher.py:1: SettingWithCopyWarning: \n",
      "A value is trying to be set on a copy of a slice from a DataFrame.\n",
      "Try using .loc[row_indexer,col_indexer] = value instead\n",
      "\n",
      "See the caveats in the documentation: http://pandas.pydata.org/pandas-docs/stable/indexing.html#indexing-view-versus-copy\n",
      "  \"\"\"Entry point for launching an IPython kernel.\n"
     ]
    }
   ],
   "source": [
    "sp_data['contents'] = combination_contents"
   ]
  },
  {
   "cell_type": "code",
   "execution_count": 67,
   "metadata": {},
   "outputs": [],
   "source": [
    "max_msg_times = sp_data.groupby(['gameid', 'roundNum']).msgTime.transform(max)"
   ]
  },
  {
   "cell_type": "code",
   "execution_count": 69,
   "metadata": {},
   "outputs": [],
   "source": [
    "sp_data = sp_data.loc[max_msg_times == sp_data.msgTime]"
   ]
  },
  {
   "cell_type": "code",
   "execution_count": 71,
   "metadata": {},
   "outputs": [
    {
     "data": {
      "text/html": [
       "<div>\n",
       "<style>\n",
       "    .dataframe thead tr:only-child th {\n",
       "        text-align: right;\n",
       "    }\n",
       "\n",
       "    .dataframe thead th {\n",
       "        text-align: left;\n",
       "    }\n",
       "\n",
       "    .dataframe tbody tr th {\n",
       "        vertical-align: top;\n",
       "    }\n",
       "</style>\n",
       "<table border=\"1\" class=\"dataframe\">\n",
       "  <thead>\n",
       "    <tr style=\"text-align: right;\">\n",
       "      <th></th>\n",
       "      <th>gameid</th>\n",
       "      <th>clkTime</th>\n",
       "      <th>roundNum</th>\n",
       "      <th>condition</th>\n",
       "      <th>clickStatus</th>\n",
       "      <th>clickColH</th>\n",
       "      <th>clickColS</th>\n",
       "      <th>clickColL</th>\n",
       "      <th>clickLocS</th>\n",
       "      <th>clickLocL</th>\n",
       "      <th>...</th>\n",
       "      <th>msgTime</th>\n",
       "      <th>role</th>\n",
       "      <th>contents</th>\n",
       "      <th>workerid_uniq</th>\n",
       "      <th>numOutcome</th>\n",
       "      <th>numRawWords</th>\n",
       "      <th>numRawChars</th>\n",
       "      <th>numCleanChars</th>\n",
       "      <th>numCleanWords</th>\n",
       "      <th>source</th>\n",
       "    </tr>\n",
       "  </thead>\n",
       "  <tbody>\n",
       "    <tr>\n",
       "      <th>0</th>\n",
       "      <td>1124-1</td>\n",
       "      <td>1.459877e+12</td>\n",
       "      <td>1</td>\n",
       "      <td>close</td>\n",
       "      <td>distr2</td>\n",
       "      <td>248</td>\n",
       "      <td>92</td>\n",
       "      <td>50</td>\n",
       "      <td>3</td>\n",
       "      <td>1</td>\n",
       "      <td>...</td>\n",
       "      <td>1.459877e+12</td>\n",
       "      <td>speaker</td>\n",
       "      <td>The darker blue one</td>\n",
       "      <td>201.0</td>\n",
       "      <td>0.0</td>\n",
       "      <td>4</td>\n",
       "      <td>16</td>\n",
       "      <td>13.0</td>\n",
       "      <td>3.0</td>\n",
       "      <td>human</td>\n",
       "    </tr>\n",
       "    <tr>\n",
       "      <th>1</th>\n",
       "      <td>1124-1</td>\n",
       "      <td>1.459877e+12</td>\n",
       "      <td>2</td>\n",
       "      <td>far</td>\n",
       "      <td>target</td>\n",
       "      <td>249</td>\n",
       "      <td>25</td>\n",
       "      <td>50</td>\n",
       "      <td>1</td>\n",
       "      <td>2</td>\n",
       "      <td>...</td>\n",
       "      <td>1.459877e+12</td>\n",
       "      <td>speaker</td>\n",
       "      <td>purple</td>\n",
       "      <td>201.0</td>\n",
       "      <td>1.0</td>\n",
       "      <td>1</td>\n",
       "      <td>6</td>\n",
       "      <td>6.0</td>\n",
       "      <td>1.0</td>\n",
       "      <td>human</td>\n",
       "    </tr>\n",
       "    <tr>\n",
       "      <th>3</th>\n",
       "      <td>1124-1</td>\n",
       "      <td>1.459877e+12</td>\n",
       "      <td>3</td>\n",
       "      <td>close</td>\n",
       "      <td>distr2</td>\n",
       "      <td>291</td>\n",
       "      <td>59</td>\n",
       "      <td>50</td>\n",
       "      <td>3</td>\n",
       "      <td>3</td>\n",
       "      <td>...</td>\n",
       "      <td>1.459877e+12</td>\n",
       "      <td>speaker</td>\n",
       "      <td>Medium pink the medium dark one</td>\n",
       "      <td>201.0</td>\n",
       "      <td>0.0</td>\n",
       "      <td>4</td>\n",
       "      <td>16</td>\n",
       "      <td>13.0</td>\n",
       "      <td>3.0</td>\n",
       "      <td>human</td>\n",
       "    </tr>\n",
       "    <tr>\n",
       "      <th>4</th>\n",
       "      <td>1124-1</td>\n",
       "      <td>1.459877e+12</td>\n",
       "      <td>4</td>\n",
       "      <td>split</td>\n",
       "      <td>distr1</td>\n",
       "      <td>85</td>\n",
       "      <td>21</td>\n",
       "      <td>50</td>\n",
       "      <td>2</td>\n",
       "      <td>1</td>\n",
       "      <td>...</td>\n",
       "      <td>1.459877e+12</td>\n",
       "      <td>speaker</td>\n",
       "      <td>lime</td>\n",
       "      <td>201.0</td>\n",
       "      <td>0.0</td>\n",
       "      <td>1</td>\n",
       "      <td>4</td>\n",
       "      <td>4.0</td>\n",
       "      <td>1.0</td>\n",
       "      <td>human</td>\n",
       "    </tr>\n",
       "    <tr>\n",
       "      <th>5</th>\n",
       "      <td>1124-1</td>\n",
       "      <td>1.459877e+12</td>\n",
       "      <td>5</td>\n",
       "      <td>far</td>\n",
       "      <td>target</td>\n",
       "      <td>156</td>\n",
       "      <td>84</td>\n",
       "      <td>50</td>\n",
       "      <td>1</td>\n",
       "      <td>3</td>\n",
       "      <td>...</td>\n",
       "      <td>1.459877e+12</td>\n",
       "      <td>speaker</td>\n",
       "      <td>Mint green.</td>\n",
       "      <td>201.0</td>\n",
       "      <td>1.0</td>\n",
       "      <td>2</td>\n",
       "      <td>9</td>\n",
       "      <td>9.0</td>\n",
       "      <td>2.0</td>\n",
       "      <td>human</td>\n",
       "    </tr>\n",
       "  </tbody>\n",
       "</table>\n",
       "<p>5 rows × 36 columns</p>\n",
       "</div>"
      ],
      "text/plain": [
       "   gameid       clkTime  roundNum condition clickStatus  clickColH  clickColS  \\\n",
       "0  1124-1  1.459877e+12         1     close      distr2        248         92   \n",
       "1  1124-1  1.459877e+12         2       far      target        249         25   \n",
       "3  1124-1  1.459877e+12         3     close      distr2        291         59   \n",
       "4  1124-1  1.459877e+12         4     split      distr1         85         21   \n",
       "5  1124-1  1.459877e+12         5       far      target        156         84   \n",
       "\n",
       "   clickColL  clickLocS  clickLocL   ...         msgTime     role  \\\n",
       "0         50          3          1   ...    1.459877e+12  speaker   \n",
       "1         50          1          2   ...    1.459877e+12  speaker   \n",
       "3         50          3          3   ...    1.459877e+12  speaker   \n",
       "4         50          2          1   ...    1.459877e+12  speaker   \n",
       "5         50          1          3   ...    1.459877e+12  speaker   \n",
       "\n",
       "                          contents  workerid_uniq  numOutcome  numRawWords  \\\n",
       "0              The darker blue one          201.0         0.0            4   \n",
       "1                           purple          201.0         1.0            1   \n",
       "3  Medium pink the medium dark one          201.0         0.0            4   \n",
       "4                             lime          201.0         0.0            1   \n",
       "5                      Mint green.          201.0         1.0            2   \n",
       "\n",
       "  numRawChars  numCleanChars  numCleanWords  source  \n",
       "0          16           13.0            3.0   human  \n",
       "1           6            6.0            1.0   human  \n",
       "3          16           13.0            3.0   human  \n",
       "4           4            4.0            1.0   human  \n",
       "5           9            9.0            2.0   human  \n",
       "\n",
       "[5 rows x 36 columns]"
      ]
     },
     "execution_count": 71,
     "metadata": {},
     "output_type": "execute_result"
    }
   ],
   "source": [
    "sp_data.head()"
   ]
  },
  {
   "cell_type": "code",
   "execution_count": 47,
   "metadata": {},
   "outputs": [
    {
     "data": {
      "text/plain": [
       "(53365, 36)"
      ]
     },
     "execution_count": 47,
     "metadata": {},
     "output_type": "execute_result"
    }
   ],
   "source": [
    "sp_data.shape"
   ]
  },
  {
   "cell_type": "code",
   "execution_count": 38,
   "metadata": {},
   "outputs": [
    {
     "data": {
      "text/html": [
       "<div>\n",
       "<style>\n",
       "    .dataframe thead tr:only-child th {\n",
       "        text-align: right;\n",
       "    }\n",
       "\n",
       "    .dataframe thead th {\n",
       "        text-align: left;\n",
       "    }\n",
       "\n",
       "    .dataframe tbody tr th {\n",
       "        vertical-align: top;\n",
       "    }\n",
       "</style>\n",
       "<table border=\"1\" class=\"dataframe\">\n",
       "  <thead>\n",
       "    <tr style=\"text-align: right;\">\n",
       "      <th></th>\n",
       "      <th>gameid</th>\n",
       "      <th>clkTime</th>\n",
       "      <th>roundNum</th>\n",
       "      <th>condition</th>\n",
       "      <th>clickStatus</th>\n",
       "      <th>clickColH</th>\n",
       "      <th>clickColS</th>\n",
       "      <th>clickColL</th>\n",
       "      <th>clickLocS</th>\n",
       "      <th>clickLocL</th>\n",
       "      <th>...</th>\n",
       "      <th>msgTime</th>\n",
       "      <th>role</th>\n",
       "      <th>contents</th>\n",
       "      <th>workerid_uniq</th>\n",
       "      <th>numOutcome</th>\n",
       "      <th>numRawWords</th>\n",
       "      <th>numRawChars</th>\n",
       "      <th>numCleanChars</th>\n",
       "      <th>numCleanWords</th>\n",
       "      <th>source</th>\n",
       "    </tr>\n",
       "  </thead>\n",
       "  <tbody>\n",
       "    <tr>\n",
       "      <th>0</th>\n",
       "      <td>1124-1</td>\n",
       "      <td>1.459877e+12</td>\n",
       "      <td>1</td>\n",
       "      <td>close</td>\n",
       "      <td>distr2</td>\n",
       "      <td>248</td>\n",
       "      <td>92</td>\n",
       "      <td>50</td>\n",
       "      <td>3</td>\n",
       "      <td>1</td>\n",
       "      <td>...</td>\n",
       "      <td>1.459877e+12</td>\n",
       "      <td>speaker</td>\n",
       "      <td>The darker blue one</td>\n",
       "      <td>201.0</td>\n",
       "      <td>0.0</td>\n",
       "      <td>4</td>\n",
       "      <td>16</td>\n",
       "      <td>13.0</td>\n",
       "      <td>3.0</td>\n",
       "      <td>human</td>\n",
       "    </tr>\n",
       "    <tr>\n",
       "      <th>1</th>\n",
       "      <td>1124-1</td>\n",
       "      <td>1.459877e+12</td>\n",
       "      <td>2</td>\n",
       "      <td>far</td>\n",
       "      <td>target</td>\n",
       "      <td>249</td>\n",
       "      <td>25</td>\n",
       "      <td>50</td>\n",
       "      <td>1</td>\n",
       "      <td>2</td>\n",
       "      <td>...</td>\n",
       "      <td>1.459877e+12</td>\n",
       "      <td>speaker</td>\n",
       "      <td>purple</td>\n",
       "      <td>201.0</td>\n",
       "      <td>1.0</td>\n",
       "      <td>1</td>\n",
       "      <td>6</td>\n",
       "      <td>6.0</td>\n",
       "      <td>1.0</td>\n",
       "      <td>human</td>\n",
       "    </tr>\n",
       "    <tr>\n",
       "      <th>2</th>\n",
       "      <td>1124-1</td>\n",
       "      <td>1.459877e+12</td>\n",
       "      <td>3</td>\n",
       "      <td>close</td>\n",
       "      <td>distr2</td>\n",
       "      <td>291</td>\n",
       "      <td>59</td>\n",
       "      <td>50</td>\n",
       "      <td>3</td>\n",
       "      <td>3</td>\n",
       "      <td>...</td>\n",
       "      <td>1.459877e+12</td>\n",
       "      <td>speaker</td>\n",
       "      <td>Medium pink</td>\n",
       "      <td>201.0</td>\n",
       "      <td>0.0</td>\n",
       "      <td>2</td>\n",
       "      <td>10</td>\n",
       "      <td>10.0</td>\n",
       "      <td>2.0</td>\n",
       "      <td>human</td>\n",
       "    </tr>\n",
       "    <tr>\n",
       "      <th>3</th>\n",
       "      <td>1124-1</td>\n",
       "      <td>1.459877e+12</td>\n",
       "      <td>3</td>\n",
       "      <td>close</td>\n",
       "      <td>distr2</td>\n",
       "      <td>291</td>\n",
       "      <td>59</td>\n",
       "      <td>50</td>\n",
       "      <td>3</td>\n",
       "      <td>3</td>\n",
       "      <td>...</td>\n",
       "      <td>1.459877e+12</td>\n",
       "      <td>speaker</td>\n",
       "      <td>the medium dark one</td>\n",
       "      <td>201.0</td>\n",
       "      <td>0.0</td>\n",
       "      <td>4</td>\n",
       "      <td>16</td>\n",
       "      <td>13.0</td>\n",
       "      <td>3.0</td>\n",
       "      <td>human</td>\n",
       "    </tr>\n",
       "    <tr>\n",
       "      <th>4</th>\n",
       "      <td>1124-1</td>\n",
       "      <td>1.459877e+12</td>\n",
       "      <td>4</td>\n",
       "      <td>split</td>\n",
       "      <td>distr1</td>\n",
       "      <td>85</td>\n",
       "      <td>21</td>\n",
       "      <td>50</td>\n",
       "      <td>2</td>\n",
       "      <td>1</td>\n",
       "      <td>...</td>\n",
       "      <td>1.459877e+12</td>\n",
       "      <td>speaker</td>\n",
       "      <td>lime</td>\n",
       "      <td>201.0</td>\n",
       "      <td>0.0</td>\n",
       "      <td>1</td>\n",
       "      <td>4</td>\n",
       "      <td>4.0</td>\n",
       "      <td>1.0</td>\n",
       "      <td>human</td>\n",
       "    </tr>\n",
       "  </tbody>\n",
       "</table>\n",
       "<p>5 rows × 36 columns</p>\n",
       "</div>"
      ],
      "text/plain": [
       "   gameid       clkTime  roundNum condition clickStatus  clickColH  clickColS  \\\n",
       "0  1124-1  1.459877e+12         1     close      distr2        248         92   \n",
       "1  1124-1  1.459877e+12         2       far      target        249         25   \n",
       "2  1124-1  1.459877e+12         3     close      distr2        291         59   \n",
       "3  1124-1  1.459877e+12         3     close      distr2        291         59   \n",
       "4  1124-1  1.459877e+12         4     split      distr1         85         21   \n",
       "\n",
       "   clickColL  clickLocS  clickLocL   ...         msgTime     role  \\\n",
       "0         50          3          1   ...    1.459877e+12  speaker   \n",
       "1         50          1          2   ...    1.459877e+12  speaker   \n",
       "2         50          3          3   ...    1.459877e+12  speaker   \n",
       "3         50          3          3   ...    1.459877e+12  speaker   \n",
       "4         50          2          1   ...    1.459877e+12  speaker   \n",
       "\n",
       "              contents  workerid_uniq  numOutcome  numRawWords numRawChars  \\\n",
       "0  The darker blue one          201.0         0.0            4          16   \n",
       "1               purple          201.0         1.0            1           6   \n",
       "2          Medium pink          201.0         0.0            2          10   \n",
       "3  the medium dark one          201.0         0.0            4          16   \n",
       "4                 lime          201.0         0.0            1           4   \n",
       "\n",
       "   numCleanChars  numCleanWords  source  \n",
       "0           13.0            3.0   human  \n",
       "1            6.0            1.0   human  \n",
       "2           10.0            2.0   human  \n",
       "3           13.0            3.0   human  \n",
       "4            4.0            1.0   human  \n",
       "\n",
       "[5 rows x 36 columns]"
      ]
     },
     "execution_count": 38,
     "metadata": {},
     "output_type": "execute_result"
    }
   ],
   "source": [
    "sp_data.head()"
   ]
  },
  {
   "cell_type": "code",
   "execution_count": 154,
   "metadata": {},
   "outputs": [],
   "source": [
    "class MonroeData():\n",
    "    \n",
    "    def __init__(self, filename, single_speaker=True, ss_method=\"pool\"):\n",
    "        \"\"\"\n",
    "        MonroeData allows for storage, access, and display of data from the Monroe et al\n",
    "        color experiments. Each csv row is stored in a MonroeDataEntry object and MonroeData\n",
    "        stores a python list of these objects as well as the underlying dataframe.\n",
    "        \"\"\"\n",
    "        self.data = pd.read_csv(filename)\n",
    "        if single_speaker:\n",
    "            \n",
    "            if ss_method == \"final\":\n",
    "                # filter out all the listener utterances and keep the\n",
    "                # last speaker utterance (hopefully it is most relevant)\n",
    "                data = self.data[self.data[\"role\"] == \"speaker\"]\n",
    "                max_msg_times = data.groupby(['gameid', 'roundNum']).msgTime.transform(max)\n",
    "                self.data = data.loc[max_msg_times == data.msgTime]\n",
    "                # reset index so indices line up with entries list\n",
    "                self.data.reset_index(drop=True, inplace=True)\n",
    "            elif ss_method == \"pool\":\n",
    "                # filter out listener utterances and concatenate speaker utterances\n",
    "                data = self.data[self.data[\"role\"] == \"speaker\"]\n",
    "                pool_msg_times = data.groupby(['gameid', 'roundNum'])\n",
    "                # when we concatenate rows, do so with a tilde character: \n",
    "                # b/c monroe does it here:\n",
    "                # https://github.com/futurulus/colors-in-context/blob/2e7b830668cd039830154e7e8f211c6d4415d30f/color_instances.py#L581\n",
    "                concat_rows = data.groupby(['gameid', 'roundNum']).contents.transform(' ~ '.join)\n",
    "                data['contents'] = concat_rows\n",
    "                # arbitrarily take largest message time to get rid of duplicates\n",
    "                max_msg_times = data.groupby(['gameid', 'roundNum']).msgTime.transform(max)\n",
    "                self.data = data.loc[max_msg_times == data.msgTime]\n",
    "                self.data.reset_index(drop=True, inplace=True)\n",
    "        \n",
    "        self.entries = []\n",
    "        \n",
    "    def read_data(self):\n",
    "        for k, row in self.data.iterrows():\n",
    "            self.entries.append(MonroeDataEntry(k, row))\n",
    "            yield self.entries[-1]\n",
    "    \n",
    "    def display_target(self, color, caption):\n",
    "        \"\"\"\n",
    "        color is normalized rgb (i.e. all values between 0 and 1) - see Color class for implementation\n",
    "        caption is string displayed with image\n",
    "        \n",
    "        Displays the color in a rectangle with the caption above it\n",
    "        \"\"\"\n",
    "        fig = plt.figure()\n",
    "        ax = fig.add_subplot(111)\n",
    "        target_rect = matplotlib.patches.Rectangle((0,0), 800, 800, facecolor=color, edgecolor=\"black\")\n",
    "        \n",
    "        ax.add_patch(target_rect)\n",
    "        ax.set_yticks([])\n",
    "        ax.set_xticks([])\n",
    "        print(caption)\n",
    "        plt.show()\n",
    "\n",
    "        \n",
    "    def display_game_for_gameid(self, game_id, round_num = None):\n",
    "        df_indices = []\n",
    "        round_num_list = []\n",
    "        if round_num is None:\n",
    "            # add all the indices!\n",
    "            round_num_list = self.data[self.data['gameid'] == game_id].roundNum.unique()\n",
    "        elif isinstance(round_num, list):\n",
    "            round_num_list = round_num\n",
    "        else:\n",
    "            # round_nums is a single integer, so we just convert it to a list\n",
    "            round_num_list = [round_num]\n",
    "        \n",
    "        \n",
    "        for round_num in round_num_list:\n",
    "            df_indices.extend(\n",
    "                self.data[(self.data['gameid'] == game_id) & (self.data['roundNum'] == round_num)].index.values\n",
    "            )\n",
    "        \n",
    "        for i in df_indices:\n",
    "            self.display_game(i)\n",
    "        \n",
    "    \n",
    "    def display_target_for_idx(self, row_index):\n",
    "        \"\"\"\n",
    "        Displays just the target color and caption for the entry at the given index\n",
    "        \"\"\"\n",
    "        data_entry = self.entries[row_index]\n",
    "        self.display_target(data_entry.colors[data_entry.target_idx].rgb_norm, data_entry.caption)\n",
    "    \n",
    "    def display_game(self, row_index):\n",
    "        \"\"\"\n",
    "        Takes an index and displays an annotated version of the game.\n",
    "        Target color is on left\n",
    "        Clicked color is outlined in red\n",
    "        \"\"\"\n",
    "        data_entry = self.entries[row_index]        \n",
    "        bottom_corners = [(-600,-400), (-200,-400), (200,-400)]\n",
    "        width = 400\n",
    "        height = 800\n",
    "        \n",
    "        # generate rectangles with their colors\n",
    "        color_rects = []\n",
    "        for i, corner in enumerate(bottom_corners):\n",
    "            # target color will always be on left, we want clicked color\n",
    "            # to stand out with a thick (linewidth=5), red outline that is\n",
    "            # at the top of the rectangle stack (zorder = 5) displayed\n",
    "            outline_color, stack_order, line_width =\\\n",
    "                (\"red\", 5, 5) if i == data_entry.click_idx else (\"black\", 0, None)\n",
    "            color_rects.append(matplotlib.patches.Rectangle(corner, width, height,\n",
    "                                                            facecolor=data_entry.colors[i].rgb_norm, \n",
    "                                                            edgecolor=outline_color,\n",
    "                                                            zorder = stack_order,\n",
    "                                                            linewidth=line_width))\n",
    "        # add rectangles to figures\n",
    "        fig = plt.figure()\n",
    "        ax = fig.add_subplot(111)\n",
    "        for rect in color_rects:\n",
    "            ax.add_patch(rect)\n",
    "\n",
    "        # hide axis labels\n",
    "        ax.set_yticks([])\n",
    "        ax.set_xticks([])\n",
    "        \n",
    "        # display caption and game\n",
    "        print(\"{}) Game: {} Round: {}\\n{}\".format(row_index, self.data.iloc[row_index]['gameid'],\n",
    "                                                          self.data.iloc[row_index]['roundNum'], data_entry.caption))\n",
    "        plt.xlim([-600, 600])\n",
    "        plt.ylim([-400, 400])\n",
    "        plt.show()\n",
    "    \n",
    "    def __getitem__(self, key):\n",
    "        return self.entries[key]\n",
    "    \n",
    "    def __len__(self):\n",
    "        return len(self.entries)\n"
   ]
  },
  {
   "cell_type": "code",
   "execution_count": 376,
   "metadata": {},
   "outputs": [
    {
     "data": {
      "text/plain": [
       "array([ 1,  2,  3,  4,  5,  6,  7,  8,  9, 11, 12, 13, 14, 15, 16, 17, 18,\n",
       "       19, 20, 21, 22, 23, 24, 25, 26, 27, 28, 29, 30, 31, 32, 33, 34, 35,\n",
       "       36, 37, 38, 39, 40, 41, 42, 43, 44, 45, 46, 47, 48, 49, 50])"
      ]
     },
     "execution_count": 376,
     "metadata": {},
     "output_type": "execute_result"
    }
   ],
   "source": [
    "md_test.data[md_test.data['gameid'] == \"8235-6\"].roundNum.unique()"
   ]
  },
  {
   "cell_type": "code",
   "execution_count": 152,
   "metadata": {
    "scrolled": false
   },
   "outputs": [
    {
     "name": "stdout",
     "output_type": "stream",
     "text": [
      "CPU times: user 8.74 s, sys: 936 ms, total: 9.68 s\n",
      "Wall time: 10.6 s\n"
     ]
    },
    {
     "name": "stderr",
     "output_type": "stream",
     "text": [
      "/Users/benjaminnewman/miniconda3/lib/python3.6/site-packages/ipykernel_launcher.py:28: SettingWithCopyWarning: \n",
      "A value is trying to be set on a copy of a slice from a DataFrame.\n",
      "Try using .loc[row_indexer,col_indexer] = value instead\n",
      "\n",
      "See the caveats in the documentation: http://pandas.pydata.org/pandas-docs/stable/indexing.html#indexing-view-versus-copy\n"
     ]
    }
   ],
   "source": [
    "%%time\n",
    "md_test_small = MonroeData(\"filteredCorpus.csv\", single_speaker=True)"
   ]
  },
  {
   "cell_type": "code",
   "execution_count": 153,
   "metadata": {},
   "outputs": [
    {
     "data": {
      "text/html": [
       "<div>\n",
       "<style>\n",
       "    .dataframe thead tr:only-child th {\n",
       "        text-align: right;\n",
       "    }\n",
       "\n",
       "    .dataframe thead th {\n",
       "        text-align: left;\n",
       "    }\n",
       "\n",
       "    .dataframe tbody tr th {\n",
       "        vertical-align: top;\n",
       "    }\n",
       "</style>\n",
       "<table border=\"1\" class=\"dataframe\">\n",
       "  <thead>\n",
       "    <tr style=\"text-align: right;\">\n",
       "      <th></th>\n",
       "      <th>gameid</th>\n",
       "      <th>clkTime</th>\n",
       "      <th>roundNum</th>\n",
       "      <th>condition</th>\n",
       "      <th>clickStatus</th>\n",
       "      <th>clickColH</th>\n",
       "      <th>clickColS</th>\n",
       "      <th>clickColL</th>\n",
       "      <th>clickLocS</th>\n",
       "      <th>clickLocL</th>\n",
       "      <th>...</th>\n",
       "      <th>msgTime</th>\n",
       "      <th>role</th>\n",
       "      <th>contents</th>\n",
       "      <th>workerid_uniq</th>\n",
       "      <th>numOutcome</th>\n",
       "      <th>numRawWords</th>\n",
       "      <th>numRawChars</th>\n",
       "      <th>numCleanChars</th>\n",
       "      <th>numCleanWords</th>\n",
       "      <th>source</th>\n",
       "    </tr>\n",
       "  </thead>\n",
       "  <tbody>\n",
       "    <tr>\n",
       "      <th>0</th>\n",
       "      <td>1124-1</td>\n",
       "      <td>1.459877e+12</td>\n",
       "      <td>1</td>\n",
       "      <td>close</td>\n",
       "      <td>distr2</td>\n",
       "      <td>248</td>\n",
       "      <td>92</td>\n",
       "      <td>50</td>\n",
       "      <td>3</td>\n",
       "      <td>1</td>\n",
       "      <td>...</td>\n",
       "      <td>1.459877e+12</td>\n",
       "      <td>speaker</td>\n",
       "      <td>The darker blue one</td>\n",
       "      <td>201.0</td>\n",
       "      <td>0.0</td>\n",
       "      <td>4</td>\n",
       "      <td>16</td>\n",
       "      <td>13.0</td>\n",
       "      <td>3.0</td>\n",
       "      <td>human</td>\n",
       "    </tr>\n",
       "    <tr>\n",
       "      <th>1</th>\n",
       "      <td>1124-1</td>\n",
       "      <td>1.459877e+12</td>\n",
       "      <td>2</td>\n",
       "      <td>far</td>\n",
       "      <td>target</td>\n",
       "      <td>249</td>\n",
       "      <td>25</td>\n",
       "      <td>50</td>\n",
       "      <td>1</td>\n",
       "      <td>2</td>\n",
       "      <td>...</td>\n",
       "      <td>1.459877e+12</td>\n",
       "      <td>speaker</td>\n",
       "      <td>purple</td>\n",
       "      <td>201.0</td>\n",
       "      <td>1.0</td>\n",
       "      <td>1</td>\n",
       "      <td>6</td>\n",
       "      <td>6.0</td>\n",
       "      <td>1.0</td>\n",
       "      <td>human</td>\n",
       "    </tr>\n",
       "    <tr>\n",
       "      <th>2</th>\n",
       "      <td>1124-1</td>\n",
       "      <td>1.459877e+12</td>\n",
       "      <td>3</td>\n",
       "      <td>close</td>\n",
       "      <td>distr2</td>\n",
       "      <td>291</td>\n",
       "      <td>59</td>\n",
       "      <td>50</td>\n",
       "      <td>3</td>\n",
       "      <td>3</td>\n",
       "      <td>...</td>\n",
       "      <td>1.459877e+12</td>\n",
       "      <td>speaker</td>\n",
       "      <td>Medium pink ~ the medium dark one</td>\n",
       "      <td>201.0</td>\n",
       "      <td>0.0</td>\n",
       "      <td>4</td>\n",
       "      <td>16</td>\n",
       "      <td>13.0</td>\n",
       "      <td>3.0</td>\n",
       "      <td>human</td>\n",
       "    </tr>\n",
       "    <tr>\n",
       "      <th>3</th>\n",
       "      <td>1124-1</td>\n",
       "      <td>1.459877e+12</td>\n",
       "      <td>4</td>\n",
       "      <td>split</td>\n",
       "      <td>distr1</td>\n",
       "      <td>85</td>\n",
       "      <td>21</td>\n",
       "      <td>50</td>\n",
       "      <td>2</td>\n",
       "      <td>1</td>\n",
       "      <td>...</td>\n",
       "      <td>1.459877e+12</td>\n",
       "      <td>speaker</td>\n",
       "      <td>lime</td>\n",
       "      <td>201.0</td>\n",
       "      <td>0.0</td>\n",
       "      <td>1</td>\n",
       "      <td>4</td>\n",
       "      <td>4.0</td>\n",
       "      <td>1.0</td>\n",
       "      <td>human</td>\n",
       "    </tr>\n",
       "    <tr>\n",
       "      <th>4</th>\n",
       "      <td>1124-1</td>\n",
       "      <td>1.459877e+12</td>\n",
       "      <td>5</td>\n",
       "      <td>far</td>\n",
       "      <td>target</td>\n",
       "      <td>156</td>\n",
       "      <td>84</td>\n",
       "      <td>50</td>\n",
       "      <td>1</td>\n",
       "      <td>3</td>\n",
       "      <td>...</td>\n",
       "      <td>1.459877e+12</td>\n",
       "      <td>speaker</td>\n",
       "      <td>Mint green.</td>\n",
       "      <td>201.0</td>\n",
       "      <td>1.0</td>\n",
       "      <td>2</td>\n",
       "      <td>9</td>\n",
       "      <td>9.0</td>\n",
       "      <td>2.0</td>\n",
       "      <td>human</td>\n",
       "    </tr>\n",
       "  </tbody>\n",
       "</table>\n",
       "<p>5 rows × 36 columns</p>\n",
       "</div>"
      ],
      "text/plain": [
       "   gameid       clkTime  roundNum condition clickStatus  clickColH  clickColS  \\\n",
       "0  1124-1  1.459877e+12         1     close      distr2        248         92   \n",
       "1  1124-1  1.459877e+12         2       far      target        249         25   \n",
       "2  1124-1  1.459877e+12         3     close      distr2        291         59   \n",
       "3  1124-1  1.459877e+12         4     split      distr1         85         21   \n",
       "4  1124-1  1.459877e+12         5       far      target        156         84   \n",
       "\n",
       "   clickColL  clickLocS  clickLocL   ...         msgTime     role  \\\n",
       "0         50          3          1   ...    1.459877e+12  speaker   \n",
       "1         50          1          2   ...    1.459877e+12  speaker   \n",
       "2         50          3          3   ...    1.459877e+12  speaker   \n",
       "3         50          2          1   ...    1.459877e+12  speaker   \n",
       "4         50          1          3   ...    1.459877e+12  speaker   \n",
       "\n",
       "                            contents  workerid_uniq  numOutcome  numRawWords  \\\n",
       "0                The darker blue one          201.0         0.0            4   \n",
       "1                             purple          201.0         1.0            1   \n",
       "2  Medium pink ~ the medium dark one          201.0         0.0            4   \n",
       "3                               lime          201.0         0.0            1   \n",
       "4                        Mint green.          201.0         1.0            2   \n",
       "\n",
       "  numRawChars  numCleanChars  numCleanWords  source  \n",
       "0          16           13.0            3.0   human  \n",
       "1           6            6.0            1.0   human  \n",
       "2          16           13.0            3.0   human  \n",
       "3           4            4.0            1.0   human  \n",
       "4           9            9.0            2.0   human  \n",
       "\n",
       "[5 rows x 36 columns]"
      ]
     },
     "execution_count": 153,
     "metadata": {},
     "output_type": "execute_result"
    }
   ],
   "source": [
    "md_test_small.data.head()"
   ]
  },
  {
   "cell_type": "code",
   "execution_count": 481,
   "metadata": {},
   "outputs": [],
   "source": [
    "for i in md_test_small.read_data():\n",
    "    pass"
   ]
  },
  {
   "cell_type": "code",
   "execution_count": 477,
   "metadata": {},
   "outputs": [
    {
     "name": "stdout",
     "output_type": "stream",
     "text": [
      "33) Game: 1124-1 Round: 34\n",
      "Hahaha. Me too. This one is purple. Not neon and not lavender\n"
     ]
    },
    {
     "data": {
      "image/png": "[encoded data removed]",
      "text/plain": [
       "<Figure size 432x288 with 1 Axes>"
      ]
     },
     "metadata": {},
     "output_type": "display_data"
    }
   ],
   "source": [
    "md_test_small.display_game(33)"
   ]
  },
  {
   "cell_type": "code",
   "execution_count": 484,
   "metadata": {
    "scrolled": true
   },
   "outputs": [
    {
     "name": "stdout",
     "output_type": "stream",
     "text": [
      "49) Game: 8235-6 Round: 1\n",
      "select the bright green, not the olive\n"
     ]
    },
    {
     "data": {
      "image/png": "[encoded data removed]",
      "text/plain": [
       "<Figure size 432x288 with 1 Axes>"
      ]
     },
     "metadata": {},
     "output_type": "display_data"
    },
    {
     "name": "stdout",
     "output_type": "stream",
     "text": [
      "50) Game: 8235-6 Round: 2\n",
      "green\n"
     ]
    },
    {
     "data": {
      "image/png": "[encoded data removed]",
      "text/plain": [
       "<Figure size 432x288 with 1 Axes>"
      ]
     },
     "metadata": {},
     "output_type": "display_data"
    },
    {
     "name": "stdout",
     "output_type": "stream",
     "text": [
      "51) Game: 8235-6 Round: 3\n",
      "red\n"
     ]
    },
    {
     "data": {
      "image/png": "[encoded data removed]",
      "text/plain": [
       "<Figure size 432x288 with 1 Axes>"
      ]
     },
     "metadata": {},
     "output_type": "display_data"
    },
    {
     "name": "stdout",
     "output_type": "stream",
     "text": [
      "52) Game: 8235-6 Round: 4\n",
      "grey\n"
     ]
    },
    {
     "data": {
      "image/png": "[encoded data removed]",
      "text/plain": [
       "<Figure size 432x288 with 1 Axes>"
      ]
     },
     "metadata": {},
     "output_type": "display_data"
    },
    {
     "name": "stdout",
     "output_type": "stream",
     "text": [
      "53) Game: 8235-6 Round: 5\n",
      "brownish-cream; not grey or pinkish\n"
     ]
    },
    {
     "data": {
      "image/png": "[encoded data removed]",
      "text/plain": [
       "<Figure size 432x288 with 1 Axes>"
      ]
     },
     "metadata": {},
     "output_type": "display_data"
    },
    {
     "name": "stdout",
     "output_type": "stream",
     "text": [
      "54) Game: 8235-6 Round: 6\n",
      "blue\n"
     ]
    },
    {
     "data": {
      "image/png": "[encoded data removed]",
      "text/plain": [
       "<Figure size 432x288 with 1 Axes>"
      ]
     },
     "metadata": {},
     "output_type": "display_data"
    },
    {
     "name": "stdout",
     "output_type": "stream",
     "text": [
      "55) Game: 8235-6 Round: 7\n",
      "grey (you're doing great)\n"
     ]
    },
    {
     "data": {
      "image/png": "[encoded data removed]",
      "text/plain": [
       "<Figure size 432x288 with 1 Axes>"
      ]
     },
     "metadata": {},
     "output_type": "display_data"
    },
    {
     "name": "stdout",
     "output_type": "stream",
     "text": [
      "56) Game: 8235-6 Round: 8\n",
      "teal (not the two that are more green)\n"
     ]
    },
    {
     "data": {
      "image/png": "[encoded data removed]",
      "text/plain": [
       "<Figure size 432x288 with 1 Axes>"
      ]
     },
     "metadata": {},
     "output_type": "display_data"
    },
    {
     "name": "stdout",
     "output_type": "stream",
     "text": [
      "57) Game: 8235-6 Round: 9\n",
      "brownish\n"
     ]
    },
    {
     "data": {
      "image/png": "[encoded data removed]",
      "text/plain": [
       "<Figure size 432x288 with 1 Axes>"
      ]
     },
     "metadata": {},
     "output_type": "display_data"
    },
    {
     "name": "stdout",
     "output_type": "stream",
     "text": [
      "58) Game: 8235-6 Round: 11\n",
      "the bright green\n"
     ]
    },
    {
     "data": {
      "image/png": "[encoded data removed]",
      "text/plain": [
       "<Figure size 432x288 with 1 Axes>"
      ]
     },
     "metadata": {},
     "output_type": "display_data"
    },
    {
     "name": "stdout",
     "output_type": "stream",
     "text": [
      "59) Game: 8235-6 Round: 12\n",
      "brownish\n"
     ]
    },
    {
     "data": {
      "image/png": "[encoded data removed]",
      "text/plain": [
       "<Figure size 432x288 with 1 Axes>"
      ]
     },
     "metadata": {},
     "output_type": "display_data"
    },
    {
     "name": "stdout",
     "output_type": "stream",
     "text": [
      "60) Game: 8235-6 Round: 13\n",
      "reddish\n"
     ]
    },
    {
     "data": {
      "image/png": "[encoded data removed]",
      "text/plain": [
       "<Figure size 432x288 with 1 Axes>"
      ]
     },
     "metadata": {},
     "output_type": "display_data"
    },
    {
     "name": "stdout",
     "output_type": "stream",
     "text": [
      "61) Game: 8235-6 Round: 14\n",
      "grey\n"
     ]
    },
    {
     "data": {
      "image/png": "[encoded data removed]",
      "text/plain": [
       "<Figure size 432x288 with 1 Axes>"
      ]
     },
     "metadata": {},
     "output_type": "display_data"
    },
    {
     "name": "stdout",
     "output_type": "stream",
     "text": [
      "62) Game: 8235-6 Round: 15\n",
      "dark blue\n"
     ]
    },
    {
     "data": {
      "image/png": "[encoded data removed]",
      "text/plain": [
       "<Figure size 432x288 with 1 Axes>"
      ]
     },
     "metadata": {},
     "output_type": "display_data"
    },
    {
     "name": "stdout",
     "output_type": "stream",
     "text": [
      "63) Game: 8235-6 Round: 16\n",
      "purple\n"
     ]
    },
    {
     "data": {
      "image/png": "[encoded data removed]",
      "text/plain": [
       "<Figure size 432x288 with 1 Axes>"
      ]
     },
     "metadata": {},
     "output_type": "display_data"
    },
    {
     "name": "stdout",
     "output_type": "stream",
     "text": [
      "64) Game: 8235-6 Round: 17\n",
      "dark pink; not bright pink\n"
     ]
    },
    {
     "data": {
      "image/png": "[encoded data removed]",
      "text/plain": [
       "<Figure size 432x288 with 1 Axes>"
      ]
     },
     "metadata": {},
     "output_type": "display_data"
    },
    {
     "name": "stdout",
     "output_type": "stream",
     "text": [
      "65) Game: 8235-6 Round: 18\n",
      "brightest green\n"
     ]
    },
    {
     "data": {
      "image/png": "[encoded data removed]",
      "text/plain": [
       "<Figure size 432x288 with 1 Axes>"
      ]
     },
     "metadata": {},
     "output_type": "display_data"
    },
    {
     "name": "stdout",
     "output_type": "stream",
     "text": [
      "66) Game: 8235-6 Round: 19\n",
      "brightest green\n"
     ]
    },
    {
     "data": {
      "image/png": "[encoded data removed]",
      "text/plain": [
       "<Figure size 432x288 with 1 Axes>"
      ]
     },
     "metadata": {},
     "output_type": "display_data"
    },
    {
     "name": "stdout",
     "output_type": "stream",
     "text": [
      "67) Game: 8235-6 Round: 20\n",
      "dark purple (good job on the last two, by the way)\n"
     ]
    },
    {
     "data": {
      "image/png": "[encoded data removed]",
      "text/plain": [
       "<Figure size 432x288 with 1 Axes>"
      ]
     },
     "metadata": {},
     "output_type": "display_data"
    },
    {
     "name": "stdout",
     "output_type": "stream",
     "text": [
      "68) Game: 8235-6 Round: 21\n",
      "dark orange (not the red, and not the lighter orange)\n"
     ]
    },
    {
     "data": {
      "image/png": "[encoded data removed]",
      "text/plain": [
       "<Figure size 432x288 with 1 Axes>"
      ]
     },
     "metadata": {},
     "output_type": "display_data"
    },
    {
     "name": "stdout",
     "output_type": "stream",
     "text": [
      "69) Game: 8235-6 Round: 22\n",
      "purple; not pink or teal (good on the last one)\n"
     ]
    },
    {
     "data": {
      "image/png": "[encoded data removed]",
      "text/plain": [
       "<Figure size 432x288 with 1 Axes>"
      ]
     },
     "metadata": {},
     "output_type": "display_data"
    },
    {
     "name": "stdout",
     "output_type": "stream",
     "text": [
      "70) Game: 8235-6 Round: 23\n",
      "darkest green\n"
     ]
    },
    {
     "data": {
      "image/png": "[encoded data removed]",
      "text/plain": [
       "<Figure size 432x288 with 1 Axes>"
      ]
     },
     "metadata": {},
     "output_type": "display_data"
    },
    {
     "name": "stdout",
     "output_type": "stream",
     "text": [
      "71) Game: 8235-6 Round: 24\n",
      "brightest pink\n"
     ]
    },
    {
     "data": {
      "image/png": "[encoded data removed]",
      "text/plain": [
       "<Figure size 432x288 with 1 Axes>"
      ]
     },
     "metadata": {},
     "output_type": "display_data"
    },
    {
     "name": "stdout",
     "output_type": "stream",
     "text": [
      "72) Game: 8235-6 Round: 25\n",
      "grey; not grey-brown or red\n"
     ]
    },
    {
     "data": {
      "image/png": "[encoded data removed]",
      "text/plain": [
       "<Figure size 432x288 with 1 Axes>"
      ]
     },
     "metadata": {},
     "output_type": "display_data"
    },
    {
     "name": "stdout",
     "output_type": "stream",
     "text": [
      "73) Game: 8235-6 Round: 26\n",
      "grey-green\n"
     ]
    },
    {
     "data": {
      "image/png": "[encoded data removed]",
      "text/plain": [
       "<Figure size 432x288 with 1 Axes>"
      ]
     },
     "metadata": {},
     "output_type": "display_data"
    },
    {
     "name": "stdout",
     "output_type": "stream",
     "text": [
      "74) Game: 8235-6 Round: 27\n",
      "grey-purple\n"
     ]
    },
    {
     "data": {
      "image/png": "[encoded data removed]",
      "text/plain": [
       "<Figure size 432x288 with 1 Axes>"
      ]
     },
     "metadata": {},
     "output_type": "display_data"
    },
    {
     "name": "stdout",
     "output_type": "stream",
     "text": [
      "75) Game: 8235-6 Round: 28\n",
      "olive (not teal or bright green)\n"
     ]
    },
    {
     "data": {
      "image/png": "[encoded data removed]",
      "text/plain": [
       "<Figure size 432x288 with 1 Axes>"
      ]
     },
     "metadata": {},
     "output_type": "display_data"
    },
    {
     "name": "stdout",
     "output_type": "stream",
     "text": [
      "76) Game: 8235-6 Round: 29\n",
      "bright blue (not one with hint of purple)\n"
     ]
    },
    {
     "data": {
      "image/png": "[encoded data removed]",
      "text/plain": [
       "<Figure size 432x288 with 1 Axes>"
      ]
     },
     "metadata": {},
     "output_type": "display_data"
    },
    {
     "name": "stdout",
     "output_type": "stream",
     "text": [
      "77) Game: 8235-6 Round: 30\n",
      "grey\n"
     ]
    },
    {
     "data": {
      "image/png": "[encoded data removed]",
      "text/plain": [
       "<Figure size 432x288 with 1 Axes>"
      ]
     },
     "metadata": {},
     "output_type": "display_data"
    },
    {
     "name": "stdout",
     "output_type": "stream",
     "text": [
      "78) Game: 8235-6 Round: 31\n",
      "dull purple\n"
     ]
    },
    {
     "data": {
      "image/png": "[encoded data removed]",
      "text/plain": [
       "<Figure size 432x288 with 1 Axes>"
      ]
     },
     "metadata": {},
     "output_type": "display_data"
    },
    {
     "name": "stdout",
     "output_type": "stream",
     "text": [
      "79) Game: 8235-6 Round: 32\n",
      "teal\n"
     ]
    },
    {
     "data": {
      "image/png": "[encoded data removed]",
      "text/plain": [
       "<Figure size 432x288 with 1 Axes>"
      ]
     },
     "metadata": {},
     "output_type": "display_data"
    },
    {
     "name": "stdout",
     "output_type": "stream",
     "text": [
      "80) Game: 8235-6 Round: 33\n",
      "olive\n"
     ]
    },
    {
     "data": {
      "image/png": "[encoded data removed]",
      "text/plain": [
       "<Figure size 432x288 with 1 Axes>"
      ]
     },
     "metadata": {},
     "output_type": "display_data"
    },
    {
     "name": "stdout",
     "output_type": "stream",
     "text": [
      "81) Game: 8235-6 Round: 34\n",
      "green, but not neon green\n"
     ]
    },
    {
     "data": {
      "image/png": "[encoded data removed]",
      "text/plain": [
       "<Figure size 432x288 with 1 Axes>"
      ]
     },
     "metadata": {},
     "output_type": "display_data"
    },
    {
     "name": "stdout",
     "output_type": "stream",
     "text": [
      "82) Game: 8235-6 Round: 35\n",
      "grey-teal (good on the last one)\n"
     ]
    },
    {
     "data": {
      "image/png": "[encoded data removed]",
      "text/plain": [
       "<Figure size 432x288 with 1 Axes>"
      ]
     },
     "metadata": {},
     "output_type": "display_data"
    },
    {
     "name": "stdout",
     "output_type": "stream",
     "text": [
      "83) Game: 8235-6 Round: 36\n",
      "orange\n"
     ]
    },
    {
     "data": {
      "image/png": "[encoded data removed]",
      "text/plain": [
       "<Figure size 432x288 with 1 Axes>"
      ]
     },
     "metadata": {},
     "output_type": "display_data"
    },
    {
     "name": "stdout",
     "output_type": "stream",
     "text": [
      "84) Game: 8235-6 Round: 37\n",
      "grey\n"
     ]
    },
    {
     "data": {
      "image/png": "[encoded data removed]",
      "text/plain": [
       "<Figure size 432x288 with 1 Axes>"
      ]
     },
     "metadata": {},
     "output_type": "display_data"
    },
    {
     "name": "stdout",
     "output_type": "stream",
     "text": [
      "85) Game: 8235-6 Round: 38\n",
      "grey-blue\n"
     ]
    },
    {
     "data": {
      "image/png": "[encoded data removed]",
      "text/plain": [
       "<Figure size 432x288 with 1 Axes>"
      ]
     },
     "metadata": {},
     "output_type": "display_data"
    },
    {
     "name": "stdout",
     "output_type": "stream",
     "text": [
      "86) Game: 8235-6 Round: 39\n",
      "green\n"
     ]
    },
    {
     "data": {
      "image/png": "[encoded data removed]",
      "text/plain": [
       "<Figure size 432x288 with 1 Axes>"
      ]
     },
     "metadata": {},
     "output_type": "display_data"
    },
    {
     "name": "stdout",
     "output_type": "stream",
     "text": [
      "87) Game: 8235-6 Round: 40\n",
      "darkest green\n"
     ]
    },
    {
     "data": {
      "image/png": "[encoded data removed]",
      "text/plain": [
       "<Figure size 432x288 with 1 Axes>"
      ]
     },
     "metadata": {},
     "output_type": "display_data"
    },
    {
     "name": "stdout",
     "output_type": "stream",
     "text": [
      "88) Game: 8235-6 Round: 41\n",
      "pink\n"
     ]
    },
    {
     "data": {
      "image/png": "[encoded data removed]",
      "text/plain": [
       "<Figure size 432x288 with 1 Axes>"
      ]
     },
     "metadata": {},
     "output_type": "display_data"
    },
    {
     "name": "stdout",
     "output_type": "stream",
     "text": [
      "89) Game: 8235-6 Round: 42\n",
      "yellow\n"
     ]
    },
    {
     "data": {
      "image/png": "[encoded data removed]",
      "text/plain": [
       "<Figure size 432x288 with 1 Axes>"
      ]
     },
     "metadata": {},
     "output_type": "display_data"
    },
    {
     "name": "stdout",
     "output_type": "stream",
     "text": [
      "90) Game: 8235-6 Round: 43\n",
      "purple\n"
     ]
    },
    {
     "data": {
      "image/png": "[encoded data removed]",
      "text/plain": [
       "<Figure size 432x288 with 1 Axes>"
      ]
     },
     "metadata": {},
     "output_type": "display_data"
    },
    {
     "name": "stdout",
     "output_type": "stream",
     "text": [
      "91) Game: 8235-6 Round: 44\n",
      "green\n"
     ]
    },
    {
     "data": {
      "image/png": "[encoded data removed]",
      "text/plain": [
       "<Figure size 432x288 with 1 Axes>"
      ]
     },
     "metadata": {},
     "output_type": "display_data"
    },
    {
     "name": "stdout",
     "output_type": "stream",
     "text": [
      "92) Game: 8235-6 Round: 45\n",
      "red\n"
     ]
    },
    {
     "data": {
      "image/png": "[encoded data removed]",
      "text/plain": [
       "<Figure size 432x288 with 1 Axes>"
      ]
     },
     "metadata": {},
     "output_type": "display_data"
    },
    {
     "name": "stdout",
     "output_type": "stream",
     "text": [
      "93) Game: 8235-6 Round: 46\n",
      "purple\n"
     ]
    },
    {
     "data": {
      "image/png": "[encoded data removed]",
      "text/plain": [
       "<Figure size 432x288 with 1 Axes>"
      ]
     },
     "metadata": {},
     "output_type": "display_data"
    },
    {
     "name": "stdout",
     "output_type": "stream",
     "text": [
      "94) Game: 8235-6 Round: 47\n",
      "darker grey (not the lighter green-grey)\n"
     ]
    },
    {
     "data": {
      "image/png": "[encoded data removed]",
      "text/plain": [
       "<Figure size 432x288 with 1 Axes>"
      ]
     },
     "metadata": {},
     "output_type": "display_data"
    },
    {
     "name": "stdout",
     "output_type": "stream",
     "text": [
      "95) Game: 8235-6 Round: 48\n",
      "normal grey\n"
     ]
    },
    {
     "data": {
      "image/png": "[encoded data removed]",
      "text/plain": [
       "<Figure size 432x288 with 1 Axes>"
      ]
     },
     "metadata": {},
     "output_type": "display_data"
    },
    {
     "name": "stdout",
     "output_type": "stream",
     "text": [
      "96) Game: 8235-6 Round: 49\n",
      "orange\n"
     ]
    },
    {
     "data": {
      "image/png": "[encoded data removed]",
      "text/plain": [
       "<Figure size 432x288 with 1 Axes>"
      ]
     },
     "metadata": {},
     "output_type": "display_data"
    },
    {
     "name": "stdout",
     "output_type": "stream",
     "text": [
      "97) Game: 8235-6 Round: 50\n",
      "green (nice job!  I think we got one wrong.  nice working with you)\n"
     ]
    },
    {
     "data": {
      "image/png": "[encoded data removed]",
      "text/plain": [
       "<Figure size 432x288 with 1 Axes>"
      ]
     },
     "metadata": {},
     "output_type": "display_data"
    }
   ],
   "source": [
    "md_test_small.display_game_for_gameid(\"8235-6\")"
   ]
  },
  {
   "cell_type": "code",
   "execution_count": 420,
   "metadata": {},
   "outputs": [],
   "source": [
    "md_test_small_nos = MonroeData(\"filteredCorpus.csv\", single_speaker=False)"
   ]
  },
  {
   "cell_type": "code",
   "execution_count": 421,
   "metadata": {},
   "outputs": [],
   "source": [
    "for i in md_test_small_nos.read_data():\n",
    "    pass"
   ]
  },
  {
   "cell_type": "code",
   "execution_count": 422,
   "metadata": {},
   "outputs": [
    {
     "name": "stdout",
     "output_type": "stream",
     "text": [
      "hi\n",
      "[39, 40]\n",
      "39 I like the weirder one\n"
     ]
    },
    {
     "data": {
      "image/png": "[encoded data removed]",
      "text/plain": [
       "<Figure size 432x288 with 1 Axes>"
      ]
     },
     "metadata": {},
     "output_type": "display_data"
    },
    {
     "name": "stdout",
     "output_type": "stream",
     "text": [
      "40 Hahaha. Me too. This one is purple. Not neon and not lavender\n"
     ]
    },
    {
     "data": {
      "image/png": "[encoded data removed]",
      "text/plain": [
       "<Figure size 432x288 with 1 Axes>"
      ]
     },
     "metadata": {},
     "output_type": "display_data"
    }
   ],
   "source": [
    "md_test_small_nos.display_game_for_gameid(\"1124-1\", 34)"
   ]
  },
  {
   "cell_type": "code",
   "execution_count": 442,
   "metadata": {},
   "outputs": [],
   "source": [
    "md_test_small.data.reset_index(drop=True, inplace=True)"
   ]
  },
  {
   "cell_type": "code",
   "execution_count": 467,
   "metadata": {},
   "outputs": [
    {
     "data": {
      "text/html": [
       "<div>\n",
       "<style>\n",
       "    .dataframe thead tr:only-child th {\n",
       "        text-align: right;\n",
       "    }\n",
       "\n",
       "    .dataframe thead th {\n",
       "        text-align: left;\n",
       "    }\n",
       "\n",
       "    .dataframe tbody tr th {\n",
       "        vertical-align: top;\n",
       "    }\n",
       "</style>\n",
       "<table border=\"1\" class=\"dataframe\">\n",
       "  <thead>\n",
       "    <tr style=\"text-align: right;\">\n",
       "      <th></th>\n",
       "      <th>gameid</th>\n",
       "      <th>clkTime</th>\n",
       "      <th>roundNum</th>\n",
       "      <th>condition</th>\n",
       "      <th>clickStatus</th>\n",
       "      <th>clickColH</th>\n",
       "      <th>clickColS</th>\n",
       "      <th>clickColL</th>\n",
       "      <th>clickLocS</th>\n",
       "      <th>clickLocL</th>\n",
       "      <th>...</th>\n",
       "      <th>msgTime</th>\n",
       "      <th>role</th>\n",
       "      <th>contents</th>\n",
       "      <th>workerid_uniq</th>\n",
       "      <th>numOutcome</th>\n",
       "      <th>numRawWords</th>\n",
       "      <th>numRawChars</th>\n",
       "      <th>numCleanChars</th>\n",
       "      <th>numCleanWords</th>\n",
       "      <th>source</th>\n",
       "    </tr>\n",
       "  </thead>\n",
       "  <tbody>\n",
       "    <tr>\n",
       "      <th>95</th>\n",
       "      <td>8235-6</td>\n",
       "      <td>1.459878e+12</td>\n",
       "      <td>48</td>\n",
       "      <td>split</td>\n",
       "      <td>target</td>\n",
       "      <td>164</td>\n",
       "      <td>11</td>\n",
       "      <td>50</td>\n",
       "      <td>3</td>\n",
       "      <td>2</td>\n",
       "      <td>...</td>\n",
       "      <td>1.459878e+12</td>\n",
       "      <td>speaker</td>\n",
       "      <td>normal grey</td>\n",
       "      <td>968.0</td>\n",
       "      <td>1.0</td>\n",
       "      <td>2</td>\n",
       "      <td>10</td>\n",
       "      <td>10.0</td>\n",
       "      <td>2.0</td>\n",
       "      <td>human</td>\n",
       "    </tr>\n",
       "    <tr>\n",
       "      <th>96</th>\n",
       "      <td>8235-6</td>\n",
       "      <td>1.459878e+12</td>\n",
       "      <td>49</td>\n",
       "      <td>far</td>\n",
       "      <td>target</td>\n",
       "      <td>16</td>\n",
       "      <td>68</td>\n",
       "      <td>50</td>\n",
       "      <td>2</td>\n",
       "      <td>1</td>\n",
       "      <td>...</td>\n",
       "      <td>1.459878e+12</td>\n",
       "      <td>speaker</td>\n",
       "      <td>orange</td>\n",
       "      <td>968.0</td>\n",
       "      <td>1.0</td>\n",
       "      <td>1</td>\n",
       "      <td>6</td>\n",
       "      <td>6.0</td>\n",
       "      <td>1.0</td>\n",
       "      <td>human</td>\n",
       "    </tr>\n",
       "    <tr>\n",
       "      <th>97</th>\n",
       "      <td>8235-6</td>\n",
       "      <td>1.459878e+12</td>\n",
       "      <td>50</td>\n",
       "      <td>far</td>\n",
       "      <td>target</td>\n",
       "      <td>130</td>\n",
       "      <td>36</td>\n",
       "      <td>50</td>\n",
       "      <td>2</td>\n",
       "      <td>1</td>\n",
       "      <td>...</td>\n",
       "      <td>1.459878e+12</td>\n",
       "      <td>speaker</td>\n",
       "      <td>green (nice job!  I think we got one wrong.  n...</td>\n",
       "      <td>968.0</td>\n",
       "      <td>1.0</td>\n",
       "      <td>13</td>\n",
       "      <td>49</td>\n",
       "      <td>39.0</td>\n",
       "      <td>9.0</td>\n",
       "      <td>human</td>\n",
       "    </tr>\n",
       "    <tr>\n",
       "      <th>98</th>\n",
       "      <td>2007-2</td>\n",
       "      <td>1.459877e+12</td>\n",
       "      <td>1</td>\n",
       "      <td>split</td>\n",
       "      <td>target</td>\n",
       "      <td>96</td>\n",
       "      <td>79</td>\n",
       "      <td>50</td>\n",
       "      <td>2</td>\n",
       "      <td>3</td>\n",
       "      <td>...</td>\n",
       "      <td>1.459877e+12</td>\n",
       "      <td>speaker</td>\n",
       "      <td>lime green</td>\n",
       "      <td>963.0</td>\n",
       "      <td>1.0</td>\n",
       "      <td>2</td>\n",
       "      <td>9</td>\n",
       "      <td>9.0</td>\n",
       "      <td>2.0</td>\n",
       "      <td>human</td>\n",
       "    </tr>\n",
       "    <tr>\n",
       "      <th>99</th>\n",
       "      <td>2007-2</td>\n",
       "      <td>1.459877e+12</td>\n",
       "      <td>2</td>\n",
       "      <td>close</td>\n",
       "      <td>target</td>\n",
       "      <td>191</td>\n",
       "      <td>3</td>\n",
       "      <td>50</td>\n",
       "      <td>1</td>\n",
       "      <td>3</td>\n",
       "      <td>...</td>\n",
       "      <td>1.459877e+12</td>\n",
       "      <td>speaker</td>\n",
       "      <td>gray</td>\n",
       "      <td>963.0</td>\n",
       "      <td>1.0</td>\n",
       "      <td>1</td>\n",
       "      <td>4</td>\n",
       "      <td>4.0</td>\n",
       "      <td>1.0</td>\n",
       "      <td>human</td>\n",
       "    </tr>\n",
       "  </tbody>\n",
       "</table>\n",
       "<p>5 rows × 36 columns</p>\n",
       "</div>"
      ],
      "text/plain": [
       "    gameid       clkTime  roundNum condition clickStatus  clickColH  \\\n",
       "95  8235-6  1.459878e+12        48     split      target        164   \n",
       "96  8235-6  1.459878e+12        49       far      target         16   \n",
       "97  8235-6  1.459878e+12        50       far      target        130   \n",
       "98  2007-2  1.459877e+12         1     split      target         96   \n",
       "99  2007-2  1.459877e+12         2     close      target        191   \n",
       "\n",
       "    clickColS  clickColL  clickLocS  clickLocL   ...         msgTime     role  \\\n",
       "95         11         50          3          2   ...    1.459878e+12  speaker   \n",
       "96         68         50          2          1   ...    1.459878e+12  speaker   \n",
       "97         36         50          2          1   ...    1.459878e+12  speaker   \n",
       "98         79         50          2          3   ...    1.459877e+12  speaker   \n",
       "99          3         50          1          3   ...    1.459877e+12  speaker   \n",
       "\n",
       "                                             contents  workerid_uniq  \\\n",
       "95                                        normal grey          968.0   \n",
       "96                                             orange          968.0   \n",
       "97  green (nice job!  I think we got one wrong.  n...          968.0   \n",
       "98                                         lime green          963.0   \n",
       "99                                               gray          963.0   \n",
       "\n",
       "    numOutcome  numRawWords numRawChars  numCleanChars  numCleanWords  source  \n",
       "95         1.0            2          10           10.0            2.0   human  \n",
       "96         1.0            1           6            6.0            1.0   human  \n",
       "97         1.0           13          49           39.0            9.0   human  \n",
       "98         1.0            2           9            9.0            2.0   human  \n",
       "99         1.0            1           4            4.0            1.0   human  \n",
       "\n",
       "[5 rows x 36 columns]"
      ]
     },
     "execution_count": 467,
     "metadata": {},
     "output_type": "execute_result"
    }
   ],
   "source": [
    "md_test_small.data[:100].tail()"
   ]
  },
  {
   "cell_type": "code",
   "execution_count": 412,
   "metadata": {},
   "outputs": [
    {
     "data": {
      "text/plain": [
       "0"
      ]
     },
     "execution_count": 412,
     "metadata": {},
     "output_type": "execute_result"
    }
   ],
   "source": [
    "len(md_test_small)"
   ]
  },
  {
   "cell_type": "code",
   "execution_count": 258,
   "metadata": {},
   "outputs": [
    {
     "name": "stdout",
     "output_type": "stream",
     "text": [
      "CPU times: user 3min 13s, sys: 1.35 s, total: 3min 15s\n",
      "Wall time: 3min 15s\n"
     ]
    }
   ],
   "source": [
    "%%time\n",
    "counter = 0\n",
    "for data_entry in md_test.read_data():\n",
    "    counter += 1"
   ]
  },
  {
   "cell_type": "markdown",
   "metadata": {},
   "source": [
    "###### data.shape"
   ]
  },
  {
   "cell_type": "code",
   "execution_count": 219,
   "metadata": {},
   "outputs": [
    {
     "data": {
      "text/plain": [
       "True"
      ]
     },
     "execution_count": 219,
     "metadata": {},
     "output_type": "execute_result"
    }
   ],
   "source": [
    "md_test[2].colors == md_test[3].colors"
   ]
  },
  {
   "cell_type": "code",
   "execution_count": 250,
   "metadata": {
    "scrolled": true
   },
   "outputs": [
    {
     "data": {
      "text/html": [
       "<div>\n",
       "<style>\n",
       "    .dataframe thead tr:only-child th {\n",
       "        text-align: right;\n",
       "    }\n",
       "\n",
       "    .dataframe thead th {\n",
       "        text-align: left;\n",
       "    }\n",
       "\n",
       "    .dataframe tbody tr th {\n",
       "        vertical-align: top;\n",
       "    }\n",
       "</style>\n",
       "<table border=\"1\" class=\"dataframe\">\n",
       "  <thead>\n",
       "    <tr style=\"text-align: right;\">\n",
       "      <th></th>\n",
       "      <th>98</th>\n",
       "      <th>99</th>\n",
       "      <th>100</th>\n",
       "    </tr>\n",
       "  </thead>\n",
       "  <tbody>\n",
       "    <tr>\n",
       "      <th>gameid</th>\n",
       "      <td>8235-6</td>\n",
       "      <td>8235-6</td>\n",
       "      <td>8235-6</td>\n",
       "    </tr>\n",
       "    <tr>\n",
       "      <th>clkTime</th>\n",
       "      <td>1.45988e+12</td>\n",
       "      <td>1.45988e+12</td>\n",
       "      <td>1.45988e+12</td>\n",
       "    </tr>\n",
       "    <tr>\n",
       "      <th>roundNum</th>\n",
       "      <td>41</td>\n",
       "      <td>42</td>\n",
       "      <td>43</td>\n",
       "    </tr>\n",
       "    <tr>\n",
       "      <th>condition</th>\n",
       "      <td>far</td>\n",
       "      <td>close</td>\n",
       "      <td>split</td>\n",
       "    </tr>\n",
       "    <tr>\n",
       "      <th>clickStatus</th>\n",
       "      <td>target</td>\n",
       "      <td>target</td>\n",
       "      <td>target</td>\n",
       "    </tr>\n",
       "    <tr>\n",
       "      <th>clickColH</th>\n",
       "      <td>340</td>\n",
       "      <td>71</td>\n",
       "      <td>231</td>\n",
       "    </tr>\n",
       "    <tr>\n",
       "      <th>clickColS</th>\n",
       "      <td>64</td>\n",
       "      <td>64</td>\n",
       "      <td>32</td>\n",
       "    </tr>\n",
       "    <tr>\n",
       "      <th>clickColL</th>\n",
       "      <td>50</td>\n",
       "      <td>50</td>\n",
       "      <td>50</td>\n",
       "    </tr>\n",
       "    <tr>\n",
       "      <th>clickLocS</th>\n",
       "      <td>2</td>\n",
       "      <td>3</td>\n",
       "      <td>3</td>\n",
       "    </tr>\n",
       "    <tr>\n",
       "      <th>clickLocL</th>\n",
       "      <td>1</td>\n",
       "      <td>2</td>\n",
       "      <td>1</td>\n",
       "    </tr>\n",
       "    <tr>\n",
       "      <th>alt1Status</th>\n",
       "      <td>distr1</td>\n",
       "      <td>distr2</td>\n",
       "      <td>distr1</td>\n",
       "    </tr>\n",
       "    <tr>\n",
       "      <th>alt1ColH</th>\n",
       "      <td>251</td>\n",
       "      <td>107</td>\n",
       "      <td>206</td>\n",
       "    </tr>\n",
       "    <tr>\n",
       "      <th>alt1ColS</th>\n",
       "      <td>7</td>\n",
       "      <td>28</td>\n",
       "      <td>39</td>\n",
       "    </tr>\n",
       "    <tr>\n",
       "      <th>alt1ColL</th>\n",
       "      <td>50</td>\n",
       "      <td>50</td>\n",
       "      <td>50</td>\n",
       "    </tr>\n",
       "    <tr>\n",
       "      <th>alt1LocS</th>\n",
       "      <td>1</td>\n",
       "      <td>1</td>\n",
       "      <td>1</td>\n",
       "    </tr>\n",
       "    <tr>\n",
       "      <th>alt1LocL</th>\n",
       "      <td>3</td>\n",
       "      <td>3</td>\n",
       "      <td>2</td>\n",
       "    </tr>\n",
       "    <tr>\n",
       "      <th>alt2Status</th>\n",
       "      <td>distr2</td>\n",
       "      <td>distr1</td>\n",
       "      <td>distr2</td>\n",
       "    </tr>\n",
       "    <tr>\n",
       "      <th>alt2ColH</th>\n",
       "      <td>64</td>\n",
       "      <td>130</td>\n",
       "      <td>354</td>\n",
       "    </tr>\n",
       "    <tr>\n",
       "      <th>alt2ColS</th>\n",
       "      <td>18</td>\n",
       "      <td>67</td>\n",
       "      <td>47</td>\n",
       "    </tr>\n",
       "    <tr>\n",
       "      <th>alt2ColL</th>\n",
       "      <td>50</td>\n",
       "      <td>50</td>\n",
       "      <td>50</td>\n",
       "    </tr>\n",
       "    <tr>\n",
       "      <th>alt2LocS</th>\n",
       "      <td>3</td>\n",
       "      <td>2</td>\n",
       "      <td>2</td>\n",
       "    </tr>\n",
       "    <tr>\n",
       "      <th>alt2LocL</th>\n",
       "      <td>2</td>\n",
       "      <td>1</td>\n",
       "      <td>3</td>\n",
       "    </tr>\n",
       "    <tr>\n",
       "      <th>targetD1Diff</th>\n",
       "      <td>27</td>\n",
       "      <td>16</td>\n",
       "      <td>15</td>\n",
       "    </tr>\n",
       "    <tr>\n",
       "      <th>targetD2Diff</th>\n",
       "      <td>49</td>\n",
       "      <td>19</td>\n",
       "      <td>34</td>\n",
       "    </tr>\n",
       "    <tr>\n",
       "      <th>D1D2Diff</th>\n",
       "      <td>31</td>\n",
       "      <td>15</td>\n",
       "      <td>44</td>\n",
       "    </tr>\n",
       "    <tr>\n",
       "      <th>outcome</th>\n",
       "      <td>True</td>\n",
       "      <td>True</td>\n",
       "      <td>True</td>\n",
       "    </tr>\n",
       "    <tr>\n",
       "      <th>msgTime</th>\n",
       "      <td>1.45988e+12</td>\n",
       "      <td>1.45988e+12</td>\n",
       "      <td>1.45988e+12</td>\n",
       "    </tr>\n",
       "    <tr>\n",
       "      <th>role</th>\n",
       "      <td>speaker</td>\n",
       "      <td>speaker</td>\n",
       "      <td>speaker</td>\n",
       "    </tr>\n",
       "    <tr>\n",
       "      <th>contents</th>\n",
       "      <td>pink</td>\n",
       "      <td>yellow</td>\n",
       "      <td>purple</td>\n",
       "    </tr>\n",
       "    <tr>\n",
       "      <th>workerid_uniq</th>\n",
       "      <td>968</td>\n",
       "      <td>968</td>\n",
       "      <td>968</td>\n",
       "    </tr>\n",
       "    <tr>\n",
       "      <th>numOutcome</th>\n",
       "      <td>1</td>\n",
       "      <td>1</td>\n",
       "      <td>1</td>\n",
       "    </tr>\n",
       "    <tr>\n",
       "      <th>numRawWords</th>\n",
       "      <td>1</td>\n",
       "      <td>1</td>\n",
       "      <td>1</td>\n",
       "    </tr>\n",
       "    <tr>\n",
       "      <th>numRawChars</th>\n",
       "      <td>4</td>\n",
       "      <td>6</td>\n",
       "      <td>6</td>\n",
       "    </tr>\n",
       "    <tr>\n",
       "      <th>numCleanChars</th>\n",
       "      <td>4</td>\n",
       "      <td>6</td>\n",
       "      <td>6</td>\n",
       "    </tr>\n",
       "    <tr>\n",
       "      <th>numCleanWords</th>\n",
       "      <td>1</td>\n",
       "      <td>1</td>\n",
       "      <td>1</td>\n",
       "    </tr>\n",
       "    <tr>\n",
       "      <th>source</th>\n",
       "      <td>human</td>\n",
       "      <td>human</td>\n",
       "      <td>human</td>\n",
       "    </tr>\n",
       "  </tbody>\n",
       "</table>\n",
       "</div>"
      ],
      "text/plain": [
       "                       98           99           100\n",
       "gameid              8235-6       8235-6       8235-6\n",
       "clkTime        1.45988e+12  1.45988e+12  1.45988e+12\n",
       "roundNum                41           42           43\n",
       "condition              far        close        split\n",
       "clickStatus         target       target       target\n",
       "clickColH              340           71          231\n",
       "clickColS               64           64           32\n",
       "clickColL               50           50           50\n",
       "clickLocS                2            3            3\n",
       "clickLocL                1            2            1\n",
       "alt1Status          distr1       distr2       distr1\n",
       "alt1ColH               251          107          206\n",
       "alt1ColS                 7           28           39\n",
       "alt1ColL                50           50           50\n",
       "alt1LocS                 1            1            1\n",
       "alt1LocL                 3            3            2\n",
       "alt2Status          distr2       distr1       distr2\n",
       "alt2ColH                64          130          354\n",
       "alt2ColS                18           67           47\n",
       "alt2ColL                50           50           50\n",
       "alt2LocS                 3            2            2\n",
       "alt2LocL                 2            1            3\n",
       "targetD1Diff            27           16           15\n",
       "targetD2Diff            49           19           34\n",
       "D1D2Diff                31           15           44\n",
       "outcome               True         True         True\n",
       "msgTime        1.45988e+12  1.45988e+12  1.45988e+12\n",
       "role               speaker      speaker      speaker\n",
       "contents              pink       yellow       purple\n",
       "workerid_uniq          968          968          968\n",
       "numOutcome               1            1            1\n",
       "numRawWords              1            1            1\n",
       "numRawChars              4            6            6\n",
       "numCleanChars            4            6            6\n",
       "numCleanWords            1            1            1\n",
       "source               human        human        human"
      ]
     },
     "execution_count": 250,
     "metadata": {},
     "output_type": "execute_result"
    }
   ],
   "source": [
    "md_test.data[98:101].T"
   ]
  },
  {
   "cell_type": "code",
   "execution_count": 166,
   "metadata": {},
   "outputs": [
    {
     "data": {
      "text/plain": [
       "True"
      ]
     },
     "execution_count": 166,
     "metadata": {},
     "output_type": "execute_result"
    }
   ],
   "source": [
    "md_test[2].colors[0].rgb == md_test[3].colors[0].rgb"
   ]
  },
  {
   "cell_type": "code",
   "execution_count": 222,
   "metadata": {},
   "outputs": [
    {
     "name": "stdout",
     "output_type": "stream",
     "text": [
      "3 the medium dark one\n"
     ]
    },
    {
     "data": {
      "image/png": "[encoded data removed]",
      "text/plain": [
       "<Figure size 432x288 with 1 Axes>"
      ]
     },
     "metadata": {},
     "output_type": "display_data"
    }
   ],
   "source": [
    "md_test.display_game(3)"
   ]
  },
  {
   "cell_type": "code",
   "execution_count": 180,
   "metadata": {},
   "outputs": [
    {
     "name": "stdout",
     "output_type": "stream",
     "text": [
      "Darkish red\n"
     ]
    },
    {
     "data": {
      "image/png": "[encoded data removed]",
      "text/plain": [
       "<Figure size 432x288 with 1 Axes>"
      ]
     },
     "metadata": {},
     "output_type": "display_data"
    }
   ],
   "source": [
    "md_test.display_target_for_idx(9)"
   ]
  },
  {
   "cell_type": "code",
   "execution_count": 88,
   "metadata": {},
   "outputs": [
    {
     "name": "stdout",
     "output_type": "stream",
     "text": [
      "[['The', 'darker', 'blue', 'one'], ['purple'], ['Medium', 'pink'], ['the', 'medium', 'dark', 'one'], ['lime'], ['Mint', 'green', '.'], ['Mud', 'brown'], ['Mud', 'brown'], ['Camo', 'green'], ['Darkish', 'red']]\n"
     ]
    }
   ],
   "source": [
    "print(list(nltk.word_tokenize(md_test[i].caption) for i in range(len(md_test.entries))))"
   ]
  },
  {
   "cell_type": "code",
   "execution_count": 173,
   "metadata": {},
   "outputs": [],
   "source": [
    "class Color():\n",
    "    def __init__(self, coordinate_1, coordinate_2, coordinate_3, space='hsl'):\n",
    "        if space.lower() == 'hsl':\n",
    "            self.hsl = [coordinate_1, coordinate_2, coordinate_3]\n",
    "            self.rgb = self.hsl_to_rgb(self.hsl)\n",
    "            \n",
    "        if space.lower() == \"rgb\":\n",
    "            self.rgb = [coordinate_1, coordinate_2, coordinate_3]\n",
    "            self.hsl = self.rgb_to_hsl(self.rgb)\n",
    "        \n",
    "        self.hsv = self.hsl_to_hsv(self.hsl)\n",
    "        \n",
    "        self.hsl_norm = self.normalize_hsl(self.hsl)\n",
    "        self.rgb_norm = self.normalize_rgb(self.rgb)\n",
    "        self.hsv_norm = self.normalize_hsv(self.hsv)\n",
    "    \n",
    "    def normalize_hsl(self, hsl):\n",
    "        norm_circle = cols.Normalize(0, 360)\n",
    "        norm_hundred = cols.Normalize(0, 100)\n",
    "        return [norm_circle(hsl[0]), norm_hundred(hsl[1]), norm_hundred(hsl[2])]\n",
    "    \n",
    "    def normalize_rgb(self, rgb):\n",
    "        norm_byte = cols.Normalize(0, 256)\n",
    "        norm_color = [norm_byte(c) for c in rgb]\n",
    "        return norm_color\n",
    "    \n",
    "    def normalize_hsv(self, hsv):\n",
    "        norm_circle = cols.Normalize(0, 360)\n",
    "        norm_hundred = cols.Normalize(0, 100)\n",
    "        return [norm_circle(hsv[0]), norm_hundred(hsv[1]), norm_hundred(hsv[2])]\n",
    "    \n",
    "    def rgb_to_hsl(self, rgb):\n",
    "        norm_color = self.normalize_rgb(rgb)\n",
    "        hls = cs.rgb_to_hls(*norm_color)\n",
    "        hsl = [int(round(360*hls[0])), round(100*hls[2]), round(100*hls[1])]\n",
    "        return hsl\n",
    "    \n",
    "    def hsl_to_rgb(self, hsl):\n",
    "        # colorsys package takes colors in hls not hsl, so we swap the last two columns here.\n",
    "        norm_color = self.normalize_hsl(hsl)\n",
    "        norm_color[1], norm_color[2] = norm_color[2], norm_color[1]\n",
    "        rgb = cs.hls_to_rgb(norm_color[0], norm_color[1], norm_color[2])\n",
    "        rgb = [int(round(c*256)) for c in rgb]\n",
    "        return rgb\n",
    "    \n",
    "    def hsl_to_hsv(self, hsl):\n",
    "        # shamelessly taken from Will Monroes code and he based his code off of\n",
    "        #   http://ariya.ofilabs.com/2008/07/converting-between-hsl-and-hsv.html\n",
    "        h_in, s_in, l_in = hsl\n",
    "        h_out = h_in\n",
    "        s_in *= (l_in/100.0) if l_in <= 50.0 else (1.0 - (l_in/100.0))\n",
    "        v_out = l_in + s_in\n",
    "        s_out = (200.0 * s_in / v_out) if v_out else 0.0\n",
    "        return [h_out, s_out, v_out]\n",
    "        \n",
    "        \n",
    "    \n",
    "    def __repr__(self):\n",
    "        return 'hsl: {}, rgb {}, hsv {}'.format(self.hsl, self.rgb, self.hsv)\n",
    "    \n",
    "    def __eq__(self, other):\n",
    "        return other.hsl == self.hsl and other.rgb == self.rgb\n",
    "            \n",
    "    \n",
    "            \n",
    "    "
   ]
  },
  {
   "cell_type": "code",
   "execution_count": 168,
   "metadata": {},
   "outputs": [],
   "source": [
    "test_color = Color(120, 100, 50)"
   ]
  },
  {
   "cell_type": "code",
   "execution_count": 171,
   "metadata": {},
   "outputs": [
    {
     "data": {
      "text/plain": [
       "[240, 0.0, 0.0]"
      ]
     },
     "execution_count": 171,
     "metadata": {},
     "output_type": "execute_result"
    }
   ],
   "source": [
    "test_color.hsl_to_hsv([240, 100, 0])"
   ]
  },
  {
   "cell_type": "code",
   "execution_count": null,
   "metadata": {},
   "outputs": [],
   "source": [
    "# HSL <-> HSV conversion based on C code by Ariya Hidayat:\n",
    "#   http://ariya.ofilabs.com/2008/07/converting-between-hsl-and-hsv.html\n",
    "def hsl_to_hsv(color):\n",
    "'''\n",
    "    >>> hsl_to_hsv((120, 100, 50))\n",
    "    (120.0, 100.0, 100.0)\n",
    "    >>> hsl_to_hsv((0, 100, 100))\n",
    "    (0.0, 0.0, 100.0)\n",
    "    Saturation in HSV is undefined and arbitrarily 0 for black:\n",
    "    >>> hsl_to_hsv((240, 100, 0))\n",
    "    (240.0, 0.0, 0.0)\n",
    "    '''\n",
    "    hi, si, li = [float(d) for d in color]\n",
    "    ho = hi\n",
    "    si *= (li / 100.0) if li <= 50.0 else (1.0 - li / 100.0)\n",
    "    vo = li + si\n",
    "    so = (200.0 * si / vo) if vo else 0.0\n",
    "return (ho, so, vo)\n",
    "def hsv_to_hsl(color):\n",
    "'''\n",
    "    >>> hsv_to_hsl((120, 100, 100))\n",
    "    (120.0, 100.0, 50.0)\n",
    "    Saturation in HSL is undefined and arbitrarily 0 for black and white:\n",
    "    >>> hsv_to_hsl((240, 0, 0))\n",
    "    (240.0, 0.0, 0.0)\n",
    "    >>> hsv_to_hsl((0, 0, 100))\n",
    "    (0.0, 0.0, 100.0)\n",
    "    '''\n",
    "    hi, si, vi = [float(d) for d in color]\n",
    "    ho = hi\n",
    "    lo = (200.0 - si) * vi / 200.0\n",
    "    so = si * vi / 200.0\n",
    "if lo >= 100.0 or lo <= 0.0:\n",
    "        so = 0.0\n",
    "else:\n",
    "        so /= (lo / 100.0) if lo <= 50.0 else (1.0 - lo / 100.0)\n",
    "return (ho, so, lo)"
   ]
  },
  {
   "cell_type": "code",
   "execution_count": 144,
   "metadata": {},
   "outputs": [
    {
     "ename": "NameError",
     "evalue": "name 'md_test' is not defined",
     "output_type": "error",
     "traceback": [
      "\u001b[0;31m---------------------------------------------------------------------------\u001b[0m",
      "\u001b[0;31mNameError\u001b[0m                                 Traceback (most recent call last)",
      "\u001b[0;32m<ipython-input-144-fe14e82b62bf>\u001b[0m in \u001b[0;36m<module>\u001b[0;34m()\u001b[0m\n\u001b[1;32m      1\u001b[0m \u001b[0;31m# Let's make a simple model to try and predict condition from words\u001b[0m\u001b[0;34m\u001b[0m\u001b[0;34m\u001b[0m\u001b[0;34m\u001b[0m\u001b[0m\n\u001b[1;32m      2\u001b[0m \u001b[0;34m\u001b[0m\u001b[0m\n\u001b[0;32m----> 3\u001b[0;31m \u001b[0mlen\u001b[0m\u001b[0;34m(\u001b[0m\u001b[0mmd_test\u001b[0m\u001b[0;34m)\u001b[0m\u001b[0;34m\u001b[0m\u001b[0;34m\u001b[0m\u001b[0m\n\u001b[0m",
      "\u001b[0;31mNameError\u001b[0m: name 'md_test' is not defined"
     ]
    }
   ],
   "source": [
    "# Let's make a simple model to try and predict condition from words\n",
    "\n",
    "len(md_test)"
   ]
  },
  {
   "cell_type": "code",
   "execution_count": 226,
   "metadata": {},
   "outputs": [],
   "source": [
    "from collections import Counter\n",
    "from sklearn.linear_model import LogisticRegression\n",
    "from sklearn.feature_extraction import DictVectorizer\n",
    "from sklearn.preprocessing import LabelEncoder\n",
    "\n"
   ]
  },
  {
   "cell_type": "code",
   "execution_count": 227,
   "metadata": {},
   "outputs": [],
   "source": [
    "def bow_phi(data_entry):\n",
    "    features = Counter()\n",
    "    for word in data_entry.tokens:\n",
    "        features[word] += 1\n",
    "    return features\n",
    "        "
   ]
  },
  {
   "cell_type": "code",
   "execution_count": 265,
   "metadata": {},
   "outputs": [],
   "source": [
    "\n",
    "def get_features(phi, data, num_test=100):\n",
    "    vectorizer = DictVectorizer()\n",
    "    features = [phi(de) for de in data.entries]\n",
    "    features = vectorizer.fit_transform(features)\n",
    "    features_train = features[num_test:]\n",
    "    features_test = features[:num_test]\n",
    "    return features_train, features_test\n",
    "\n",
    "def get_targets(data, num_test=100):\n",
    "    targets = [de.condition for de in data.entries]\n",
    "    target_encoder = LabelEncoder()\n",
    "    target_encoder.fit(targets)\n",
    "    targets_enc = target_encoder.transform(targets)\n",
    "    targets_train = targets_enc[num_test:]\n",
    "    targets_test = targets_enc[:num_test]\n",
    "    return targets_train, targets_test\n",
    "\n",
    "def fit_and_evaluate(model, features_train, features_test, targets_train, targets_test):\n",
    "    clf = model.fit(features_train, targets_train)\n",
    "    model_acc = clf.score(features_test, targets_test)\n",
    "    print(\"Accuracy: {}\".format(model_acc))\n",
    "    return clf, model_acc\n",
    "    \n"
   ]
  },
  {
   "cell_type": "code",
   "execution_count": 266,
   "metadata": {},
   "outputs": [],
   "source": [
    "def logisitc_regression_model(data, phi):\n",
    "    features_train, features_test = get_features(phi, data, num_test=500)\n",
    "    targets_train, targets_test = get_targets(data, num_test = 500)\n",
    "    model = LogisticRegression(fit_intercept=True, solver='newton-cg', multi_class='multinomial')\n",
    "    model = fit_and_evaluate(model, features_train, features_test, targets_train, targets_test)\n",
    "    return model"
   ]
  },
  {
   "cell_type": "code",
   "execution_count": 267,
   "metadata": {},
   "outputs": [
    {
     "name": "stdout",
     "output_type": "stream",
     "text": [
      "Accuracy: 0.48\n"
     ]
    }
   ],
   "source": [
    "logisitic_model = logisitc_regression_model(md_test, bow_phi)"
   ]
  },
  {
   "cell_type": "code",
   "execution_count": 489,
   "metadata": {},
   "outputs": [
    {
     "name": "stdout",
     "output_type": "stream",
     "text": [
      "Accuracy: 0.508\n"
     ]
    }
   ],
   "source": [
    "logistic_model_speaker = logisitc_regression_model(md_speaker, bow_phi)"
   ]
  },
  {
   "cell_type": "code",
   "execution_count": 487,
   "metadata": {},
   "outputs": [
    {
     "name": "stdout",
     "output_type": "stream",
     "text": [
      "CPU times: user 3min 7s, sys: 2.17 s, total: 3min 9s\n",
      "Wall time: 3min 38s\n"
     ]
    }
   ],
   "source": [
    "%%time\n",
    "md_speaker = MonroeData(\"filteredCorpus.csv\", ss_method=\"final\")\n",
    "for _ in md_speaker.read_data(): pass"
   ]
  },
  {
   "cell_type": "code",
   "execution_count": null,
   "metadata": {},
   "outputs": [],
   "source": [
    "import pickle\n",
    "\n",
    "with open(\"monroe_speaker_data.pkl\", \"wb\") as pkl_file:\n",
    "    pickle.dump(md_speaker.entries, pkl_file)"
   ]
  },
  {
   "cell_type": "code",
   "execution_count": 160,
   "metadata": {},
   "outputs": [
    {
     "name": "stderr",
     "output_type": "stream",
     "text": [
      "/Users/benjaminnewman/miniconda3/lib/python3.6/site-packages/ipykernel_launcher.py:28: SettingWithCopyWarning: \n",
      "A value is trying to be set on a copy of a slice from a DataFrame.\n",
      "Try using .loc[row_indexer,col_indexer] = value instead\n",
      "\n",
      "See the caveats in the documentation: http://pandas.pydata.org/pandas-docs/stable/indexing.html#indexing-view-versus-copy\n"
     ]
    },
    {
     "name": "stdout",
     "output_type": "stream",
     "text": [
      "CPU times: user 8.16 s, sys: 170 ms, total: 8.33 s\n",
      "Wall time: 8.47 s\n"
     ]
    }
   ],
   "source": [
    "%%time\n",
    "# produces a warning, but still works\n",
    "md_speaker_pool = MonroeData(\"filteredCorpus.csv\", ss_method=\"pool\")\n",
    "#for _ in md_speaker_pool.read_data(): pass"
   ]
  },
  {
   "cell_type": "code",
   "execution_count": 161,
   "metadata": {},
   "outputs": [
    {
     "data": {
      "text/html": [
       "<div>\n",
       "<style>\n",
       "    .dataframe thead tr:only-child th {\n",
       "        text-align: right;\n",
       "    }\n",
       "\n",
       "    .dataframe thead th {\n",
       "        text-align: left;\n",
       "    }\n",
       "\n",
       "    .dataframe tbody tr th {\n",
       "        vertical-align: top;\n",
       "    }\n",
       "</style>\n",
       "<table border=\"1\" class=\"dataframe\">\n",
       "  <thead>\n",
       "    <tr style=\"text-align: right;\">\n",
       "      <th></th>\n",
       "      <th>gameid</th>\n",
       "      <th>clkTime</th>\n",
       "      <th>roundNum</th>\n",
       "      <th>condition</th>\n",
       "      <th>clickStatus</th>\n",
       "      <th>clickColH</th>\n",
       "      <th>clickColS</th>\n",
       "      <th>clickColL</th>\n",
       "      <th>clickLocS</th>\n",
       "      <th>clickLocL</th>\n",
       "      <th>...</th>\n",
       "      <th>msgTime</th>\n",
       "      <th>role</th>\n",
       "      <th>contents</th>\n",
       "      <th>workerid_uniq</th>\n",
       "      <th>numOutcome</th>\n",
       "      <th>numRawWords</th>\n",
       "      <th>numRawChars</th>\n",
       "      <th>numCleanChars</th>\n",
       "      <th>numCleanWords</th>\n",
       "      <th>source</th>\n",
       "    </tr>\n",
       "  </thead>\n",
       "  <tbody>\n",
       "    <tr>\n",
       "      <th>0</th>\n",
       "      <td>1124-1</td>\n",
       "      <td>1.459877e+12</td>\n",
       "      <td>1</td>\n",
       "      <td>close</td>\n",
       "      <td>distr2</td>\n",
       "      <td>248</td>\n",
       "      <td>92</td>\n",
       "      <td>50</td>\n",
       "      <td>3</td>\n",
       "      <td>1</td>\n",
       "      <td>...</td>\n",
       "      <td>1.459877e+12</td>\n",
       "      <td>speaker</td>\n",
       "      <td>The darker blue one</td>\n",
       "      <td>201.0</td>\n",
       "      <td>0.0</td>\n",
       "      <td>4</td>\n",
       "      <td>16</td>\n",
       "      <td>13.0</td>\n",
       "      <td>3.0</td>\n",
       "      <td>human</td>\n",
       "    </tr>\n",
       "    <tr>\n",
       "      <th>1</th>\n",
       "      <td>1124-1</td>\n",
       "      <td>1.459877e+12</td>\n",
       "      <td>2</td>\n",
       "      <td>far</td>\n",
       "      <td>target</td>\n",
       "      <td>249</td>\n",
       "      <td>25</td>\n",
       "      <td>50</td>\n",
       "      <td>1</td>\n",
       "      <td>2</td>\n",
       "      <td>...</td>\n",
       "      <td>1.459877e+12</td>\n",
       "      <td>speaker</td>\n",
       "      <td>purple</td>\n",
       "      <td>201.0</td>\n",
       "      <td>1.0</td>\n",
       "      <td>1</td>\n",
       "      <td>6</td>\n",
       "      <td>6.0</td>\n",
       "      <td>1.0</td>\n",
       "      <td>human</td>\n",
       "    </tr>\n",
       "    <tr>\n",
       "      <th>2</th>\n",
       "      <td>1124-1</td>\n",
       "      <td>1.459877e+12</td>\n",
       "      <td>3</td>\n",
       "      <td>close</td>\n",
       "      <td>distr2</td>\n",
       "      <td>291</td>\n",
       "      <td>59</td>\n",
       "      <td>50</td>\n",
       "      <td>3</td>\n",
       "      <td>3</td>\n",
       "      <td>...</td>\n",
       "      <td>1.459877e+12</td>\n",
       "      <td>speaker</td>\n",
       "      <td>Medium pink ~ the medium dark one</td>\n",
       "      <td>201.0</td>\n",
       "      <td>0.0</td>\n",
       "      <td>4</td>\n",
       "      <td>16</td>\n",
       "      <td>13.0</td>\n",
       "      <td>3.0</td>\n",
       "      <td>human</td>\n",
       "    </tr>\n",
       "    <tr>\n",
       "      <th>3</th>\n",
       "      <td>1124-1</td>\n",
       "      <td>1.459877e+12</td>\n",
       "      <td>4</td>\n",
       "      <td>split</td>\n",
       "      <td>distr1</td>\n",
       "      <td>85</td>\n",
       "      <td>21</td>\n",
       "      <td>50</td>\n",
       "      <td>2</td>\n",
       "      <td>1</td>\n",
       "      <td>...</td>\n",
       "      <td>1.459877e+12</td>\n",
       "      <td>speaker</td>\n",
       "      <td>lime</td>\n",
       "      <td>201.0</td>\n",
       "      <td>0.0</td>\n",
       "      <td>1</td>\n",
       "      <td>4</td>\n",
       "      <td>4.0</td>\n",
       "      <td>1.0</td>\n",
       "      <td>human</td>\n",
       "    </tr>\n",
       "    <tr>\n",
       "      <th>4</th>\n",
       "      <td>1124-1</td>\n",
       "      <td>1.459877e+12</td>\n",
       "      <td>5</td>\n",
       "      <td>far</td>\n",
       "      <td>target</td>\n",
       "      <td>156</td>\n",
       "      <td>84</td>\n",
       "      <td>50</td>\n",
       "      <td>1</td>\n",
       "      <td>3</td>\n",
       "      <td>...</td>\n",
       "      <td>1.459877e+12</td>\n",
       "      <td>speaker</td>\n",
       "      <td>Mint green.</td>\n",
       "      <td>201.0</td>\n",
       "      <td>1.0</td>\n",
       "      <td>2</td>\n",
       "      <td>9</td>\n",
       "      <td>9.0</td>\n",
       "      <td>2.0</td>\n",
       "      <td>human</td>\n",
       "    </tr>\n",
       "  </tbody>\n",
       "</table>\n",
       "<p>5 rows × 36 columns</p>\n",
       "</div>"
      ],
      "text/plain": [
       "   gameid       clkTime  roundNum condition clickStatus  clickColH  clickColS  \\\n",
       "0  1124-1  1.459877e+12         1     close      distr2        248         92   \n",
       "1  1124-1  1.459877e+12         2       far      target        249         25   \n",
       "2  1124-1  1.459877e+12         3     close      distr2        291         59   \n",
       "3  1124-1  1.459877e+12         4     split      distr1         85         21   \n",
       "4  1124-1  1.459877e+12         5       far      target        156         84   \n",
       "\n",
       "   clickColL  clickLocS  clickLocL   ...         msgTime     role  \\\n",
       "0         50          3          1   ...    1.459877e+12  speaker   \n",
       "1         50          1          2   ...    1.459877e+12  speaker   \n",
       "2         50          3          3   ...    1.459877e+12  speaker   \n",
       "3         50          2          1   ...    1.459877e+12  speaker   \n",
       "4         50          1          3   ...    1.459877e+12  speaker   \n",
       "\n",
       "                            contents  workerid_uniq  numOutcome  numRawWords  \\\n",
       "0                The darker blue one          201.0         0.0            4   \n",
       "1                             purple          201.0         1.0            1   \n",
       "2  Medium pink ~ the medium dark one          201.0         0.0            4   \n",
       "3                               lime          201.0         0.0            1   \n",
       "4                        Mint green.          201.0         1.0            2   \n",
       "\n",
       "  numRawChars  numCleanChars  numCleanWords  source  \n",
       "0          16           13.0            3.0   human  \n",
       "1           6            6.0            1.0   human  \n",
       "2          16           13.0            3.0   human  \n",
       "3           4            4.0            1.0   human  \n",
       "4           9            9.0            2.0   human  \n",
       "\n",
       "[5 rows x 36 columns]"
      ]
     },
     "execution_count": 161,
     "metadata": {},
     "output_type": "execute_result"
    }
   ],
   "source": [
    "md_speaker_pool.data.head()"
   ]
  },
  {
   "cell_type": "code",
   "execution_count": 78,
   "metadata": {},
   "outputs": [
    {
     "name": "stdout",
     "output_type": "stream",
     "text": [
      "CPU times: user 2min 38s, sys: 1.27 s, total: 2min 39s\n",
      "Wall time: 2min 38s\n"
     ]
    }
   ],
   "source": [
    "%%time\n",
    "for _ in md_speaker_pool.read_data(): pass"
   ]
  },
  {
   "cell_type": "code",
   "execution_count": 136,
   "metadata": {},
   "outputs": [
    {
     "data": {
      "text/plain": [
       "46994"
      ]
     },
     "execution_count": 136,
     "metadata": {},
     "output_type": "execute_result"
    }
   ],
   "source": [
    "num_train + num_dev + num_test"
   ]
  },
  {
   "cell_type": "code",
   "execution_count": 155,
   "metadata": {},
   "outputs": [],
   "source": [
    "# perform random train-dev-test split\n",
    "# actually... is not random (This feels like bad practice, but I'm not sure - we can certainly try)\n",
    "# from Monroe et al., 2017 paper\n",
    "# https://github.com/futurulus/colors-in-context/blob/2e7b830668cd039830154e7e8f211c6d4415d30f/color_instances.py#L536\n",
    "\n",
    "# train: 1124-1:1  (start) - 8994-5:50\n",
    "# dev:   2641-2:1          - 8574-6:50\n",
    "# test:  5913-4:1          - 8452-5:50 (end)\n",
    "#\n",
    "# Training contexts: 15615\n",
    "# Dev contexts: 15720\n",
    "# Test contexts: 15659\n",
    "\n",
    "num_train = 15665\n",
    "num_dev = 15670\n",
    "num_test = 15659\n",
    "\n",
    "perm_indices = list(range(len(md_speaker_pool)))\n",
    "#np.random.shuffle(perm_indices)"
   ]
  },
  {
   "cell_type": "code",
   "execution_count": 162,
   "metadata": {},
   "outputs": [],
   "source": [
    "train_df = pd.DataFrame(index = list(range(num_train)), columns=md_speaker_pool.data.columns)\n",
    "dev_df = pd.DataFrame(index = list(range(num_dev)), columns=md_speaker_pool.data.columns)\n",
    "test_df = pd.DataFrame(index = list(range(num_test)), columns=md_speaker_pool.data.columns)"
   ]
  },
  {
   "cell_type": "code",
   "execution_count": 163,
   "metadata": {},
   "outputs": [],
   "source": [
    "train_i = 0\n",
    "dev_i   = 0\n",
    "test_i  = 0\n",
    "for i, row in md_speaker_pool.data.iterrows():\n",
    "    if perm_indices[i] < num_train: # training\n",
    "        train_df.loc[train_i] = row\n",
    "        train_i += 1\n",
    "    elif perm_indices[i] < num_train + num_dev: # dev\n",
    "        dev_df.loc[dev_i] = row\n",
    "        dev_i += 1\n",
    "    else: # test\n",
    "        test_df.loc[test_i] = row\n",
    "        test_i += 1\n",
    "        "
   ]
  },
  {
   "cell_type": "code",
   "execution_count": 164,
   "metadata": {},
   "outputs": [],
   "source": [
    "train_df.to_csv(\"train_corpus_monroe.csv\", index=False)\n",
    "dev_df.to_csv(\"dev_corpus_monroe.csv\", index=False)\n",
    "test_df.to_csv(\"test_corpus_monroe.csv\", index=False)"
   ]
  },
  {
   "cell_type": "code",
   "execution_count": 165,
   "metadata": {},
   "outputs": [
    {
     "data": {
      "text/html": [
       "<div>\n",
       "<style>\n",
       "    .dataframe thead tr:only-child th {\n",
       "        text-align: right;\n",
       "    }\n",
       "\n",
       "    .dataframe thead th {\n",
       "        text-align: left;\n",
       "    }\n",
       "\n",
       "    .dataframe tbody tr th {\n",
       "        vertical-align: top;\n",
       "    }\n",
       "</style>\n",
       "<table border=\"1\" class=\"dataframe\">\n",
       "  <thead>\n",
       "    <tr style=\"text-align: right;\">\n",
       "      <th></th>\n",
       "      <th>gameid</th>\n",
       "      <th>clkTime</th>\n",
       "      <th>roundNum</th>\n",
       "      <th>condition</th>\n",
       "      <th>clickStatus</th>\n",
       "      <th>clickColH</th>\n",
       "      <th>clickColS</th>\n",
       "      <th>clickColL</th>\n",
       "      <th>clickLocS</th>\n",
       "      <th>clickLocL</th>\n",
       "      <th>...</th>\n",
       "      <th>msgTime</th>\n",
       "      <th>role</th>\n",
       "      <th>contents</th>\n",
       "      <th>workerid_uniq</th>\n",
       "      <th>numOutcome</th>\n",
       "      <th>numRawWords</th>\n",
       "      <th>numRawChars</th>\n",
       "      <th>numCleanChars</th>\n",
       "      <th>numCleanWords</th>\n",
       "      <th>source</th>\n",
       "    </tr>\n",
       "  </thead>\n",
       "  <tbody>\n",
       "    <tr>\n",
       "      <th>0</th>\n",
       "      <td>1124-1</td>\n",
       "      <td>1.45988e+12</td>\n",
       "      <td>1</td>\n",
       "      <td>close</td>\n",
       "      <td>distr2</td>\n",
       "      <td>248</td>\n",
       "      <td>92</td>\n",
       "      <td>50</td>\n",
       "      <td>3</td>\n",
       "      <td>1</td>\n",
       "      <td>...</td>\n",
       "      <td>1.45988e+12</td>\n",
       "      <td>speaker</td>\n",
       "      <td>The darker blue one</td>\n",
       "      <td>201</td>\n",
       "      <td>0</td>\n",
       "      <td>4</td>\n",
       "      <td>16</td>\n",
       "      <td>13</td>\n",
       "      <td>3</td>\n",
       "      <td>human</td>\n",
       "    </tr>\n",
       "    <tr>\n",
       "      <th>1</th>\n",
       "      <td>1124-1</td>\n",
       "      <td>1.45988e+12</td>\n",
       "      <td>2</td>\n",
       "      <td>far</td>\n",
       "      <td>target</td>\n",
       "      <td>249</td>\n",
       "      <td>25</td>\n",
       "      <td>50</td>\n",
       "      <td>1</td>\n",
       "      <td>2</td>\n",
       "      <td>...</td>\n",
       "      <td>1.45988e+12</td>\n",
       "      <td>speaker</td>\n",
       "      <td>purple</td>\n",
       "      <td>201</td>\n",
       "      <td>1</td>\n",
       "      <td>1</td>\n",
       "      <td>6</td>\n",
       "      <td>6</td>\n",
       "      <td>1</td>\n",
       "      <td>human</td>\n",
       "    </tr>\n",
       "    <tr>\n",
       "      <th>2</th>\n",
       "      <td>1124-1</td>\n",
       "      <td>1.45988e+12</td>\n",
       "      <td>3</td>\n",
       "      <td>close</td>\n",
       "      <td>distr2</td>\n",
       "      <td>291</td>\n",
       "      <td>59</td>\n",
       "      <td>50</td>\n",
       "      <td>3</td>\n",
       "      <td>3</td>\n",
       "      <td>...</td>\n",
       "      <td>1.45988e+12</td>\n",
       "      <td>speaker</td>\n",
       "      <td>Medium pink ~ the medium dark one</td>\n",
       "      <td>201</td>\n",
       "      <td>0</td>\n",
       "      <td>4</td>\n",
       "      <td>16</td>\n",
       "      <td>13</td>\n",
       "      <td>3</td>\n",
       "      <td>human</td>\n",
       "    </tr>\n",
       "    <tr>\n",
       "      <th>3</th>\n",
       "      <td>1124-1</td>\n",
       "      <td>1.45988e+12</td>\n",
       "      <td>4</td>\n",
       "      <td>split</td>\n",
       "      <td>distr1</td>\n",
       "      <td>85</td>\n",
       "      <td>21</td>\n",
       "      <td>50</td>\n",
       "      <td>2</td>\n",
       "      <td>1</td>\n",
       "      <td>...</td>\n",
       "      <td>1.45988e+12</td>\n",
       "      <td>speaker</td>\n",
       "      <td>lime</td>\n",
       "      <td>201</td>\n",
       "      <td>0</td>\n",
       "      <td>1</td>\n",
       "      <td>4</td>\n",
       "      <td>4</td>\n",
       "      <td>1</td>\n",
       "      <td>human</td>\n",
       "    </tr>\n",
       "    <tr>\n",
       "      <th>4</th>\n",
       "      <td>1124-1</td>\n",
       "      <td>1.45988e+12</td>\n",
       "      <td>5</td>\n",
       "      <td>far</td>\n",
       "      <td>target</td>\n",
       "      <td>156</td>\n",
       "      <td>84</td>\n",
       "      <td>50</td>\n",
       "      <td>1</td>\n",
       "      <td>3</td>\n",
       "      <td>...</td>\n",
       "      <td>1.45988e+12</td>\n",
       "      <td>speaker</td>\n",
       "      <td>Mint green.</td>\n",
       "      <td>201</td>\n",
       "      <td>1</td>\n",
       "      <td>2</td>\n",
       "      <td>9</td>\n",
       "      <td>9</td>\n",
       "      <td>2</td>\n",
       "      <td>human</td>\n",
       "    </tr>\n",
       "  </tbody>\n",
       "</table>\n",
       "<p>5 rows × 36 columns</p>\n",
       "</div>"
      ],
      "text/plain": [
       "   gameid      clkTime roundNum condition clickStatus clickColH clickColS  \\\n",
       "0  1124-1  1.45988e+12        1     close      distr2       248        92   \n",
       "1  1124-1  1.45988e+12        2       far      target       249        25   \n",
       "2  1124-1  1.45988e+12        3     close      distr2       291        59   \n",
       "3  1124-1  1.45988e+12        4     split      distr1        85        21   \n",
       "4  1124-1  1.45988e+12        5       far      target       156        84   \n",
       "\n",
       "  clickColL clickLocS clickLocL  ...        msgTime     role  \\\n",
       "0        50         3         1  ...    1.45988e+12  speaker   \n",
       "1        50         1         2  ...    1.45988e+12  speaker   \n",
       "2        50         3         3  ...    1.45988e+12  speaker   \n",
       "3        50         2         1  ...    1.45988e+12  speaker   \n",
       "4        50         1         3  ...    1.45988e+12  speaker   \n",
       "\n",
       "                            contents workerid_uniq numOutcome numRawWords  \\\n",
       "0                The darker blue one           201          0           4   \n",
       "1                             purple           201          1           1   \n",
       "2  Medium pink ~ the medium dark one           201          0           4   \n",
       "3                               lime           201          0           1   \n",
       "4                        Mint green.           201          1           2   \n",
       "\n",
       "  numRawChars numCleanChars numCleanWords source  \n",
       "0          16            13             3  human  \n",
       "1           6             6             1  human  \n",
       "2          16            13             3  human  \n",
       "3           4             4             1  human  \n",
       "4           9             9             2  human  \n",
       "\n",
       "[5 rows x 36 columns]"
      ]
     },
     "execution_count": 165,
     "metadata": {},
     "output_type": "execute_result"
    }
   ],
   "source": [
    "train_df.head()"
   ]
  },
  {
   "cell_type": "code",
   "execution_count": 132,
   "metadata": {},
   "outputs": [],
   "source": [
    "dev_data = MonroeData(\"test_corpus.csv\")"
   ]
  },
  {
   "cell_type": "code",
   "execution_count": 135,
   "metadata": {},
   "outputs": [
    {
     "data": {
      "text/html": [
       "<div>\n",
       "<style>\n",
       "    .dataframe thead tr:only-child th {\n",
       "        text-align: right;\n",
       "    }\n",
       "\n",
       "    .dataframe thead th {\n",
       "        text-align: left;\n",
       "    }\n",
       "\n",
       "    .dataframe tbody tr th {\n",
       "        vertical-align: top;\n",
       "    }\n",
       "</style>\n",
       "<table border=\"1\" class=\"dataframe\">\n",
       "  <thead>\n",
       "    <tr style=\"text-align: right;\">\n",
       "      <th></th>\n",
       "      <th>gameid</th>\n",
       "      <th>clkTime</th>\n",
       "      <th>roundNum</th>\n",
       "      <th>condition</th>\n",
       "      <th>clickStatus</th>\n",
       "      <th>clickColH</th>\n",
       "      <th>clickColS</th>\n",
       "      <th>clickColL</th>\n",
       "      <th>clickLocS</th>\n",
       "      <th>clickLocL</th>\n",
       "      <th>...</th>\n",
       "      <th>msgTime</th>\n",
       "      <th>role</th>\n",
       "      <th>contents</th>\n",
       "      <th>workerid_uniq</th>\n",
       "      <th>numOutcome</th>\n",
       "      <th>numRawWords</th>\n",
       "      <th>numRawChars</th>\n",
       "      <th>numCleanChars</th>\n",
       "      <th>numCleanWords</th>\n",
       "      <th>source</th>\n",
       "    </tr>\n",
       "  </thead>\n",
       "  <tbody>\n",
       "    <tr>\n",
       "      <th>0</th>\n",
       "      <td>1124-1</td>\n",
       "      <td>1.459877e+12</td>\n",
       "      <td>1</td>\n",
       "      <td>close</td>\n",
       "      <td>distr2</td>\n",
       "      <td>248</td>\n",
       "      <td>92</td>\n",
       "      <td>50</td>\n",
       "      <td>3</td>\n",
       "      <td>1</td>\n",
       "      <td>...</td>\n",
       "      <td>1.459877e+12</td>\n",
       "      <td>speaker</td>\n",
       "      <td>The darker blue one</td>\n",
       "      <td>201.0</td>\n",
       "      <td>0.0</td>\n",
       "      <td>4</td>\n",
       "      <td>16</td>\n",
       "      <td>13.0</td>\n",
       "      <td>3.0</td>\n",
       "      <td>human</td>\n",
       "    </tr>\n",
       "    <tr>\n",
       "      <th>1</th>\n",
       "      <td>1124-1</td>\n",
       "      <td>1.459877e+12</td>\n",
       "      <td>3</td>\n",
       "      <td>close</td>\n",
       "      <td>distr2</td>\n",
       "      <td>291</td>\n",
       "      <td>59</td>\n",
       "      <td>50</td>\n",
       "      <td>3</td>\n",
       "      <td>3</td>\n",
       "      <td>...</td>\n",
       "      <td>1.459877e+12</td>\n",
       "      <td>speaker</td>\n",
       "      <td>Medium pink the medium dark one</td>\n",
       "      <td>201.0</td>\n",
       "      <td>0.0</td>\n",
       "      <td>4</td>\n",
       "      <td>16</td>\n",
       "      <td>13.0</td>\n",
       "      <td>3.0</td>\n",
       "      <td>human</td>\n",
       "    </tr>\n",
       "    <tr>\n",
       "      <th>2</th>\n",
       "      <td>1124-1</td>\n",
       "      <td>1.459877e+12</td>\n",
       "      <td>5</td>\n",
       "      <td>far</td>\n",
       "      <td>target</td>\n",
       "      <td>156</td>\n",
       "      <td>84</td>\n",
       "      <td>50</td>\n",
       "      <td>1</td>\n",
       "      <td>3</td>\n",
       "      <td>...</td>\n",
       "      <td>1.459877e+12</td>\n",
       "      <td>speaker</td>\n",
       "      <td>Mint green.</td>\n",
       "      <td>201.0</td>\n",
       "      <td>1.0</td>\n",
       "      <td>2</td>\n",
       "      <td>9</td>\n",
       "      <td>9.0</td>\n",
       "      <td>2.0</td>\n",
       "      <td>human</td>\n",
       "    </tr>\n",
       "    <tr>\n",
       "      <th>3</th>\n",
       "      <td>1124-1</td>\n",
       "      <td>1.459877e+12</td>\n",
       "      <td>8</td>\n",
       "      <td>split</td>\n",
       "      <td>target</td>\n",
       "      <td>108</td>\n",
       "      <td>16</td>\n",
       "      <td>50</td>\n",
       "      <td>2</td>\n",
       "      <td>1</td>\n",
       "      <td>...</td>\n",
       "      <td>1.459877e+12</td>\n",
       "      <td>speaker</td>\n",
       "      <td>Camo green</td>\n",
       "      <td>201.0</td>\n",
       "      <td>1.0</td>\n",
       "      <td>2</td>\n",
       "      <td>9</td>\n",
       "      <td>9.0</td>\n",
       "      <td>2.0</td>\n",
       "      <td>human</td>\n",
       "    </tr>\n",
       "    <tr>\n",
       "      <th>4</th>\n",
       "      <td>1124-1</td>\n",
       "      <td>1.459877e+12</td>\n",
       "      <td>9</td>\n",
       "      <td>split</td>\n",
       "      <td>target</td>\n",
       "      <td>5</td>\n",
       "      <td>45</td>\n",
       "      <td>50</td>\n",
       "      <td>1</td>\n",
       "      <td>2</td>\n",
       "      <td>...</td>\n",
       "      <td>1.459877e+12</td>\n",
       "      <td>speaker</td>\n",
       "      <td>Darkish red</td>\n",
       "      <td>201.0</td>\n",
       "      <td>1.0</td>\n",
       "      <td>2</td>\n",
       "      <td>10</td>\n",
       "      <td>10.0</td>\n",
       "      <td>2.0</td>\n",
       "      <td>human</td>\n",
       "    </tr>\n",
       "  </tbody>\n",
       "</table>\n",
       "<p>5 rows × 36 columns</p>\n",
       "</div>"
      ],
      "text/plain": [
       "   gameid       clkTime  roundNum condition clickStatus  clickColH  clickColS  \\\n",
       "0  1124-1  1.459877e+12         1     close      distr2        248         92   \n",
       "1  1124-1  1.459877e+12         3     close      distr2        291         59   \n",
       "2  1124-1  1.459877e+12         5       far      target        156         84   \n",
       "3  1124-1  1.459877e+12         8     split      target        108         16   \n",
       "4  1124-1  1.459877e+12         9     split      target          5         45   \n",
       "\n",
       "   clickColL  clickLocS  clickLocL   ...         msgTime     role  \\\n",
       "0         50          3          1   ...    1.459877e+12  speaker   \n",
       "1         50          3          3   ...    1.459877e+12  speaker   \n",
       "2         50          1          3   ...    1.459877e+12  speaker   \n",
       "3         50          2          1   ...    1.459877e+12  speaker   \n",
       "4         50          1          2   ...    1.459877e+12  speaker   \n",
       "\n",
       "                          contents  workerid_uniq  numOutcome  numRawWords  \\\n",
       "0              The darker blue one          201.0         0.0            4   \n",
       "1  Medium pink the medium dark one          201.0         0.0            4   \n",
       "2                      Mint green.          201.0         1.0            2   \n",
       "3                       Camo green          201.0         1.0            2   \n",
       "4                      Darkish red          201.0         1.0            2   \n",
       "\n",
       "  numRawChars  numCleanChars  numCleanWords  source  \n",
       "0          16           13.0            3.0   human  \n",
       "1          16           13.0            3.0   human  \n",
       "2           9            9.0            2.0   human  \n",
       "3           9            9.0            2.0   human  \n",
       "4          10           10.0            2.0   human  \n",
       "\n",
       "[5 rows x 36 columns]"
      ]
     },
     "execution_count": 135,
     "metadata": {},
     "output_type": "execute_result"
    }
   ],
   "source": [
    "dev_data.data.head()"
   ]
  },
  {
   "cell_type": "code",
   "execution_count": 133,
   "metadata": {},
   "outputs": [
    {
     "data": {
      "text/plain": [
       "(15659, 36)"
      ]
     },
     "execution_count": 133,
     "metadata": {},
     "output_type": "execute_result"
    }
   ],
   "source": [
    "dev_data.data.shape"
   ]
  },
  {
   "cell_type": "code",
   "execution_count": 128,
   "metadata": {},
   "outputs": [
    {
     "data": {
      "text/plain": [
       "(15665, 36)"
      ]
     },
     "execution_count": 128,
     "metadata": {},
     "output_type": "execute_result"
    }
   ],
   "source": [
    "train_data.data.shape"
   ]
  },
  {
   "cell_type": "code",
   "execution_count": 103,
   "metadata": {},
   "outputs": [
    {
     "data": {
      "text/plain": [
       "46994"
      ]
     },
     "execution_count": 103,
     "metadata": {},
     "output_type": "execute_result"
    }
   ],
   "source": [
    "total_rows"
   ]
  },
  {
   "cell_type": "code",
   "execution_count": 92,
   "metadata": {},
   "outputs": [
    {
     "data": {
      "text/plain": [
       "gameid                        1124-1\n",
       "clkTime                  1.45988e+12\n",
       "roundNum                           1\n",
       "condition                      close\n",
       "clickStatus                   distr2\n",
       "clickColH                        248\n",
       "clickColS                         92\n",
       "clickColL                         50\n",
       "clickLocS                          3\n",
       "clickLocL                          1\n",
       "alt1Status                    target\n",
       "alt1ColH                         226\n",
       "alt1ColS                          81\n",
       "alt1ColL                          50\n",
       "alt1LocS                           1\n",
       "alt1LocL                           2\n",
       "alt2Status                    distr1\n",
       "alt2ColH                         283\n",
       "alt2ColS                          87\n",
       "alt2ColL                          50\n",
       "alt2LocS                           2\n",
       "alt2LocL                           3\n",
       "targetD1Diff                      19\n",
       "targetD2Diff                      10\n",
       "D1D2Diff                          17\n",
       "outcome                        False\n",
       "msgTime                  1.45988e+12\n",
       "role                         speaker\n",
       "contents         The darker blue one\n",
       "workerid_uniq                    201\n",
       "numOutcome                         0\n",
       "numRawWords                        4\n",
       "numRawChars                       16\n",
       "numCleanChars                     13\n",
       "numCleanWords                      3\n",
       "source                         human\n",
       "Name: 0, dtype: object"
      ]
     },
     "execution_count": 92,
     "metadata": {},
     "output_type": "execute_result"
    }
   ],
   "source": [
    "md_speaker_pool.data.loc[0]"
   ]
  },
  {
   "cell_type": "code",
   "execution_count": 281,
   "metadata": {
    "scrolled": true
   },
   "outputs": [
    {
     "data": {
      "text/html": [
       "<div>\n",
       "<style>\n",
       "    .dataframe thead tr:only-child th {\n",
       "        text-align: right;\n",
       "    }\n",
       "\n",
       "    .dataframe thead th {\n",
       "        text-align: left;\n",
       "    }\n",
       "\n",
       "    .dataframe tbody tr th {\n",
       "        vertical-align: top;\n",
       "    }\n",
       "</style>\n",
       "<table border=\"1\" class=\"dataframe\">\n",
       "  <thead>\n",
       "    <tr style=\"text-align: right;\">\n",
       "      <th></th>\n",
       "      <th>308</th>\n",
       "      <th>309</th>\n",
       "      <th>310</th>\n",
       "    </tr>\n",
       "  </thead>\n",
       "  <tbody>\n",
       "    <tr>\n",
       "      <th>gameid</th>\n",
       "      <td>3843-c</td>\n",
       "      <td>3843-c</td>\n",
       "      <td>3843-c</td>\n",
       "    </tr>\n",
       "    <tr>\n",
       "      <th>clkTime</th>\n",
       "      <td>1.45988e+12</td>\n",
       "      <td>1.45988e+12</td>\n",
       "      <td>1.45988e+12</td>\n",
       "    </tr>\n",
       "    <tr>\n",
       "      <th>roundNum</th>\n",
       "      <td>30</td>\n",
       "      <td>30</td>\n",
       "      <td>30</td>\n",
       "    </tr>\n",
       "    <tr>\n",
       "      <th>condition</th>\n",
       "      <td>close</td>\n",
       "      <td>close</td>\n",
       "      <td>close</td>\n",
       "    </tr>\n",
       "    <tr>\n",
       "      <th>clickStatus</th>\n",
       "      <td>target</td>\n",
       "      <td>target</td>\n",
       "      <td>target</td>\n",
       "    </tr>\n",
       "    <tr>\n",
       "      <th>clickColH</th>\n",
       "      <td>111</td>\n",
       "      <td>111</td>\n",
       "      <td>111</td>\n",
       "    </tr>\n",
       "    <tr>\n",
       "      <th>clickColS</th>\n",
       "      <td>27</td>\n",
       "      <td>27</td>\n",
       "      <td>27</td>\n",
       "    </tr>\n",
       "    <tr>\n",
       "      <th>clickColL</th>\n",
       "      <td>50</td>\n",
       "      <td>50</td>\n",
       "      <td>50</td>\n",
       "    </tr>\n",
       "    <tr>\n",
       "      <th>clickLocS</th>\n",
       "      <td>3</td>\n",
       "      <td>3</td>\n",
       "      <td>3</td>\n",
       "    </tr>\n",
       "    <tr>\n",
       "      <th>clickLocL</th>\n",
       "      <td>1</td>\n",
       "      <td>1</td>\n",
       "      <td>1</td>\n",
       "    </tr>\n",
       "    <tr>\n",
       "      <th>alt1Status</th>\n",
       "      <td>distr2</td>\n",
       "      <td>distr2</td>\n",
       "      <td>distr2</td>\n",
       "    </tr>\n",
       "    <tr>\n",
       "      <th>alt1ColH</th>\n",
       "      <td>104</td>\n",
       "      <td>104</td>\n",
       "      <td>104</td>\n",
       "    </tr>\n",
       "    <tr>\n",
       "      <th>alt1ColS</th>\n",
       "      <td>43</td>\n",
       "      <td>43</td>\n",
       "      <td>43</td>\n",
       "    </tr>\n",
       "    <tr>\n",
       "      <th>alt1ColL</th>\n",
       "      <td>50</td>\n",
       "      <td>50</td>\n",
       "      <td>50</td>\n",
       "    </tr>\n",
       "    <tr>\n",
       "      <th>alt1LocS</th>\n",
       "      <td>2</td>\n",
       "      <td>2</td>\n",
       "      <td>2</td>\n",
       "    </tr>\n",
       "    <tr>\n",
       "      <th>alt1LocL</th>\n",
       "      <td>2</td>\n",
       "      <td>2</td>\n",
       "      <td>2</td>\n",
       "    </tr>\n",
       "    <tr>\n",
       "      <th>alt2Status</th>\n",
       "      <td>distr1</td>\n",
       "      <td>distr1</td>\n",
       "      <td>distr1</td>\n",
       "    </tr>\n",
       "    <tr>\n",
       "      <th>alt2ColH</th>\n",
       "      <td>98</td>\n",
       "      <td>98</td>\n",
       "      <td>98</td>\n",
       "    </tr>\n",
       "    <tr>\n",
       "      <th>alt2ColS</th>\n",
       "      <td>68</td>\n",
       "      <td>68</td>\n",
       "      <td>68</td>\n",
       "    </tr>\n",
       "    <tr>\n",
       "      <th>alt2ColL</th>\n",
       "      <td>50</td>\n",
       "      <td>50</td>\n",
       "      <td>50</td>\n",
       "    </tr>\n",
       "    <tr>\n",
       "      <th>alt2LocS</th>\n",
       "      <td>1</td>\n",
       "      <td>1</td>\n",
       "      <td>1</td>\n",
       "    </tr>\n",
       "    <tr>\n",
       "      <th>alt2LocL</th>\n",
       "      <td>3</td>\n",
       "      <td>3</td>\n",
       "      <td>3</td>\n",
       "    </tr>\n",
       "    <tr>\n",
       "      <th>targetD1Diff</th>\n",
       "      <td>17</td>\n",
       "      <td>17</td>\n",
       "      <td>17</td>\n",
       "    </tr>\n",
       "    <tr>\n",
       "      <th>targetD2Diff</th>\n",
       "      <td>8</td>\n",
       "      <td>8</td>\n",
       "      <td>8</td>\n",
       "    </tr>\n",
       "    <tr>\n",
       "      <th>D1D2Diff</th>\n",
       "      <td>10</td>\n",
       "      <td>10</td>\n",
       "      <td>10</td>\n",
       "    </tr>\n",
       "    <tr>\n",
       "      <th>outcome</th>\n",
       "      <td>True</td>\n",
       "      <td>True</td>\n",
       "      <td>True</td>\n",
       "    </tr>\n",
       "    <tr>\n",
       "      <th>msgTime</th>\n",
       "      <td>1.45988e+12</td>\n",
       "      <td>1.45988e+12</td>\n",
       "      <td>1.45988e+12</td>\n",
       "    </tr>\n",
       "    <tr>\n",
       "      <th>role</th>\n",
       "      <td>listener</td>\n",
       "      <td>listener</td>\n",
       "      <td>speaker</td>\n",
       "    </tr>\n",
       "    <tr>\n",
       "      <th>contents</th>\n",
       "      <td>shoot</td>\n",
       "      <td>wonder what this is testing</td>\n",
       "      <td>Green'ish Gray</td>\n",
       "    </tr>\n",
       "    <tr>\n",
       "      <th>workerid_uniq</th>\n",
       "      <td>156</td>\n",
       "      <td>156</td>\n",
       "      <td>385</td>\n",
       "    </tr>\n",
       "    <tr>\n",
       "      <th>numOutcome</th>\n",
       "      <td>1</td>\n",
       "      <td>1</td>\n",
       "      <td>1</td>\n",
       "    </tr>\n",
       "    <tr>\n",
       "      <th>numRawWords</th>\n",
       "      <td>1</td>\n",
       "      <td>5</td>\n",
       "      <td>2</td>\n",
       "    </tr>\n",
       "    <tr>\n",
       "      <th>numRawChars</th>\n",
       "      <td>5</td>\n",
       "      <td>23</td>\n",
       "      <td>13</td>\n",
       "    </tr>\n",
       "    <tr>\n",
       "      <th>numCleanChars</th>\n",
       "      <td>5</td>\n",
       "      <td>13</td>\n",
       "      <td>13</td>\n",
       "    </tr>\n",
       "    <tr>\n",
       "      <th>numCleanWords</th>\n",
       "      <td>1</td>\n",
       "      <td>2</td>\n",
       "      <td>2</td>\n",
       "    </tr>\n",
       "    <tr>\n",
       "      <th>source</th>\n",
       "      <td>human</td>\n",
       "      <td>human</td>\n",
       "      <td>human</td>\n",
       "    </tr>\n",
       "  </tbody>\n",
       "</table>\n",
       "</div>"
      ],
      "text/plain": [
       "                       308                          309             310\n",
       "gameid              3843-c                       3843-c          3843-c\n",
       "clkTime        1.45988e+12                  1.45988e+12     1.45988e+12\n",
       "roundNum                30                           30              30\n",
       "condition            close                        close           close\n",
       "clickStatus         target                       target          target\n",
       "clickColH              111                          111             111\n",
       "clickColS               27                           27              27\n",
       "clickColL               50                           50              50\n",
       "clickLocS                3                            3               3\n",
       "clickLocL                1                            1               1\n",
       "alt1Status          distr2                       distr2          distr2\n",
       "alt1ColH               104                          104             104\n",
       "alt1ColS                43                           43              43\n",
       "alt1ColL                50                           50              50\n",
       "alt1LocS                 2                            2               2\n",
       "alt1LocL                 2                            2               2\n",
       "alt2Status          distr1                       distr1          distr1\n",
       "alt2ColH                98                           98              98\n",
       "alt2ColS                68                           68              68\n",
       "alt2ColL                50                           50              50\n",
       "alt2LocS                 1                            1               1\n",
       "alt2LocL                 3                            3               3\n",
       "targetD1Diff            17                           17              17\n",
       "targetD2Diff             8                            8               8\n",
       "D1D2Diff                10                           10              10\n",
       "outcome               True                         True            True\n",
       "msgTime        1.45988e+12                  1.45988e+12     1.45988e+12\n",
       "role              listener                     listener         speaker\n",
       "contents             shoot  wonder what this is testing  Green'ish Gray\n",
       "workerid_uniq          156                          156             385\n",
       "numOutcome               1                            1               1\n",
       "numRawWords              1                            5               2\n",
       "numRawChars              5                           23              13\n",
       "numCleanChars            5                           13              13\n",
       "numCleanWords            1                            2               2\n",
       "source               human                        human           human"
      ]
     },
     "execution_count": 281,
     "metadata": {},
     "output_type": "execute_result"
    }
   ],
   "source": [
    "md_test.data[308:311].T"
   ]
  },
  {
   "cell_type": "code",
   "execution_count": 283,
   "metadata": {},
   "outputs": [],
   "source": [
    "weird_ones = []\n",
    "for entry in md_test.entries:\n",
    "    if \"what\" in entry.tokens:\n",
    "        weird_ones.append(entry.index)"
   ]
  },
  {
   "cell_type": "code",
   "execution_count": 285,
   "metadata": {
    "scrolled": true
   },
   "outputs": [
    {
     "name": "stdout",
     "output_type": "stream",
     "text": [
      "309 wonder what this is testing\n"
     ]
    },
    {
     "data": {
      "image/png": "[encoded data removed]",
      "text/plain": [
       "<Figure size 432x288 with 1 Axes>"
      ]
     },
     "metadata": {},
     "output_type": "display_data"
    },
    {
     "name": "stdout",
     "output_type": "stream",
     "text": [
      "646 So I was contacting the requester as to what to do.\n"
     ]
    },
    {
     "data": {
      "image/png": "[encoded data removed]",
      "text/plain": [
       "<Figure size 432x288 with 1 Axes>"
      ]
     },
     "metadata": {},
     "output_type": "display_data"
    },
    {
     "name": "stdout",
     "output_type": "stream",
     "text": [
      "1306 Olive green.  Other two are orange and what i'll call darkish neon green (yellowish)\n"
     ]
    },
    {
     "data": {
      "image/png": "[encoded data removed]",
      "text/plain": [
       "<Figure size 432x288 with 1 Axes>"
      ]
     },
     "metadata": {},
     "output_type": "display_data"
    },
    {
     "name": "stdout",
     "output_type": "stream",
     "text": [
      "1485 I do not know what that is...\n"
     ]
    },
    {
     "data": {
      "image/png": "[encoded data removed]",
      "text/plain": [
       "<Figure size 432x288 with 1 Axes>"
      ]
     },
     "metadata": {},
     "output_type": "display_data"
    },
    {
     "name": "stdout",
     "output_type": "stream",
     "text": [
      "1940 Does it tell you what I picked?\n"
     ]
    },
    {
     "data": {
      "image/png": "[encoded data removed]",
      "text/plain": [
       "<Figure size 432x288 with 1 Axes>"
      ]
     },
     "metadata": {},
     "output_type": "display_data"
    },
    {
     "name": "stdout",
     "output_type": "stream",
     "text": [
      "3040 I would go with turquoise green and lime - is that what you see?\n"
     ]
    },
    {
     "data": {
      "image/png": "[encoded data removed]",
      "text/plain": [
       "<Figure size 432x288 with 1 Axes>"
      ]
     },
     "metadata": {},
     "output_type": "display_data"
    },
    {
     "name": "stdout",
     "output_type": "stream",
     "text": [
      "3056 the question is what do we qualify as each of those lol\n"
     ]
    },
    {
     "data": {
      "image/png": "[encoded data removed]",
      "text/plain": [
       "<Figure size 432x288 with 1 Axes>"
      ]
     },
     "metadata": {},
     "output_type": "display_data"
    },
    {
     "name": "stdout",
     "output_type": "stream",
     "text": [
      "5296 i'm not quite sure what you mean by saturated\n"
     ]
    },
    {
     "data": {
      "image/png": "[encoded data removed]",
      "text/plain": [
       "<Figure size 432x288 with 1 Axes>"
      ]
     },
     "metadata": {},
     "output_type": "display_data"
    },
    {
     "name": "stdout",
     "output_type": "stream",
     "text": [
      "5488 choose a gray. let's see what happens\n"
     ]
    },
    {
     "data": {
      "image/png": "[encoded data removed]",
      "text/plain": [
       "<Figure size 432x288 with 1 Axes>"
      ]
     },
     "metadata": {},
     "output_type": "display_data"
    },
    {
     "name": "stdout",
     "output_type": "stream",
     "text": [
      "5713 Mixing blue and red together what color does it make\n"
     ]
    },
    {
     "data": {
      "image/png": "[encoded data removed]",
      "text/plain": [
       "<Figure size 432x288 with 1 Axes>"
      ]
     },
     "metadata": {},
     "output_type": "display_data"
    },
    {
     "name": "stdout",
     "output_type": "stream",
     "text": [
      "7526 I have what I would call gray, blue/gray and a green/light grass color\n"
     ]
    },
    {
     "data": {
      "image/png": "[encoded data removed]",
      "text/plain": [
       "<Figure size 432x288 with 1 Axes>"
      ]
     },
     "metadata": {},
     "output_type": "display_data"
    },
    {
     "name": "stdout",
     "output_type": "stream",
     "text": [
      "9029 what colors do you see?\n"
     ]
    },
    {
     "data": {
      "image/png": "[encoded data removed]",
      "text/plain": [
       "<Figure size 432x288 with 1 Axes>"
      ]
     },
     "metadata": {},
     "output_type": "display_data"
    },
    {
     "name": "stdout",
     "output_type": "stream",
     "text": [
      "9226 what\n"
     ]
    },
    {
     "data": {
      "image/png": "[encoded data removed]",
      "text/plain": [
       "<Figure size 432x288 with 1 Axes>"
      ]
     },
     "metadata": {},
     "output_type": "display_data"
    },
    {
     "name": "stdout",
     "output_type": "stream",
     "text": [
      "9227 the closet to what grimace looked like. A purple blue maybe\n"
     ]
    },
    {
     "data": {
      "image/png": "[encoded data removed]",
      "text/plain": [
       "<Figure size 432x288 with 1 Axes>"
      ]
     },
     "metadata": {},
     "output_type": "display_data"
    },
    {
     "name": "stdout",
     "output_type": "stream",
     "text": [
      "9286 what kind of flower?\n"
     ]
    },
    {
     "data": {
      "image/png": "[encoded data removed]",
      "text/plain": [
       "<Figure size 432x288 with 1 Axes>"
      ]
     },
     "metadata": {},
     "output_type": "display_data"
    },
    {
     "name": "stdout",
     "output_type": "stream",
     "text": [
      "9364 not grey and not blue. Not sure what youd call it\n"
     ]
    },
    {
     "data": {
      "image/png": "[encoded data removed]",
      "text/plain": [
       "<Figure size 432x288 with 1 Axes>"
      ]
     },
     "metadata": {},
     "output_type": "display_data"
    },
    {
     "name": "stdout",
     "output_type": "stream",
     "text": [
      "9823 what do the colors look like to u\n"
     ]
    },
    {
     "data": {
      "image/png": "[encoded data removed]",
      "text/plain": [
       "<Figure size 432x288 with 1 Axes>"
      ]
     },
     "metadata": {},
     "output_type": "display_data"
    },
    {
     "name": "stdout",
     "output_type": "stream",
     "text": [
      "9826 o what\n"
     ]
    },
    {
     "data": {
      "image/png": "[encoded data removed]",
      "text/plain": [
       "<Figure size 432x288 with 1 Axes>"
      ]
     },
     "metadata": {},
     "output_type": "display_data"
    },
    {
     "name": "stdout",
     "output_type": "stream",
     "text": [
      "10270 I dont know what mauve is. It's like..purplish.\n"
     ]
    },
    {
     "data": {
      "image/png": "[encoded data removed]",
      "text/plain": [
       "<Figure size 432x288 with 1 Axes>"
      ]
     },
     "metadata": {},
     "output_type": "display_data"
    },
    {
     "name": "stdout",
     "output_type": "stream",
     "text": [
      "10319 what does qq mean?\n"
     ]
    },
    {
     "data": {
      "image/png": "[encoded data removed]",
      "text/plain": [
       "<Figure size 432x288 with 1 Axes>"
      ]
     },
     "metadata": {},
     "output_type": "display_data"
    },
    {
     "name": "stdout",
     "output_type": "stream",
     "text": [
      "11874 most natural green, i'm not sure what to say about it\n"
     ]
    },
    {
     "data": {
      "image/png": "[encoded data removed]",
      "text/plain": [
       "<Figure size 432x288 with 1 Axes>"
      ]
     },
     "metadata": {},
     "output_type": "display_data"
    },
    {
     "name": "stdout",
     "output_type": "stream",
     "text": [
      "12514 what color?\n"
     ]
    },
    {
     "data": {
      "image/png": "[encoded data removed]",
      "text/plain": [
       "<Figure size 432x288 with 1 Axes>"
      ]
     },
     "metadata": {},
     "output_type": "display_data"
    },
    {
     "name": "stdout",
     "output_type": "stream",
     "text": [
      "13138 what do you see\n"
     ]
    },
    {
     "data": {
      "image/png": "[encoded data removed]",
      "text/plain": [
       "<Figure size 432x288 with 1 Axes>"
      ]
     },
     "metadata": {},
     "output_type": "display_data"
    },
    {
     "name": "stdout",
     "output_type": "stream",
     "text": [
      "13203 what color\n"
     ]
    },
    {
     "data": {
      "image/png": "[encoded data removed]",
      "text/plain": [
       "<Figure size 432x288 with 1 Axes>"
      ]
     },
     "metadata": {},
     "output_type": "display_data"
    },
    {
     "name": "stdout",
     "output_type": "stream",
     "text": [
      "13317 what's normal?\n"
     ]
    },
    {
     "data": {
      "image/png": "[encoded data removed]",
      "text/plain": [
       "<Figure size 432x288 with 1 Axes>"
      ]
     },
     "metadata": {},
     "output_type": "display_data"
    },
    {
     "name": "stdout",
     "output_type": "stream",
     "text": [
      "13470 I have no idea what parrot green is\n"
     ]
    },
    {
     "data": {
      "image/png": "[encoded data removed]",
      "text/plain": [
       "<Figure size 432x288 with 1 Axes>"
      ]
     },
     "metadata": {},
     "output_type": "display_data"
    },
    {
     "name": "stdout",
     "output_type": "stream",
     "text": [
      "13744 i don't know what that is\n"
     ]
    },
    {
     "data": {
      "image/png": "[encoded data removed]",
      "text/plain": [
       "<Figure size 432x288 with 1 Axes>"
      ]
     },
     "metadata": {},
     "output_type": "display_data"
    },
    {
     "name": "stdout",
     "output_type": "stream",
     "text": [
      "15218 what\n"
     ]
    },
    {
     "data": {
      "image/png": "[encoded data removed]",
      "text/plain": [
       "<Figure size 432x288 with 1 Axes>"
      ]
     },
     "metadata": {},
     "output_type": "display_data"
    },
    {
     "name": "stdout",
     "output_type": "stream",
     "text": [
      "15718 what you mean?  i dont do forums anymore, just fb group :-)\n"
     ]
    },
    {
     "data": {
      "image/png": "[encoded data removed]",
      "text/plain": [
       "<Figure size 432x288 with 1 Axes>"
      ]
     },
     "metadata": {},
     "output_type": "display_data"
    },
    {
     "name": "stdout",
     "output_type": "stream",
     "text": [
      "16710 why what happened\n"
     ]
    },
    {
     "data": {
      "image/png": "[encoded data removed]",
      "text/plain": [
       "<Figure size 432x288 with 1 Axes>"
      ]
     },
     "metadata": {},
     "output_type": "display_data"
    },
    {
     "name": "stdout",
     "output_type": "stream",
     "text": [
      "18531 i have no idea what that is\n"
     ]
    },
    {
     "data": {
      "image/png": "[encoded data removed]",
      "text/plain": [
       "<Figure size 432x288 with 1 Axes>"
      ]
     },
     "metadata": {},
     "output_type": "display_data"
    },
    {
     "name": "stdout",
     "output_type": "stream",
     "text": [
      "19277 oops didn't get what you meant on that\n"
     ]
    },
    {
     "data": {
      "image/png": "[encoded data removed]",
      "text/plain": [
       "<Figure size 432x288 with 1 Axes>"
      ]
     },
     "metadata": {},
     "output_type": "display_data"
    },
    {
     "name": "stdout",
     "output_type": "stream",
     "text": [
      "19358 pixels? what do you mean?\n"
     ]
    },
    {
     "data": {
      "image/png": "[encoded data removed]",
      "text/plain": [
       "<Figure size 432x288 with 1 Axes>"
      ]
     },
     "metadata": {},
     "output_type": "display_data"
    },
    {
     "name": "stdout",
     "output_type": "stream",
     "text": [
      "19392 is what I see\n"
     ]
    },
    {
     "data": {
      "image/png": "[encoded data removed]",
      "text/plain": [
       "<Figure size 432x288 with 1 Axes>"
      ]
     },
     "metadata": {},
     "output_type": "display_data"
    },
    {
     "name": "stdout",
     "output_type": "stream",
     "text": [
      "19698 the one that I don't know what colour it is?  not pink or yellow\n"
     ]
    },
    {
     "data": {
      "image/png": "[encoded data removed]",
      "text/plain": [
       "<Figure size 432x288 with 1 Axes>"
      ]
     },
     "metadata": {},
     "output_type": "display_data"
    },
    {
     "name": "stdout",
     "output_type": "stream",
     "text": [
      "19832 not sure what pea green is\n"
     ]
    },
    {
     "data": {
      "image/png": "[encoded data removed]",
      "text/plain": [
       "<Figure size 432x288 with 1 Axes>"
      ]
     },
     "metadata": {},
     "output_type": "display_data"
    },
    {
     "name": "stdout",
     "output_type": "stream",
     "text": [
      "23445 what object am I clicking?\n"
     ]
    },
    {
     "data": {
      "image/png": "[encoded data removed]",
      "text/plain": [
       "<Figure size 432x288 with 1 Axes>"
      ]
     },
     "metadata": {},
     "output_type": "display_data"
    },
    {
     "name": "stdout",
     "output_type": "stream",
     "text": [
      "23904 Wait, no. I think what you're calling green/gray is what I was calling tan/grey\n"
     ]
    },
    {
     "data": {
      "image/png": "[encoded data removed]",
      "text/plain": [
       "<Figure size 432x288 with 1 Axes>"
      ]
     },
     "metadata": {},
     "output_type": "display_data"
    },
    {
     "name": "stdout",
     "output_type": "stream",
     "text": [
      "24248 the grass is what?\n"
     ]
    },
    {
     "data": {
      "image/png": "[encoded data removed]",
      "text/plain": [
       "<Figure size 432x288 with 1 Axes>"
      ]
     },
     "metadata": {},
     "output_type": "display_data"
    },
    {
     "name": "stdout",
     "output_type": "stream",
     "text": [
      "24249 the john deere tractor was painted what?\n"
     ]
    },
    {
     "data": {
      "image/png": "[encoded data removed]",
      "text/plain": [
       "<Figure size 432x288 with 1 Axes>"
      ]
     },
     "metadata": {},
     "output_type": "display_data"
    },
    {
     "name": "stdout",
     "output_type": "stream",
     "text": [
      "24251 The sky turned a dark what before it rained.\n"
     ]
    },
    {
     "data": {
      "image/png": "[encoded data removed]",
      "text/plain": [
       "<Figure size 432x288 with 1 Axes>"
      ]
     },
     "metadata": {},
     "output_type": "display_data"
    },
    {
     "name": "stdout",
     "output_type": "stream",
     "text": [
      "24385 what\n"
     ]
    },
    {
     "data": {
      "image/png": "[encoded data removed]",
      "text/plain": [
       "<Figure size 432x288 with 1 Axes>"
      ]
     },
     "metadata": {},
     "output_type": "display_data"
    },
    {
     "name": "stdout",
     "output_type": "stream",
     "text": [
      "24522 no idea what you mean.\n"
     ]
    },
    {
     "data": {
      "image/png": "[encoded data removed]",
      "text/plain": [
       "<Figure size 432x288 with 1 Axes>"
      ]
     },
     "metadata": {},
     "output_type": "display_data"
    },
    {
     "name": "stdout",
     "output_type": "stream",
     "text": [
      "25979 ew what color is your stomach?\n"
     ]
    },
    {
     "data": {
      "image/png": "[encoded data removed]",
      "text/plain": [
       "<Figure size 432x288 with 1 Axes>"
      ]
     },
     "metadata": {},
     "output_type": "display_data"
    },
    {
     "name": "stdout",
     "output_type": "stream",
     "text": [
      "26102 sorry, must not no what aqua is :(\n"
     ]
    },
    {
     "data": {
      "image/png": "[encoded data removed]",
      "text/plain": [
       "<Figure size 432x288 with 1 Axes>"
      ]
     },
     "metadata": {},
     "output_type": "display_data"
    },
    {
     "name": "stdout",
     "output_type": "stream",
     "text": [
      "26900 yes thats what i was going to suggest\n"
     ]
    },
    {
     "data": {
      "image/png": "[encoded data removed]",
      "text/plain": [
       "<Figure size 432x288 with 1 Axes>"
      ]
     },
     "metadata": {},
     "output_type": "display_data"
    },
    {
     "name": "stdout",
     "output_type": "stream",
     "text": [
      "26924 i like it when you say NOT...then what it is\n"
     ]
    },
    {
     "data": {
      "image/png": "[encoded data removed]",
      "text/plain": [
       "<Figure size 432x288 with 1 Axes>"
      ]
     },
     "metadata": {},
     "output_type": "display_data"
    },
    {
     "name": "stdout",
     "output_type": "stream",
     "text": [
      "26927 sort of like process of elimination then what it is\n"
     ]
    },
    {
     "data": {
      "image/png": "[encoded data removed]",
      "text/plain": [
       "<Figure size 432x288 with 1 Axes>"
      ]
     },
     "metadata": {},
     "output_type": "display_data"
    },
    {
     "name": "stdout",
     "output_type": "stream",
     "text": [
      "27287 i dont know what that means\n"
     ]
    },
    {
     "data": {
      "image/png": "[encoded data removed]",
      "text/plain": [
       "<Figure size 432x288 with 1 Axes>"
      ]
     },
     "metadata": {},
     "output_type": "display_data"
    },
    {
     "name": "stdout",
     "output_type": "stream",
     "text": [
      "27380 what color is that...not the salmon one but the pinker one.\n"
     ]
    },
    {
     "data": {
      "image/png": "[encoded data removed]",
      "text/plain": [
       "<Figure size 432x288 with 1 Axes>"
      ]
     },
     "metadata": {},
     "output_type": "display_data"
    },
    {
     "name": "stdout",
     "output_type": "stream",
     "text": [
      "27600 what\n"
     ]
    },
    {
     "data": {
      "image/png": "[encoded data removed]",
      "text/plain": [
       "<Figure size 432x288 with 1 Axes>"
      ]
     },
     "metadata": {},
     "output_type": "display_data"
    },
    {
     "name": "stdout",
     "output_type": "stream",
     "text": [
      "27945 what happened?\n"
     ]
    },
    {
     "data": {
      "image/png": "[encoded data removed]",
      "text/plain": [
       "<Figure size 432x288 with 1 Axes>"
      ]
     },
     "metadata": {},
     "output_type": "display_data"
    },
    {
     "name": "stdout",
     "output_type": "stream",
     "text": [
      "28037 haha this is like 10th time in a row im listener what the heck\n"
     ]
    },
    {
     "data": {
      "image/png": "[encoded data removed]",
      "text/plain": [
       "<Figure size 432x288 with 1 Axes>"
      ]
     },
     "metadata": {},
     "output_type": "display_data"
    },
    {
     "name": "stdout",
     "output_type": "stream",
     "text": [
      "28434 what is your name?\n"
     ]
    },
    {
     "data": {
      "image/png": "[encoded data removed]",
      "text/plain": [
       "<Figure size 432x288 with 1 Axes>"
      ]
     },
     "metadata": {},
     "output_type": "display_data"
    },
    {
     "name": "stdout",
     "output_type": "stream",
     "text": [
      "28945 turn what off?\n"
     ]
    },
    {
     "data": {
      "image/png": "[encoded data removed]",
      "text/plain": [
       "<Figure size 432x288 with 1 Axes>"
      ]
     },
     "metadata": {},
     "output_type": "display_data"
    },
    {
     "name": "stdout",
     "output_type": "stream",
     "text": [
      "29029 here's what I see.  stomach entrails, hot pink leggings, and watermelon sherbet\n"
     ]
    },
    {
     "data": {
      "image/png": "[encoded data removed]",
      "text/plain": [
       "<Figure size 432x288 with 1 Axes>"
      ]
     },
     "metadata": {},
     "output_type": "display_data"
    },
    {
     "name": "stdout",
     "output_type": "stream",
     "text": [
      "29281 what\n"
     ]
    },
    {
     "data": {
      "image/png": "[encoded data removed]",
      "text/plain": [
       "<Figure size 432x288 with 1 Axes>"
      ]
     },
     "metadata": {},
     "output_type": "display_data"
    },
    {
     "name": "stdout",
     "output_type": "stream",
     "text": [
      "29481 what do the other two look like to you?\n"
     ]
    },
    {
     "data": {
      "image/png": "[encoded data removed]",
      "text/plain": [
       "<Figure size 432x288 with 1 Axes>"
      ]
     },
     "metadata": {},
     "output_type": "display_data"
    },
    {
     "name": "stdout",
     "output_type": "stream",
     "text": [
      "30125 please feel free to ask questions if youre not sure what i mean\n"
     ]
    },
    {
     "data": {
      "image/png": "[encoded data removed]",
      "text/plain": [
       "<Figure size 432x288 with 1 Axes>"
      ]
     },
     "metadata": {},
     "output_type": "display_data"
    },
    {
     "name": "stdout",
     "output_type": "stream",
     "text": [
      "32670 what are you doing?\n"
     ]
    },
    {
     "data": {
      "image/png": "[encoded data removed]",
      "text/plain": [
       "<Figure size 432x288 with 1 Axes>"
      ]
     },
     "metadata": {},
     "output_type": "display_data"
    },
    {
     "name": "stdout",
     "output_type": "stream",
     "text": [
      "32684 what?\n"
     ]
    },
    {
     "data": {
      "image/png": "[encoded data removed]",
      "text/plain": [
       "<Figure size 432x288 with 1 Axes>"
      ]
     },
     "metadata": {},
     "output_type": "display_data"
    },
    {
     "name": "stdout",
     "output_type": "stream",
     "text": [
      "33338 the one that has what looks like a teal tint to it.\n"
     ]
    },
    {
     "data": {
      "image/png": "[encoded data removed]",
      "text/plain": [
       "<Figure size 432x288 with 1 Axes>"
      ]
     },
     "metadata": {},
     "output_type": "display_data"
    },
    {
     "name": "stdout",
     "output_type": "stream",
     "text": [
      "34304 I see what you meant. Apologies\n"
     ]
    },
    {
     "data": {
      "image/png": "[encoded data removed]",
      "text/plain": [
       "<Figure size 432x288 with 1 Axes>"
      ]
     },
     "metadata": {},
     "output_type": "display_data"
    },
    {
     "name": "stdout",
     "output_type": "stream",
     "text": [
      "35241 guess what.  purpleish grey\n"
     ]
    },
    {
     "data": {
      "image/png": "[encoded data removed]",
      "text/plain": [
       "<Figure size 432x288 with 1 Axes>"
      ]
     },
     "metadata": {},
     "output_type": "display_data"
    },
    {
     "name": "stdout",
     "output_type": "stream",
     "text": [
      "35596 what shade\n"
     ]
    },
    {
     "data": {
      "image/png": "[encoded data removed]",
      "text/plain": [
       "<Figure size 432x288 with 1 Axes>"
      ]
     },
     "metadata": {},
     "output_type": "display_data"
    },
    {
     "name": "stdout",
     "output_type": "stream",
     "text": [
      "35644 what colors do you have\n"
     ]
    },
    {
     "data": {
      "image/png": "[encoded data removed]",
      "text/plain": [
       "<Figure size 432x288 with 1 Axes>"
      ]
     },
     "metadata": {},
     "output_type": "display_data"
    },
    {
     "name": "stdout",
     "output_type": "stream",
     "text": [
      "37490 what do you see?\n"
     ]
    },
    {
     "data": {
      "image/png": "[encoded data removed]",
      "text/plain": [
       "<Figure size 432x288 with 1 Axes>"
      ]
     },
     "metadata": {},
     "output_type": "display_data"
    },
    {
     "name": "stdout",
     "output_type": "stream",
     "text": [
      "37518 just going to say what it's not because that works better\n"
     ]
    },
    {
     "data": {
      "image/png": "[encoded data removed]",
      "text/plain": [
       "<Figure size 432x288 with 1 Axes>"
      ]
     },
     "metadata": {},
     "output_type": "display_data"
    },
    {
     "name": "stdout",
     "output_type": "stream",
     "text": [
      "37742 grey/brown pruple, idk what that color even is anymore.\n"
     ]
    },
    {
     "data": {
      "image/png": "[encoded data removed]",
      "text/plain": [
       "<Figure size 432x288 with 1 Axes>"
      ]
     },
     "metadata": {},
     "output_type": "display_data"
    },
    {
     "name": "stdout",
     "output_type": "stream",
     "text": [
      "38827 grey, dull green or bright green is what i see\n"
     ]
    },
    {
     "data": {
      "image/png": "[encoded data removed]",
      "text/plain": [
       "<Figure size 432x288 with 1 Axes>"
      ]
     },
     "metadata": {},
     "output_type": "display_data"
    },
    {
     "name": "stdout",
     "output_type": "stream",
     "text": [
      "39309 what do you mean by darkest?\n"
     ]
    },
    {
     "data": {
      "image/png": "[encoded data removed]",
      "text/plain": [
       "<Figure size 432x288 with 1 Axes>"
      ]
     },
     "metadata": {},
     "output_type": "display_data"
    },
    {
     "name": "stdout",
     "output_type": "stream",
     "text": [
      "39461 what is your name?\n"
     ]
    },
    {
     "data": {
      "image/png": "[encoded data removed]",
      "text/plain": [
       "<Figure size 432x288 with 1 Axes>"
      ]
     },
     "metadata": {},
     "output_type": "display_data"
    },
    {
     "name": "stdout",
     "output_type": "stream",
     "text": [
      "40333 yah what ever\n"
     ]
    },
    {
     "data": {
      "image/png": "[encoded data removed]",
      "text/plain": [
       "<Figure size 432x288 with 1 Axes>"
      ]
     },
     "metadata": {},
     "output_type": "display_data"
    },
    {
     "name": "stdout",
     "output_type": "stream",
     "text": [
      "40864 not sure what that is\n"
     ]
    },
    {
     "data": {
      "image/png": "[encoded data removed]",
      "text/plain": [
       "<Figure size 432x288 with 1 Axes>"
      ]
     },
     "metadata": {},
     "output_type": "display_data"
    },
    {
     "name": "stdout",
     "output_type": "stream",
     "text": [
      "41452 what type of monitor are you using o.o\n"
     ]
    },
    {
     "data": {
      "image/png": "[encoded data removed]",
      "text/plain": [
       "<Figure size 432x288 with 1 Axes>"
      ]
     },
     "metadata": {},
     "output_type": "display_data"
    },
    {
     "name": "stdout",
     "output_type": "stream",
     "text": [
      "44015 that's what they look like to me\n"
     ]
    },
    {
     "data": {
      "image/png": "[encoded data removed]",
      "text/plain": [
       "<Figure size 432x288 with 1 Axes>"
      ]
     },
     "metadata": {},
     "output_type": "display_data"
    },
    {
     "name": "stdout",
     "output_type": "stream",
     "text": [
      "48128 so what about this one\n"
     ]
    },
    {
     "data": {
      "image/png": "[encoded data removed]",
      "text/plain": [
       "<Figure size 432x288 with 1 Axes>"
      ]
     },
     "metadata": {},
     "output_type": "display_data"
    },
    {
     "name": "stdout",
     "output_type": "stream",
     "text": [
      "49337 don't know what oastel means. Sorry.\n"
     ]
    },
    {
     "data": {
      "image/png": "[encoded data removed]",
      "text/plain": [
       "<Figure size 432x288 with 1 Axes>"
      ]
     },
     "metadata": {},
     "output_type": "display_data"
    },
    {
     "name": "stdout",
     "output_type": "stream",
     "text": [
      "49340 On another round the speaker kept saying cauliflower... No clue what that was\n"
     ]
    },
    {
     "data": {
      "image/png": "[encoded data removed]",
      "text/plain": [
       "<Figure size 432x288 with 1 Axes>"
      ]
     },
     "metadata": {},
     "output_type": "display_data"
    },
    {
     "name": "stdout",
     "output_type": "stream",
     "text": [
      "50190 not the brightest green; not what looks like olive\n"
     ]
    },
    {
     "data": {
      "image/png": "[encoded data removed]",
      "text/plain": [
       "<Figure size 432x288 with 1 Axes>"
      ]
     },
     "metadata": {},
     "output_type": "display_data"
    },
    {
     "name": "stdout",
     "output_type": "stream",
     "text": [
      "51048 what's the code word?\n"
     ]
    },
    {
     "data": {
      "image/png": "[encoded data removed]",
      "text/plain": [
       "<Figure size 432x288 with 1 Axes>"
      ]
     },
     "metadata": {},
     "output_type": "display_data"
    },
    {
     "name": "stdout",
     "output_type": "stream",
     "text": [
      "51966 I think that's what happens more often than not   different calibrations\n"
     ]
    },
    {
     "data": {
      "image/png": "[encoded data removed]",
      "text/plain": [
       "<Figure size 432x288 with 1 Axes>"
      ]
     },
     "metadata": {},
     "output_type": "display_data"
    },
    {
     "name": "stdout",
     "output_type": "stream",
     "text": [
      "52434 what?\n"
     ]
    },
    {
     "data": {
      "image/png": "[encoded data removed]",
      "text/plain": [
       "<Figure size 432x288 with 1 Axes>"
      ]
     },
     "metadata": {},
     "output_type": "display_data"
    },
    {
     "name": "stdout",
     "output_type": "stream",
     "text": [
      "53500 what do you see?\n"
     ]
    },
    {
     "data": {
      "image/png": "[encoded data removed]",
      "text/plain": [
       "<Figure size 432x288 with 1 Axes>"
      ]
     },
     "metadata": {},
     "output_type": "display_data"
    },
    {
     "name": "stdout",
     "output_type": "stream",
     "text": [
      "56404 lol what did I say\n"
     ]
    },
    {
     "data": {
      "image/png": "[encoded data removed]",
      "text/plain": [
       "<Figure size 432x288 with 1 Axes>"
      ]
     },
     "metadata": {},
     "output_type": "display_data"
    },
    {
     "name": "stdout",
     "output_type": "stream",
     "text": [
      "57578 we see them differently too kind of like what color is the dress\n"
     ]
    },
    {
     "data": {
      "image/png": "[encoded data removed]",
      "text/plain": [
       "<Figure size 432x288 with 1 Axes>"
      ]
     },
     "metadata": {},
     "output_type": "display_data"
    },
    {
     "name": "stdout",
     "output_type": "stream",
     "text": [
      "57724 i think we don't agree on what purple looks like haha\n"
     ]
    },
    {
     "data": {
      "image/png": "[encoded data removed]",
      "text/plain": [
       "<Figure size 432x288 with 1 Axes>"
      ]
     },
     "metadata": {},
     "output_type": "display_data"
    }
   ],
   "source": [
    "for i in weird_ones:\n",
    "    md_test.display_game(i)\n"
   ]
  },
  {
   "cell_type": "code",
   "execution_count": 319,
   "metadata": {},
   "outputs": [
    {
     "name": "stdout",
     "output_type": "stream",
     "text": [
      "57722 i dont see purple\n"
     ]
    },
    {
     "data": {
      "image/png": "[encoded data removed]",
      "text/plain": [
       "<Figure size 432x288 with 1 Axes>"
      ]
     },
     "metadata": {},
     "output_type": "display_data"
    },
    {
     "name": "stdout",
     "output_type": "stream",
     "text": [
      "57723 i see light blue and blue\n"
     ]
    },
    {
     "data": {
      "image/png": "[encoded data removed]",
      "text/plain": [
       "<Figure size 432x288 with 1 Axes>"
      ]
     },
     "metadata": {},
     "output_type": "display_data"
    },
    {
     "name": "stdout",
     "output_type": "stream",
     "text": [
      "57724 i think we don't agree on what purple looks like haha\n"
     ]
    },
    {
     "data": {
      "image/png": "[encoded data removed]",
      "text/plain": [
       "<Figure size 432x288 with 1 Axes>"
      ]
     },
     "metadata": {},
     "output_type": "display_data"
    },
    {
     "name": "stdout",
     "output_type": "stream",
     "text": [
      "57725 agreed\n"
     ]
    },
    {
     "data": {
      "image/png": "[encoded data removed]",
      "text/plain": [
       "<Figure size 432x288 with 1 Axes>"
      ]
     },
     "metadata": {},
     "output_type": "display_data"
    },
    {
     "name": "stdout",
     "output_type": "stream",
     "text": [
      "57726 it's our achilles heel\n"
     ]
    },
    {
     "data": {
      "image/png": "[encoded data removed]",
      "text/plain": [
       "<Figure size 432x288 with 1 Axes>"
      ]
     },
     "metadata": {},
     "output_type": "display_data"
    },
    {
     "name": "stdout",
     "output_type": "stream",
     "text": [
      "57727 i definitely don't see a light blue\n"
     ]
    },
    {
     "data": {
      "image/png": "[encoded data removed]",
      "text/plain": [
       "<Figure size 432x288 with 1 Axes>"
      ]
     },
     "metadata": {},
     "output_type": "display_data"
    },
    {
     "name": "stdout",
     "output_type": "stream",
     "text": [
      "57728 how about not grey\n"
     ]
    },
    {
     "data": {
      "image/png": "[encoded data removed]",
      "text/plain": [
       "<Figure size 432x288 with 1 Axes>"
      ]
     },
     "metadata": {},
     "output_type": "display_data"
    },
    {
     "name": "stdout",
     "output_type": "stream",
     "text": [
      "57729 the lighter of the two greens\n"
     ]
    },
    {
     "data": {
      "image/png": "[encoded data removed]",
      "text/plain": [
       "<Figure size 432x288 with 1 Axes>"
      ]
     },
     "metadata": {},
     "output_type": "display_data"
    },
    {
     "name": "stdout",
     "output_type": "stream",
     "text": [
      "57730 grey/brown\n"
     ]
    },
    {
     "data": {
      "image/png": "[encoded data removed]",
      "text/plain": [
       "<Figure size 432x288 with 1 Axes>"
      ]
     },
     "metadata": {},
     "output_type": "display_data"
    },
    {
     "name": "stdout",
     "output_type": "stream",
     "text": [
      "57731 pink. not red\n"
     ]
    },
    {
     "data": {
      "image/png": "[encoded data removed]",
      "text/plain": [
       "<Figure size 432x288 with 1 Axes>"
      ]
     },
     "metadata": {},
     "output_type": "display_data"
    }
   ],
   "source": [
    "display_surrounding_games(57727, n=5)"
   ]
  },
  {
   "cell_type": "code",
   "execution_count": 305,
   "metadata": {},
   "outputs": [],
   "source": [
    "def display_surrounding_games(game_idx, n=2):\n",
    "    for i in range(game_idx-n, game_idx+n):\n",
    "        md_test.display_game(i)"
   ]
  },
  {
   "cell_type": "code",
   "execution_count": 360,
   "metadata": {
    "scrolled": true
   },
   "outputs": [
    {
     "name": "stdout",
     "output_type": "stream",
     "text": [
      "15185 light pink\n"
     ]
    },
    {
     "data": {
      "image/png": "[encoded data removed]",
      "text/plain": [
       "<Figure size 432x288 with 1 Axes>"
      ]
     },
     "metadata": {},
     "output_type": "display_data"
    },
    {
     "name": "stdout",
     "output_type": "stream",
     "text": [
      "15186 dark sand\n"
     ]
    },
    {
     "data": {
      "image/png": "[encoded data removed]",
      "text/plain": [
       "<Figure size 432x288 with 1 Axes>"
      ]
     },
     "metadata": {},
     "output_type": "display_data"
    },
    {
     "name": "stdout",
     "output_type": "stream",
     "text": [
      "15187 idk\n"
     ]
    },
    {
     "data": {
      "image/png": "[encoded data removed]",
      "text/plain": [
       "<Figure size 432x288 with 1 Axes>"
      ]
     },
     "metadata": {},
     "output_type": "display_data"
    },
    {
     "name": "stdout",
     "output_type": "stream",
     "text": [
      "15188 blue\n"
     ]
    },
    {
     "data": {
      "image/png": "[encoded data removed]",
      "text/plain": [
       "<Figure size 432x288 with 1 Axes>"
      ]
     },
     "metadata": {},
     "output_type": "display_data"
    }
   ],
   "source": [
    "display_surrounding_games(15187, n=2)"
   ]
  },
  {
   "cell_type": "code",
   "execution_count": 326,
   "metadata": {},
   "outputs": [
    {
     "data": {
      "text/plain": [
       "57946"
      ]
     },
     "execution_count": 326,
     "metadata": {},
     "output_type": "execute_result"
    }
   ],
   "source": [
    "len(md_test)"
   ]
  },
  {
   "cell_type": "code",
   "execution_count": 331,
   "metadata": {},
   "outputs": [],
   "source": [
    "# filter out all listeners\n",
    "speaker_data = md_test.data[md_test.data[\"role\"] == \"speaker\"]"
   ]
  },
  {
   "cell_type": "code",
   "execution_count": 351,
   "metadata": {},
   "outputs": [],
   "source": [
    "speaker_data = md_test.data[md_test.data[\"role\"] == \"speaker\"]\n",
    "max_msg_times = speaker_data.groupby(['gameid', 'roundNum']).msgTime.transform(max)"
   ]
  },
  {
   "cell_type": "code",
   "execution_count": null,
   "metadata": {},
   "outputs": [],
   "source": []
  },
  {
   "cell_type": "code",
   "execution_count": 357,
   "metadata": {},
   "outputs": [],
   "source": [
    "speaker_data = md_test.data[md_test.data[\"role\"] == \"speaker\"]\n",
    "max_msg_times = speaker_data.groupby(['gameid', 'roundNum']).msgTime.transform(max)\n",
    "speaker_data = speaker_data.loc[max_msg_times == speaker_data.msgTime]"
   ]
  },
  {
   "cell_type": "code",
   "execution_count": 358,
   "metadata": {},
   "outputs": [
    {
     "data": {
      "text/plain": [
       "(46994, 36)"
      ]
     },
     "execution_count": 358,
     "metadata": {},
     "output_type": "execute_result"
    }
   ],
   "source": [
    "speaker_data.shape"
   ]
  },
  {
   "cell_type": "code",
   "execution_count": 333,
   "metadata": {},
   "outputs": [
    {
     "data": {
      "text/plain": [
       "46994"
      ]
     },
     "execution_count": 333,
     "metadata": {},
     "output_type": "execute_result"
    }
   ],
   "source": [
    "speaker_data.groupby(['gameid', 'roundNum']).ngroups"
   ]
  },
  {
   "cell_type": "code",
   "execution_count": 374,
   "metadata": {},
   "outputs": [
    {
     "data": {
      "text/plain": [
       "array([15222])"
      ]
     },
     "execution_count": 374,
     "metadata": {},
     "output_type": "execute_result"
    }
   ],
   "source": [
    "speaker_data[(speaker_data[\"gameid\"]==\"4793-9\") & (speaker_data[\"roundNum\"]==38)].index.values"
   ]
  },
  {
   "cell_type": "code",
   "execution_count": 373,
   "metadata": {},
   "outputs": [
    {
     "data": {
      "text/plain": [
       "array([15220, 15221, 15222])"
      ]
     },
     "execution_count": 373,
     "metadata": {},
     "output_type": "execute_result"
    }
   ],
   "source": [
    "md_test.data[(md_test.data[\"gameid\"]==\"4793-9\") & (md_test.data[\"roundNum\"]==38)].index.values"
   ]
  },
  {
   "cell_type": "code",
   "execution_count": 363,
   "metadata": {},
   "outputs": [
    {
     "data": {
      "text/plain": [
       "['uh', ',', 'grey', 'green', '?']"
      ]
     },
     "execution_count": 363,
     "metadata": {},
     "output_type": "execute_result"
    }
   ],
   "source": [
    "nltk.word_tokenize(\"uh, grey green?\")"
   ]
  },
  {
   "cell_type": "code",
   "execution_count": 346,
   "metadata": {},
   "outputs": [
    {
     "data": {
      "text/plain": [
       "15174"
      ]
     },
     "execution_count": 346,
     "metadata": {},
     "output_type": "execute_result"
    }
   ],
   "source": [
    "np.argmax(md_test.data[15173:15175].msgTime)#.transform(max)"
   ]
  },
  {
   "cell_type": "code",
   "execution_count": 349,
   "metadata": {},
   "outputs": [
    {
     "data": {
      "text/plain": [
       "1476483980681.0"
      ]
     },
     "execution_count": 349,
     "metadata": {},
     "output_type": "execute_result"
    }
   ],
   "source": [
    "max(md_test.data[15173:15175].msgTime)"
   ]
  },
  {
   "cell_type": "code",
   "execution_count": 350,
   "metadata": {},
   "outputs": [
    {
     "data": {
      "text/plain": [
       "1476483971337.0"
      ]
     },
     "execution_count": 350,
     "metadata": {},
     "output_type": "execute_result"
    }
   ],
   "source": [
    "min(md_test.data[15173:15175].msgTime)"
   ]
  },
  {
   "cell_type": "code",
   "execution_count": 338,
   "metadata": {},
   "outputs": [
    {
     "name": "stdout",
     "output_type": "stream",
     "text": [
      "15205 oh man\n"
     ]
    },
    {
     "data": {
      "image/png": "[encoded data removed]",
      "text/plain": [
       "<Figure size 432x288 with 1 Axes>"
      ]
     },
     "metadata": {},
     "output_type": "display_data"
    }
   ],
   "source": [
    "md_test.display_game(15205)"
   ]
  },
  {
   "cell_type": "code",
   "execution_count": 325,
   "metadata": {},
   "outputs": [
    {
     "data": {
      "text/html": [
       "<div>\n",
       "<style>\n",
       "    .dataframe thead tr:only-child th {\n",
       "        text-align: right;\n",
       "    }\n",
       "\n",
       "    .dataframe thead th {\n",
       "        text-align: left;\n",
       "    }\n",
       "\n",
       "    .dataframe tbody tr th {\n",
       "        vertical-align: top;\n",
       "    }\n",
       "</style>\n",
       "<table border=\"1\" class=\"dataframe\">\n",
       "  <thead>\n",
       "    <tr style=\"text-align: right;\">\n",
       "      <th></th>\n",
       "      <th>15217</th>\n",
       "      <th>15218</th>\n",
       "      <th>15219</th>\n",
       "      <th>15220</th>\n",
       "      <th>15221</th>\n",
       "      <th>15222</th>\n",
       "      <th>15223</th>\n",
       "      <th>15224</th>\n",
       "    </tr>\n",
       "  </thead>\n",
       "  <tbody>\n",
       "    <tr>\n",
       "      <th>gameid</th>\n",
       "      <td>4793-9</td>\n",
       "      <td>4793-9</td>\n",
       "      <td>4793-9</td>\n",
       "      <td>4793-9</td>\n",
       "      <td>4793-9</td>\n",
       "      <td>4793-9</td>\n",
       "      <td>4793-9</td>\n",
       "      <td>4793-9</td>\n",
       "    </tr>\n",
       "    <tr>\n",
       "      <th>clkTime</th>\n",
       "      <td>1.47648e+12</td>\n",
       "      <td>1.47648e+12</td>\n",
       "      <td>1.47648e+12</td>\n",
       "      <td>1.47648e+12</td>\n",
       "      <td>1.47648e+12</td>\n",
       "      <td>1.47648e+12</td>\n",
       "      <td>1.47648e+12</td>\n",
       "      <td>1.47648e+12</td>\n",
       "    </tr>\n",
       "    <tr>\n",
       "      <th>roundNum</th>\n",
       "      <td>37</td>\n",
       "      <td>37</td>\n",
       "      <td>37</td>\n",
       "      <td>38</td>\n",
       "      <td>38</td>\n",
       "      <td>38</td>\n",
       "      <td>39</td>\n",
       "      <td>40</td>\n",
       "    </tr>\n",
       "    <tr>\n",
       "      <th>condition</th>\n",
       "      <td>far</td>\n",
       "      <td>far</td>\n",
       "      <td>far</td>\n",
       "      <td>far</td>\n",
       "      <td>far</td>\n",
       "      <td>far</td>\n",
       "      <td>far</td>\n",
       "      <td>close</td>\n",
       "    </tr>\n",
       "    <tr>\n",
       "      <th>clickStatus</th>\n",
       "      <td>target</td>\n",
       "      <td>target</td>\n",
       "      <td>target</td>\n",
       "      <td>target</td>\n",
       "      <td>target</td>\n",
       "      <td>target</td>\n",
       "      <td>target</td>\n",
       "      <td>target</td>\n",
       "    </tr>\n",
       "    <tr>\n",
       "      <th>clickColH</th>\n",
       "      <td>59</td>\n",
       "      <td>59</td>\n",
       "      <td>59</td>\n",
       "      <td>352</td>\n",
       "      <td>352</td>\n",
       "      <td>352</td>\n",
       "      <td>194</td>\n",
       "      <td>116</td>\n",
       "    </tr>\n",
       "    <tr>\n",
       "      <th>clickColS</th>\n",
       "      <td>93</td>\n",
       "      <td>93</td>\n",
       "      <td>93</td>\n",
       "      <td>30</td>\n",
       "      <td>30</td>\n",
       "      <td>30</td>\n",
       "      <td>86</td>\n",
       "      <td>38</td>\n",
       "    </tr>\n",
       "    <tr>\n",
       "      <th>clickColL</th>\n",
       "      <td>50</td>\n",
       "      <td>50</td>\n",
       "      <td>50</td>\n",
       "      <td>50</td>\n",
       "      <td>50</td>\n",
       "      <td>50</td>\n",
       "      <td>50</td>\n",
       "      <td>50</td>\n",
       "    </tr>\n",
       "    <tr>\n",
       "      <th>clickLocS</th>\n",
       "      <td>2</td>\n",
       "      <td>2</td>\n",
       "      <td>2</td>\n",
       "      <td>3</td>\n",
       "      <td>3</td>\n",
       "      <td>3</td>\n",
       "      <td>3</td>\n",
       "      <td>1</td>\n",
       "    </tr>\n",
       "    <tr>\n",
       "      <th>clickLocL</th>\n",
       "      <td>1</td>\n",
       "      <td>1</td>\n",
       "      <td>1</td>\n",
       "      <td>2</td>\n",
       "      <td>2</td>\n",
       "      <td>2</td>\n",
       "      <td>2</td>\n",
       "      <td>2</td>\n",
       "    </tr>\n",
       "    <tr>\n",
       "      <th>alt1Status</th>\n",
       "      <td>distr1</td>\n",
       "      <td>distr1</td>\n",
       "      <td>distr1</td>\n",
       "      <td>distr1</td>\n",
       "      <td>distr1</td>\n",
       "      <td>distr1</td>\n",
       "      <td>distr2</td>\n",
       "      <td>distr2</td>\n",
       "    </tr>\n",
       "    <tr>\n",
       "      <th>alt1ColH</th>\n",
       "      <td>49</td>\n",
       "      <td>49</td>\n",
       "      <td>49</td>\n",
       "      <td>295</td>\n",
       "      <td>295</td>\n",
       "      <td>295</td>\n",
       "      <td>37</td>\n",
       "      <td>68</td>\n",
       "    </tr>\n",
       "    <tr>\n",
       "      <th>alt1ColS</th>\n",
       "      <td>2</td>\n",
       "      <td>2</td>\n",
       "      <td>2</td>\n",
       "      <td>92</td>\n",
       "      <td>92</td>\n",
       "      <td>92</td>\n",
       "      <td>69</td>\n",
       "      <td>34</td>\n",
       "    </tr>\n",
       "    <tr>\n",
       "      <th>alt1ColL</th>\n",
       "      <td>50</td>\n",
       "      <td>50</td>\n",
       "      <td>50</td>\n",
       "      <td>50</td>\n",
       "      <td>50</td>\n",
       "      <td>50</td>\n",
       "      <td>50</td>\n",
       "      <td>50</td>\n",
       "    </tr>\n",
       "    <tr>\n",
       "      <th>alt1LocS</th>\n",
       "      <td>3</td>\n",
       "      <td>3</td>\n",
       "      <td>3</td>\n",
       "      <td>1</td>\n",
       "      <td>1</td>\n",
       "      <td>1</td>\n",
       "      <td>1</td>\n",
       "      <td>2</td>\n",
       "    </tr>\n",
       "    <tr>\n",
       "      <th>alt1LocL</th>\n",
       "      <td>2</td>\n",
       "      <td>2</td>\n",
       "      <td>2</td>\n",
       "      <td>1</td>\n",
       "      <td>1</td>\n",
       "      <td>1</td>\n",
       "      <td>1</td>\n",
       "      <td>3</td>\n",
       "    </tr>\n",
       "    <tr>\n",
       "      <th>alt2Status</th>\n",
       "      <td>distr2</td>\n",
       "      <td>distr2</td>\n",
       "      <td>distr2</td>\n",
       "      <td>distr2</td>\n",
       "      <td>distr2</td>\n",
       "      <td>distr2</td>\n",
       "      <td>distr1</td>\n",
       "      <td>distr1</td>\n",
       "    </tr>\n",
       "    <tr>\n",
       "      <th>alt2ColH</th>\n",
       "      <td>263</td>\n",
       "      <td>263</td>\n",
       "      <td>263</td>\n",
       "      <td>100</td>\n",
       "      <td>100</td>\n",
       "      <td>100</td>\n",
       "      <td>156</td>\n",
       "      <td>92</td>\n",
       "    </tr>\n",
       "    <tr>\n",
       "      <th>alt2ColS</th>\n",
       "      <td>60</td>\n",
       "      <td>60</td>\n",
       "      <td>60</td>\n",
       "      <td>96</td>\n",
       "      <td>96</td>\n",
       "      <td>96</td>\n",
       "      <td>13</td>\n",
       "      <td>56</td>\n",
       "    </tr>\n",
       "    <tr>\n",
       "      <th>alt2ColL</th>\n",
       "      <td>50</td>\n",
       "      <td>50</td>\n",
       "      <td>50</td>\n",
       "      <td>50</td>\n",
       "      <td>50</td>\n",
       "      <td>50</td>\n",
       "      <td>50</td>\n",
       "      <td>50</td>\n",
       "    </tr>\n",
       "    <tr>\n",
       "      <th>alt2LocS</th>\n",
       "      <td>1</td>\n",
       "      <td>1</td>\n",
       "      <td>1</td>\n",
       "      <td>2</td>\n",
       "      <td>2</td>\n",
       "      <td>2</td>\n",
       "      <td>2</td>\n",
       "      <td>3</td>\n",
       "    </tr>\n",
       "    <tr>\n",
       "      <th>alt2LocL</th>\n",
       "      <td>3</td>\n",
       "      <td>3</td>\n",
       "      <td>3</td>\n",
       "      <td>3</td>\n",
       "      <td>3</td>\n",
       "      <td>3</td>\n",
       "      <td>3</td>\n",
       "      <td>1</td>\n",
       "    </tr>\n",
       "    <tr>\n",
       "      <th>targetD1Diff</th>\n",
       "      <td>41</td>\n",
       "      <td>41</td>\n",
       "      <td>41</td>\n",
       "      <td>28</td>\n",
       "      <td>28</td>\n",
       "      <td>28</td>\n",
       "      <td>25</td>\n",
       "      <td>9</td>\n",
       "    </tr>\n",
       "    <tr>\n",
       "      <th>targetD2Diff</th>\n",
       "      <td>93</td>\n",
       "      <td>93</td>\n",
       "      <td>93</td>\n",
       "      <td>74</td>\n",
       "      <td>74</td>\n",
       "      <td>74</td>\n",
       "      <td>51</td>\n",
       "      <td>14</td>\n",
       "    </tr>\n",
       "    <tr>\n",
       "      <th>D1D2Diff</th>\n",
       "      <td>36</td>\n",
       "      <td>36</td>\n",
       "      <td>36</td>\n",
       "      <td>109</td>\n",
       "      <td>109</td>\n",
       "      <td>109</td>\n",
       "      <td>33</td>\n",
       "      <td>12</td>\n",
       "    </tr>\n",
       "    <tr>\n",
       "      <th>outcome</th>\n",
       "      <td>True</td>\n",
       "      <td>True</td>\n",
       "      <td>True</td>\n",
       "      <td>True</td>\n",
       "      <td>True</td>\n",
       "      <td>True</td>\n",
       "      <td>True</td>\n",
       "      <td>True</td>\n",
       "    </tr>\n",
       "    <tr>\n",
       "      <th>msgTime</th>\n",
       "      <td>1.47648e+12</td>\n",
       "      <td>1.47648e+12</td>\n",
       "      <td>1.47648e+12</td>\n",
       "      <td>1.47648e+12</td>\n",
       "      <td>1.47648e+12</td>\n",
       "      <td>1.47648e+12</td>\n",
       "      <td>1.47648e+12</td>\n",
       "      <td>1.47648e+12</td>\n",
       "    </tr>\n",
       "    <tr>\n",
       "      <th>role</th>\n",
       "      <td>speaker</td>\n",
       "      <td>listener</td>\n",
       "      <td>speaker</td>\n",
       "      <td>speaker</td>\n",
       "      <td>listener</td>\n",
       "      <td>speaker</td>\n",
       "      <td>speaker</td>\n",
       "      <td>speaker</td>\n",
       "    </tr>\n",
       "    <tr>\n",
       "      <th>contents</th>\n",
       "      <td>orange</td>\n",
       "      <td>what</td>\n",
       "      <td>yellow</td>\n",
       "      <td>red</td>\n",
       "      <td>no</td>\n",
       "      <td>redish. like red sand</td>\n",
       "      <td>blue</td>\n",
       "      <td>dark green</td>\n",
       "    </tr>\n",
       "    <tr>\n",
       "      <th>workerid_uniq</th>\n",
       "      <td>808</td>\n",
       "      <td>799</td>\n",
       "      <td>808</td>\n",
       "      <td>808</td>\n",
       "      <td>799</td>\n",
       "      <td>808</td>\n",
       "      <td>808</td>\n",
       "      <td>808</td>\n",
       "    </tr>\n",
       "    <tr>\n",
       "      <th>numOutcome</th>\n",
       "      <td>1</td>\n",
       "      <td>1</td>\n",
       "      <td>1</td>\n",
       "      <td>1</td>\n",
       "      <td>1</td>\n",
       "      <td>1</td>\n",
       "      <td>1</td>\n",
       "      <td>1</td>\n",
       "    </tr>\n",
       "    <tr>\n",
       "      <th>numRawWords</th>\n",
       "      <td>1</td>\n",
       "      <td>1</td>\n",
       "      <td>1</td>\n",
       "      <td>1</td>\n",
       "      <td>1</td>\n",
       "      <td>4</td>\n",
       "      <td>1</td>\n",
       "      <td>2</td>\n",
       "    </tr>\n",
       "    <tr>\n",
       "      <th>numRawChars</th>\n",
       "      <td>6</td>\n",
       "      <td>4</td>\n",
       "      <td>6</td>\n",
       "      <td>3</td>\n",
       "      <td>2</td>\n",
       "      <td>17</td>\n",
       "      <td>4</td>\n",
       "      <td>9</td>\n",
       "    </tr>\n",
       "    <tr>\n",
       "      <th>numCleanChars</th>\n",
       "      <td>6</td>\n",
       "      <td>NaN</td>\n",
       "      <td>6</td>\n",
       "      <td>3</td>\n",
       "      <td>NaN</td>\n",
       "      <td>17</td>\n",
       "      <td>4</td>\n",
       "      <td>9</td>\n",
       "    </tr>\n",
       "    <tr>\n",
       "      <th>numCleanWords</th>\n",
       "      <td>1</td>\n",
       "      <td>NaN</td>\n",
       "      <td>1</td>\n",
       "      <td>1</td>\n",
       "      <td>NaN</td>\n",
       "      <td>4</td>\n",
       "      <td>1</td>\n",
       "      <td>2</td>\n",
       "    </tr>\n",
       "    <tr>\n",
       "      <th>source</th>\n",
       "      <td>human</td>\n",
       "      <td>human</td>\n",
       "      <td>human</td>\n",
       "      <td>human</td>\n",
       "      <td>human</td>\n",
       "      <td>human</td>\n",
       "      <td>human</td>\n",
       "      <td>human</td>\n",
       "    </tr>\n",
       "  </tbody>\n",
       "</table>\n",
       "</div>"
      ],
      "text/plain": [
       "                     15217        15218        15219        15220  \\\n",
       "gameid              4793-9       4793-9       4793-9       4793-9   \n",
       "clkTime        1.47648e+12  1.47648e+12  1.47648e+12  1.47648e+12   \n",
       "roundNum                37           37           37           38   \n",
       "condition              far          far          far          far   \n",
       "clickStatus         target       target       target       target   \n",
       "clickColH               59           59           59          352   \n",
       "clickColS               93           93           93           30   \n",
       "clickColL               50           50           50           50   \n",
       "clickLocS                2            2            2            3   \n",
       "clickLocL                1            1            1            2   \n",
       "alt1Status          distr1       distr1       distr1       distr1   \n",
       "alt1ColH                49           49           49          295   \n",
       "alt1ColS                 2            2            2           92   \n",
       "alt1ColL                50           50           50           50   \n",
       "alt1LocS                 3            3            3            1   \n",
       "alt1LocL                 2            2            2            1   \n",
       "alt2Status          distr2       distr2       distr2       distr2   \n",
       "alt2ColH               263          263          263          100   \n",
       "alt2ColS                60           60           60           96   \n",
       "alt2ColL                50           50           50           50   \n",
       "alt2LocS                 1            1            1            2   \n",
       "alt2LocL                 3            3            3            3   \n",
       "targetD1Diff            41           41           41           28   \n",
       "targetD2Diff            93           93           93           74   \n",
       "D1D2Diff                36           36           36          109   \n",
       "outcome               True         True         True         True   \n",
       "msgTime        1.47648e+12  1.47648e+12  1.47648e+12  1.47648e+12   \n",
       "role               speaker     listener      speaker      speaker   \n",
       "contents            orange         what       yellow          red   \n",
       "workerid_uniq          808          799          808          808   \n",
       "numOutcome               1            1            1            1   \n",
       "numRawWords              1            1            1            1   \n",
       "numRawChars              6            4            6            3   \n",
       "numCleanChars            6          NaN            6            3   \n",
       "numCleanWords            1          NaN            1            1   \n",
       "source               human        human        human        human   \n",
       "\n",
       "                     15221                  15222        15223        15224  \n",
       "gameid              4793-9                 4793-9       4793-9       4793-9  \n",
       "clkTime        1.47648e+12            1.47648e+12  1.47648e+12  1.47648e+12  \n",
       "roundNum                38                     38           39           40  \n",
       "condition              far                    far          far        close  \n",
       "clickStatus         target                 target       target       target  \n",
       "clickColH              352                    352          194          116  \n",
       "clickColS               30                     30           86           38  \n",
       "clickColL               50                     50           50           50  \n",
       "clickLocS                3                      3            3            1  \n",
       "clickLocL                2                      2            2            2  \n",
       "alt1Status          distr1                 distr1       distr2       distr2  \n",
       "alt1ColH               295                    295           37           68  \n",
       "alt1ColS                92                     92           69           34  \n",
       "alt1ColL                50                     50           50           50  \n",
       "alt1LocS                 1                      1            1            2  \n",
       "alt1LocL                 1                      1            1            3  \n",
       "alt2Status          distr2                 distr2       distr1       distr1  \n",
       "alt2ColH               100                    100          156           92  \n",
       "alt2ColS                96                     96           13           56  \n",
       "alt2ColL                50                     50           50           50  \n",
       "alt2LocS                 2                      2            2            3  \n",
       "alt2LocL                 3                      3            3            1  \n",
       "targetD1Diff            28                     28           25            9  \n",
       "targetD2Diff            74                     74           51           14  \n",
       "D1D2Diff               109                    109           33           12  \n",
       "outcome               True                   True         True         True  \n",
       "msgTime        1.47648e+12            1.47648e+12  1.47648e+12  1.47648e+12  \n",
       "role              listener                speaker      speaker      speaker  \n",
       "contents                no  redish. like red sand         blue   dark green  \n",
       "workerid_uniq          799                    808          808          808  \n",
       "numOutcome               1                      1            1            1  \n",
       "numRawWords              1                      4            1            2  \n",
       "numRawChars              2                     17            4            9  \n",
       "numCleanChars          NaN                     17            4            9  \n",
       "numCleanWords          NaN                      4            1            2  \n",
       "source               human                  human        human        human  "
      ]
     },
     "execution_count": 325,
     "metadata": {},
     "output_type": "execute_result"
    }
   ],
   "source": [
    "md_test.data[15217:15225].T"
   ]
  },
  {
   "cell_type": "code",
   "execution_count": 244,
   "metadata": {},
   "outputs": [
    {
     "name": "stdout",
     "output_type": "stream",
     "text": [
      "[108 16 50] [78 99 50] [153 12 50]\n",
      "8 Camo green\n"
     ]
    },
    {
     "data": {
      "image/png": "[encoded data removed]",
      "text/plain": [
       "<Figure size 432x288 with 1 Axes>"
      ]
     },
     "metadata": {},
     "output_type": "display_data"
    }
   ],
   "source": [
    "\n",
    "\n",
    "def hls_to_rgb(color):\n",
    "    norm_circle = cols.Normalize(0, 360)\n",
    "    norm_hundred = cols.Normalize(0, 100)\n",
    "    norm_col = [norm_circle(color[0]), norm_hundred(color[1]), norm_hundred(color[2])]\n",
    "    return cs.hls_to_rgb(norm_col[0], norm_col[2], norm_col[1])\n",
    "\n",
    "\n",
    "#c1 = [179, 50, 65]\n",
    "for i in range(8, 9):\n",
    "    color_arr = np.array(colors.loc[i,]);\n",
    "    \n",
    "    c1 = color_arr[0:3]\n",
    "    c2 = color_arr[3:6]\n",
    "    c3 = color_arr[6:9]\n",
    "    #c2 = np.array(colors.loc[i,])\n",
    "    print(c1, c2, c3)\n",
    "    fig = plt.figure()\n",
    "    ax = fig.add_subplot(111)\n",
    "\n",
    "    rect1 = matplotlib.patches.Rectangle((-600,-400), 400, 800, facecolor=hls_to_rgb(c1), edgecolor=\"black\")\n",
    "    rect2 = matplotlib.patches.Rectangle((-200,-400), 400, 800, facecolor=hls_to_rgb(c2), edgecolor=\"black\")\n",
    "    rect3 = matplotlib.patches.Rectangle((200,-400), 400, 800, facecolor=hls_to_rgb(c3), edgecolor=\"black\")\n",
    "\n",
    "    ax.add_patch(rect1)\n",
    "    ax.add_patch(rect2)\n",
    "    ax.add_patch(rect3)\n",
    "    print(i, color_arr[9])\n",
    "    plt.xlim([-600, 600])\n",
    "    plt.ylim([-400, 400])\n",
    "    plt.show()"
   ]
  },
  {
   "cell_type": "code",
   "execution_count": 150,
   "metadata": {},
   "outputs": [
    {
     "data": {
      "text/html": [
       "<div>\n",
       "<style>\n",
       "    .dataframe thead tr:only-child th {\n",
       "        text-align: right;\n",
       "    }\n",
       "\n",
       "    .dataframe thead th {\n",
       "        text-align: left;\n",
       "    }\n",
       "\n",
       "    .dataframe tbody tr th {\n",
       "        vertical-align: top;\n",
       "    }\n",
       "</style>\n",
       "<table border=\"1\" class=\"dataframe\">\n",
       "  <thead>\n",
       "    <tr style=\"text-align: right;\">\n",
       "      <th></th>\n",
       "      <th>gameid</th>\n",
       "      <th>clkTime</th>\n",
       "      <th>roundNum</th>\n",
       "      <th>condition</th>\n",
       "      <th>clickStatus</th>\n",
       "      <th>clickColH</th>\n",
       "      <th>clickColS</th>\n",
       "      <th>clickColL</th>\n",
       "      <th>clickLocS</th>\n",
       "      <th>clickLocL</th>\n",
       "      <th>...</th>\n",
       "      <th>msgTime</th>\n",
       "      <th>role</th>\n",
       "      <th>contents</th>\n",
       "      <th>workerid_uniq</th>\n",
       "      <th>numOutcome</th>\n",
       "      <th>numRawWords</th>\n",
       "      <th>numRawChars</th>\n",
       "      <th>numCleanChars</th>\n",
       "      <th>numCleanWords</th>\n",
       "      <th>source</th>\n",
       "    </tr>\n",
       "  </thead>\n",
       "  <tbody>\n",
       "    <tr>\n",
       "      <th>3014</th>\n",
       "      <td>0109-c</td>\n",
       "      <td>1.4765e+12</td>\n",
       "      <td>33</td>\n",
       "      <td>split</td>\n",
       "      <td>target</td>\n",
       "      <td>155</td>\n",
       "      <td>11</td>\n",
       "      <td>50</td>\n",
       "      <td>2</td>\n",
       "      <td>2</td>\n",
       "      <td>...</td>\n",
       "      <td>1.4765e+12</td>\n",
       "      <td>speaker</td>\n",
       "      <td>drab green not the bluer one</td>\n",
       "      <td>232</td>\n",
       "      <td>1</td>\n",
       "      <td>6</td>\n",
       "      <td>23</td>\n",
       "      <td>17</td>\n",
       "      <td>4</td>\n",
       "      <td>human</td>\n",
       "    </tr>\n",
       "  </tbody>\n",
       "</table>\n",
       "<p>1 rows × 36 columns</p>\n",
       "</div>"
      ],
      "text/plain": [
       "      gameid     clkTime roundNum condition clickStatus clickColH clickColS  \\\n",
       "3014  0109-c  1.4765e+12       33     split      target       155        11   \n",
       "\n",
       "     clickColL clickLocS clickLocL  ...       msgTime     role  \\\n",
       "3014        50         2         2  ...    1.4765e+12  speaker   \n",
       "\n",
       "                          contents workerid_uniq numOutcome numRawWords  \\\n",
       "3014  drab green not the bluer one           232          1           6   \n",
       "\n",
       "     numRawChars numCleanChars numCleanWords source  \n",
       "3014          23            17             4  human  \n",
       "\n",
       "[1 rows x 36 columns]"
      ]
     },
     "execution_count": 150,
     "metadata": {},
     "output_type": "execute_result"
    }
   ],
   "source": [
    "dev_df[dev_df.contents==\"drab green not the bluer one\"]"
   ]
  },
  {
   "cell_type": "code",
   "execution_count": null,
   "metadata": {},
   "outputs": [],
   "source": []
  }
 ],
 "metadata": {
  "kernelspec": {
   "display_name": "Python 3",
   "language": "python",
   "name": "python3"
  },
  "language_info": {
   "codemirror_mode": {
    "name": "ipython",
    "version": 3
   },
   "file_extension": ".py",
   "mimetype": "text/x-python",
   "name": "python",
   "nbconvert_exporter": "python",
   "pygments_lexer": "ipython3",
   "version": "3.6.8"
  }
 },
 "nbformat": 4,
 "nbformat_minor": 2
}
