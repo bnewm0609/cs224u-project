{
 "cells": [
  {
   "cell_type": "code",
   "execution_count": 1,
   "metadata": {},
   "outputs": [],
   "source": [
    "# This notebook is testing stuff from the example experiment python file"
   ]
  },
  {
   "cell_type": "code",
   "execution_count": 2,
   "metadata": {},
   "outputs": [],
   "source": [
    "# so we can use packages from parent directory\n",
    "import sys\n",
    "sys.path.append(\"..\")"
   ]
  },
  {
   "cell_type": "code",
   "execution_count": 358,
   "metadata": {},
   "outputs": [],
   "source": [
    "import torch\n",
    "import torch.nn as nn\n",
    "import numpy as np\n",
    "from monroe_data import MonroeData, MonroeDataEntry, Color # last two for reading pkl file\n",
    "import caption_featurizers\n",
    "from color_featurizers import ColorFeaturizer, color_phi_fourier\n",
    "from models import LiteralListener, LiteralSpeaker, CaptionEncoder, CaptionGenerator, PytorchModel, ColorEncoder\n",
    "# from evaluation import score_model\n",
    "# from experiment import FeatureHandler, evaluate_model\n",
    "from scipy import stats # for pearsonr, spearmanr"
   ]
  },
  {
   "cell_type": "code",
   "execution_count": 6,
   "metadata": {},
   "outputs": [],
   "source": [
    "train_data = MonroeData(\"../data/csv/train_corpus_monroe.csv\", \"../data/entries/train_entries_monroe.pkl\")\n",
    "dev_data = MonroeData(\"../data/csv/dev_corpus_monroe.csv\", \"../data/entries/dev_entries_monroe.pkl\")"
   ]
  },
  {
   "cell_type": "code",
   "execution_count": 493,
   "metadata": {},
   "outputs": [],
   "source": [
    "dev_data_synth = MonroeData(\"../data/csv/dev_corpus_synth2.csv\", \"../data/entries/dev_entries_synth2.pkl\")"
   ]
  },
  {
   "cell_type": "code",
   "execution_count": 192,
   "metadata": {},
   "outputs": [],
   "source": [
    "def score_model(test_data, scores, regressor=stats.pearsonr):\n",
    "    \"\"\"\n",
    "    Assume scores are in the same order as the test data (i.e. 0th row is 0th score) and calculates a regression\n",
    "    between the scores of the individual games and the scores from the model\n",
    "    \"\"\"\n",
    "    relevant_columns = [\"gameid\", \"roundNum\", \"numOutcome\", \"workerid_uniq\"]\n",
    "#     if speaker == Speaker.BY_WORKER_ID:\n",
    "#         relevant_columns.append(Speaker.BY_WORKER_ID.value)\n",
    "\n",
    "# #     if score == Score.COMPOSITE:\n",
    "#         # no support for this yet but probably also need:\n",
    "#         relevant_columns.extend([\"contents\", \"clkTime\", \"msgTime\"])\n",
    "\n",
    "    eval_df = test_data.data[relevant_columns].copy()\n",
    "    eval_df[\"model_scores\"] = scores # why we need scores to be in same order as rows\n",
    "\n",
    "    #true_scores = eval_df.groupby(\"gameid\").numOutcome.mean()\n",
    "    true_scores = eval_df.groupby(\"gameid\").numOutcome.mean()\n",
    "\n",
    "\n",
    "#     if score == score.SIMPLE:\n",
    "#         # calculate scores as the mean of the number of successful utterances\n",
    "#         # a speaker has\n",
    "#         true_scores = eval_df.groupby(speaker.value).numOutcome.mean()\n",
    "#     else:\n",
    "#         true_scores = calculate_scores(eval_df, score)\n",
    "\n",
    "    # calculate a model score\n",
    "    #model_scores = eval_df.groupby(\"gameid\").model_scores.mean()\n",
    "    model_scores = eval_df.groupby(\"gameid\").model_scores.mean()\n",
    "\n",
    "    result = regressor(true_scores, model_scores)\n",
    "    return result, true_scores, model_scores"
   ]
  },
  {
   "cell_type": "code",
   "execution_count": 193,
   "metadata": {},
   "outputs": [],
   "source": [
    "def evaluate_model(assess_data, feature_handler, model, predictions_to_scores, model_scorer,\n",
    "                    model_scorer_kwargs={}, accuracy=True):\n",
    "    assess_features = feature_handler.test_features() # ~6 sec\n",
    "    assess_targets = feature_handler.test_targets()\n",
    "    model_outputs =  model.predict(assess_features)\n",
    "    model_scores = predictions_to_scores(model_outputs, assess_targets) # decide what the score we're going to use is\n",
    "    result, true_scores_grouped, model_scores_grouped = model_scorer(assess_data, model_scores, **model_scorer_kwargs)\n",
    "    print(result)\n",
    "\n",
    "    if accuracy: # also report accuracy\n",
    "        model_predictions = np.argmax(model_outputs, axis=1)\n",
    "        accuracy_val = sum(model_predictions == assess_targets) / len(assess_targets)\n",
    "        print(\"Accuracy:\", accuracy_val)\n",
    "        \n",
    "    return assess_targets, model_outputs, model_scores, true_scores_grouped, model_scores_grouped"
   ]
  },
  {
   "cell_type": "code",
   "execution_count": 486,
   "metadata": {},
   "outputs": [
    {
     "name": "stdout",
     "output_type": "stream",
     "text": [
      "Initializing featurizers\n",
      "Obtaining training features\n",
      "Initializing model\n"
     ]
    }
   ],
   "source": [
    "# Literal Listener v2\n",
    "\n",
    "# Initializing featurizers\n",
    "print(\"Initializing featurizers\")\n",
    "caption_phi = caption_featurizers.CaptionFeaturizer(tokenizer=caption_featurizers.EndingTokenizer) # Use with parameter files that end in `endings_tkn` - using endings tokenizer to separate endings like \"ish\" and \"er\"\n",
    "# caption_phi = caption_featurizers.CaptionFeaturizer(tokenizer=caption_featurizers.WhitespaceTokenizer) # Use with other paremter files\n",
    "\n",
    "color_phi = ColorFeaturizer(color_phi_fourier, \"rgb\", normalized=True)\n",
    "\n",
    "# Now we have a different target function, because we want to predict what the listener selected\n",
    "def listener_click_target(data_entry, color_perm):\n",
    "    # color_perm because colors are randomized\n",
    "    return np.where(color_perm==data_entry.click_idx)[0]\n",
    "\n",
    "feature_handler = FeatureHandler(train_data, dev_data, caption_phi, color_phi, target_fn=listener_click_target)\n",
    "\n",
    "print(\"Obtaining training features\") # get features even if you're runnning the pretrained model for example\n",
    "train_features = feature_handler.train_features()\n",
    "train_targets = feature_handler.train_targets()\n",
    "\n",
    "print(\"Initializing model\")\n",
    "# model parameters\n",
    "embed_dim = 100; hidden_dim = 100; color_dim= 54; # hard coded for example - 54 comes from color fourier phi\n",
    "\n",
    "\n",
    "\n"
   ]
  },
  {
   "cell_type": "code",
   "execution_count": 494,
   "metadata": {},
   "outputs": [],
   "source": [
    "# only used for evaluation...\n",
    "feature_handler_synth = FeatureHandler(train_data, dev_data_synth, caption_phi, color_phi)"
   ]
  },
  {
   "cell_type": "code",
   "execution_count": 488,
   "metadata": {},
   "outputs": [
    {
     "name": "stdout",
     "output_type": "stream",
     "text": [
      "Training model and saving to ../model/literal_listener_listener_click_30epoch_endings_tkn.params:\n",
      "---EPOCH 0---\n",
      "0m 0s (0:0 0.00%) 0.0006\n",
      "0m 11s (0:1000 6.38%) 1.1768\n",
      "0m 23s (0:2000 12.77%) 1.0121\n",
      "0m 35s (0:3000 19.15%) 0.9221\n",
      "0m 49s (0:4000 25.53%) 0.8152\n",
      "1m 1s (0:5000 31.92%) 0.9031\n",
      "1m 14s (0:6000 38.30%) 0.6902\n",
      "1m 27s (0:7000 44.69%) 0.6465\n",
      "1m 39s (0:8000 51.07%) 0.6982\n",
      "1m 51s (0:9000 57.45%) 0.5861\n",
      "2m 3s (0:10000 63.84%) 0.5753\n",
      "2m 15s (0:11000 70.22%) 0.5552\n",
      "2m 27s (0:12000 76.60%) 0.5819\n",
      "2m 39s (0:13000 82.99%) 0.6559\n",
      "2m 52s (0:14000 89.37%) 0.6040\n",
      "3m 4s (0:15000 95.75%) 0.5945\n",
      "---EPOCH 1---\n",
      "3m 13s (1:0 0.00%) 0.0002\n",
      "3m 25s (1:1000 6.38%) 0.5890\n",
      "3m 39s (1:2000 12.77%) 0.7242\n",
      "3m 52s (1:3000 19.15%) 0.6509\n",
      "4m 5s (1:4000 25.53%) 0.6767\n",
      "4m 19s (1:5000 31.92%) 0.7144\n",
      "4m 32s (1:6000 38.30%) 0.5211\n",
      "4m 45s (1:7000 44.69%) 0.5502\n",
      "4m 59s (1:8000 51.07%) 0.5648\n",
      "5m 12s (1:9000 57.45%) 0.5127\n",
      "5m 26s (1:10000 63.84%) 0.5005\n",
      "5m 39s (1:11000 70.22%) 0.4923\n",
      "5m 52s (1:12000 76.60%) 0.5377\n",
      "6m 6s (1:13000 82.99%) 0.6420\n",
      "6m 19s (1:14000 89.37%) 0.5397\n",
      "6m 33s (1:15000 95.75%) 0.5279\n",
      "---EPOCH 2---\n",
      "6m 43s (2:0 0.00%) 0.0000\n",
      "6m 57s (2:1000 6.38%) 0.5658\n",
      "7m 11s (2:2000 12.77%) 0.6934\n",
      "7m 25s (2:3000 19.15%) 0.5833\n",
      "7m 40s (2:4000 25.53%) 0.6740\n",
      "7m 54s (2:5000 31.92%) 0.6630\n",
      "8m 10s (2:6000 38.30%) 0.4539\n",
      "8m 23s (2:7000 44.69%) 0.4943\n",
      "8m 36s (2:8000 51.07%) 0.5294\n",
      "8m 51s (2:9000 57.45%) 0.5003\n",
      "9m 7s (2:10000 63.84%) 0.4758\n",
      "9m 20s (2:11000 70.22%) 0.4723\n",
      "9m 34s (2:12000 76.60%) 0.5326\n",
      "9m 49s (2:13000 82.99%) 0.6381\n",
      "10m 3s (2:14000 89.37%) 0.4967\n",
      "10m 17s (2:15000 95.75%) 0.5036\n",
      "---EPOCH 3---\n",
      "10m 26s (3:0 0.00%) 0.0000\n",
      "10m 40s (3:1000 6.38%) 0.5486\n",
      "10m 55s (3:2000 12.77%) 0.6954\n",
      "11m 9s (3:3000 19.15%) 0.5241\n",
      "11m 23s (3:4000 25.53%) 0.6369\n",
      "11m 36s (3:5000 31.92%) 0.6124\n",
      "11m 49s (3:6000 38.30%) 0.4354\n",
      "12m 1s (3:7000 44.69%) 0.4638\n",
      "12m 15s (3:8000 51.07%) 0.4975\n",
      "12m 27s (3:9000 57.45%) 0.5055\n",
      "12m 41s (3:10000 63.84%) 0.4335\n",
      "12m 55s (3:11000 70.22%) 0.4668\n",
      "13m 10s (3:12000 76.60%) 0.5213\n",
      "13m 25s (3:13000 82.99%) 0.6418\n",
      "13m 38s (3:14000 89.37%) 0.4725\n",
      "13m 53s (3:15000 95.75%) 0.4652\n",
      "---EPOCH 4---\n",
      "14m 3s (4:0 0.00%) 0.0000\n",
      "14m 15s (4:1000 6.38%) 0.5498\n",
      "14m 29s (4:2000 12.77%) 0.7052\n",
      "14m 43s (4:3000 19.15%) 0.4600\n",
      "14m 57s (4:4000 25.53%) 0.6004\n",
      "15m 11s (4:5000 31.92%) 0.5372\n",
      "15m 25s (4:6000 38.30%) 0.4226\n",
      "15m 39s (4:7000 44.69%) 0.4362\n",
      "15m 53s (4:8000 51.07%) 0.4313\n",
      "16m 8s (4:9000 57.45%) 0.4712\n",
      "16m 24s (4:10000 63.84%) 0.3987\n",
      "16m 39s (4:11000 70.22%) 0.4695\n",
      "16m 53s (4:12000 76.60%) 0.5045\n",
      "17m 8s (4:13000 82.99%) 0.6039\n",
      "17m 20s (4:14000 89.37%) 0.4378\n",
      "17m 35s (4:15000 95.75%) 0.4251\n",
      "---EPOCH 5---\n",
      "17m 43s (5:0 0.00%) 0.0000\n",
      "17m 56s (5:1000 6.38%) 0.5272\n",
      "18m 9s (5:2000 12.77%) 0.6845\n",
      "18m 25s (5:3000 19.15%) 0.4077\n",
      "18m 39s (5:4000 25.53%) 0.5431\n",
      "18m 53s (5:5000 31.92%) 0.4772\n",
      "19m 7s (5:6000 38.30%) 0.3886\n",
      "19m 21s (5:7000 44.69%) 0.3970\n",
      "19m 34s (5:8000 51.07%) 0.4164\n",
      "19m 48s (5:9000 57.45%) 0.4662\n",
      "20m 4s (5:10000 63.84%) 0.3689\n",
      "20m 20s (5:11000 70.22%) 0.4590\n",
      "20m 35s (5:12000 76.60%) 0.4711\n",
      "20m 50s (5:13000 82.99%) 0.6002\n",
      "21m 4s (5:14000 89.37%) 0.4091\n",
      "21m 19s (5:15000 95.75%) 0.4183\n",
      "---EPOCH 6---\n",
      "21m 30s (6:0 0.00%) 0.0000\n",
      "21m 43s (6:1000 6.38%) 0.5030\n",
      "21m 58s (6:2000 12.77%) 0.6458\n",
      "22m 13s (6:3000 19.15%) 0.3704\n",
      "22m 28s (6:4000 25.53%) 0.4819\n",
      "22m 43s (6:5000 31.92%) 0.4346\n",
      "22m 58s (6:6000 38.30%) 0.3799\n",
      "23m 12s (6:7000 44.69%) 0.3929\n",
      "23m 26s (6:8000 51.07%) 0.3649\n",
      "23m 41s (6:9000 57.45%) 0.4503\n",
      "23m 59s (6:10000 63.84%) 0.3242\n",
      "24m 13s (6:11000 70.22%) 0.4759\n",
      "24m 27s (6:12000 76.60%) 0.4572\n",
      "24m 41s (6:13000 82.99%) 0.5648\n",
      "24m 54s (6:14000 89.37%) 0.3644\n",
      "25m 7s (6:15000 95.75%) 0.4145\n",
      "---EPOCH 7---\n",
      "25m 17s (7:0 0.00%) 0.0000\n",
      "25m 29s (7:1000 6.38%) 0.4942\n",
      "25m 43s (7:2000 12.77%) 0.6141\n",
      "25m 57s (7:3000 19.15%) 0.3714\n",
      "26m 11s (7:4000 25.53%) 0.4720\n",
      "26m 26s (7:5000 31.92%) 0.4058\n",
      "26m 41s (7:6000 38.30%) 0.3467\n",
      "26m 56s (7:7000 44.69%) 0.3568\n",
      "27m 12s (7:8000 51.07%) 0.3420\n",
      "27m 27s (7:9000 57.45%) 0.4249\n",
      "27m 42s (7:10000 63.84%) 0.2899\n",
      "27m 57s (7:11000 70.22%) 0.4746\n",
      "28m 12s (7:12000 76.60%) 0.4374\n",
      "28m 26s (7:13000 82.99%) 0.5415\n",
      "28m 39s (7:14000 89.37%) 0.3594\n",
      "28m 54s (7:15000 95.75%) 0.3258\n",
      "---EPOCH 8---\n",
      "29m 4s (8:0 0.00%) 0.0000\n",
      "29m 18s (8:1000 6.38%) 0.4903\n",
      "29m 32s (8:2000 12.77%) 0.5949\n",
      "29m 46s (8:3000 19.15%) 0.3450\n",
      "30m 0s (8:4000 25.53%) 0.4473\n",
      "30m 15s (8:5000 31.92%) 0.3733\n",
      "30m 30s (8:6000 38.30%) 0.3431\n",
      "30m 46s (8:7000 44.69%) 0.3635\n",
      "31m 2s (8:8000 51.07%) 0.2937\n",
      "31m 17s (8:9000 57.45%) 0.4217\n",
      "31m 33s (8:10000 63.84%) 0.2987\n",
      "31m 48s (8:11000 70.22%) 0.4381\n",
      "32m 4s (8:12000 76.60%) 0.4700\n",
      "32m 19s (8:13000 82.99%) 0.5273\n",
      "32m 33s (8:14000 89.37%) 0.3225\n",
      "32m 49s (8:15000 95.75%) 0.2999\n",
      "---EPOCH 9---\n",
      "33m 0s (9:0 0.00%) 0.0000\n",
      "33m 14s (9:1000 6.38%) 0.4762\n",
      "33m 30s (9:2000 12.77%) 0.5399\n",
      "33m 45s (9:3000 19.15%) 0.3065\n",
      "34m 2s (9:4000 25.53%) 0.4243\n",
      "34m 17s (9:5000 31.92%) 0.3300\n",
      "34m 35s (9:6000 38.30%) 0.2927\n",
      "34m 52s (9:7000 44.69%) 0.3170\n",
      "35m 9s (9:8000 51.07%) 0.2976\n",
      "35m 27s (9:9000 57.45%) 0.3485\n",
      "35m 43s (9:10000 63.84%) 0.2912\n",
      "35m 59s (9:11000 70.22%) 0.4505\n",
      "36m 14s (9:12000 76.60%) 0.4416\n",
      "36m 29s (9:13000 82.99%) 0.5218\n",
      "36m 43s (9:14000 89.37%) 0.3110\n",
      "36m 58s (9:15000 95.75%) 0.3370\n",
      "---EPOCH 10---\n",
      "37m 9s (10:0 0.00%) 0.0000\n",
      "37m 22s (10:1000 6.38%) 0.4955\n",
      "37m 37s (10:2000 12.77%) 0.5398\n",
      "37m 51s (10:3000 19.15%) 0.2542\n",
      "38m 6s (10:4000 25.53%) 0.4288\n",
      "38m 21s (10:5000 31.92%) 0.3511\n",
      "38m 36s (10:6000 38.30%) 0.3016\n",
      "38m 51s (10:7000 44.69%) 0.3021\n",
      "39m 7s (10:8000 51.07%) 0.2703\n",
      "39m 22s (10:9000 57.45%) 0.3262\n",
      "39m 38s (10:10000 63.84%) 0.3005\n",
      "39m 54s (10:11000 70.22%) 0.4073\n",
      "40m 9s (10:12000 76.60%) 0.3710\n",
      "40m 24s (10:13000 82.99%) 0.5106\n",
      "40m 39s (10:14000 89.37%) 0.2931\n",
      "40m 55s (10:15000 95.75%) 0.3263\n",
      "---EPOCH 11---\n",
      "41m 6s (11:0 0.00%) 0.0000\n",
      "41m 20s (11:1000 6.38%) 0.4920\n",
      "41m 36s (11:2000 12.77%) 0.5388\n",
      "41m 50s (11:3000 19.15%) 0.2530\n",
      "42m 6s (11:4000 25.53%) 0.3892\n",
      "42m 22s (11:5000 31.92%) 0.3323\n",
      "42m 38s (11:6000 38.30%) 0.2523\n",
      "42m 54s (11:7000 44.69%) 0.2818\n",
      "43m 10s (11:8000 51.07%) 0.2984\n",
      "43m 26s (11:9000 57.45%) 0.3325\n",
      "43m 43s (11:10000 63.84%) 0.3016\n",
      "43m 58s (11:11000 70.22%) 0.4661\n",
      "44m 14s (11:12000 76.60%) 0.4129\n",
      "44m 29s (11:13000 82.99%) 0.5140\n",
      "44m 44s (11:14000 89.37%) 0.2677\n",
      "45m 1s (11:15000 95.75%) 0.3307\n",
      "---EPOCH 12---\n",
      "45m 12s (12:0 0.00%) 0.0000\n",
      "45m 28s (12:1000 6.38%) 0.5012\n",
      "45m 43s (12:2000 12.77%) 0.5234\n",
      "45m 59s (12:3000 19.15%) 0.2472\n",
      "46m 15s (12:4000 25.53%) 0.3786\n",
      "46m 30s (12:5000 31.92%) 0.2786\n",
      "46m 47s (12:6000 38.30%) 0.2191\n",
      "47m 3s (12:7000 44.69%) 0.2624\n",
      "47m 19s (12:8000 51.07%) 0.2300\n",
      "47m 35s (12:9000 57.45%) 0.3108\n",
      "47m 53s (12:10000 63.84%) 0.2509\n",
      "48m 9s (12:11000 70.22%) 0.4145\n",
      "48m 25s (12:12000 76.60%) 0.4086\n",
      "48m 40s (12:13000 82.99%) 0.4648\n",
      "48m 56s (12:14000 89.37%) 0.2497\n",
      "49m 13s (12:15000 95.75%) 0.2811\n",
      "---EPOCH 13---\n",
      "49m 25s (13:0 0.00%) 0.0000\n",
      "49m 40s (13:1000 6.38%) 0.4900\n",
      "49m 56s (13:2000 12.77%) 0.4665\n",
      "50m 12s (13:3000 19.15%) 0.2132\n",
      "50m 28s (13:4000 25.53%) 0.3699\n",
      "50m 44s (13:5000 31.92%) 0.3111\n",
      "51m 1s (13:6000 38.30%) 0.2644\n",
      "51m 18s (13:7000 44.69%) 0.3227\n",
      "51m 34s (13:8000 51.07%) 0.2682\n",
      "51m 51s (13:9000 57.45%) 0.3022\n",
      "52m 9s (13:10000 63.84%) 0.2755\n",
      "52m 25s (13:11000 70.22%) 0.4386\n",
      "52m 41s (13:12000 76.60%) 0.4148\n",
      "52m 57s (13:13000 82.99%) 0.4794\n",
      "53m 14s (13:14000 89.37%) 0.2567\n",
      "53m 30s (13:15000 95.75%) 0.2631\n",
      "---EPOCH 14---\n",
      "53m 42s (14:0 0.00%) 0.0000\n",
      "53m 57s (14:1000 6.38%) 0.4651\n",
      "54m 13s (14:2000 12.77%) 0.4718\n",
      "54m 29s (14:3000 19.15%) 0.2484\n",
      "54m 45s (14:4000 25.53%) 0.3199\n",
      "55m 1s (14:5000 31.92%) 0.2858\n",
      "55m 18s (14:6000 38.30%) 0.2237\n",
      "55m 35s (14:7000 44.69%) 0.2553\n",
      "55m 51s (14:8000 51.07%) 0.2831\n",
      "56m 7s (14:9000 57.45%) 0.3075\n",
      "56m 25s (14:10000 63.84%) 0.2599\n",
      "56m 42s (14:11000 70.22%) 0.4040\n",
      "56m 59s (14:12000 76.60%) 0.4485\n",
      "57m 15s (14:13000 82.99%) 0.4419\n",
      "57m 33s (14:14000 89.37%) 0.1979\n",
      "57m 50s (14:15000 95.75%) 0.2718\n",
      "---EPOCH 15---\n",
      "58m 3s (15:0 0.00%) 0.0000\n",
      "58m 18s (15:1000 6.38%) 0.4574\n",
      "58m 34s (15:2000 12.77%) 0.4538\n",
      "58m 50s (15:3000 19.15%) 0.2407\n",
      "59m 7s (15:4000 25.53%) 0.3302\n",
      "59m 23s (15:5000 31.92%) 0.2716\n",
      "59m 41s (15:6000 38.30%) 0.2113\n",
      "59m 59s (15:7000 44.69%) 0.2292\n",
      "60m 17s (15:8000 51.07%) 0.2531\n",
      "60m 34s (15:9000 57.45%) 0.2643\n",
      "60m 52s (15:10000 63.84%) 0.2615\n",
      "61m 9s (15:11000 70.22%) 0.3889\n",
      "61m 25s (15:12000 76.60%) 0.4197\n",
      "61m 42s (15:13000 82.99%) 0.4187\n"
     ]
    },
    {
     "name": "stdout",
     "output_type": "stream",
     "text": [
      "61m 59s (15:14000 89.37%) 0.2092\n",
      "62m 18s (15:15000 95.75%) 0.2570\n",
      "---EPOCH 16---\n",
      "62m 30s (16:0 0.00%) 0.0000\n",
      "62m 46s (16:1000 6.38%) 0.4534\n",
      "63m 2s (16:2000 12.77%) 0.4849\n",
      "63m 18s (16:3000 19.15%) 0.2254\n",
      "63m 35s (16:4000 25.53%) 0.3235\n",
      "63m 52s (16:5000 31.92%) 0.2926\n",
      "64m 11s (16:6000 38.30%) 0.2308\n",
      "64m 28s (16:7000 44.69%) 0.3198\n",
      "64m 45s (16:8000 51.07%) 0.3005\n",
      "65m 2s (16:9000 57.45%) 0.2998\n",
      "65m 22s (16:10000 63.84%) 0.2590\n",
      "65m 39s (16:11000 70.22%) 0.4031\n",
      "65m 56s (16:12000 76.60%) 0.4074\n",
      "66m 14s (16:13000 82.99%) 0.4631\n",
      "66m 32s (16:14000 89.37%) 0.2032\n",
      "66m 51s (16:15000 95.75%) 0.2615\n",
      "---EPOCH 17---\n",
      "67m 4s (17:0 0.00%) 0.0000\n",
      "67m 20s (17:1000 6.38%) 0.4561\n",
      "67m 37s (17:2000 12.77%) 0.4351\n",
      "67m 55s (17:3000 19.15%) 0.2593\n",
      "68m 13s (17:4000 25.53%) 0.3266\n",
      "68m 31s (17:5000 31.92%) 0.2668\n",
      "68m 50s (17:6000 38.30%) 0.1975\n",
      "69m 7s (17:7000 44.69%) 0.2824\n",
      "69m 24s (17:8000 51.07%) 0.2500\n",
      "69m 42s (17:9000 57.45%) 0.3101\n",
      "70m 2s (17:10000 63.84%) 0.2463\n",
      "70m 21s (17:11000 70.22%) 0.3988\n",
      "70m 39s (17:12000 76.60%) 0.3954\n",
      "70m 57s (17:13000 82.99%) 0.4723\n",
      "71m 15s (17:14000 89.37%) 0.2202\n",
      "71m 34s (17:15000 95.75%) 0.2412\n",
      "---EPOCH 18---\n",
      "71m 47s (18:0 0.00%) 0.0000\n",
      "72m 4s (18:1000 6.38%) 0.4249\n",
      "72m 21s (18:2000 12.77%) 0.4441\n",
      "72m 39s (18:3000 19.15%) 0.2580\n",
      "72m 57s (18:4000 25.53%) 0.3244\n",
      "73m 15s (18:5000 31.92%) 0.2897\n",
      "73m 34s (18:6000 38.30%) 0.2039\n",
      "73m 52s (18:7000 44.69%) 0.2466\n",
      "74m 11s (18:8000 51.07%) 0.2521\n",
      "74m 28s (18:9000 57.45%) 0.2586\n",
      "74m 48s (18:10000 63.84%) 0.2715\n",
      "75m 7s (18:11000 70.22%) 0.3663\n",
      "75m 25s (18:12000 76.60%) 0.4134\n",
      "75m 42s (18:13000 82.99%) 0.4122\n",
      "76m 1s (18:14000 89.37%) 0.2051\n",
      "76m 20s (18:15000 95.75%) 0.2742\n",
      "---EPOCH 19---\n",
      "76m 33s (19:0 0.00%) 0.0000\n",
      "76m 50s (19:1000 6.38%) 0.4941\n",
      "77m 8s (19:2000 12.77%) 0.4615\n",
      "77m 27s (19:3000 19.15%) 0.2258\n",
      "77m 47s (19:4000 25.53%) 0.3170\n",
      "78m 4s (19:5000 31.92%) 0.2593\n",
      "78m 24s (19:6000 38.30%) 0.2340\n",
      "78m 43s (19:7000 44.69%) 0.3005\n",
      "79m 3s (19:8000 51.07%) 0.2868\n",
      "79m 22s (19:9000 57.45%) 0.2888\n",
      "79m 43s (19:10000 63.84%) 0.2439\n",
      "80m 2s (19:11000 70.22%) 0.3789\n",
      "80m 21s (19:12000 76.60%) 0.4023\n",
      "80m 40s (19:13000 82.99%) 0.4032\n",
      "80m 59s (19:14000 89.37%) 0.2270\n",
      "81m 18s (19:15000 95.75%) 0.2401\n",
      "---EPOCH 20---\n",
      "81m 32s (20:0 0.00%) 0.0000\n",
      "81m 49s (20:1000 6.38%) 0.4720\n",
      "82m 7s (20:2000 12.77%) 0.5163\n",
      "82m 25s (20:3000 19.15%) 0.2161\n",
      "82m 44s (20:4000 25.53%) 0.3852\n",
      "83m 2s (20:5000 31.92%) 0.2627\n",
      "83m 22s (20:6000 38.30%) 0.2080\n",
      "83m 40s (20:7000 44.69%) 0.2983\n",
      "83m 59s (20:8000 51.07%) 0.2781\n",
      "84m 18s (20:9000 57.45%) 0.2632\n",
      "84m 38s (20:10000 63.84%) 0.2515\n",
      "84m 58s (20:11000 70.22%) 0.3595\n",
      "85m 18s (20:12000 76.60%) 0.4372\n",
      "85m 36s (20:13000 82.99%) 0.3867\n",
      "85m 55s (20:14000 89.37%) 0.1851\n",
      "86m 15s (20:15000 95.75%) 0.2763\n",
      "---EPOCH 21---\n",
      "86m 28s (21:0 0.00%) 0.0000\n",
      "86m 46s (21:1000 6.38%) 0.4659\n",
      "87m 4s (21:2000 12.77%) 0.5108\n",
      "87m 22s (21:3000 19.15%) 0.2438\n",
      "87m 41s (21:4000 25.53%) 0.3685\n",
      "88m 0s (21:5000 31.92%) 0.2814\n",
      "88m 21s (21:6000 38.30%) 0.1891\n",
      "88m 39s (21:7000 44.69%) 0.3198\n",
      "88m 59s (21:8000 51.07%) 0.3282\n",
      "89m 19s (21:9000 57.45%) 0.2413\n",
      "89m 39s (21:10000 63.84%) 0.2265\n",
      "89m 58s (21:11000 70.22%) 0.3874\n",
      "90m 17s (21:12000 76.60%) 0.3453\n",
      "90m 39s (21:13000 82.99%) 0.4521\n",
      "90m 59s (21:14000 89.37%) 0.1941\n",
      "91m 20s (21:15000 95.75%) 0.2782\n",
      "---EPOCH 22---\n",
      "91m 34s (22:0 0.00%) 0.0000\n",
      "91m 52s (22:1000 6.38%) 0.4738\n",
      "92m 11s (22:2000 12.77%) 0.4488\n",
      "92m 30s (22:3000 19.15%) 0.3020\n",
      "92m 49s (22:4000 25.53%) 0.3850\n",
      "93m 8s (22:5000 31.92%) 0.2476\n",
      "93m 29s (22:6000 38.30%) 0.2086\n",
      "93m 48s (22:7000 44.69%) 0.2615\n",
      "94m 8s (22:8000 51.07%) 0.2154\n",
      "94m 28s (22:9000 57.45%) 0.2407\n",
      "94m 49s (22:10000 63.84%) 0.3341\n",
      "95m 10s (22:11000 70.22%) 0.4282\n",
      "95m 30s (22:12000 76.60%) 0.3748\n",
      "95m 51s (22:13000 82.99%) 0.3983\n",
      "96m 11s (22:14000 89.37%) 0.2559\n",
      "96m 32s (22:15000 95.75%) 0.3064\n",
      "---EPOCH 23---\n",
      "96m 47s (23:0 0.00%) 0.0000\n",
      "97m 6s (23:1000 6.38%) 0.4912\n",
      "97m 26s (23:2000 12.77%) 0.4124\n",
      "97m 44s (23:3000 19.15%) 0.3135\n",
      "98m 5s (23:4000 25.53%) 0.3419\n",
      "98m 26s (23:5000 31.92%) 0.2776\n",
      "98m 49s (23:6000 38.30%) 0.2052\n",
      "99m 9s (23:7000 44.69%) 0.2797\n",
      "99m 31s (23:8000 51.07%) 0.2701\n",
      "99m 52s (23:9000 57.45%) 0.2783\n",
      "100m 14s (23:10000 63.84%) 0.2409\n",
      "100m 36s (23:11000 70.22%) 0.3505\n",
      "100m 56s (23:12000 76.60%) 0.3725\n",
      "101m 18s (23:13000 82.99%) 0.3742\n",
      "101m 40s (23:14000 89.37%) 0.2105\n",
      "102m 3s (23:15000 95.75%) 0.2576\n",
      "---EPOCH 24---\n",
      "102m 19s (24:0 0.00%) 0.0000\n",
      "102m 39s (24:1000 6.38%) 0.5170\n",
      "103m 1s (24:2000 12.77%) 0.5208\n",
      "103m 21s (24:3000 19.15%) 0.3225\n",
      "103m 43s (24:4000 25.53%) 0.3667\n",
      "104m 4s (24:5000 31.92%) 0.2687\n",
      "104m 28s (24:6000 38.30%) 0.1804\n",
      "104m 50s (24:7000 44.69%) 0.3648\n",
      "105m 12s (24:8000 51.07%) 0.2991\n",
      "105m 32s (24:9000 57.45%) 0.2331\n",
      "105m 54s (24:10000 63.84%) 0.2352\n",
      "106m 15s (24:11000 70.22%) 0.3205\n",
      "106m 36s (24:12000 76.60%) 0.3967\n",
      "106m 57s (24:13000 82.99%) 0.3784\n",
      "107m 18s (24:14000 89.37%) 0.2140\n",
      "107m 41s (24:15000 95.75%) 0.2674\n",
      "---EPOCH 25---\n",
      "107m 56s (25:0 0.00%) 0.0000\n",
      "108m 15s (25:1000 6.38%) 0.4842\n",
      "108m 36s (25:2000 12.77%) 0.5042\n",
      "108m 56s (25:3000 19.15%) 0.2662\n",
      "109m 16s (25:4000 25.53%) 0.3052\n",
      "109m 35s (25:5000 31.92%) 0.2808\n",
      "109m 57s (25:6000 38.30%) 0.1643\n",
      "110m 18s (25:7000 44.69%) 0.2651\n",
      "110m 42s (25:8000 51.07%) 0.2508\n",
      "111m 3s (25:9000 57.45%) 0.2503\n",
      "111m 27s (25:10000 63.84%) 0.2584\n",
      "111m 49s (25:11000 70.22%) 0.4042\n",
      "112m 10s (25:12000 76.60%) 0.3564\n",
      "112m 31s (25:13000 82.99%) 0.4009\n",
      "112m 52s (25:14000 89.37%) 0.2389\n",
      "113m 15s (25:15000 95.75%) 0.2963\n",
      "---EPOCH 26---\n",
      "113m 30s (26:0 0.00%) 0.0000\n",
      "113m 50s (26:1000 6.38%) 0.5233\n",
      "114m 11s (26:2000 12.77%) 0.4748\n",
      "114m 31s (26:3000 19.15%) 0.2502\n",
      "114m 53s (26:4000 25.53%) 0.3085\n",
      "115m 13s (26:5000 31.92%) 0.2124\n",
      "115m 36s (26:6000 38.30%) 0.1833\n",
      "115m 57s (26:7000 44.69%) 0.3137\n",
      "116m 19s (26:8000 51.07%) 0.2029\n",
      "116m 39s (26:9000 57.45%) 0.2581\n",
      "117m 1s (26:10000 63.84%) 0.2582\n",
      "117m 22s (26:11000 70.22%) 0.3574\n",
      "117m 43s (26:12000 76.60%) 0.4198\n",
      "118m 4s (26:13000 82.99%) 0.3263\n",
      "118m 25s (26:14000 89.37%) 0.2332\n",
      "118m 47s (26:15000 95.75%) 0.2470\n",
      "---EPOCH 27---\n",
      "119m 3s (27:0 0.00%) 0.0000\n",
      "119m 22s (27:1000 6.38%) 0.5338\n",
      "119m 42s (27:2000 12.77%) 0.5419\n",
      "120m 2s (27:3000 19.15%) 0.2414\n",
      "120m 26s (27:4000 25.53%) 0.3525\n",
      "120m 45s (27:5000 31.92%) 0.2544\n",
      "121m 8s (27:6000 38.30%) 0.2097\n",
      "121m 28s (27:7000 44.69%) 0.2572\n",
      "121m 51s (27:8000 51.07%) 0.2345\n",
      "122m 11s (27:9000 57.45%) 0.2948\n",
      "122m 33s (27:10000 63.84%) 0.2368\n",
      "122m 52s (27:11000 70.22%) 0.3219\n",
      "123m 12s (27:12000 76.60%) 0.4033\n",
      "123m 32s (27:13000 82.99%) 0.3546\n",
      "123m 53s (27:14000 89.37%) 0.2071\n",
      "124m 15s (27:15000 95.75%) 0.2861\n",
      "---EPOCH 28---\n",
      "124m 30s (28:0 0.00%) 0.0000\n",
      "124m 49s (28:1000 6.38%) 0.4826\n",
      "125m 9s (28:2000 12.77%) 0.4399\n",
      "125m 28s (28:3000 19.15%) 0.2817\n",
      "125m 48s (28:4000 25.53%) 0.2944\n",
      "126m 7s (28:5000 31.92%) 0.2580\n",
      "126m 29s (28:6000 38.30%) 0.1973\n",
      "126m 50s (28:7000 44.69%) 0.3287\n",
      "127m 12s (28:8000 51.07%) 0.2293\n",
      "127m 33s (28:9000 57.45%) 0.2460\n",
      "127m 56s (28:10000 63.84%) 0.2423\n",
      "128m 17s (28:11000 70.22%) 0.3492\n",
      "128m 36s (28:12000 76.60%) 0.4275\n",
      "128m 57s (28:13000 82.99%) 0.3820\n",
      "129m 18s (28:14000 89.37%) 0.2330\n",
      "129m 41s (28:15000 95.75%) 0.2625\n",
      "---EPOCH 29---\n",
      "129m 56s (29:0 0.00%) 0.0000\n",
      "130m 15s (29:1000 6.38%) 0.4926\n",
      "130m 36s (29:2000 12.77%) 0.4775\n",
      "130m 56s (29:3000 19.15%) 0.2943\n",
      "131m 18s (29:4000 25.53%) 0.4093\n",
      "131m 38s (29:5000 31.92%) 0.2508\n",
      "132m 1s (29:6000 38.30%) 0.1933\n",
      "132m 21s (29:7000 44.69%) 0.3017\n",
      "132m 43s (29:8000 51.07%) 0.3448\n",
      "133m 2s (29:9000 57.45%) 0.2686\n",
      "133m 24s (29:10000 63.84%) 0.2156\n",
      "133m 44s (29:11000 70.22%) 0.3270\n",
      "134m 4s (29:12000 76.60%) 0.3892\n",
      "134m 25s (29:13000 82.99%) 0.3678\n",
      "134m 47s (29:14000 89.37%) 0.2280\n",
      "135m 9s (29:15000 95.75%) 0.3033\n"
     ]
    }
   ],
   "source": [
    "# Listener v2\n",
    "# to train: (probably takes about 15 min - 2 hrs) depending on # of epochs (5 - 30)\n",
    "train = True\n",
    "model_file_v2 = \"../model/literal_listener_listener_click_30epoch_endings_tkn.params\"\n",
    "\n",
    "model_v2 = LiteralListener(CaptionEncoder, num_epochs=30)\n",
    "model_v2.init_model(embed_dim = embed_dim, hidden_dim = hidden_dim, vocab_size = feature_handler.caption_featurizer.caption_indexer.size,\n",
    "             color_dim = color_dim)\n",
    "\n",
    "if train:\n",
    "    print(\"Training model and saving to {}:\".format(model_file_v2))\n",
    "    model_v2.fit(train_features, train_targets)\n",
    "    model_v2.save_model(model_file_v2)\n",
    "else:\n",
    "    print(\"Loading pretrained model\")\n",
    "    model_v2.load_model(model_file_v2)"
   ]
  },
  {
   "cell_type": "code",
   "execution_count": 82,
   "metadata": {},
   "outputs": [
    {
     "name": "stdout",
     "output_type": "stream",
     "text": [
      "Evaluating model - Literal Listener Listener Click\t Target: listener click\n",
      "(0.35798767951388855, 5.1153526322631263e-11)\n",
      "Accuracy: 0.7853222718570517\n"
     ]
    }
   ],
   "source": [
    "# This is the one that doesn't make sense...\n",
    "print(\"Evaluating model - Literal Listener Listener Click\\t Target: listener click\")\n",
    "output_to_score = lambda model_outputs, targets: np.exp(model_outputs[np.arange(len(model_outputs)), targets]) # get the model's predicted probablity at each target index and use that as the score\n",
    "\n",
    "# we want to score based on the model's predictions at the TARGET indices not listener clicked indices,\n",
    "# so we change the feature_handler's target function to do that:\n",
    "feature_handler.target_fn = listener_click_target\n",
    "assess_targets_tgt_v2_lc, model_outputs_v2_lc, model_scores_v2_lc, true_scores_grouped_v2_lc, model_scores_grouped_v2_lc =\\\n",
    "    evaluate_model(dev_data, feature_handler, model_v2, output_to_score, score_model)"
   ]
  },
  {
   "cell_type": "code",
   "execution_count": 83,
   "metadata": {},
   "outputs": [
    {
     "name": "stdout",
     "output_type": "stream",
     "text": [
      "Evaluating model - Literal Listener Listener Click\t Target: speaker target\n",
      "(0.302078052256305, 4.116391201368502e-08)\n",
      "Accuracy: 0.7956604977664327\n"
     ]
    }
   ],
   "source": [
    "# accuracy doesn't matter too much here bc it's trained to pick listener click and tested against speaker target\n",
    "print(\"Evaluating model - Literal Listener Listener Click\\t Target: speaker target\")\n",
    "output_to_score = lambda model_outputs, targets: np.exp(model_outputs[np.arange(len(model_outputs)), targets]) # get the model's predicted probablity at each target index and use that as the score\n",
    "\n",
    "# we want to score based on the model's predictions at the TARGET indices not listener clicked indices,\n",
    "# so we change the feature_handler's target function to do that:\n",
    "feature_handler.target_fn = lambda data_entry, color_perm: np.where(color_perm == data_entry.target_idx)[0]\n",
    "assess_targets_tgt_v2, model_outputs_v2, model_scores_v2, true_scores_grouped_v2, model_scores_grouped_v2 =\\\n",
    "    evaluate_model(dev_data, feature_handler, model_v2, output_to_score, score_model)"
   ]
  },
  {
   "cell_type": "code",
   "execution_count": 75,
   "metadata": {},
   "outputs": [
    {
     "name": "stdout",
     "output_type": "stream",
     "text": [
      "Loading pretrained model\n"
     ]
    }
   ],
   "source": [
    "# literal listener v1\n",
    "train = False\n",
    "model_file_v1 = \"../model/literal_listener_5epoch_endings_tkn.params\"\n",
    "\n",
    "model_v1 = LiteralListener(CaptionEncoder, num_epochs=5)\n",
    "model_v1.init_model(embed_dim = embed_dim, hidden_dim = hidden_dim, vocab_size = feature_handler.caption_featurizer.caption_indexer.size,\n",
    "             color_dim = color_dim)\n",
    "\n",
    "if train:\n",
    "    print(\"Training model and saving to {}:\".format(model_file))\n",
    "    #model_v1.fit(train_features, train_targets)\n",
    "    #model_v1.save_model(model_file)\n",
    "else:\n",
    "    print(\"Loading pretrained model\")\n",
    "    model_v1.load_model(model_file_v1)\n",
    "    \n",
    "    \n",
    "output_to_score = lambda model_outputs, targets: np.exp(model_outputs[np.arange(len(model_outputs)), targets]) # get the model's predicted probablity at each target index and use that as the score\n"
   ]
  },
  {
   "cell_type": "code",
   "execution_count": 76,
   "metadata": {},
   "outputs": [
    {
     "name": "stdout",
     "output_type": "stream",
     "text": [
      "Evaluating model - Literal Listener Speaker Target\t Target: listener click\n",
      "(0.3667183385453332, 1.5872865557272033e-11)\n",
      "Accuracy: 0.794256541161455\n"
     ]
    }
   ],
   "source": [
    "# This is the one that doesn't make sense...\n",
    "print(\"Evaluating model - Literal Listener Speaker Target\\t Target: listener click\")\n",
    "feature_handler.target_fn = listener_click_target\n",
    "assess_targets_tgt_v1_lc, model_outputs_v1_lc, model_scores_v1_lc, true_scores_grouped_v1_lc, model_scores_grouped_v1_lc =\\\n",
    "    evaluate_model(dev_data, feature_handler, model_v1, output_to_score, score_model)\n"
   ]
  },
  {
   "cell_type": "code",
   "execution_count": 77,
   "metadata": {},
   "outputs": [
    {
     "name": "stdout",
     "output_type": "stream",
     "text": [
      "Evaluating model - Literal Listener Speaker Target\t Target: speaker target\n",
      "(0.31542364118662225, 9.412595063827775e-09)\n",
      "Accuracy: 0.8019783024888322\n"
     ]
    }
   ],
   "source": [
    "print(\"Evaluating model - Literal Listener Speaker Target\\t Target: speaker target\")\n",
    "feature_handler.target_fn = lambda data_entry, color_perm: np.where(color_perm == data_entry.target_idx)[0]\n",
    "assess_targets_tgt_v1, model_outputs_v1, model_scores_v1, true_scores_grouped_v1, model_scores_grouped_v1 =\\\n",
    "    evaluate_model(dev_data, feature_handler, model_v1, output_to_score, score_model)"
   ]
  },
  {
   "cell_type": "code",
   "execution_count": 29,
   "metadata": {},
   "outputs": [],
   "source": [
    "import matplotlib.pyplot as plt"
   ]
  },
  {
   "cell_type": "code",
   "execution_count": 30,
   "metadata": {},
   "outputs": [],
   "source": [
    "%matplotlib inline"
   ]
  },
  {
   "cell_type": "code",
   "execution_count": 38,
   "metadata": {},
   "outputs": [
    {
     "data": {
      "text/plain": [
       "0.798468410976388"
      ]
     },
     "execution_count": 38,
     "metadata": {},
     "output_type": "execute_result"
    }
   ],
   "source": [
    "sum([1 if s > 0.5 else 0 for s in model_scores_v1])/len(model_scores_v1)"
   ]
  },
  {
   "cell_type": "code",
   "execution_count": 39,
   "metadata": {},
   "outputs": [
    {
     "data": {
      "image/png": "[encoded data removed]",
      "text/plain": [
       "<Figure size 432x288 with 1 Axes>"
      ]
     },
     "metadata": {},
     "output_type": "display_data"
    }
   ],
   "source": [
    "plt.hist(model_scores_v1, 15)\n",
    "plt.show()"
   ]
  },
  {
   "cell_type": "code",
   "execution_count": 52,
   "metadata": {},
   "outputs": [
    {
     "data": {
      "image/png": "[encoded data removed]",
      "text/plain": [
       "<Figure size 432x288 with 1 Axes>"
      ]
     },
     "metadata": {},
     "output_type": "display_data"
    }
   ],
   "source": [
    "plt.hist(model_scores_grouped_v1, 15)\n",
    "plt.show()"
   ]
  },
  {
   "cell_type": "code",
   "execution_count": 37,
   "metadata": {},
   "outputs": [
    {
     "data": {
      "text/plain": [
       "0.7903637523931079"
      ]
     },
     "execution_count": 37,
     "metadata": {},
     "output_type": "execute_result"
    }
   ],
   "source": [
    "sum([1 if s > 0.5 else 0 for s in model_scores_v1_lc])/len(model_scores_v1_lc)"
   ]
  },
  {
   "cell_type": "code",
   "execution_count": 34,
   "metadata": {},
   "outputs": [
    {
     "data": {
      "image/png": "[encoded data removed]",
      "text/plain": [
       "<Figure size 432x288 with 1 Axes>"
      ]
     },
     "metadata": {},
     "output_type": "display_data"
    }
   ],
   "source": [
    "plt.hist(model_scores_v1_lc, 15)\n",
    "plt.show()"
   ]
  },
  {
   "cell_type": "code",
   "execution_count": 53,
   "metadata": {},
   "outputs": [
    {
     "data": {
      "image/png": "[encoded data removed]",
      "text/plain": [
       "<Figure size 432x288 with 1 Axes>"
      ]
     },
     "metadata": {},
     "output_type": "display_data"
    }
   ],
   "source": [
    "plt.hist(model_scores_grouped_v1_lc, 15)\n",
    "plt.show()"
   ]
  },
  {
   "cell_type": "code",
   "execution_count": 56,
   "metadata": {},
   "outputs": [
    {
     "data": {
      "image/png": "[encoded data removed]",
      "text/plain": [
       "<Figure size 432x288 with 1 Axes>"
      ]
     },
     "metadata": {},
     "output_type": "display_data"
    }
   ],
   "source": [
    "plt.hist(true_scores_grouped_v1_lc, 15)\n",
    "plt.show()"
   ]
  },
  {
   "cell_type": "code",
   "execution_count": 54,
   "metadata": {},
   "outputs": [
    {
     "data": {
      "text/plain": [
       "<matplotlib.collections.PathCollection at 0x1391a8c88>"
      ]
     },
     "execution_count": 54,
     "metadata": {},
     "output_type": "execute_result"
    },
    {
     "data": {
      "image/png": "[encoded data removed]",
      "text/plain": [
       "<Figure size 432x288 with 1 Axes>"
      ]
     },
     "metadata": {},
     "output_type": "display_data"
    }
   ],
   "source": [
    "plt.scatter(true_scores_grouped_v1, model_scores_grouped_v1)\n",
    "plt.show()"
   ]
  },
  {
   "cell_type": "code",
   "execution_count": 431,
   "metadata": {},
   "outputs": [
    {
     "data": {
      "image/png": "[encoded data removed]",
      "text/plain": [
       "<Figure size 432x288 with 1 Axes>"
      ]
     },
     "metadata": {},
     "output_type": "display_data"
    },
    {
     "data": {
      "text/plain": [
       "(0.518627932241207, 0.04761464052998845)"
      ]
     },
     "execution_count": 431,
     "metadata": {},
     "output_type": "execute_result"
    }
   ],
   "source": [
    "true_scores_grouped_rounded_v1 = [int(50*round_partial(score, 1/50)) for score in true_scores_grouped_v1]\n",
    "listener_v1_df = pd.DataFrame({'model_scores': model_scores_grouped_v1, 'true_scores': true_scores_grouped_rounded_v1})\n",
    "listener_v1_scores_series = listener_v1_df.groupby('true_scores').mean()['model_scores']\n",
    "plt.scatter(listener_v1_scores_series.index, listener_v1_scores_series.values)\n",
    "plt.title(\"Listener oracle score vs Human performance (avged over score)\")\n",
    "plt.show()\n",
    "stats.pearsonr(listener_v1_scores_series.index, listener_v1_scores_series.values)"
   ]
  },
  {
   "cell_type": "code",
   "execution_count": 433,
   "metadata": {},
   "outputs": [
    {
     "data": {
      "text/plain": [
       "SpearmanrResult(correlation=0.7142857142857142, pvalue=0.0027743838176388096)"
      ]
     },
     "execution_count": 433,
     "metadata": {},
     "output_type": "execute_result"
    }
   ],
   "source": [
    "stats.spearmanr(listener_v1_scores_series.index, listener_v1_scores_series.values)"
   ]
  },
  {
   "cell_type": "code",
   "execution_count": 55,
   "metadata": {},
   "outputs": [
    {
     "data": {
      "image/png": "[encoded data removed]",
      "text/plain": [
       "<Figure size 432x288 with 1 Axes>"
      ]
     },
     "metadata": {},
     "output_type": "display_data"
    }
   ],
   "source": [
    "plt.scatter(true_scores_grouped_v1_lc, model_scores_grouped_v1_lc)\n",
    "plt.show()"
   ]
  },
  {
   "cell_type": "code",
   "execution_count": 84,
   "metadata": {},
   "outputs": [
    {
     "data": {
      "image/png": "[encoded data removed]",
      "text/plain": [
       "<Figure size 432x288 with 1 Axes>"
      ]
     },
     "metadata": {},
     "output_type": "display_data"
    }
   ],
   "source": [
    "plt.scatter(true_scores_grouped_v2, model_scores_grouped_v2)\n",
    "plt.title(\"Listener oracle score vs Human performance\")\n",
    "plt.show()"
   ]
  },
  {
   "cell_type": "code",
   "execution_count": 430,
   "metadata": {},
   "outputs": [
    {
     "data": {
      "image/png": "[encoded data removed]",
      "text/plain": [
       "<Figure size 432x288 with 1 Axes>"
      ]
     },
     "metadata": {},
     "output_type": "display_data"
    },
    {
     "data": {
      "text/plain": [
       "(0.5128058883174978, 0.04223188368351648)"
      ]
     },
     "execution_count": 430,
     "metadata": {},
     "output_type": "execute_result"
    }
   ],
   "source": [
    "true_scores_grouped_rounded_v2 = [int(50*round_partial(score, 1/50)) for score in true_scores_grouped_v2]\n",
    "listener_v2_df = pd.DataFrame({'model_scores': model_scores_grouped_v2, 'true_scores': true_scores_grouped_rounded_v2})\n",
    "listener_v2_scores_series = listener_v2_df.groupby('true_scores').mean()['model_scores']\n",
    "plt.scatter(listener_v2_scores_series.index, listener_v2_scores_series.values)\n",
    "plt.title(\"Listener oracle score vs Human performance (avged over score)\")\n",
    "plt.show()\n",
    "stats.pearsonr(listener_v2_scores_series.index, listener_v2_scores_series.values)"
   ]
  },
  {
   "cell_type": "code",
   "execution_count": 434,
   "metadata": {},
   "outputs": [
    {
     "data": {
      "text/plain": [
       "SpearmanrResult(correlation=0.5823529411764706, pvalue=0.017932734131035355)"
      ]
     },
     "execution_count": 434,
     "metadata": {},
     "output_type": "execute_result"
    }
   ],
   "source": [
    "stats.spearmanr(listener_v2_scores_series.index, listener_v2_scores_series.values)"
   ]
  },
  {
   "cell_type": "code",
   "execution_count": 85,
   "metadata": {},
   "outputs": [
    {
     "data": {
      "image/png": "[encoded data removed]",
      "text/plain": [
       "<Figure size 432x288 with 1 Axes>"
      ]
     },
     "metadata": {},
     "output_type": "display_data"
    }
   ],
   "source": [
    "plt.scatter(true_scores_grouped_v2_lc, model_scores_grouped_v2_lc)\n",
    "plt.show()"
   ]
  },
  {
   "cell_type": "code",
   "execution_count": 91,
   "metadata": {},
   "outputs": [
    {
     "name": "stdout",
     "output_type": "stream",
     "text": [
      "Evaluating model - Literal Listener Speaker Target\t Target: speaker target\n",
      "(0.3454967790563951, 8.056670916446157e-08)\n",
      "Accuracy: 0.8019783024888322\n"
     ]
    }
   ],
   "source": [
    "print(\"Evaluating model - Literal Listener Speaker Target\\t Target: speaker target\")\n",
    "feature_handler.target_fn = lambda data_entry, color_perm: np.where(color_perm == data_entry.target_idx)[0]\n",
    "assess_targets_tgt_v1, model_outputs_v1, model_scores_v1, true_scores_grouped_v1, model_scores_grouped_v1 =\\\n",
    "    evaluate_model(dev_data, feature_handler, model_v1, output_to_score, score_model)"
   ]
  },
  {
   "cell_type": "code",
   "execution_count": 69,
   "metadata": {
    "scrolled": true
   },
   "outputs": [
    {
     "data": {
      "text/plain": [
       "(0.31542364625692165, 9.412589655236449e-09)"
      ]
     },
     "execution_count": 69,
     "metadata": {},
     "output_type": "execute_result"
    }
   ],
   "source": [
    "stats.pearsonr(true_scores_grouped_v1, model_scores_grouped_v1)"
   ]
  },
  {
   "cell_type": "code",
   "execution_count": 70,
   "metadata": {},
   "outputs": [
    {
     "data": {
      "text/plain": [
       "(0.366718349321275, 1.5872842282297345e-11)"
      ]
     },
     "execution_count": 70,
     "metadata": {},
     "output_type": "execute_result"
    }
   ],
   "source": [
    "stats.pearsonr(true_scores_grouped_v1_lc, model_scores_grouped_v1_lc)"
   ]
  },
  {
   "cell_type": "code",
   "execution_count": 26,
   "metadata": {},
   "outputs": [
    {
     "data": {
      "text/plain": [
       "0.9039566049776643"
      ]
     },
     "execution_count": 26,
     "metadata": {},
     "output_type": "execute_result"
    }
   ],
   "source": [
    "sum(dev_data.data['numOutcome'])/dev_data.data.shape[0]"
   ]
  },
  {
   "cell_type": "code",
   "execution_count": 27,
   "metadata": {},
   "outputs": [
    {
     "data": {
      "text/plain": [
       "0.8862432173635493"
      ]
     },
     "execution_count": 27,
     "metadata": {},
     "output_type": "execute_result"
    }
   ],
   "source": [
    "sum(train_data.data['numOutcome'])/train_data.data.shape[0]"
   ]
  },
  {
   "cell_type": "code",
   "execution_count": null,
   "metadata": {},
   "outputs": [],
   "source": [
    "### Now, just predict listener success directly"
   ]
  },
  {
   "cell_type": "code",
   "execution_count": 146,
   "metadata": {},
   "outputs": [],
   "source": [
    "class PredictSuccess(nn.Module):\n",
    "    def __init__(self, embed_dim, hidden_dim, vocab_size):\n",
    "        super(PredictSuccess, self).__init__()\n",
    "        self.embed = nn.Embedding(vocab_size, embed_dim)\n",
    "        self.lstm = nn.LSTM(embed_dim, hidden_dim, bidirectional=True, batch_first=True)\n",
    "        self.linear = nn.Linear(2*hidden_dim, 1)\n",
    "        \n",
    "    def forward(self, caption):\n",
    "        embeddings = self.embed(caption)\n",
    "        output, (hn, cn) = self.lstm(embeddings)\n",
    "        binary_prediction = self.linear(output[:,-1,:])\n",
    "        return binary_prediction\n",
    "        "
   ]
  },
  {
   "cell_type": "code",
   "execution_count": 608,
   "metadata": {},
   "outputs": [],
   "source": [
    "class PredictSuccessColor(nn.Module):\n",
    "    def __init__(self, embed_dim, hidden_dim, vocab_size, color_in_dim, color_hidden_dim):\n",
    "        super(PredictSuccessColor, self).__init__()\n",
    "        self.color_encoder = ColorEncoder(color_in_dim, color_hidden_dim)\n",
    "        self.embed = nn.Embedding(vocab_size, embed_dim)\n",
    "        self.lstm = nn.LSTM(embed_dim, hidden_dim, bidirectional=True, batch_first=True)\n",
    "        self.linear = nn.Linear(2*hidden_dim + color_hidden_dim, 1)\n",
    "        #self.linear2 = nn.Linear(100, 1)\n",
    "        \n",
    "    def forward(self, caption, colors):\n",
    "        color_embed = self.color_encoder(colors)\n",
    "        embeddings = self.embed(caption)\n",
    "        output, (hn, cn) = self.lstm(embeddings)\n",
    "#         print(\"output shape:\",output[:,-1,:].shape)\n",
    "#         print(\"output unsqueezed shape:\",output[:,-1,:].unsqueeze(0).shape)\n",
    "#         print(\"color embed shape:\",color_embed.shape)\n",
    "        result = torch.cat((output[:,-1,:].unsqueeze(0), color_embed), dim=2)\n",
    "        \n",
    "        binary_prediction = self.linear(result).squeeze(0)\n",
    "        return binary_prediction\n",
    "        "
   ]
  },
  {
   "cell_type": "code",
   "execution_count": 536,
   "metadata": {},
   "outputs": [],
   "source": [
    "class PredictSuccessColor2(nn.Module):\n",
    "    def __init__(self, embed_dim, hidden_dim, vocab_size, color_in_dim, color_hidden_dim):\n",
    "        super(PredictSuccessColor2, self).__init__()\n",
    "        self.color_encoder = ColorEncoder(color_in_dim, color_hidden_dim)\n",
    "        self.embed = nn.Embedding(vocab_size, embed_dim)\n",
    "        self.lstm = nn.LSTM(embed_dim, hidden_dim, bidirectional=True, batch_first=True)\n",
    "        self.linear = nn.Linear(2*hidden_dim + 2*color_hidden_dim, 1)\n",
    "        #self.linear2 = nn.Linear(100, 1)\n",
    "        \n",
    "    def forward(self, caption, colors):\n",
    "        color_embed = self.color_encoder(colors)\n",
    "        embeddings = self.embed(caption)\n",
    "        output, (hn, cn) = self.lstm(embeddings)\n",
    "#         print(\"output shape:\",output[:,-1,:].shape)\n",
    "#         print(\"output unsqueezed shape:\",output[:,-1,:].unsqueeze(0).shape)\n",
    "#         print(\"color embed shape:\",color_embed.shape)\n",
    "        result = torch.cat((output[:,-1,:].unsqueeze(0), color_embed, color_embed), dim=2)\n",
    "        # print(\"color result:\", result.shape)\n",
    "        binary_prediction = self.linear(result).squeeze(0)\n",
    "        return binary_prediction"
   ]
  },
  {
   "cell_type": "code",
   "execution_count": 650,
   "metadata": {},
   "outputs": [],
   "source": [
    "class PredictSuccessColor3(nn.Module):\n",
    "    def __init__(self, embed_dim, hidden_dim, vocab_size, color_in_dim, color_hidden_dim):\n",
    "        super(PredictSuccessColor3, self).__init__()\n",
    "        self.color_encoder = ColorEncoder(color_in_dim, color_hidden_dim)\n",
    "        self.embed = nn.Embedding(vocab_size, embed_dim)\n",
    "        self.lstm = nn.LSTM(embed_dim + color_in_dim, hidden_dim, bidirectional=True, batch_first=True)\n",
    "        self.linear = nn.Linear(2*hidden_dim + color_hidden_dim, 1)\n",
    "        #self.linear2 = nn.Linear(100, 1)\n",
    "        \n",
    "    def forward(self, caption, colors):\n",
    "        color_embed = self.color_encoder(colors)\n",
    "        embeddings = self.embed(caption)\n",
    "        \n",
    "        # repeat target for number of tokens\n",
    "        repeat_target = colors[:,-1,:].repeat(1, caption.shape[1], 1)\n",
    "        #print(repeat_target)\n",
    "        inputs = torch.cat((embeddings, repeat_target), dim=2) # cat along the innermost dimension\n",
    "        \n",
    "        \n",
    "        output, (hn, cn) = self.lstm(inputs)\n",
    "#         print(\"output shape:\",output[:,-1,:].shape)\n",
    "#         print(\"output unsqueezed shape:\",output[:,-1,:].unsqueeze(0).shape)\n",
    "#         print(\"color embed shape:\",color_embed.shape)\n",
    "        result = torch.cat((output[:,-1,:].unsqueeze(0), color_embed), dim=2)\n",
    "        # print(\"color result:\", result.shape)\n",
    "        binary_prediction = self.linear(result).squeeze(0)\n",
    "        return binary_prediction"
   ]
  },
  {
   "cell_type": "code",
   "execution_count": 620,
   "metadata": {},
   "outputs": [],
   "source": [
    "class LiteralListenerPredictSuccess(PytorchModel):\n",
    "    def __init__(self, model, use_color=True, **kwargs):\n",
    "        super(LiteralListenerPredictSuccess, self).__init__(model, **kwargs)\n",
    "        self.use_color = use_color\n",
    "    def train_iter(self, caption_tensor, color_tensor, target, optimizer, criterion):\n",
    "        \"\"\"\n",
    "        Iterates through a single training pair, querying the model, getting a loss and\n",
    "        updating the parameters. (TODO: addd some kind of batching to this).\n",
    "\n",
    "        Very much inspired by the torch NMT example/tutorial thingy\n",
    "        \"\"\"\n",
    "        # start_states = self.model.init_hidden_and_context()\n",
    "        #input_length = caption_tensor.size(0)\n",
    "        optimizer.zero_grad()\n",
    "        loss = 0\n",
    "        \n",
    "        if self.use_color:\n",
    "            # flip order of tensor\n",
    "            color_tensor = np.flip(color_tensor.numpy(), axis=1).copy()\n",
    "            color_tensor = torch.from_numpy(color_tensor)\n",
    "            \n",
    "            model_output = self.model(caption_tensor, color_tensor)\n",
    "        else:\n",
    "            model_output = self.model(caption_tensor)\n",
    "        target = target.view(-1, 1).float() # Binary cross entropy (BCE) loss requires targets to be floats and not longs\n",
    "        \n",
    "        # target should just be a single number\n",
    "        loss += criterion(model_output, target)\n",
    "        loss.backward()\n",
    "        optimizer.step()\n",
    "        \n",
    "        return loss\n",
    "\n",
    "    def predict(self, X):\n",
    "        model_outputs = np.empty([len(X)])\n",
    "        self.model.eval()\n",
    "        with torch.no_grad():\n",
    "            for i, feature in enumerate(X):\n",
    "                caption, colors = feature\n",
    "                caption = torch.tensor([caption], dtype=torch.long)\n",
    "                colors = torch.tensor([colors], dtype=torch.float)\n",
    "                if self.use_color:\n",
    "                    # flip order of tensor\n",
    "                    colors = np.flip(colors.numpy(), axis=1).copy()\n",
    "                    colors = torch.from_numpy(colors)\n",
    "                    model_output_np = self.model(caption, colors).view(-1).numpy()\n",
    "                else:\n",
    "                    model_output_np = self.model(caption).view(-1).numpy()\n",
    "                model_outputs[i] = model_output_np\n",
    "\n",
    "        return np.array(model_outputs)"
   ]
  },
  {
   "cell_type": "code",
   "execution_count": 597,
   "metadata": {
    "scrolled": true
   },
   "outputs": [
    {
     "name": "stdout",
     "output_type": "stream",
     "text": [
      "Initializing featurizers\n",
      "Obtaining training features\n",
      "Initializing model\n"
     ]
    }
   ],
   "source": [
    "print(\"Initializing featurizers\")\n",
    "caption_phi = caption_featurizers.CaptionFeaturizer(tokenizer=caption_featurizers.EndingTokenizer) # Use with parameter files that end in `endings_tkn` - using endings tokenizer to separate endings like \"ish\" and \"er\"\n",
    "# caption_phi = caption_featurizers.CaptionFeaturizer(tokenizer=caption_featurizers.WhitespaceTokenizer) # Use with other paremter files\n",
    "\n",
    "# def flip_color_phi_fourier(color_list, space):\n",
    "#     \"\"\" color_list is a list of three color coordinates \"\"\"\n",
    "#     color_features = color_phi_fourier(color_list, space)\n",
    "#     # reverse color order so target is last - this makes it so the last hidden state of\n",
    "#     # the color encoder LSTM has more recent info about the target color (shouldn't matter but that's what Monroe does)\n",
    "#     # We make a copy so it's compatible with pytorch tensors - pytorch doesn't like backwards np.arrays for some reason\n",
    "#     # print(len(color_features))\n",
    "#     color_features = np.flip(color_features, axis=0).copy()\n",
    "\n",
    "#     return color_features\n",
    "\n",
    "color_phi = ColorFeaturizer(color_phi_fourier, \"hsv\", normalized=True) \n",
    "\n",
    "# Now we have a different target function, because we want to predict what the listener selected\n",
    "def success_target(data_entry):\n",
    "    # color_perm because colors are randomized, but this doesn't really matter\n",
    "    return 1 if data_entry.target_idx == data_entry.click_idx else 0\n",
    "\n",
    "\n",
    "\n",
    "feature_handler_suc = FeatureHandler(train_data, dev_data_synth, caption_phi, color_phi,\n",
    "                                     target_fn=success_target, randomized_colors=False)\n",
    "\n",
    "print(\"Obtaining training features\") # get features even if you're runnning the pretrained model for example\n",
    "train_features = feature_handler_suc.train_features()\n",
    "train_targets = feature_handler_suc.train_targets()\n",
    "\n",
    "print(\"Initializing model\")\n",
    "# model parameters\n",
    "embed_dim = 100; hidden_dim = 100; # hard coded for example - 54 comes from color fourier phi\n"
   ]
  },
  {
   "cell_type": "code",
   "execution_count": 577,
   "metadata": {},
   "outputs": [
    {
     "data": {
      "text/plain": [
       "(162,)"
      ]
     },
     "execution_count": 577,
     "metadata": {},
     "output_type": "execute_result"
    }
   ],
   "source": [
    "color_phi_fourier([train_data[0].colors[0].hsv_norm, train_data[0].colors[1].hsv_norm, train_data[0].colors[2].hsv_norm], \"hsv_norm\").shape\n",
    "\n",
    "#np.flip([[1, 2, 3], [4, 5, 6]], axis=0)"
   ]
  },
  {
   "cell_type": "code",
   "execution_count": 598,
   "metadata": {
    "collapsed": true
   },
   "outputs": [
    {
     "data": {
      "text/plain": [
       "array([[ 1.        , -0.955793  ,  0.82708055, -0.94611347,  0.809068  ,\n",
       "        -0.6004896 ,  0.7902614 , -0.5751473 ,  0.30918208, -0.6946584 ,\n",
       "         0.8754645 , -0.9788674 ,  0.89017326, -0.98479265,  0.99234265,\n",
       "        -0.98975146,  0.9879867 , -0.8988701 , -0.0348995 , -0.2605045 ,\n",
       "         0.53287625, -0.29061916,  0.55912095, -0.77818865,  0.5848169 ,\n",
       "        -0.7974792 ,  0.93963325,  0.        , -0.29404032,  0.56208336,\n",
       "        -0.3238353 ,  0.587715  , -0.79963255,  0.6127699 , -0.8180499 ,\n",
       "         0.9510029 ,  0.7193398 , -0.4832824 ,  0.20449606, -0.45562217,\n",
       "         0.17373364,  0.12351536,  0.14280072,  0.1545389 , -0.43821514,\n",
       "        -0.99939084,  0.96547264, -0.8461932 ,  0.9568388 , -0.8290861 ,\n",
       "         0.6280306 , -0.81116533,  0.6033464 , -0.34218323],\n",
       "       [ 1.        , -0.97922283,  0.91775465, -0.97624546,  0.91202444,\n",
       "        -0.8099048 ,  0.90611047, -0.8014967 ,  0.66357714,  0.22495106,\n",
       "        -0.02268733, -0.18051915, -0.00849321, -0.19446324,  0.38933888,\n",
       "        -0.20836814,  0.40237504, -0.5796615 , -0.89879405,  0.9690157 ,\n",
       "        -0.99897057,  0.9724244 , -0.99951386,  0.98506916, -0.99985576,\n",
       "         0.98252606, -0.9243681 ,  0.        , -0.2027873 ,  0.3971479 ,\n",
       "        -0.21666741,  0.41013584, -0.5865613 ,  0.42304116, -0.5979992 ,\n",
       "         0.74810785,  0.97437006, -0.9997426 ,  0.98357147, -0.99996394,\n",
       "         0.9809098 , -0.9210946 ,  0.9780505 , -0.9154749 ,  0.81485736,\n",
       "         0.43837115, -0.24699901,  0.04536299, -0.23321848,  0.03117754,\n",
       "         0.17215896,  0.01698581,  0.18612514, -0.3815018 ],\n",
       "       [ 1.        , -0.9921147 ,  0.96858317, -0.9914449 ,  0.96726775,\n",
       "        -0.92783624,  0.9659258 , -0.9258706 ,  0.8712138 , -0.37460658,\n",
       "         0.48785967, -0.5934189 ,  0.49242356, -0.59762514,  0.6934018 ,\n",
       "        -0.60181504,  0.69716513, -0.7815205 , -0.7193398 ,  0.6266038 ,\n",
       "        -0.5239859 ,  0.62251467, -0.5195191 ,  0.40833047, -0.5150381 ,\n",
       "         0.4035453 , -0.28568837,  0.        , -0.12533323,  0.24868989,\n",
       "        -0.13052619,  0.25375795, -0.37298778,  0.25881904, -0.3778408 ,\n",
       "         0.49090376,  0.92718387, -0.87292206,  0.8048938 , -0.8703557 ,\n",
       "         0.80177563, -0.72055113,  0.7986355 , -0.7169106 ,  0.6238796 ,\n",
       "        -0.6946584 ,  0.77933794, -0.85172695,  0.78260815, -0.8544588 ,\n",
       "         0.91283417, -0.8571673 ,  0.91495967, -0.9583226 ]],\n",
       "      dtype=float32)"
      ]
     },
     "execution_count": 598,
     "metadata": {},
     "output_type": "execute_result"
    }
   ],
   "source": [
    "train_features[0][1]"
   ]
  },
  {
   "cell_type": "code",
   "execution_count": 582,
   "metadata": {
    "collapsed": true
   },
   "outputs": [
    {
     "data": {
      "text/plain": [
       "array([[-0.3815018 ,  0.18612514,  0.01698581,  0.17215896,  0.03117754,\n",
       "        -0.23321848,  0.04536299, -0.24699901,  0.43837115,  0.81485736,\n",
       "        -0.9154749 ,  0.9780505 , -0.9210946 ,  0.9809098 , -0.99996394,\n",
       "         0.98357147, -0.9997426 ,  0.97437006,  0.74810785, -0.5979992 ,\n",
       "         0.42304116, -0.5865613 ,  0.41013584, -0.21666741,  0.3971479 ,\n",
       "        -0.2027873 ,  0.        , -0.9243681 ,  0.98252606, -0.99985576,\n",
       "         0.98506916, -0.99951386,  0.9724244 , -0.99897057,  0.9690157 ,\n",
       "        -0.89879405, -0.5796615 ,  0.40237504, -0.20836814,  0.38933888,\n",
       "        -0.19446324, -0.00849321, -0.18051915, -0.02268733,  0.22495106,\n",
       "         0.66357714, -0.8014967 ,  0.90611047, -0.8099048 ,  0.91202444,\n",
       "        -0.97624546,  0.91775465, -0.97922283,  1.        ],\n",
       "       [-0.9583226 ,  0.91495967, -0.8571673 ,  0.91283417, -0.8544588 ,\n",
       "         0.78260815, -0.85172695,  0.77933794, -0.6946584 ,  0.6238796 ,\n",
       "        -0.7169106 ,  0.7986355 , -0.72055113,  0.80177563, -0.8703557 ,\n",
       "         0.8048938 , -0.87292206,  0.92718387,  0.49090376, -0.3778408 ,\n",
       "         0.25881904, -0.37298778,  0.25375795, -0.13052619,  0.24868989,\n",
       "        -0.12533323,  0.        , -0.28568837,  0.4035453 , -0.5150381 ,\n",
       "         0.40833047, -0.5195191 ,  0.62251467, -0.5239859 ,  0.6266038 ,\n",
       "        -0.7193398 , -0.7815205 ,  0.69716513, -0.60181504,  0.6934018 ,\n",
       "        -0.59762514,  0.49242356, -0.5934189 ,  0.48785967, -0.37460658,\n",
       "         0.8712138 , -0.9258706 ,  0.9659258 , -0.92783624,  0.96726775,\n",
       "        -0.9914449 ,  0.96858317, -0.9921147 ,  1.        ],\n",
       "       [-0.34218323,  0.6033464 , -0.81116533,  0.6280306 , -0.8290861 ,\n",
       "         0.9568388 , -0.8461932 ,  0.96547264, -0.99939084, -0.43821514,\n",
       "         0.1545389 ,  0.14280072,  0.12351536,  0.17373364, -0.45562217,\n",
       "         0.20449606, -0.4832824 ,  0.7193398 ,  0.9510029 , -0.8180499 ,\n",
       "         0.6127699 , -0.79963255,  0.587715  , -0.3238353 ,  0.56208336,\n",
       "        -0.29404032,  0.        ,  0.93963325, -0.7974792 ,  0.5848169 ,\n",
       "        -0.77818865,  0.55912095, -0.29061916,  0.53287625, -0.2605045 ,\n",
       "        -0.0348995 , -0.8988701 ,  0.9879867 , -0.98975146,  0.99234265,\n",
       "        -0.98479265,  0.89017326, -0.9788674 ,  0.8754645 , -0.6946584 ,\n",
       "         0.30918208, -0.5751473 ,  0.7902614 , -0.6004896 ,  0.809068  ,\n",
       "        -0.94611347,  0.82708055, -0.955793  ,  1.        ]],\n",
       "      dtype=float32)"
      ]
     },
     "execution_count": 582,
     "metadata": {},
     "output_type": "execute_result"
    }
   ],
   "source": [
    "train_features[0][1]"
   ]
  },
  {
   "cell_type": "code",
   "execution_count": 583,
   "metadata": {},
   "outputs": [
    {
     "data": {
      "text/plain": [
       "array([[ 1.        , -0.97922283,  0.91775465, -0.97624546,  0.91202444,\n",
       "        -0.8099048 ,  0.90611047, -0.8014967 ,  0.66357714,  0.22495106,\n",
       "        -0.02268733, -0.18051915, -0.00849321, -0.19446324,  0.38933888,\n",
       "        -0.20836814,  0.40237504, -0.5796615 , -0.89879405,  0.9690157 ,\n",
       "        -0.99897057,  0.9724244 , -0.99951386,  0.98506916, -0.99985576,\n",
       "         0.98252606, -0.9243681 ,  0.        , -0.2027873 ,  0.3971479 ,\n",
       "        -0.21666741,  0.41013584, -0.5865613 ,  0.42304116, -0.5979992 ,\n",
       "         0.74810785,  0.97437006, -0.9997426 ,  0.98357147, -0.99996394,\n",
       "         0.9809098 , -0.9210946 ,  0.9780505 , -0.9154749 ,  0.81485736,\n",
       "         0.43837115, -0.24699901,  0.04536299, -0.23321848,  0.03117754,\n",
       "         0.17215896,  0.01698581,  0.18612514, -0.3815018 ],\n",
       "       [ 1.        , -0.9921147 ,  0.96858317, -0.9914449 ,  0.96726775,\n",
       "        -0.92783624,  0.9659258 , -0.9258706 ,  0.8712138 , -0.37460658,\n",
       "         0.48785967, -0.5934189 ,  0.49242356, -0.59762514,  0.6934018 ,\n",
       "        -0.60181504,  0.69716513, -0.7815205 , -0.7193398 ,  0.6266038 ,\n",
       "        -0.5239859 ,  0.62251467, -0.5195191 ,  0.40833047, -0.5150381 ,\n",
       "         0.4035453 , -0.28568837,  0.        , -0.12533323,  0.24868989,\n",
       "        -0.13052619,  0.25375795, -0.37298778,  0.25881904, -0.3778408 ,\n",
       "         0.49090376,  0.92718387, -0.87292206,  0.8048938 , -0.8703557 ,\n",
       "         0.80177563, -0.72055113,  0.7986355 , -0.7169106 ,  0.6238796 ,\n",
       "        -0.6946584 ,  0.77933794, -0.85172695,  0.78260815, -0.8544588 ,\n",
       "         0.91283417, -0.8571673 ,  0.91495967, -0.9583226 ],\n",
       "       [ 1.        , -0.955793  ,  0.82708055, -0.94611347,  0.809068  ,\n",
       "        -0.6004896 ,  0.7902614 , -0.5751473 ,  0.30918208, -0.6946584 ,\n",
       "         0.8754645 , -0.9788674 ,  0.89017326, -0.98479265,  0.99234265,\n",
       "        -0.98975146,  0.9879867 , -0.8988701 , -0.0348995 , -0.2605045 ,\n",
       "         0.53287625, -0.29061916,  0.55912095, -0.77818865,  0.5848169 ,\n",
       "        -0.7974792 ,  0.93963325,  0.        , -0.29404032,  0.56208336,\n",
       "        -0.3238353 ,  0.587715  , -0.79963255,  0.6127699 , -0.8180499 ,\n",
       "         0.9510029 ,  0.7193398 , -0.4832824 ,  0.20449606, -0.45562217,\n",
       "         0.17373364,  0.12351536,  0.14280072,  0.1545389 , -0.43821514,\n",
       "        -0.99939084,  0.96547264, -0.8461932 ,  0.9568388 , -0.8290861 ,\n",
       "         0.6280306 , -0.81116533,  0.6033464 , -0.34218323]],\n",
       "      dtype=float32)"
      ]
     },
     "execution_count": 583,
     "metadata": {},
     "output_type": "execute_result"
    }
   ],
   "source": [
    "np.flip(train_features[0][1], axis=1)"
   ]
  },
  {
   "cell_type": "code",
   "execution_count": 570,
   "metadata": {},
   "outputs": [
    {
     "data": {
      "text/plain": [
       "[0.6277777777777778, 0.8950276243093923, 0.905]"
      ]
     },
     "execution_count": 570,
     "metadata": {},
     "output_type": "execute_result"
    }
   ],
   "source": [
    "train_data[0].colors[0].hsv_norm"
   ]
  },
  {
   "cell_type": "code",
   "execution_count": 595,
   "metadata": {},
   "outputs": [
    {
     "data": {
      "text/plain": [
       "array([ 1.        , -0.955793  ,  0.82708055, -0.94611347,  0.809068  ,\n",
       "       -0.6004896 ,  0.7902614 , -0.5751473 ,  0.30918208, -0.6946584 ,\n",
       "        0.8754645 , -0.9788674 ,  0.89017326, -0.98479265,  0.99234265,\n",
       "       -0.98975146,  0.9879867 , -0.8988701 , -0.0348995 , -0.2605045 ,\n",
       "        0.53287625, -0.29061916,  0.55912095, -0.77818865,  0.5848169 ,\n",
       "       -0.7974792 ,  0.93963325,  0.        , -0.29404032,  0.56208336,\n",
       "       -0.3238353 ,  0.587715  , -0.79963255,  0.6127699 , -0.8180499 ,\n",
       "        0.9510029 ,  0.7193398 , -0.4832824 ,  0.20449606, -0.45562217,\n",
       "        0.17373364,  0.12351536,  0.14280072,  0.1545389 , -0.43821514,\n",
       "       -0.99939084,  0.96547264, -0.8461932 ,  0.9568388 , -0.8290861 ,\n",
       "        0.6280306 , -0.81116533,  0.6033464 , -0.34218323], dtype=float32)"
      ]
     },
     "execution_count": 595,
     "metadata": {},
     "output_type": "execute_result"
    }
   ],
   "source": [
    "color_phi_fourier(train_data[0].colors[0].hsv_norm, space=\"hsv_norm\")"
   ]
  },
  {
   "cell_type": "code",
   "execution_count": 100,
   "metadata": {},
   "outputs": [
    {
     "data": {
      "text/plain": [
       "array([0, 1, 0, 0, 1, 1, 1, 1, 1, 1])"
      ]
     },
     "execution_count": 100,
     "metadata": {},
     "output_type": "execute_result"
    }
   ],
   "source": [
    "train_targets[:10]"
   ]
  },
  {
   "cell_type": "code",
   "execution_count": 367,
   "metadata": {},
   "outputs": [],
   "source": [
    "train = True\n",
    "model_file_suc = \"../model/literal_listener_predict_success_5epoch_endings_tkn.params\"\n",
    "\n",
    "model_suc = LiteralListenerPredictSuccess(PredictSuccess, num_epochs=5, criterion=nn.BCEWithLogitsLoss)\n",
    "model_suc.init_model(embed_dim = embed_dim, hidden_dim = hidden_dim, vocab_size = feature_handler.caption_featurizer.caption_indexer.size)\n",
    "\n"
   ]
  },
  {
   "cell_type": "code",
   "execution_count": 180,
   "metadata": {},
   "outputs": [
    {
     "name": "stdout",
     "output_type": "stream",
     "text": [
      "Loading pretrained model\n"
     ]
    }
   ],
   "source": [
    "if train:\n",
    "    print(\"Training model and saving to {}:\".format(model_file_suc))\n",
    "    model_suc.fit(train_features, train_targets)\n",
    "    model_suc.save_model(model_file_suc)\n",
    "else:\n",
    "    print(\"Loading pretrained model\")\n",
    "    model_suc.load_model(model_file_suc)"
   ]
  },
  {
   "cell_type": "code",
   "execution_count": 182,
   "metadata": {},
   "outputs": [
    {
     "name": "stdout",
     "output_type": "stream",
     "text": [
      "(0.13363771105940872, 0.017282585927812903)\n"
     ]
    }
   ],
   "source": [
    "output_to_score_suc = lambda model_outputs, targets: stats.logistic.cdf(model_outputs) # get the model's predicted probablity at each target index and use that as the score\n",
    "\n",
    "x = evaluate_model(dev_data, feature_handler, model_suc, output_to_score_suc, score_model, accuracy=False)"
   ]
  },
  {
   "cell_type": "code",
   "execution_count": 185,
   "metadata": {},
   "outputs": [
    {
     "data": {
      "text/plain": [
       "(0.13363771105940872, 0.017282585927812903)"
      ]
     },
     "execution_count": 185,
     "metadata": {},
     "output_type": "execute_result"
    }
   ],
   "source": [
    "x"
   ]
  },
  {
   "cell_type": "code",
   "execution_count": 194,
   "metadata": {},
   "outputs": [
    {
     "name": "stdout",
     "output_type": "stream",
     "text": [
      "(0.13363771105940872, 0.017282585927812903)\n"
     ]
    }
   ],
   "source": [
    "assess_targets_tgt_suc, model_outputs_suc, model_scores_suc, true_scores_grouped_suc, model_scores_grouped_suc =\\\n",
    "    evaluate_model(dev_data, feature_handler, model_suc, output_to_score_suc, score_model, accuracy=False)"
   ]
  },
  {
   "cell_type": "code",
   "execution_count": 200,
   "metadata": {},
   "outputs": [],
   "source": [
    "preds = [1 if s > 0.5 else 0 for s in model_scores_suc]"
   ]
  },
  {
   "cell_type": "code",
   "execution_count": 208,
   "metadata": {},
   "outputs": [],
   "source": [
    "acc = [preds[i] == assess_targets_tgt_suc[i] for i in range(len(model_scores_suc))]"
   ]
  },
  {
   "cell_type": "code",
   "execution_count": 210,
   "metadata": {},
   "outputs": [
    {
     "data": {
      "text/plain": [
       "0.9015954052329291"
      ]
     },
     "execution_count": 210,
     "metadata": {},
     "output_type": "execute_result"
    }
   ],
   "source": [
    "sum(acc)/len(acc)"
   ]
  },
  {
   "cell_type": "code",
   "execution_count": 207,
   "metadata": {},
   "outputs": [
    {
     "data": {
      "text/plain": [
       "0.9039566049776643"
      ]
     },
     "execution_count": 207,
     "metadata": {},
     "output_type": "execute_result"
    }
   ],
   "source": [
    "sum(assess_targets_tgt_suc)/len(assess_targets_tgt_suc)"
   ]
  },
  {
   "cell_type": "code",
   "execution_count": 214,
   "metadata": {},
   "outputs": [],
   "source": [
    "import sklearn.metrics as metrics"
   ]
  },
  {
   "cell_type": "code",
   "execution_count": 217,
   "metadata": {},
   "outputs": [
    {
     "data": {
      "text/plain": [
       "0.4805104508316729"
      ]
     },
     "execution_count": 217,
     "metadata": {},
     "output_type": "execute_result"
    }
   ],
   "source": [
    "metrics.f1_score(assess_targets_tgt_suc, preds, average='macro')"
   ]
  },
  {
   "cell_type": "code",
   "execution_count": 216,
   "metadata": {},
   "outputs": [
    {
     "data": {
      "text/plain": [
       "array([[   10,  1495],\n",
       "       [   47, 14118]])"
      ]
     },
     "execution_count": 216,
     "metadata": {},
     "output_type": "execute_result"
    }
   ],
   "source": [
    "metrics.confusion_matrix(assess_targets_tgt_suc, preds)"
   ]
  },
  {
   "cell_type": "code",
   "execution_count": 198,
   "metadata": {},
   "outputs": [
    {
     "data": {
      "text/plain": [
       "(array([  1.,   0.,   0.,   0.,   0.,   0.,   1.,   0.,   1.,   2.,  11.,\n",
       "         16.,  61., 162.,  62.]),\n",
       " array([0.64217655, 0.66322984, 0.68428313, 0.70533642, 0.72638971,\n",
       "        0.74744299, 0.76849628, 0.78954957, 0.81060286, 0.83165615,\n",
       "        0.85270944, 0.87376273, 0.89481601, 0.9158693 , 0.93692259,\n",
       "        0.95797588]),\n",
       " <a list of 15 Patch objects>)"
      ]
     },
     "execution_count": 198,
     "metadata": {},
     "output_type": "execute_result"
    },
    {
     "data": {
      "image/png": "[encoded data removed]",
      "text/plain": [
       "<Figure size 432x288 with 1 Axes>"
      ]
     },
     "metadata": {},
     "output_type": "display_data"
    }
   ],
   "source": [
    "plt.hist(model_scores_grouped_suc, 15)"
   ]
  },
  {
   "cell_type": "code",
   "execution_count": 171,
   "metadata": {},
   "outputs": [
    {
     "data": {
      "text/plain": [
       "0.9933071490757153"
      ]
     },
     "execution_count": 171,
     "metadata": {},
     "output_type": "execute_result"
    }
   ],
   "source": [
    "output_to_score_suc(5, None)"
   ]
  },
  {
   "cell_type": "code",
   "execution_count": 131,
   "metadata": {},
   "outputs": [
    {
     "data": {
      "text/plain": [
       "tensor([[0]])"
      ]
     },
     "execution_count": 131,
     "metadata": {},
     "output_type": "execute_result"
    }
   ],
   "source": [
    "torch.tensor(0).unsqueeze(0).unsqueeze(0)"
   ]
  },
  {
   "cell_type": "code",
   "execution_count": 135,
   "metadata": {},
   "outputs": [
    {
     "data": {
      "text/plain": [
       "tensor([[0]])"
      ]
     },
     "execution_count": 135,
     "metadata": {},
     "output_type": "execute_result"
    }
   ],
   "source": [
    "torch.tensor(0).view(1, 1)"
   ]
  },
  {
   "cell_type": "code",
   "execution_count": 220,
   "metadata": {},
   "outputs": [],
   "source": [
    "wrong_train = list(filter(lambda de: de.target_idx != de.click_idx, train_data.entries))"
   ]
  },
  {
   "cell_type": "code",
   "execution_count": 226,
   "metadata": {},
   "outputs": [],
   "source": [
    "correct_train_sample = list(filter(lambda de: de.target_idx == de.click_idx, train_data.entries))[:len(wrong_train)]"
   ]
  },
  {
   "cell_type": "code",
   "execution_count": 227,
   "metadata": {},
   "outputs": [
    {
     "data": {
      "text/plain": [
       "1782"
      ]
     },
     "execution_count": 227,
     "metadata": {},
     "output_type": "execute_result"
    }
   ],
   "source": [
    "len(correct_train_sample)"
   ]
  },
  {
   "cell_type": "code",
   "execution_count": 225,
   "metadata": {},
   "outputs": [
    {
     "data": {
      "text/plain": [
       "1782.0"
      ]
     },
     "execution_count": 225,
     "metadata": {},
     "output_type": "execute_result"
    }
   ],
   "source": [
    "len(train_data.data) - sum(train_data.data.numOutcome)"
   ]
  },
  {
   "cell_type": "code",
   "execution_count": 621,
   "metadata": {},
   "outputs": [],
   "source": [
    "train = False\n",
    "model_file_suc_col = \"../model/literal_listener_predict_success_flipped_colors_5epoch_endings_tkn_v2.params\"\n",
    "\n",
    "model_suc_col = LiteralListenerPredictSuccess(PredictSuccessColor, num_epochs=5, criterion=nn.BCEWithLogitsLoss,\n",
    "                                              optimizer=torch.optim.Adam, lr=0.004)\n",
    "model_suc_col.init_model(embed_dim = embed_dim, hidden_dim = hidden_dim, \n",
    "                     vocab_size = feature_handler_suc.caption_featurizer.caption_indexer.size,\n",
    "                     color_in_dim = 54, color_hidden_dim=100)\n"
   ]
  },
  {
   "cell_type": "code",
   "execution_count": 622,
   "metadata": {
    "scrolled": true
   },
   "outputs": [
    {
     "name": "stdout",
     "output_type": "stream",
     "text": [
      "Loading pretrained model\n"
     ]
    }
   ],
   "source": [
    "if train:\n",
    "    print(\"Training model and saving to {}:\".format(model_file_suc_col))\n",
    "    model_suc_col.fit(train_features, train_targets)\n",
    "    model_suc_col.save_model(model_file_suc_col)\n",
    "else:\n",
    "    print(\"Loading pretrained model\")\n",
    "    model_suc_col.load_model(model_file_suc_col)"
   ]
  },
  {
   "cell_type": "code",
   "execution_count": 561,
   "metadata": {
    "collapsed": true
   },
   "outputs": [
    {
     "data": {
      "text/plain": [
       "array([ 1.        , -0.955793  ,  0.82708055, -0.94611347,  0.809068  ,\n",
       "       -0.6004896 ,  0.7902614 , -0.5751473 ,  0.30918208, -0.6946584 ,\n",
       "        0.8754645 , -0.9788674 ,  0.89017326, -0.98479265,  0.99234265,\n",
       "       -0.98975146,  0.9879867 , -0.8988701 , -0.0348995 , -0.2605045 ,\n",
       "        0.53287625, -0.29061916,  0.55912095, -0.77818865,  0.5848169 ,\n",
       "       -0.7974792 ,  0.93963325,  0.        , -0.29404032,  0.56208336,\n",
       "       -0.3238353 ,  0.587715  , -0.79963255,  0.6127699 , -0.8180499 ,\n",
       "        0.9510029 ,  0.7193398 , -0.4832824 ,  0.20449606, -0.45562217,\n",
       "        0.17373364,  0.12351536,  0.14280072,  0.1545389 , -0.43821514,\n",
       "       -0.99939084,  0.96547264, -0.8461932 ,  0.9568388 , -0.8290861 ,\n",
       "        0.6280306 , -0.81116533,  0.6033464 , -0.34218323], dtype=float32)"
      ]
     },
     "execution_count": 561,
     "metadata": {},
     "output_type": "execute_result"
    }
   ],
   "source": [
    "color_phi_fourier(train_data[0].colors[0].hsv_norm, space=\"hsv_norm\")"
   ]
  },
  {
   "cell_type": "code",
   "execution_count": 557,
   "metadata": {
    "collapsed": true
   },
   "outputs": [
    {
     "data": {
      "text/plain": [
       "array([[-0.3815018 ,  0.18612514,  0.01698581,  0.17215896,  0.03117754,\n",
       "        -0.23321848,  0.04536299, -0.24699901,  0.43837115,  0.81485736,\n",
       "        -0.9154749 ,  0.9780505 , -0.9210946 ,  0.9809098 , -0.99996394,\n",
       "         0.98357147, -0.9997426 ,  0.97437006,  0.74810785, -0.5979992 ,\n",
       "         0.42304116, -0.5865613 ,  0.41013584, -0.21666741,  0.3971479 ,\n",
       "        -0.2027873 ,  0.        , -0.9243681 ,  0.98252606, -0.99985576,\n",
       "         0.98506916, -0.99951386,  0.9724244 , -0.99897057,  0.9690157 ,\n",
       "        -0.89879405, -0.5796615 ,  0.40237504, -0.20836814,  0.38933888,\n",
       "        -0.19446324, -0.00849321, -0.18051915, -0.02268733,  0.22495106,\n",
       "         0.66357714, -0.8014967 ,  0.90611047, -0.8099048 ,  0.91202444,\n",
       "        -0.97624546,  0.91775465, -0.97922283,  1.        ],\n",
       "       [-0.9583226 ,  0.91495967, -0.8571673 ,  0.91283417, -0.8544588 ,\n",
       "         0.78260815, -0.85172695,  0.77933794, -0.6946584 ,  0.6238796 ,\n",
       "        -0.7169106 ,  0.7986355 , -0.72055113,  0.80177563, -0.8703557 ,\n",
       "         0.8048938 , -0.87292206,  0.92718387,  0.49090376, -0.3778408 ,\n",
       "         0.25881904, -0.37298778,  0.25375795, -0.13052619,  0.24868989,\n",
       "        -0.12533323,  0.        , -0.28568837,  0.4035453 , -0.5150381 ,\n",
       "         0.40833047, -0.5195191 ,  0.62251467, -0.5239859 ,  0.6266038 ,\n",
       "        -0.7193398 , -0.7815205 ,  0.69716513, -0.60181504,  0.6934018 ,\n",
       "        -0.59762514,  0.49242356, -0.5934189 ,  0.48785967, -0.37460658,\n",
       "         0.8712138 , -0.9258706 ,  0.9659258 , -0.92783624,  0.96726775,\n",
       "        -0.9914449 ,  0.96858317, -0.9921147 ,  1.        ],\n",
       "       [-0.34218323,  0.6033464 , -0.81116533,  0.6280306 , -0.8290861 ,\n",
       "         0.9568388 , -0.8461932 ,  0.96547264, -0.99939084, -0.43821514,\n",
       "         0.1545389 ,  0.14280072,  0.12351536,  0.17373364, -0.45562217,\n",
       "         0.20449606, -0.4832824 ,  0.7193398 ,  0.9510029 , -0.8180499 ,\n",
       "         0.6127699 , -0.79963255,  0.587715  , -0.3238353 ,  0.56208336,\n",
       "        -0.29404032,  0.        ,  0.93963325, -0.7974792 ,  0.5848169 ,\n",
       "        -0.77818865,  0.55912095, -0.29061916,  0.53287625, -0.2605045 ,\n",
       "        -0.0348995 , -0.8988701 ,  0.9879867 , -0.98975146,  0.99234265,\n",
       "        -0.98479265,  0.89017326, -0.9788674 ,  0.8754645 , -0.6946584 ,\n",
       "         0.30918208, -0.5751473 ,  0.7902614 , -0.6004896 ,  0.809068  ,\n",
       "        -0.94611347,  0.82708055, -0.955793  ,  1.        ]],\n",
       "      dtype=float32)"
      ]
     },
     "execution_count": 557,
     "metadata": {},
     "output_type": "execute_result"
    }
   ],
   "source": [
    "train_features[0][1]"
   ]
  },
  {
   "cell_type": "code",
   "execution_count": 436,
   "metadata": {
    "collapsed": true
   },
   "outputs": [
    {
     "name": "stdout",
     "output_type": "stream",
     "text": [
      "Training model and saving to ../model/literal_listener_predict_success_colors_30epoch_endings_tkn.params:\n",
      "---EPOCH 0---\n",
      "0m 0s (0:0 0.00%) 0.0007\n",
      "0m 8s (0:1000 3.60%) 0.6873\n",
      "0m 16s (0:2000 7.20%) 0.6647\n",
      "0m 24s (0:3000 10.80%) 0.6611\n",
      "0m 33s (0:4000 14.41%) 0.6599\n",
      "0m 41s (0:5000 18.01%) 0.6490\n",
      "0m 49s (0:6000 21.61%) 0.6596\n",
      "0m 57s (0:7000 25.21%) 0.6434\n",
      "1m 6s (0:8000 28.81%) 0.6400\n",
      "1m 14s (0:9000 32.41%) 0.6483\n",
      "1m 22s (0:10000 36.02%) 0.6207\n",
      "1m 30s (0:11000 39.62%) 0.6268\n",
      "1m 39s (0:12000 43.22%) 0.6259\n",
      "1m 47s (0:13000 46.82%) 0.6204\n",
      "1m 56s (0:14000 50.42%) 0.6232\n",
      "2m 4s (0:15000 54.02%) 0.6236\n",
      "2m 13s (0:16000 57.62%) 0.6091\n",
      "2m 22s (0:17000 61.23%) 0.6131\n",
      "2m 30s (0:18000 64.83%) 0.5998\n",
      "2m 39s (0:19000 68.43%) 0.6188\n",
      "2m 48s (0:20000 72.03%) 0.5924\n",
      "2m 56s (0:21000 75.63%) 0.6140\n",
      "3m 5s (0:22000 79.23%) 0.6027\n",
      "3m 13s (0:23000 82.84%) 0.5912\n",
      "3m 22s (0:24000 86.44%) 0.5993\n",
      "3m 31s (0:25000 90.04%) 0.5881\n",
      "3m 39s (0:26000 93.64%) 0.5986\n",
      "3m 48s (0:27000 97.24%) 0.5893\n",
      "---EPOCH 1---\n",
      "3m 54s (1:0 0.00%) 0.0003\n",
      "4m 3s (1:1000 3.60%) 0.5647\n",
      "4m 12s (1:2000 7.20%) 0.5590\n",
      "4m 20s (1:3000 10.80%) 0.5783\n",
      "4m 29s (1:4000 14.41%) 0.5892\n",
      "4m 37s (1:5000 18.01%) 0.5845\n",
      "4m 46s (1:6000 21.61%) 0.5823\n",
      "4m 55s (1:7000 25.21%) 0.5818\n",
      "5m 3s (1:8000 28.81%) 0.5707\n",
      "5m 12s (1:9000 32.41%) 0.5656\n",
      "5m 20s (1:10000 36.02%) 0.5602\n",
      "5m 29s (1:11000 39.62%) 0.5575\n",
      "5m 38s (1:12000 43.22%) 0.5626\n",
      "5m 46s (1:13000 46.82%) 0.5619\n",
      "5m 55s (1:14000 50.42%) 0.5567\n",
      "6m 4s (1:15000 54.02%) 0.5431\n",
      "6m 12s (1:16000 57.62%) 0.5318\n",
      "6m 22s (1:17000 61.23%) 0.5362\n",
      "6m 32s (1:18000 64.83%) 0.5322\n",
      "6m 40s (1:19000 68.43%) 0.5562\n",
      "6m 49s (1:20000 72.03%) 0.5090\n",
      "6m 58s (1:21000 75.63%) 0.5532\n",
      "7m 6s (1:22000 79.23%) 0.5377\n",
      "7m 15s (1:23000 82.84%) 0.5196\n",
      "7m 23s (1:24000 86.44%) 0.5370\n",
      "7m 32s (1:25000 90.04%) 0.5086\n",
      "7m 40s (1:26000 93.64%) 0.5226\n",
      "7m 49s (1:27000 97.24%) 0.5442\n",
      "---EPOCH 2---\n",
      "7m 55s (2:0 0.00%) 0.0001\n",
      "8m 4s (2:1000 3.60%) 0.4866\n",
      "8m 12s (2:2000 7.20%) 0.4805\n",
      "8m 21s (2:3000 10.80%) 0.4975\n",
      "8m 29s (2:4000 14.41%) 0.5281\n",
      "8m 38s (2:5000 18.01%) 0.5236\n",
      "8m 46s (2:6000 21.61%) 0.5080\n",
      "8m 55s (2:7000 25.21%) 0.4867\n",
      "9m 3s (2:8000 28.81%) 0.4947\n",
      "9m 12s (2:9000 32.41%) 0.4761\n",
      "9m 20s (2:10000 36.02%) 0.4896\n",
      "9m 29s (2:11000 39.62%) 0.4787\n",
      "9m 37s (2:12000 43.22%) 0.4921\n",
      "9m 46s (2:13000 46.82%) 0.4852\n",
      "9m 54s (2:14000 50.42%) 0.4859\n",
      "10m 3s (2:15000 54.02%) 0.4756\n",
      "10m 11s (2:16000 57.62%) 0.4401\n",
      "10m 20s (2:17000 61.23%) 0.4502\n",
      "10m 28s (2:18000 64.83%) 0.4416\n",
      "10m 37s (2:19000 68.43%) 0.4944\n",
      "10m 45s (2:20000 72.03%) 0.4443\n",
      "10m 54s (2:21000 75.63%) 0.4858\n",
      "11m 2s (2:22000 79.23%) 0.4771\n",
      "11m 11s (2:23000 82.84%) 0.4443\n",
      "11m 19s (2:24000 86.44%) 0.4696\n",
      "11m 28s (2:25000 90.04%) 0.4439\n",
      "11m 36s (2:26000 93.64%) 0.4551\n",
      "11m 45s (2:27000 97.24%) 0.4893\n",
      "---EPOCH 3---\n",
      "11m 51s (3:0 0.00%) 0.0001\n",
      "12m 0s (3:1000 3.60%) 0.4138\n",
      "12m 8s (3:2000 7.20%) 0.4275\n",
      "12m 17s (3:3000 10.80%) 0.4399\n",
      "12m 25s (3:4000 14.41%) 0.4868\n",
      "12m 34s (3:5000 18.01%) 0.4611\n",
      "12m 42s (3:6000 21.61%) 0.4506\n",
      "12m 51s (3:7000 25.21%) 0.4285\n",
      "12m 59s (3:8000 28.81%) 0.4319\n",
      "13m 8s (3:9000 32.41%) 0.4237\n",
      "13m 16s (3:10000 36.02%) 0.4373\n",
      "13m 25s (3:11000 39.62%) 0.4335\n",
      "13m 33s (3:12000 43.22%) 0.4523\n",
      "13m 42s (3:13000 46.82%) 0.4451\n",
      "13m 51s (3:14000 50.42%) 0.4391\n",
      "13m 59s (3:15000 54.02%) 0.4340\n",
      "14m 8s (3:16000 57.62%) 0.3775\n",
      "14m 16s (3:17000 61.23%) 0.4005\n",
      "14m 25s (3:18000 64.83%) 0.3913\n",
      "14m 33s (3:19000 68.43%) 0.4510\n",
      "14m 42s (3:20000 72.03%) 0.3910\n",
      "14m 51s (3:21000 75.63%) 0.4472\n",
      "14m 59s (3:22000 79.23%) 0.4328\n",
      "15m 7s (3:23000 82.84%) 0.4080\n",
      "15m 16s (3:24000 86.44%) 0.4353\n",
      "15m 24s (3:25000 90.04%) 0.3972\n",
      "15m 33s (3:26000 93.64%) 0.4087\n",
      "15m 41s (3:27000 97.24%) 0.4554\n",
      "---EPOCH 4---\n",
      "15m 48s (4:0 0.00%) 0.0002\n",
      "15m 57s (4:1000 3.60%) 0.3808\n",
      "16m 5s (4:2000 7.20%) 0.4004\n",
      "16m 14s (4:3000 10.80%) 0.4045\n",
      "16m 22s (4:4000 14.41%) 0.4521\n",
      "16m 31s (4:5000 18.01%) 0.4360\n",
      "16m 42s (4:6000 21.61%) 0.4115\n",
      "16m 52s (4:7000 25.21%) 0.3998\n",
      "17m 3s (4:8000 28.81%) 0.4014\n",
      "17m 12s (4:9000 32.41%) 0.3802\n",
      "17m 20s (4:10000 36.02%) 0.4048\n",
      "17m 29s (4:11000 39.62%) 0.4054\n",
      "17m 38s (4:12000 43.22%) 0.4247\n",
      "17m 47s (4:13000 46.82%) 0.4113\n",
      "17m 55s (4:14000 50.42%) 0.4162\n",
      "18m 4s (4:15000 54.02%) 0.4018\n",
      "18m 13s (4:16000 57.62%) 0.3541\n",
      "18m 21s (4:17000 61.23%) 0.3671\n",
      "18m 30s (4:18000 64.83%) 0.3657\n",
      "18m 39s (4:19000 68.43%) 0.4209\n",
      "18m 47s (4:20000 72.03%) 0.3709\n",
      "18m 56s (4:21000 75.63%) 0.4030\n",
      "19m 5s (4:22000 79.23%) 0.4098\n",
      "19m 14s (4:23000 82.84%) 0.3887\n",
      "19m 22s (4:24000 86.44%) 0.4229\n",
      "19m 31s (4:25000 90.04%) 0.3675\n",
      "19m 40s (4:26000 93.64%) 0.3916\n",
      "19m 48s (4:27000 97.24%) 0.4291\n",
      "---EPOCH 5---\n",
      "19m 55s (5:0 0.00%) 0.0005\n",
      "20m 4s (5:1000 3.60%) 0.3663\n",
      "20m 12s (5:2000 7.20%) 0.3761\n",
      "20m 21s (5:3000 10.80%) 0.3779\n",
      "20m 30s (5:4000 14.41%) 0.4325\n",
      "20m 38s (5:5000 18.01%) 0.4091\n",
      "20m 47s (5:6000 21.61%) 0.3837\n",
      "20m 56s (5:7000 25.21%) 0.3827\n",
      "21m 4s (5:8000 28.81%) 0.3844\n",
      "21m 13s (5:9000 32.41%) 0.3627\n",
      "21m 21s (5:10000 36.02%) 0.3829\n",
      "21m 30s (5:11000 39.62%) 0.3872\n",
      "21m 39s (5:12000 43.22%) 0.3992\n",
      "21m 48s (5:13000 46.82%) 0.3924\n",
      "21m 56s (5:14000 50.42%) 0.4119\n",
      "22m 5s (5:15000 54.02%) 0.3750\n",
      "22m 14s (5:16000 57.62%) 0.3368\n",
      "22m 23s (5:17000 61.23%) 0.3462\n",
      "22m 31s (5:18000 64.83%) 0.3438\n",
      "22m 40s (5:19000 68.43%) 0.3952\n",
      "22m 48s (5:20000 72.03%) 0.3477\n",
      "22m 57s (5:21000 75.63%) 0.3666\n",
      "23m 5s (5:22000 79.23%) 0.3843\n",
      "23m 14s (5:23000 82.84%) 0.3616\n",
      "23m 22s (5:24000 86.44%) 0.4186\n",
      "23m 31s (5:25000 90.04%) 0.3471\n",
      "23m 40s (5:26000 93.64%) 0.3548\n",
      "40m 50s (5:27000 97.24%) 0.4093\n",
      "---EPOCH 6---\n",
      "40m 58s (6:0 0.00%) 0.0011\n",
      "41m 7s (6:1000 3.60%) 0.3550\n",
      "41m 17s (6:2000 7.20%) 0.3509\n",
      "41m 28s (6:3000 10.80%) 0.3670\n",
      "41m 38s (6:4000 14.41%) 0.4152\n",
      "41m 48s (6:5000 18.01%) 0.4096\n",
      "41m 57s (6:6000 21.61%) 0.3635\n",
      "42m 8s (6:7000 25.21%) 0.3671\n",
      "42m 16s (6:8000 28.81%) 0.3687\n",
      "42m 26s (6:9000 32.41%) 0.3465\n",
      "42m 36s (6:10000 36.02%) 0.3954\n",
      "42m 45s (6:11000 39.62%) 0.3690\n",
      "42m 55s (6:12000 43.22%) 0.3958\n",
      "43m 4s (6:13000 46.82%) 0.3838\n",
      "43m 14s (6:14000 50.42%) 0.3898\n",
      "43m 24s (6:15000 54.02%) 0.3601\n",
      "43m 34s (6:16000 57.62%) 0.3330\n",
      "43m 43s (6:17000 61.23%) 0.3357\n",
      "43m 53s (6:18000 64.83%) 0.3228\n",
      "44m 3s (6:19000 68.43%) 0.3760\n",
      "44m 13s (6:20000 72.03%) 0.3291\n",
      "44m 22s (6:21000 75.63%) 0.3607\n",
      "44m 31s (6:22000 79.23%) 0.3721\n",
      "44m 39s (6:23000 82.84%) 0.3454\n",
      "44m 48s (6:24000 86.44%) 0.4060\n",
      "44m 57s (6:25000 90.04%) 0.3315\n",
      "45m 5s (6:26000 93.64%) 0.3459\n",
      "45m 14s (6:27000 97.24%) 0.4006\n",
      "---EPOCH 7---\n",
      "45m 21s (7:0 0.00%) 0.0009\n",
      "45m 29s (7:1000 3.60%) 0.3421\n",
      "45m 38s (7:2000 7.20%) 0.3443\n",
      "45m 47s (7:3000 10.80%) 0.3507\n",
      "45m 55s (7:4000 14.41%) 0.3985\n",
      "46m 4s (7:5000 18.01%) 0.3873\n",
      "46m 12s (7:6000 21.61%) 0.3453\n",
      "46m 21s (7:7000 25.21%) 0.3585\n",
      "46m 30s (7:8000 28.81%) 0.3628\n",
      "46m 39s (7:9000 32.41%) 0.3360\n",
      "46m 47s (7:10000 36.02%) 0.3848\n",
      "46m 56s (7:11000 39.62%) 0.3611\n",
      "47m 5s (7:12000 43.22%) 0.3898\n",
      "47m 14s (7:13000 46.82%) 0.3737\n",
      "47m 23s (7:14000 50.42%) 0.3757\n",
      "47m 32s (7:15000 54.02%) 0.3551\n",
      "47m 40s (7:16000 57.62%) 0.3162\n",
      "47m 49s (7:17000 61.23%) 0.3328\n",
      "47m 57s (7:18000 64.83%) 0.3103\n",
      "48m 6s (7:19000 68.43%) 0.3582\n",
      "48m 15s (7:20000 72.03%) 0.3245\n",
      "48m 24s (7:21000 75.63%) 0.3435\n",
      "48m 32s (7:22000 79.23%) 0.3614\n",
      "48m 41s (7:23000 82.84%) 0.3185\n",
      "48m 49s (7:24000 86.44%) 0.3973\n",
      "48m 59s (7:25000 90.04%) 0.3204\n",
      "49m 8s (7:26000 93.64%) 0.3465\n",
      "49m 16s (7:27000 97.24%) 0.3953\n",
      "---EPOCH 8---\n",
      "49m 23s (8:0 0.00%) 0.0010\n",
      "49m 32s (8:1000 3.60%) 0.3264\n",
      "49m 42s (8:2000 7.20%) 0.3288\n",
      "49m 51s (8:3000 10.80%) 0.3527\n",
      "50m 0s (8:4000 14.41%) 0.3855\n",
      "50m 8s (8:5000 18.01%) 0.3741\n",
      "50m 17s (8:6000 21.61%) 0.3274\n",
      "50m 26s (8:7000 25.21%) 0.3484\n",
      "50m 34s (8:8000 28.81%) 0.3533\n",
      "50m 44s (8:9000 32.41%) 0.3295\n",
      "50m 52s (8:10000 36.02%) 0.3772\n",
      "51m 1s (8:11000 39.62%) 0.3493\n",
      "51m 10s (8:12000 43.22%) 0.3815\n",
      "51m 19s (8:13000 46.82%) 0.3716\n",
      "51m 28s (8:14000 50.42%) 0.3632\n",
      "51m 37s (8:15000 54.02%) 0.3441\n",
      "51m 46s (8:16000 57.62%) 0.3231\n",
      "51m 55s (8:17000 61.23%) 0.3175\n",
      "52m 4s (8:18000 64.83%) 0.3101\n",
      "52m 13s (8:19000 68.43%) 0.3468\n",
      "52m 22s (8:20000 72.03%) 0.3055\n",
      "52m 31s (8:21000 75.63%) 0.3512\n",
      "52m 40s (8:22000 79.23%) 0.3588\n",
      "52m 49s (8:23000 82.84%) 0.3127\n",
      "52m 57s (8:24000 86.44%) 0.3933\n",
      "53m 6s (8:25000 90.04%) 0.2967\n",
      "53m 15s (8:26000 93.64%) 0.3382\n",
      "53m 24s (8:27000 97.24%) 0.3856\n",
      "---EPOCH 9---\n",
      "53m 30s (9:0 0.00%) 0.0015\n",
      "53m 39s (9:1000 3.60%) 0.3300\n",
      "53m 48s (9:2000 7.20%) 0.3154\n",
      "53m 56s (9:3000 10.80%) 0.3335\n",
      "54m 5s (9:4000 14.41%) 0.3866\n"
     ]
    },
    {
     "name": "stdout",
     "output_type": "stream",
     "text": [
      "54m 14s (9:5000 18.01%) 0.3624\n",
      "54m 23s (9:6000 21.61%) 0.3154\n",
      "54m 31s (9:7000 25.21%) 0.3438\n",
      "54m 40s (9:8000 28.81%) 0.3303\n",
      "54m 49s (9:9000 32.41%) 0.3244\n",
      "54m 57s (9:10000 36.02%) 0.3591\n",
      "55m 6s (9:11000 39.62%) 0.3363\n",
      "55m 15s (9:12000 43.22%) 0.3770\n",
      "55m 23s (9:13000 46.82%) 0.3555\n",
      "55m 32s (9:14000 50.42%) 0.3451\n",
      "55m 42s (9:15000 54.02%) 0.3352\n",
      "55m 52s (9:16000 57.62%) 0.3027\n",
      "56m 2s (9:17000 61.23%) 0.3142\n",
      "56m 11s (9:18000 64.83%) 0.3028\n",
      "56m 20s (9:19000 68.43%) 0.3330\n",
      "56m 29s (9:20000 72.03%) 0.2956\n",
      "56m 38s (9:21000 75.63%) 0.3286\n",
      "56m 47s (9:22000 79.23%) 0.3443\n",
      "56m 57s (9:23000 82.84%) 0.3021\n",
      "57m 8s (9:24000 86.44%) 0.3798\n",
      "57m 18s (9:25000 90.04%) 0.2887\n",
      "57m 28s (9:26000 93.64%) 0.3304\n",
      "57m 38s (9:27000 97.24%) 0.3828\n",
      "---EPOCH 10---\n",
      "57m 45s (10:0 0.00%) 0.0015\n",
      "57m 55s (10:1000 3.60%) 0.3148\n",
      "58m 6s (10:2000 7.20%) 0.3016\n",
      "58m 20s (10:3000 10.80%) 0.3390\n",
      "58m 30s (10:4000 14.41%) 0.3748\n",
      "58m 39s (10:5000 18.01%) 0.3652\n",
      "58m 50s (10:6000 21.61%) 0.2996\n",
      "59m 2s (10:7000 25.21%) 0.3502\n",
      "59m 11s (10:8000 28.81%) 0.3294\n",
      "59m 21s (10:9000 32.41%) 0.3086\n",
      "59m 30s (10:10000 36.02%) 0.3644\n",
      "59m 39s (10:11000 39.62%) 0.3277\n",
      "59m 49s (10:12000 43.22%) 0.3703\n",
      "60m 0s (10:13000 46.82%) 0.3447\n",
      "60m 9s (10:14000 50.42%) 0.3316\n",
      "60m 17s (10:15000 54.02%) 0.3341\n",
      "60m 27s (10:16000 57.62%) 0.2986\n",
      "60m 35s (10:17000 61.23%) 0.3017\n",
      "60m 44s (10:18000 64.83%) 0.2873\n",
      "60m 53s (10:19000 68.43%) 0.3357\n",
      "61m 4s (10:20000 72.03%) 0.2969\n",
      "61m 14s (10:21000 75.63%) 0.3228\n",
      "61m 24s (10:22000 79.23%) 0.3215\n",
      "61m 34s (10:23000 82.84%) 0.2900\n",
      "61m 45s (10:24000 86.44%) 0.3672\n",
      "61m 56s (10:25000 90.04%) 0.2831\n",
      "62m 6s (10:26000 93.64%) 0.3314\n",
      "62m 16s (10:27000 97.24%) 0.3696\n",
      "---EPOCH 11---\n",
      "62m 23s (11:0 0.00%) 0.0011\n",
      "62m 33s (11:1000 3.60%) 0.3107\n",
      "62m 42s (11:2000 7.20%) 0.2834\n",
      "62m 51s (11:3000 10.80%) 0.3113\n",
      "63m 0s (11:4000 14.41%) 0.3692\n",
      "63m 10s (11:5000 18.01%) 0.3572\n",
      "63m 19s (11:6000 21.61%) 0.2841\n",
      "63m 28s (11:7000 25.21%) 0.3466\n",
      "63m 38s (11:8000 28.81%) 0.3133\n",
      "63m 47s (11:9000 32.41%) 0.3190\n",
      "63m 56s (11:10000 36.02%) 0.3541\n",
      "64m 6s (11:11000 39.62%) 0.3233\n",
      "64m 15s (11:12000 43.22%) 0.3546\n",
      "64m 23s (11:13000 46.82%) 0.3400\n",
      "64m 32s (11:14000 50.42%) 0.3046\n",
      "64m 41s (11:15000 54.02%) 0.3364\n",
      "64m 50s (11:16000 57.62%) 0.2906\n",
      "64m 59s (11:17000 61.23%) 0.3005\n",
      "65m 7s (11:18000 64.83%) 0.2729\n",
      "65m 16s (11:19000 68.43%) 0.3453\n",
      "65m 25s (11:20000 72.03%) 0.2740\n",
      "65m 34s (11:21000 75.63%) 0.3121\n",
      "65m 42s (11:22000 79.23%) 0.3129\n",
      "65m 51s (11:23000 82.84%) 0.2765\n",
      "66m 0s (11:24000 86.44%) 0.3458\n",
      "66m 10s (11:25000 90.04%) 0.2589\n",
      "66m 19s (11:26000 93.64%) 0.3214\n",
      "66m 28s (11:27000 97.24%) 0.3627\n",
      "---EPOCH 12---\n",
      "66m 35s (12:0 0.00%) 0.0007\n",
      "66m 44s (12:1000 3.60%) 0.3086\n",
      "66m 54s (12:2000 7.20%) 0.2688\n",
      "67m 4s (12:3000 10.80%) 0.3063\n",
      "67m 13s (12:4000 14.41%) 0.3666\n",
      "67m 23s (12:5000 18.01%) 0.3533\n",
      "67m 33s (12:6000 21.61%) 0.2862\n",
      "67m 45s (12:7000 25.21%) 0.3315\n",
      "67m 54s (12:8000 28.81%) 0.2966\n",
      "68m 4s (12:9000 32.41%) 0.3113\n",
      "68m 14s (12:10000 36.02%) 0.3235\n",
      "68m 24s (12:11000 39.62%) 0.3154\n",
      "68m 33s (12:12000 43.22%) 0.3384\n",
      "68m 42s (12:13000 46.82%) 0.3363\n",
      "68m 51s (12:14000 50.42%) 0.2966\n",
      "69m 0s (12:15000 54.02%) 0.3371\n",
      "69m 9s (12:16000 57.62%) 0.2830\n",
      "69m 17s (12:17000 61.23%) 0.3067\n",
      "69m 26s (12:18000 64.83%) 0.2580\n",
      "69m 35s (12:19000 68.43%) 0.3186\n",
      "69m 45s (12:20000 72.03%) 0.2683\n",
      "69m 56s (12:21000 75.63%) 0.3034\n",
      "70m 5s (12:22000 79.23%) 0.3247\n",
      "70m 14s (12:23000 82.84%) 0.2699\n",
      "70m 24s (12:24000 86.44%) 0.3312\n",
      "70m 33s (12:25000 90.04%) 0.2600\n",
      "70m 43s (12:26000 93.64%) 0.3138\n",
      "70m 52s (12:27000 97.24%) 0.3556\n",
      "---EPOCH 13---\n",
      "70m 59s (13:0 0.00%) 0.0005\n",
      "71m 8s (13:1000 3.60%) 0.2902\n",
      "71m 16s (13:2000 7.20%) 0.2616\n",
      "71m 25s (13:3000 10.80%) 0.3024\n",
      "71m 34s (13:4000 14.41%) 0.3561\n",
      "71m 43s (13:5000 18.01%) 0.3545\n",
      "71m 53s (13:6000 21.61%) 0.2609\n",
      "72m 2s (13:7000 25.21%) 0.3209\n",
      "72m 12s (13:8000 28.81%) 0.2849\n",
      "72m 23s (13:9000 32.41%) 0.2948\n",
      "72m 32s (13:10000 36.02%) 0.3099\n",
      "72m 43s (13:11000 39.62%) 0.3000\n",
      "72m 52s (13:12000 43.22%) 0.3201\n",
      "73m 1s (13:13000 46.82%) 0.3261\n",
      "73m 9s (13:14000 50.42%) 0.2970\n",
      "73m 19s (13:15000 54.02%) 0.3144\n",
      "73m 28s (13:16000 57.62%) 0.2641\n",
      "73m 38s (13:17000 61.23%) 0.2771\n",
      "73m 47s (13:18000 64.83%) 0.2726\n",
      "73m 56s (13:19000 68.43%) 0.3041\n",
      "74m 6s (13:20000 72.03%) 0.2588\n",
      "74m 17s (13:21000 75.63%) 0.3020\n",
      "74m 26s (13:22000 79.23%) 0.2929\n",
      "74m 36s (13:23000 82.84%) 0.2561\n",
      "74m 45s (13:24000 86.44%) 0.3197\n",
      "74m 54s (13:25000 90.04%) 0.2550\n",
      "75m 2s (13:26000 93.64%) 0.3100\n",
      "75m 12s (13:27000 97.24%) 0.3444\n",
      "---EPOCH 14---\n",
      "75m 19s (14:0 0.00%) 0.0002\n",
      "75m 27s (14:1000 3.60%) 0.2824\n",
      "75m 37s (14:2000 7.20%) 0.2681\n",
      "75m 46s (14:3000 10.80%) 0.2800\n",
      "75m 55s (14:4000 14.41%) 0.3486\n",
      "76m 4s (14:5000 18.01%) 0.3487\n",
      "76m 13s (14:6000 21.61%) 0.2574\n",
      "76m 22s (14:7000 25.21%) 0.3234\n",
      "76m 31s (14:8000 28.81%) 0.2722\n",
      "76m 41s (14:9000 32.41%) 0.2909\n",
      "76m 50s (14:10000 36.02%) 0.3131\n",
      "77m 0s (14:11000 39.62%) 0.2908\n",
      "77m 8s (14:12000 43.22%) 0.3072\n",
      "77m 17s (14:13000 46.82%) 0.3304\n",
      "77m 26s (14:14000 50.42%) 0.2908\n",
      "77m 35s (14:15000 54.02%) 0.3155\n",
      "77m 46s (14:16000 57.62%) 0.2519\n",
      "77m 55s (14:17000 61.23%) 0.2822\n",
      "78m 4s (14:18000 64.83%) 0.2494\n",
      "78m 13s (14:19000 68.43%) 0.2924\n",
      "78m 22s (14:20000 72.03%) 0.2644\n",
      "78m 32s (14:21000 75.63%) 0.2858\n",
      "78m 42s (14:22000 79.23%) 0.2719\n",
      "78m 53s (14:23000 82.84%) 0.2483\n",
      "79m 4s (14:24000 86.44%) 0.3222\n",
      "79m 15s (14:25000 90.04%) 0.2509\n",
      "79m 25s (14:26000 93.64%) 0.3117\n",
      "79m 35s (14:27000 97.24%) 0.3368\n",
      "---EPOCH 15---\n",
      "79m 43s (15:0 0.00%) 0.0001\n",
      "79m 55s (15:1000 3.60%) 0.2758\n",
      "80m 6s (15:2000 7.20%) 0.2499\n",
      "80m 15s (15:3000 10.80%) 0.2680\n",
      "80m 25s (15:4000 14.41%) 0.3455\n",
      "80m 35s (15:5000 18.01%) 0.3245\n",
      "80m 44s (15:6000 21.61%) 0.2439\n",
      "80m 53s (15:7000 25.21%) 0.3340\n",
      "81m 3s (15:8000 28.81%) 0.2614\n",
      "81m 12s (15:9000 32.41%) 0.2683\n",
      "81m 22s (15:10000 36.02%) 0.3000\n",
      "81m 33s (15:11000 39.62%) 0.2985\n",
      "81m 44s (15:12000 43.22%) 0.3076\n",
      "81m 53s (15:13000 46.82%) 0.3171\n",
      "82m 3s (15:14000 50.42%) 0.2921\n",
      "82m 13s (15:15000 54.02%) 0.2978\n",
      "82m 24s (15:16000 57.62%) 0.2270\n",
      "82m 36s (15:17000 61.23%) 0.2553\n",
      "82m 46s (15:18000 64.83%) 0.2409\n",
      "82m 56s (15:19000 68.43%) 0.2848\n",
      "83m 5s (15:20000 72.03%) 0.2521\n",
      "83m 14s (15:21000 75.63%) 0.2799\n",
      "83m 23s (15:22000 79.23%) 0.2669\n",
      "83m 32s (15:23000 82.84%) 0.2362\n",
      "83m 41s (15:24000 86.44%) 0.3093\n",
      "83m 49s (15:25000 90.04%) 0.2292\n",
      "83m 58s (15:26000 93.64%) 0.2845\n",
      "84m 7s (15:27000 97.24%) 0.3310\n",
      "---EPOCH 16---\n",
      "84m 14s (16:0 0.00%) 0.0001\n",
      "84m 23s (16:1000 3.60%) 0.2642\n",
      "84m 32s (16:2000 7.20%) 0.2504\n",
      "84m 41s (16:3000 10.80%) 0.2557\n",
      "84m 49s (16:4000 14.41%) 0.3409\n",
      "84m 59s (16:5000 18.01%) 0.3003\n",
      "85m 8s (16:6000 21.61%) 0.2606\n",
      "85m 17s (16:7000 25.21%) 0.3244\n",
      "85m 26s (16:8000 28.81%) 0.2520\n",
      "85m 34s (16:9000 32.41%) 0.2571\n",
      "85m 43s (16:10000 36.02%) 0.3035\n",
      "85m 53s (16:11000 39.62%) 0.2896\n",
      "86m 2s (16:12000 43.22%) 0.2825\n",
      "86m 12s (16:13000 46.82%) 0.3025\n",
      "86m 22s (16:14000 50.42%) 0.2610\n",
      "86m 33s (16:15000 54.02%) 0.2869\n",
      "86m 42s (16:16000 57.62%) 0.2164\n",
      "86m 51s (16:17000 61.23%) 0.2608\n",
      "87m 0s (16:18000 64.83%) 0.2289\n",
      "87m 9s (16:19000 68.43%) 0.2839\n",
      "87m 21s (16:20000 72.03%) 0.2381\n",
      "87m 31s (16:21000 75.63%) 0.2621\n",
      "87m 40s (16:22000 79.23%) 0.2629\n",
      "87m 48s (16:23000 82.84%) 0.2208\n",
      "87m 57s (16:24000 86.44%) 0.2961\n",
      "88m 6s (16:25000 90.04%) 0.2370\n",
      "88m 15s (16:26000 93.64%) 0.2762\n",
      "88m 23s (16:27000 97.24%) 0.3160\n",
      "---EPOCH 17---\n",
      "88m 30s (17:0 0.00%) 0.0000\n",
      "88m 39s (17:1000 3.60%) 0.2726\n",
      "88m 48s (17:2000 7.20%) 0.2212\n",
      "88m 59s (17:3000 10.80%) 0.2515\n",
      "89m 9s (17:4000 14.41%) 0.3342\n",
      "89m 18s (17:5000 18.01%) 0.3059\n",
      "89m 28s (17:6000 21.61%) 0.2555\n",
      "89m 37s (17:7000 25.21%) 0.3044\n",
      "89m 46s (17:8000 28.81%) 0.2297\n",
      "89m 55s (17:9000 32.41%) 0.2536\n",
      "90m 4s (17:10000 36.02%) 0.2600\n",
      "90m 13s (17:11000 39.62%) 0.2696\n",
      "90m 22s (17:12000 43.22%) 0.2804\n",
      "90m 32s (17:13000 46.82%) 0.2877\n",
      "90m 43s (17:14000 50.42%) 0.2609\n",
      "90m 52s (17:15000 54.02%) 0.2750\n",
      "91m 1s (17:16000 57.62%) 0.2132\n",
      "91m 10s (17:17000 61.23%) 0.2446\n",
      "91m 33s (17:18000 64.83%) 0.2344\n",
      "91m 43s (17:19000 68.43%) 0.2681\n",
      "91m 52s (17:20000 72.03%) 0.2474\n",
      "92m 2s (17:21000 75.63%) 0.2490\n",
      "92m 11s (17:22000 79.23%) 0.2670\n",
      "92m 20s (17:23000 82.84%) 0.2152\n",
      "92m 31s (17:24000 86.44%) 0.3036\n",
      "92m 40s (17:25000 90.04%) 0.2127\n",
      "92m 48s (17:26000 93.64%) 0.2662\n",
      "92m 57s (17:27000 97.24%) 0.3086\n",
      "---EPOCH 18---\n",
      "93m 4s (18:0 0.00%) 0.0000\n",
      "93m 13s (18:1000 3.60%) 0.2529\n",
      "93m 21s (18:2000 7.20%) 0.2184\n",
      "93m 30s (18:3000 10.80%) 0.2601\n"
     ]
    },
    {
     "name": "stdout",
     "output_type": "stream",
     "text": [
      "93m 39s (18:4000 14.41%) 0.3257\n",
      "93m 47s (18:5000 18.01%) 0.2787\n",
      "93m 56s (18:6000 21.61%) 0.2258\n",
      "94m 5s (18:7000 25.21%) 0.3066\n",
      "94m 13s (18:8000 28.81%) 0.2229\n",
      "94m 22s (18:9000 32.41%) 0.2539\n",
      "94m 31s (18:10000 36.02%) 0.2528\n",
      "94m 41s (18:11000 39.62%) 0.2704\n",
      "94m 53s (18:12000 43.22%) 0.2661\n",
      "95m 2s (18:13000 46.82%) 0.2802\n",
      "95m 13s (18:14000 50.42%) 0.2469\n",
      "95m 23s (18:15000 54.02%) 0.2639\n",
      "95m 33s (18:16000 57.62%) 0.2082\n",
      "95m 43s (18:17000 61.23%) 0.2495\n",
      "95m 53s (18:18000 64.83%) 0.2415\n",
      "96m 1s (18:19000 68.43%) 0.2568\n",
      "96m 11s (18:20000 72.03%) 0.2411\n",
      "96m 20s (18:21000 75.63%) 0.2499\n",
      "96m 29s (18:22000 79.23%) 0.2407\n",
      "96m 38s (18:23000 82.84%) 0.1974\n",
      "96m 46s (18:24000 86.44%) 0.2826\n",
      "96m 55s (18:25000 90.04%) 0.2273\n",
      "97m 4s (18:26000 93.64%) 0.2498\n",
      "97m 12s (18:27000 97.24%) 0.2967\n",
      "---EPOCH 19---\n",
      "97m 19s (19:0 0.00%) 0.0000\n",
      "97m 28s (19:1000 3.60%) 0.2397\n",
      "97m 36s (19:2000 7.20%) 0.2135\n",
      "97m 45s (19:3000 10.80%) 0.2536\n",
      "97m 54s (19:4000 14.41%) 0.3164\n",
      "98m 2s (19:5000 18.01%) 0.2685\n",
      "98m 11s (19:6000 21.61%) 0.2045\n",
      "98m 20s (19:7000 25.21%) 0.2910\n",
      "98m 28s (19:8000 28.81%) 0.2144\n",
      "98m 37s (19:9000 32.41%) 0.2507\n",
      "98m 45s (19:10000 36.02%) 0.2602\n",
      "98m 54s (19:11000 39.62%) 0.2592\n",
      "99m 3s (19:12000 43.22%) 0.2641\n",
      "99m 11s (19:13000 46.82%) 0.2839\n",
      "99m 20s (19:14000 50.42%) 0.2281\n",
      "99m 29s (19:15000 54.02%) 0.2718\n",
      "99m 37s (19:16000 57.62%) 0.2097\n",
      "99m 46s (19:17000 61.23%) 0.2229\n",
      "99m 55s (19:18000 64.83%) 0.2181\n",
      "100m 3s (19:19000 68.43%) 0.2555\n",
      "100m 12s (19:20000 72.03%) 0.2203\n",
      "100m 21s (19:21000 75.63%) 0.2329\n",
      "100m 29s (19:22000 79.23%) 0.2297\n",
      "100m 38s (19:23000 82.84%) 0.1876\n",
      "100m 46s (19:24000 86.44%) 0.2912\n",
      "100m 55s (19:25000 90.04%) 0.2074\n",
      "101m 4s (19:26000 93.64%) 0.2520\n",
      "101m 12s (19:27000 97.24%) 0.2757\n",
      "---EPOCH 20---\n",
      "101m 19s (20:0 0.00%) 0.0000\n",
      "101m 28s (20:1000 3.60%) 0.2492\n",
      "101m 37s (20:2000 7.20%) 0.2011\n",
      "101m 45s (20:3000 10.80%) 0.2447\n",
      "101m 54s (20:4000 14.41%) 0.3362\n",
      "102m 3s (20:5000 18.01%) 0.2618\n",
      "102m 11s (20:6000 21.61%) 0.1959\n",
      "102m 20s (20:7000 25.21%) 0.2909\n",
      "102m 44s (20:8000 28.81%) 0.2144\n",
      "102m 55s (20:9000 32.41%) 0.2432\n",
      "103m 6s (20:10000 36.02%) 0.2425\n",
      "103m 15s (20:11000 39.62%) 0.2512\n",
      "103m 24s (20:12000 43.22%) 0.2432\n",
      "103m 33s (20:13000 46.82%) 0.2657\n",
      "103m 42s (20:14000 50.42%) 0.2260\n",
      "103m 51s (20:15000 54.02%) 0.2544\n",
      "104m 0s (20:16000 57.62%) 0.1966\n",
      "104m 8s (20:17000 61.23%) 0.2204\n",
      "104m 17s (20:18000 64.83%) 0.2275\n",
      "104m 26s (20:19000 68.43%) 0.2477\n",
      "104m 34s (20:20000 72.03%) 0.2175\n",
      "104m 43s (20:21000 75.63%) 0.2262\n",
      "104m 52s (20:22000 79.23%) 0.2317\n",
      "105m 1s (20:23000 82.84%) 0.1825\n",
      "105m 9s (20:24000 86.44%) 0.2631\n",
      "105m 18s (20:25000 90.04%) 0.1905\n",
      "105m 26s (20:26000 93.64%) 0.2287\n",
      "105m 35s (20:27000 97.24%) 0.2783\n",
      "---EPOCH 21---\n",
      "105m 42s (21:0 0.00%) 0.0000\n",
      "105m 50s (21:1000 3.60%) 0.2495\n",
      "105m 59s (21:2000 7.20%) 0.1940\n",
      "106m 8s (21:3000 10.80%) 0.2192\n",
      "106m 16s (21:4000 14.41%) 0.2843\n",
      "106m 25s (21:5000 18.01%) 0.2556\n",
      "106m 33s (21:6000 21.61%) 0.1841\n",
      "106m 42s (21:7000 25.21%) 0.2797\n",
      "106m 51s (21:8000 28.81%) 0.2378\n",
      "106m 59s (21:9000 32.41%) 0.2446\n",
      "107m 8s (21:10000 36.02%) 0.2437\n",
      "107m 17s (21:11000 39.62%) 0.2409\n",
      "107m 25s (21:12000 43.22%) 0.2395\n",
      "107m 34s (21:13000 46.82%) 0.2514\n",
      "107m 42s (21:14000 50.42%) 0.2277\n",
      "107m 51s (21:15000 54.02%) 0.2310\n",
      "108m 0s (21:16000 57.62%) 0.1990\n",
      "108m 9s (21:17000 61.23%) 0.2176\n",
      "108m 17s (21:18000 64.83%) 0.2029\n",
      "108m 26s (21:19000 68.43%) 0.2314\n",
      "108m 35s (21:20000 72.03%) 0.1980\n",
      "108m 44s (21:21000 75.63%) 0.2187\n",
      "108m 52s (21:22000 79.23%) 0.2259\n",
      "109m 1s (21:23000 82.84%) 0.1695\n",
      "109m 9s (21:24000 86.44%) 0.2545\n",
      "109m 18s (21:25000 90.04%) 0.1968\n",
      "109m 27s (21:26000 93.64%) 0.2256\n",
      "109m 35s (21:27000 97.24%) 0.2569\n",
      "---EPOCH 22---\n",
      "109m 42s (22:0 0.00%) 0.0000\n",
      "109m 50s (22:1000 3.60%) 0.2358\n",
      "109m 59s (22:2000 7.20%) 0.1839\n",
      "110m 8s (22:3000 10.80%) 0.2165\n",
      "110m 16s (22:4000 14.41%) 0.2846\n",
      "110m 25s (22:5000 18.01%) 0.2429\n",
      "110m 33s (22:6000 21.61%) 0.1934\n",
      "110m 42s (22:7000 25.21%) 0.2864\n",
      "110m 51s (22:8000 28.81%) 0.2145\n",
      "110m 59s (22:9000 32.41%) 0.2282\n",
      "111m 8s (22:10000 36.02%) 0.2337\n",
      "111m 16s (22:11000 39.62%) 0.2372\n",
      "111m 25s (22:12000 43.22%) 0.2199\n",
      "111m 33s (22:13000 46.82%) 0.2456\n",
      "111m 42s (22:14000 50.42%) 0.2307\n",
      "111m 51s (22:15000 54.02%) 0.2371\n",
      "112m 0s (22:16000 57.62%) 0.2078\n",
      "112m 9s (22:17000 61.23%) 0.2092\n",
      "112m 17s (22:18000 64.83%) 0.2003\n",
      "112m 26s (22:19000 68.43%) 0.2318\n",
      "112m 35s (22:20000 72.03%) 0.1951\n",
      "112m 43s (22:21000 75.63%) 0.2047\n",
      "112m 52s (22:22000 79.23%) 0.2267\n",
      "113m 0s (22:23000 82.84%) 0.1637\n",
      "113m 9s (22:24000 86.44%) 0.2568\n",
      "113m 18s (22:25000 90.04%) 0.1976\n",
      "113m 26s (22:26000 93.64%) 0.2161\n",
      "113m 35s (22:27000 97.24%) 0.2358\n",
      "---EPOCH 23---\n",
      "113m 42s (23:0 0.00%) 0.0000\n",
      "113m 50s (23:1000 3.60%) 0.2162\n",
      "113m 59s (23:2000 7.20%) 0.1729\n",
      "114m 8s (23:3000 10.80%) 0.2110\n",
      "114m 16s (23:4000 14.41%) 0.2816\n",
      "114m 25s (23:5000 18.01%) 0.2463\n",
      "114m 33s (23:6000 21.61%) 0.1838\n",
      "114m 42s (23:7000 25.21%) 0.2640\n",
      "114m 51s (23:8000 28.81%) 0.2041\n",
      "114m 59s (23:9000 32.41%) 0.2077\n",
      "115m 8s (23:10000 36.02%) 0.2262\n",
      "115m 17s (23:11000 39.62%) 0.2259\n",
      "115m 26s (23:12000 43.22%) 0.2211\n",
      "115m 36s (23:13000 46.82%) 0.2794\n",
      "115m 45s (23:14000 50.42%) 0.2298\n",
      "115m 55s (23:15000 54.02%) 0.2448\n",
      "116m 3s (23:16000 57.62%) 0.1856\n",
      "116m 12s (23:17000 61.23%) 0.2224\n",
      "116m 22s (23:18000 64.83%) 0.1877\n",
      "116m 30s (23:19000 68.43%) 0.2220\n",
      "116m 40s (23:20000 72.03%) 0.1972\n",
      "116m 49s (23:21000 75.63%) 0.2046\n",
      "116m 59s (23:22000 79.23%) 0.2426\n",
      "117m 9s (23:23000 82.84%) 0.1710\n",
      "117m 20s (23:24000 86.44%) 0.2546\n",
      "117m 30s (23:25000 90.04%) 0.1736\n",
      "117m 40s (23:26000 93.64%) 0.2012\n",
      "117m 51s (23:27000 97.24%) 0.2382\n",
      "---EPOCH 24---\n",
      "117m 58s (24:0 0.00%) 0.0000\n",
      "118m 7s (24:1000 3.60%) 0.1989\n",
      "118m 16s (24:2000 7.20%) 0.1631\n",
      "118m 26s (24:3000 10.80%) 0.2103\n",
      "118m 35s (24:4000 14.41%) 0.2800\n",
      "118m 45s (24:5000 18.01%) 0.2378\n",
      "118m 56s (24:6000 21.61%) 0.1588\n",
      "119m 5s (24:7000 25.21%) 0.2510\n",
      "119m 14s (24:8000 28.81%) 0.1967\n",
      "119m 23s (24:9000 32.41%) 0.1851\n",
      "119m 32s (24:10000 36.02%) 0.2168\n",
      "119m 41s (24:11000 39.62%) 0.2133\n",
      "119m 50s (24:12000 43.22%) 0.2237\n",
      "120m 1s (24:13000 46.82%) 0.2340\n",
      "120m 11s (24:14000 50.42%) 0.2157\n",
      "120m 20s (24:15000 54.02%) 0.2311\n",
      "120m 30s (24:16000 57.62%) 0.1796\n",
      "120m 39s (24:17000 61.23%) 0.2163\n",
      "120m 48s (24:18000 64.83%) 0.1825\n",
      "120m 57s (24:19000 68.43%) 0.2090\n",
      "121m 6s (24:20000 72.03%) 0.2139\n",
      "121m 16s (24:21000 75.63%) 0.2046\n",
      "121m 24s (24:22000 79.23%) 0.2080\n",
      "121m 33s (24:23000 82.84%) 0.1741\n",
      "121m 42s (24:24000 86.44%) 0.2653\n",
      "121m 51s (24:25000 90.04%) 0.1720\n",
      "122m 0s (24:26000 93.64%) 0.2126\n",
      "122m 10s (24:27000 97.24%) 0.2316\n",
      "---EPOCH 25---\n",
      "122m 17s (25:0 0.00%) 0.0000\n",
      "122m 27s (25:1000 3.60%) 0.2019\n",
      "122m 36s (25:2000 7.20%) 0.1571\n",
      "122m 46s (25:3000 10.80%) 0.2028\n",
      "122m 56s (25:4000 14.41%) 0.2800\n",
      "123m 6s (25:5000 18.01%) 0.2404\n",
      "123m 15s (25:6000 21.61%) 0.1619\n",
      "123m 24s (25:7000 25.21%) 0.2552\n",
      "123m 33s (25:8000 28.81%) 0.1977\n",
      "123m 42s (25:9000 32.41%) 0.2003\n",
      "123m 51s (25:10000 36.02%) 0.2088\n",
      "124m 0s (25:11000 39.62%) 0.2219\n",
      "124m 9s (25:12000 43.22%) 0.2140\n",
      "124m 19s (25:13000 46.82%) 0.2128\n",
      "124m 29s (25:14000 50.42%) 0.2102\n",
      "124m 38s (25:15000 54.02%) 0.2277\n",
      "124m 48s (25:16000 57.62%) 0.1837\n",
      "124m 57s (25:17000 61.23%) 0.1882\n",
      "125m 6s (25:18000 64.83%) 0.1823\n",
      "125m 15s (25:19000 68.43%) 0.1993\n",
      "125m 25s (25:20000 72.03%) 0.1747\n",
      "125m 35s (25:21000 75.63%) 0.1996\n",
      "125m 44s (25:22000 79.23%) 0.1943\n",
      "125m 53s (25:23000 82.84%) 0.1731\n",
      "126m 3s (25:24000 86.44%) 0.2321\n",
      "126m 12s (25:25000 90.04%) 0.1739\n",
      "126m 22s (25:26000 93.64%) 0.1976\n",
      "126m 31s (25:27000 97.24%) 0.2126\n",
      "---EPOCH 26---\n",
      "126m 38s (26:0 0.00%) 0.0000\n",
      "126m 47s (26:1000 3.60%) 0.2176\n",
      "126m 55s (26:2000 7.20%) 0.1470\n",
      "127m 4s (26:3000 10.80%) 0.1943\n",
      "127m 13s (26:4000 14.41%) 0.2869\n",
      "127m 21s (26:5000 18.01%) 0.2116\n",
      "127m 30s (26:6000 21.61%) 0.1583\n",
      "127m 39s (26:7000 25.21%) 0.2547\n",
      "127m 47s (26:8000 28.81%) 0.1876\n",
      "127m 56s (26:9000 32.41%) 0.1893\n",
      "128m 6s (26:10000 36.02%) 0.2077\n",
      "128m 15s (26:11000 39.62%) 0.2025\n",
      "128m 23s (26:12000 43.22%) 0.1860\n",
      "128m 32s (26:13000 46.82%) 0.2074\n",
      "128m 41s (26:14000 50.42%) 0.1919\n",
      "128m 51s (26:15000 54.02%) 0.2517\n",
      "129m 0s (26:16000 57.62%) 0.1838\n",
      "129m 10s (26:17000 61.23%) 0.1838\n",
      "129m 19s (26:18000 64.83%) 0.1903\n",
      "129m 29s (26:19000 68.43%) 0.2057\n",
      "129m 38s (26:20000 72.03%) 0.1800\n",
      "129m 49s (26:21000 75.63%) 0.1949\n",
      "129m 59s (26:22000 79.23%) 0.2020\n",
      "130m 9s (26:23000 82.84%) 0.1648\n"
     ]
    },
    {
     "name": "stdout",
     "output_type": "stream",
     "text": [
      "130m 18s (26:24000 86.44%) 0.2363\n",
      "130m 28s (26:25000 90.04%) 0.1764\n",
      "130m 37s (26:26000 93.64%) 0.1908\n",
      "130m 47s (26:27000 97.24%) 0.2096\n",
      "---EPOCH 27---\n",
      "130m 54s (27:0 0.00%) 0.0000\n",
      "131m 4s (27:1000 3.60%) 0.1901\n",
      "131m 13s (27:2000 7.20%) 0.1692\n",
      "131m 22s (27:3000 10.80%) 0.2077\n",
      "131m 31s (27:4000 14.41%) 0.2568\n",
      "131m 41s (27:5000 18.01%) 0.1950\n",
      "131m 50s (27:6000 21.61%) 0.1503\n",
      "132m 0s (27:7000 25.21%) 0.2341\n",
      "132m 10s (27:8000 28.81%) 0.1750\n",
      "132m 21s (27:9000 32.41%) 0.1812\n",
      "132m 31s (27:10000 36.02%) 0.1991\n",
      "132m 40s (27:11000 39.62%) 0.2122\n",
      "132m 50s (27:12000 43.22%) 0.1757\n",
      "132m 59s (27:13000 46.82%) 0.2059\n",
      "133m 8s (27:14000 50.42%) 0.1963\n",
      "133m 18s (27:15000 54.02%) 0.2174\n",
      "133m 27s (27:16000 57.62%) 0.1867\n",
      "133m 37s (27:17000 61.23%) 0.1779\n",
      "133m 46s (27:18000 64.83%) 0.1670\n",
      "133m 56s (27:19000 68.43%) 0.1891\n",
      "134m 5s (27:20000 72.03%) 0.1771\n",
      "134m 14s (27:21000 75.63%) 0.1756\n",
      "134m 23s (27:22000 79.23%) 0.1938\n",
      "134m 32s (27:23000 82.84%) 0.1519\n",
      "134m 41s (27:24000 86.44%) 0.2343\n",
      "134m 50s (27:25000 90.04%) 0.1726\n",
      "134m 58s (27:26000 93.64%) 0.2024\n",
      "135m 7s (27:27000 97.24%) 0.2030\n",
      "---EPOCH 28---\n",
      "135m 14s (28:0 0.00%) 0.0000\n",
      "135m 24s (28:1000 3.60%) 0.1770\n",
      "135m 32s (28:2000 7.20%) 0.1445\n",
      "135m 41s (28:3000 10.80%) 0.1726\n",
      "135m 50s (28:4000 14.41%) 0.2692\n",
      "135m 59s (28:5000 18.01%) 0.1889\n",
      "136m 8s (28:6000 21.61%) 0.1442\n",
      "136m 17s (28:7000 25.21%) 0.2222\n",
      "136m 27s (28:8000 28.81%) 0.1804\n",
      "136m 36s (28:9000 32.41%) 0.1725\n",
      "136m 45s (28:10000 36.02%) 0.1970\n",
      "136m 55s (28:11000 39.62%) 0.1857\n",
      "137m 4s (28:12000 43.22%) 0.1689\n",
      "137m 13s (28:13000 46.82%) 0.1923\n",
      "137m 22s (28:14000 50.42%) 0.1823\n",
      "137m 31s (28:15000 54.02%) 0.2163\n",
      "137m 40s (28:16000 57.62%) 0.1714\n",
      "137m 50s (28:17000 61.23%) 0.1744\n",
      "137m 58s (28:18000 64.83%) 0.1610\n",
      "138m 7s (28:19000 68.43%) 0.1782\n",
      "138m 16s (28:20000 72.03%) 0.1605\n",
      "138m 26s (28:21000 75.63%) 0.1762\n",
      "138m 35s (28:22000 79.23%) 0.1768\n",
      "138m 44s (28:23000 82.84%) 0.1549\n",
      "138m 54s (28:24000 86.44%) 0.2117\n",
      "139m 3s (28:25000 90.04%) 0.1616\n",
      "139m 13s (28:26000 93.64%) 0.1810\n",
      "139m 22s (28:27000 97.24%) 0.2023\n",
      "---EPOCH 29---\n",
      "139m 29s (29:0 0.00%) 0.0000\n",
      "139m 38s (29:1000 3.60%) 0.1788\n",
      "139m 47s (29:2000 7.20%) 0.1425\n",
      "139m 56s (29:3000 10.80%) 0.1648\n",
      "140m 5s (29:4000 14.41%) 0.2908\n",
      "140m 14s (29:5000 18.01%) 0.1839\n",
      "140m 23s (29:6000 21.61%) 0.1390\n",
      "140m 32s (29:7000 25.21%) 0.2277\n",
      "140m 40s (29:8000 28.81%) 0.1650\n",
      "140m 49s (29:9000 32.41%) 0.1593\n",
      "140m 58s (29:10000 36.02%) 0.1887\n",
      "141m 7s (29:11000 39.62%) 0.1767\n",
      "141m 17s (29:12000 43.22%) 0.1567\n",
      "141m 26s (29:13000 46.82%) 0.2127\n",
      "141m 35s (29:14000 50.42%) 0.1773\n",
      "141m 44s (29:15000 54.02%) 0.2125\n",
      "141m 52s (29:16000 57.62%) 0.1621\n",
      "142m 1s (29:17000 61.23%) 0.1699\n",
      "142m 11s (29:18000 64.83%) 0.1604\n",
      "142m 20s (29:19000 68.43%) 0.1752\n",
      "142m 29s (29:20000 72.03%) 0.1538\n",
      "142m 38s (29:21000 75.63%) 0.1535\n",
      "142m 47s (29:22000 79.23%) 0.2028\n",
      "142m 57s (29:23000 82.84%) 0.1331\n",
      "143m 6s (29:24000 86.44%) 0.2145\n",
      "143m 16s (29:25000 90.04%) 0.1474\n",
      "143m 25s (29:26000 93.64%) 0.1782\n",
      "143m 34s (29:27000 97.24%) 0.1919\n"
     ]
    }
   ],
   "source": [
    "if train:\n",
    "    print(\"Training model and saving to {}:\".format(model_file_suc_col))\n",
    "    model_suc_col.fit(train_features, train_targets)\n",
    "    model_suc_col.save_model(model_file_suc_col)\n",
    "else:\n",
    "    print(\"Loading pretrained model\")\n",
    "    model_suc_col.load_model(model_file_suc_col)"
   ]
  },
  {
   "cell_type": "code",
   "execution_count": 383,
   "metadata": {},
   "outputs": [
    {
     "name": "stdout",
     "output_type": "stream",
     "text": [
      "(0.28410669491809376, 2.6781346038307877e-07)\n"
     ]
    }
   ],
   "source": [
    "assess_targets_tgt_suc_col, model_outputs_suc_col, model_scores_suc_col, true_scores_grouped_suc_col, model_scores_grouped_suc_col =\\\n",
    "    evaluate_model(dev_data, feature_handler, model_suc_col, output_to_score_suc, score_model, accuracy=False)"
   ]
  },
  {
   "cell_type": "code",
   "execution_count": 384,
   "metadata": {},
   "outputs": [
    {
     "data": {
      "text/plain": [
       "0.5699285942962217"
      ]
     },
     "execution_count": 384,
     "metadata": {},
     "output_type": "execute_result"
    }
   ],
   "source": [
    "metrics.roc_auc_score(assess_targets_tgt_suc_col, model_scores_suc_col)"
   ]
  },
  {
   "cell_type": "code",
   "execution_count": 386,
   "metadata": {},
   "outputs": [
    {
     "data": {
      "text/plain": [
       "<matplotlib.collections.PathCollection at 0x13edd9b70>"
      ]
     },
     "execution_count": 386,
     "metadata": {},
     "output_type": "execute_result"
    },
    {
     "data": {
      "image/png": "[encoded data removed]",
      "text/plain": [
       "<Figure size 432x288 with 1 Axes>"
      ]
     },
     "metadata": {},
     "output_type": "display_data"
    }
   ],
   "source": [
    "plt.scatter(true_scores_grouped_suc_col, model_scores_grouped_suc_col)"
   ]
  },
  {
   "cell_type": "code",
   "execution_count": 385,
   "metadata": {},
   "outputs": [
    {
     "data": {
      "text/plain": [
       "<matplotlib.collections.PathCollection at 0x14cd37470>"
      ]
     },
     "execution_count": 385,
     "metadata": {},
     "output_type": "execute_result"
    },
    {
     "data": {
      "image/png": "[encoded data removed]",
      "text/plain": [
       "<Figure size 432x288 with 1 Axes>"
      ]
     },
     "metadata": {},
     "output_type": "display_data"
    }
   ],
   "source": [
    "fpr, tpr, _ = metrics.roc_curve(assess_targets_tgt_suc_col, model_scores_suc_col, pos_label=1)\n",
    "plt.scatter(fpr, tpr) # fpr and tpr from metrics.roc_score"
   ]
  },
  {
   "cell_type": "code",
   "execution_count": 623,
   "metadata": {},
   "outputs": [
    {
     "name": "stdout",
     "output_type": "stream",
     "text": [
      "(0.08457071143115714, 0.05487572966912681)\n"
     ]
    }
   ],
   "source": [
    "assess_targets_tgt_suc_col_synth, model_outputs_suc_col_synth, model_scores_suc_col_synth, true_scores_grouped_suc_col_synth, model_scores_grouped_suc_col_synth =\\\n",
    "    evaluate_model(dev_data_synth, feature_handler_suc, model_suc_col, output_to_score_suc, score_model, accuracy=False)\n"
   ]
  },
  {
   "cell_type": "code",
   "execution_count": 624,
   "metadata": {
    "scrolled": true
   },
   "outputs": [
    {
     "data": {
      "text/plain": [
       "<matplotlib.collections.PathCollection at 0x13eae40b8>"
      ]
     },
     "execution_count": 624,
     "metadata": {},
     "output_type": "execute_result"
    },
    {
     "data": {
      "image/png": "[encoded data removed]",
      "text/plain": [
       "<Figure size 432x288 with 1 Axes>"
      ]
     },
     "metadata": {},
     "output_type": "display_data"
    }
   ],
   "source": [
    "plt.scatter(true_scores_grouped_suc_col_synth, model_scores_grouped_suc_col_synth)"
   ]
  },
  {
   "cell_type": "code",
   "execution_count": 520,
   "metadata": {},
   "outputs": [
    {
     "name": "stdout",
     "output_type": "stream",
     "text": [
      "6000) Game: synth-120 Round: 1\n",
      "Grey lol\n"
     ]
    },
    {
     "data": {
      "image/png": "[encoded data removed]",
      "text/plain": [
       "<Figure size 432x288 with 1 Axes>"
      ]
     },
     "metadata": {},
     "output_type": "display_data"
    }
   ],
   "source": [
    "dev_data_synth.display_game(6000)"
   ]
  },
  {
   "cell_type": "code",
   "execution_count": 500,
   "metadata": {},
   "outputs": [
    {
     "name": "stdout",
     "output_type": "stream",
     "text": [
      "(-0.005838513219130491, 0.8947430432318636)\n"
     ]
    }
   ],
   "source": [
    "assess_targets_tgt_suc_col_synth, model_outputs_suc_col_synth, model_scores_suc_col_synth, true_scores_grouped_suc_col_synth, model_scores_grouped_suc_col_synth =\\\n",
    "    evaluate_model(dev_data_synth, feature_handler_synth, model_suc_col, output_to_score_suc, score_model, accuracy=False)"
   ]
  },
  {
   "cell_type": "markdown",
   "metadata": {},
   "source": [
    "this seems to imply that the model that is just predicting listener success is actually not using any information from the color!"
   ]
  },
  {
   "cell_type": "code",
   "execution_count": 427,
   "metadata": {},
   "outputs": [
    {
     "data": {
      "image/png": "[encoded data removed]",
      "text/plain": [
       "<Figure size 432x288 with 1 Axes>"
      ]
     },
     "metadata": {},
     "output_type": "display_data"
    },
    {
     "data": {
      "text/plain": [
       "(0.8597547157487094, 1.9588688051440834e-05)"
      ]
     },
     "execution_count": 427,
     "metadata": {},
     "output_type": "execute_result"
    }
   ],
   "source": [
    "true_scores_grouped_rounded_suc_col = [int(50*round_partial(score, 1/50)) for score in true_scores_grouped_suc_col]\n",
    "suc_col_df = pd.DataFrame({'model_scores': model_scores_grouped_suc_col, 'true_scores': true_scores_grouped_rounded_suc_col})\n",
    "suc_col_scores_series = suc_col_df.groupby('true_scores').mean()['model_scores']\n",
    "plt.scatter(suc_col_scores_series.index, suc_col_scores_series.values)\n",
    "plt.show()\n",
    "stats.pearsonr(suc_col_scores_series.index, suc_col_scores_series.values)"
   ]
  },
  {
   "cell_type": "code",
   "execution_count": 437,
   "metadata": {},
   "outputs": [
    {
     "name": "stdout",
     "output_type": "stream",
     "text": [
      "(0.2581758976793939, 3.1970940807524333e-06)\n"
     ]
    }
   ],
   "source": [
    "assess_targets_tgt_suc_col, model_outputs_suc_col, model_scores_suc_col, true_scores_grouped_suc_col, model_scores_grouped_suc_col =\\\n",
    "    evaluate_model(dev_data, feature_handler, model_suc_col, output_to_score_suc, score_model, accuracy=False)"
   ]
  },
  {
   "cell_type": "code",
   "execution_count": 438,
   "metadata": {},
   "outputs": [
    {
     "data": {
      "text/plain": [
       "0.5217617003212025"
      ]
     },
     "execution_count": 438,
     "metadata": {},
     "output_type": "execute_result"
    }
   ],
   "source": [
    "metrics.roc_auc_score(assess_targets_tgt_suc_col, model_scores_suc_col)"
   ]
  },
  {
   "cell_type": "code",
   "execution_count": 439,
   "metadata": {},
   "outputs": [
    {
     "data": {
      "text/plain": [
       "<matplotlib.collections.PathCollection at 0x157a34c88>"
      ]
     },
     "execution_count": 439,
     "metadata": {},
     "output_type": "execute_result"
    },
    {
     "data": {
      "image/png": "[encoded data removed]",
      "text/plain": [
       "<Figure size 432x288 with 1 Axes>"
      ]
     },
     "metadata": {},
     "output_type": "display_data"
    }
   ],
   "source": [
    "plt.scatter(true_scores_grouped_suc_col, model_scores_grouped_suc_col)"
   ]
  },
  {
   "cell_type": "code",
   "execution_count": 440,
   "metadata": {},
   "outputs": [
    {
     "data": {
      "image/png": "[encoded data removed]",
      "text/plain": [
       "<Figure size 432x288 with 1 Axes>"
      ]
     },
     "metadata": {},
     "output_type": "display_data"
    },
    {
     "data": {
      "text/plain": [
       "(0.6616253797339549, 0.005246649038491157)"
      ]
     },
     "execution_count": 440,
     "metadata": {},
     "output_type": "execute_result"
    }
   ],
   "source": [
    "true_scores_grouped_rounded_suc_col = [int(50*round_partial(score, 1/50)) for score in true_scores_grouped_suc_col]\n",
    "suc_col_df = pd.DataFrame({'model_scores': model_scores_grouped_suc_col, 'true_scores': true_scores_grouped_rounded_suc_col})\n",
    "suc_col_scores_series = suc_col_df.groupby('true_scores').mean()['model_scores']\n",
    "plt.scatter(suc_col_scores_series.index, suc_col_scores_series.values)\n",
    "plt.show()\n",
    "stats.pearsonr(suc_col_scores_series.index, suc_col_scores_series.values)"
   ]
  },
  {
   "cell_type": "code",
   "execution_count": 459,
   "metadata": {
    "scrolled": true
   },
   "outputs": [
    {
     "data": {
      "text/plain": [
       "0        1\n",
       "1        1\n",
       "2        1\n",
       "3        1\n",
       "4        1\n",
       "5        1\n",
       "6        1\n",
       "7        1\n",
       "8        1\n",
       "9        1\n",
       "10       1\n",
       "11       1\n",
       "12       1\n",
       "13       1\n",
       "14       0\n",
       "15       0\n",
       "16       1\n",
       "17       1\n",
       "18       0\n",
       "19       1\n",
       "20       1\n",
       "21       1\n",
       "22       1\n",
       "23       1\n",
       "24       0\n",
       "25       1\n",
       "26       1\n",
       "27       1\n",
       "28       1\n",
       "29       0\n",
       "        ..\n",
       "15640    1\n",
       "15641    1\n",
       "15642    1\n",
       "15643    1\n",
       "15644    1\n",
       "15645    1\n",
       "15646    1\n",
       "15647    1\n",
       "15648    1\n",
       "15649    1\n",
       "15650    1\n",
       "15651    1\n",
       "15652    1\n",
       "15653    1\n",
       "15654    1\n",
       "15655    1\n",
       "15656    1\n",
       "15657    1\n",
       "15658    1\n",
       "15659    1\n",
       "15660    1\n",
       "15661    1\n",
       "15662    1\n",
       "15663    1\n",
       "15664    1\n",
       "15665    1\n",
       "15666    1\n",
       "15667    1\n",
       "15668    1\n",
       "15669    1\n",
       "Length: 15670, dtype: int64"
      ]
     },
     "execution_count": 459,
     "metadata": {},
     "output_type": "execute_result"
    }
   ],
   "source": [
    "pd.Series(assess_targets_tgt_suc_col, index=dev_data.data.index)"
   ]
  },
  {
   "cell_type": "code",
   "execution_count": 457,
   "metadata": {
    "scrolled": true
   },
   "outputs": [
    {
     "data": {
      "text/plain": [
       "0        split\n",
       "1        split\n",
       "2          far\n",
       "3        split\n",
       "4          far\n",
       "5        close\n",
       "6          far\n",
       "7          far\n",
       "8        close\n",
       "9          far\n",
       "10         far\n",
       "11       split\n",
       "12       close\n",
       "13         far\n",
       "14       split\n",
       "15       close\n",
       "16       split\n",
       "17         far\n",
       "18       split\n",
       "19         far\n",
       "20       split\n",
       "21         far\n",
       "22         far\n",
       "23         far\n",
       "24       close\n",
       "25       close\n",
       "26       close\n",
       "27       close\n",
       "28       close\n",
       "29       close\n",
       "         ...  \n",
       "15640    split\n",
       "15641    split\n",
       "15642      far\n",
       "15643    close\n",
       "15644    close\n",
       "15645      far\n",
       "15646      far\n",
       "15647    close\n",
       "15648    close\n",
       "15649    close\n",
       "15650    split\n",
       "15651      far\n",
       "15652      far\n",
       "15653    split\n",
       "15654    close\n",
       "15655    split\n",
       "15656      far\n",
       "15657    split\n",
       "15658      far\n",
       "15659    split\n",
       "15660    close\n",
       "15661    close\n",
       "15662    split\n",
       "15663    close\n",
       "15664    close\n",
       "15665      far\n",
       "15666      far\n",
       "15667      far\n",
       "15668    split\n",
       "15669      far\n",
       "Name: condition, Length: 15670, dtype: object"
      ]
     },
     "execution_count": 457,
     "metadata": {},
     "output_type": "execute_result"
    }
   ],
   "source": [
    "dev_data.data['condition']"
   ]
  },
  {
   "cell_type": "code",
   "execution_count": 467,
   "metadata": {},
   "outputs": [],
   "source": [
    "suc_col_score_df = pd.concat([dev_data.data.gameid, pd.Series(assess_targets_tgt_suc_col, index=dev_data.data.index, name=\"true_score\"), \n",
    "           pd.Series(model_scores_suc_col, index=dev_data.data.index, name=\"model_score\"), dev_data.data['condition']], axis=1)"
   ]
  },
  {
   "cell_type": "code",
   "execution_count": 477,
   "metadata": {},
   "outputs": [],
   "source": [
    "suc_col_score_close = suc_col_score_df.groupby([\"condition\", \"gameid\"]).mean().xs('close', level='condition')  #index.get_level_values('condition')"
   ]
  },
  {
   "cell_type": "code",
   "execution_count": 482,
   "metadata": {},
   "outputs": [
    {
     "data": {
      "text/html": [
       "<div>\n",
       "<style>\n",
       "    .dataframe thead tr:only-child th {\n",
       "        text-align: right;\n",
       "    }\n",
       "\n",
       "    .dataframe thead th {\n",
       "        text-align: left;\n",
       "    }\n",
       "\n",
       "    .dataframe tbody tr th {\n",
       "        vertical-align: top;\n",
       "    }\n",
       "</style>\n",
       "<table border=\"1\" class=\"dataframe\">\n",
       "  <thead>\n",
       "    <tr style=\"text-align: right;\">\n",
       "      <th></th>\n",
       "      <th>true_score</th>\n",
       "      <th>model_score</th>\n",
       "    </tr>\n",
       "    <tr>\n",
       "      <th>gameid</th>\n",
       "      <th></th>\n",
       "      <th></th>\n",
       "    </tr>\n",
       "  </thead>\n",
       "  <tbody>\n",
       "    <tr>\n",
       "      <th>1925-1</th>\n",
       "      <td>0.437500</td>\n",
       "      <td>0.484696</td>\n",
       "    </tr>\n",
       "    <tr>\n",
       "      <th>3332-5</th>\n",
       "      <td>0.470588</td>\n",
       "      <td>0.516032</td>\n",
       "    </tr>\n",
       "    <tr>\n",
       "      <th>7286-9</th>\n",
       "      <td>0.470588</td>\n",
       "      <td>0.709436</td>\n",
       "    </tr>\n",
       "  </tbody>\n",
       "</table>\n",
       "</div>"
      ],
      "text/plain": [
       "        true_score  model_score\n",
       "gameid                         \n",
       "1925-1    0.437500     0.484696\n",
       "3332-5    0.470588     0.516032\n",
       "7286-9    0.470588     0.709436"
      ]
     },
     "execution_count": 482,
     "metadata": {},
     "output_type": "execute_result"
    }
   ],
   "source": [
    "suc_col_score_close[suc_col_score_close['true_score'] < 0.5]"
   ]
  },
  {
   "cell_type": "code",
   "execution_count": 483,
   "metadata": {},
   "outputs": [
    {
     "name": "stdout",
     "output_type": "stream",
     "text": [
      "10418) Game: 1925-1 Round: 1\n",
      "red\n"
     ]
    },
    {
     "data": {
      "image/png": "[encoded data removed]",
      "text/plain": [
       "<Figure size 432x288 with 1 Axes>"
      ]
     },
     "metadata": {},
     "output_type": "display_data"
    },
    {
     "name": "stdout",
     "output_type": "stream",
     "text": [
      "10419) Game: 1925-1 Round: 2\n",
      "tan\n"
     ]
    },
    {
     "data": {
      "image/png": "[encoded data removed]",
      "text/plain": [
       "<Figure size 432x288 with 1 Axes>"
      ]
     },
     "metadata": {},
     "output_type": "display_data"
    },
    {
     "name": "stdout",
     "output_type": "stream",
     "text": [
      "10420) Game: 1925-1 Round: 3\n",
      "gold\n"
     ]
    },
    {
     "data": {
      "image/png": "[encoded data removed]",
      "text/plain": [
       "<Figure size 432x288 with 1 Axes>"
      ]
     },
     "metadata": {},
     "output_type": "display_data"
    },
    {
     "name": "stdout",
     "output_type": "stream",
     "text": [
      "10421) Game: 1925-1 Round: 4\n",
      "blue\n"
     ]
    },
    {
     "data": {
      "image/png": "[encoded data removed]",
      "text/plain": [
       "<Figure size 432x288 with 1 Axes>"
      ]
     },
     "metadata": {},
     "output_type": "display_data"
    },
    {
     "name": "stdout",
     "output_type": "stream",
     "text": [
      "10422) Game: 1925-1 Round: 5\n",
      "blue-not pink, not purple\n"
     ]
    },
    {
     "data": {
      "image/png": "[encoded data removed]",
      "text/plain": [
       "<Figure size 432x288 with 1 Axes>"
      ]
     },
     "metadata": {},
     "output_type": "display_data"
    },
    {
     "name": "stdout",
     "output_type": "stream",
     "text": [
      "10423) Game: 1925-1 Round: 7\n",
      "pick the darker of the two blue shades\n"
     ]
    },
    {
     "data": {
      "image/png": "[encoded data removed]",
      "text/plain": [
       "<Figure size 432x288 with 1 Axes>"
      ]
     },
     "metadata": {},
     "output_type": "display_data"
    },
    {
     "name": "stdout",
     "output_type": "stream",
     "text": [
      "10424) Game: 1925-1 Round: 8\n",
      "red\n"
     ]
    },
    {
     "data": {
      "image/png": "[encoded data removed]",
      "text/plain": [
       "<Figure size 432x288 with 1 Axes>"
      ]
     },
     "metadata": {},
     "output_type": "display_data"
    },
    {
     "name": "stdout",
     "output_type": "stream",
     "text": [
      "10425) Game: 1925-1 Round: 9\n",
      "bright yellow\n"
     ]
    },
    {
     "data": {
      "image/png": "[encoded data removed]",
      "text/plain": [
       "<Figure size 432x288 with 1 Axes>"
      ]
     },
     "metadata": {},
     "output_type": "display_data"
    },
    {
     "name": "stdout",
     "output_type": "stream",
     "text": [
      "10426) Game: 1925-1 Round: 11\n",
      "so one has a greenish tint. not that one\n"
     ]
    },
    {
     "data": {
      "image/png": "[encoded data removed]",
      "text/plain": [
       "<Figure size 432x288 with 1 Axes>"
      ]
     },
     "metadata": {},
     "output_type": "display_data"
    },
    {
     "name": "stdout",
     "output_type": "stream",
     "text": [
      "10427) Game: 1925-1 Round: 12\n",
      "pale blue\n"
     ]
    },
    {
     "data": {
      "image/png": "[encoded data removed]",
      "text/plain": [
       "<Figure size 432x288 with 1 Axes>"
      ]
     },
     "metadata": {},
     "output_type": "display_data"
    },
    {
     "name": "stdout",
     "output_type": "stream",
     "text": [
      "10428) Game: 1925-1 Round: 13\n",
      "not neon green, and not the greenish/brownish\n"
     ]
    },
    {
     "data": {
      "image/png": "[encoded data removed]",
      "text/plain": [
       "<Figure size 432x288 with 1 Axes>"
      ]
     },
     "metadata": {},
     "output_type": "display_data"
    },
    {
     "name": "stdout",
     "output_type": "stream",
     "text": [
      "10429) Game: 1925-1 Round: 14\n",
      "the brighter blue ~ what are you doing?\n"
     ]
    },
    {
     "data": {
      "image/png": "[encoded data removed]",
      "text/plain": [
       "<Figure size 432x288 with 1 Axes>"
      ]
     },
     "metadata": {},
     "output_type": "display_data"
    },
    {
     "name": "stdout",
     "output_type": "stream",
     "text": [
      "10430) Game: 1925-1 Round: 15\n",
      "neon green/yellow\n"
     ]
    },
    {
     "data": {
      "image/png": "[encoded data removed]",
      "text/plain": [
       "<Figure size 432x288 with 1 Axes>"
      ]
     },
     "metadata": {},
     "output_type": "display_data"
    },
    {
     "name": "stdout",
     "output_type": "stream",
     "text": [
      "10431) Game: 1925-1 Round: 16\n",
      "slate blue ~ i'd appreciate it if you could pay attention\n"
     ]
    },
    {
     "data": {
      "image/png": "[encoded data removed]",
      "text/plain": [
       "<Figure size 432x288 with 1 Axes>"
      ]
     },
     "metadata": {},
     "output_type": "display_data"
    },
    {
     "name": "stdout",
     "output_type": "stream",
     "text": [
      "10432) Game: 1925-1 Round: 17\n",
      "pink/purple. not light purple. not blue/purple\n"
     ]
    },
    {
     "data": {
      "image/png": "[encoded data removed]",
      "text/plain": [
       "<Figure size 432x288 with 1 Axes>"
      ]
     },
     "metadata": {},
     "output_type": "display_data"
    },
    {
     "name": "stdout",
     "output_type": "stream",
     "text": [
      "10433) Game: 1925-1 Round: 18\n",
      "blue\n"
     ]
    },
    {
     "data": {
      "image/png": "[encoded data removed]",
      "text/plain": [
       "<Figure size 432x288 with 1 Axes>"
      ]
     },
     "metadata": {},
     "output_type": "display_data"
    },
    {
     "name": "stdout",
     "output_type": "stream",
     "text": [
      "10434) Game: 1925-1 Round: 19\n",
      "yellow ~ can you just exit please\n"
     ]
    },
    {
     "data": {
      "image/png": "[encoded data removed]",
      "text/plain": [
       "<Figure size 432x288 with 1 Axes>"
      ]
     },
     "metadata": {},
     "output_type": "display_data"
    },
    {
     "name": "stdout",
     "output_type": "stream",
     "text": [
      "10435) Game: 1925-1 Round: 20\n",
      "the more purple one. ~ not blue ~ not the dullish purple\n"
     ]
    },
    {
     "data": {
      "image/png": "[encoded data removed]",
      "text/plain": [
       "<Figure size 432x288 with 1 Axes>"
      ]
     },
     "metadata": {},
     "output_type": "display_data"
    },
    {
     "name": "stdout",
     "output_type": "stream",
     "text": [
      "10436) Game: 1925-1 Round: 21\n",
      "hot pink\n"
     ]
    },
    {
     "data": {
      "image/png": "[encoded data removed]",
      "text/plain": [
       "<Figure size 432x288 with 1 Axes>"
      ]
     },
     "metadata": {},
     "output_type": "display_data"
    },
    {
     "name": "stdout",
     "output_type": "stream",
     "text": [
      "10437) Game: 1925-1 Round: 22\n",
      "what?\n"
     ]
    },
    {
     "data": {
      "image/png": "[encoded data removed]",
      "text/plain": [
       "<Figure size 432x288 with 1 Axes>"
      ]
     },
     "metadata": {},
     "output_type": "display_data"
    },
    {
     "name": "stdout",
     "output_type": "stream",
     "text": [
      "10438) Game: 1925-1 Round: 23\n",
      "blue\n"
     ]
    },
    {
     "data": {
      "image/png": "[encoded data removed]",
      "text/plain": [
       "<Figure size 432x288 with 1 Axes>"
      ]
     },
     "metadata": {},
     "output_type": "display_data"
    },
    {
     "name": "stdout",
     "output_type": "stream",
     "text": [
      "10439) Game: 1925-1 Round: 24\n",
      "yellow\n"
     ]
    },
    {
     "data": {
      "image/png": "[encoded data removed]",
      "text/plain": [
       "<Figure size 432x288 with 1 Axes>"
      ]
     },
     "metadata": {},
     "output_type": "display_data"
    },
    {
     "name": "stdout",
     "output_type": "stream",
     "text": [
      "10440) Game: 1925-1 Round: 25\n",
      "the darkest blue\n"
     ]
    },
    {
     "data": {
      "image/png": "[encoded data removed]",
      "text/plain": [
       "<Figure size 432x288 with 1 Axes>"
      ]
     },
     "metadata": {},
     "output_type": "display_data"
    },
    {
     "name": "stdout",
     "output_type": "stream",
     "text": [
      "10441) Game: 1925-1 Round: 26\n",
      "pink\n"
     ]
    },
    {
     "data": {
      "image/png": "[encoded data removed]",
      "text/plain": [
       "<Figure size 432x288 with 1 Axes>"
      ]
     },
     "metadata": {},
     "output_type": "display_data"
    },
    {
     "name": "stdout",
     "output_type": "stream",
     "text": [
      "10442) Game: 1925-1 Round: 27\n",
      "sage/seaweed green\n"
     ]
    },
    {
     "data": {
      "image/png": "[encoded data removed]",
      "text/plain": [
       "<Figure size 432x288 with 1 Axes>"
      ]
     },
     "metadata": {},
     "output_type": "display_data"
    },
    {
     "name": "stdout",
     "output_type": "stream",
     "text": [
      "10443) Game: 1925-1 Round: 28\n",
      "darkest blue\n"
     ]
    },
    {
     "data": {
      "image/png": "[encoded data removed]",
      "text/plain": [
       "<Figure size 432x288 with 1 Axes>"
      ]
     },
     "metadata": {},
     "output_type": "display_data"
    },
    {
     "name": "stdout",
     "output_type": "stream",
     "text": [
      "10444) Game: 1925-1 Round: 29\n",
      "yellow\n"
     ]
    },
    {
     "data": {
      "image/png": "[encoded data removed]",
      "text/plain": [
       "<Figure size 432x288 with 1 Axes>"
      ]
     },
     "metadata": {},
     "output_type": "display_data"
    },
    {
     "name": "stdout",
     "output_type": "stream",
     "text": [
      "10445) Game: 1925-1 Round: 30\n",
      "the most brown shade\n"
     ]
    },
    {
     "data": {
      "image/png": "[encoded data removed]",
      "text/plain": [
       "<Figure size 432x288 with 1 Axes>"
      ]
     },
     "metadata": {},
     "output_type": "display_data"
    },
    {
     "name": "stdout",
     "output_type": "stream",
     "text": [
      "10446) Game: 1925-1 Round: 31\n",
      "tan\n"
     ]
    },
    {
     "data": {
      "image/png": "[encoded data removed]",
      "text/plain": [
       "<Figure size 432x288 with 1 Axes>"
      ]
     },
     "metadata": {},
     "output_type": "display_data"
    },
    {
     "name": "stdout",
     "output_type": "stream",
     "text": [
      "10447) Game: 1925-1 Round: 32\n",
      "darkest purple\n"
     ]
    },
    {
     "data": {
      "image/png": "[encoded data removed]",
      "text/plain": [
       "<Figure size 432x288 with 1 Axes>"
      ]
     },
     "metadata": {},
     "output_type": "display_data"
    },
    {
     "name": "stdout",
     "output_type": "stream",
     "text": [
      "10448) Game: 1925-1 Round: 33\n",
      "medium blue\n"
     ]
    },
    {
     "data": {
      "image/png": "[encoded data removed]",
      "text/plain": [
       "<Figure size 432x288 with 1 Axes>"
      ]
     },
     "metadata": {},
     "output_type": "display_data"
    },
    {
     "name": "stdout",
     "output_type": "stream",
     "text": [
      "10449) Game: 1925-1 Round: 34\n",
      "blue\n"
     ]
    },
    {
     "data": {
      "image/png": "[encoded data removed]",
      "text/plain": [
       "<Figure size 432x288 with 1 Axes>"
      ]
     },
     "metadata": {},
     "output_type": "display_data"
    },
    {
     "name": "stdout",
     "output_type": "stream",
     "text": [
      "10450) Game: 1925-1 Round: 35\n",
      "purple\n"
     ]
    },
    {
     "data": {
      "image/png": "[encoded data removed]",
      "text/plain": [
       "<Figure size 432x288 with 1 Axes>"
      ]
     },
     "metadata": {},
     "output_type": "display_data"
    },
    {
     "name": "stdout",
     "output_type": "stream",
     "text": [
      "10451) Game: 1925-1 Round: 36\n",
      "bright green\n"
     ]
    },
    {
     "data": {
      "image/png": "[encoded data removed]",
      "text/plain": [
       "<Figure size 432x288 with 1 Axes>"
      ]
     },
     "metadata": {},
     "output_type": "display_data"
    },
    {
     "name": "stdout",
     "output_type": "stream",
     "text": [
      "10452) Game: 1925-1 Round: 37\n",
      "pink\n"
     ]
    },
    {
     "data": {
      "image/png": "[encoded data removed]",
      "text/plain": [
       "<Figure size 432x288 with 1 Axes>"
      ]
     },
     "metadata": {},
     "output_type": "display_data"
    },
    {
     "name": "stdout",
     "output_type": "stream",
     "text": [
      "10453) Game: 1925-1 Round: 38\n",
      "blue\n"
     ]
    },
    {
     "data": {
      "image/png": "[encoded data removed]",
      "text/plain": [
       "<Figure size 432x288 with 1 Axes>"
      ]
     },
     "metadata": {},
     "output_type": "display_data"
    },
    {
     "name": "stdout",
     "output_type": "stream",
     "text": [
      "10454) Game: 1925-1 Round: 39\n",
      "gold\n"
     ]
    },
    {
     "data": {
      "image/png": "[encoded data removed]",
      "text/plain": [
       "<Figure size 432x288 with 1 Axes>"
      ]
     },
     "metadata": {},
     "output_type": "display_data"
    },
    {
     "name": "stdout",
     "output_type": "stream",
     "text": [
      "10455) Game: 1925-1 Round: 40\n",
      "light green\n"
     ]
    },
    {
     "data": {
      "image/png": "[encoded data removed]",
      "text/plain": [
       "<Figure size 432x288 with 1 Axes>"
      ]
     },
     "metadata": {},
     "output_type": "display_data"
    },
    {
     "name": "stdout",
     "output_type": "stream",
     "text": [
      "10456) Game: 1925-1 Round: 41\n",
      "blue\n"
     ]
    },
    {
     "data": {
      "image/png": "[encoded data removed]",
      "text/plain": [
       "<Figure size 432x288 with 1 Axes>"
      ]
     },
     "metadata": {},
     "output_type": "display_data"
    },
    {
     "name": "stdout",
     "output_type": "stream",
     "text": [
      "10457) Game: 1925-1 Round: 42\n",
      "tan\n"
     ]
    },
    {
     "data": {
      "image/png": "[encoded data removed]",
      "text/plain": [
       "<Figure size 432x288 with 1 Axes>"
      ]
     },
     "metadata": {},
     "output_type": "display_data"
    },
    {
     "name": "stdout",
     "output_type": "stream",
     "text": [
      "10458) Game: 1925-1 Round: 43\n",
      "orange. not the peach one\n"
     ]
    },
    {
     "data": {
      "image/png": "[encoded data removed]",
      "text/plain": [
       "<Figure size 432x288 with 1 Axes>"
      ]
     },
     "metadata": {},
     "output_type": "display_data"
    },
    {
     "name": "stdout",
     "output_type": "stream",
     "text": [
      "10459) Game: 1925-1 Round: 44\n",
      "teal\n"
     ]
    },
    {
     "data": {
      "image/png": "[encoded data removed]",
      "text/plain": [
       "<Figure size 432x288 with 1 Axes>"
      ]
     },
     "metadata": {},
     "output_type": "display_data"
    },
    {
     "name": "stdout",
     "output_type": "stream",
     "text": [
      "10460) Game: 1925-1 Round: 45\n",
      "orange\n"
     ]
    },
    {
     "data": {
      "image/png": "[encoded data removed]",
      "text/plain": [
       "<Figure size 432x288 with 1 Axes>"
      ]
     },
     "metadata": {},
     "output_type": "display_data"
    },
    {
     "name": "stdout",
     "output_type": "stream",
     "text": [
      "10461) Game: 1925-1 Round: 46\n",
      "the brightest\n"
     ]
    },
    {
     "data": {
      "image/png": "[encoded data removed]",
      "text/plain": [
       "<Figure size 432x288 with 1 Axes>"
      ]
     },
     "metadata": {},
     "output_type": "display_data"
    },
    {
     "name": "stdout",
     "output_type": "stream",
     "text": [
      "10462) Game: 1925-1 Round: 47\n",
      "sage\n"
     ]
    },
    {
     "data": {
      "image/png": "[encoded data removed]",
      "text/plain": [
       "<Figure size 432x288 with 1 Axes>"
      ]
     },
     "metadata": {},
     "output_type": "display_data"
    },
    {
     "name": "stdout",
     "output_type": "stream",
     "text": [
      "10463) Game: 1925-1 Round: 48\n",
      "purple\n"
     ]
    },
    {
     "data": {
      "image/png": "[encoded data removed]",
      "text/plain": [
       "<Figure size 432x288 with 1 Axes>"
      ]
     },
     "metadata": {},
     "output_type": "display_data"
    },
    {
     "name": "stdout",
     "output_type": "stream",
     "text": [
      "10464) Game: 1925-1 Round: 49\n",
      "lightest/brightest\n"
     ]
    },
    {
     "data": {
      "image/png": "[encoded data removed]",
      "text/plain": [
       "<Figure size 432x288 with 1 Axes>"
      ]
     },
     "metadata": {},
     "output_type": "display_data"
    },
    {
     "name": "stdout",
     "output_type": "stream",
     "text": [
      "10465) Game: 1925-1 Round: 50\n",
      "sage\n"
     ]
    },
    {
     "data": {
      "image/png": "[encoded data removed]",
      "text/plain": [
       "<Figure size 432x288 with 1 Axes>"
      ]
     },
     "metadata": {},
     "output_type": "display_data"
    }
   ],
   "source": [
    "dev_data.display_game_for_gameid('1925-1')"
   ]
  },
  {
   "cell_type": "code",
   "execution_count": 484,
   "metadata": {},
   "outputs": [
    {
     "name": "stdout",
     "output_type": "stream",
     "text": [
      "2882) Game: 3332-5 Round: 1\n",
      "Hello ~ Yellow\n"
     ]
    },
    {
     "data": {
      "image/png": "[encoded data removed]",
      "text/plain": [
       "<Figure size 432x288 with 1 Axes>"
      ]
     },
     "metadata": {},
     "output_type": "display_data"
    },
    {
     "name": "stdout",
     "output_type": "stream",
     "text": [
      "2883) Game: 3332-5 Round: 2\n",
      "Darkest one\n"
     ]
    },
    {
     "data": {
      "image/png": "[encoded data removed]",
      "text/plain": [
       "<Figure size 432x288 with 1 Axes>"
      ]
     },
     "metadata": {},
     "output_type": "display_data"
    },
    {
     "name": "stdout",
     "output_type": "stream",
     "text": [
      "2884) Game: 3332-5 Round: 3\n",
      "Blue\n"
     ]
    },
    {
     "data": {
      "image/png": "[encoded data removed]",
      "text/plain": [
       "<Figure size 432x288 with 1 Axes>"
      ]
     },
     "metadata": {},
     "output_type": "display_data"
    },
    {
     "name": "stdout",
     "output_type": "stream",
     "text": [
      "2885) Game: 3332-5 Round: 4\n",
      "Green\n"
     ]
    },
    {
     "data": {
      "image/png": "[encoded data removed]",
      "text/plain": [
       "<Figure size 432x288 with 1 Axes>"
      ]
     },
     "metadata": {},
     "output_type": "display_data"
    },
    {
     "name": "stdout",
     "output_type": "stream",
     "text": [
      "2886) Game: 3332-5 Round: 5\n",
      "Pink\n"
     ]
    },
    {
     "data": {
      "image/png": "[encoded data removed]",
      "text/plain": [
       "<Figure size 432x288 with 1 Axes>"
      ]
     },
     "metadata": {},
     "output_type": "display_data"
    },
    {
     "name": "stdout",
     "output_type": "stream",
     "text": [
      "2887) Game: 3332-5 Round: 6\n",
      "Red\n"
     ]
    },
    {
     "data": {
      "image/png": "[encoded data removed]",
      "text/plain": [
       "<Figure size 432x288 with 1 Axes>"
      ]
     },
     "metadata": {},
     "output_type": "display_data"
    },
    {
     "name": "stdout",
     "output_type": "stream",
     "text": [
      "2888) Game: 3332-5 Round: 7\n",
      "Darkest one\n"
     ]
    },
    {
     "data": {
      "image/png": "[encoded data removed]",
      "text/plain": [
       "<Figure size 432x288 with 1 Axes>"
      ]
     },
     "metadata": {},
     "output_type": "display_data"
    },
    {
     "name": "stdout",
     "output_type": "stream",
     "text": [
      "2889) Game: 3332-5 Round: 8\n",
      "Green\n"
     ]
    },
    {
     "data": {
      "image/png": "[encoded data removed]",
      "text/plain": [
       "<Figure size 432x288 with 1 Axes>"
      ]
     },
     "metadata": {},
     "output_type": "display_data"
    },
    {
     "name": "stdout",
     "output_type": "stream",
     "text": [
      "2890) Game: 3332-5 Round: 9\n",
      "Olive\n"
     ]
    },
    {
     "data": {
      "image/png": "[encoded data removed]",
      "text/plain": [
       "<Figure size 432x288 with 1 Axes>"
      ]
     },
     "metadata": {},
     "output_type": "display_data"
    },
    {
     "name": "stdout",
     "output_type": "stream",
     "text": [
      "2891) Game: 3332-5 Round: 10\n",
      "Green medium pale\n"
     ]
    },
    {
     "data": {
      "image/png": "[encoded data removed]",
      "text/plain": [
       "<Figure size 432x288 with 1 Axes>"
      ]
     },
     "metadata": {},
     "output_type": "display_data"
    },
    {
     "name": "stdout",
     "output_type": "stream",
     "text": [
      "2892) Game: 3332-5 Round: 11\n",
      "Grey dark\n"
     ]
    },
    {
     "data": {
      "image/png": "[encoded data removed]",
      "text/plain": [
       "<Figure size 432x288 with 1 Axes>"
      ]
     },
     "metadata": {},
     "output_type": "display_data"
    },
    {
     "name": "stdout",
     "output_type": "stream",
     "text": [
      "2893) Game: 3332-5 Round: 12\n",
      "Green\n"
     ]
    },
    {
     "data": {
      "image/png": "[encoded data removed]",
      "text/plain": [
       "<Figure size 432x288 with 1 Axes>"
      ]
     },
     "metadata": {},
     "output_type": "display_data"
    },
    {
     "name": "stdout",
     "output_type": "stream",
     "text": [
      "2894) Game: 3332-5 Round: 13\n",
      "Blue\n"
     ]
    },
    {
     "data": {
      "image/png": "[encoded data removed]",
      "text/plain": [
       "<Figure size 432x288 with 1 Axes>"
      ]
     },
     "metadata": {},
     "output_type": "display_data"
    },
    {
     "name": "stdout",
     "output_type": "stream",
     "text": [
      "2895) Game: 3332-5 Round: 14\n",
      "Red\n"
     ]
    },
    {
     "data": {
      "image/png": "[encoded data removed]",
      "text/plain": [
       "<Figure size 432x288 with 1 Axes>"
      ]
     },
     "metadata": {},
     "output_type": "display_data"
    },
    {
     "name": "stdout",
     "output_type": "stream",
     "text": [
      "2896) Game: 3332-5 Round: 15\n",
      "Green\n"
     ]
    },
    {
     "data": {
      "image/png": "[encoded data removed]",
      "text/plain": [
       "<Figure size 432x288 with 1 Axes>"
      ]
     },
     "metadata": {},
     "output_type": "display_data"
    },
    {
     "name": "stdout",
     "output_type": "stream",
     "text": [
      "2897) Game: 3332-5 Round: 16\n",
      "Yellow\n"
     ]
    },
    {
     "data": {
      "image/png": "[encoded data removed]",
      "text/plain": [
       "<Figure size 432x288 with 1 Axes>"
      ]
     },
     "metadata": {},
     "output_type": "display_data"
    },
    {
     "name": "stdout",
     "output_type": "stream",
     "text": [
      "2898) Game: 3332-5 Round: 17\n",
      "Pink\n"
     ]
    },
    {
     "data": {
      "image/png": "[encoded data removed]",
      "text/plain": [
       "<Figure size 432x288 with 1 Axes>"
      ]
     },
     "metadata": {},
     "output_type": "display_data"
    },
    {
     "name": "stdout",
     "output_type": "stream",
     "text": [
      "2899) Game: 3332-5 Round: 18\n",
      "Blue pale\n"
     ]
    },
    {
     "data": {
      "image/png": "[encoded data removed]",
      "text/plain": [
       "<Figure size 432x288 with 1 Axes>"
      ]
     },
     "metadata": {},
     "output_type": "display_data"
    },
    {
     "name": "stdout",
     "output_type": "stream",
     "text": [
      "2900) Game: 3332-5 Round: 19\n",
      "Brown\n"
     ]
    },
    {
     "data": {
      "image/png": "[encoded data removed]",
      "text/plain": [
       "<Figure size 432x288 with 1 Axes>"
      ]
     },
     "metadata": {},
     "output_type": "display_data"
    },
    {
     "name": "stdout",
     "output_type": "stream",
     "text": [
      "2901) Game: 3332-5 Round: 20\n",
      "Grey\n"
     ]
    },
    {
     "data": {
      "image/png": "[encoded data removed]",
      "text/plain": [
       "<Figure size 432x288 with 1 Axes>"
      ]
     },
     "metadata": {},
     "output_type": "display_data"
    },
    {
     "name": "stdout",
     "output_type": "stream",
     "text": [
      "2902) Game: 3332-5 Round: 21\n",
      "Blue\n"
     ]
    },
    {
     "data": {
      "image/png": "[encoded data removed]",
      "text/plain": [
       "<Figure size 432x288 with 1 Axes>"
      ]
     },
     "metadata": {},
     "output_type": "display_data"
    },
    {
     "name": "stdout",
     "output_type": "stream",
     "text": [
      "2903) Game: 3332-5 Round: 22\n",
      "Pink\n"
     ]
    },
    {
     "data": {
      "image/png": "[encoded data removed]",
      "text/plain": [
       "<Figure size 432x288 with 1 Axes>"
      ]
     },
     "metadata": {},
     "output_type": "display_data"
    },
    {
     "name": "stdout",
     "output_type": "stream",
     "text": [
      "2904) Game: 3332-5 Round: 23\n",
      "Green pale the lightest one\n"
     ]
    },
    {
     "data": {
      "image/png": "[encoded data removed]",
      "text/plain": [
       "<Figure size 432x288 with 1 Axes>"
      ]
     },
     "metadata": {},
     "output_type": "display_data"
    },
    {
     "name": "stdout",
     "output_type": "stream",
     "text": [
      "2905) Game: 3332-5 Round: 24\n",
      "The darkest one more grey\n"
     ]
    },
    {
     "data": {
      "image/png": "[encoded data removed]",
      "text/plain": [
       "<Figure size 432x288 with 1 Axes>"
      ]
     },
     "metadata": {},
     "output_type": "display_data"
    },
    {
     "name": "stdout",
     "output_type": "stream",
     "text": [
      "2906) Game: 3332-5 Round: 25\n",
      "Tan\n"
     ]
    },
    {
     "data": {
      "image/png": "[encoded data removed]",
      "text/plain": [
       "<Figure size 432x288 with 1 Axes>"
      ]
     },
     "metadata": {},
     "output_type": "display_data"
    },
    {
     "name": "stdout",
     "output_type": "stream",
     "text": [
      "2907) Game: 3332-5 Round: 26\n",
      "Bluish purple\n"
     ]
    },
    {
     "data": {
      "image/png": "[encoded data removed]",
      "text/plain": [
       "<Figure size 432x288 with 1 Axes>"
      ]
     },
     "metadata": {},
     "output_type": "display_data"
    },
    {
     "name": "stdout",
     "output_type": "stream",
     "text": [
      "2908) Game: 3332-5 Round: 27\n",
      "Grey\n"
     ]
    },
    {
     "data": {
      "image/png": "[encoded data removed]",
      "text/plain": [
       "<Figure size 432x288 with 1 Axes>"
      ]
     },
     "metadata": {},
     "output_type": "display_data"
    },
    {
     "name": "stdout",
     "output_type": "stream",
     "text": [
      "2909) Game: 3332-5 Round: 28\n",
      "Blue\n"
     ]
    },
    {
     "data": {
      "image/png": "[encoded data removed]",
      "text/plain": [
       "<Figure size 432x288 with 1 Axes>"
      ]
     },
     "metadata": {},
     "output_type": "display_data"
    },
    {
     "name": "stdout",
     "output_type": "stream",
     "text": [
      "2910) Game: 3332-5 Round: 29\n",
      "Olive green\n"
     ]
    },
    {
     "data": {
      "image/png": "[encoded data removed]",
      "text/plain": [
       "<Figure size 432x288 with 1 Axes>"
      ]
     },
     "metadata": {},
     "output_type": "display_data"
    },
    {
     "name": "stdout",
     "output_type": "stream",
     "text": [
      "2911) Game: 3332-5 Round: 30\n",
      "Green\n"
     ]
    },
    {
     "data": {
      "image/png": "[encoded data removed]",
      "text/plain": [
       "<Figure size 432x288 with 1 Axes>"
      ]
     },
     "metadata": {},
     "output_type": "display_data"
    },
    {
     "name": "stdout",
     "output_type": "stream",
     "text": [
      "2912) Game: 3332-5 Round: 31\n",
      "Brown\n"
     ]
    },
    {
     "data": {
      "image/png": "[encoded data removed]",
      "text/plain": [
       "<Figure size 432x288 with 1 Axes>"
      ]
     },
     "metadata": {},
     "output_type": "display_data"
    },
    {
     "name": "stdout",
     "output_type": "stream",
     "text": [
      "2913) Game: 3332-5 Round: 32\n",
      "Green olive\n"
     ]
    },
    {
     "data": {
      "image/png": "[encoded data removed]",
      "text/plain": [
       "<Figure size 432x288 with 1 Axes>"
      ]
     },
     "metadata": {},
     "output_type": "display_data"
    },
    {
     "name": "stdout",
     "output_type": "stream",
     "text": [
      "2914) Game: 3332-5 Round: 33\n",
      "Green army dark\n"
     ]
    },
    {
     "data": {
      "image/png": "[encoded data removed]",
      "text/plain": [
       "<Figure size 432x288 with 1 Axes>"
      ]
     },
     "metadata": {},
     "output_type": "display_data"
    },
    {
     "name": "stdout",
     "output_type": "stream",
     "text": [
      "2915) Game: 3332-5 Round: 34\n",
      "Purple dark\n"
     ]
    },
    {
     "data": {
      "image/png": "[encoded data removed]",
      "text/plain": [
       "<Figure size 432x288 with 1 Axes>"
      ]
     },
     "metadata": {},
     "output_type": "display_data"
    },
    {
     "name": "stdout",
     "output_type": "stream",
     "text": [
      "2916) Game: 3332-5 Round: 35\n",
      "Blue\n"
     ]
    },
    {
     "data": {
      "image/png": "[encoded data removed]",
      "text/plain": [
       "<Figure size 432x288 with 1 Axes>"
      ]
     },
     "metadata": {},
     "output_type": "display_data"
    },
    {
     "name": "stdout",
     "output_type": "stream",
     "text": [
      "2917) Game: 3332-5 Round: 36\n",
      "Purple\n"
     ]
    },
    {
     "data": {
      "image/png": "[encoded data removed]",
      "text/plain": [
       "<Figure size 432x288 with 1 Axes>"
      ]
     },
     "metadata": {},
     "output_type": "display_data"
    },
    {
     "name": "stdout",
     "output_type": "stream",
     "text": [
      "2918) Game: 3332-5 Round: 37\n",
      "Grey\n"
     ]
    },
    {
     "data": {
      "image/png": "[encoded data removed]",
      "text/plain": [
       "<Figure size 432x288 with 1 Axes>"
      ]
     },
     "metadata": {},
     "output_type": "display_data"
    },
    {
     "name": "stdout",
     "output_type": "stream",
     "text": [
      "2919) Game: 3332-5 Round: 38\n",
      "Purple middle color not bright not dark\n"
     ]
    },
    {
     "data": {
      "image/png": "[encoded data removed]",
      "text/plain": [
       "<Figure size 432x288 with 1 Axes>"
      ]
     },
     "metadata": {},
     "output_type": "display_data"
    },
    {
     "name": "stdout",
     "output_type": "stream",
     "text": [
      "2920) Game: 3332-5 Round: 39\n",
      "Pink\n"
     ]
    },
    {
     "data": {
      "image/png": "[encoded data removed]",
      "text/plain": [
       "<Figure size 432x288 with 1 Axes>"
      ]
     },
     "metadata": {},
     "output_type": "display_data"
    },
    {
     "name": "stdout",
     "output_type": "stream",
     "text": [
      "2921) Game: 3332-5 Round: 40\n",
      "Yellow\n"
     ]
    },
    {
     "data": {
      "image/png": "[encoded data removed]",
      "text/plain": [
       "<Figure size 432x288 with 1 Axes>"
      ]
     },
     "metadata": {},
     "output_type": "display_data"
    },
    {
     "name": "stdout",
     "output_type": "stream",
     "text": [
      "2922) Game: 3332-5 Round: 41\n",
      "Grey\n"
     ]
    },
    {
     "data": {
      "image/png": "[encoded data removed]",
      "text/plain": [
       "<Figure size 432x288 with 1 Axes>"
      ]
     },
     "metadata": {},
     "output_type": "display_data"
    },
    {
     "name": "stdout",
     "output_type": "stream",
     "text": [
      "2923) Game: 3332-5 Round: 42\n",
      "Brown\n"
     ]
    },
    {
     "data": {
      "image/png": "[encoded data removed]",
      "text/plain": [
       "<Figure size 432x288 with 1 Axes>"
      ]
     },
     "metadata": {},
     "output_type": "display_data"
    },
    {
     "name": "stdout",
     "output_type": "stream",
     "text": [
      "2924) Game: 3332-5 Round: 43\n",
      "Purple\n"
     ]
    },
    {
     "data": {
      "image/png": "[encoded data removed]",
      "text/plain": [
       "<Figure size 432x288 with 1 Axes>"
      ]
     },
     "metadata": {},
     "output_type": "display_data"
    },
    {
     "name": "stdout",
     "output_type": "stream",
     "text": [
      "2925) Game: 3332-5 Round: 44\n",
      "Blue grey\n"
     ]
    },
    {
     "data": {
      "image/png": "[encoded data removed]",
      "text/plain": [
       "<Figure size 432x288 with 1 Axes>"
      ]
     },
     "metadata": {},
     "output_type": "display_data"
    },
    {
     "name": "stdout",
     "output_type": "stream",
     "text": [
      "2926) Game: 3332-5 Round: 45\n",
      "purple\n"
     ]
    },
    {
     "data": {
      "image/png": "[encoded data removed]",
      "text/plain": [
       "<Figure size 432x288 with 1 Axes>"
      ]
     },
     "metadata": {},
     "output_type": "display_data"
    },
    {
     "name": "stdout",
     "output_type": "stream",
     "text": [
      "2927) Game: 3332-5 Round: 46\n",
      "Purple\n"
     ]
    },
    {
     "data": {
      "image/png": "[encoded data removed]",
      "text/plain": [
       "<Figure size 432x288 with 1 Axes>"
      ]
     },
     "metadata": {},
     "output_type": "display_data"
    },
    {
     "name": "stdout",
     "output_type": "stream",
     "text": [
      "2928) Game: 3332-5 Round: 47\n",
      "Teal\n"
     ]
    },
    {
     "data": {
      "image/png": "[encoded data removed]",
      "text/plain": [
       "<Figure size 432x288 with 1 Axes>"
      ]
     },
     "metadata": {},
     "output_type": "display_data"
    },
    {
     "name": "stdout",
     "output_type": "stream",
     "text": [
      "2929) Game: 3332-5 Round: 48\n",
      "Brown\n"
     ]
    },
    {
     "data": {
      "image/png": "[encoded data removed]",
      "text/plain": [
       "<Figure size 432x288 with 1 Axes>"
      ]
     },
     "metadata": {},
     "output_type": "display_data"
    },
    {
     "name": "stdout",
     "output_type": "stream",
     "text": [
      "2930) Game: 3332-5 Round: 49\n",
      "Grey\n"
     ]
    },
    {
     "data": {
      "image/png": "[encoded data removed]",
      "text/plain": [
       "<Figure size 432x288 with 1 Axes>"
      ]
     },
     "metadata": {},
     "output_type": "display_data"
    },
    {
     "name": "stdout",
     "output_type": "stream",
     "text": [
      "2931) Game: 3332-5 Round: 50\n",
      "Purple\n"
     ]
    },
    {
     "data": {
      "image/png": "[encoded data removed]",
      "text/plain": [
       "<Figure size 432x288 with 1 Axes>"
      ]
     },
     "metadata": {},
     "output_type": "display_data"
    }
   ],
   "source": [
    "dev_data.display_game_for_gameid('3332-5')"
   ]
  },
  {
   "cell_type": "code",
   "execution_count": 485,
   "metadata": {},
   "outputs": [
    {
     "name": "stdout",
     "output_type": "stream",
     "text": [
      "8581) Game: 7286-9 Round: 1\n",
      "the darkest blue\n"
     ]
    },
    {
     "data": {
      "image/png": "[encoded data removed]",
      "text/plain": [
       "<Figure size 432x288 with 1 Axes>"
      ]
     },
     "metadata": {},
     "output_type": "display_data"
    },
    {
     "name": "stdout",
     "output_type": "stream",
     "text": [
      "8582) Game: 7286-9 Round: 2\n",
      "the ugliest color\n"
     ]
    },
    {
     "data": {
      "image/png": "[encoded data removed]",
      "text/plain": [
       "<Figure size 432x288 with 1 Axes>"
      ]
     },
     "metadata": {},
     "output_type": "display_data"
    },
    {
     "name": "stdout",
     "output_type": "stream",
     "text": [
      "8583) Game: 7286-9 Round: 3\n",
      "brightest\n"
     ]
    },
    {
     "data": {
      "image/png": "[encoded data removed]",
      "text/plain": [
       "<Figure size 432x288 with 1 Axes>"
      ]
     },
     "metadata": {},
     "output_type": "display_data"
    },
    {
     "name": "stdout",
     "output_type": "stream",
     "text": [
      "8584) Game: 7286-9 Round: 4\n",
      "blueish\n"
     ]
    },
    {
     "data": {
      "image/png": "[encoded data removed]",
      "text/plain": [
       "<Figure size 432x288 with 1 Axes>"
      ]
     },
     "metadata": {},
     "output_type": "display_data"
    },
    {
     "name": "stdout",
     "output_type": "stream",
     "text": [
      "8585) Game: 7286-9 Round: 5\n",
      "ugliest\n"
     ]
    },
    {
     "data": {
      "image/png": "[encoded data removed]",
      "text/plain": [
       "<Figure size 432x288 with 1 Axes>"
      ]
     },
     "metadata": {},
     "output_type": "display_data"
    },
    {
     "name": "stdout",
     "output_type": "stream",
     "text": [
      "8586) Game: 7286-9 Round: 6\n",
      "purple\n"
     ]
    },
    {
     "data": {
      "image/png": "[encoded data removed]",
      "text/plain": [
       "<Figure size 432x288 with 1 Axes>"
      ]
     },
     "metadata": {},
     "output_type": "display_data"
    },
    {
     "name": "stdout",
     "output_type": "stream",
     "text": [
      "8587) Game: 7286-9 Round: 7\n",
      "pinkish/red\n"
     ]
    },
    {
     "data": {
      "image/png": "[encoded data removed]",
      "text/plain": [
       "<Figure size 432x288 with 1 Axes>"
      ]
     },
     "metadata": {},
     "output_type": "display_data"
    },
    {
     "name": "stdout",
     "output_type": "stream",
     "text": [
      "8588) Game: 7286-9 Round: 8\n",
      "very bright\n"
     ]
    },
    {
     "data": {
      "image/png": "[encoded data removed]",
      "text/plain": [
       "<Figure size 432x288 with 1 Axes>"
      ]
     },
     "metadata": {},
     "output_type": "display_data"
    },
    {
     "name": "stdout",
     "output_type": "stream",
     "text": [
      "8589) Game: 7286-9 Round: 9\n",
      "blueish/green\n"
     ]
    },
    {
     "data": {
      "image/png": "[encoded data removed]",
      "text/plain": [
       "<Figure size 432x288 with 1 Axes>"
      ]
     },
     "metadata": {},
     "output_type": "display_data"
    },
    {
     "name": "stdout",
     "output_type": "stream",
     "text": [
      "8590) Game: 7286-9 Round: 10\n",
      "red\n"
     ]
    },
    {
     "data": {
      "image/png": "[encoded data removed]",
      "text/plain": [
       "<Figure size 432x288 with 1 Axes>"
      ]
     },
     "metadata": {},
     "output_type": "display_data"
    },
    {
     "name": "stdout",
     "output_type": "stream",
     "text": [
      "8591) Game: 7286-9 Round: 11\n",
      "green\n"
     ]
    },
    {
     "data": {
      "image/png": "[encoded data removed]",
      "text/plain": [
       "<Figure size 432x288 with 1 Axes>"
      ]
     },
     "metadata": {},
     "output_type": "display_data"
    },
    {
     "name": "stdout",
     "output_type": "stream",
     "text": [
      "8592) Game: 7286-9 Round: 12\n",
      "darker blue\n"
     ]
    },
    {
     "data": {
      "image/png": "[encoded data removed]",
      "text/plain": [
       "<Figure size 432x288 with 1 Axes>"
      ]
     },
     "metadata": {},
     "output_type": "display_data"
    },
    {
     "name": "stdout",
     "output_type": "stream",
     "text": [
      "8593) Game: 7286-9 Round: 13\n",
      "yellow\n"
     ]
    },
    {
     "data": {
      "image/png": "[encoded data removed]",
      "text/plain": [
       "<Figure size 432x288 with 1 Axes>"
      ]
     },
     "metadata": {},
     "output_type": "display_data"
    },
    {
     "name": "stdout",
     "output_type": "stream",
     "text": [
      "8594) Game: 7286-9 Round: 14\n",
      "purple\n"
     ]
    },
    {
     "data": {
      "image/png": "[encoded data removed]",
      "text/plain": [
       "<Figure size 432x288 with 1 Axes>"
      ]
     },
     "metadata": {},
     "output_type": "display_data"
    },
    {
     "name": "stdout",
     "output_type": "stream",
     "text": [
      "8595) Game: 7286-9 Round: 15\n",
      "orange\n"
     ]
    },
    {
     "data": {
      "image/png": "[encoded data removed]",
      "text/plain": [
       "<Figure size 432x288 with 1 Axes>"
      ]
     },
     "metadata": {},
     "output_type": "display_data"
    },
    {
     "name": "stdout",
     "output_type": "stream",
     "text": [
      "8596) Game: 7286-9 Round: 16\n",
      "this is boring as watching paint dry. blue\n"
     ]
    },
    {
     "data": {
      "image/png": "[encoded data removed]",
      "text/plain": [
       "<Figure size 432x288 with 1 Axes>"
      ]
     },
     "metadata": {},
     "output_type": "display_data"
    },
    {
     "name": "stdout",
     "output_type": "stream",
     "text": [
      "8597) Game: 7286-9 Round: 17\n",
      "darker grey\n"
     ]
    },
    {
     "data": {
      "image/png": "[encoded data removed]",
      "text/plain": [
       "<Figure size 432x288 with 1 Axes>"
      ]
     },
     "metadata": {},
     "output_type": "display_data"
    },
    {
     "name": "stdout",
     "output_type": "stream",
     "text": [
      "8598) Game: 7286-9 Round: 18\n",
      "darkest color\n"
     ]
    },
    {
     "data": {
      "image/png": "[encoded data removed]",
      "text/plain": [
       "<Figure size 432x288 with 1 Axes>"
      ]
     },
     "metadata": {},
     "output_type": "display_data"
    },
    {
     "name": "stdout",
     "output_type": "stream",
     "text": [
      "8599) Game: 7286-9 Round: 19\n",
      "that's bright kniucle head. yellow\n"
     ]
    },
    {
     "data": {
      "image/png": "[encoded data removed]",
      "text/plain": [
       "<Figure size 432x288 with 1 Axes>"
      ]
     },
     "metadata": {},
     "output_type": "display_data"
    },
    {
     "name": "stdout",
     "output_type": "stream",
     "text": [
      "8600) Game: 7286-9 Round: 20\n",
      "uh. the one that doesn't fit in teh group\n"
     ]
    },
    {
     "data": {
      "image/png": "[encoded data removed]",
      "text/plain": [
       "<Figure size 432x288 with 1 Axes>"
      ]
     },
     "metadata": {},
     "output_type": "display_data"
    },
    {
     "name": "stdout",
     "output_type": "stream",
     "text": [
      "8601) Game: 7286-9 Round: 21\n",
      "orangeish\n"
     ]
    },
    {
     "data": {
      "image/png": "[encoded data removed]",
      "text/plain": [
       "<Figure size 432x288 with 1 Axes>"
      ]
     },
     "metadata": {},
     "output_type": "display_data"
    },
    {
     "name": "stdout",
     "output_type": "stream",
     "text": [
      "8602) Game: 7286-9 Round: 22\n",
      "light purple\n"
     ]
    },
    {
     "data": {
      "image/png": "[encoded data removed]",
      "text/plain": [
       "<Figure size 432x288 with 1 Axes>"
      ]
     },
     "metadata": {},
     "output_type": "display_data"
    },
    {
     "name": "stdout",
     "output_type": "stream",
     "text": [
      "8603) Game: 7286-9 Round: 23\n",
      "cement color\n"
     ]
    },
    {
     "data": {
      "image/png": "[encoded data removed]",
      "text/plain": [
       "<Figure size 432x288 with 1 Axes>"
      ]
     },
     "metadata": {},
     "output_type": "display_data"
    },
    {
     "name": "stdout",
     "output_type": "stream",
     "text": [
      "8604) Game: 7286-9 Round: 24\n",
      "nice job, knuckle dragger. how about yellow\n"
     ]
    },
    {
     "data": {
      "image/png": "[encoded data removed]",
      "text/plain": [
       "<Figure size 432x288 with 1 Axes>"
      ]
     },
     "metadata": {},
     "output_type": "display_data"
    },
    {
     "name": "stdout",
     "output_type": "stream",
     "text": [
      "8605) Game: 7286-9 Round: 25\n",
      "purple dark\n"
     ]
    },
    {
     "data": {
      "image/png": "[encoded data removed]",
      "text/plain": [
       "<Figure size 432x288 with 1 Axes>"
      ]
     },
     "metadata": {},
     "output_type": "display_data"
    },
    {
     "name": "stdout",
     "output_type": "stream",
     "text": [
      "8606) Game: 7286-9 Round: 26\n",
      "blue\n"
     ]
    },
    {
     "data": {
      "image/png": "[encoded data removed]",
      "text/plain": [
       "<Figure size 432x288 with 1 Axes>"
      ]
     },
     "metadata": {},
     "output_type": "display_data"
    },
    {
     "name": "stdout",
     "output_type": "stream",
     "text": [
      "8607) Game: 7286-9 Round: 27\n",
      "uh ~ bright green\n"
     ]
    },
    {
     "data": {
      "image/png": "[encoded data removed]",
      "text/plain": [
       "<Figure size 432x288 with 1 Axes>"
      ]
     },
     "metadata": {},
     "output_type": "display_data"
    },
    {
     "name": "stdout",
     "output_type": "stream",
     "text": [
      "8608) Game: 7286-9 Round: 28\n",
      "mustard yellow\n"
     ]
    },
    {
     "data": {
      "image/png": "[encoded data removed]",
      "text/plain": [
       "<Figure size 432x288 with 1 Axes>"
      ]
     },
     "metadata": {},
     "output_type": "display_data"
    },
    {
     "name": "stdout",
     "output_type": "stream",
     "text": [
      "8609) Game: 7286-9 Round: 29\n",
      "dark pink\n"
     ]
    },
    {
     "data": {
      "image/png": "[encoded data removed]",
      "text/plain": [
       "<Figure size 432x288 with 1 Axes>"
      ]
     },
     "metadata": {},
     "output_type": "display_data"
    },
    {
     "name": "stdout",
     "output_type": "stream",
     "text": [
      "8610) Game: 7286-9 Round: 30\n",
      "dark purple\n"
     ]
    },
    {
     "data": {
      "image/png": "[encoded data removed]",
      "text/plain": [
       "<Figure size 432x288 with 1 Axes>"
      ]
     },
     "metadata": {},
     "output_type": "display_data"
    },
    {
     "name": "stdout",
     "output_type": "stream",
     "text": [
      "8611) Game: 7286-9 Round: 31\n",
      "one that sticks out\n"
     ]
    },
    {
     "data": {
      "image/png": "[encoded data removed]",
      "text/plain": [
       "<Figure size 432x288 with 1 Axes>"
      ]
     },
     "metadata": {},
     "output_type": "display_data"
    },
    {
     "name": "stdout",
     "output_type": "stream",
     "text": [
      "8612) Game: 7286-9 Round: 32\n",
      "brighter pink\n"
     ]
    },
    {
     "data": {
      "image/png": "[encoded data removed]",
      "text/plain": [
       "<Figure size 432x288 with 1 Axes>"
      ]
     },
     "metadata": {},
     "output_type": "display_data"
    },
    {
     "name": "stdout",
     "output_type": "stream",
     "text": [
      "8613) Game: 7286-9 Round: 33\n",
      "one that sticks out\n"
     ]
    },
    {
     "data": {
      "image/png": "[encoded data removed]",
      "text/plain": [
       "<Figure size 432x288 with 1 Axes>"
      ]
     },
     "metadata": {},
     "output_type": "display_data"
    },
    {
     "name": "stdout",
     "output_type": "stream",
     "text": [
      "8614) Game: 7286-9 Round: 34\n",
      "one that stiks out\n"
     ]
    },
    {
     "data": {
      "image/png": "[encoded data removed]",
      "text/plain": [
       "<Figure size 432x288 with 1 Axes>"
      ]
     },
     "metadata": {},
     "output_type": "display_data"
    },
    {
     "name": "stdout",
     "output_type": "stream",
     "text": [
      "8615) Game: 7286-9 Round: 35\n",
      "purple/blue\n"
     ]
    },
    {
     "data": {
      "image/png": "[encoded data removed]",
      "text/plain": [
       "<Figure size 432x288 with 1 Axes>"
      ]
     },
     "metadata": {},
     "output_type": "display_data"
    },
    {
     "name": "stdout",
     "output_type": "stream",
     "text": [
      "8616) Game: 7286-9 Round: 36\n",
      "green\n"
     ]
    },
    {
     "data": {
      "image/png": "[encoded data removed]",
      "text/plain": [
       "<Figure size 432x288 with 1 Axes>"
      ]
     },
     "metadata": {},
     "output_type": "display_data"
    },
    {
     "name": "stdout",
     "output_type": "stream",
     "text": [
      "8617) Game: 7286-9 Round: 37\n",
      "bright green\n"
     ]
    },
    {
     "data": {
      "image/png": "[encoded data removed]",
      "text/plain": [
       "<Figure size 432x288 with 1 Axes>"
      ]
     },
     "metadata": {},
     "output_type": "display_data"
    },
    {
     "name": "stdout",
     "output_type": "stream",
     "text": [
      "8618) Game: 7286-9 Round: 38\n",
      "green\n"
     ]
    },
    {
     "data": {
      "image/png": "[encoded data removed]",
      "text/plain": [
       "<Figure size 432x288 with 1 Axes>"
      ]
     },
     "metadata": {},
     "output_type": "display_data"
    },
    {
     "name": "stdout",
     "output_type": "stream",
     "text": [
      "8619) Game: 7286-9 Round: 39\n",
      "purple\n"
     ]
    },
    {
     "data": {
      "image/png": "[encoded data removed]",
      "text/plain": [
       "<Figure size 432x288 with 1 Axes>"
      ]
     },
     "metadata": {},
     "output_type": "display_data"
    },
    {
     "name": "stdout",
     "output_type": "stream",
     "text": [
      "8620) Game: 7286-9 Round: 40\n",
      "maroon\n"
     ]
    },
    {
     "data": {
      "image/png": "[encoded data removed]",
      "text/plain": [
       "<Figure size 432x288 with 1 Axes>"
      ]
     },
     "metadata": {},
     "output_type": "display_data"
    },
    {
     "name": "stdout",
     "output_type": "stream",
     "text": [
      "8621) Game: 7286-9 Round: 41\n",
      "redish/moon\n"
     ]
    },
    {
     "data": {
      "image/png": "[encoded data removed]",
      "text/plain": [
       "<Figure size 432x288 with 1 Axes>"
      ]
     },
     "metadata": {},
     "output_type": "display_data"
    },
    {
     "name": "stdout",
     "output_type": "stream",
     "text": [
      "8622) Game: 7286-9 Round: 42\n",
      "blue\n"
     ]
    },
    {
     "data": {
      "image/png": "[encoded data removed]",
      "text/plain": [
       "<Figure size 432x288 with 1 Axes>"
      ]
     },
     "metadata": {},
     "output_type": "display_data"
    },
    {
     "name": "stdout",
     "output_type": "stream",
     "text": [
      "8623) Game: 7286-9 Round: 43\n",
      "bright green\n"
     ]
    },
    {
     "data": {
      "image/png": "[encoded data removed]",
      "text/plain": [
       "<Figure size 432x288 with 1 Axes>"
      ]
     },
     "metadata": {},
     "output_type": "display_data"
    },
    {
     "name": "stdout",
     "output_type": "stream",
     "text": [
      "8624) Game: 7286-9 Round: 44\n",
      "bright green\n"
     ]
    },
    {
     "data": {
      "image/png": "[encoded data removed]",
      "text/plain": [
       "<Figure size 432x288 with 1 Axes>"
      ]
     },
     "metadata": {},
     "output_type": "display_data"
    },
    {
     "name": "stdout",
     "output_type": "stream",
     "text": [
      "8625) Game: 7286-9 Round: 45\n",
      "that one\n"
     ]
    },
    {
     "data": {
      "image/png": "[encoded data removed]",
      "text/plain": [
       "<Figure size 432x288 with 1 Axes>"
      ]
     },
     "metadata": {},
     "output_type": "display_data"
    },
    {
     "name": "stdout",
     "output_type": "stream",
     "text": [
      "8626) Game: 7286-9 Round: 46\n",
      "pink\n"
     ]
    },
    {
     "data": {
      "image/png": "[encoded data removed]",
      "text/plain": [
       "<Figure size 432x288 with 1 Axes>"
      ]
     },
     "metadata": {},
     "output_type": "display_data"
    },
    {
     "name": "stdout",
     "output_type": "stream",
     "text": [
      "8627) Game: 7286-9 Round: 47\n",
      "blue\n"
     ]
    },
    {
     "data": {
      "image/png": "[encoded data removed]",
      "text/plain": [
       "<Figure size 432x288 with 1 Axes>"
      ]
     },
     "metadata": {},
     "output_type": "display_data"
    },
    {
     "name": "stdout",
     "output_type": "stream",
     "text": [
      "8628) Game: 7286-9 Round: 48\n",
      "purple\n"
     ]
    },
    {
     "data": {
      "image/png": "[encoded data removed]",
      "text/plain": [
       "<Figure size 432x288 with 1 Axes>"
      ]
     },
     "metadata": {},
     "output_type": "display_data"
    },
    {
     "name": "stdout",
     "output_type": "stream",
     "text": [
      "8629) Game: 7286-9 Round: 49\n",
      "pink\n"
     ]
    },
    {
     "data": {
      "image/png": "[encoded data removed]",
      "text/plain": [
       "<Figure size 432x288 with 1 Axes>"
      ]
     },
     "metadata": {},
     "output_type": "display_data"
    },
    {
     "name": "stdout",
     "output_type": "stream",
     "text": [
      "8630) Game: 7286-9 Round: 50\n",
      "ugly green\n"
     ]
    },
    {
     "data": {
      "image/png": "[encoded data removed]",
      "text/plain": [
       "<Figure size 432x288 with 1 Axes>"
      ]
     },
     "metadata": {},
     "output_type": "display_data"
    }
   ],
   "source": [
    "    dev_data.display_game_for_gameid('7286-9')"
   ]
  },
  {
   "cell_type": "code",
   "execution_count": 478,
   "metadata": {
    "scrolled": true
   },
   "outputs": [
    {
     "data": {
      "text/plain": [
       "<matplotlib.collections.PathCollection at 0x15802e208>"
      ]
     },
     "execution_count": 478,
     "metadata": {},
     "output_type": "execute_result"
    },
    {
     "data": {
      "image/png": "[encoded data removed]",
      "text/plain": [
       "<Figure size 432x288 with 1 Axes>"
      ]
     },
     "metadata": {},
     "output_type": "display_data"
    }
   ],
   "source": [
    "plt.scatter(suc_col_score_close.true_score, suc_col_score_close.model_score)"
   ]
  },
  {
   "cell_type": "code",
   "execution_count": 479,
   "metadata": {},
   "outputs": [
    {
     "data": {
      "text/plain": [
       "(array([ 3., 13., 25., 38., 37., 48., 61., 43., 25., 24.]),\n",
       " array([0.36337596, 0.42703819, 0.49070042, 0.55436265, 0.61802488,\n",
       "        0.68168711, 0.74534934, 0.80901157, 0.8726738 , 0.93633603,\n",
       "        0.99999825]),\n",
       " <a list of 10 Patch objects>)"
      ]
     },
     "execution_count": 479,
     "metadata": {},
     "output_type": "execute_result"
    },
    {
     "data": {
      "image/png": "[encoded data removed]",
      "text/plain": [
       "<Figure size 432x288 with 1 Axes>"
      ]
     },
     "metadata": {},
     "output_type": "display_data"
    }
   ],
   "source": [
    "plt.hist(suc_col_score_close.model_score, 10)"
   ]
  },
  {
   "cell_type": "code",
   "execution_count": 480,
   "metadata": {},
   "outputs": [
    {
     "data": {
      "text/plain": [
       "(array([ 2.,  9., 11., 16., 36., 55., 54., 67., 44., 23.]),\n",
       " array([0.49090652, 0.54181587, 0.59272522, 0.64363456, 0.69454391,\n",
       "        0.74545326, 0.79636261, 0.84727196, 0.8981813 , 0.94909065,\n",
       "        1.        ]),\n",
       " <a list of 10 Patch objects>)"
      ]
     },
     "execution_count": 480,
     "metadata": {},
     "output_type": "execute_result"
    },
    {
     "data": {
      "image/png": "[encoded data removed]",
      "text/plain": [
       "<Figure size 432x288 with 1 Axes>"
      ]
     },
     "metadata": {},
     "output_type": "display_data"
    }
   ],
   "source": [
    "plt.hist(suc_col_score_df.groupby([\"condition\", \"gameid\"]).mean().xs('split', level='condition')['model_score'], 10)"
   ]
  },
  {
   "cell_type": "code",
   "execution_count": 481,
   "metadata": {},
   "outputs": [
    {
     "data": {
      "text/plain": [
       "(array([ 1.,  0.,  3.,  5., 11., 15., 56., 78., 95., 53.]),\n",
       " array([0.54632198, 0.59168978, 0.63705758, 0.68242539, 0.72779319,\n",
       "        0.77316099, 0.81852879, 0.86389659, 0.9092644 , 0.9546322 ,\n",
       "        1.        ]),\n",
       " <a list of 10 Patch objects>)"
      ]
     },
     "execution_count": 481,
     "metadata": {},
     "output_type": "execute_result"
    },
    {
     "data": {
      "image/png": "[encoded data removed]",
      "text/plain": [
       "<Figure size 432x288 with 1 Axes>"
      ]
     },
     "metadata": {},
     "output_type": "display_data"
    }
   ],
   "source": [
    "plt.hist(suc_col_score_df.groupby([\"condition\", \"gameid\"]).mean().xs('far', level='condition')['model_score'], 10)"
   ]
  },
  {
   "cell_type": "code",
   "execution_count": 441,
   "metadata": {},
   "outputs": [
    {
     "data": {
      "text/plain": [
       "SpearmanrResult(correlation=0.6470588235294118, pvalue=0.006742077007179868)"
      ]
     },
     "execution_count": 441,
     "metadata": {},
     "output_type": "execute_result"
    }
   ],
   "source": [
    "stats.spearmanr(suc_col_scores_series.index, suc_col_scores_series.values)"
   ]
  },
  {
   "cell_type": "code",
   "execution_count": 388,
   "metadata": {
    "scrolled": true
   },
   "outputs": [
    {
     "data": {
      "text/html": [
       "<div>\n",
       "<style>\n",
       "    .dataframe thead tr:only-child th {\n",
       "        text-align: right;\n",
       "    }\n",
       "\n",
       "    .dataframe thead th {\n",
       "        text-align: left;\n",
       "    }\n",
       "\n",
       "    .dataframe tbody tr th {\n",
       "        vertical-align: top;\n",
       "    }\n",
       "</style>\n",
       "<table border=\"1\" class=\"dataframe\">\n",
       "  <thead>\n",
       "    <tr style=\"text-align: right;\">\n",
       "      <th></th>\n",
       "      <th>0</th>\n",
       "      <th>1</th>\n",
       "      <th>2</th>\n",
       "      <th>3</th>\n",
       "      <th>4</th>\n",
       "    </tr>\n",
       "  </thead>\n",
       "  <tbody>\n",
       "    <tr>\n",
       "      <th>gameid</th>\n",
       "      <td>1124-1</td>\n",
       "      <td>1124-1</td>\n",
       "      <td>1124-1</td>\n",
       "      <td>1124-1</td>\n",
       "      <td>1124-1</td>\n",
       "    </tr>\n",
       "    <tr>\n",
       "      <th>clkTime</th>\n",
       "      <td>1.45988e+12</td>\n",
       "      <td>1.45988e+12</td>\n",
       "      <td>1.45988e+12</td>\n",
       "      <td>1.45988e+12</td>\n",
       "      <td>1.45988e+12</td>\n",
       "    </tr>\n",
       "    <tr>\n",
       "      <th>roundNum</th>\n",
       "      <td>1</td>\n",
       "      <td>2</td>\n",
       "      <td>3</td>\n",
       "      <td>4</td>\n",
       "      <td>5</td>\n",
       "    </tr>\n",
       "    <tr>\n",
       "      <th>condition</th>\n",
       "      <td>close</td>\n",
       "      <td>far</td>\n",
       "      <td>close</td>\n",
       "      <td>split</td>\n",
       "      <td>far</td>\n",
       "    </tr>\n",
       "    <tr>\n",
       "      <th>clickStatus</th>\n",
       "      <td>distr2</td>\n",
       "      <td>target</td>\n",
       "      <td>distr2</td>\n",
       "      <td>distr1</td>\n",
       "      <td>target</td>\n",
       "    </tr>\n",
       "    <tr>\n",
       "      <th>clickColH</th>\n",
       "      <td>248</td>\n",
       "      <td>249</td>\n",
       "      <td>291</td>\n",
       "      <td>85</td>\n",
       "      <td>156</td>\n",
       "    </tr>\n",
       "    <tr>\n",
       "      <th>clickColS</th>\n",
       "      <td>92</td>\n",
       "      <td>25</td>\n",
       "      <td>59</td>\n",
       "      <td>21</td>\n",
       "      <td>84</td>\n",
       "    </tr>\n",
       "    <tr>\n",
       "      <th>clickColL</th>\n",
       "      <td>50</td>\n",
       "      <td>50</td>\n",
       "      <td>50</td>\n",
       "      <td>50</td>\n",
       "      <td>50</td>\n",
       "    </tr>\n",
       "    <tr>\n",
       "      <th>clickLocS</th>\n",
       "      <td>3</td>\n",
       "      <td>1</td>\n",
       "      <td>3</td>\n",
       "      <td>2</td>\n",
       "      <td>1</td>\n",
       "    </tr>\n",
       "    <tr>\n",
       "      <th>clickLocL</th>\n",
       "      <td>1</td>\n",
       "      <td>2</td>\n",
       "      <td>3</td>\n",
       "      <td>1</td>\n",
       "      <td>3</td>\n",
       "    </tr>\n",
       "    <tr>\n",
       "      <th>alt1Status</th>\n",
       "      <td>target</td>\n",
       "      <td>distr2</td>\n",
       "      <td>target</td>\n",
       "      <td>target</td>\n",
       "      <td>distr2</td>\n",
       "    </tr>\n",
       "    <tr>\n",
       "      <th>alt1ColH</th>\n",
       "      <td>226</td>\n",
       "      <td>54</td>\n",
       "      <td>301</td>\n",
       "      <td>87</td>\n",
       "      <td>239</td>\n",
       "    </tr>\n",
       "    <tr>\n",
       "      <th>alt1ColS</th>\n",
       "      <td>81</td>\n",
       "      <td>53</td>\n",
       "      <td>57</td>\n",
       "      <td>66</td>\n",
       "      <td>87</td>\n",
       "    </tr>\n",
       "    <tr>\n",
       "      <th>alt1ColL</th>\n",
       "      <td>50</td>\n",
       "      <td>50</td>\n",
       "      <td>50</td>\n",
       "      <td>50</td>\n",
       "      <td>50</td>\n",
       "    </tr>\n",
       "    <tr>\n",
       "      <th>alt1LocS</th>\n",
       "      <td>1</td>\n",
       "      <td>3</td>\n",
       "      <td>2</td>\n",
       "      <td>1</td>\n",
       "      <td>2</td>\n",
       "    </tr>\n",
       "    <tr>\n",
       "      <th>alt1LocL</th>\n",
       "      <td>2</td>\n",
       "      <td>3</td>\n",
       "      <td>2</td>\n",
       "      <td>2</td>\n",
       "      <td>2</td>\n",
       "    </tr>\n",
       "    <tr>\n",
       "      <th>alt2Status</th>\n",
       "      <td>distr1</td>\n",
       "      <td>distr1</td>\n",
       "      <td>distr1</td>\n",
       "      <td>distr2</td>\n",
       "      <td>distr1</td>\n",
       "    </tr>\n",
       "    <tr>\n",
       "      <th>alt2ColH</th>\n",
       "      <td>283</td>\n",
       "      <td>129</td>\n",
       "      <td>302</td>\n",
       "      <td>299</td>\n",
       "      <td>57</td>\n",
       "    </tr>\n",
       "    <tr>\n",
       "      <th>alt2ColS</th>\n",
       "      <td>87</td>\n",
       "      <td>66</td>\n",
       "      <td>86</td>\n",
       "      <td>29</td>\n",
       "      <td>64</td>\n",
       "    </tr>\n",
       "    <tr>\n",
       "      <th>alt2ColL</th>\n",
       "      <td>50</td>\n",
       "      <td>50</td>\n",
       "      <td>50</td>\n",
       "      <td>50</td>\n",
       "      <td>50</td>\n",
       "    </tr>\n",
       "    <tr>\n",
       "      <th>alt2LocS</th>\n",
       "      <td>2</td>\n",
       "      <td>2</td>\n",
       "      <td>1</td>\n",
       "      <td>3</td>\n",
       "      <td>3</td>\n",
       "    </tr>\n",
       "    <tr>\n",
       "      <th>alt2LocL</th>\n",
       "      <td>3</td>\n",
       "      <td>1</td>\n",
       "      <td>1</td>\n",
       "      <td>3</td>\n",
       "      <td>1</td>\n",
       "    </tr>\n",
       "    <tr>\n",
       "      <th>targetD1Diff</th>\n",
       "      <td>19</td>\n",
       "      <td>58</td>\n",
       "      <td>6</td>\n",
       "      <td>19</td>\n",
       "      <td>29</td>\n",
       "    </tr>\n",
       "    <tr>\n",
       "      <th>targetD2Diff</th>\n",
       "      <td>10</td>\n",
       "      <td>61</td>\n",
       "      <td>5</td>\n",
       "      <td>80</td>\n",
       "      <td>73</td>\n",
       "    </tr>\n",
       "    <tr>\n",
       "      <th>D1D2Diff</th>\n",
       "      <td>17</td>\n",
       "      <td>25</td>\n",
       "      <td>10</td>\n",
       "      <td>57</td>\n",
       "      <td>92</td>\n",
       "    </tr>\n",
       "    <tr>\n",
       "      <th>outcome</th>\n",
       "      <td>False</td>\n",
       "      <td>True</td>\n",
       "      <td>False</td>\n",
       "      <td>False</td>\n",
       "      <td>True</td>\n",
       "    </tr>\n",
       "    <tr>\n",
       "      <th>msgTime</th>\n",
       "      <td>1.45988e+12</td>\n",
       "      <td>1.45988e+12</td>\n",
       "      <td>1.45988e+12</td>\n",
       "      <td>1.45988e+12</td>\n",
       "      <td>1.45988e+12</td>\n",
       "    </tr>\n",
       "    <tr>\n",
       "      <th>role</th>\n",
       "      <td>speaker</td>\n",
       "      <td>speaker</td>\n",
       "      <td>speaker</td>\n",
       "      <td>speaker</td>\n",
       "      <td>speaker</td>\n",
       "    </tr>\n",
       "    <tr>\n",
       "      <th>contents</th>\n",
       "      <td>The darker blue one</td>\n",
       "      <td>purple</td>\n",
       "      <td>Medium pink ~ the medium dark one</td>\n",
       "      <td>lime</td>\n",
       "      <td>Mint green.</td>\n",
       "    </tr>\n",
       "    <tr>\n",
       "      <th>workerid_uniq</th>\n",
       "      <td>201</td>\n",
       "      <td>201</td>\n",
       "      <td>201</td>\n",
       "      <td>201</td>\n",
       "      <td>201</td>\n",
       "    </tr>\n",
       "    <tr>\n",
       "      <th>numOutcome</th>\n",
       "      <td>0</td>\n",
       "      <td>1</td>\n",
       "      <td>0</td>\n",
       "      <td>0</td>\n",
       "      <td>1</td>\n",
       "    </tr>\n",
       "    <tr>\n",
       "      <th>numRawWords</th>\n",
       "      <td>4</td>\n",
       "      <td>1</td>\n",
       "      <td>4</td>\n",
       "      <td>1</td>\n",
       "      <td>2</td>\n",
       "    </tr>\n",
       "    <tr>\n",
       "      <th>numRawChars</th>\n",
       "      <td>16</td>\n",
       "      <td>6</td>\n",
       "      <td>16</td>\n",
       "      <td>4</td>\n",
       "      <td>9</td>\n",
       "    </tr>\n",
       "    <tr>\n",
       "      <th>numCleanChars</th>\n",
       "      <td>13</td>\n",
       "      <td>6</td>\n",
       "      <td>13</td>\n",
       "      <td>4</td>\n",
       "      <td>9</td>\n",
       "    </tr>\n",
       "    <tr>\n",
       "      <th>numCleanWords</th>\n",
       "      <td>3</td>\n",
       "      <td>1</td>\n",
       "      <td>3</td>\n",
       "      <td>1</td>\n",
       "      <td>2</td>\n",
       "    </tr>\n",
       "    <tr>\n",
       "      <th>source</th>\n",
       "      <td>human</td>\n",
       "      <td>human</td>\n",
       "      <td>human</td>\n",
       "      <td>human</td>\n",
       "      <td>human</td>\n",
       "    </tr>\n",
       "  </tbody>\n",
       "</table>\n",
       "</div>"
      ],
      "text/plain": [
       "                                 0            1  \\\n",
       "gameid                      1124-1       1124-1   \n",
       "clkTime                1.45988e+12  1.45988e+12   \n",
       "roundNum                         1            2   \n",
       "condition                    close          far   \n",
       "clickStatus                 distr2       target   \n",
       "clickColH                      248          249   \n",
       "clickColS                       92           25   \n",
       "clickColL                       50           50   \n",
       "clickLocS                        3            1   \n",
       "clickLocL                        1            2   \n",
       "alt1Status                  target       distr2   \n",
       "alt1ColH                       226           54   \n",
       "alt1ColS                        81           53   \n",
       "alt1ColL                        50           50   \n",
       "alt1LocS                         1            3   \n",
       "alt1LocL                         2            3   \n",
       "alt2Status                  distr1       distr1   \n",
       "alt2ColH                       283          129   \n",
       "alt2ColS                        87           66   \n",
       "alt2ColL                        50           50   \n",
       "alt2LocS                         2            2   \n",
       "alt2LocL                         3            1   \n",
       "targetD1Diff                    19           58   \n",
       "targetD2Diff                    10           61   \n",
       "D1D2Diff                        17           25   \n",
       "outcome                      False         True   \n",
       "msgTime                1.45988e+12  1.45988e+12   \n",
       "role                       speaker      speaker   \n",
       "contents       The darker blue one       purple   \n",
       "workerid_uniq                  201          201   \n",
       "numOutcome                       0            1   \n",
       "numRawWords                      4            1   \n",
       "numRawChars                     16            6   \n",
       "numCleanChars                   13            6   \n",
       "numCleanWords                    3            1   \n",
       "source                       human        human   \n",
       "\n",
       "                                               2            3            4  \n",
       "gameid                                    1124-1       1124-1       1124-1  \n",
       "clkTime                              1.45988e+12  1.45988e+12  1.45988e+12  \n",
       "roundNum                                       3            4            5  \n",
       "condition                                  close        split          far  \n",
       "clickStatus                               distr2       distr1       target  \n",
       "clickColH                                    291           85          156  \n",
       "clickColS                                     59           21           84  \n",
       "clickColL                                     50           50           50  \n",
       "clickLocS                                      3            2            1  \n",
       "clickLocL                                      3            1            3  \n",
       "alt1Status                                target       target       distr2  \n",
       "alt1ColH                                     301           87          239  \n",
       "alt1ColS                                      57           66           87  \n",
       "alt1ColL                                      50           50           50  \n",
       "alt1LocS                                       2            1            2  \n",
       "alt1LocL                                       2            2            2  \n",
       "alt2Status                                distr1       distr2       distr1  \n",
       "alt2ColH                                     302          299           57  \n",
       "alt2ColS                                      86           29           64  \n",
       "alt2ColL                                      50           50           50  \n",
       "alt2LocS                                       1            3            3  \n",
       "alt2LocL                                       1            3            1  \n",
       "targetD1Diff                                   6           19           29  \n",
       "targetD2Diff                                   5           80           73  \n",
       "D1D2Diff                                      10           57           92  \n",
       "outcome                                    False        False         True  \n",
       "msgTime                              1.45988e+12  1.45988e+12  1.45988e+12  \n",
       "role                                     speaker      speaker      speaker  \n",
       "contents       Medium pink ~ the medium dark one         lime  Mint green.  \n",
       "workerid_uniq                                201          201          201  \n",
       "numOutcome                                     0            0            1  \n",
       "numRawWords                                    4            1            2  \n",
       "numRawChars                                   16            4            9  \n",
       "numCleanChars                                 13            4            9  \n",
       "numCleanWords                                  3            1            2  \n",
       "source                                     human        human        human  "
      ]
     },
     "execution_count": 388,
     "metadata": {},
     "output_type": "execute_result"
    }
   ],
   "source": [
    "train_data.data.head().T"
   ]
  },
  {
   "cell_type": "code",
   "execution_count": 228,
   "metadata": {},
   "outputs": [],
   "source": [
    "import random"
   ]
  },
  {
   "cell_type": "code",
   "execution_count": 229,
   "metadata": {},
   "outputs": [],
   "source": [
    "# balance the dataset a bit more...\n",
    "balanced_train = correct_train_sample + wrong_train\n",
    "random.shuffle(balanced_train)"
   ]
  },
  {
   "cell_type": "code",
   "execution_count": 231,
   "metadata": {},
   "outputs": [
    {
     "data": {
      "text/plain": [
       "[yellow green,\n",
       " blue purple,\n",
       " purple,\n",
       " it's the brightest green,\n",
       " purp,\n",
       " darkest color,\n",
       " green,\n",
       " purple,\n",
       " purple,\n",
       " lighter purple?]"
      ]
     },
     "execution_count": 231,
     "metadata": {},
     "output_type": "execute_result"
    }
   ],
   "source": [
    "balanced_train[:10]"
   ]
  },
  {
   "cell_type": "code",
   "execution_count": 232,
   "metadata": {},
   "outputs": [
    {
     "name": "stdout",
     "output_type": "stream",
     "text": [
      "Obtaining training features\n",
      "Initializing model\n"
     ]
    }
   ],
   "source": [
    "feature_handler = FeatureHandler(balanced_train, dev_data, caption_phi, color_phi, target_fn=success_target)\n",
    "\n",
    "print(\"Obtaining training features\") # get features even if you're runnning the pretrained model for example\n",
    "train_features = feature_handler.train_features()\n",
    "train_targets = feature_handler.train_targets()\n",
    "\n",
    "print(\"Initializing model\")\n",
    "# model parameters\n",
    "embed_dim = 100; hidden_dim = 100; # hard coded for example - 54 comes from color fourier phi\n",
    "\n"
   ]
  },
  {
   "cell_type": "code",
   "execution_count": 235,
   "metadata": {},
   "outputs": [],
   "source": [
    "train = True\n",
    "model_file_suc_bal = \"../model/literal_listener_predict_success_balanced_5epoch_endings_tkn.params\"\n",
    "\n",
    "model_suc_bal = LiteralListenerPredictSuccess(PredictSuccess, num_epochs=5, criterion=nn.BCEWithLogitsLoss)\n",
    "model_suc_bal.init_model(embed_dim = embed_dim, hidden_dim = hidden_dim, vocab_size = feature_handler.caption_featurizer.caption_indexer.size)\n",
    "\n"
   ]
  },
  {
   "cell_type": "code",
   "execution_count": 236,
   "metadata": {},
   "outputs": [
    {
     "name": "stdout",
     "output_type": "stream",
     "text": [
      "Training model and saving to ../model/literal_listener_predict_success_balanced_5epoch_endings_tkn.params:\n",
      "---EPOCH 0---\n",
      "0m 0s (0:0 0.00%) 0.0007\n",
      "0m 6s (0:1000 28.06%) 0.6905\n",
      "0m 13s (0:2000 56.12%) 0.6586\n",
      "0m 20s (0:3000 84.18%) 0.6616\n",
      "---EPOCH 1---\n",
      "0m 24s (1:0 0.00%) 0.0003\n",
      "0m 32s (1:1000 28.06%) 0.6350\n",
      "0m 40s (1:2000 56.12%) 0.6230\n",
      "0m 47s (1:3000 84.18%) 0.6324\n",
      "---EPOCH 2---\n",
      "0m 52s (2:0 0.00%) 0.0002\n",
      "0m 59s (2:1000 28.06%) 0.6045\n",
      "1m 6s (2:2000 56.12%) 0.5986\n",
      "1m 14s (2:3000 84.18%) 0.6037\n",
      "---EPOCH 3---\n",
      "1m 18s (3:0 0.00%) 0.0001\n",
      "1m 25s (3:1000 28.06%) 0.5839\n",
      "1m 32s (3:2000 56.12%) 0.5765\n",
      "1m 39s (3:3000 84.18%) 0.5763\n",
      "---EPOCH 4---\n",
      "1m 43s (4:0 0.00%) 0.0001\n",
      "1m 50s (4:1000 28.06%) 0.5642\n",
      "1m 57s (4:2000 56.12%) 0.5545\n",
      "2m 4s (4:3000 84.18%) 0.5523\n"
     ]
    }
   ],
   "source": [
    "if train:\n",
    "    print(\"Training model and saving to {}:\".format(model_file_suc_bal))\n",
    "    model_suc_bal.fit(train_features, train_targets)\n",
    "    model_suc_bal.save_model(model_file_suc_bal)\n",
    "else:\n",
    "    print(\"Loading pretrained model\")\n",
    "    model_suc_bal.load_model(model_file_suc_bal)"
   ]
  },
  {
   "cell_type": "code",
   "execution_count": 238,
   "metadata": {},
   "outputs": [
    {
     "name": "stdout",
     "output_type": "stream",
     "text": [
      "(0.12446953423484067, 0.026692406534640903)\n"
     ]
    }
   ],
   "source": [
    "x = evaluate_model(dev_data, feature_handler, model_suc_bal, output_to_score_suc, score_model, accuracy=False)"
   ]
  },
  {
   "cell_type": "code",
   "execution_count": 304,
   "metadata": {},
   "outputs": [],
   "source": [
    "# now let's try with oversampling:\n",
    "correct_train_all = list(filter(lambda de: de.target_idx == de.click_idx, train_data.entries))"
   ]
  },
  {
   "cell_type": "code",
   "execution_count": 317,
   "metadata": {},
   "outputs": [],
   "source": [
    "wrong_train_oversampled = list(np.resize(wrong_train, len(correct_train_all)))"
   ]
  },
  {
   "cell_type": "code",
   "execution_count": 313,
   "metadata": {},
   "outputs": [
    {
     "data": {
      "text/plain": [
       "True"
      ]
     },
     "execution_count": 313,
     "metadata": {},
     "output_type": "execute_result"
    }
   ],
   "source": [
    "len(wrong_train_oversampled) == len(correct_train_all)"
   ]
  },
  {
   "cell_type": "code",
   "execution_count": 318,
   "metadata": {
    "collapsed": true
   },
   "outputs": [
    {
     "data": {
      "text/plain": [
       "[The darker blue one,\n",
       " Medium pink ~ the medium dark one,\n",
       " lime,\n",
       " Neon pink,\n",
       " green,\n",
       " Hahaha. Me too. This one is purple. Not neon and not lavender,\n",
       " lightest shade of teal/blue/green,\n",
       " the darker gray,\n",
       " blue gray,\n",
       " the darker gray,\n",
       " olive green, darkest,\n",
       " purple on the right,\n",
       " darkest color,\n",
       " just pick a random one,\n",
       " darker olive,\n",
       " light blue,\n",
       " neon green,\n",
       " dark puprle,\n",
       " dark grey,\n",
       " DARK YOU IDIOT. This one is orange,\n",
       " dark purple,\n",
       " lime green,\n",
       " ugly tan,\n",
       " dark purple,\n",
       " dark purple,\n",
       " grey,\n",
       " medium green,\n",
       " orange,\n",
       " meduim green,\n",
       " teal,\n",
       " brownish yellow,\n",
       " Navy Blue,\n",
       " Darker Purple,\n",
       " Darker Purple,\n",
       " Grayish Purple ~ Doh,\n",
       " Not Green or Blue,\n",
       " normal blue,\n",
       " tan,\n",
       " purple,\n",
       " forest green,\n",
       " darker green,\n",
       " purple,\n",
       " gray,\n",
       " brighter red,\n",
       " darker blue,\n",
       " darker green,\n",
       " green,\n",
       " blue/green,\n",
       " purple,\n",
       " purple,\n",
       " dark green,\n",
       " green,\n",
       " brown,\n",
       " pale purple,\n",
       " dark greyish violet,\n",
       " pale pink,\n",
       " brown,\n",
       " gray,\n",
       " darkest blue,\n",
       " bright pink,\n",
       " darker gray,\n",
       " Hi ~ Target is green-blue square,\n",
       " Target is darkest purple,\n",
       " Magenta again,\n",
       " Tan,\n",
       " gunmetal gray,\n",
       " dull green,\n",
       " Yes, one sec the screen is all messed up! ~ This doesn't look right. ~ Are you still there?,\n",
       " Lol,\n",
       " electric,\n",
       " um ~ lol ~ this one is like an herb ~ not bright ~ fragrence,\n",
       " um ~ well ~ darker?,\n",
       " like baby poop,\n",
       " brighter blue ~ baby bluish,\n",
       " turquoise,\n",
       " lavender,\n",
       " dark gray,\n",
       " less bright lime green,\n",
       " purple slate,\n",
       " pink,\n",
       " plum, the lighter of the two close,\n",
       " Kind of greyish,\n",
       " Real purple/amethyst shade,\n",
       " purple,\n",
       " duller green,\n",
       " most grey,\n",
       " darkest blue,\n",
       " grey darker,\n",
       " bluish purple,\n",
       " most blue, least purple,\n",
       " bright grass green,\n",
       " bright green,\n",
       " darker pink,\n",
       " purply blue,\n",
       " blue,\n",
       " lime,\n",
       " grape,\n",
       " light lime,\n",
       " darker purple,\n",
       " medium blue,\n",
       " dull green,\n",
       " bright green,\n",
       " green,\n",
       " dark green,\n",
       " green,\n",
       " dark purple,\n",
       " blue,\n",
       " green,\n",
       " green,\n",
       " pink,\n",
       " dark blue,\n",
       " slightly lighter green,\n",
       " purple,\n",
       " purple ish color,\n",
       " bright yellow green,\n",
       " blue ish purple,\n",
       " purple,\n",
       " birght neon pink,\n",
       " pick the middle shade of purple,\n",
       " bright purple,\n",
       " the darker pink,\n",
       " not any of the regular greens,\n",
       " the green that doesnt match the other green and blue,\n",
       " green,\n",
       " olive,\n",
       " dull but not dullest,\n",
       " darker orange,\n",
       " skyer blue,\n",
       " red,\n",
       " Hi,\n",
       " purple, not bluish purple,\n",
       " light purple,\n",
       " not yellow two.  The right one is the olive green.,\n",
       " Any thoughts?,\n",
       " neon magenta again.,\n",
       " argh ~ green,\n",
       " Ok.  NOT magenta.  Ha!,\n",
       " blue square is the target,\n",
       " the lighest purple is the target,\n",
       " purple is the target ~ light,\n",
       " grayish blue,\n",
       " lightest out of the colors,\n",
       " medium blue,\n",
       " pinkish purple,\n",
       " medium pink,\n",
       " dull yellow,\n",
       " bright blue,\n",
       " lightest color,\n",
       " violet,\n",
       " light blue,\n",
       " light pink,\n",
       " medium gray,\n",
       " color of the sky on a dreary day,\n",
       " darker sandy,\n",
       " middle tone ~ not bright ~ not mud,\n",
       " mauve,\n",
       " greenish-bluish,\n",
       " purple,\n",
       " red,\n",
       " pinkish purple,\n",
       " brown,\n",
       " bluish purple,\n",
       " Hello ~ The color on the far left ~ its like a light green color.,\n",
       " The color that looks the lightest of blue,\n",
       " Darkest purple,\n",
       " Darkest purple,\n",
       " Closest to a light blue,\n",
       " my timer is about to end. Sorry,\n",
       " closest to tan brown,\n",
       " closest to pink,\n",
       " closest to light blue,\n",
       " grey/purple,\n",
       " darkest,\n",
       " the tan matte looking one, not the yellow, kind of the one in-between,\n",
       " most gray one,\n",
       " The target is the hot pink with more purple in it.,\n",
       " purple ~ more dark than light,\n",
       " magenta,\n",
       " blue,\n",
       " greenish yellow,\n",
       " light green,\n",
       " bright purple,\n",
       " faded green,\n",
       " light blue,\n",
       " brownish gray,\n",
       " darker yellowish,\n",
       " dull green,\n",
       " blue,\n",
       " gray brown,\n",
       " This is the color of a rainy sky.,\n",
       " Stormy,\n",
       " Like a daffodil,\n",
       " blunder years,\n",
       " Hello. Darkest Purple.,\n",
       " Purple-brown,\n",
       " Second brightest purple ~ Hello? ~ It's the second brightest purple ~ without any grey,\n",
       " the darkest purple,\n",
       " darker purple,\n",
       " pale, purer purple,\n",
       " bluish green,\n",
       " pale bluish purple,\n",
       " the brightest,\n",
       " sorry that was my fault. the other one. ~ hrm. the most vibrant.,\n",
       " the one most similar to the brightest,\n",
       " the color that is second most pink,\n",
       " the most vibrant puple,\n",
       " the one most in-between in color to the other two,\n",
       " purple,\n",
       " purple,\n",
       " green box,\n",
       " medium color,\n",
       " more vivid than the other two colors,\n",
       " green like a highlighter,\n",
       " the duller blue,\n",
       " looks like pea soup,\n",
       " pale mauve pink,\n",
       " bright red,\n",
       " blue,\n",
       " brightest blue,\n",
       " reddish violet,\n",
       " avocado,\n",
       " grayish purple,\n",
       " airport carpet,\n",
       " palest purple/blue,\n",
       " brightest yellow,\n",
       " reddish purple,\n",
       " dark pink,\n",
       " bluish green,\n",
       " seawater green,\n",
       " pink,\n",
       " bluish pink,\n",
       " bluest grey,\n",
       " not purple, not pink.. it's a shade in between the other 2 ~ its a more dull pinkish color,\n",
       " gray with a blue tint ~ almost a murky purple,\n",
       " purple - the lighter one ~ not dark,\n",
       " wow ummmm ~ okay one of them is tan and it isn't that one ~ the other one is green and it is like darker green ~ this one is green but lighter like mixed more with white,\n",
       " okay ~ it is one of the red/pink ones ~ but it isn't the one that is super red ~ it is more like a blush,\n",
       " the grey-blue box,\n",
       " the duller green box,\n",
       " This is brightest,\n",
       " light color,\n",
       " darkest,\n",
       " lightest,\n",
       " dark of two,\n",
       " dull gay,\n",
       " sky cloudy,\n",
       " brightest,\n",
       " The target is violet/ darker pink, not grayish or normal pink ~ Darker,\n",
       " Purple,\n",
       " Darkest shade of green,\n",
       " Darker purple, neither of the pinks,\n",
       " its the blue thats second brightest,\n",
       " its the greenish/brown,\n",
       " its the brightest pink,\n",
       " Purple,\n",
       " darker grey,\n",
       " darker purple,\n",
       " brighter reddish pink,\n",
       " medium green dull,\n",
       " olive,\n",
       " medium pinkish red ~ less,\n",
       " pumpkin orange,\n",
       " the color is the medium blue,\n",
       " pink,\n",
       " dark lime,\n",
       " grey ~ darker,\n",
       " purple,\n",
       " darker blue,\n",
       " light blue,\n",
       " brighter grey,\n",
       " Irish Green,\n",
       " Navy Tan,\n",
       " Darker Green,\n",
       " Grey,\n",
       " Cyan,\n",
       " good job! go for most vibrant again.,\n",
       " heck yeah. color most likely to be used for a battleship paint job,\n",
       " pick the one closest to being neon, or super bright,\n",
       " which one most resembles night sky?,\n",
       " same thing, brightest color,\n",
       " of the two similar, pick the brighter richer version,\n",
       " pick the duller darker of the two,\n",
       " the only one you would be comfortable seeing after using a toilet,\n",
       " The target is sort of a muted purple shade,\n",
       " The most soothing color of the three, and would match neutral tones well,\n",
       " The brightest one,\n",
       " The color of a clay chiminea,\n",
       " It's not purple or green,\n",
       " The lilac bush  in your yard,\n",
       " The ocean,\n",
       " The closest shade to pink,\n",
       " The color of royalty,\n",
       " Darkest purple shade,\n",
       " The closest to purple,\n",
       " Dirt,\n",
       " grayish blue,\n",
       " purple,\n",
       " lime green,\n",
       " teal,\n",
       " royal purple? i think,\n",
       " guess not lol ~ grey,\n",
       " the darker purple, like that one from earlier that was in shadow ~ think so yeah,\n",
       " nah that was the pink purple! ~ the lighter colored blue, stands out more ~ robin eggs are vibrant right? ~ yeah try that,\n",
       " whales,\n",
       " not purple or green,\n",
       " not the puke color, and not the brighter color either.,\n",
       " the brighter army,\n",
       " there are two purples, this one is more blue than grey,\n",
       " not purple only baby blue ~ no grayness either,\n",
       " the target is the darkest green,\n",
       " grey not greenish,\n",
       " bold yellow/green,\n",
       " brown,\n",
       " green like a toxic lake bright,\n",
       " olive green army,\n",
       " bright,\n",
       " saturated green,\n",
       " red and yellow make,\n",
       " mid tone blue,\n",
       " purple ~ not blue,\n",
       " bright purple ~ not the one with blue tint, then the other is more pinkish,\n",
       " yellow orange,\n",
       " lol. bright green,\n",
       " light blue,\n",
       " turquoise blue,\n",
       " left,\n",
       " right ~ green,\n",
       " spring green,\n",
       " blue,\n",
       " magenta,\n",
       " mid pink,\n",
       " mustard,\n",
       " bue,\n",
       " light urple,\n",
       " color is like a princess pony,\n",
       " is like the color of water,\n",
       " its a shade darker then the other grey,\n",
       " fluorescent green lime,\n",
       " purple, more purple then grey,\n",
       " darker grey,\n",
       " lime green,\n",
       " bright purple ~ dark i mean,\n",
       " pink,\n",
       " dark green,\n",
       " orange ~ brwnish ~ brownish orange,\n",
       " most bright purple ~ a bit reddish,\n",
       " blue ~ sorry,\n",
       " bright green,\n",
       " Blue, kind of bright, not the greenish one,\n",
       " Brightest green,\n",
       " the darkest green one,\n",
       " the greenest green one,\n",
       " omg how was that the greenest green one?!? pick the bluest one here,\n",
       " haha nice ~ this ones hard, uhm..not the neon green one ~ the one that looks like pea soup,\n",
       " the middle shade out of the thre, not the purple or blue one,\n",
       " throw up green,\n",
       " blue ~ ish purple,\n",
       " ok..not the real grey, and not the green one,\n",
       " haha why thank you =D uhm, not the reddish purple or the brighter purple ~ so i guess the mauveish one?,\n",
       " The lightest of the colors.,\n",
       " No, I'm just participating in it. ~ Not the brightest, but not the darkest.,\n",
       " Between purple and pink, on the brighter side.,\n",
       " This one's tough... ~ The deeper purple.,\n",
       " Another tough one... ~ The color that is not the brightest or the darkest.,\n",
       " The darker of the similar colors.,\n",
       " The one that is not the same color as the others.,\n",
       " The paler of the similar colors.,\n",
       " The color that be made from red and blue.,\n",
       " The palest of them all.,\n",
       " The one that seems to clash the most.,\n",
       " very bright and colorful,\n",
       " marine life underwater,\n",
       " bright hot,\n",
       " mix of sky and grass ~ hmmm dark,\n",
       " dull off color ~ neutral,\n",
       " pastel grass,\n",
       " bright,\n",
       " light but not bright,\n",
       " medium,\n",
       " sea foam green,\n",
       " wow these look very similar - pick the slightly darker of the two similar greens,\n",
       " apple green - muted of the two,\n",
       " darkest green - has a little gray or brown in it,\n",
       " apple green,\n",
       " one that is not green or gray,\n",
       " darker green,\n",
       " red/pink,\n",
       " brightest pink,\n",
       " more blue,\n",
       " more green,\n",
       " hot pink,\n",
       " blue,\n",
       " rose pink,\n",
       " brown tan,\n",
       " light purple ~ not gray not pink,\n",
       " faded yellowish green,\n",
       " royal blue,\n",
       " not green, not saturated blue ~ bright,\n",
       " hot pink,\n",
       " lavendar,\n",
       " teal,\n",
       " deep purple not lighter ~ it's a darker purple ~ the darkest but it's more purple to me not the blue,\n",
       " deep purple ~ not the violet,\n",
       " wow ~ putty beige not the one with more green in it,\n",
       " darker purple ~ its not the blue one and not the light purple one,\n",
       " ok one of us is color blind lol ~ maybe ok let's blame it on our computers hehe ~ off red? ~ idk how to describe this one lol ~ nnnnoooo ~ not gray not brown ~ rofl ~ wait,\n",
       " mustard but not as bright.  it has more yellow,\n",
       " pink ~ fuschia,\n",
       " lavender,\n",
       " pale green, not the brownish one,\n",
       " the brighter green,\n",
       " not the pale yellow/green, but the other brighter green,\n",
       " blue,\n",
       " pale purple,\n",
       " pale blue,\n",
       " Green.  Lol ~ I know - I was kidding.  Lol. Bright grass green,\n",
       " Brown,\n",
       " Dark grey,\n",
       " The darker green,\n",
       " in the center blue,\n",
       " in the center,\n",
       " doesn't matter,\n",
       " green on the right,\n",
       " beige on the right,\n",
       " in the center green,\n",
       " inthe center red,\n",
       " on the right azure,\n",
       " in the center yellow,\n",
       " on the left coffee,\n",
       " on the right purple,\n",
       " in the center green,\n",
       " in the center pink,\n",
       " in the center grey,\n",
       " on the right violet,\n",
       " on the left seawater,\n",
       " on the right orange,\n",
       " on the left green,\n",
       " on the left red,\n",
       " on the right orange,\n",
       " in the center pink,\n",
       " on the right green,\n",
       " on the right blue,\n",
       " in the center blue,\n",
       " in the center grey,\n",
       " in the center red,\n",
       " on the left orange,\n",
       " in the center carrot,\n",
       " on the right blue,\n",
       " on the left sage,\n",
       " on the right yellow,\n",
       " on the left grey,\n",
       " on the left green,\n",
       " on the left azure,\n",
       " on the right pink,\n",
       " Very matt color,\n",
       " The color of peas,\n",
       " Darker one,\n",
       " Darkest one,\n",
       " Mid color,\n",
       " More black,\n",
       " Shade of black,\n",
       " brighter purple,\n",
       " pinkish purple,\n",
       " gray,\n",
       " pinkish purple,\n",
       " olivish green,\n",
       " grayish blue,\n",
       " light green, pea,\n",
       " The color that is most distinctively gray,\n",
       " the brightest purple,\n",
       " dark green,\n",
       " grayish ~ not blue ~ darker not bright,\n",
       " pink ~ not purple not yellow,\n",
       " pink ~ red,\n",
       " not neon green and not easter blue,\n",
       " lightest shade purple  least shinny,\n",
       " rose pink,\n",
       " purple ~ darkest,\n",
       " neon pink,\n",
       " light pink,\n",
       " pink,\n",
       " tan,\n",
       " grey,\n",
       " green,\n",
       " green,\n",
       " tan,\n",
       " cyan,\n",
       " pink,\n",
       " grey,\n",
       " green,\n",
       " orange,\n",
       " pink,\n",
       " truest green,\n",
       " fuschia...,\n",
       " tan, not the truest one and not the grey-ish one ~ more brownish greenish one,\n",
       " violet, deep blue-ish purple,\n",
       " darker green,\n",
       " greenish blue ~ bit darker ~ greenish,\n",
       " darker purple. not as bright as the other 2 options,\n",
       " darkest purple,\n",
       " not the same purple as the last one. the darker purple,\n",
       " gray/green,\n",
       " light purple,\n",
       " red,\n",
       " The pink/purple box,\n",
       " The one that's a true purple,\n",
       " brightest,\n",
       " cementish color,\n",
       " dark dinosaur color,\n",
       " least blue of them,\n",
       " mustard,\n",
       " lightest brown,\n",
       " neon pink,\n",
       " yellow/green,\n",
       " purple-blue ~ more purple,\n",
       " green (not the brightest, not the dullest),\n",
       " gray,\n",
       " purple,\n",
       " grapes,\n",
       " bluest purple,\n",
       " pink,\n",
       " purple,\n",
       " the brightest of the two similar,\n",
       " mave ~ yes but not the brighter,\n",
       " candy flavor ~ yes,\n",
       " flower color,\n",
       " almost stormy cloud color,\n",
       " same flower color,\n",
       " pale neon,\n",
       " hot,\n",
       " sky, bright,\n",
       " not neon grass or hot,\n",
       " less vivid of purple,\n",
       " perfect gray,\n",
       " bluish green,\n",
       " lighter gray,\n",
       " not the darkest blue,\n",
       " lighter blu,\n",
       " that kind of pink that makes you think grandma,\n",
       " Howdy! Again, darker.,\n",
       " MTG ~ Ceedj! (CJ) Hey Wilma! ~ Darker, not bright,\n",
       " Will peel your eyes off ~ Haha I meant the color,\n",
       " Working on it. Hmmm, darkest?,\n",
       " Dangit,\n",
       " Haha, it's turning into Pyramid ~ Darkest,\n",
       " Darkest,\n",
       " In between,\n",
       " Right on! Slightly darker,\n",
       " Some color, not bright, kinda sky,\n",
       " It's the darker purple one ~ the darkest purple one that isn't magenta,\n",
       " the blue one,\n",
       " the darkest olive one,\n",
       " the darker purple ~ the less muted one,\n",
       " the magenta one,\n",
       " the grey with the most red in it,\n",
       " dark pink,\n",
       " purple,\n",
       " darker gray or brown,\n",
       " light purple,\n",
       " bright green,\n",
       " normal gray color,\n",
       " purple,\n",
       " purple,\n",
       " blue gray,\n",
       " magenta?,\n",
       " gray,\n",
       " just pick anything ~ it's all gray to me so I can't really tell,\n",
       " red,\n",
       " boring blue,\n",
       " lightest green,\n",
       " lightest,\n",
       " tiffany color,\n",
       " most vibrant,\n",
       " the middle shade,\n",
       " the brighter shade,\n",
       " IDK ~ The brightre of the two that are the same,\n",
       " middle shade,\n",
       " lighter,\n",
       " stormy ~ darker shade,\n",
       " grey,\n",
       " mix of pink block and purple block ~ light pink,\n",
       " grey,\n",
       " purple,\n",
       " pink pink ~ not the purpley one,\n",
       " Object is darker pink than the other boxes,\n",
       " Object is a shade of green,\n",
       " Object is a sea foam color,\n",
       " Object is combination of red and blue ~ Mixing blue and red together what color does it make ~ Color of lilacs,\n",
       " Color of a gloomy day,\n",
       " Dullest of the 3 colors - neutral color,\n",
       " Color similar to a citrus fruit and not a tart one,\n",
       " Color of the ocean,\n",
       " Reminds me of color of grass but not quite,\n",
       " Color of a leaf but with a silvery tinge,\n",
       " not dull, medium brightness, kinda like teal,\n",
       " not bright, soft green,\n",
       " dull orange,\n",
       " rose color ~ not purple or grey,\n",
       " purple ~ lilac color,\n",
       " bright purple,\n",
       " lighest color present ~ close to grey,\n",
       " bright blue/green box,\n",
       " wine can be this,\n",
       " barney,\n",
       " grapes,\n",
       " frogs,\n",
       " dolphins can be ~ tires can be,\n",
       " UV tanning bed,\n",
       " teenagers room,\n",
       " ballet slippers,\n",
       " barney,\n",
       " wine,\n",
       " new york mets,\n",
       " sunshine,\n",
       " sky ~ new york mets,\n",
       " blueish green,\n",
       " tiffany blue,\n",
       " puke green,\n",
       " greyish purple,\n",
       " greyish purple,\n",
       " dull pink?,\n",
       " purpleish grey,\n",
       " that was right ~ the purple square,\n",
       " construction paper brown or bag lunch brown :),\n",
       " Hi! It's the lightest green color,\n",
       " the lightest green ~ sorry, it's the second lightest one (not the neon),\n",
       " the second darkest green,\n",
       " dark blue,\n",
       " pastel dark purple,\n",
       " blue purple ~ inbetween ~ pink purple ~ muted,\n",
       " grey purple,\n",
       " purple ~ bright ~ not pink,\n",
       " the darkest green,\n",
       " Tiffany and company blue,\n",
       " lighter purple,\n",
       " purple,\n",
       " purple,\n",
       " forest greenish...like army color,\n",
       " brightest,\n",
       " more blue ~ lighter green ~ paler,\n",
       " it is a soft, dull pink,\n",
       " purple,\n",
       " the brightest green - not the pastel,\n",
       " the orange brown - could be considered tan,\n",
       " periwinkle,\n",
       " gray shade with green undertone,\n",
       " pink with the the least gray undertone - no purple and no orange,\n",
       " Not the brightest and not the pastel but still a soft shade of green,\n",
       " the darkest purple ~ least gray,\n",
       " rose....lightish pink,\n",
       " the most regular blue...deep blue...like cobalt blue....not bright or light,\n",
       " grey... no green tones....hint of purple or blue,\n",
       " Hello, anyone here? ~ oh okay ~ let's start, if you don't mind ~ not red or purple,\n",
       " lighter green,\n",
       " darkest color,\n",
       " looks like aqua,\n",
       " yes! ~ face from nick jr ~ barney,\n",
       " lol ~ light green,\n",
       " lighter green,\n",
       " looks darker grey,\n",
       " barney sipping on lemonade,\n",
       " subtle light color, not as bright,\n",
       " dam this is hard ~ darker green,\n",
       " not a bright red,\n",
       " those colors hurt my eyes ~ purple and pink combined ~ fuscia?,\n",
       " lime green,\n",
       " army green, not forest fir green,\n",
       " darker pink,\n",
       " grey it looks  alittle lighter then the other,\n",
       " darker blue,\n",
       " green,\n",
       " chartreus maybe,\n",
       " dull blue,\n",
       " yucky green not blue not green,\n",
       " greener ~ greenest? not the dull one,\n",
       " brightest blue,\n",
       " olive green. not the lightest and not the brightest,\n",
       " blue that has some brightness. not baby blue,\n",
       " medium purple,\n",
       " purple,\n",
       " drab green,\n",
       " darker grey,\n",
       " darkest,\n",
       " meiduim teal green,\n",
       " Neon pink,\n",
       " The lighter less dull pink,\n",
       " gray,\n",
       " grey,\n",
       " darker blue,\n",
       " the grey that is not greenish or brownish,\n",
       " well, the greys look pretty close ~ try the darker grey,\n",
       " ha ha yeah ~ choose the darker blue,\n",
       " dark purple,\n",
       " darkest purple,\n",
       " greyest,\n",
       " brown,\n",
       " light grey,\n",
       " brown ~ hello,\n",
       " light blue,\n",
       " not brightest, not dullest,\n",
       " green,\n",
       " dark purple i think, this one is hard,\n",
       " one of the blue ones? ~ they look the same to me,\n",
       " mauve,\n",
       " not the darkest or the brightest green - the other one,\n",
       " kermit again haha,\n",
       " there are two orangy ones - one looks a little brighter - that one,\n",
       " blue darkest blue,\n",
       " dull green,\n",
       " blue darkest,\n",
       " 2nd Brightest green,\n",
       " Fuschia,\n",
       " Gray/Purple,\n",
       " Darker green,\n",
       " Blue/purple,\n",
       " Darker pink,\n",
       " The target color is the brightest purple.,\n",
       " puke,\n",
       " blue with a hint a green,\n",
       " gray blue,\n",
       " in between blue and purple ~ not one or the other,\n",
       " muted purple,\n",
       " gray blue,\n",
       " the dullest blue,\n",
       " regular gray,\n",
       " purble ~ periwickle,\n",
       " sorta weird purple,\n",
       " violet,\n",
       " light blue,\n",
       " ugly pink,\n",
       " yellow,\n",
       " bright pink,\n",
       " purple,\n",
       " dull pink,\n",
       " the greener green. one is more neon, the other is the target.,\n",
       " brightest green,\n",
       " neon bright green,\n",
       " purplelish blue,\n",
       " purple ~ dark ~ bright,\n",
       " purple,\n",
       " brown,\n",
       " duller green,\n",
       " bright blue,\n",
       " not brightest, not darkest,\n",
       " tan,\n",
       " bright blue,\n",
       " brown,\n",
       " grayish blue,\n",
       " light blue,\n",
       " magentta,\n",
       " barf green ~ not blue ~ dark,\n",
       " puke green,\n",
       " green the dark greener one,\n",
       " middle,\n",
       " uhh most green. think leaf ~ yeah,\n",
       " dark pup ~ purp,\n",
       " this is hard... bluish ~ aqua,\n",
       " bright green ~ strongest ~ most saturated ~ sure,\n",
       " darkest purple,\n",
       " flashy girl,\n",
       " darker purple, more neon less pink,\n",
       " purplish blue, darker,\n",
       " darker of the 2 greys,\n",
       " blueish purple,\n",
       " the least bright blue,\n",
       " darker green,\n",
       " green/grey,\n",
       " kinda green ~ not bright,\n",
       " dullest green ~ least bright green ~ mint,\n",
       " the middle tone - it's more neon, not true green or mustard green,\n",
       " the more muted blue color - not the one that looks really gray,\n",
       " bright pink - more red than purple,\n",
       " Green,\n",
       " reen,\n",
       " Dark,\n",
       " Light Green,\n",
       " Dark Gray,\n",
       " Tealish,\n",
       " Brownish,\n",
       " Its like a puke green,\n",
       " LOL ~ I guess that was sort of yellow? ~ I'm probably color blind ~ The concrete looking one is the right one,\n",
       " They gray/green,\n",
       " Purple,\n",
       " Nice ~ The Greenish/Blue color,\n",
       " green,\n",
       " purple,\n",
       " lol that ok this is fun ~ purple not pink,\n",
       " mustard gold,\n",
       " medium colored blue,\n",
       " darker purple,\n",
       " darkest purple,\n",
       " darker green but not the darkest,\n",
       " light violet/purple,\n",
       " purple ~ darker,\n",
       " dark gray,\n",
       " darker pink, more purple,\n",
       " medium blue,\n",
       " grayish blue,\n",
       " olive green,\n",
       " Purple box,\n",
       " dull blue box,\n",
       " dull, drab green,\n",
       " dark purple,\n",
       " pale green,\n",
       " rose,\n",
       " hello ~ dullest green,\n",
       " boldest purple,\n",
       " grey,\n",
       " grey lol like dull metal?,\n",
       " duller green,\n",
       " gray gray would be the target,\n",
       " pea green,\n",
       " green gray,\n",
       " bright blue, more green,\n",
       " dark yet bright yellow,\n",
       " pinkish purple,\n",
       " darker blue,\n",
       " the brighter green. not the dull yellower one,\n",
       " gray, not grayish blue ~ the duller one, looks more silver almost,\n",
       " brighter pink,\n",
       " grayish brown,\n",
       " orange,\n",
       " dark blue,\n",
       " can be found in sunset. ~ darker,\n",
       " grass... kind of,\n",
       " more in the middle,\n",
       " black and white makes...,\n",
       " has more white ~ or grey,\n",
       " birght vivid color of the sky ~ cobalt. not sure if robin's egg is brighter. ~ it is bright, not a drab,\n",
       " not rose, not bluish purple,\n",
       " pinkish purple,\n",
       " dark purple,\n",
       " grey,\n",
       " d purple,\n",
       " off purple,\n",
       " purple,\n",
       " madder red,\n",
       " bright green,\n",
       " orange not bright one,\n",
       " dark shade,\n",
       " purple,\n",
       " green with yellow mixture,\n",
       " bright green (light like),\n",
       " bvblue,\n",
       " darker of the greens,\n",
       " pink that is not bright but has abright tint to it,\n",
       " sorry ~ blue that is the brightest,\n",
       " melon rosy color,\n",
       " hey ~ light green,\n",
       " olive,\n",
       " dark gray?  not purple,\n",
       " dark blue,\n",
       " dark puke green,\n",
       " yellow green?,\n",
       " dark green,\n",
       " green normal,\n",
       " light blue?,\n",
       " blue,\n",
       " middle lightest purple ~ ye this one is hard for you,\n",
       " leaf green,\n",
       " darker blue ~ go with green,\n",
       " gray,\n",
       " darker sky blue,\n",
       " purple,\n",
       " colors? ~ in between,\n",
       " the same color as last time,\n",
       " colors? ~ wat :\\ ~ uh bluish color,\n",
       " green,\n",
       " this one is in between ~ not as green and not as blue as the other ~ go with light green,\n",
       " not gray,\n",
       " The object is the darkest shade of purple.,\n",
       " The darker brown,\n",
       " the lighter brown,\n",
       " true blue,\n",
       " not leafy green, not yellowish green.,\n",
       " true blue,\n",
       " bright pink almost neon ~ not pastel,\n",
       " purple ~ dark,\n",
       " army green,\n",
       " nice work! ~ orange tan,\n",
       " lilac,\n",
       " the color of royalty a girls color traditionally,\n",
       " darkest,\n",
       " lightest,\n",
       " closest to purple,\n",
       " dullest,\n",
       " darkest,\n",
       " neon,\n",
       " purple,\n",
       " dark blue,\n",
       " bright purple,\n",
       " dark blue ~ no,\n",
       " Sorry! ~ touriques... Spelled that wrong ~ kinda lighter,\n",
       " dark yellow green,\n",
       " hot pink,\n",
       " hmm ~ green medium,\n",
       " not the neon one, darker of the 2,\n",
       " darker grey,\n",
       " purple most vivid,\n",
       " dark blue,\n",
       " the target is very slightly brighter than the similar color,\n",
       " the target is similar to Mary Kay cadillacs,\n",
       " one of the 2 very similar but slightly brighter,\n",
       " kind of ocean color but not the brightest; has a touch of leaf color,\n",
       " like a cloudy sky,\n",
       " very bright 'feminine' color,\n",
       " aqua,\n",
       " brightest blue ~ lightes,\n",
       " green, darker,\n",
       " green,\n",
       " christmas tree,\n",
       " the more muted blue. cornflower blue,\n",
       " teal,\n",
       " the brightest purple,\n",
       " the most gray,\n",
       " dull looking purple,\n",
       " green brightest,\n",
       " brightest purple,\n",
       " NOT blue NOT grey,\n",
       " Medium green,\n",
       " Blue with green tint,\n",
       " Brown Grey,\n",
       " Brown with some yellow,\n",
       " Closer to pink,\n",
       " Purple,\n",
       " Cyan,\n",
       " dull purple,\n",
       " uhm ~ what do the colors look like to u ~ purple,\n",
       " bright purple,\n",
       " lighter blue,\n",
       " red,\n",
       " darker puke,\n",
       " duller pink,\n",
       " grey,\n",
       " this one is tough ~ grey ~ I can't see a difference ~ green?,\n",
       " greenish yellow,\n",
       " purple,\n",
       " grey brown ~ not orange o red ~ more gre grey,\n",
       " pink ~ pastel ~ light,\n",
       " the darkest green,\n",
       " teal green,\n",
       " greyish blue,\n",
       " darkest green,\n",
       " indigo purple ~ the most common purple,\n",
       " olive green,\n",
       " dark purple,\n",
       " its like green with a grey tint,\n",
       " regular grey?,\n",
       " grey with a white tint,\n",
       " bright green,\n",
       " darkest shade ~ shaded purple,\n",
       " purple,\n",
       " lighter brownish, but not orange,\n",
       " the bluish green color,\n",
       " tan kinda color,\n",
       " lightest green,\n",
       " blue,\n",
       " green the dark one,\n",
       " brown,\n",
       " light green,\n",
       " purple,\n",
       " green that is like a lime,\n",
       " orange brown,\n",
       " dark blue,\n",
       " purple red,\n",
       " blue,\n",
       " Red ~ reddish orange,\n",
       " Sorry. It looked reddish orange to me ~ Darker than mint? It still looks mint to me.,\n",
       " not the purple blue ~ it's the normal looking one,\n",
       " bluish purplish one. Not the straight purple,\n",
       " oh god ~ So you see the two that look very similar? It's the one that..is..uhm,\n",
       " hello it is a shade not blue ~ but darker,\n",
       " hi its not pink but a shade of,\n",
       " its the darkest color,\n",
       " plum,\n",
       " bright greyish blue it stands out grey,\n",
       " the purplish gray color,\n",
       " purple,\n",
       " dark purple,\n",
       " grey,\n",
       " purple,\n",
       " darkest purple,\n",
       " lightest color,\n",
       " middle pruple,\n",
       " dark purple,\n",
       " dark green,\n",
       " darker orangish,\n",
       " middle shade of green, not bright light green,\n",
       " lighter shade of blue,\n",
       " green, neon,\n",
       " purple,\n",
       " purple grey,\n",
       " light purple,\n",
       " bluest,\n",
       " blue,\n",
       " The regular brown.,\n",
       " Orange.,\n",
       " grey, dark,\n",
       " hmmmm.  the darkest color purple,\n",
       " blueish purple,\n",
       " ...]"
      ]
     },
     "execution_count": 318,
     "metadata": {},
     "output_type": "execute_result"
    }
   ],
   "source": [
    "wrong_train_oversampled"
   ]
  },
  {
   "cell_type": "code",
   "execution_count": 319,
   "metadata": {},
   "outputs": [],
   "source": [
    "oversampled_train = correct_train_all + wrong_train_oversampled\n",
    "random.shuffle(oversampled_train)"
   ]
  },
  {
   "cell_type": "code",
   "execution_count": 634,
   "metadata": {},
   "outputs": [],
   "source": [
    "feature_handler_os = FeatureHandler(oversampled_train, dev_data_synth, caption_phi, color_phi, target_fn=success_target,\n",
    "                                   randomized_colors=False)"
   ]
  },
  {
   "cell_type": "code",
   "execution_count": 635,
   "metadata": {},
   "outputs": [],
   "source": [
    "train_features_os = feature_handler_os.train_features()\n",
    "train_targets_os = feature_handler_os.train_targets()"
   ]
  },
  {
   "cell_type": "code",
   "execution_count": 324,
   "metadata": {},
   "outputs": [],
   "source": [
    "train = True\n",
    "model_file_suc_os = \"../model/literal_listener_predict_success_oversampled_5epoch_endings_tkn.params\"\n",
    "\n",
    "model_suc_os = LiteralListenerPredictSuccess(PredictSuccess, num_epochs=5, criterion=nn.BCEWithLogitsLoss)\n",
    "model_suc_os.init_model(embed_dim = embed_dim, hidden_dim = hidden_dim, vocab_size = feature_handler_os.caption_featurizer.caption_indexer.size)\n"
   ]
  },
  {
   "cell_type": "code",
   "execution_count": 325,
   "metadata": {
    "collapsed": true
   },
   "outputs": [
    {
     "name": "stdout",
     "output_type": "stream",
     "text": [
      "Training model and saving to ../model/literal_listener_predict_success_oversampled_5epoch_endings_tkn.params:\n",
      "---EPOCH 0---\n",
      "0m 0s (0:0 0.00%) 0.0006\n",
      "0m 6s (0:1000 3.60%) 0.6904\n",
      "0m 12s (0:2000 7.20%) 0.6708\n",
      "0m 19s (0:3000 10.80%) 0.6639\n",
      "0m 26s (0:4000 14.41%) 0.6598\n",
      "0m 33s (0:5000 18.01%) 0.6519\n",
      "0m 40s (0:6000 21.61%) 0.6599\n",
      "0m 47s (0:7000 25.21%) 0.6453\n",
      "0m 54s (0:8000 28.81%) 0.6347\n",
      "1m 1s (0:9000 32.41%) 0.6619\n",
      "1m 8s (0:10000 36.02%) 0.6334\n",
      "1m 15s (0:11000 39.62%) 0.6284\n",
      "1m 22s (0:12000 43.22%) 0.6377\n",
      "1m 30s (0:13000 46.82%) 0.6183\n",
      "1m 37s (0:14000 50.42%) 0.6462\n",
      "1m 44s (0:15000 54.02%) 0.6396\n",
      "1m 51s (0:16000 57.62%) 0.6321\n",
      "1m 59s (0:17000 61.23%) 0.6321\n",
      "2m 6s (0:18000 64.83%) 0.6108\n",
      "2m 13s (0:19000 68.43%) 0.6346\n",
      "2m 20s (0:20000 72.03%) 0.6172\n",
      "2m 27s (0:21000 75.63%) 0.6365\n",
      "2m 34s (0:22000 79.23%) 0.6276\n",
      "2m 41s (0:23000 82.84%) 0.6089\n",
      "2m 48s (0:24000 86.44%) 0.6251\n",
      "2m 56s (0:25000 90.04%) 0.6157\n",
      "3m 3s (0:26000 93.64%) 0.6250\n",
      "3m 10s (0:27000 97.24%) 0.6286\n",
      "---EPOCH 1---\n",
      "3m 16s (1:0 0.00%) 0.0009\n",
      "3m 23s (1:1000 3.60%) 0.5918\n",
      "3m 30s (1:2000 7.20%) 0.5801\n",
      "3m 38s (1:3000 10.80%) 0.6031\n",
      "3m 47s (1:4000 14.41%) 0.6085\n",
      "3m 55s (1:5000 18.01%) 0.6045\n",
      "4m 3s (1:6000 21.61%) 0.6053\n",
      "4m 11s (1:7000 25.21%) 0.5894\n",
      "4m 19s (1:8000 28.81%) 0.5726\n",
      "4m 26s (1:9000 32.41%) 0.6095\n",
      "4m 35s (1:10000 36.02%) 0.5857\n",
      "4m 43s (1:11000 39.62%) 0.5792\n",
      "4m 50s (1:12000 43.22%) 0.5879\n",
      "4m 57s (1:13000 46.82%) 0.5695\n",
      "5m 4s (1:14000 50.42%) 0.5942\n",
      "5m 12s (1:15000 54.02%) 0.5784\n",
      "5m 19s (1:16000 57.62%) 0.5717\n",
      "5m 26s (1:17000 61.23%) 0.5606\n",
      "5m 34s (1:18000 64.83%) 0.5514\n",
      "5m 41s (1:19000 68.43%) 0.5692\n",
      "5m 49s (1:20000 72.03%) 0.5557\n",
      "5m 56s (1:21000 75.63%) 0.5732\n",
      "6m 3s (1:22000 79.23%) 0.5513\n",
      "6m 11s (1:23000 82.84%) 0.5461\n",
      "6m 18s (1:24000 86.44%) 0.5689\n",
      "6m 25s (1:25000 90.04%) 0.5448\n",
      "6m 32s (1:26000 93.64%) 0.5600\n",
      "6m 40s (1:27000 97.24%) 0.5855\n",
      "---EPOCH 2---\n",
      "6m 46s (2:0 0.00%) 0.0015\n",
      "6m 53s (2:1000 3.60%) 0.5242\n",
      "7m 1s (2:2000 7.20%) 0.5057\n",
      "7m 9s (2:3000 10.80%) 0.5334\n",
      "7m 16s (2:4000 14.41%) 0.5568\n",
      "7m 24s (2:5000 18.01%) 0.5341\n",
      "7m 31s (2:6000 21.61%) 0.5362\n",
      "7m 38s (2:7000 25.21%) 0.5052\n",
      "7m 46s (2:8000 28.81%) 0.5101\n",
      "7m 54s (2:9000 32.41%) 0.5269\n",
      "8m 2s (2:10000 36.02%) 0.5116\n",
      "8m 10s (2:11000 39.62%) 0.5196\n",
      "8m 20s (2:12000 43.22%) 0.5121\n",
      "8m 28s (2:13000 46.82%) 0.5088\n",
      "8m 36s (2:14000 50.42%) 0.5282\n",
      "8m 44s (2:15000 54.02%) 0.5039\n",
      "8m 52s (2:16000 57.62%) 0.5157\n",
      "9m 0s (2:17000 61.23%) 0.4876\n",
      "9m 8s (2:18000 64.83%) 0.4757\n",
      "9m 15s (2:19000 68.43%) 0.5055\n",
      "9m 23s (2:20000 72.03%) 0.4820\n",
      "9m 31s (2:21000 75.63%) 0.5036\n",
      "9m 38s (2:22000 79.23%) 0.4926\n",
      "9m 45s (2:23000 82.84%) 0.4756\n",
      "9m 53s (2:24000 86.44%) 0.5231\n",
      "10m 0s (2:25000 90.04%) 0.4646\n",
      "10m 8s (2:26000 93.64%) 0.4790\n",
      "10m 16s (2:27000 97.24%) 0.5198\n",
      "---EPOCH 3---\n",
      "10m 22s (3:0 0.00%) 0.0017\n",
      "10m 29s (3:1000 3.60%) 0.4644\n",
      "10m 37s (3:2000 7.20%) 0.4497\n",
      "10m 44s (3:3000 10.80%) 0.4742\n",
      "10m 52s (3:4000 14.41%) 0.5080\n",
      "11m 0s (3:5000 18.01%) 0.4698\n",
      "11m 7s (3:6000 21.61%) 0.4804\n",
      "11m 15s (3:7000 25.21%) 0.4530\n",
      "11m 22s (3:8000 28.81%) 0.4611\n",
      "11m 30s (3:9000 32.41%) 0.4774\n",
      "11m 37s (3:10000 36.02%) 0.4661\n",
      "11m 45s (3:11000 39.62%) 0.4681\n",
      "11m 53s (3:12000 43.22%) 0.4651\n",
      "12m 0s (3:13000 46.82%) 0.4602\n",
      "12m 7s (3:14000 50.42%) 0.4856\n",
      "12m 15s (3:15000 54.02%) 0.4512\n",
      "12m 22s (3:16000 57.62%) 0.4471\n",
      "12m 29s (3:17000 61.23%) 0.4496\n",
      "12m 37s (3:18000 64.83%) 0.4241\n",
      "12m 45s (3:19000 68.43%) 0.4684\n",
      "12m 54s (3:20000 72.03%) 0.4394\n",
      "13m 2s (3:21000 75.63%) 0.4456\n",
      "13m 9s (3:22000 79.23%) 0.4529\n",
      "13m 17s (3:23000 82.84%) 0.4348\n",
      "13m 25s (3:24000 86.44%) 0.4912\n",
      "13m 33s (3:25000 90.04%) 0.4227\n",
      "13m 41s (3:26000 93.64%) 0.4214\n",
      "13m 49s (3:27000 97.24%) 0.4862\n",
      "---EPOCH 4---\n",
      "13m 55s (4:0 0.00%) 0.0014\n",
      "14m 3s (4:1000 3.60%) 0.4255\n",
      "14m 12s (4:2000 7.20%) 0.4066\n",
      "14m 20s (4:3000 10.80%) 0.4512\n",
      "14m 28s (4:4000 14.41%) 0.4655\n",
      "14m 36s (4:5000 18.01%) 0.4367\n",
      "14m 43s (4:6000 21.61%) 0.4563\n",
      "14m 50s (4:7000 25.21%) 0.4240\n",
      "14m 57s (4:8000 28.81%) 0.4326\n",
      "15m 5s (4:9000 32.41%) 0.4455\n",
      "15m 12s (4:10000 36.02%) 0.4427\n",
      "15m 19s (4:11000 39.62%) 0.4498\n",
      "15m 28s (4:12000 43.22%) 0.4330\n",
      "15m 36s (4:13000 46.82%) 0.4342\n",
      "15m 44s (4:14000 50.42%) 0.4663\n",
      "15m 53s (4:15000 54.02%) 0.4235\n",
      "16m 0s (4:16000 57.62%) 0.4115\n",
      "16m 8s (4:17000 61.23%) 0.4301\n",
      "16m 17s (4:18000 64.83%) 0.4015\n",
      "16m 28s (4:19000 68.43%) 0.4405\n",
      "16m 35s (4:20000 72.03%) 0.4104\n",
      "16m 43s (4:21000 75.63%) 0.4126\n",
      "16m 52s (4:22000 79.23%) 0.4351\n",
      "17m 0s (4:23000 82.84%) 0.3931\n",
      "17m 7s (4:24000 86.44%) 0.4674\n",
      "17m 14s (4:25000 90.04%) 0.4006\n",
      "17m 22s (4:26000 93.64%) 0.3866\n",
      "17m 29s (4:27000 97.24%) 0.4641\n"
     ]
    }
   ],
   "source": [
    "if train:\n",
    "    print(\"Training model and saving to {}:\".format(model_file_suc_os))\n",
    "    model_suc_os.fit(train_features_os, train_targets_os)\n",
    "    model_suc_os.save_model(model_file_suc_os)\n",
    "else:\n",
    "    print(\"Loading pretrained model\")\n",
    "    model_suc_os.load_model(model_file_suc_os)"
   ]
  },
  {
   "cell_type": "code",
   "execution_count": 352,
   "metadata": {
    "collapsed": true
   },
   "outputs": [
    {
     "name": "stdout",
     "output_type": "stream",
     "text": [
      "Training model and saving to ../model/literal_listener_predict_success_oversampled_5epoch_endings_tkn.params:\n",
      "---EPOCH 0---\n",
      "0m 0s (0:0 0.00%) 0.0011\n",
      "0m 6s (0:1000 3.60%) 0.4161\n",
      "0m 12s (0:2000 7.20%) 0.3905\n",
      "0m 18s (0:3000 10.80%) 0.4295\n",
      "0m 26s (0:4000 14.41%) 0.4445\n",
      "0m 33s (0:5000 18.01%) 0.4313\n",
      "0m 40s (0:6000 21.61%) 0.4461\n",
      "0m 47s (0:7000 25.21%) 0.4095\n",
      "0m 54s (0:8000 28.81%) 0.4124\n",
      "1m 1s (0:9000 32.41%) 0.4287\n",
      "1m 8s (0:10000 36.02%) 0.4262\n",
      "1m 16s (0:11000 39.62%) 0.4282\n",
      "1m 23s (0:12000 43.22%) 0.4145\n",
      "1m 30s (0:13000 46.82%) 0.4146\n",
      "1m 37s (0:14000 50.42%) 0.4454\n",
      "1m 45s (0:15000 54.02%) 0.4174\n",
      "1m 52s (0:16000 57.62%) 0.3904\n",
      "1m 59s (0:17000 61.23%) 0.4226\n",
      "2m 7s (0:18000 64.83%) 0.3961\n",
      "2m 15s (0:19000 68.43%) 0.4224\n",
      "2m 22s (0:20000 72.03%) 0.3976\n",
      "2m 30s (0:21000 75.63%) 0.3923\n",
      "2m 37s (0:22000 79.23%) 0.4159\n",
      "2m 45s (0:23000 82.84%) 0.3769\n",
      "2m 53s (0:24000 86.44%) 0.4569\n",
      "3m 1s (0:25000 90.04%) 0.3783\n",
      "3m 8s (0:26000 93.64%) 0.3903\n",
      "3m 16s (0:27000 97.24%) 0.4456\n",
      "---EPOCH 1---\n",
      "3m 21s (1:0 0.00%) 0.0006\n",
      "3m 29s (1:1000 3.60%) 0.4089\n",
      "3m 36s (1:2000 7.20%) 0.3820\n",
      "3m 44s (1:3000 10.80%) 0.4135\n",
      "3m 52s (1:4000 14.41%) 0.4337\n",
      "3m 59s (1:5000 18.01%) 0.4197\n",
      "4m 6s (1:6000 21.61%) 0.4411\n",
      "4m 14s (1:7000 25.21%) 0.4003\n",
      "4m 21s (1:8000 28.81%) 0.3924\n",
      "4m 28s (1:9000 32.41%) 0.4243\n",
      "4m 35s (1:10000 36.02%) 0.4263\n",
      "4m 42s (1:11000 39.62%) 0.4218\n",
      "4m 50s (1:12000 43.22%) 0.4164\n",
      "4m 57s (1:13000 46.82%) 0.3973\n",
      "5m 4s (1:14000 50.42%) 0.4354\n",
      "5m 12s (1:15000 54.02%) 0.4114\n",
      "5m 20s (1:16000 57.62%) 0.3882\n",
      "5m 27s (1:17000 61.23%) 0.4161\n",
      "5m 35s (1:18000 64.83%) 0.3892\n",
      "5m 42s (1:19000 68.43%) 0.4201\n",
      "5m 49s (1:20000 72.03%) 0.3925\n",
      "5m 57s (1:21000 75.63%) 0.3783\n",
      "6m 4s (1:22000 79.23%) 0.4165\n",
      "6m 11s (1:23000 82.84%) 0.3717\n",
      "6m 18s (1:24000 86.44%) 0.4460\n",
      "6m 26s (1:25000 90.04%) 0.3782\n",
      "6m 33s (1:26000 93.64%) 0.3928\n",
      "6m 40s (1:27000 97.24%) 0.4358\n",
      "---EPOCH 2---\n",
      "6m 46s (2:0 0.00%) 0.0005\n",
      "6m 53s (2:1000 3.60%) 0.3933\n",
      "7m 1s (2:2000 7.20%) 0.3753\n",
      "7m 8s (2:3000 10.80%) 0.4152\n",
      "7m 16s (2:4000 14.41%) 0.4319\n",
      "7m 24s (2:5000 18.01%) 0.4112\n",
      "7m 31s (2:6000 21.61%) 0.4271\n",
      "7m 39s (2:7000 25.21%) 0.4007\n",
      "7m 47s (2:8000 28.81%) 0.3858\n",
      "7m 56s (2:9000 32.41%) 0.4128\n",
      "8m 4s (2:10000 36.02%) 0.4131\n",
      "8m 11s (2:11000 39.62%) 0.4239\n",
      "8m 19s (2:12000 43.22%) 0.4109\n",
      "8m 26s (2:13000 46.82%) 0.4042\n",
      "8m 33s (2:14000 50.42%) 0.4352\n",
      "8m 41s (2:15000 54.02%) 0.4122\n",
      "8m 49s (2:16000 57.62%) 0.3888\n",
      "8m 56s (2:17000 61.23%) 0.4083\n",
      "9m 4s (2:18000 64.83%) 0.3785\n",
      "9m 11s (2:19000 68.43%) 0.4136\n",
      "9m 18s (2:20000 72.03%) 0.3720\n",
      "9m 25s (2:21000 75.63%) 0.3921\n",
      "9m 32s (2:22000 79.23%) 0.4045\n",
      "9m 40s (2:23000 82.84%) 0.3688\n",
      "9m 47s (2:24000 86.44%) 0.4556\n",
      "9m 54s (2:25000 90.04%) 0.3599\n",
      "10m 1s (2:26000 93.64%) 0.3845\n",
      "10m 9s (2:27000 97.24%) 0.4306\n",
      "---EPOCH 3---\n",
      "10m 14s (3:0 0.00%) 0.0008\n",
      "10m 22s (3:1000 3.60%) 0.3767\n",
      "10m 29s (3:2000 7.20%) 0.3796\n",
      "10m 37s (3:3000 10.80%) 0.4066\n",
      "10m 44s (3:4000 14.41%) 0.4349\n",
      "10m 51s (3:5000 18.01%) 0.4165\n",
      "10m 59s (3:6000 21.61%) 0.4173\n",
      "11m 7s (3:7000 25.21%) 0.3814\n",
      "11m 14s (3:8000 28.81%) 0.3833\n",
      "11m 21s (3:9000 32.41%) 0.4190\n",
      "11m 29s (3:10000 36.02%) 0.4155\n",
      "11m 36s (3:11000 39.62%) 0.4254\n",
      "11m 44s (3:12000 43.22%) 0.4095\n",
      "11m 51s (3:13000 46.82%) 0.4029\n",
      "11m 59s (3:14000 50.42%) 0.4423\n",
      "12m 6s (3:15000 54.02%) 0.4038\n",
      "12m 14s (3:16000 57.62%) 0.3711\n",
      "12m 22s (3:17000 61.23%) 0.4084\n",
      "12m 29s (3:18000 64.83%) 0.3833\n",
      "12m 38s (3:19000 68.43%) 0.4181\n",
      "12m 46s (3:20000 72.03%) 0.3774\n",
      "12m 54s (3:21000 75.63%) 0.3776\n",
      "13m 1s (3:22000 79.23%) 0.4033\n",
      "13m 9s (3:23000 82.84%) 0.3811\n",
      "13m 16s (3:24000 86.44%) 0.4712\n",
      "13m 24s (3:25000 90.04%) 0.3671\n",
      "13m 31s (3:26000 93.64%) 0.3810\n",
      "13m 39s (3:27000 97.24%) 0.4266\n",
      "---EPOCH 4---\n",
      "13m 44s (4:0 0.00%) 0.0007\n",
      "13m 52s (4:1000 3.60%) 0.3749\n",
      "13m 59s (4:2000 7.20%) 0.3879\n",
      "14m 7s (4:3000 10.80%) 0.4107\n",
      "14m 14s (4:4000 14.41%) 0.4339\n",
      "14m 21s (4:5000 18.01%) 0.4125\n",
      "14m 29s (4:6000 21.61%) 0.4221\n",
      "14m 36s (4:7000 25.21%) 0.3946\n",
      "14m 43s (4:8000 28.81%) 0.3806\n",
      "14m 51s (4:9000 32.41%) 0.4129\n",
      "14m 58s (4:10000 36.02%) 0.4141\n",
      "15m 6s (4:11000 39.62%) 0.4149\n",
      "15m 17s (4:12000 43.22%) 0.4134\n",
      "15m 25s (4:13000 46.82%) 0.4036\n",
      "15m 33s (4:14000 50.42%) 0.4380\n",
      "15m 41s (4:15000 54.02%) 0.4268\n",
      "15m 49s (4:16000 57.62%) 0.3749\n",
      "15m 57s (4:17000 61.23%) 0.3939\n",
      "16m 4s (4:18000 64.83%) 0.3767\n",
      "16m 12s (4:19000 68.43%) 0.4065\n",
      "16m 20s (4:20000 72.03%) 0.3695\n",
      "16m 28s (4:21000 75.63%) 0.3758\n",
      "16m 35s (4:22000 79.23%) 0.4097\n",
      "16m 43s (4:23000 82.84%) 0.3779\n",
      "16m 51s (4:24000 86.44%) 0.4572\n",
      "16m 59s (4:25000 90.04%) 0.3600\n",
      "17m 6s (4:26000 93.64%) 0.4050\n",
      "17m 14s (4:27000 97.24%) 0.4338\n"
     ]
    }
   ],
   "source": [
    "if train:\n",
    "    print(\"Training model and saving to {}:\".format(model_file_suc_os))\n",
    "    model_suc_os.fit(train_features, train_targets)\n",
    "    model_suc_os.save_model(model_file_suc_os)\n",
    "else:\n",
    "    print(\"Loading pretrained model\")\n",
    "    model_suc_os.load_model(model_file_suc_os)"
   ]
  },
  {
   "cell_type": "code",
   "execution_count": 651,
   "metadata": {},
   "outputs": [],
   "source": [
    "train = True\n",
    "model_file_suc_os = \"../model/literal_listener_predict_success_color3_oversampled_5epoch_endings_tkn.params\"\n",
    "\n",
    "model_suc_os = LiteralListenerPredictSuccess(PredictSuccessColor3, num_epochs=5, criterion=nn.BCEWithLogitsLoss, \n",
    "                                             use_color=True, optimizer=torch.optim.Adam, lr=0.008)\n",
    "model_suc_os.init_model(embed_dim = embed_dim, hidden_dim = hidden_dim, \n",
    "                        vocab_size = feature_handler_os.caption_featurizer.caption_indexer.size,\n",
    "                        color_in_dim=54, color_hidden_dim=100)\n",
    "\n"
   ]
  },
  {
   "cell_type": "code",
   "execution_count": 652,
   "metadata": {
    "scrolled": true
   },
   "outputs": [
    {
     "name": "stdout",
     "output_type": "stream",
     "text": [
      "Training model and saving to ../model/literal_listener_predict_success_color3_oversampled_5epoch_endings_tkn.params:\n",
      "---EPOCH 0---\n",
      "0m 0s (0:0 0.00%) 0.0007\n",
      "0m 8s (0:1000 3.60%) 0.7204\n",
      "0m 18s (0:2000 7.20%) 0.6772\n",
      "0m 28s (0:3000 10.80%) 0.6817\n",
      "0m 38s (0:4000 14.41%) 0.6781\n",
      "0m 49s (0:5000 18.01%) 0.6775\n",
      "1m 0s (0:6000 21.61%) 0.6855\n",
      "1m 12s (0:7000 25.21%) 0.6638\n",
      "1m 23s (0:8000 28.81%) 0.6602\n",
      "1m 36s (0:9000 32.41%) 0.6696\n",
      "1m 48s (0:10000 36.02%) 0.6736\n",
      "2m 1s (0:11000 39.62%) 0.6425\n",
      "2m 15s (0:12000 43.22%) 0.6442\n",
      "2m 27s (0:13000 46.82%) 0.6626\n",
      "2m 41s (0:14000 50.42%) 0.6456\n",
      "2m 54s (0:15000 54.02%) 0.6477\n",
      "3m 8s (0:16000 57.62%) 0.6563\n",
      "3m 22s (0:17000 61.23%) 0.6605\n",
      "3m 36s (0:18000 64.83%) 0.6332\n",
      "3m 52s (0:19000 68.43%) 0.6542\n",
      "4m 7s (0:20000 72.03%) 0.6480\n",
      "4m 22s (0:21000 75.63%) 0.6375\n",
      "4m 36s (0:22000 79.23%) 0.6243\n",
      "4m 50s (0:23000 82.84%) 0.6336\n",
      "5m 5s (0:24000 86.44%) 0.6439\n",
      "5m 19s (0:25000 90.04%) 0.6419\n",
      "5m 33s (0:26000 93.64%) 0.6291\n",
      "5m 48s (0:27000 97.24%) 0.6145\n",
      "---EPOCH 1---\n",
      "5m 59s (1:0 0.00%) 0.0006\n",
      "6m 14s (1:1000 3.60%) 0.6084\n",
      "6m 29s (1:2000 7.20%) 0.6183\n",
      "6m 44s (1:3000 10.80%) 0.6091\n",
      "6m 59s (1:4000 14.41%) 0.6408\n",
      "7m 13s (1:5000 18.01%) 0.6059\n",
      "7m 28s (1:6000 21.61%) 0.6361\n",
      "7m 44s (1:7000 25.21%) 0.5898\n",
      "7m 59s (1:8000 28.81%) 0.5953\n",
      "8m 14s (1:9000 32.41%) 0.6070\n",
      "8m 29s (1:10000 36.02%) 0.6027\n",
      "8m 44s (1:11000 39.62%) 0.5995\n",
      "9m 0s (1:12000 43.22%) 0.5846\n",
      "9m 17s (1:13000 46.82%) 0.6085\n",
      "9m 33s (1:14000 50.42%) 0.6036\n",
      "9m 48s (1:15000 54.02%) 0.6033\n",
      "10m 4s (1:16000 57.62%) 0.6062\n",
      "10m 19s (1:17000 61.23%) 0.6324\n",
      "10m 35s (1:18000 64.83%) 0.5739\n",
      "10m 50s (1:19000 68.43%) 0.6120\n",
      "11m 6s (1:20000 72.03%) 0.5816\n",
      "11m 22s (1:21000 75.63%) 0.5869\n",
      "11m 38s (1:22000 79.23%) 0.6208\n",
      "11m 56s (1:23000 82.84%) 0.5809\n",
      "12m 12s (1:24000 86.44%) 0.6156\n",
      "12m 28s (1:25000 90.04%) 0.6004\n",
      "12m 44s (1:26000 93.64%) 0.6117\n",
      "13m 0s (1:27000 97.24%) 0.5821\n",
      "---EPOCH 2---\n",
      "13m 12s (2:0 0.00%) 0.0001\n",
      "13m 28s (2:1000 3.60%) 0.5742\n",
      "13m 44s (2:2000 7.20%) 0.6000\n",
      "14m 0s (2:3000 10.80%) 0.5926\n",
      "14m 16s (2:4000 14.41%) 0.5894\n",
      "14m 33s (2:5000 18.01%) 0.5980\n",
      "14m 49s (2:6000 21.61%) 0.6185\n",
      "15m 5s (2:7000 25.21%) 0.5596\n",
      "15m 21s (2:8000 28.81%) 0.5968\n",
      "15m 38s (2:9000 32.41%) 0.5759\n",
      "15m 54s (2:10000 36.02%) 0.5870\n",
      "16m 10s (2:11000 39.62%) 0.5661\n",
      "16m 27s (2:12000 43.22%) 0.5829\n",
      "16m 43s (2:13000 46.82%) 0.5986\n",
      "17m 0s (2:14000 50.42%) 0.5881\n",
      "17m 17s (2:15000 54.02%) 0.5844\n",
      "17m 33s (2:16000 57.62%) 0.5668\n",
      "17m 50s (2:17000 61.23%) 0.5752\n",
      "18m 7s (2:18000 64.83%) 0.5545\n",
      "18m 23s (2:19000 68.43%) 0.5961\n",
      "18m 40s (2:20000 72.03%) 0.5632\n",
      "18m 57s (2:21000 75.63%) 0.5706\n",
      "19m 13s (2:22000 79.23%) 0.5864\n",
      "19m 30s (2:23000 82.84%) 0.5417\n",
      "19m 47s (2:24000 86.44%) 0.5768\n",
      "20m 6s (2:25000 90.04%) 0.5533\n",
      "20m 22s (2:26000 93.64%) 0.5769\n",
      "20m 39s (2:27000 97.24%) 0.5498\n",
      "---EPOCH 3---\n",
      "20m 52s (3:0 0.00%) 0.0001\n",
      "21m 9s (3:1000 3.60%) 0.5526\n",
      "21m 26s (3:2000 7.20%) 0.5411\n",
      "21m 44s (3:3000 10.80%) 0.5577\n",
      "22m 1s (3:4000 14.41%) 0.5815\n",
      "22m 18s (3:5000 18.01%) 0.5756\n",
      "22m 35s (3:6000 21.61%) 0.5667\n",
      "22m 52s (3:7000 25.21%) 0.5495\n",
      "23m 9s (3:8000 28.81%) 0.5567\n",
      "23m 26s (3:9000 32.41%) 0.5416\n",
      "23m 43s (3:10000 36.02%) 0.5630\n",
      "24m 0s (3:11000 39.62%) 0.5264\n",
      "24m 17s (3:12000 43.22%) 0.5730\n",
      "24m 34s (3:13000 46.82%) 0.5599\n",
      "24m 51s (3:14000 50.42%) 0.5661\n",
      "25m 8s (3:15000 54.02%) 0.5603\n",
      "25m 25s (3:16000 57.62%) 0.5518\n",
      "25m 42s (3:17000 61.23%) 0.5708\n",
      "25m 59s (3:18000 64.83%) 0.5203\n",
      "26m 16s (3:19000 68.43%) 0.5628\n",
      "26m 34s (3:20000 72.03%) 0.5455\n",
      "26m 51s (3:21000 75.63%) 0.5363\n",
      "27m 8s (3:22000 79.23%) 0.5802\n",
      "27m 25s (3:23000 82.84%) 0.5360\n",
      "27m 42s (3:24000 86.44%) 0.5396\n",
      "27m 59s (3:25000 90.04%) 0.5419\n",
      "28m 17s (3:26000 93.64%) 0.5475\n",
      "28m 35s (3:27000 97.24%) 0.5184\n",
      "---EPOCH 4---\n",
      "28m 48s (4:0 0.00%) 0.0004\n",
      "29m 5s (4:1000 3.60%) 0.5190\n",
      "29m 22s (4:2000 7.20%) 0.5433\n",
      "29m 40s (4:3000 10.80%) 0.5333\n",
      "29m 57s (4:4000 14.41%) 0.5464\n",
      "30m 14s (4:5000 18.01%) 0.5638\n",
      "30m 31s (4:6000 21.61%) 0.5575\n",
      "30m 49s (4:7000 25.21%) 0.5167\n",
      "31m 6s (4:8000 28.81%) 0.5293\n",
      "31m 23s (4:9000 32.41%) 0.5417\n",
      "31m 41s (4:10000 36.02%) 0.5368\n",
      "31m 58s (4:11000 39.62%) 0.5371\n",
      "32m 15s (4:12000 43.22%) 0.5145\n",
      "32m 32s (4:13000 46.82%) 0.5722\n",
      "32m 50s (4:14000 50.42%) 0.5379\n",
      "33m 7s (4:15000 54.02%) 0.5400\n",
      "33m 25s (4:16000 57.62%) 0.5408\n",
      "33m 42s (4:17000 61.23%) 0.5451\n",
      "33m 59s (4:18000 64.83%) 0.5061\n",
      "34m 16s (4:19000 68.43%) 0.5274\n",
      "34m 34s (4:20000 72.03%) 0.5257\n",
      "34m 51s (4:21000 75.63%) 0.5425\n",
      "35m 8s (4:22000 79.23%) 0.5326\n",
      "35m 25s (4:23000 82.84%) 0.4996\n",
      "35m 43s (4:24000 86.44%) 0.5123\n",
      "36m 0s (4:25000 90.04%) 0.5357\n",
      "36m 19s (4:26000 93.64%) 0.5262\n",
      "36m 36s (4:27000 97.24%) 0.4932\n"
     ]
    }
   ],
   "source": [
    "if train:\n",
    "    print(\"Training model and saving to {}:\".format(model_file_suc_os))\n",
    "    model_suc_os.fit(train_features_os, train_targets_os)\n",
    "    model_suc_os.save_model(model_file_suc_os)\n",
    "else:\n",
    "    print(\"Loading pretrained model\")\n",
    "    model_suc_os.load_model(model_file_suc_os)"
   ]
  },
  {
   "cell_type": "code",
   "execution_count": 326,
   "metadata": {},
   "outputs": [
    {
     "name": "stdout",
     "output_type": "stream",
     "text": [
      "(0.3121385593346627, 1.3627509346030396e-08)\n"
     ]
    }
   ],
   "source": [
    "x = evaluate_model(dev_data, feature_handler, model_suc_os, output_to_score_suc, score_model, accuracy=False)"
   ]
  },
  {
   "cell_type": "code",
   "execution_count": 353,
   "metadata": {},
   "outputs": [
    {
     "name": "stdout",
     "output_type": "stream",
     "text": [
      "(0.2857047563786835, 2.2791370390166852e-07)\n"
     ]
    }
   ],
   "source": [
    "x = evaluate_model(dev_data, feature_handler, model_suc_os, output_to_score_suc, score_model, accuracy=False)"
   ]
  },
  {
   "cell_type": "code",
   "execution_count": 354,
   "metadata": {},
   "outputs": [],
   "source": [
    "assess_targets_tgt_suc_os, model_outputs_suc_os, model_scores_suc_os, true_scores_grouped_suc_os, model_scores_grouped_suc_os = x"
   ]
  },
  {
   "cell_type": "code",
   "execution_count": 343,
   "metadata": {},
   "outputs": [],
   "source": [
    "model_scores_bin_suc_os = [1 if s > 0. else 0 for s in model_scores_suc_os]\n"
   ]
  },
  {
   "cell_type": "code",
   "execution_count": 355,
   "metadata": {},
   "outputs": [
    {
     "data": {
      "text/plain": [
       "0.5133896542059472"
      ]
     },
     "execution_count": 355,
     "metadata": {},
     "output_type": "execute_result"
    }
   ],
   "source": [
    "metrics.roc_auc_score(assess_targets_tgt_suc_os, model_scores_suc_os)"
   ]
  },
  {
   "cell_type": "code",
   "execution_count": 357,
   "metadata": {},
   "outputs": [
    {
     "data": {
      "text/plain": [
       "<matplotlib.collections.PathCollection at 0x13e78d3c8>"
      ]
     },
     "execution_count": 357,
     "metadata": {},
     "output_type": "execute_result"
    },
    {
     "data": {
      "image/png": "[encoded data removed]",
      "text/plain": [
       "<Figure size 432x288 with 1 Axes>"
      ]
     },
     "metadata": {},
     "output_type": "display_data"
    }
   ],
   "source": [
    "fpr, tpr, _ = metrics.roc_curve(assess_targets_tgt_suc_os, model_scores_suc_os, pos_label=1)\n",
    "plt.scatter(fpr, tpr) # fpr and tpr from metrics.roc_score"
   ]
  },
  {
   "cell_type": "code",
   "execution_count": 351,
   "metadata": {},
   "outputs": [
    {
     "data": {
      "image/png": "[encoded data removed]",
      "text/plain": [
       "<Figure size 432x288 with 1 Axes>"
      ]
     },
     "metadata": {},
     "output_type": "display_data"
    }
   ],
   "source": [
    "plt.scatter(true_scores_grouped_suc_os, model_scores_grouped_suc_os)\n",
    "plt.show()"
   ]
  },
  {
   "cell_type": "code",
   "execution_count": 402,
   "metadata": {},
   "outputs": [
    {
     "data": {
      "image/png": "[encoded data removed]",
      "text/plain": [
       "<Figure size 432x288 with 1 Axes>"
      ]
     },
     "metadata": {},
     "output_type": "display_data"
    }
   ],
   "source": [
    "plt.scatter(true_scores_grouped_suc_os, model_scores_grouped_suc_os)\n",
    "plt.show()"
   ]
  },
  {
   "cell_type": "code",
   "execution_count": 397,
   "metadata": {},
   "outputs": [],
   "source": [
    "# from https://stackoverflow.com/questions/8118982/rounding-numbers-to-a-specific-resolution\n",
    "def round_partial(value, res):\n",
    "    return round(value/res) * res"
   ]
  },
  {
   "cell_type": "code",
   "execution_count": 405,
   "metadata": {},
   "outputs": [],
   "source": [
    "true_scores_grouped_rounded_suc_os = [int(50*round_partial(score, 1/50)) for score in true_scores_grouped_suc_os]"
   ]
  },
  {
   "cell_type": "code",
   "execution_count": 406,
   "metadata": {},
   "outputs": [
    {
     "data": {
      "image/png": "[encoded data removed]",
      "text/plain": [
       "<Figure size 432x288 with 1 Axes>"
      ]
     },
     "metadata": {},
     "output_type": "display_data"
    }
   ],
   "source": [
    "plt.scatter(true_scores_grouped_rounded_suc_os, model_scores_grouped_suc_os)\n",
    "plt.show()"
   ]
  },
  {
   "cell_type": "code",
   "execution_count": 653,
   "metadata": {},
   "outputs": [
    {
     "name": "stdout",
     "output_type": "stream",
     "text": [
      "(0.023715765720001253, 0.5909307462088358)\n"
     ]
    }
   ],
   "source": [
    "x = evaluate_model(dev_data_synth, feature_handler_os, model_suc_os, output_to_score_suc, score_model, accuracy=False)\n",
    "assess_targets_tgt_suc_os_synth, model_outputs_suc_os_synth, model_scores_suc_os_synth, true_scores_grouped_suc_os_synth, model_scores_grouped_suc_os_synth = x\n"
   ]
  },
  {
   "cell_type": "code",
   "execution_count": 655,
   "metadata": {},
   "outputs": [
    {
     "data": {
      "image/png": "[encoded data removed]",
      "text/plain": [
       "<Figure size 432x288 with 1 Axes>"
      ]
     },
     "metadata": {},
     "output_type": "display_data"
    }
   ],
   "source": [
    "plt.scatter(true_scores_grouped_suc_os_synth, model_scores_grouped_suc_os_synth)\n",
    "plt.show()"
   ]
  },
  {
   "cell_type": "code",
   "execution_count": 408,
   "metadata": {},
   "outputs": [],
   "source": [
    "import pandas as pd"
   ]
  },
  {
   "cell_type": "code",
   "execution_count": 413,
   "metadata": {},
   "outputs": [],
   "source": [
    "data = {'model_scores': model_scores_grouped_suc_os, 'true_scores': true_scores_grouped_rounded_suc_os}\n",
    "suc_os_df = pd.DataFrame(data)\n",
    "suc_os_scores_series = suc_os_df.groupby('true_scores').mean()['model_scores']\n",
    "plt.scatter(suc_os_scores_series.index, suc_os_scores_series.values)"
   ]
  },
  {
   "cell_type": "code",
   "execution_count": 418,
   "metadata": {
    "scrolled": true
   },
   "outputs": [
    {
     "data": {
      "text/html": [
       "<div>\n",
       "<style>\n",
       "    .dataframe thead tr:only-child th {\n",
       "        text-align: right;\n",
       "    }\n",
       "\n",
       "    .dataframe thead th {\n",
       "        text-align: left;\n",
       "    }\n",
       "\n",
       "    .dataframe tbody tr th {\n",
       "        vertical-align: top;\n",
       "    }\n",
       "</style>\n",
       "<table border=\"1\" class=\"dataframe\">\n",
       "  <thead>\n",
       "    <tr style=\"text-align: right;\">\n",
       "      <th></th>\n",
       "      <th>model_scores</th>\n",
       "    </tr>\n",
       "    <tr>\n",
       "      <th>true_scores</th>\n",
       "      <th></th>\n",
       "    </tr>\n",
       "  </thead>\n",
       "  <tbody>\n",
       "    <tr>\n",
       "      <th>33</th>\n",
       "      <td>0.653433</td>\n",
       "    </tr>\n",
       "    <tr>\n",
       "      <th>36</th>\n",
       "      <td>0.674656</td>\n",
       "    </tr>\n",
       "    <tr>\n",
       "      <th>37</th>\n",
       "      <td>0.711406</td>\n",
       "    </tr>\n",
       "    <tr>\n",
       "      <th>38</th>\n",
       "      <td>0.681863</td>\n",
       "    </tr>\n",
       "    <tr>\n",
       "      <th>39</th>\n",
       "      <td>0.676143</td>\n",
       "    </tr>\n",
       "    <tr>\n",
       "      <th>40</th>\n",
       "      <td>0.672864</td>\n",
       "    </tr>\n",
       "    <tr>\n",
       "      <th>41</th>\n",
       "      <td>0.706229</td>\n",
       "    </tr>\n",
       "    <tr>\n",
       "      <th>42</th>\n",
       "      <td>0.727521</td>\n",
       "    </tr>\n",
       "    <tr>\n",
       "      <th>43</th>\n",
       "      <td>0.697183</td>\n",
       "    </tr>\n",
       "    <tr>\n",
       "      <th>44</th>\n",
       "      <td>0.709663</td>\n",
       "    </tr>\n",
       "    <tr>\n",
       "      <th>45</th>\n",
       "      <td>0.719766</td>\n",
       "    </tr>\n",
       "    <tr>\n",
       "      <th>46</th>\n",
       "      <td>0.759056</td>\n",
       "    </tr>\n",
       "    <tr>\n",
       "      <th>47</th>\n",
       "      <td>0.752161</td>\n",
       "    </tr>\n",
       "    <tr>\n",
       "      <th>48</th>\n",
       "      <td>0.766728</td>\n",
       "    </tr>\n",
       "    <tr>\n",
       "      <th>49</th>\n",
       "      <td>0.751714</td>\n",
       "    </tr>\n",
       "    <tr>\n",
       "      <th>50</th>\n",
       "      <td>0.762300</td>\n",
       "    </tr>\n",
       "  </tbody>\n",
       "</table>\n",
       "</div>"
      ],
      "text/plain": [
       "             model_scores\n",
       "true_scores              \n",
       "33               0.653433\n",
       "36               0.674656\n",
       "37               0.711406\n",
       "38               0.681863\n",
       "39               0.676143\n",
       "40               0.672864\n",
       "41               0.706229\n",
       "42               0.727521\n",
       "43               0.697183\n",
       "44               0.709663\n",
       "45               0.719766\n",
       "46               0.759056\n",
       "47               0.752161\n",
       "48               0.766728\n",
       "49               0.751714\n",
       "50               0.762300"
      ]
     },
     "execution_count": 418,
     "metadata": {},
     "output_type": "execute_result"
    }
   ],
   "source": [
    "suc_os_df.groupby('true_scores').mean()"
   ]
  },
  {
   "cell_type": "code",
   "execution_count": 419,
   "metadata": {},
   "outputs": [],
   "source": [
    "suc_os_scores_series = suc_os_df.groupby('true_scores').mean()['model_scores']"
   ]
  },
  {
   "cell_type": "code",
   "execution_count": 422,
   "metadata": {},
   "outputs": [
    {
     "data": {
      "text/plain": [
       "<matplotlib.collections.PathCollection at 0x14f7ae780>"
      ]
     },
     "execution_count": 422,
     "metadata": {},
     "output_type": "execute_result"
    },
    {
     "data": {
      "image/png": "[encoded data removed]",
      "text/plain": [
       "<Figure size 432x288 with 1 Axes>"
      ]
     },
     "metadata": {},
     "output_type": "display_data"
    }
   ],
   "source": [
    "plt.scatter(suc_os_scores_series.index, suc_os_scores_series.values)"
   ]
  },
  {
   "cell_type": "code",
   "execution_count": 423,
   "metadata": {},
   "outputs": [
    {
     "data": {
      "text/plain": [
       "(0.8988771370565319, 2.2110388855592683e-06)"
      ]
     },
     "execution_count": 423,
     "metadata": {},
     "output_type": "execute_result"
    }
   ],
   "source": [
    "stats.pearsonr(suc_os_scores_series.index, suc_os_scores_series.values)"
   ]
  },
  {
   "cell_type": "code",
   "execution_count": 347,
   "metadata": {},
   "outputs": [
    {
     "data": {
      "text/plain": [
       "0.5431088746418867"
      ]
     },
     "execution_count": 347,
     "metadata": {},
     "output_type": "execute_result"
    }
   ],
   "source": [
    "metrics.auc(fpr, tpr)"
   ]
  },
  {
   "cell_type": "code",
   "execution_count": 334,
   "metadata": {},
   "outputs": [
    {
     "data": {
      "image/png": "[encoded data removed]",
      "text/plain": [
       "<Figure size 432x288 with 1 Axes>"
      ]
     },
     "metadata": {},
     "output_type": "display_data"
    }
   ],
   "source": [
    "plt.hist(model_scores_suc_os, 15)\n",
    "plt.show()"
   ]
  },
  {
   "cell_type": "code",
   "execution_count": 391,
   "metadata": {},
   "outputs": [],
   "source": [
    "# now let's try training the model that includes colors AND captions with oversampling:\n",
    "train = True\n",
    "model_file_suc_col_os = \"../model/literal_listener_predict_success_colors_oversampled_5epoch_endings_tkn.params\"\n",
    "\n",
    "model_suc_col_os = LiteralListenerPredictSuccess(PredictSuccessColor, num_epochs=5, criterion=nn.BCEWithLogitsLoss)\n",
    "model_suc_col_os.init_model(embed_dim = embed_dim, hidden_dim = hidden_dim, \n",
    "                     vocab_size = feature_handler.caption_featurizer.caption_indexer.size,\n",
    "                     color_in_dim = 54, color_hidden_dim=100)\n",
    "\n"
   ]
  },
  {
   "cell_type": "code",
   "execution_count": 392,
   "metadata": {},
   "outputs": [
    {
     "name": "stdout",
     "output_type": "stream",
     "text": [
      "Training model and saving to ../model/literal_listener_predict_success_colors_oversampled_5epoch_endings_tkn.params:\n",
      "---EPOCH 0---\n",
      "0m 0s (0:0 0.00%) 0.0007\n",
      "0m 7s (0:1000 3.60%) 0.6877\n",
      "0m 16s (0:2000 7.20%) 0.6640\n",
      "0m 24s (0:3000 10.80%) 0.6628\n",
      "0m 32s (0:4000 14.41%) 0.6602\n",
      "0m 40s (0:5000 18.01%) 0.6426\n",
      "0m 49s (0:6000 21.61%) 0.6579\n",
      "0m 57s (0:7000 25.21%) 0.6342\n",
      "1m 6s (0:8000 28.81%) 0.6328\n",
      "1m 14s (0:9000 32.41%) 0.6460\n",
      "1m 23s (0:10000 36.02%) 0.6166\n",
      "1m 31s (0:11000 39.62%) 0.6303\n",
      "1m 40s (0:12000 43.22%) 0.6246\n",
      "1m 49s (0:13000 46.82%) 0.6211\n",
      "1m 57s (0:14000 50.42%) 0.6263\n",
      "2m 8s (0:15000 54.02%) 0.6267\n",
      "2m 17s (0:16000 57.62%) 0.6088\n",
      "2m 26s (0:17000 61.23%) 0.6182\n",
      "2m 35s (0:18000 64.83%) 0.5879\n",
      "2m 44s (0:19000 68.43%) 0.6239\n",
      "2m 53s (0:20000 72.03%) 0.5920\n",
      "3m 3s (0:21000 75.63%) 0.6100\n",
      "3m 11s (0:22000 79.23%) 0.5989\n",
      "3m 20s (0:23000 82.84%) 0.5816\n",
      "3m 29s (0:24000 86.44%) 0.5964\n",
      "3m 38s (0:25000 90.04%) 0.5909\n",
      "3m 47s (0:26000 93.64%) 0.5952\n",
      "3m 56s (0:27000 97.24%) 0.5899\n",
      "---EPOCH 1---\n",
      "4m 2s (1:0 0.00%) 0.0002\n",
      "4m 11s (1:1000 3.60%) 0.5707\n",
      "4m 20s (1:2000 7.20%) 0.5624\n",
      "4m 29s (1:3000 10.80%) 0.5867\n",
      "4m 38s (1:4000 14.41%) 0.5854\n",
      "4m 47s (1:5000 18.01%) 0.5826\n",
      "4m 56s (1:6000 21.61%) 0.5796\n",
      "5m 6s (1:7000 25.21%) 0.5716\n",
      "5m 15s (1:8000 28.81%) 0.5770\n",
      "5m 24s (1:9000 32.41%) 0.5649\n",
      "5m 33s (1:10000 36.02%) 0.5648\n",
      "5m 42s (1:11000 39.62%) 0.5729\n",
      "5m 51s (1:12000 43.22%) 0.5694\n",
      "6m 0s (1:13000 46.82%) 0.5673\n",
      "6m 8s (1:14000 50.42%) 0.5659\n",
      "6m 17s (1:15000 54.02%) 0.5623\n",
      "6m 26s (1:16000 57.62%) 0.5404\n",
      "6m 35s (1:17000 61.23%) 0.5533\n",
      "6m 43s (1:18000 64.83%) 0.5242\n",
      "6m 53s (1:19000 68.43%) 0.5680\n",
      "7m 3s (1:20000 72.03%) 0.5184\n",
      "7m 12s (1:21000 75.63%) 0.5407\n",
      "7m 20s (1:22000 79.23%) 0.5277\n",
      "7m 29s (1:23000 82.84%) 0.5132\n",
      "7m 38s (1:24000 86.44%) 0.5377\n",
      "7m 48s (1:25000 90.04%) 0.5280\n",
      "7m 58s (1:26000 93.64%) 0.5390\n",
      "8m 7s (1:27000 97.24%) 0.5419\n",
      "---EPOCH 2---\n",
      "8m 14s (2:0 0.00%) 0.0002\n",
      "8m 25s (2:1000 3.60%) 0.5039\n",
      "8m 36s (2:2000 7.20%) 0.5114\n",
      "8m 46s (2:3000 10.80%) 0.5102\n",
      "8m 56s (2:4000 14.41%) 0.5199\n",
      "9m 6s (2:5000 18.01%) 0.5313\n",
      "9m 16s (2:6000 21.61%) 0.5189\n",
      "9m 26s (2:7000 25.21%) 0.4947\n",
      "9m 36s (2:8000 28.81%) 0.5014\n",
      "9m 46s (2:9000 32.41%) 0.4776\n",
      "9m 56s (2:10000 36.02%) 0.5000\n",
      "10m 6s (2:11000 39.62%) 0.4999\n",
      "10m 15s (2:12000 43.22%) 0.5065\n",
      "10m 26s (2:13000 46.82%) 0.4979\n",
      "10m 36s (2:14000 50.42%) 0.5027\n",
      "10m 46s (2:15000 54.02%) 0.4978\n",
      "10m 56s (2:16000 57.62%) 0.4493\n",
      "11m 5s (2:17000 61.23%) 0.4742\n",
      "11m 15s (2:18000 64.83%) 0.4434\n",
      "11m 25s (2:19000 68.43%) 0.5007\n",
      "11m 36s (2:20000 72.03%) 0.4404\n",
      "11m 46s (2:21000 75.63%) 0.4632\n",
      "11m 57s (2:22000 79.23%) 0.4788\n",
      "12m 6s (2:23000 82.84%) 0.4432\n",
      "12m 15s (2:24000 86.44%) 0.4844\n",
      "12m 26s (2:25000 90.04%) 0.4470\n",
      "12m 37s (2:26000 93.64%) 0.4530\n",
      "12m 48s (2:27000 97.24%) 0.4864\n",
      "---EPOCH 3---\n",
      "12m 56s (3:0 0.00%) 0.0002\n",
      "13m 6s (3:1000 3.60%) 0.4361\n",
      "13m 16s (3:2000 7.20%) 0.4517\n",
      "13m 26s (3:3000 10.80%) 0.4391\n",
      "13m 36s (3:4000 14.41%) 0.4712\n",
      "13m 46s (3:5000 18.01%) 0.4722\n",
      "13m 56s (3:6000 21.61%) 0.4608\n",
      "14m 6s (3:7000 25.21%) 0.4213\n",
      "14m 16s (3:8000 28.81%) 0.4449\n",
      "14m 25s (3:9000 32.41%) 0.4209\n",
      "14m 35s (3:10000 36.02%) 0.4393\n",
      "14m 45s (3:11000 39.62%) 0.4484\n",
      "14m 55s (3:12000 43.22%) 0.4558\n",
      "15m 5s (3:13000 46.82%) 0.4448\n",
      "15m 15s (3:14000 50.42%) 0.4558\n",
      "15m 25s (3:15000 54.02%) 0.4398\n",
      "15m 36s (3:16000 57.62%) 0.3852\n",
      "15m 48s (3:17000 61.23%) 0.4188\n",
      "16m 0s (3:18000 64.83%) 0.3977\n",
      "16m 11s (3:19000 68.43%) 0.4393\n",
      "16m 20s (3:20000 72.03%) 0.3894\n",
      "16m 29s (3:21000 75.63%) 0.4161\n",
      "16m 37s (3:22000 79.23%) 0.4289\n",
      "16m 47s (3:23000 82.84%) 0.3973\n",
      "16m 56s (3:24000 86.44%) 0.4433\n",
      "17m 6s (3:25000 90.04%) 0.3886\n",
      "17m 15s (3:26000 93.64%) 0.4068\n",
      "17m 24s (3:27000 97.24%) 0.4496\n",
      "---EPOCH 4---\n",
      "17m 32s (4:0 0.00%) 0.0002\n",
      "17m 42s (4:1000 3.60%) 0.3982\n",
      "17m 51s (4:2000 7.20%) 0.4141\n",
      "18m 1s (4:3000 10.80%) 0.4028\n",
      "18m 11s (4:4000 14.41%) 0.4363\n",
      "18m 20s (4:5000 18.01%) 0.4360\n",
      "18m 29s (4:6000 21.61%) 0.4124\n",
      "18m 38s (4:7000 25.21%) 0.3911\n",
      "18m 47s (4:8000 28.81%) 0.4155\n",
      "18m 56s (4:9000 32.41%) 0.3947\n",
      "19m 5s (4:10000 36.02%) 0.4137\n",
      "19m 13s (4:11000 39.62%) 0.4063\n",
      "19m 22s (4:12000 43.22%) 0.4260\n",
      "19m 31s (4:13000 46.82%) 0.4201\n",
      "19m 40s (4:14000 50.42%) 0.4266\n",
      "19m 49s (4:15000 54.02%) 0.4124\n",
      "19m 57s (4:16000 57.62%) 0.3579\n",
      "20m 6s (4:17000 61.23%) 0.3792\n",
      "20m 15s (4:18000 64.83%) 0.3668\n",
      "20m 23s (4:19000 68.43%) 0.4084\n",
      "20m 32s (4:20000 72.03%) 0.3607\n",
      "20m 41s (4:21000 75.63%) 0.3878\n",
      "20m 49s (4:22000 79.23%) 0.3999\n",
      "20m 58s (4:23000 82.84%) 0.3711\n",
      "21m 6s (4:24000 86.44%) 0.4292\n",
      "21m 15s (4:25000 90.04%) 0.3603\n",
      "21m 23s (4:26000 93.64%) 0.3816\n",
      "21m 32s (4:27000 97.24%) 0.4306\n"
     ]
    }
   ],
   "source": [
    "if train:\n",
    "    print(\"Training model and saving to {}:\".format(model_file_suc_col_os))\n",
    "    model_suc_col_os.fit(train_features, train_targets)\n",
    "    model_suc_col_os.save_model(model_file_suc_col_os)\n",
    "else:\n",
    "    print(\"Loading pretrained model\")\n",
    "    model_suc_col_os.load_model(model_file_suc_col_os)"
   ]
  },
  {
   "cell_type": "code",
   "execution_count": 394,
   "metadata": {},
   "outputs": [
    {
     "name": "stdout",
     "output_type": "stream",
     "text": [
      "(0.2857986460260847, 2.2575665866691015e-07)\n"
     ]
    }
   ],
   "source": [
    "x = evaluate_model(dev_data, feature_handler, model_suc_col_os, output_to_score_suc, score_model, accuracy=False)"
   ]
  },
  {
   "cell_type": "code",
   "execution_count": 395,
   "metadata": {},
   "outputs": [],
   "source": [
    "assess_targets_tgt_suc_col_os, model_outputs_suc_col_os, model_scores_suc_col_os, true_scores_grouped_suc_col_os, model_scores_grouped_suc_col_os = x"
   ]
  },
  {
   "cell_type": "code",
   "execution_count": 396,
   "metadata": {},
   "outputs": [
    {
     "data": {
      "text/plain": [
       "0.5836952481022781"
      ]
     },
     "execution_count": 396,
     "metadata": {},
     "output_type": "execute_result"
    }
   ],
   "source": [
    "metrics.roc_auc_score(assess_targets_tgt_suc_col_os, model_scores_suc_col_os)"
   ]
  },
  {
   "cell_type": "code",
   "execution_count": 426,
   "metadata": {},
   "outputs": [
    {
     "data": {
      "image/png": "[encoded data removed]",
      "text/plain": [
       "<Figure size 432x288 with 1 Axes>"
      ]
     },
     "metadata": {},
     "output_type": "display_data"
    },
    {
     "data": {
      "text/plain": [
       "(0.8287567585688326, 7.267762866873444e-05)"
      ]
     },
     "execution_count": 426,
     "metadata": {},
     "output_type": "execute_result"
    }
   ],
   "source": [
    "true_scores_grouped_rounded_suc_col_os = [int(50*round_partial(score, 1/50)) for score in true_scores_grouped_suc_col_os]\n",
    "suc_col_os_df = pd.DataFrame({'model_scores': model_scores_grouped_suc_col_os, 'true_scores': true_scores_grouped_rounded_suc_col_os})\n",
    "suc_col_os_scores_series = suc_col_os_df.groupby('true_scores').mean()['model_scores']\n",
    "plt.scatter(suc_col_os_scores_series.index, suc_col_os_scores_series.values)\n",
    "plt.show()\n",
    "stats.pearsonr(suc_col_os_scores_series.index, suc_col_os_scores_series.values)"
   ]
  },
  {
   "cell_type": "code",
   "execution_count": null,
   "metadata": {},
   "outputs": [],
   "source": [
    "stats.pearsonr(suc_col_os_scores_series.index, suc_col_os_scores_series.values)"
   ]
  },
  {
   "cell_type": "code",
   "execution_count": 242,
   "metadata": {},
   "outputs": [],
   "source": [
    "# logistic regression classifier for colors\n",
    "feature_handler = FeatureHandler(train_data, dev_data, caption_phi, color_phi, target_fn=success_target)\n",
    "\n"
   ]
  },
  {
   "cell_type": "code",
   "execution_count": 244,
   "metadata": {},
   "outputs": [],
   "source": [
    "train_features = feature_handler.train_features()\n",
    "train_targets = feature_handler.train_targets()"
   ]
  },
  {
   "cell_type": "code",
   "execution_count": 246,
   "metadata": {
    "scrolled": true
   },
   "outputs": [
    {
     "data": {
      "text/plain": [
       "[array([0, 1, 2, 3, 4, 5, 6]),\n",
       " array([[ 1.0000000e+00, -9.7831738e-01,  9.1420978e-01,  9.7831738e-01,\n",
       "         -1.0000000e+00,  9.7831738e-01,  9.1420978e-01, -9.7831738e-01,\n",
       "          1.0000000e+00, -5.5557024e-01,  3.7131721e-01, -1.7096189e-01,\n",
       "         -7.1573085e-01,  5.5557024e-01, -3.7131721e-01, -8.4485358e-01,\n",
       "          7.1573085e-01, -5.5557024e-01, -3.8268343e-01,  5.6573182e-01,\n",
       "         -7.2424710e-01, -1.8303989e-01,  3.8268343e-01, -5.6573182e-01,\n",
       "          2.4541229e-02,  1.8303989e-01, -3.8268343e-01,  0.0000000e+00,\n",
       "         -2.0711137e-01,  4.0524131e-01, -2.0711137e-01, -1.2246469e-16,\n",
       "          2.0711137e-01, -4.0524131e-01,  2.0711137e-01,  0.0000000e+00,\n",
       "         -8.3146960e-01,  9.2850608e-01, -9.8527765e-01, -6.9837624e-01,\n",
       "          8.3146960e-01, -9.2850608e-01, -5.3499764e-01,  6.9837624e-01,\n",
       "         -8.3146960e-01,  9.2387950e-01, -8.2458931e-01,  6.8954057e-01,\n",
       "          9.8310548e-01, -9.2387950e-01,  8.2458931e-01,  9.9969882e-01,\n",
       "         -9.8310548e-01,  9.2387950e-01],\n",
       "        [ 1.0000000e+00, -9.5694035e-01,  8.3146960e-01,  6.2485951e-01,\n",
       "         -8.2458931e-01,  9.5330602e-01, -2.1910124e-01, -7.3564567e-02,\n",
       "          3.5989505e-01,  9.5694035e-01, -1.0000000e+00,  9.5694035e-01,\n",
       "          3.7131721e-01, -6.2485951e-01,  8.2458931e-01, -4.9289820e-01,\n",
       "          2.1910124e-01,  7.3564567e-02,  8.3146960e-01, -9.5694035e-01,\n",
       "          1.0000000e+00,  8.5797310e-02, -3.7131721e-01,  6.2485951e-01,\n",
       "         -7.2424710e-01,  4.9289820e-01, -2.1910124e-01,  0.0000000e+00,\n",
       "         -2.9028466e-01,  5.5557024e-01, -7.8073722e-01,  5.6573182e-01,\n",
       "         -3.0200595e-01, -9.7570211e-01,  9.9729043e-01, -9.3299282e-01,\n",
       "         -2.9028466e-01, -1.2246469e-16,  2.9028466e-01, -9.2850608e-01,\n",
       "          7.8073722e-01, -5.6573182e-01, -8.7008697e-01,  9.7570211e-01,\n",
       "         -9.9729043e-01, -5.5557024e-01,  2.9028466e-01,  0.0000000e+00,\n",
       "         -9.9631262e-01,  9.2850608e-01, -7.8073722e-01, -6.8954057e-01,\n",
       "          8.7008697e-01, -9.7570211e-01],\n",
       "        [ 1.0000000e+00, -9.9247956e-01,  9.7003126e-01,  9.9247956e-01,\n",
       "         -1.0000000e+00,  9.9247956e-01,  9.7003126e-01, -9.9247956e-01,\n",
       "          1.0000000e+00,  8.7008697e-01, -9.2387950e-01,  9.6377605e-01,\n",
       "          8.0320752e-01, -8.7008697e-01,  9.2387950e-01,  7.2424710e-01,\n",
       "         -8.0320752e-01,  8.7008697e-01,  5.1410276e-01, -6.1523157e-01,\n",
       "          7.0710677e-01,  4.0524131e-01, -5.1410276e-01,  6.1523157e-01,\n",
       "          2.9028466e-01, -4.0524131e-01,  5.1410276e-01,  0.0000000e+00,\n",
       "         -1.2241068e-01,  2.4298018e-01, -1.2241068e-01, -1.2246469e-16,\n",
       "          1.2241068e-01, -2.4298018e-01,  1.2241068e-01,  0.0000000e+00,\n",
       "         -4.9289820e-01,  3.8268343e-01, -2.6671275e-01, -5.9569931e-01,\n",
       "          4.9289820e-01, -3.8268343e-01, -6.8954057e-01,  5.9569931e-01,\n",
       "         -4.9289820e-01, -8.5772860e-01,  7.8834641e-01, -7.0710677e-01,\n",
       "         -9.1420978e-01,  8.5772860e-01, -7.8834641e-01, -9.5694035e-01,\n",
       "          9.1420978e-01, -8.5772860e-01]], dtype=float32)]"
      ]
     },
     "execution_count": 246,
     "metadata": {},
     "output_type": "execute_result"
    }
   ],
   "source": [
    "train_features[0]"
   ]
  },
  {
   "cell_type": "code",
   "execution_count": 247,
   "metadata": {},
   "outputs": [],
   "source": [
    "model_logreg = LogisticRegression(fit_intercept=True, solver='liblinear')"
   ]
  },
  {
   "cell_type": "code",
   "execution_count": 252,
   "metadata": {},
   "outputs": [],
   "source": [
    "train_features_color = np.array([f[1].flatten() for f in train_features])"
   ]
  },
  {
   "cell_type": "code",
   "execution_count": 253,
   "metadata": {},
   "outputs": [
    {
     "data": {
      "text/plain": [
       "array([ 1.0000000e+00, -9.7831738e-01,  9.1420978e-01,  9.7831738e-01,\n",
       "       -1.0000000e+00,  9.7831738e-01,  9.1420978e-01, -9.7831738e-01,\n",
       "        1.0000000e+00, -5.5557024e-01,  3.7131721e-01, -1.7096189e-01,\n",
       "       -7.1573085e-01,  5.5557024e-01, -3.7131721e-01, -8.4485358e-01,\n",
       "        7.1573085e-01, -5.5557024e-01, -3.8268343e-01,  5.6573182e-01,\n",
       "       -7.2424710e-01, -1.8303989e-01,  3.8268343e-01, -5.6573182e-01,\n",
       "        2.4541229e-02,  1.8303989e-01, -3.8268343e-01,  0.0000000e+00,\n",
       "       -2.0711137e-01,  4.0524131e-01, -2.0711137e-01, -1.2246469e-16,\n",
       "        2.0711137e-01, -4.0524131e-01,  2.0711137e-01,  0.0000000e+00,\n",
       "       -8.3146960e-01,  9.2850608e-01, -9.8527765e-01, -6.9837624e-01,\n",
       "        8.3146960e-01, -9.2850608e-01, -5.3499764e-01,  6.9837624e-01,\n",
       "       -8.3146960e-01,  9.2387950e-01, -8.2458931e-01,  6.8954057e-01,\n",
       "        9.8310548e-01, -9.2387950e-01,  8.2458931e-01,  9.9969882e-01,\n",
       "       -9.8310548e-01,  9.2387950e-01,  1.0000000e+00, -9.5694035e-01,\n",
       "        8.3146960e-01,  6.2485951e-01, -8.2458931e-01,  9.5330602e-01,\n",
       "       -2.1910124e-01, -7.3564567e-02,  3.5989505e-01,  9.5694035e-01,\n",
       "       -1.0000000e+00,  9.5694035e-01,  3.7131721e-01, -6.2485951e-01,\n",
       "        8.2458931e-01, -4.9289820e-01,  2.1910124e-01,  7.3564567e-02,\n",
       "        8.3146960e-01, -9.5694035e-01,  1.0000000e+00,  8.5797310e-02,\n",
       "       -3.7131721e-01,  6.2485951e-01, -7.2424710e-01,  4.9289820e-01,\n",
       "       -2.1910124e-01,  0.0000000e+00, -2.9028466e-01,  5.5557024e-01,\n",
       "       -7.8073722e-01,  5.6573182e-01, -3.0200595e-01, -9.7570211e-01,\n",
       "        9.9729043e-01, -9.3299282e-01, -2.9028466e-01, -1.2246469e-16,\n",
       "        2.9028466e-01, -9.2850608e-01,  7.8073722e-01, -5.6573182e-01,\n",
       "       -8.7008697e-01,  9.7570211e-01, -9.9729043e-01, -5.5557024e-01,\n",
       "        2.9028466e-01,  0.0000000e+00, -9.9631262e-01,  9.2850608e-01,\n",
       "       -7.8073722e-01, -6.8954057e-01,  8.7008697e-01, -9.7570211e-01,\n",
       "        1.0000000e+00, -9.9247956e-01,  9.7003126e-01,  9.9247956e-01,\n",
       "       -1.0000000e+00,  9.9247956e-01,  9.7003126e-01, -9.9247956e-01,\n",
       "        1.0000000e+00,  8.7008697e-01, -9.2387950e-01,  9.6377605e-01,\n",
       "        8.0320752e-01, -8.7008697e-01,  9.2387950e-01,  7.2424710e-01,\n",
       "       -8.0320752e-01,  8.7008697e-01,  5.1410276e-01, -6.1523157e-01,\n",
       "        7.0710677e-01,  4.0524131e-01, -5.1410276e-01,  6.1523157e-01,\n",
       "        2.9028466e-01, -4.0524131e-01,  5.1410276e-01,  0.0000000e+00,\n",
       "       -1.2241068e-01,  2.4298018e-01, -1.2241068e-01, -1.2246469e-16,\n",
       "        1.2241068e-01, -2.4298018e-01,  1.2241068e-01,  0.0000000e+00,\n",
       "       -4.9289820e-01,  3.8268343e-01, -2.6671275e-01, -5.9569931e-01,\n",
       "        4.9289820e-01, -3.8268343e-01, -6.8954057e-01,  5.9569931e-01,\n",
       "       -4.9289820e-01, -8.5772860e-01,  7.8834641e-01, -7.0710677e-01,\n",
       "       -9.1420978e-01,  8.5772860e-01, -7.8834641e-01, -9.5694035e-01,\n",
       "        9.1420978e-01, -8.5772860e-01], dtype=float32)"
      ]
     },
     "execution_count": 253,
     "metadata": {},
     "output_type": "execute_result"
    }
   ],
   "source": [
    "train_features_color[0]"
   ]
  },
  {
   "cell_type": "code",
   "execution_count": 275,
   "metadata": {},
   "outputs": [],
   "source": [
    "clf = model_logreg.fit(train_features_color, train_targets)"
   ]
  },
  {
   "cell_type": "code",
   "execution_count": 290,
   "metadata": {},
   "outputs": [],
   "source": [
    "dev_features = feature_handler.test_features()\n",
    "dev_targets = feature_handler.test_targets()"
   ]
  },
  {
   "cell_type": "code",
   "execution_count": 291,
   "metadata": {},
   "outputs": [],
   "source": [
    "dev_features_color = np.array([f[1].flatten() for f in dev_features])"
   ]
  },
  {
   "cell_type": "code",
   "execution_count": 292,
   "metadata": {},
   "outputs": [],
   "source": [
    "predictions = clf.predict(dev_features_color)"
   ]
  },
  {
   "cell_type": "code",
   "execution_count": 293,
   "metadata": {},
   "outputs": [
    {
     "name": "stderr",
     "output_type": "stream",
     "text": [
      "/Users/benjaminnewman/.local/lib/python3.6/site-packages/sklearn/metrics/classification.py:1145: UndefinedMetricWarning: F-score is ill-defined and being set to 0.0 in labels with no true samples.\n",
      "  'recall', 'true', average, warn_for)\n"
     ]
    },
    {
     "data": {
      "text/plain": [
       "0.4747779453661806"
      ]
     },
     "execution_count": 293,
     "metadata": {},
     "output_type": "execute_result"
    }
   ],
   "source": [
    "metrics.f1_score(predictions, dev_targets, average=\"macro\")"
   ]
  },
  {
   "cell_type": "code",
   "execution_count": 295,
   "metadata": {},
   "outputs": [
    {
     "data": {
      "text/plain": [
       "15670"
      ]
     },
     "execution_count": 295,
     "metadata": {},
     "output_type": "execute_result"
    }
   ],
   "source": [
    "len(dev_targets)"
   ]
  },
  {
   "cell_type": "code",
   "execution_count": 296,
   "metadata": {},
   "outputs": [
    {
     "data": {
      "text/plain": [
       "15670"
      ]
     },
     "execution_count": 296,
     "metadata": {},
     "output_type": "execute_result"
    }
   ],
   "source": [
    "len(predictions)"
   ]
  },
  {
   "cell_type": "code",
   "execution_count": 297,
   "metadata": {},
   "outputs": [
    {
     "name": "stderr",
     "output_type": "stream",
     "text": [
      "/Users/benjaminnewman/.local/lib/python3.6/site-packages/scipy/stats/stats.py:3038: RuntimeWarning: invalid value encountered in double_scalars\n",
      "  r = r_num / r_den\n"
     ]
    },
    {
     "data": {
      "text/plain": [
       "((nan, 1.0), gameid\n",
       " 0022-7    0.938776\n",
       " 0069-8    0.960000\n",
       " 0070-1    0.780000\n",
       " 0106-1    0.880000\n",
       " 0109-c    0.960000\n",
       " 0137-f    0.920000\n",
       " 0197-6    0.920000\n",
       " 0217-e    1.000000\n",
       " 0219-7    0.860000\n",
       " 0239-7    0.980000\n",
       " 0255-b    0.920000\n",
       " 0265-e    0.840000\n",
       " 0283-7    0.900000\n",
       " 0315-b    0.840000\n",
       " 0322-8    0.940000\n",
       " 0375-6    0.980000\n",
       " 0389-5    0.897959\n",
       " 0392-6    0.920000\n",
       " 0398-f    0.820000\n",
       " 0415-a    0.860000\n",
       " 0433-7    1.000000\n",
       " 0479-6    0.860000\n",
       " 0519-9    0.880000\n",
       " 0529-2    0.940000\n",
       " 0580-7    0.920000\n",
       " 0699-d    0.920000\n",
       " 0713-f    0.960000\n",
       " 0716-6    0.940000\n",
       " 0736-7    0.940000\n",
       " 0762-d    0.980000\n",
       "             ...   \n",
       " 8767-6    0.900000\n",
       " 8792-7    0.880000\n",
       " 8794-6    0.940000\n",
       " 8814-1    0.840000\n",
       " 8891-9    0.920000\n",
       " 8958-0    0.860000\n",
       " 8970-0    0.900000\n",
       " 8972-7    0.860000\n",
       " 8978-9    0.920000\n",
       " 9038-b    0.880000\n",
       " 9086-a    0.900000\n",
       " 9260-e    0.880000\n",
       " 9272-8    0.840000\n",
       " 9288-a    0.900000\n",
       " 9307-f    0.958333\n",
       " 9444-5    0.900000\n",
       " 9487-1    0.980000\n",
       " 9601-f    0.940000\n",
       " 9629-5    0.960000\n",
       " 9645-7    1.000000\n",
       " 9709-7    0.940000\n",
       " 9714-3    0.836735\n",
       " 9719-9    0.960000\n",
       " 9776-7    0.960000\n",
       " 9841-e    0.840000\n",
       " 9850-2    0.940000\n",
       " 9922-e    0.820000\n",
       " 9946-1    0.900000\n",
       " 9947-c    0.918367\n",
       " 9973-5    0.940000\n",
       " Name: numOutcome, Length: 317, dtype: float64, gameid\n",
       " 0022-7    1\n",
       " 0069-8    1\n",
       " 0070-1    1\n",
       " 0106-1    1\n",
       " 0109-c    1\n",
       " 0137-f    1\n",
       " 0197-6    1\n",
       " 0217-e    1\n",
       " 0219-7    1\n",
       " 0239-7    1\n",
       " 0255-b    1\n",
       " 0265-e    1\n",
       " 0283-7    1\n",
       " 0315-b    1\n",
       " 0322-8    1\n",
       " 0375-6    1\n",
       " 0389-5    1\n",
       " 0392-6    1\n",
       " 0398-f    1\n",
       " 0415-a    1\n",
       " 0433-7    1\n",
       " 0479-6    1\n",
       " 0519-9    1\n",
       " 0529-2    1\n",
       " 0580-7    1\n",
       " 0699-d    1\n",
       " 0713-f    1\n",
       " 0716-6    1\n",
       " 0736-7    1\n",
       " 0762-d    1\n",
       "          ..\n",
       " 8767-6    1\n",
       " 8792-7    1\n",
       " 8794-6    1\n",
       " 8814-1    1\n",
       " 8891-9    1\n",
       " 8958-0    1\n",
       " 8970-0    1\n",
       " 8972-7    1\n",
       " 8978-9    1\n",
       " 9038-b    1\n",
       " 9086-a    1\n",
       " 9260-e    1\n",
       " 9272-8    1\n",
       " 9288-a    1\n",
       " 9307-f    1\n",
       " 9444-5    1\n",
       " 9487-1    1\n",
       " 9601-f    1\n",
       " 9629-5    1\n",
       " 9645-7    1\n",
       " 9709-7    1\n",
       " 9714-3    1\n",
       " 9719-9    1\n",
       " 9776-7    1\n",
       " 9841-e    1\n",
       " 9850-2    1\n",
       " 9922-e    1\n",
       " 9946-1    1\n",
       " 9947-c    1\n",
       " 9973-5    1\n",
       " Name: model_scores, Length: 317, dtype: int64)"
      ]
     },
     "execution_count": 297,
     "metadata": {},
     "output_type": "execute_result"
    }
   ],
   "source": [
    "score_model(dev_data, predictions)"
   ]
  },
  {
   "cell_type": "code",
   "execution_count": 264,
   "metadata": {},
   "outputs": [],
   "source": [
    "feature_handler_balanced = FeatureHandler(balanced_train, dev_data, caption_phi, color_phi, target_fn=success_target)\n",
    "train_features_bal = feature_handler_balanced.train_features()\n",
    "train_targets_bal = feature_handler_balanced.train_targets()\n",
    "\n",
    "\n"
   ]
  },
  {
   "cell_type": "code",
   "execution_count": 265,
   "metadata": {},
   "outputs": [],
   "source": [
    "train_features_color_bal = np.array([f[1].flatten() for f in train_features_bal])"
   ]
  },
  {
   "cell_type": "code",
   "execution_count": 300,
   "metadata": {},
   "outputs": [],
   "source": [
    "clf_bal = model_logreg.fit(train_features_color_bal, train_targets_bal)"
   ]
  },
  {
   "cell_type": "code",
   "execution_count": 301,
   "metadata": {},
   "outputs": [],
   "source": [
    "predictions_bal = clf_bal.predict(dev_features_color)"
   ]
  },
  {
   "cell_type": "code",
   "execution_count": 302,
   "metadata": {},
   "outputs": [
    {
     "data": {
      "text/plain": [
       "0.41243824275666946"
      ]
     },
     "execution_count": 302,
     "metadata": {},
     "output_type": "execute_result"
    }
   ],
   "source": [
    "metrics.f1_score(predictions_bal, dev_targets, average=\"macro\")"
   ]
  },
  {
   "cell_type": "code",
   "execution_count": 282,
   "metadata": {},
   "outputs": [],
   "source": [
    "output_to_score_lr = lambda model_output, targets: model_output\n",
    "output_to_score_dummy = lambda model_output, targets: targets"
   ]
  },
  {
   "cell_type": "code",
   "execution_count": 303,
   "metadata": {},
   "outputs": [
    {
     "data": {
      "text/plain": [
       "((-0.011888237578845872, 0.8330157549367396), gameid\n",
       " 0022-7    0.938776\n",
       " 0069-8    0.960000\n",
       " 0070-1    0.780000\n",
       " 0106-1    0.880000\n",
       " 0109-c    0.960000\n",
       " 0137-f    0.920000\n",
       " 0197-6    0.920000\n",
       " 0217-e    1.000000\n",
       " 0219-7    0.860000\n",
       " 0239-7    0.980000\n",
       " 0255-b    0.920000\n",
       " 0265-e    0.840000\n",
       " 0283-7    0.900000\n",
       " 0315-b    0.840000\n",
       " 0322-8    0.940000\n",
       " 0375-6    0.980000\n",
       " 0389-5    0.897959\n",
       " 0392-6    0.920000\n",
       " 0398-f    0.820000\n",
       " 0415-a    0.860000\n",
       " 0433-7    1.000000\n",
       " 0479-6    0.860000\n",
       " 0519-9    0.880000\n",
       " 0529-2    0.940000\n",
       " 0580-7    0.920000\n",
       " 0699-d    0.920000\n",
       " 0713-f    0.960000\n",
       " 0716-6    0.940000\n",
       " 0736-7    0.940000\n",
       " 0762-d    0.980000\n",
       "             ...   \n",
       " 8767-6    0.900000\n",
       " 8792-7    0.880000\n",
       " 8794-6    0.940000\n",
       " 8814-1    0.840000\n",
       " 8891-9    0.920000\n",
       " 8958-0    0.860000\n",
       " 8970-0    0.900000\n",
       " 8972-7    0.860000\n",
       " 8978-9    0.920000\n",
       " 9038-b    0.880000\n",
       " 9086-a    0.900000\n",
       " 9260-e    0.880000\n",
       " 9272-8    0.840000\n",
       " 9288-a    0.900000\n",
       " 9307-f    0.958333\n",
       " 9444-5    0.900000\n",
       " 9487-1    0.980000\n",
       " 9601-f    0.940000\n",
       " 9629-5    0.960000\n",
       " 9645-7    1.000000\n",
       " 9709-7    0.940000\n",
       " 9714-3    0.836735\n",
       " 9719-9    0.960000\n",
       " 9776-7    0.960000\n",
       " 9841-e    0.840000\n",
       " 9850-2    0.940000\n",
       " 9922-e    0.820000\n",
       " 9946-1    0.900000\n",
       " 9947-c    0.918367\n",
       " 9973-5    0.940000\n",
       " Name: numOutcome, Length: 317, dtype: float64, gameid\n",
       " 0022-7    0.530612\n",
       " 0069-8    0.620000\n",
       " 0070-1    0.420000\n",
       " 0106-1    0.520000\n",
       " 0109-c    0.420000\n",
       " 0137-f    0.540000\n",
       " 0197-6    0.600000\n",
       " 0217-e    0.520000\n",
       " 0219-7    0.560000\n",
       " 0239-7    0.440000\n",
       " 0255-b    0.500000\n",
       " 0265-e    0.440000\n",
       " 0283-7    0.480000\n",
       " 0315-b    0.600000\n",
       " 0322-8    0.500000\n",
       " 0375-6    0.420000\n",
       " 0389-5    0.448980\n",
       " 0392-6    0.360000\n",
       " 0398-f    0.420000\n",
       " 0415-a    0.420000\n",
       " 0433-7    0.285714\n",
       " 0479-6    0.620000\n",
       " 0519-9    0.440000\n",
       " 0529-2    0.460000\n",
       " 0580-7    0.520000\n",
       " 0699-d    0.420000\n",
       " 0713-f    0.480000\n",
       " 0716-6    0.440000\n",
       " 0736-7    0.500000\n",
       " 0762-d    0.420000\n",
       "             ...   \n",
       " 8767-6    0.400000\n",
       " 8792-7    0.400000\n",
       " 8794-6    0.360000\n",
       " 8814-1    0.440000\n",
       " 8891-9    0.480000\n",
       " 8958-0    0.560000\n",
       " 8970-0    0.520000\n",
       " 8972-7    0.500000\n",
       " 8978-9    0.480000\n",
       " 9038-b    0.360000\n",
       " 9086-a    0.440000\n",
       " 9260-e    0.640000\n",
       " 9272-8    0.520000\n",
       " 9288-a    0.540000\n",
       " 9307-f    0.583333\n",
       " 9444-5    0.620000\n",
       " 9487-1    0.500000\n",
       " 9601-f    0.400000\n",
       " 9629-5    0.640000\n",
       " 9645-7    0.460000\n",
       " 9709-7    0.320000\n",
       " 9714-3    0.448980\n",
       " 9719-9    0.440000\n",
       " 9776-7    0.520000\n",
       " 9841-e    0.380000\n",
       " 9850-2    0.400000\n",
       " 9922-e    0.400000\n",
       " 9946-1    0.400000\n",
       " 9947-c    0.530612\n",
       " 9973-5    0.420000\n",
       " Name: model_scores, Length: 317, dtype: float64)"
      ]
     },
     "execution_count": 303,
     "metadata": {},
     "output_type": "execute_result"
    }
   ],
   "source": [
    "score_model(dev_data, predictions_bal)"
   ]
  },
  {
   "cell_type": "code",
   "execution_count": null,
   "metadata": {},
   "outputs": [],
   "source": [
    "# e"
   ]
  },
  {
   "cell_type": "code",
   "execution_count": null,
   "metadata": {},
   "outputs": [],
   "source": [
    "def bow_phi(caption_indices):\n",
    "    features = Counter()\n",
    "    for word_idx in caption_indices:\n",
    "        features[word_idx] += 1\n",
    "    return features\n",
    "        "
   ]
  }
 ],
 "metadata": {
  "kernelspec": {
   "display_name": "Python 3",
   "language": "python",
   "name": "python3"
  },
  "language_info": {
   "codemirror_mode": {
    "name": "ipython",
    "version": 3
   },
   "file_extension": ".py",
   "mimetype": "text/x-python",
   "name": "python",
   "nbconvert_exporter": "python",
   "pygments_lexer": "ipython3",
   "version": "3.6.8"
  }
 },
 "nbformat": 4,
 "nbformat_minor": 2
}
