{
 "cells": [
  {
   "cell_type": "code",
   "execution_count": null,
   "metadata": {},
   "outputs": [],
   "source": [
    "# so we can use packages from parent directory\n",
    "import sys\n",
    "sys.path.append(\"..\")"
   ]
  },
  {
   "cell_type": "code",
   "execution_count": 9,
   "metadata": {},
   "outputs": [],
   "source": [
    "from collections import Counter"
   ]
  },
  {
   "cell_type": "code",
   "execution_count": 7,
   "metadata": {},
   "outputs": [],
   "source": [
    "import importlib"
   ]
  },
  {
   "cell_type": "code",
   "execution_count": 9,
   "metadata": {},
   "outputs": [],
   "source": [
    "import monroe_data"
   ]
  },
  {
   "cell_type": "code",
   "execution_count": 45,
   "metadata": {},
   "outputs": [
    {
     "data": {
      "text/plain": [
       "<module 'Vocab' from '/Users/benjaminnewman/Documents/Stanford/Freshman_2017-2018/WINTER/LINGUIST130A/linguist-130a-final-proj/Vocab.py'>"
      ]
     },
     "execution_count": 45,
     "metadata": {},
     "output_type": "execute_result"
    }
   ],
   "source": [
    "importlib.reload(Vocab)"
   ]
  },
  {
   "cell_type": "code",
   "execution_count": 28,
   "metadata": {},
   "outputs": [],
   "source": [
    "from monroe_data import MonroeData, MonroeDataEntry, Color # last two for reading pkl file\n",
    "import Vocab"
   ]
  },
  {
   "cell_type": "code",
   "execution_count": 6,
   "metadata": {},
   "outputs": [],
   "source": [
    "monroe_data = MonroeData(\"filteredCorpus.csv\", entries_filename=\"monroe_speaker_data.pkl\")"
   ]
  },
  {
   "cell_type": "code",
   "execution_count": 8,
   "metadata": {},
   "outputs": [
    {
     "name": "stdout",
     "output_type": "stream",
     "text": [
      "300) Game: 7555-2 Round: 3\n",
      "purple\n"
     ]
    },
    {
     "data": {
      "image/png": "[encoded data removed]",
      "text/plain": [
       "<Figure size 432x288 with 1 Axes>"
      ]
     },
     "metadata": {},
     "output_type": "display_data"
    }
   ],
   "source": [
    "monroe_data.display_game(300)"
   ]
  },
  {
   "cell_type": "code",
   "execution_count": 50,
   "metadata": {},
   "outputs": [],
   "source": [
    "# first, deal with the vocab\n",
    "\n",
    "class Vocab:\n",
    "    \n",
    "    def __init__(self):\n",
    "        self.word2idx = {}\n",
    "        self.idx2word = {}\n",
    "        self.word_count = Counter()\n",
    "        self.size = 0\n",
    "        \n",
    "    def add_sentence(self, sentence):\n",
    "        for word in sentence:\n",
    "            word = word.lower()\n",
    "            if not word in self.word2idx:\n",
    "                self.word2idx[word] = self.size\n",
    "                self.idx2word[self.size] = word\n",
    "                self.size += 1\n",
    "            self.word_count[word] += 1\n",
    "        \n",
    "            \n",
    "    def __len__(self):\n",
    "        return self.size"
   ]
  },
  {
   "cell_type": "code",
   "execution_count": 40,
   "metadata": {},
   "outputs": [],
   "source": [
    "word_counter = Counter()\n",
    "for de in monroe_data:\n",
    "    for word in de.tokens:\n",
    "        word_counter[word.lower()] += 1"
   ]
  },
  {
   "cell_type": "code",
   "execution_count": 225,
   "metadata": {},
   "outputs": [
    {
     "data": {
      "text/plain": [
       "False"
      ]
     },
     "execution_count": 225,
     "metadata": {},
     "output_type": "execute_result"
    }
   ],
   "source": [
    "word_counter == vocab.word_count"
   ]
  },
  {
   "cell_type": "code",
   "execution_count": 228,
   "metadata": {},
   "outputs": [],
   "source": [
    "def replace_unks(sentence, word_counts):\n",
    "    replace_sentence = []\n",
    "    for word in sentence:\n",
    "        word = word.lower()\n",
    "        if word_counts[word] == 1:\n",
    "            replace_sentence.append('<unk>')\n",
    "        else:\n",
    "            replace_sentence.append(word)\n",
    "    replace_sentence.append('<eos>')\n",
    "    return replace_sentence"
   ]
  },
  {
   "cell_type": "code",
   "execution_count": 229,
   "metadata": {},
   "outputs": [],
   "source": [
    "processed_captions = []\n",
    "for de in monroe_data:\n",
    "    processed_captions.append(replace_unks(de.tokens, word_counter))"
   ]
  },
  {
   "cell_type": "code",
   "execution_count": 231,
   "metadata": {},
   "outputs": [],
   "source": [
    "vocab = Vocab()\n",
    "for caption in processed_captions:\n",
    "    vocab.add_sentence(caption)"
   ]
  },
  {
   "cell_type": "markdown",
   "metadata": {},
   "source": [
    "Quick notes on color vocab:\n",
    "1. it's very small. like super small. We are trying to learn a relatively small thing though so maybe that's ok\n",
    "2. slashes and dashes got included when maybe they shouldn't have. Breaking them up might ruin some real compositionality though\n",
    "3. there are a good number of typos\n",
    "4. More than half of the words appear once--including unks drastically limits the size of the vocab (dropping words that appear once means we have 123250/124962 = 98% of the dataset in tact. They do this in the paper, so we should probably follow. This does mean that we are going to be missing out on some interesting colors (like \"pistachio\") but will probably get some more meaningful relationships"
   ]
  },
  {
   "cell_type": "code",
   "execution_count": 61,
   "metadata": {},
   "outputs": [
    {
     "data": {
      "text/plain": [
       "'1.0.0'"
      ]
     },
     "execution_count": 61,
     "metadata": {},
     "output_type": "execute_result"
    }
   ],
   "source": [
    "torch.__version__"
   ]
  },
  {
   "cell_type": "code",
   "execution_count": 1,
   "metadata": {},
   "outputs": [],
   "source": [
    "import torch\n",
    "import torch.nn as nn\n",
    "import numpy as np\n"
   ]
  },
  {
   "cell_type": "code",
   "execution_count": 3,
   "metadata": {},
   "outputs": [],
   "source": [
    "seed = 100\n",
    "torch.manual_seed(seed)\n",
    "np.random.seed(seed)"
   ]
  },
  {
   "cell_type": "code",
   "execution_count": 29,
   "metadata": {},
   "outputs": [
    {
     "name": "stdout",
     "output_type": "stream",
     "text": [
      "CPU times: user 194 ms, sys: 25.4 ms, total: 220 ms\n",
      "Wall time: 223 ms\n"
     ]
    }
   ],
   "source": [
    "%%time\n",
    "#import training data: don't do any filtering because it's already filtered\n",
    "monroe_data_train = MonroeData(\"train_corpus.csv\", single_speaker=False)\n",
    "monroe_data_dev = MonroeData(\"dev_corpus.csv\", single_speaker=False)"
   ]
  },
  {
   "cell_type": "code",
   "execution_count": 30,
   "metadata": {},
   "outputs": [
    {
     "name": "stdout",
     "output_type": "stream",
     "text": [
      "CPU times: user 1min 55s, sys: 789 ms, total: 1min 56s\n",
      "Wall time: 1min 57s\n"
     ]
    }
   ],
   "source": [
    "%%time\n",
    "# create data entries\n",
    "for _ in monroe_data_train.read_data():\n",
    "    pass\n",
    "for _ in monroe_data_dev.read_data():\n",
    "    pass"
   ]
  },
  {
   "cell_type": "code",
   "execution_count": 32,
   "metadata": {},
   "outputs": [],
   "source": [
    "# monroe_data_train.save_entries(\"train_entries.pkl\")\n",
    "# monroe_data_dev.save_entries(\"dev_entries.pkl\")"
   ]
  },
  {
   "cell_type": "code",
   "execution_count": 46,
   "metadata": {},
   "outputs": [],
   "source": [
    "# create vocab with training data\n",
    "vocab, raw_wc, processed_captions = Vocab.init_vocab([ent.tokens for ent in monroe_data_train.entries])"
   ]
  },
  {
   "cell_type": "code",
   "execution_count": 47,
   "metadata": {
    "collapsed": true
   },
   "outputs": [
    {
     "data": {
      "text/plain": [
       "[['purple', '<eos>'],\n",
       " ['lime', '<eos>'],\n",
       " ['mud', 'brown', '<eos>'],\n",
       " ['mud', 'brown', '<eos>'],\n",
       " ['grey', '<eos>'],\n",
       " ['purple', '<eos>'],\n",
       " ['blue', '<eos>'],\n",
       " ['<unk>',\n",
       "  '.',\n",
       "  'i',\n",
       "  'think',\n",
       "  'they',\n",
       "  \"'re\",\n",
       "  'both',\n",
       "  'a',\n",
       "  'bit',\n",
       "  'neon',\n",
       "  'the',\n",
       "  'greyish',\n",
       "  'one',\n",
       "  'that',\n",
       "  \"'s\",\n",
       "  'not',\n",
       "  'the',\n",
       "  'browner',\n",
       "  'one',\n",
       "  '<eos>'],\n",
       " ['brown', '<eos>'],\n",
       " ['greyest', 'one', '<eos>']]"
      ]
     },
     "execution_count": 47,
     "metadata": {},
     "output_type": "execute_result"
    }
   ],
   "source": [
    "processed_captions[:10]"
   ]
  },
  {
   "cell_type": "code",
   "execution_count": 74,
   "metadata": {},
   "outputs": [],
   "source": [
    "processed_captions_dev = []\n",
    "for ent in monroe_data_dev.entries:\n",
    "    processed_captions_dev.append(vocab.replace_unks(ent.tokens, raw_wc))"
   ]
  },
  {
   "cell_type": "code",
   "execution_count": 75,
   "metadata": {
    "collapsed": true
   },
   "outputs": [
    {
     "data": {
      "text/plain": [
       "[['darkest', 'shade', 'of', 'green', ',', 'forest', 'green', '<eos>'],\n",
       " ['one',\n",
       "  'of',\n",
       "  'the',\n",
       "  'brown',\n",
       "  'ones',\n",
       "  ',',\n",
       "  'the',\n",
       "  'lighter',\n",
       "  'shaded',\n",
       "  'one',\n",
       "  '<eos>'],\n",
       " ['camo', 'green', '<eos>'],\n",
       " ['brown', '<eos>'],\n",
       " ['green', '<eos>']]"
      ]
     },
     "execution_count": 75,
     "metadata": {},
     "output_type": "execute_result"
    }
   ],
   "source": [
    "processed_captions_dev[:5]"
   ]
  },
  {
   "cell_type": "code",
   "execution_count": 49,
   "metadata": {},
   "outputs": [],
   "source": [
    "# data preprocessing\n",
    "def sentence_to_indexes(sentence, vocab):\n",
    "    return [vocab.get_idx_from_word(word) for word in sentence]\n",
    "\n",
    "def sentence_to_tensor(sentence, vocab):\n",
    "    # sentence already marked with <eos>\n",
    "    indexes = sentence_to_indexes(sentence, vocab)\n",
    "    return torch.tensor(indexes, dtype=torch.long).view(-1, 1)\n",
    "\n",
    "\n",
    "# colors too\n",
    "def color_phi_id(color_list, space):\n",
    "    \"\"\"\n",
    "    Function for turning a list of colors in the given space\n",
    "    (with normalization marked by \"_norm\") into a feature function.\n",
    "    \n",
    "    This is just the identity feature function, so it's kind of boring,\n",
    "    but we can imagine doing more complext things too (like fourier\n",
    "    transform). We pass space as well in case you want to do different\n",
    "    operations based on the space or only have a feature function work\n",
    "    for HSL for example\n",
    "    \n",
    "    ex:\n",
    "    color_list = [256, 0, 0] space = 'rgb'\n",
    "    color_list = [1, 0, 0] space = 'rgb_norm'\n",
    "    \"\"\"\n",
    "    return color_list\n",
    "\n",
    "\n",
    "def colors_to_color_lists(colors, space, normalized):\n",
    "    # non-standard, but use the space as the variable name\n",
    "    # to access the color attribute directly\n",
    "    class_var_name = space\n",
    "    if normalized:\n",
    "        class_var_name = \"{}_norm\".format(class_var_name)\n",
    "    return [color.__dict__[class_var_name] for color in colors], class_var_name\n",
    "\n",
    "def colors_to_tensor(colors, space=\"rgb\", normalized=True, phi=color_phi_id):\n",
    "    \"\"\"\n",
    "    Convert colors to tensors where the vectors are the given by applying\n",
    "    the feature function phi -> phi(colors)\n",
    "    \n",
    "    returns all colors as |phi| x |phi| matrix\n",
    "    \"\"\"\n",
    "    color_lists, space = colors_to_color_lists(colors, space, normalized) \n",
    "    color_lists = [phi(color_list, space) for color_list in color_lists]\n",
    "    target = color_lists[0] # target is always first color\n",
    "    color_tensor = torch.tensor(color_lists, dtype=torch.float) # to get column vectors\n",
    "    return color_tensor\n",
    "    \n",
    "    "
   ]
  },
  {
   "cell_type": "code",
   "execution_count": 83,
   "metadata": {},
   "outputs": [
    {
     "data": {
      "text/plain": [
       "[hsl: [249, 25, 50], rgb [106, 96, 160],\n",
       " hsl: [129, 66, 50], rgb [44, 212, 69],\n",
       " hsl: [54, 53, 50], rgb [196, 182, 60]]"
      ]
     },
     "execution_count": 83,
     "metadata": {},
     "output_type": "execute_result"
    }
   ],
   "source": [
    "monroe_data_train.entries[0].colors\n"
   ]
  },
  {
   "cell_type": "code",
   "execution_count": 85,
   "metadata": {},
   "outputs": [
    {
     "data": {
      "text/plain": [
       "tensor([106.,  96., 160.])"
      ]
     },
     "execution_count": 85,
     "metadata": {},
     "output_type": "execute_result"
    }
   ],
   "source": [
    "colors_to_tensor(monroe_data_train.entries[0].colors, normalized=False)[0]"
   ]
  },
  {
   "cell_type": "code",
   "execution_count": 211,
   "metadata": {},
   "outputs": [],
   "source": [
    "# ok, now let's define the model\n",
    "\n",
    "class CaptionEncoder(nn.Module):\n",
    "    \n",
    "    def __init__(self, embed_dim, hidden_dim, vocab_size, color_in_dim, color_dim):\n",
    "        \"\"\"\n",
    "        embed_dim = hidden_dim = 100\n",
    "        \n",
    "        All the options can be found here: https://github.com/futurulus/colors-in-context/blob/master/models/l0.config.json\n",
    "        \"\"\"\n",
    "        super(CaptionEncoder, self).__init__()\n",
    "        self.embed = nn.Embedding(vocab_size, embed_dim)\n",
    "        \n",
    "        # should initialize bias to 0: https://github.com/futurulus/colors-in-context/blob/2e7b830668cd039830154e7e8f211c6d4415d30f/listener.py#L383\n",
    "        # he also DOESN'T use dropout for the base listener\n",
    "        # also non-linearity is \"leaky_rectify\"\n",
    "        # also LSTM is bidirectional (https://github.com/futurulus/colors-in-context/blob/2e7b830668cd039830154e7e8f211c6d4415d30f/listener.py#L713)\n",
    "        # also, looks like tokenizer is the \"ending\" tokenizer, so it detaches endings from the vocab items\n",
    "        self.lstm = nn.LSTM(embed_dim, hidden_dim)\n",
    "        #self.gru = nn.GRU(embed_dim, hidden_dim)\n",
    "        \n",
    "        #self.color_embed = nn.Linear(color_in_dim, color_dim)\n",
    "        self.mean = nn.Linear(hidden_dim, color_dim)\n",
    "        # covariance matrix is square, so we initialize it with color_dim^2 dimensions\n",
    "        # we also initialize the bias to be the identity\n",
    "        covar_dim = color_dim*color_dim\n",
    "        self.covariance = nn.Linear(hidden_dim, covar_dim)\n",
    "        self.covariance.bias.data = torch.tensor(np.eye(color_dim), dtype=torch.float).flatten()\n",
    "        self.logsoftmax = nn.LogSoftmax(dim=0)\n",
    "\n",
    "        self.color_dim = color_dim\n",
    "        self.hidden_dim = hidden_dim\n",
    "        \n",
    "    def forward(self, caption, states, colors):\n",
    "        embeddings = self.embed(caption)\n",
    "        output, hn = self.gru(embeddings, states)\n",
    "        \n",
    "        # we only care about last output\n",
    "        output = output[-1].view(1, -1)\n",
    "        \n",
    "        output_mean = self.mean(output)[0]\n",
    "        output_covariance = self.covariance(output)[0]\n",
    "        covar_matrix = output_covariance.reshape(-1, self.color_dim) # make it a square matrix again\n",
    "        \n",
    "        \n",
    "#         print(output_mean, output_mean.type())\n",
    "#         print(output_covariance, output_mean.type())\n",
    "#         print(colors.type())\n",
    "        \n",
    "        # reshape covariance vector to covariance matrix\n",
    "        # upper traingular + lower triangular - diagonal\n",
    "#         covar_matrix = torch.zeros(self.color_dim, self.color_dim)\n",
    "#         unit_matrix = torch.ones(self.color_dim, self.color_dim)\n",
    "#         id_matrix = torch.eye(self.color_dim)\n",
    "#         covar_matrix[torch.triu(unit_matrix).transpose(0,1) == 1] += output_covariance # lower triangular\n",
    "#         covar_matrix_diag = torch.diag(covar_matrix)\n",
    "#         covar_matrix[torch.triu(unit_matrix) == 1] += output_covariance # upper triangular\n",
    "#         covar_matrix -= id_matrix * covar_matrix_diag # diagonal\n",
    "\n",
    "        # now compute color embeddings:\n",
    "        #colors = self.color_embed(colors)\n",
    "        \n",
    "        # now compute score: -(f-mu)^T Sigma (f-mu)\n",
    "        output_mean = output_mean.repeat(3,1)\n",
    "        diff_from_mean = colors - output_mean\n",
    "        scores = torch.matmul(diff_from_mean, covar_matrix)\n",
    "        scores = torch.matmul(scores, diff_from_mean.transpose(0,1))\n",
    "        scores = -torch.diag(scores)\n",
    "        distribution = self.logsoftmax(scores)\n",
    "        return distribution, output_mean, covar_matrix\n",
    "    \n",
    "    def init_hidden_and_context(self):\n",
    "        return torch.zeros(1, 1, self.hidden_dim)\n",
    "        #return (torch.zeros(1, 1, self.hidden_dim),\n",
    "        #        torch.zeros(1, 1, self.hidden_dim))\n",
    "        \n",
    "        \n",
    "    \n",
    "        "
   ]
  },
  {
   "cell_type": "code",
   "execution_count": 242,
   "metadata": {},
   "outputs": [],
   "source": [
    "embed_dim = 100\n",
    "hidden_dim = 100\n",
    "color_dim = 3\n",
    "color_in_dim = 3\n",
    "\n",
    "encoder = CaptionEncoder(embed_dim, hidden_dim, vocab.size, color_in_dim, color_dim)"
   ]
  },
  {
   "cell_type": "markdown",
   "metadata": {},
   "source": [
    "Now try and train the thing"
   ]
  },
  {
   "cell_type": "code",
   "execution_count": 243,
   "metadata": {},
   "outputs": [],
   "source": [
    "def train(caption_tensor, color_tensor, encoder, encoder_optimizer, criterion, target):\n",
    "    encoder_states = encoder.init_hidden_and_context()\n",
    "    \n",
    "    input_length = caption_tensor.size(0)\n",
    "    #print(input_length)\n",
    "    \n",
    "    encoder_optimizer.zero_grad()\n",
    "    \n",
    "    loss = 0\n",
    "    \n",
    "    encoder_output, _, _ = encoder(caption_tensor, encoder_states, color_tensor.transpose(0, 1))\n",
    "    #print(encoder_output)\n",
    "    \n",
    "    encoder_output = encoder_output.view(1, -1)\n",
    "    \n",
    "    loss += criterion(encoder_output, target)\n",
    "    #print(loss)\n",
    "    loss.backward()\n",
    "    encoder_optimizer.step()\n",
    "    \n",
    "    return loss\n",
    "        "
   ]
  },
  {
   "cell_type": "code",
   "execution_count": 244,
   "metadata": {},
   "outputs": [],
   "source": [
    "result = train(torch_test_caption, tensor_test_color, encoder, optimizer, criterion, torch.tensor([0]))"
   ]
  },
  {
   "cell_type": "code",
   "execution_count": 245,
   "metadata": {},
   "outputs": [
    {
     "data": {
      "text/plain": [
       "tensor(1.0313, grad_fn=<AddBackward0>)"
      ]
     },
     "execution_count": 245,
     "metadata": {},
     "output_type": "execute_result"
    }
   ],
   "source": [
    "result"
   ]
  },
  {
   "cell_type": "code",
   "execution_count": 497,
   "metadata": {},
   "outputs": [],
   "source": [
    "#import pickle as pkl"
   ]
  },
  {
   "cell_type": "code",
   "execution_count": 61,
   "metadata": {},
   "outputs": [],
   "source": [
    "train_pairs = []\n",
    "for caption, de in zip(processed_captions, monroe_data_train.entries):\n",
    "    colors = de.colors\n",
    "    caption_tensor = sentence_to_tensor(caption, vocab)\n",
    "    color_tensor = colors_to_tensor(colors)\n",
    "    # shuffle color order\n",
    "    permutation = torch.randperm(color_tensor.size(0))\n",
    "    target = torch.argmin(permutation).view(-1) # target always started at 0\n",
    "    color_tensor = color_tensor[permutation]\n",
    "    train_pairs.append((caption_tensor, color_tensor, target))\n",
    "    \n",
    "# np.random.shuffle(pairs)"
   ]
  },
  {
   "cell_type": "code",
   "execution_count": 67,
   "metadata": {},
   "outputs": [
    {
     "data": {
      "text/plain": [
       "(tensor([[0],\n",
       "         [1]]), tensor([[0.1719, 0.8281, 0.2695],\n",
       "         [0.4141, 0.3750, 0.6250],\n",
       "         [0.7656, 0.7109, 0.2344]]), tensor([1]))"
      ]
     },
     "execution_count": 67,
     "metadata": {},
     "output_type": "execute_result"
    }
   ],
   "source": [
    "train_pairs[0]"
   ]
  },
  {
   "cell_type": "code",
   "execution_count": 175,
   "metadata": {},
   "outputs": [],
   "source": [
    "w = torch.empty(3, 3)"
   ]
  },
  {
   "cell_type": "code",
   "execution_count": 190,
   "metadata": {},
   "outputs": [],
   "source": [
    "lin  = nn.Linear(9, 9)"
   ]
  },
  {
   "cell_type": "code",
   "execution_count": 191,
   "metadata": {},
   "outputs": [
    {
     "data": {
      "text/plain": [
       "Linear(in_features=9, out_features=9, bias=True)"
      ]
     },
     "execution_count": 191,
     "metadata": {},
     "output_type": "execute_result"
    }
   ],
   "source": [
    "lin"
   ]
  },
  {
   "cell_type": "code",
   "execution_count": 179,
   "metadata": {},
   "outputs": [
    {
     "data": {
      "text/plain": [
       "tensor([[1., 0., 0., 0., 0.],\n",
       "        [0., 1., 0., 0., 0.],\n",
       "        [0., 0., 1., 0., 0.]])"
      ]
     },
     "execution_count": 179,
     "metadata": {},
     "output_type": "execute_result"
    }
   ],
   "source": [
    "torch.nn.init.eye_(w)"
   ]
  },
  {
   "cell_type": "code",
   "execution_count": 185,
   "metadata": {},
   "outputs": [],
   "source": [
    "tensor_id = torch.tensor(np.eye(3))"
   ]
  },
  {
   "cell_type": "code",
   "execution_count": 187,
   "metadata": {},
   "outputs": [
    {
     "data": {
      "text/plain": [
       "tensor([1., 0., 0., 0., 1., 0., 0., 0., 1.], dtype=torch.float64)"
      ]
     },
     "execution_count": 187,
     "metadata": {},
     "output_type": "execute_result"
    }
   ],
   "source": [
    "tensor_id.flatten()"
   ]
  },
  {
   "cell_type": "code",
   "execution_count": 192,
   "metadata": {},
   "outputs": [],
   "source": [
    "lin.bias.data = tensor_id.flatten()# fill_(torch.tensor(np.eye(3)))"
   ]
  },
  {
   "cell_type": "code",
   "execution_count": 193,
   "metadata": {},
   "outputs": [
    {
     "data": {
      "text/plain": [
       "tensor([1., 0., 0., 0., 1., 0., 0., 0., 1.], dtype=torch.float64)"
      ]
     },
     "execution_count": 193,
     "metadata": {},
     "output_type": "execute_result"
    }
   ],
   "source": [
    "lin.bias.data"
   ]
  },
  {
   "cell_type": "code",
   "execution_count": 195,
   "metadata": {},
   "outputs": [
    {
     "data": {
      "text/plain": [
       "tensor([[-0.2227,  0.1028,  0.0579,  0.3286,  0.0540, -0.0983, -0.1331,  0.2266,\n",
       "          0.2292],\n",
       "        [ 0.0234, -0.1065, -0.1252,  0.1065, -0.3300, -0.0350, -0.1011, -0.1652,\n",
       "         -0.1538],\n",
       "        [-0.2696, -0.2985, -0.2578, -0.3050, -0.0802,  0.1878, -0.3049,  0.2819,\n",
       "          0.2326],\n",
       "        [-0.2428, -0.1332, -0.0406,  0.2954,  0.0895, -0.0473, -0.0726,  0.2839,\n",
       "          0.1849],\n",
       "        [ 0.0373,  0.3059,  0.0320, -0.0081, -0.3014, -0.2968,  0.2080,  0.2960,\n",
       "          0.0510],\n",
       "        [ 0.1232, -0.0840,  0.0054, -0.2803, -0.1987, -0.0792,  0.0808, -0.3242,\n",
       "          0.1882],\n",
       "        [-0.3195,  0.0993, -0.2760, -0.2081,  0.3054,  0.2381,  0.0121, -0.1306,\n",
       "         -0.0337],\n",
       "        [ 0.1156,  0.2742, -0.0320,  0.0465,  0.0492,  0.2269,  0.2297,  0.0608,\n",
       "          0.0067],\n",
       "        [-0.1766,  0.0757,  0.2557, -0.2529,  0.1153, -0.0755,  0.3323, -0.1317,\n",
       "         -0.1950]])"
      ]
     },
     "execution_count": 195,
     "metadata": {},
     "output_type": "execute_result"
    }
   ],
   "source": [
    "lin.weight.data"
   ]
  },
  {
   "cell_type": "code",
   "execution_count": 196,
   "metadata": {},
   "outputs": [
    {
     "data": {
      "text/plain": [
       "tensor([[1., 0., 0.],\n",
       "        [0., 1., 0.],\n",
       "        [0., 0., 1.]], dtype=torch.float64)"
      ]
     },
     "execution_count": 196,
     "metadata": {},
     "output_type": "execute_result"
    }
   ],
   "source": [
    "tensor_id.reshape(-1, 3)"
   ]
  },
  {
   "cell_type": "code",
   "execution_count": 76,
   "metadata": {},
   "outputs": [],
   "source": [
    "dev_pairs = []\n",
    "for caption, de in zip(processed_captions_dev, monroe_data_dev.entries):\n",
    "    colors = de.colors\n",
    "    caption_tensor = sentence_to_tensor(caption, vocab)\n",
    "    color_tensor = colors_to_tensor(colors)\n",
    "    # shuffle color order\n",
    "    permutation = torch.randperm(color_tensor.size(0))\n",
    "    target = torch.argmin(permutation).view(-1) # target always started at 0\n",
    "    color_tensor = color_tensor[permutation]\n",
    "    dev_pairs.append((caption_tensor, color_tensor, target))"
   ]
  },
  {
   "cell_type": "code",
   "execution_count": 501,
   "metadata": {},
   "outputs": [],
   "source": [
    "# TODO: actually randomize the ordering and selection of num_train, num_test\n",
    "\n",
    "# num_train = 1523108\n",
    "# num_test = 544768\n",
    "# pairs_train = pairs[:num_train]\n",
    "# pairs_test = pairs[-num_test:]\n",
    "\n",
    "# with open(\"train_pairs.pkl\", \"wb\") as train_file:\n",
    "#     pkl.dump(pairs_train, train_file)\n",
    "    \n",
    "# with open(\"test_pairs.pkl\", \"wb\") as test_file:\n",
    "#     pkl.dump(pairs_test, test_file)\n",
    "\n",
    "\n"
   ]
  },
  {
   "cell_type": "code",
   "execution_count": null,
   "metadata": {},
   "outputs": [],
   "source": []
  },
  {
   "cell_type": "code",
   "execution_count": 57,
   "metadata": {},
   "outputs": [],
   "source": [
    "import time\n",
    "import math"
   ]
  },
  {
   "cell_type": "code",
   "execution_count": 58,
   "metadata": {},
   "outputs": [],
   "source": [
    "# from https://pytorch.org/tutorials/intermediate/seq2seq_translation_tutorial.html\n",
    "def asMinutes(s):\n",
    "    m = math.floor(s / 60)\n",
    "    s -= m * 60\n",
    "    return '%dm %ds' % (m, s)"
   ]
  },
  {
   "cell_type": "code",
   "execution_count": null,
   "metadata": {
    "scrolled": true
   },
   "outputs": [
    {
     "name": "stdout",
     "output_type": "stream",
     "text": [
      "---EPOCH 0---\n",
      "0m 0s (0:0 0.00%) 0.0014\n",
      "0m 6s (0:1000 6.38%) 1.0980\n",
      "0m 12s (0:2000 12.77%) 1.0661\n",
      "0m 18s (0:3000 19.15%) 1.0902\n",
      "0m 23s (0:4000 25.53%) 1.0600\n",
      "0m 30s (0:5000 31.92%) 1.0638\n",
      "0m 36s (0:6000 38.30%) 1.0573\n",
      "0m 43s (0:7000 44.69%) 1.0610\n",
      "0m 50s (0:8000 51.07%) 1.0645\n",
      "0m 57s (0:9000 57.45%) 1.0573\n",
      "1m 3s (0:10000 63.84%) 1.0560\n",
      "1m 10s (0:11000 70.22%) 1.0500\n",
      "1m 17s (0:12000 76.60%) 1.0599\n",
      "1m 24s (0:13000 82.99%) 1.0757\n",
      "1m 30s (0:14000 89.37%) 1.0479\n",
      "1m 37s (0:15000 95.75%) 1.0729\n",
      "---EPOCH 1---\n",
      "1m 41s (1:0 0.00%) 0.0009\n",
      "1m 48s (1:1000 6.38%) 1.0375\n",
      "1m 54s (1:2000 12.77%) 1.0407\n",
      "2m 1s (1:3000 19.15%) 1.0788\n",
      "2m 7s (1:4000 25.53%) 1.0401\n",
      "2m 13s (1:5000 31.92%) 1.0470\n",
      "2m 20s (1:6000 38.30%) 1.0409\n",
      "2m 26s (1:7000 44.69%) 1.0446\n",
      "2m 33s (1:8000 51.07%) 1.0493\n",
      "2m 39s (1:9000 57.45%) 1.0368\n",
      "2m 46s (1:10000 63.84%) 1.0385\n",
      "2m 52s (1:11000 70.22%) 1.0374\n",
      "2m 59s (1:12000 76.60%) 1.0551\n",
      "3m 6s (1:13000 82.99%) 1.0684\n",
      "3m 12s (1:14000 89.37%) 1.0330\n",
      "3m 18s (1:15000 95.75%) 1.0649\n",
      "---EPOCH 2---\n",
      "3m 22s (2:0 0.00%) 0.0010\n",
      "3m 29s (2:1000 6.38%) 1.0266\n",
      "3m 35s (2:2000 12.77%) 1.0308\n",
      "3m 42s (2:3000 19.15%) 1.0701\n",
      "3m 48s (2:4000 25.53%) 1.0313\n",
      "3m 54s (2:5000 31.92%) 1.0386\n",
      "4m 1s (2:6000 38.30%) 1.0349\n",
      "4m 7s (2:7000 44.69%) 1.0409\n",
      "4m 14s (2:8000 51.07%) 1.0415\n",
      "4m 21s (2:9000 57.45%) 1.0260\n",
      "4m 27s (2:10000 63.84%) 1.0296\n",
      "4m 34s (2:11000 70.22%) 1.0318\n",
      "4m 40s (2:12000 76.60%) 1.0528\n",
      "4m 47s (2:13000 82.99%) 1.0649\n",
      "4m 53s (2:14000 89.37%) 1.0260\n",
      "4m 59s (2:15000 95.75%) 1.0575\n",
      "---EPOCH 3---\n",
      "5m 4s (3:0 0.00%) 0.0010\n",
      "5m 10s (3:1000 6.38%) 1.0226\n",
      "5m 17s (3:2000 12.77%) 1.0181\n",
      "5m 23s (3:3000 19.15%) 1.0562\n",
      "5m 29s (3:4000 25.53%) 1.0247\n",
      "5m 36s (3:5000 31.92%) 1.0293\n",
      "5m 42s (3:6000 38.30%) 1.0252\n",
      "5m 49s (3:7000 44.69%) 1.0348\n",
      "5m 56s (3:8000 51.07%) 1.0330\n",
      "6m 2s (3:9000 57.45%) 1.0129\n",
      "6m 9s (3:10000 63.84%) 1.0190\n",
      "6m 15s (3:11000 70.22%) 1.0239\n",
      "6m 22s (3:12000 76.60%) 1.0505\n",
      "6m 28s (3:13000 82.99%) 1.0607\n",
      "6m 34s (3:14000 89.37%) 1.0163\n",
      "6m 41s (3:15000 95.75%) 1.0473\n",
      "---EPOCH 4---\n",
      "6m 45s (4:0 0.00%) 0.0010\n",
      "6m 51s (4:1000 6.38%) 1.0163\n",
      "6m 58s (4:2000 12.77%) 1.0007\n",
      "7m 4s (4:3000 19.15%) 1.0432\n",
      "7m 10s (4:4000 25.53%) 1.0147\n",
      "7m 17s (4:5000 31.92%) 1.0146\n",
      "7m 23s (4:6000 38.30%) 1.0062\n",
      "7m 30s (4:7000 44.69%) 1.0237\n",
      "7m 37s (4:8000 51.07%) 1.0188\n",
      "7m 43s (4:9000 57.45%) 0.9947\n",
      "7m 50s (4:10000 63.84%) 1.0020\n",
      "7m 56s (4:11000 70.22%) 1.0108\n",
      "8m 3s (4:12000 76.60%) 1.0438\n",
      "8m 9s (4:13000 82.99%) 1.0507\n",
      "8m 15s (4:14000 89.37%) 1.0032\n",
      "8m 22s (4:15000 95.75%) 1.0357\n",
      "---EPOCH 5---\n",
      "8m 26s (5:0 0.00%) 0.0011\n",
      "8m 32s (5:1000 6.38%) 1.0080\n",
      "8m 39s (5:2000 12.77%) 0.9810\n",
      "8m 45s (5:3000 19.15%) 1.0275\n",
      "8m 51s (5:4000 25.53%) 1.0012\n",
      "8m 58s (5:5000 31.92%) 0.9934\n",
      "9m 4s (5:6000 38.30%) 0.9869\n",
      "9m 11s (5:7000 44.69%) 1.0058\n",
      "9m 17s (5:8000 51.07%) 0.9981\n",
      "9m 24s (5:9000 57.45%) 0.9794\n",
      "9m 31s (5:10000 63.84%) 0.9786\n",
      "9m 37s (5:11000 70.22%) 0.9951\n",
      "9m 44s (5:12000 76.60%) 1.0351\n",
      "9m 50s (5:13000 82.99%) 1.0367\n",
      "9m 57s (5:14000 89.37%) 0.9902\n",
      "10m 3s (5:15000 95.75%) 1.0197\n",
      "---EPOCH 6---\n",
      "10m 7s (6:0 0.00%) 0.0011\n",
      "10m 14s (6:1000 6.38%) 0.9972\n",
      "10m 20s (6:2000 12.77%) 0.9546\n",
      "10m 26s (6:3000 19.15%) 1.0073\n",
      "10m 32s (6:4000 25.53%) 0.9833\n",
      "10m 39s (6:5000 31.92%) 0.9756\n",
      "10m 46s (6:6000 38.30%) 0.9690\n"
     ]
    }
   ],
   "source": [
    "num_epochs = 30\n",
    "lr = 0.2\n",
    "\n",
    "optimizer = torch.optim.Adadelta(lr=lr,params=encoder.parameters())\n",
    "criterion = nn.NLLLoss()\n",
    "\n",
    "start_time = time.time()\n",
    "store_losses_every = 100\n",
    "print_losses_every = 1000\n",
    "stored_losses = []\n",
    "for epoch in range(num_epochs):\n",
    "    print(\"---EPOCH {}---\".format(epoch))\n",
    "    stored_loss_total = 0\n",
    "    print_loss_total = 0\n",
    "\n",
    "    for i, pair in enumerate(train_pairs):\n",
    "        caption, colors, target = pair\n",
    "        # print(target)\n",
    "        \n",
    "        loss = train(caption, colors, encoder, optimizer, criterion, target)\n",
    "        stored_loss_total += loss.item()\n",
    "        print_loss_total += loss.item()\n",
    "        \n",
    "        if i % print_losses_every == 0:\n",
    "            print_loss_avg = print_loss_total / print_losses_every\n",
    "            print(\"{} ({}:{} {:.2f}%) {:.4f}\".format(asMinutes(time.time() - start_time),\n",
    "                                              epoch, i, i/len(train_pairs)*100,\n",
    "                                              print_loss_avg))\n",
    "            print_loss_total = 0\n",
    "        #break    \n",
    "        if i % store_losses_every == 0:\n",
    "            stored_loss_avg = stored_loss_total / store_losses_every\n",
    "            stored_losses.append(stored_loss_avg)\n",
    "            stored_loss_total = 0\n",
    "                "
   ]
  },
  {
   "cell_type": "code",
   "execution_count": 157,
   "metadata": {},
   "outputs": [],
   "source": [
    "import matplotlib.pyplot as plt"
   ]
  },
  {
   "cell_type": "code",
   "execution_count": 159,
   "metadata": {},
   "outputs": [],
   "source": [
    "%matplotlib inline"
   ]
  },
  {
   "cell_type": "code",
   "execution_count": 218,
   "metadata": {},
   "outputs": [
    {
     "data": {
      "text/plain": [
       "[<matplotlib.lines.Line2D at 0x12e78ac18>]"
      ]
     },
     "execution_count": 218,
     "metadata": {},
     "output_type": "execute_result"
    },
    {
     "data": {
      "image/png": "[encoded data removed]",
      "text/plain": [
       "<Figure size 432x288 with 1 Axes>"
      ]
     },
     "metadata": {},
     "output_type": "display_data"
    }
   ],
   "source": [
    "plt.plot(stored_losses)"
   ]
  },
  {
   "cell_type": "code",
   "execution_count": 171,
   "metadata": {},
   "outputs": [
    {
     "data": {
      "text/plain": [
       "[<matplotlib.lines.Line2D at 0x12e6a3eb8>]"
      ]
     },
     "execution_count": 171,
     "metadata": {},
     "output_type": "execute_result"
    },
    {
     "data": {
      "image/png": "[encoded data removed]",
      "text/plain": [
       "<Figure size 432x288 with 1 Axes>"
      ]
     },
     "metadata": {},
     "output_type": "display_data"
    }
   ],
   "source": [
    "plt.plot(stored_losses)"
   ]
  },
  {
   "cell_type": "code",
   "execution_count": null,
   "metadata": {},
   "outputs": [],
   "source": [
    "def evaluate(encoder, pair):\n",
    "    with torch.no_grad():\n",
    "        caption_tensor, color_tensor, target = pair\n",
    "        encoder_states = encoder.init_hidden_and_context()\n",
    "        encoder_output, _, _ = encoder(caption_tensor, encoder_states, color_tensor.transpose(0, 1))\n",
    "    \n",
    "        encoder_output = encoder_output.view(1, -1)\n",
    "        if torch.argmax(encoder_output).item() == target.item():\n",
    "            return 1, encoder_output\n",
    "        else:\n",
    "            return 0, encoder_output\n",
    "\n",
    "    \n",
    "total_correct = 0\n",
    "for pair in dev_pairs:\n",
    "    correct, _ = evaluate(encoder, pair) \n",
    "    total_correct += correct\n",
    "\n",
    "\n",
    "    "
   ]
  },
  {
   "cell_type": "code",
   "execution_count": 163,
   "metadata": {},
   "outputs": [
    {
     "name": "stdout",
     "output_type": "stream",
     "text": [
      "0.6831790616022981\n"
     ]
    }
   ],
   "source": [
    "print(total_correct/len(train_pairs))"
   ]
  },
  {
   "cell_type": "code",
   "execution_count": 155,
   "metadata": {},
   "outputs": [
    {
     "name": "stdout",
     "output_type": "stream",
     "text": [
      "0.6610916054899457\n"
     ]
    }
   ],
   "source": [
    "print(total_correct/len(train_pairs))"
   ]
  },
  {
   "cell_type": "code",
   "execution_count": null,
   "metadata": {},
   "outputs": [],
   "source": [
    "# no color embedding, bi-lstm, all speaker utterances, 30 epochs, completely learned covar\n",
    "print(total_correct/len(dev_pairs))"
   ]
  },
  {
   "cell_type": "code",
   "execution_count": 220,
   "metadata": {},
   "outputs": [
    {
     "name": "stdout",
     "output_type": "stream",
     "text": [
      "0.4197192086790045\n"
     ]
    }
   ],
   "source": [
    "# no color embedding, gru, all speaker utterances, 30 epochs, completely learned covar\n",
    "print(total_correct/len(dev_pairs))"
   ]
  },
  {
   "cell_type": "code",
   "execution_count": 174,
   "metadata": {},
   "outputs": [
    {
     "name": "stdout",
     "output_type": "stream",
     "text": [
      "0.41895341416719845\n"
     ]
    }
   ],
   "source": [
    "# color embedding, gru, all speaker utterances, 30 epochs\n",
    "print(total_correct/len(dev_pairs))"
   ]
  },
  {
   "cell_type": "code",
   "execution_count": 165,
   "metadata": {},
   "outputs": [
    {
     "name": "stdout",
     "output_type": "stream",
     "text": [
      "0.4532865347798341\n"
     ]
    }
   ],
   "source": [
    "# color embedding, lstm, all speaker utterances, 40 epochs\n",
    "print(total_correct/len(dev_pairs))"
   ]
  },
  {
   "cell_type": "code",
   "execution_count": 153,
   "metadata": {},
   "outputs": [
    {
     "name": "stdout",
     "output_type": "stream",
     "text": [
      "0.4337587747287811\n"
     ]
    }
   ],
   "source": [
    "# color embedding, lstm, all speaker utterances, 25 epochs\n",
    "print(total_correct/len(dev_pairs))"
   ]
  },
  {
   "cell_type": "code",
   "execution_count": 79,
   "metadata": {},
   "outputs": [
    {
     "name": "stdout",
     "output_type": "stream",
     "text": [
      "0.5238034460753032\n"
     ]
    }
   ],
   "source": [
    "# just rgb, lstm, all speaker utterances, 40 epochs\n",
    "print(total_correct/len(dev_pairs))"
   ]
  },
  {
   "cell_type": "code",
   "execution_count": 570,
   "metadata": {},
   "outputs": [
    {
     "name": "stdout",
     "output_type": "stream",
     "text": [
      "0.5557517981018854\n"
     ]
    }
   ],
   "source": [
    "# just rgb, lstm, 5 epochs, final speaker utterances (different training data)\n",
    "print(total_correct/len(pairs_test))"
   ]
  },
  {
   "cell_type": "code",
   "execution_count": 232,
   "metadata": {},
   "outputs": [
    {
     "data": {
      "text/plain": [
       "(tensor([[750],\n",
       "         [ 36],\n",
       "         [  1]]), tensor([[0.4180, 0.6055, 0.3945],\n",
       "         [0.7031, 0.2969, 0.3359],\n",
       "         [0.3281, 0.6719, 0.4727]]), tensor([0]))"
      ]
     },
     "execution_count": 232,
     "metadata": {},
     "output_type": "execute_result"
    }
   ],
   "source": [
    "dev_pairs[2]"
   ]
  },
  {
   "cell_type": "code",
   "execution_count": 230,
   "metadata": {},
   "outputs": [
    {
     "data": {
      "text/plain": [
       "(0, tensor([[-2.4830, -0.6985, -0.8694]]))"
      ]
     },
     "execution_count": 230,
     "metadata": {},
     "output_type": "execute_result"
    }
   ],
   "source": [
    "evaluate(encoder, dev_pairs[2])"
   ]
  },
  {
   "cell_type": "code",
   "execution_count": 231,
   "metadata": {},
   "outputs": [
    {
     "name": "stdout",
     "output_type": "stream",
     "text": [
      "2) Game: 1124-1 Round: 19\n",
      "Camo green\n"
     ]
    },
    {
     "data": {
      "image/png": "[encoded data removed]",
      "text/plain": [
       "<Figure size 432x288 with 1 Axes>"
      ]
     },
     "metadata": {},
     "output_type": "display_data"
    }
   ],
   "source": [
    "monroe_data_dev.display_game(2)"
   ]
  },
  {
   "cell_type": "code",
   "execution_count": 227,
   "metadata": {},
   "outputs": [
    {
     "data": {
      "text/plain": [
       "[0.24609375, 0.796875, 0.203125]"
      ]
     },
     "execution_count": 227,
     "metadata": {},
     "output_type": "execute_result"
    }
   ],
   "source": [
    "monroe_data_dev[0].colors[0].rgb_norm"
   ]
  },
  {
   "cell_type": "code",
   "execution_count": 541,
   "metadata": {},
   "outputs": [
    {
     "name": "stdout",
     "output_type": "stream",
     "text": [
      "0\n"
     ]
    }
   ],
   "source": [
    "print(total_correct)"
   ]
  },
  {
   "cell_type": "code",
   "execution_count": 549,
   "metadata": {},
   "outputs": [
    {
     "data": {
      "text/plain": [
       "['green-ish', 'yellow', '<eos>']"
      ]
     },
     "execution_count": 549,
     "metadata": {},
     "output_type": "execute_result"
    }
   ],
   "source": [
    "[vocab.idx2word[idx.item()] for idx in pairs_test[60][0]]"
   ]
  },
  {
   "cell_type": "code",
   "execution_count": 550,
   "metadata": {},
   "outputs": [
    {
     "name": "stdout",
     "output_type": "stream",
     "text": [
      "10291\n"
     ]
    }
   ],
   "source": [
    "for i in range(len(monroe_data.entries)):\n",
    "    if monroe_data[i].tokens == ['green-ish', 'yellow']:\n",
    "        print(i)"
   ]
  },
  {
   "cell_type": "code",
   "execution_count": 560,
   "metadata": {},
   "outputs": [],
   "source": [
    "target_test = pairs_test[60][2]"
   ]
  },
  {
   "cell_type": "code",
   "execution_count": 562,
   "metadata": {},
   "outputs": [
    {
     "data": {
      "text/plain": [
       "0"
      ]
     },
     "execution_count": 562,
     "metadata": {},
     "output_type": "execute_result"
    }
   ],
   "source": [
    "target_test.item()"
   ]
  },
  {
   "cell_type": "code",
   "execution_count": 559,
   "metadata": {},
   "outputs": [
    {
     "data": {
      "text/plain": [
       "(tensor([[757],\n",
       "         [ 40],\n",
       "         [  4]]), tensor([[0.3438, 0.7891, 0.2109],\n",
       "         [0.3281, 0.6719, 0.3477],\n",
       "         [0.2656, 0.7344, 0.3516]]), tensor([0]))"
      ]
     },
     "execution_count": 559,
     "metadata": {},
     "output_type": "execute_result"
    }
   ],
   "source": [
    "pairs_test[60]"
   ]
  },
  {
   "cell_type": "code",
   "execution_count": 563,
   "metadata": {},
   "outputs": [],
   "source": [
    "_, res_dist = evaluate(encoder, pairs_test[60])"
   ]
  },
  {
   "cell_type": "code",
   "execution_count": 566,
   "metadata": {},
   "outputs": [
    {
     "data": {
      "text/plain": [
       "tensor([[-0.7818, -0.8401, -2.2002]])"
      ]
     },
     "execution_count": 566,
     "metadata": {},
     "output_type": "execute_result"
    }
   ],
   "source": [
    "res_dist"
   ]
  },
  {
   "cell_type": "code",
   "execution_count": 567,
   "metadata": {},
   "outputs": [
    {
     "data": {
      "text/plain": [
       "tensor(0)"
      ]
     },
     "execution_count": 567,
     "metadata": {},
     "output_type": "execute_result"
    }
   ],
   "source": [
    "torch.argmax(res_dist)"
   ]
  },
  {
   "cell_type": "code",
   "execution_count": 551,
   "metadata": {},
   "outputs": [
    {
     "name": "stdout",
     "output_type": "stream",
     "text": [
      "10291) Game: 9975-6 Round: 37\n",
      "green-ish yellow\n"
     ]
    },
    {
     "data": {
      "image/png": "[encoded data removed]",
      "text/plain": [
       "<Figure size 432x288 with 1 Axes>"
      ]
     },
     "metadata": {},
     "output_type": "display_data"
    }
   ],
   "source": [
    "monroe_data.display_game(10291)"
   ]
  },
  {
   "cell_type": "code",
   "execution_count": 433,
   "metadata": {},
   "outputs": [
    {
     "data": {
      "text/plain": [
       "'torch.FloatTensor'"
      ]
     },
     "execution_count": 433,
     "metadata": {},
     "output_type": "execute_result"
    }
   ],
   "source": [
    "tensor_test_color.type()"
   ]
  },
  {
   "cell_type": "code",
   "execution_count": 457,
   "metadata": {},
   "outputs": [],
   "source": [
    "m = nn.LogSoftmax(dim=0)\n",
    "loss = nn.NLLLoss()\n",
    "# input is of size N x C = 3 x 5\n",
    "input = torch.randn(3, 5, requires_grad=True)\n",
    "# each element in target has to have 0 <= value < C\n",
    "target = torch.tensor([1, 0, 4])\n",
    "output = loss(m(input), target)\n",
    "output.backward()"
   ]
  },
  {
   "cell_type": "code",
   "execution_count": 460,
   "metadata": {},
   "outputs": [
    {
     "data": {
      "text/plain": [
       "tensor([[-0.8423, -2.0615, -1.6769, -0.8026, -2.5770],\n",
       "        [-0.9728, -2.9595, -0.8049, -1.2059, -2.4637],\n",
       "        [-1.6542, -0.1974, -1.0053, -1.3767, -0.1757]],\n",
       "       grad_fn=<LogSoftmaxBackward>)"
      ]
     },
     "execution_count": 460,
     "metadata": {},
     "output_type": "execute_result"
    }
   ],
   "source": [
    "m(input)"
   ]
  },
  {
   "cell_type": "code",
   "execution_count": 461,
   "metadata": {},
   "outputs": [
    {
     "data": {
      "text/plain": [
       "tensor(1.0700, grad_fn=<NllLossBackward>)"
      ]
     },
     "execution_count": 461,
     "metadata": {},
     "output_type": "execute_result"
    }
   ],
   "source": [
    "loss(m(input), target)"
   ]
  },
  {
   "cell_type": "code",
   "execution_count": 239,
   "metadata": {},
   "outputs": [
    {
     "data": {
      "text/plain": [
       "15715"
      ]
     },
     "execution_count": 239,
     "metadata": {},
     "output_type": "execute_result"
    }
   ],
   "source": [
    "np.argmax([len(cap) for cap in processed_captions])"
   ]
  },
  {
   "cell_type": "code",
   "execution_count": 51,
   "metadata": {},
   "outputs": [],
   "source": [
    "tensor_test_color = colors_to_tensor(monroe_data_train[0].colors)"
   ]
  },
  {
   "cell_type": "code",
   "execution_count": 473,
   "metadata": {},
   "outputs": [
    {
     "data": {
      "text/plain": [
       "tensor([[0.0938, 0.2852, 0.9062],\n",
       "        [0.6875, 0.0664, 0.9336],\n",
       "        [0.1641, 0.0391, 0.9609]])"
      ]
     },
     "execution_count": 473,
     "metadata": {},
     "output_type": "execute_result"
    }
   ],
   "source": [
    "tensor_test_color"
   ]
  },
  {
   "cell_type": "code",
   "execution_count": 481,
   "metadata": {},
   "outputs": [
    {
     "data": {
      "text/plain": [
       "3"
      ]
     },
     "execution_count": 481,
     "metadata": {},
     "output_type": "execute_result"
    }
   ],
   "source": [
    "tensor_test_color.size(0)"
   ]
  },
  {
   "cell_type": "code",
   "execution_count": 486,
   "metadata": {},
   "outputs": [],
   "source": [
    "rand_tensor = torch.randperm(tensor_test_color.size(0))"
   ]
  },
  {
   "cell_type": "code",
   "execution_count": 487,
   "metadata": {},
   "outputs": [
    {
     "data": {
      "text/plain": [
       "tensor([2, 0, 1])"
      ]
     },
     "execution_count": 487,
     "metadata": {},
     "output_type": "execute_result"
    }
   ],
   "source": [
    "rand_tensor"
   ]
  },
  {
   "cell_type": "code",
   "execution_count": 488,
   "metadata": {
    "scrolled": true
   },
   "outputs": [
    {
     "data": {
      "text/plain": [
       "tensor([[0.1641, 0.0391, 0.9609],\n",
       "        [0.0938, 0.2852, 0.9062],\n",
       "        [0.6875, 0.0664, 0.9336]])"
      ]
     },
     "execution_count": 488,
     "metadata": {},
     "output_type": "execute_result"
    }
   ],
   "source": [
    "tensor_test_color[rand_tensor]"
   ]
  },
  {
   "cell_type": "code",
   "execution_count": 491,
   "metadata": {},
   "outputs": [
    {
     "data": {
      "text/plain": [
       "tensor([1])"
      ]
     },
     "execution_count": 491,
     "metadata": {},
     "output_type": "execute_result"
    }
   ],
   "source": [
    "torch.argmin(rand_tensor).view(-1)"
   ]
  },
  {
   "cell_type": "code",
   "execution_count": 476,
   "metadata": {},
   "outputs": [],
   "source": [
    "a = [c.rgb_norm for c in monroe_data[0].colors]"
   ]
  },
  {
   "cell_type": "code",
   "execution_count": 477,
   "metadata": {},
   "outputs": [
    {
     "data": {
      "text/plain": [
       "[[0.09375, 0.28515625, 0.90625],\n",
       " [0.6875, 0.06640625, 0.93359375],\n",
       " [0.1640625, 0.0390625, 0.9609375]]"
      ]
     },
     "execution_count": 477,
     "metadata": {},
     "output_type": "execute_result"
    }
   ],
   "source": [
    "a"
   ]
  },
  {
   "cell_type": "code",
   "execution_count": 478,
   "metadata": {},
   "outputs": [],
   "source": [
    "random.shuffle(a)"
   ]
  },
  {
   "cell_type": "code",
   "execution_count": 479,
   "metadata": {},
   "outputs": [
    {
     "data": {
      "text/plain": [
       "[[0.6875, 0.06640625, 0.93359375],\n",
       " [0.09375, 0.28515625, 0.90625],\n",
       " [0.1640625, 0.0390625, 0.9609375]]"
      ]
     },
     "execution_count": 479,
     "metadata": {},
     "output_type": "execute_result"
    }
   ],
   "source": [
    "a"
   ]
  },
  {
   "cell_type": "code",
   "execution_count": 50,
   "metadata": {},
   "outputs": [],
   "source": [
    "torch_test_caption = sentence_to_tensor(processed_captions[0], vocab)"
   ]
  },
  {
   "cell_type": "code",
   "execution_count": 307,
   "metadata": {},
   "outputs": [
    {
     "data": {
      "text/plain": [
       "['the', 'darker', 'blue', 'one', '<eos>']"
      ]
     },
     "execution_count": 307,
     "metadata": {},
     "output_type": "execute_result"
    }
   ],
   "source": [
    "processed_captions[0]"
   ]
  },
  {
   "cell_type": "code",
   "execution_count": 304,
   "metadata": {},
   "outputs": [
    {
     "data": {
      "text/plain": [
       "4"
      ]
     },
     "execution_count": 304,
     "metadata": {},
     "output_type": "execute_result"
    }
   ],
   "source": [
    "vocab.word2idx['<eos>']"
   ]
  },
  {
   "cell_type": "code",
   "execution_count": 308,
   "metadata": {},
   "outputs": [
    {
     "data": {
      "text/plain": [
       "tensor([[0],\n",
       "        [1],\n",
       "        [2],\n",
       "        [3],\n",
       "        [4]])"
      ]
     },
     "execution_count": 308,
     "metadata": {},
     "output_type": "execute_result"
    }
   ],
   "source": [
    "torch_test_caption"
   ]
  },
  {
   "cell_type": "code",
   "execution_count": null,
   "metadata": {},
   "outputs": [],
   "source": [
    "num_epochs = 5\n",
    "\n",
    "for epoch in range(num_epochs):\n",
    "    states = (torch.zeros)"
   ]
  },
  {
   "cell_type": "code",
   "execution_count": null,
   "metadata": {},
   "outputs": [],
   "source": []
  },
  {
   "cell_type": "code",
   "execution_count": 107,
   "metadata": {},
   "outputs": [],
   "source": [
    "mu = torch.tensor([0.25, 0.5, 0.75, 1, 1.25])"
   ]
  },
  {
   "cell_type": "code",
   "execution_count": 115,
   "metadata": {},
   "outputs": [
    {
     "data": {
      "text/plain": [
       "tensor([200.,  29.,  96.], dtype=torch.float64)"
      ]
     },
     "execution_count": 115,
     "metadata": {},
     "output_type": "execute_result"
    }
   ],
   "source": [
    "mu"
   ]
  },
  {
   "cell_type": "code",
   "execution_count": 82,
   "metadata": {},
   "outputs": [],
   "source": [
    "rand_mat = np.random.rand(3, 3)/10"
   ]
  },
  {
   "cell_type": "code",
   "execution_count": 83,
   "metadata": {},
   "outputs": [
    {
     "data": {
      "text/plain": [
       "array([[0.08696282, 0.06498258, 0.04321573],\n",
       "       [0.04224026, 0.05789655, 0.06327257],\n",
       "       [0.00498122, 0.04183398, 0.02791706]])"
      ]
     },
     "execution_count": 83,
     "metadata": {},
     "output_type": "execute_result"
    }
   ],
   "source": [
    "rand_mat"
   ]
  },
  {
   "cell_type": "code",
   "execution_count": 85,
   "metadata": {},
   "outputs": [],
   "source": [
    "sigma = torch.tensor(np.eye(3) + rand_mat)"
   ]
  },
  {
   "cell_type": "code",
   "execution_count": 98,
   "metadata": {},
   "outputs": [
    {
     "data": {
      "text/plain": [
       "tensor([[1.0870, 0.0650, 0.0432],\n",
       "        [0.0422, 1.0579, 0.0633],\n",
       "        [0.0050, 0.0418, 1.0279]], dtype=torch.float64)"
      ]
     },
     "execution_count": 98,
     "metadata": {},
     "output_type": "execute_result"
    }
   ],
   "source": [
    "sigma"
   ]
  },
  {
   "cell_type": "code",
   "execution_count": 184,
   "metadata": {},
   "outputs": [],
   "source": [
    "colors = torch.tensor(np.eye(3)*1.)"
   ]
  },
  {
   "cell_type": "code",
   "execution_count": 104,
   "metadata": {},
   "outputs": [],
   "source": [
    "colors_random = torch.rand(3, 5)"
   ]
  },
  {
   "cell_type": "code",
   "execution_count": 105,
   "metadata": {},
   "outputs": [
    {
     "data": {
      "text/plain": [
       "tensor([[0.9790, 0.6466, 0.5906, 0.6233, 0.0650],\n",
       "        [0.3828, 0.6325, 0.8088, 0.7705, 0.6073],\n",
       "        [0.3502, 0.5642, 0.6234, 0.9709, 0.1917]])"
      ]
     },
     "execution_count": 105,
     "metadata": {},
     "output_type": "execute_result"
    }
   ],
   "source": [
    "colors_random"
   ]
  },
  {
   "cell_type": "code",
   "execution_count": 108,
   "metadata": {},
   "outputs": [],
   "source": [
    "mus = mu.repeat(3,1)"
   ]
  },
  {
   "cell_type": "code",
   "execution_count": 114,
   "metadata": {},
   "outputs": [
    {
     "data": {
      "text/plain": [
       "tensor([[0.2500, 0.5000, 0.7500, 1.0000, 1.2500],\n",
       "        [0.2500, 0.5000, 0.7500, 1.0000, 1.2500],\n",
       "        [0.2500, 0.5000, 0.7500, 1.0000, 1.2500]])"
      ]
     },
     "execution_count": 114,
     "metadata": {},
     "output_type": "execute_result"
    }
   ],
   "source": [
    "mus"
   ]
  },
  {
   "cell_type": "code",
   "execution_count": 109,
   "metadata": {},
   "outputs": [],
   "source": [
    "diff = colors_random - mus"
   ]
  },
  {
   "cell_type": "code",
   "execution_count": 110,
   "metadata": {},
   "outputs": [
    {
     "data": {
      "text/plain": [
       "tensor([[ 0.7290,  0.1466, -0.1594, -0.3767, -1.1850],\n",
       "        [ 0.1328,  0.1325,  0.0588, -0.2295, -0.6427],\n",
       "        [ 0.1002,  0.0642, -0.1266, -0.0291, -1.0583]])"
      ]
     },
     "execution_count": 110,
     "metadata": {},
     "output_type": "execute_result"
    }
   ],
   "source": [
    "diff"
   ]
  },
  {
   "cell_type": "code",
   "execution_count": 122,
   "metadata": {},
   "outputs": [],
   "source": [
    "id_covar = torch.tensor(np.eye(5), dtype=torch.float)"
   ]
  },
  {
   "cell_type": "code",
   "execution_count": 199,
   "metadata": {},
   "outputs": [],
   "source": [
    "x =id_covar.reshape(-1)"
   ]
  },
  {
   "cell_type": "code",
   "execution_count": 201,
   "metadata": {},
   "outputs": [
    {
     "data": {
      "text/plain": [
       "tensor([[1., 0., 0., 0., 0.],\n",
       "        [0., 1., 0., 0., 0.],\n",
       "        [0., 0., 1., 0., 0.],\n",
       "        [0., 0., 0., 1., 0.],\n",
       "        [0., 0., 0., 0., 1.]])"
      ]
     },
     "execution_count": 201,
     "metadata": {},
     "output_type": "execute_result"
    }
   ],
   "source": [
    "id_covar"
   ]
  },
  {
   "cell_type": "code",
   "execution_count": 134,
   "metadata": {},
   "outputs": [
    {
     "data": {
      "text/plain": [
       "tensor([[ 0.7290,  0.1466, -0.1594, -0.3767, -1.1850],\n",
       "        [ 0.1328,  0.1325,  0.0588, -0.2295, -0.6427],\n",
       "        [ 0.1002,  0.0642, -0.1266, -0.0291, -1.0583]])"
      ]
     },
     "execution_count": 134,
     "metadata": {},
     "output_type": "execute_result"
    }
   ],
   "source": [
    "torch.matmul(diff, id_covar)"
   ]
  },
  {
   "cell_type": "code",
   "execution_count": 136,
   "metadata": {},
   "outputs": [
    {
     "data": {
      "text/plain": [
       "tensor([[2.1245, 0.9550, 1.3677],\n",
       "        [0.9550, 0.5044, 0.7013],\n",
       "        [1.3677, 0.7013, 1.1511]])"
      ]
     },
     "execution_count": 136,
     "metadata": {},
     "output_type": "execute_result"
    }
   ],
   "source": [
    "torch.matmul(torch.matmul(diff, id_covar), diff.transpose(0,1))"
   ]
  },
  {
   "cell_type": "code",
   "execution_count": 135,
   "metadata": {},
   "outputs": [
    {
     "data": {
      "text/plain": [
       "tensor([[2.1245, 0.9550, 1.3677],\n",
       "        [0.9550, 0.5044, 0.7013],\n",
       "        [1.3677, 0.7013, 1.1511]])"
      ]
     },
     "execution_count": 135,
     "metadata": {},
     "output_type": "execute_result"
    }
   ],
   "source": [
    "torch.matmul(torch.matmul(diff, id_covar), diff.t())"
   ]
  },
  {
   "cell_type": "code",
   "execution_count": 133,
   "metadata": {},
   "outputs": [
    {
     "data": {
      "text/plain": [
       "tensor([[ 0.7290,  0.1328,  0.1002],\n",
       "        [ 0.1466,  0.1325,  0.0642],\n",
       "        [-0.1594,  0.0588, -0.1266],\n",
       "        [-0.3767, -0.2295, -0.0291],\n",
       "        [-1.1850, -0.6427, -1.0583]])"
      ]
     },
     "execution_count": 133,
     "metadata": {},
     "output_type": "execute_result"
    }
   ],
   "source": [
    "torch.matmul(id_covar, diff.t())"
   ]
  },
  {
   "cell_type": "code",
   "execution_count": 131,
   "metadata": {},
   "outputs": [
    {
     "data": {
      "text/plain": [
       "tensor([[2.1245, 0.9550, 1.3677],\n",
       "        [0.9550, 0.5044, 0.7013],\n",
       "        [1.3677, 0.7013, 1.1511]])"
      ]
     },
     "execution_count": 131,
     "metadata": {},
     "output_type": "execute_result"
    }
   ],
   "source": [
    "torch.matmul(diff, torch.matmul(id_covar, diff.t()))"
   ]
  },
  {
   "cell_type": "code",
   "execution_count": 153,
   "metadata": {},
   "outputs": [
    {
     "data": {
      "text/plain": [
       "tensor([200.,  29.,  96.], dtype=torch.float64)"
      ]
     },
     "execution_count": 153,
     "metadata": {},
     "output_type": "execute_result"
    }
   ],
   "source": [
    "torch.diag(mus)"
   ]
  },
  {
   "cell_type": "code",
   "execution_count": 148,
   "metadata": {},
   "outputs": [
    {
     "data": {
      "text/plain": [
       "tensor([[1.0870, 0.0650, 0.0432],\n",
       "        [0.0422, 1.0579, 0.0633],\n",
       "        [0.0050, 0.0418, 1.0279]], dtype=torch.float64)"
      ]
     },
     "execution_count": 148,
     "metadata": {},
     "output_type": "execute_result"
    }
   ],
   "source": [
    "torch.tril(sigma, 2)"
   ]
  },
  {
   "cell_type": "code",
   "execution_count": 186,
   "metadata": {},
   "outputs": [
    {
     "data": {
      "text/plain": [
       "tensor([[ 0.5000, -0.5000, -0.5000],\n",
       "        [-0.5000,  0.5000, -0.5000],\n",
       "        [-0.5000, -0.5000,  0.5000]], dtype=torch.float64)"
      ]
     },
     "execution_count": 186,
     "metadata": {},
     "output_type": "execute_result"
    }
   ],
   "source": [
    "diff"
   ]
  },
  {
   "cell_type": "code",
   "execution_count": 187,
   "metadata": {},
   "outputs": [],
   "source": [
    "scores = torch.diag(-torch.matmul(diff.transpose(0,1), torch.matmul(sigma, diff)))"
   ]
  },
  {
   "cell_type": "code",
   "execution_count": 88,
   "metadata": {},
   "outputs": [
    {
     "data": {
      "text/plain": [
       "tensor([[256.,   0.,   0.],\n",
       "        [  0., 256.,   0.],\n",
       "        [  0.,   0., 256.]], dtype=torch.float64)"
      ]
     },
     "execution_count": 88,
     "metadata": {},
     "output_type": "execute_result"
    }
   ],
   "source": [
    "colors"
   ]
  },
  {
   "cell_type": "code",
   "execution_count": 125,
   "metadata": {},
   "outputs": [
    {
     "data": {
      "text/plain": [
       "tensor([223.4258,  45.2012, 100.8895], dtype=torch.float64)"
      ]
     },
     "execution_count": 125,
     "metadata": {},
     "output_type": "execute_result"
    }
   ],
   "source": [
    "torch.matmul(sigma, mu)"
   ]
  },
  {
   "cell_type": "code",
   "execution_count": 127,
   "metadata": {},
   "outputs": [
    {
     "data": {
      "text/plain": [
       "55681.37797980321"
      ]
     },
     "execution_count": 127,
     "metadata": {},
     "output_type": "execute_result"
    }
   ],
   "source": [
    "np.dot(mu.numpy().T, np.dot(sigma.numpy(), mu.numpy()))"
   ]
  },
  {
   "cell_type": "code",
   "execution_count": 163,
   "metadata": {},
   "outputs": [],
   "source": [
    "soft = nn.Softmax(dim=0)"
   ]
  },
  {
   "cell_type": "code",
   "execution_count": 175,
   "metadata": {},
   "outputs": [],
   "source": [
    "test = torch.tensor([1., 2., 3.])"
   ]
  },
  {
   "cell_type": "code",
   "execution_count": 188,
   "metadata": {},
   "outputs": [
    {
     "data": {
      "text/plain": [
       "tensor([-0.7806, -0.7522, -0.7817], dtype=torch.float64)"
      ]
     },
     "execution_count": 188,
     "metadata": {},
     "output_type": "execute_result"
    }
   ],
   "source": [
    "scores"
   ]
  },
  {
   "cell_type": "code",
   "execution_count": 189,
   "metadata": {},
   "outputs": [
    {
     "data": {
      "text/plain": [
       "tensor([0.3303, 0.3398, 0.3299], dtype=torch.float64)"
      ]
     },
     "execution_count": 189,
     "metadata": {},
     "output_type": "execute_result"
    }
   ],
   "source": [
    "soft(scores)"
   ]
  },
  {
   "cell_type": "code",
   "execution_count": 177,
   "metadata": {},
   "outputs": [],
   "source": [
    "lsoft = nn.LogSoftmax(dim=0)"
   ]
  },
  {
   "cell_type": "code",
   "execution_count": 190,
   "metadata": {},
   "outputs": [
    {
     "data": {
      "text/plain": [
       "tensor([-1.1078, -1.0794, -1.1089], dtype=torch.float64)"
      ]
     },
     "execution_count": 190,
     "metadata": {},
     "output_type": "execute_result"
    }
   ],
   "source": [
    "lsoft(scores)"
   ]
  },
  {
   "cell_type": "code",
   "execution_count": null,
   "metadata": {},
   "outputs": [],
   "source": [
    "def score(colors, mu, sigma):\n",
    "    "
   ]
  },
  {
   "cell_type": "code",
   "execution_count": 199,
   "metadata": {},
   "outputs": [],
   "source": [
    "vec = torch.tensor([1., 2., 3., 4., 5., 6.])"
   ]
  },
  {
   "cell_type": "code",
   "execution_count": 213,
   "metadata": {},
   "outputs": [],
   "source": [
    "mat = torch.zeros(3, 3)"
   ]
  },
  {
   "cell_type": "code",
   "execution_count": 214,
   "metadata": {},
   "outputs": [],
   "source": [
    "mat[torch.triu(torch.ones(3, 3)).transpose(0,1) == 1] += vec"
   ]
  },
  {
   "cell_type": "code",
   "execution_count": 215,
   "metadata": {},
   "outputs": [],
   "source": [
    "diagonal = torch.diag(mat)"
   ]
  },
  {
   "cell_type": "code",
   "execution_count": 216,
   "metadata": {},
   "outputs": [
    {
     "data": {
      "text/plain": [
       "tensor([1., 3., 6.])"
      ]
     },
     "execution_count": 216,
     "metadata": {},
     "output_type": "execute_result"
    }
   ],
   "source": [
    "diagonal"
   ]
  },
  {
   "cell_type": "code",
   "execution_count": 217,
   "metadata": {},
   "outputs": [],
   "source": [
    "mat[torch.triu(torch.ones(3, 3)) == 1] += vec"
   ]
  },
  {
   "cell_type": "code",
   "execution_count": 219,
   "metadata": {},
   "outputs": [],
   "source": [
    "mat -= torch.eye(3) * diagonal"
   ]
  },
  {
   "cell_type": "code",
   "execution_count": 220,
   "metadata": {},
   "outputs": [
    {
     "data": {
      "text/plain": [
       "tensor([[1., 2., 3.],\n",
       "        [2., 4., 5.],\n",
       "        [4., 5., 6.]])"
      ]
     },
     "execution_count": 220,
     "metadata": {},
     "output_type": "execute_result"
    }
   ],
   "source": [
    "mat"
   ]
  },
  {
   "cell_type": "markdown",
   "metadata": {},
   "source": []
  },
  {
   "cell_type": "code",
   "execution_count": 33,
   "metadata": {},
   "outputs": [
    {
     "data": {
      "text/plain": [
       "124962"
      ]
     },
     "execution_count": 33,
     "metadata": {},
     "output_type": "execute_result"
    }
   ],
   "source": [
    "sum(vocab.word_count[w] for w in vocab.word_count)"
   ]
  },
  {
   "cell_type": "code",
   "execution_count": 34,
   "metadata": {},
   "outputs": [
    {
     "data": {
      "text/plain": [
       "0.9862998351498856"
      ]
     },
     "execution_count": 34,
     "metadata": {},
     "output_type": "execute_result"
    }
   ],
   "source": [
    "123250/124962"
   ]
  },
  {
   "cell_type": "code",
   "execution_count": null,
   "metadata": {},
   "outputs": [],
   "source": [
    "super(CaptionEncoder, self).__init__()\n",
    "        self.embed = nn.Embedding(vocab_size, embed_dim)\n",
    "        self.lstm = nn.LSTM(embed_dim, hidden_dim)\n",
    "        \n",
    "        self.color_embed = nn.Linear(color_in_dim, color_dim)"
   ]
  },
  {
   "cell_type": "code",
   "execution_count": null,
   "metadata": {},
   "outputs": [],
   "source": [
    "class ColorEncoder(nn.Module):\n",
    "    \n",
    "    def __init__(self, color_in_dim, color_dim):\n",
    "        super(ColorEncoder, self).__init__()\n",
    "        self.color_embed = nn.Linear(color_in_dim, color_dim)\n",
    "        self.color_lstm = nn.LSTM(color_dim, hidden_dim)\n",
    "\n",
    "    def forward(self, colors, color_states):\n",
    "        colors_embed = self.color_embed(colors)\n",
    "        color_outpu, (hn, cn) = self.color_lstm(colors_embed, color_states)\n",
    "        # target is last - return context representation\n",
    "        return cn\n",
    "\n",
    "class Speaker(nn.Module):\n",
    "    \n",
    "    def __init__(self, color_in_dim, color_dim, vocab_size, embed_dim, speaker_hidden_dim):\n",
    "        super(Speaker, self).__init__()\n",
    "        \n",
    "        self.color_encoder = ColorEncoder(color_in_dim, color_dim)\n",
    "        self.embed = nn.Embedding(vocab_size, embed_dim)\n",
    "        self.speaker_lstm = nn.LSTM(embed_dim + color_dim, speaker_hidden_dim)\n",
    "        \n",
    "    def forward(self, colors, captions, color_states, caption_states):\n",
    "        \n",
    "        color_rep = self.color_encoder(colors, color_states)\n",
    "        \n",
    "        \n",
    "        \n",
    "        "
   ]
  },
  {
   "cell_type": "markdown",
   "metadata": {},
   "source": [
    "Let's try this again...this time more similar to how Will did it in his actual code:"
   ]
  },
  {
   "cell_type": "code",
   "execution_count": 241,
   "metadata": {},
   "outputs": [],
   "source": [
    "# ok, now let's define the model\n",
    "\n",
    "class CaptionEncoder(nn.Module):\n",
    "    \n",
    "    def __init__(self, embed_dim, hidden_dim, vocab_size, color_in_dim, color_dim):\n",
    "        \"\"\"\n",
    "        embed_dim = hidden_dim = 100\n",
    "        \n",
    "        All the options can be found here: https://github.com/futurulus/colors-in-context/blob/master/models/l0.config.json\n",
    "        \"\"\"\n",
    "        super(CaptionEncoder, self).__init__()\n",
    "        self.embed = nn.Embedding(vocab_size, embed_dim)\n",
    "        \n",
    "        # should initialize bias to 0: https://github.com/futurulus/colors-in-context/blob/2e7b830668cd039830154e7e8f211c6d4415d30f/listener.py#L383\n",
    "        \n",
    "        # √ he also DOESN'T use dropout for the base listener \n",
    "        \n",
    "        # also non-linearity is \"leaky_rectify\" - I can't implement this without rewriting lstm :(, so I'm just going\n",
    "        # to hope this isn't a problem\n",
    "        \n",
    "        # √ also LSTM is bidirectional (https://github.com/futurulus/colors-in-context/blob/2e7b830668cd039830154e7e8f211c6d4415d30f/listener.py#L713)\n",
    "\n",
    "        self.lstm = nn.LSTM(embed_dim, hidden_dim, bidirectional=True)\n",
    "        \n",
    "        self.mean = nn.Linear(2*hidden_dim, color_dim)\n",
    "        # covariance matrix is square, so we initialize it with color_dim^2 dimensions\n",
    "        # we also initialize the bias to be the identity\n",
    "        covar_dim = color_dim*color_dim\n",
    "        self.covariance = nn.Linear(2*hidden_dim, covar_dim)\n",
    "        self.covariance.bias.data = torch.tensor(np.eye(color_dim), dtype=torch.float).flatten()\n",
    "        self.logsoftmax = nn.LogSoftmax(dim=0)\n",
    "\n",
    "        self.color_dim = color_dim\n",
    "        self.hidden_dim = hidden_dim\n",
    "        \n",
    "    def forward(self, caption, states, colors):\n",
    "        embeddings = self.embed(caption)\n",
    "        output, (hn, cn) = self.lstm(embeddings, states)\n",
    "        \n",
    "        # we only care about last output\n",
    "        output = output[-1].view(1, -1)\n",
    "        \n",
    "        output_mean = self.mean(output)[0]\n",
    "        output_covariance = self.covariance(output)[0]\n",
    "        covar_matrix = output_covariance.reshape(-1, self.color_dim) # make it a square matrix again\n",
    "        \n",
    "        \n",
    "        # now compute score: -(f-mu)^T Sigma (f-mu)\n",
    "        colors = colors.transpose(0, 1)\n",
    "        output_mean = output_mean.repeat(3,1)\n",
    "        diff_from_mean = colors - output_mean\n",
    "        scores = torch.matmul(diff_from_mean, covar_matrix)\n",
    "        scores = torch.matmul(scores, diff_from_mean.transpose(0,1))\n",
    "        scores = -torch.diag(scores)\n",
    "        distribution = self.logsoftmax(scores)\n",
    "        return distribution, output_mean, covar_matrix\n",
    "    \n",
    "    def init_hidden_and_context(self):\n",
    "        # first 2 for each direction\n",
    "        return (torch.zeros(2, 1, self.hidden_dim),\n",
    "                torch.zeros(2, 1, self.hidden_dim))\n",
    "        \n",
    "               "
   ]
  },
  {
   "cell_type": "code",
   "execution_count": null,
   "metadata": {},
   "outputs": [],
   "source": []
  }
 ],
 "metadata": {
  "kernelspec": {
   "display_name": "Python 3",
   "language": "python",
   "name": "python3"
  },
  "language_info": {
   "codemirror_mode": {
    "name": "ipython",
    "version": 3
   },
   "file_extension": ".py",
   "mimetype": "text/x-python",
   "name": "python",
   "nbconvert_exporter": "python",
   "pygments_lexer": "ipython3",
   "version": "3.6.8"
  }
 },
 "nbformat": 4,
 "nbformat_minor": 2
}
