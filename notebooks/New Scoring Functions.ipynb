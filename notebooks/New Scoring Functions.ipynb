{
 "cells": [
  {
   "cell_type": "code",
   "execution_count": 50,
   "metadata": {},
   "outputs": [],
   "source": [
    "# so we can use packages from parent directory\n",
    "import sys\n",
    "sys.path.append(\"..\")"
   ]
  },
  {
   "cell_type": "code",
   "execution_count": 51,
   "metadata": {},
   "outputs": [],
   "source": [
    "import torch\n",
    "import torch.nn as nn\n",
    "import numpy as np\n",
    "from monroe_data import MonroeData, MonroeDataEntry, Color # last two for reading pkl file\n",
    "import caption_featurizers\n",
    "from color_featurizers import ColorFeaturizer, color_phi_fourier\n",
    "import importlib\n",
    "import models\n",
    "importlib.reload(models)\n",
    "from models import LiteralListener, LiteralSpeaker, PragmaticListener, CaptionEncoder, CaptionGenerator, PytorchModel, ColorEncoder\n",
    "# from evaluation import score_model\n",
    "from experiment import FeatureHandler#, evaluate_model\n",
    "from scipy import stats # for pearsonr, spearmanr"
   ]
  },
  {
   "cell_type": "code",
   "execution_count": 52,
   "metadata": {},
   "outputs": [],
   "source": [
    "train_data = MonroeData(\"../data/csv/train_corpus_monroe.csv\", \"../data/entries/train_entries_monroe.pkl\")\n",
    "dev_data = MonroeData(\"../data/csv/dev_corpus_monroe.csv\", \"../data/entries/dev_entries_monroe.pkl\")"
   ]
  },
  {
   "cell_type": "code",
   "execution_count": 53,
   "metadata": {},
   "outputs": [],
   "source": [
    "eval_df = None\n",
    "def score_model(test_data, scores, regressor=stats.pearsonr):\n",
    "    \"\"\"\n",
    "    Assume scores are in the same order as the test data (i.e. 0th row is 0th score) and calculates a regression\n",
    "    between the scores of the individual games and the scores from the model\n",
    "    \"\"\"\n",
    "    global eval_df\n",
    "    relevant_columns = [\"gameid\", \"roundNum\", \"numOutcome\", \"workerid_uniq\", \"condition\"]\n",
    "#     if speaker == Speaker.BY_WORKER_ID:\n",
    "#         relevant_columns.append(Speaker.BY_WORKER_ID.value)\n",
    "\n",
    "# #     if score == Score.COMPOSITE:\n",
    "#         # no support for this yet but probably also need:\n",
    "#         relevant_columns.extend([\"contents\", \"clkTime\", \"msgTime\"])\n",
    "\n",
    "    eval_df = test_data.data[relevant_columns].copy()\n",
    "    eval_df[\"model_scores\"] = scores # why we need scores to be in same order as rows\n",
    "\n",
    "    #true_scores = eval_df.groupby(\"gameid\").numOutcome.mean()\n",
    "    true_scores = eval_df.groupby(\"gameid\").numOutcome.mean()\n",
    "\n",
    "\n",
    "#     if score == score.SIMPLE:\n",
    "#         # calculate scores as the mean of the number of successful utterances\n",
    "#         # a speaker has\n",
    "#         true_scores = eval_df.groupby(speaker.value).numOutcome.mean()\n",
    "#     else:\n",
    "#         true_scores = calculate_scores(eval_df, score)\n",
    "\n",
    "    # calculate a model score\n",
    "    #model_scores = eval_df.groupby(\"gameid\").model_scores.mean()\n",
    "    model_scores = eval_df.groupby(\"gameid\").model_scores.mean()\n",
    "\n",
    "    result = regressor(true_scores, model_scores)\n",
    "    return result, true_scores, model_scores"
   ]
  },
  {
   "cell_type": "code",
   "execution_count": 54,
   "metadata": {},
   "outputs": [],
   "source": [
    "def evaluate_model(assess_data, feature_handler, model, predictions_to_scores, model_scorer=score_model,\n",
    "                    feature_handler_2=None, model_scorer_kwargs={}, accuracy=True):\n",
    "    assess_features = feature_handler.test_features() # ~6 sec\n",
    "    if feature_handler_2 != None:\n",
    "        assess_features_2 = feature_handler_2.test_features()\n",
    "        assess_features = list(zip(assess_features, assess_features_2))\n",
    "    assess_targets = feature_handler.test_targets()\n",
    "    model_outputs =  model.predict(assess_features)\n",
    "    model_scores = predictions_to_scores(model_outputs, assess_targets) # decide what the score we're going to use is\n",
    "    result, true_scores_grouped, model_scores_grouped = model_scorer(assess_data, model_scores, **model_scorer_kwargs)\n",
    "    print(result)\n",
    "\n",
    "    if accuracy: # also report accuracy\n",
    "        model_predictions = np.argmax(model_outputs, axis=1)\n",
    "        accuracy_val = sum(model_predictions == assess_targets) / len(assess_targets)\n",
    "        print(\"Accuracy:\", accuracy_val)\n",
    "        \n",
    "    return assess_targets, model_outputs, model_scores, true_scores_grouped, model_scores_grouped"
   ]
  },
  {
   "cell_type": "code",
   "execution_count": 55,
   "metadata": {},
   "outputs": [
    {
     "name": "stdout",
     "output_type": "stream",
     "text": [
      "Initializing featurizers\n",
      "Obtaining training features\n",
      "Initializing model\n"
     ]
    }
   ],
   "source": [
    "# Literal Listener v2\n",
    "\n",
    "# Initializing featurizers\n",
    "print(\"Initializing featurizers\")\n",
    "caption_phi = caption_featurizers.CaptionFeaturizer(tokenizer=caption_featurizers.EndingTokenizer) # Use with parameter files that end in `endings_tkn` - using endings tokenizer to separate endings like \"ish\" and \"er\"\n",
    "# caption_phi = caption_featurizers.CaptionFeaturizer(tokenizer=caption_featurizers.WhitespaceTokenizer) # Use with other paremter files\n",
    "\n",
    "color_phi = ColorFeaturizer(color_phi_fourier, \"rgb\", normalized=True)\n",
    "\n",
    "# Now we have a different target function, because we want to predict what the listener selected\n",
    "def listener_click_target(data_entry, color_perm):\n",
    "    # color_perm because colors are randomized\n",
    "    return np.where(color_perm==data_entry.click_idx)[0]\n",
    "\n",
    "feature_handler = FeatureHandler(train_data, dev_data, caption_phi, color_phi, target_fn=listener_click_target)\n",
    "\n",
    "print(\"Obtaining training features\") # get features even if you're runnning the pretrained model for example\n",
    "train_features = feature_handler.train_features()\n",
    "train_targets = feature_handler.train_targets()\n",
    "\n",
    "print(\"Initializing model\")\n",
    "# model parameters\n",
    "embed_dim = 100; hidden_dim = 100; color_dim= 54; # hard coded for example - 54 comes from color fourier phi\n",
    "\n",
    "\n"
   ]
  },
  {
   "cell_type": "code",
   "execution_count": 56,
   "metadata": {
    "scrolled": true
   },
   "outputs": [
    {
     "name": "stdout",
     "output_type": "stream",
     "text": [
      "Loading pretrained model\n"
     ]
    }
   ],
   "source": [
    "train = False\n",
    "model_file_v2 = \"../model/literal_listener_listener_click_5epoch_endings_tkn.params\"\n",
    "\n",
    "model_v2 = LiteralListener(CaptionEncoder, num_epochs=30)\n",
    "model_v2.init_model(embed_dim = embed_dim, hidden_dim = hidden_dim, vocab_size = feature_handler.caption_featurizer.caption_indexer.size,\n",
    "             color_dim = color_dim)\n",
    "\n",
    "if train:\n",
    "    print(\"Training model and saving to {}:\".format(model_file_v2))\n",
    "    model_v2.fit(train_features, train_targets)\n",
    "    model_v2.save_model(model_file_v2)\n",
    "else:\n",
    "    print(\"Loading pretrained model\")\n",
    "    model_v2.load_model(model_file_v2)"
   ]
  },
  {
   "cell_type": "code",
   "execution_count": 57,
   "metadata": {},
   "outputs": [
    {
     "name": "stdout",
     "output_type": "stream",
     "text": [
      "Evaluating model - Literal Listener Listener Click\t Target: speaker target\n",
      "(0.2650323585934019, 1.7015255138608701e-06)\n",
      "Accuracy: 0.711104020421187\n"
     ]
    }
   ],
   "source": [
    "# accuracy doesn't matter too much here bc it's trained to pick listener click and tested against speaker target\n",
    "print(\"Evaluating model - Literal Listener Listener Click\\t Target: speaker target\")\n",
    "output_to_score = lambda model_outputs, targets: np.exp(model_outputs[np.arange(len(model_outputs)), targets]) # get the model's predicted probablity at each target index and use that as the score\n",
    "\n",
    "# we want to score based on the model's predictions at the TARGET indices not listener clicked indices,\n",
    "# so we change the feature_handler's target function to do that:\n",
    "feature_handler.target_fn = lambda data_entry, color_perm: np.where(color_perm == data_entry.target_idx)[0]\n",
    "assess_targets_tgt_v2, model_outputs_v2, model_scores_v2, true_scores_grouped_v2, model_scores_grouped_v2 =\\\n",
    "    evaluate_model(dev_data, feature_handler, model_v2, output_to_score, score_model)"
   ]
  },
  {
   "cell_type": "code",
   "execution_count": 58,
   "metadata": {},
   "outputs": [],
   "source": [
    "import matplotlib.pyplot as plt"
   ]
  },
  {
   "cell_type": "code",
   "execution_count": 59,
   "metadata": {},
   "outputs": [],
   "source": [
    "%matplotlib inline"
   ]
  },
  {
   "cell_type": "code",
   "execution_count": 60,
   "metadata": {},
   "outputs": [
    {
     "data": {
      "text/plain": [
       "<matplotlib.collections.PathCollection at 0x1c36f8bc18>"
      ]
     },
     "execution_count": 60,
     "metadata": {},
     "output_type": "execute_result"
    },
    {
     "data": {
      "image/png": "[encoded data removed]",
      "text/plain": [
       "<Figure size 432x288 with 1 Axes>"
      ]
     },
     "metadata": {
      "needs_background": "light"
     },
     "output_type": "display_data"
    }
   ],
   "source": [
    "plt.scatter(true_scores_grouped_v2, model_scores_grouped_v2)"
   ]
  },
  {
   "cell_type": "code",
   "execution_count": 61,
   "metadata": {},
   "outputs": [],
   "source": [
    "eval_scores_split = eval_df.groupby(['gameid', 'condition']).mean()"
   ]
  },
  {
   "cell_type": "code",
   "execution_count": 62,
   "metadata": {
    "scrolled": true
   },
   "outputs": [
    {
     "data": {
      "text/plain": [
       "gameid  condition\n",
       "0022-7  close        0.813612\n",
       "        far          0.929275\n",
       "        split        0.567988\n",
       "0069-8  close        0.521237\n",
       "        far          0.584805\n",
       "        split        0.525920\n",
       "0070-1  close        0.545423\n",
       "        far          0.753305\n",
       "        split        0.556865\n",
       "0106-1  close        0.748833\n",
       "        far          0.717459\n",
       "        split        0.736616\n",
       "0109-c  close        0.694058\n",
       "        far          0.857155\n",
       "        split        0.713305\n",
       "0137-f  close        0.518619\n",
       "        far          0.717240\n",
       "        split        0.479292\n",
       "0197-6  close        0.681760\n",
       "        far          0.745540\n",
       "        split        0.495115\n",
       "0217-e  close        0.641886\n",
       "        far          0.812750\n",
       "        split        0.689842\n",
       "0219-7  close        0.574137\n",
       "        far          0.700613\n",
       "        split        0.809212\n",
       "0239-7  close        0.770146\n",
       "        far          0.917770\n",
       "        split        0.653858\n",
       "                       ...   \n",
       "9709-7  close        0.712712\n",
       "        far          0.952312\n",
       "        split        0.833640\n",
       "9714-3  close        0.523966\n",
       "        far          0.653640\n",
       "        split        0.608723\n",
       "9719-9  close        0.822932\n",
       "        far          0.743607\n",
       "        split        0.696320\n",
       "9776-7  close        0.685378\n",
       "        far          0.839241\n",
       "        split        0.802012\n",
       "9841-e  close        0.669812\n",
       "        far          0.719186\n",
       "        split        0.696088\n",
       "9850-2  close        0.418902\n",
       "        far          0.757073\n",
       "        split        0.645586\n",
       "9922-e  close        0.649617\n",
       "        far          0.721237\n",
       "        split        0.704899\n",
       "9946-1  close        0.675925\n",
       "        far          0.822578\n",
       "        split        0.777703\n",
       "9947-c  close        0.611027\n",
       "        far          0.777959\n",
       "        split        0.730978\n",
       "9973-5  close        0.446396\n",
       "        far          0.694445\n",
       "        split        0.679751\n",
       "Name: model_scores, Length: 951, dtype: float64"
      ]
     },
     "execution_count": 62,
     "metadata": {},
     "output_type": "execute_result"
    }
   ],
   "source": [
    "eval_scores_split['model_scores']"
   ]
  },
  {
   "cell_type": "code",
   "execution_count": 63,
   "metadata": {
    "scrolled": true
   },
   "outputs": [
    {
     "data": {
      "text/plain": [
       "gameid  condition\n",
       "0022-7  close        0.933333\n",
       "        far          1.000000\n",
       "        split        0.882353\n",
       "0069-8  close        1.000000\n",
       "        far          1.000000\n",
       "        split        0.882353\n",
       "0070-1  close        0.687500\n",
       "        far          0.941176\n",
       "        split        0.705882\n",
       "0106-1  close        0.937500\n",
       "        far          0.941176\n",
       "        split        0.764706\n",
       "0109-c  close        0.882353\n",
       "        far          1.000000\n",
       "        split        1.000000\n",
       "0137-f  close        0.882353\n",
       "        far          0.941176\n",
       "        split        0.937500\n",
       "0197-6  close        0.875000\n",
       "        far          1.000000\n",
       "        split        0.882353\n",
       "0217-e  close        1.000000\n",
       "        far          1.000000\n",
       "        split        1.000000\n",
       "0219-7  close        0.647059\n",
       "        far          1.000000\n",
       "        split        0.941176\n",
       "0239-7  close        0.941176\n",
       "        far          1.000000\n",
       "        split        1.000000\n",
       "                       ...   \n",
       "9709-7  close        0.941176\n",
       "        far          1.000000\n",
       "        split        0.882353\n",
       "9714-3  close        0.705882\n",
       "        far          1.000000\n",
       "        split        0.800000\n",
       "9719-9  close        0.875000\n",
       "        far          1.000000\n",
       "        split        1.000000\n",
       "9776-7  close        0.882353\n",
       "        far          1.000000\n",
       "        split        1.000000\n",
       "9841-e  close        0.764706\n",
       "        far          1.000000\n",
       "        split        0.750000\n",
       "9850-2  close        0.882353\n",
       "        far          1.000000\n",
       "        split        0.941176\n",
       "9922-e  close        0.647059\n",
       "        far          0.941176\n",
       "        split        0.875000\n",
       "9946-1  close        0.823529\n",
       "        far          1.000000\n",
       "        split        0.875000\n",
       "9947-c  close        0.812500\n",
       "        far          1.000000\n",
       "        split        0.937500\n",
       "9973-5  close        0.941176\n",
       "        far          0.882353\n",
       "        split        1.000000\n",
       "Name: numOutcome, Length: 951, dtype: float64"
      ]
     },
     "execution_count": 63,
     "metadata": {},
     "output_type": "execute_result"
    }
   ],
   "source": [
    "eval_scores_split['numOutcome']"
   ]
  },
  {
   "cell_type": "code",
   "execution_count": 64,
   "metadata": {},
   "outputs": [
    {
     "data": {
      "text/plain": [
       "array(['close', 'far', 'split', 'close', 'far', 'split', 'close', 'far',\n",
       "       'split', 'close', 'far', 'split', 'close', 'far', 'split', 'close',\n",
       "       'far', 'split', 'close', 'far', 'split', 'close', 'far', 'split',\n",
       "       'close', 'far', 'split', 'close', 'far', 'split', 'close', 'far',\n",
       "       'split', 'close', 'far', 'split', 'close', 'far', 'split', 'close',\n",
       "       'far', 'split', 'close', 'far', 'split', 'close', 'far', 'split',\n",
       "       'close', 'far', 'split', 'close', 'far', 'split', 'close', 'far',\n",
       "       'split', 'close', 'far', 'split', 'close', 'far', 'split', 'close',\n",
       "       'far', 'split', 'close', 'far', 'split', 'close', 'far', 'split',\n",
       "       'close', 'far', 'split', 'close', 'far', 'split', 'close', 'far',\n",
       "       'split', 'close', 'far', 'split', 'close', 'far', 'split', 'close',\n",
       "       'far', 'split', 'close', 'far', 'split', 'close', 'far', 'split',\n",
       "       'close', 'far', 'split', 'close', 'far', 'split', 'close', 'far',\n",
       "       'split', 'close', 'far', 'split', 'close', 'far', 'split', 'close',\n",
       "       'far', 'split', 'close', 'far', 'split', 'close', 'far', 'split',\n",
       "       'close', 'far', 'split', 'close', 'far', 'split', 'close', 'far',\n",
       "       'split', 'close', 'far', 'split', 'close', 'far', 'split', 'close',\n",
       "       'far', 'split', 'close', 'far', 'split', 'close', 'far', 'split',\n",
       "       'close', 'far', 'split', 'close', 'far', 'split', 'close', 'far',\n",
       "       'split', 'close', 'far', 'split', 'close', 'far', 'split', 'close',\n",
       "       'far', 'split', 'close', 'far', 'split', 'close', 'far', 'split',\n",
       "       'close', 'far', 'split', 'close', 'far', 'split', 'close', 'far',\n",
       "       'split', 'close', 'far', 'split', 'close', 'far', 'split', 'close',\n",
       "       'far', 'split', 'close', 'far', 'split', 'close', 'far', 'split',\n",
       "       'close', 'far', 'split', 'close', 'far', 'split', 'close', 'far',\n",
       "       'split', 'close', 'far', 'split', 'close', 'far', 'split', 'close',\n",
       "       'far', 'split', 'close', 'far', 'split', 'close', 'far', 'split',\n",
       "       'close', 'far', 'split', 'close', 'far', 'split', 'close', 'far',\n",
       "       'split', 'close', 'far', 'split', 'close', 'far', 'split', 'close',\n",
       "       'far', 'split', 'close', 'far', 'split', 'close', 'far', 'split',\n",
       "       'close', 'far', 'split', 'close', 'far', 'split', 'close', 'far',\n",
       "       'split', 'close', 'far', 'split', 'close', 'far', 'split', 'close',\n",
       "       'far', 'split', 'close', 'far', 'split', 'close', 'far', 'split',\n",
       "       'close', 'far', 'split', 'close', 'far', 'split', 'close', 'far',\n",
       "       'split', 'close', 'far', 'split', 'close', 'far', 'split', 'close',\n",
       "       'far', 'split', 'close', 'far', 'split', 'close', 'far', 'split',\n",
       "       'close', 'far', 'split', 'close', 'far', 'split', 'close', 'far',\n",
       "       'split', 'close', 'far', 'split', 'close', 'far', 'split', 'close',\n",
       "       'far', 'split', 'close', 'far', 'split', 'close', 'far', 'split',\n",
       "       'close', 'far', 'split', 'close', 'far', 'split', 'close', 'far',\n",
       "       'split', 'close', 'far', 'split', 'close', 'far', 'split', 'close',\n",
       "       'far', 'split', 'close', 'far', 'split', 'close', 'far', 'split',\n",
       "       'close', 'far', 'split', 'close', 'far', 'split', 'close', 'far',\n",
       "       'split', 'close', 'far', 'split', 'close', 'far', 'split', 'close',\n",
       "       'far', 'split', 'close', 'far', 'split', 'close', 'far', 'split',\n",
       "       'close', 'far', 'split', 'close', 'far', 'split', 'close', 'far',\n",
       "       'split', 'close', 'far', 'split', 'close', 'far', 'split', 'close',\n",
       "       'far', 'split', 'close', 'far', 'split', 'close', 'far', 'split',\n",
       "       'close', 'far', 'split', 'close', 'far', 'split', 'close', 'far',\n",
       "       'split', 'close', 'far', 'split', 'close', 'far', 'split', 'close',\n",
       "       'far', 'split', 'close', 'far', 'split', 'close', 'far', 'split',\n",
       "       'close', 'far', 'split', 'close', 'far', 'split', 'close', 'far',\n",
       "       'split', 'close', 'far', 'split', 'close', 'far', 'split', 'close',\n",
       "       'far', 'split', 'close', 'far', 'split', 'close', 'far', 'split',\n",
       "       'close', 'far', 'split', 'close', 'far', 'split', 'close', 'far',\n",
       "       'split', 'close', 'far', 'split', 'close', 'far', 'split', 'close',\n",
       "       'far', 'split', 'close', 'far', 'split', 'close', 'far', 'split',\n",
       "       'close', 'far', 'split', 'close', 'far', 'split', 'close', 'far',\n",
       "       'split', 'close', 'far', 'split', 'close', 'far', 'split', 'close',\n",
       "       'far', 'split', 'close', 'far', 'split', 'close', 'far', 'split',\n",
       "       'close', 'far', 'split', 'close', 'far', 'split', 'close', 'far',\n",
       "       'split', 'close', 'far', 'split', 'close', 'far', 'split', 'close',\n",
       "       'far', 'split', 'close', 'far', 'split', 'close', 'far', 'split',\n",
       "       'close', 'far', 'split', 'close', 'far', 'split', 'close', 'far',\n",
       "       'split', 'close', 'far', 'split', 'close', 'far', 'split', 'close',\n",
       "       'far', 'split', 'close', 'far', 'split', 'close', 'far', 'split',\n",
       "       'close', 'far', 'split', 'close', 'far', 'split', 'close', 'far',\n",
       "       'split', 'close', 'far', 'split', 'close', 'far', 'split', 'close',\n",
       "       'far', 'split', 'close', 'far', 'split', 'close', 'far', 'split',\n",
       "       'close', 'far', 'split', 'close', 'far', 'split', 'close', 'far',\n",
       "       'split', 'close', 'far', 'split', 'close', 'far', 'split', 'close',\n",
       "       'far', 'split', 'close', 'far', 'split', 'close', 'far', 'split',\n",
       "       'close', 'far', 'split', 'close', 'far', 'split', 'close', 'far',\n",
       "       'split', 'close', 'far', 'split', 'close', 'far', 'split', 'close',\n",
       "       'far', 'split', 'close', 'far', 'split', 'close', 'far', 'split',\n",
       "       'close', 'far', 'split', 'close', 'far', 'split', 'close', 'far',\n",
       "       'split', 'close', 'far', 'split', 'close', 'far', 'split', 'close',\n",
       "       'far', 'split', 'close', 'far', 'split', 'close', 'far', 'split',\n",
       "       'close', 'far', 'split', 'close', 'far', 'split', 'close', 'far',\n",
       "       'split', 'close', 'far', 'split', 'close', 'far', 'split', 'close',\n",
       "       'far', 'split', 'close', 'far', 'split', 'close', 'far', 'split',\n",
       "       'close', 'far', 'split', 'close', 'far', 'split', 'close', 'far',\n",
       "       'split', 'close', 'far', 'split', 'close', 'far', 'split', 'close',\n",
       "       'far', 'split', 'close', 'far', 'split', 'close', 'far', 'split',\n",
       "       'close', 'far', 'split', 'close', 'far', 'split', 'close', 'far',\n",
       "       'split', 'close', 'far', 'split', 'close', 'far', 'split', 'close',\n",
       "       'far', 'split', 'close', 'far', 'split', 'close', 'far', 'split',\n",
       "       'close', 'far', 'split', 'close', 'far', 'split', 'close', 'far',\n",
       "       'split', 'close', 'far', 'split', 'close', 'far', 'split', 'close',\n",
       "       'far', 'split', 'close', 'far', 'split', 'close', 'far', 'split',\n",
       "       'close', 'far', 'split', 'close', 'far', 'split', 'close', 'far',\n",
       "       'split', 'close', 'far', 'split', 'close', 'far', 'split', 'close',\n",
       "       'far', 'split', 'close', 'far', 'split', 'close', 'far', 'split',\n",
       "       'close', 'far', 'split', 'close', 'far', 'split', 'close', 'far',\n",
       "       'split', 'close', 'far', 'split', 'close', 'far', 'split', 'close',\n",
       "       'far', 'split', 'close', 'far', 'split', 'close', 'far', 'split',\n",
       "       'close', 'far', 'split', 'close', 'far', 'split', 'close', 'far',\n",
       "       'split', 'close', 'far', 'split', 'close', 'far', 'split', 'close',\n",
       "       'far', 'split', 'close', 'far', 'split', 'close', 'far', 'split',\n",
       "       'close', 'far', 'split', 'close', 'far', 'split', 'close', 'far',\n",
       "       'split', 'close', 'far', 'split', 'close', 'far', 'split', 'close',\n",
       "       'far', 'split', 'close', 'far', 'split', 'close', 'far', 'split',\n",
       "       'close', 'far', 'split', 'close', 'far', 'split', 'close', 'far',\n",
       "       'split', 'close', 'far', 'split', 'close', 'far', 'split', 'close',\n",
       "       'far', 'split', 'close', 'far', 'split', 'close', 'far', 'split',\n",
       "       'close', 'far', 'split', 'close', 'far', 'split', 'close', 'far',\n",
       "       'split', 'close', 'far', 'split', 'close', 'far', 'split', 'close',\n",
       "       'far', 'split', 'close', 'far', 'split', 'close', 'far', 'split',\n",
       "       'close', 'far', 'split', 'close', 'far', 'split', 'close', 'far',\n",
       "       'split', 'close', 'far', 'split', 'close', 'far', 'split', 'close',\n",
       "       'far', 'split', 'close', 'far', 'split', 'close', 'far', 'split',\n",
       "       'close', 'far', 'split', 'close', 'far', 'split', 'close', 'far',\n",
       "       'split', 'close', 'far', 'split', 'close', 'far', 'split', 'close',\n",
       "       'far', 'split', 'close', 'far', 'split', 'close', 'far', 'split',\n",
       "       'close', 'far', 'split', 'close', 'far', 'split', 'close', 'far',\n",
       "       'split', 'close', 'far', 'split', 'close', 'far', 'split', 'close',\n",
       "       'far', 'split', 'close', 'far', 'split', 'close', 'far', 'split',\n",
       "       'close', 'far', 'split', 'close', 'far', 'split', 'close', 'far',\n",
       "       'split', 'close', 'far', 'split', 'close', 'far', 'split'],\n",
       "      dtype=object)"
      ]
     },
     "execution_count": 64,
     "metadata": {},
     "output_type": "execute_result"
    }
   ],
   "source": [
    "eval_scores_split.index.get_level_values(1).values"
   ]
  },
  {
   "cell_type": "code",
   "execution_count": 65,
   "metadata": {},
   "outputs": [],
   "source": [
    "colors = []\n",
    "for cond in eval_scores_split.index.get_level_values(1).values:\n",
    "    if cond == 'close':\n",
    "        colors.append('red')\n",
    "    elif cond == 'split':\n",
    "        colors.append('blue')\n",
    "    else:\n",
    "        colors.append('green')"
   ]
  },
  {
   "cell_type": "code",
   "execution_count": 66,
   "metadata": {},
   "outputs": [
    {
     "data": {
      "image/png": "[encoded data removed]",
      "text/plain": [
       "<Figure size 432x288 with 1 Axes>"
      ]
     },
     "metadata": {
      "needs_background": "light"
     },
     "output_type": "display_data"
    }
   ],
   "source": [
    "plt.scatter(eval_scores_split['numOutcome'], eval_scores_split['model_scores'], c=colors)\n",
    "plt.show()"
   ]
  },
  {
   "cell_type": "code",
   "execution_count": 68,
   "metadata": {},
   "outputs": [
    {
     "ename": "KeyError",
     "evalue": "'condition'",
     "output_type": "error",
     "traceback": [
      "\u001b[0;31m---------------------------------------------------------------------------\u001b[0m",
      "\u001b[0;31mKeyError\u001b[0m                                  Traceback (most recent call last)",
      "\u001b[0;32m//anaconda/envs/nlu/lib/python3.7/site-packages/pandas/core/indexes/base.py\u001b[0m in \u001b[0;36mget_loc\u001b[0;34m(self, key, method, tolerance)\u001b[0m\n\u001b[1;32m   3077\u001b[0m             \u001b[0;32mtry\u001b[0m\u001b[0;34m:\u001b[0m\u001b[0;34m\u001b[0m\u001b[0;34m\u001b[0m\u001b[0m\n\u001b[0;32m-> 3078\u001b[0;31m                 \u001b[0;32mreturn\u001b[0m \u001b[0mself\u001b[0m\u001b[0;34m.\u001b[0m\u001b[0m_engine\u001b[0m\u001b[0;34m.\u001b[0m\u001b[0mget_loc\u001b[0m\u001b[0;34m(\u001b[0m\u001b[0mkey\u001b[0m\u001b[0;34m)\u001b[0m\u001b[0;34m\u001b[0m\u001b[0;34m\u001b[0m\u001b[0m\n\u001b[0m\u001b[1;32m   3079\u001b[0m             \u001b[0;32mexcept\u001b[0m \u001b[0mKeyError\u001b[0m\u001b[0;34m:\u001b[0m\u001b[0;34m\u001b[0m\u001b[0;34m\u001b[0m\u001b[0m\n",
      "\u001b[0;32mpandas/_libs/index.pyx\u001b[0m in \u001b[0;36mpandas._libs.index.IndexEngine.get_loc\u001b[0;34m()\u001b[0m\n",
      "\u001b[0;32mpandas/_libs/index.pyx\u001b[0m in \u001b[0;36mpandas._libs.index.IndexEngine.get_loc\u001b[0;34m()\u001b[0m\n",
      "\u001b[0;32mpandas/_libs/hashtable_class_helper.pxi\u001b[0m in \u001b[0;36mpandas._libs.hashtable.PyObjectHashTable.get_item\u001b[0;34m()\u001b[0m\n",
      "\u001b[0;32mpandas/_libs/hashtable_class_helper.pxi\u001b[0m in \u001b[0;36mpandas._libs.hashtable.PyObjectHashTable.get_item\u001b[0;34m()\u001b[0m\n",
      "\u001b[0;31mKeyError\u001b[0m: 'condition'",
      "\nDuring handling of the above exception, another exception occurred:\n",
      "\u001b[0;31mKeyError\u001b[0m                                  Traceback (most recent call last)",
      "\u001b[0;32m<ipython-input-68-74718b821900>\u001b[0m in \u001b[0;36m<module>\u001b[0;34m\u001b[0m\n\u001b[0;32m----> 1\u001b[0;31m \u001b[0meval_scores_split\u001b[0m\u001b[0;34m[\u001b[0m\u001b[0;34m'condition'\u001b[0m\u001b[0;34m]\u001b[0m\u001b[0;34m\u001b[0m\u001b[0;34m\u001b[0m\u001b[0m\n\u001b[0m",
      "\u001b[0;32m//anaconda/envs/nlu/lib/python3.7/site-packages/pandas/core/frame.py\u001b[0m in \u001b[0;36m__getitem__\u001b[0;34m(self, key)\u001b[0m\n\u001b[1;32m   2686\u001b[0m             \u001b[0;32mreturn\u001b[0m \u001b[0mself\u001b[0m\u001b[0;34m.\u001b[0m\u001b[0m_getitem_multilevel\u001b[0m\u001b[0;34m(\u001b[0m\u001b[0mkey\u001b[0m\u001b[0;34m)\u001b[0m\u001b[0;34m\u001b[0m\u001b[0;34m\u001b[0m\u001b[0m\n\u001b[1;32m   2687\u001b[0m         \u001b[0;32melse\u001b[0m\u001b[0;34m:\u001b[0m\u001b[0;34m\u001b[0m\u001b[0;34m\u001b[0m\u001b[0m\n\u001b[0;32m-> 2688\u001b[0;31m             \u001b[0;32mreturn\u001b[0m \u001b[0mself\u001b[0m\u001b[0;34m.\u001b[0m\u001b[0m_getitem_column\u001b[0m\u001b[0;34m(\u001b[0m\u001b[0mkey\u001b[0m\u001b[0;34m)\u001b[0m\u001b[0;34m\u001b[0m\u001b[0;34m\u001b[0m\u001b[0m\n\u001b[0m\u001b[1;32m   2689\u001b[0m \u001b[0;34m\u001b[0m\u001b[0m\n\u001b[1;32m   2690\u001b[0m     \u001b[0;32mdef\u001b[0m \u001b[0m_getitem_column\u001b[0m\u001b[0;34m(\u001b[0m\u001b[0mself\u001b[0m\u001b[0;34m,\u001b[0m \u001b[0mkey\u001b[0m\u001b[0;34m)\u001b[0m\u001b[0;34m:\u001b[0m\u001b[0;34m\u001b[0m\u001b[0;34m\u001b[0m\u001b[0m\n",
      "\u001b[0;32m//anaconda/envs/nlu/lib/python3.7/site-packages/pandas/core/frame.py\u001b[0m in \u001b[0;36m_getitem_column\u001b[0;34m(self, key)\u001b[0m\n\u001b[1;32m   2693\u001b[0m         \u001b[0;31m# get column\u001b[0m\u001b[0;34m\u001b[0m\u001b[0;34m\u001b[0m\u001b[0;34m\u001b[0m\u001b[0m\n\u001b[1;32m   2694\u001b[0m         \u001b[0;32mif\u001b[0m \u001b[0mself\u001b[0m\u001b[0;34m.\u001b[0m\u001b[0mcolumns\u001b[0m\u001b[0;34m.\u001b[0m\u001b[0mis_unique\u001b[0m\u001b[0;34m:\u001b[0m\u001b[0;34m\u001b[0m\u001b[0;34m\u001b[0m\u001b[0m\n\u001b[0;32m-> 2695\u001b[0;31m             \u001b[0;32mreturn\u001b[0m \u001b[0mself\u001b[0m\u001b[0;34m.\u001b[0m\u001b[0m_get_item_cache\u001b[0m\u001b[0;34m(\u001b[0m\u001b[0mkey\u001b[0m\u001b[0;34m)\u001b[0m\u001b[0;34m\u001b[0m\u001b[0;34m\u001b[0m\u001b[0m\n\u001b[0m\u001b[1;32m   2696\u001b[0m \u001b[0;34m\u001b[0m\u001b[0m\n\u001b[1;32m   2697\u001b[0m         \u001b[0;31m# duplicate columns & possible reduce dimensionality\u001b[0m\u001b[0;34m\u001b[0m\u001b[0;34m\u001b[0m\u001b[0;34m\u001b[0m\u001b[0m\n",
      "\u001b[0;32m//anaconda/envs/nlu/lib/python3.7/site-packages/pandas/core/generic.py\u001b[0m in \u001b[0;36m_get_item_cache\u001b[0;34m(self, item)\u001b[0m\n\u001b[1;32m   2487\u001b[0m         \u001b[0mres\u001b[0m \u001b[0;34m=\u001b[0m \u001b[0mcache\u001b[0m\u001b[0;34m.\u001b[0m\u001b[0mget\u001b[0m\u001b[0;34m(\u001b[0m\u001b[0mitem\u001b[0m\u001b[0;34m)\u001b[0m\u001b[0;34m\u001b[0m\u001b[0;34m\u001b[0m\u001b[0m\n\u001b[1;32m   2488\u001b[0m         \u001b[0;32mif\u001b[0m \u001b[0mres\u001b[0m \u001b[0;32mis\u001b[0m \u001b[0;32mNone\u001b[0m\u001b[0;34m:\u001b[0m\u001b[0;34m\u001b[0m\u001b[0;34m\u001b[0m\u001b[0m\n\u001b[0;32m-> 2489\u001b[0;31m             \u001b[0mvalues\u001b[0m \u001b[0;34m=\u001b[0m \u001b[0mself\u001b[0m\u001b[0;34m.\u001b[0m\u001b[0m_data\u001b[0m\u001b[0;34m.\u001b[0m\u001b[0mget\u001b[0m\u001b[0;34m(\u001b[0m\u001b[0mitem\u001b[0m\u001b[0;34m)\u001b[0m\u001b[0;34m\u001b[0m\u001b[0;34m\u001b[0m\u001b[0m\n\u001b[0m\u001b[1;32m   2490\u001b[0m             \u001b[0mres\u001b[0m \u001b[0;34m=\u001b[0m \u001b[0mself\u001b[0m\u001b[0;34m.\u001b[0m\u001b[0m_box_item_values\u001b[0m\u001b[0;34m(\u001b[0m\u001b[0mitem\u001b[0m\u001b[0;34m,\u001b[0m \u001b[0mvalues\u001b[0m\u001b[0;34m)\u001b[0m\u001b[0;34m\u001b[0m\u001b[0;34m\u001b[0m\u001b[0m\n\u001b[1;32m   2491\u001b[0m             \u001b[0mcache\u001b[0m\u001b[0;34m[\u001b[0m\u001b[0mitem\u001b[0m\u001b[0;34m]\u001b[0m \u001b[0;34m=\u001b[0m \u001b[0mres\u001b[0m\u001b[0;34m\u001b[0m\u001b[0;34m\u001b[0m\u001b[0m\n",
      "\u001b[0;32m//anaconda/envs/nlu/lib/python3.7/site-packages/pandas/core/internals.py\u001b[0m in \u001b[0;36mget\u001b[0;34m(self, item, fastpath)\u001b[0m\n\u001b[1;32m   4113\u001b[0m \u001b[0;34m\u001b[0m\u001b[0m\n\u001b[1;32m   4114\u001b[0m             \u001b[0;32mif\u001b[0m \u001b[0;32mnot\u001b[0m \u001b[0misna\u001b[0m\u001b[0;34m(\u001b[0m\u001b[0mitem\u001b[0m\u001b[0;34m)\u001b[0m\u001b[0;34m:\u001b[0m\u001b[0;34m\u001b[0m\u001b[0;34m\u001b[0m\u001b[0m\n\u001b[0;32m-> 4115\u001b[0;31m                 \u001b[0mloc\u001b[0m \u001b[0;34m=\u001b[0m \u001b[0mself\u001b[0m\u001b[0;34m.\u001b[0m\u001b[0mitems\u001b[0m\u001b[0;34m.\u001b[0m\u001b[0mget_loc\u001b[0m\u001b[0;34m(\u001b[0m\u001b[0mitem\u001b[0m\u001b[0;34m)\u001b[0m\u001b[0;34m\u001b[0m\u001b[0;34m\u001b[0m\u001b[0m\n\u001b[0m\u001b[1;32m   4116\u001b[0m             \u001b[0;32melse\u001b[0m\u001b[0;34m:\u001b[0m\u001b[0;34m\u001b[0m\u001b[0;34m\u001b[0m\u001b[0m\n\u001b[1;32m   4117\u001b[0m                 \u001b[0mindexer\u001b[0m \u001b[0;34m=\u001b[0m \u001b[0mnp\u001b[0m\u001b[0;34m.\u001b[0m\u001b[0marange\u001b[0m\u001b[0;34m(\u001b[0m\u001b[0mlen\u001b[0m\u001b[0;34m(\u001b[0m\u001b[0mself\u001b[0m\u001b[0;34m.\u001b[0m\u001b[0mitems\u001b[0m\u001b[0;34m)\u001b[0m\u001b[0;34m)\u001b[0m\u001b[0;34m[\u001b[0m\u001b[0misna\u001b[0m\u001b[0;34m(\u001b[0m\u001b[0mself\u001b[0m\u001b[0;34m.\u001b[0m\u001b[0mitems\u001b[0m\u001b[0;34m)\u001b[0m\u001b[0;34m]\u001b[0m\u001b[0;34m\u001b[0m\u001b[0;34m\u001b[0m\u001b[0m\n",
      "\u001b[0;32m//anaconda/envs/nlu/lib/python3.7/site-packages/pandas/core/indexes/base.py\u001b[0m in \u001b[0;36mget_loc\u001b[0;34m(self, key, method, tolerance)\u001b[0m\n\u001b[1;32m   3078\u001b[0m                 \u001b[0;32mreturn\u001b[0m \u001b[0mself\u001b[0m\u001b[0;34m.\u001b[0m\u001b[0m_engine\u001b[0m\u001b[0;34m.\u001b[0m\u001b[0mget_loc\u001b[0m\u001b[0;34m(\u001b[0m\u001b[0mkey\u001b[0m\u001b[0;34m)\u001b[0m\u001b[0;34m\u001b[0m\u001b[0;34m\u001b[0m\u001b[0m\n\u001b[1;32m   3079\u001b[0m             \u001b[0;32mexcept\u001b[0m \u001b[0mKeyError\u001b[0m\u001b[0;34m:\u001b[0m\u001b[0;34m\u001b[0m\u001b[0;34m\u001b[0m\u001b[0m\n\u001b[0;32m-> 3080\u001b[0;31m                 \u001b[0;32mreturn\u001b[0m \u001b[0mself\u001b[0m\u001b[0;34m.\u001b[0m\u001b[0m_engine\u001b[0m\u001b[0;34m.\u001b[0m\u001b[0mget_loc\u001b[0m\u001b[0;34m(\u001b[0m\u001b[0mself\u001b[0m\u001b[0;34m.\u001b[0m\u001b[0m_maybe_cast_indexer\u001b[0m\u001b[0;34m(\u001b[0m\u001b[0mkey\u001b[0m\u001b[0;34m)\u001b[0m\u001b[0;34m)\u001b[0m\u001b[0;34m\u001b[0m\u001b[0;34m\u001b[0m\u001b[0m\n\u001b[0m\u001b[1;32m   3081\u001b[0m \u001b[0;34m\u001b[0m\u001b[0m\n\u001b[1;32m   3082\u001b[0m         \u001b[0mindexer\u001b[0m \u001b[0;34m=\u001b[0m \u001b[0mself\u001b[0m\u001b[0;34m.\u001b[0m\u001b[0mget_indexer\u001b[0m\u001b[0;34m(\u001b[0m\u001b[0;34m[\u001b[0m\u001b[0mkey\u001b[0m\u001b[0;34m]\u001b[0m\u001b[0;34m,\u001b[0m \u001b[0mmethod\u001b[0m\u001b[0;34m=\u001b[0m\u001b[0mmethod\u001b[0m\u001b[0;34m,\u001b[0m \u001b[0mtolerance\u001b[0m\u001b[0;34m=\u001b[0m\u001b[0mtolerance\u001b[0m\u001b[0;34m)\u001b[0m\u001b[0;34m\u001b[0m\u001b[0;34m\u001b[0m\u001b[0m\n",
      "\u001b[0;32mpandas/_libs/index.pyx\u001b[0m in \u001b[0;36mpandas._libs.index.IndexEngine.get_loc\u001b[0;34m()\u001b[0m\n",
      "\u001b[0;32mpandas/_libs/index.pyx\u001b[0m in \u001b[0;36mpandas._libs.index.IndexEngine.get_loc\u001b[0;34m()\u001b[0m\n",
      "\u001b[0;32mpandas/_libs/hashtable_class_helper.pxi\u001b[0m in \u001b[0;36mpandas._libs.hashtable.PyObjectHashTable.get_item\u001b[0;34m()\u001b[0m\n",
      "\u001b[0;32mpandas/_libs/hashtable_class_helper.pxi\u001b[0m in \u001b[0;36mpandas._libs.hashtable.PyObjectHashTable.get_item\u001b[0;34m()\u001b[0m\n",
      "\u001b[0;31mKeyError\u001b[0m: 'condition'"
     ]
    }
   ],
   "source": [
    "eval_scores_split['condition']"
   ]
  },
  {
   "cell_type": "code",
   "execution_count": null,
   "metadata": {},
   "outputs": [],
   "source": [
    "close_scores = eval_df[eval_df['condition'] == 'close'].groupby('gameid').mean()\n",
    "split_scores = eval_df[eval_df['condition'] == 'split'].groupby('gameid').mean()\n",
    "far_scores = eval_df[eval_df['condition'] == 'far'].groupby('gameid').mean()"
   ]
  },
  {
   "cell_type": "code",
   "execution_count": null,
   "metadata": {},
   "outputs": [],
   "source": [
    "plt.scatter(close_scores['numOutcome'], close_scores['model_scores'])\n",
    "plt.show()"
   ]
  },
  {
   "cell_type": "code",
   "execution_count": null,
   "metadata": {},
   "outputs": [],
   "source": [
    "plt.hist(close_scores['numOutcome'], 10)\n",
    "plt.show()"
   ]
  },
  {
   "cell_type": "code",
   "execution_count": null,
   "metadata": {},
   "outputs": [],
   "source": [
    "plt.scatter(split_scores['numOutcome'], split_scores['model_scores'])\n",
    "plt.show()"
   ]
  },
  {
   "cell_type": "code",
   "execution_count": null,
   "metadata": {},
   "outputs": [],
   "source": [
    "plt.hist(split_scores['numOutcome'], 10)\n",
    "plt.show()"
   ]
  },
  {
   "cell_type": "code",
   "execution_count": null,
   "metadata": {},
   "outputs": [],
   "source": [
    "plt.scatter(far_scores['numOutcome'], far_scores['model_scores'])\n",
    "plt.show()"
   ]
  },
  {
   "cell_type": "code",
   "execution_count": null,
   "metadata": {},
   "outputs": [],
   "source": [
    "plt.hist(far_scores['numOutcome'], 10)\n",
    "plt.show()"
   ]
  },
  {
   "cell_type": "code",
   "execution_count": null,
   "metadata": {},
   "outputs": [],
   "source": [
    "5171*3"
   ]
  },
  {
   "cell_type": "code",
   "execution_count": null,
   "metadata": {},
   "outputs": [],
   "source": [
    "import pandas as pd"
   ]
  },
  {
   "cell_type": "code",
   "execution_count": null,
   "metadata": {},
   "outputs": [],
   "source": [
    "subj_analysis_df = pd.read_csv(\"/Users/benjaminnewman/Documents/Stanford/CS224U/projects/colors-in-context/behavioralAnalysis/humanOutput/rawCorpus/subjectInfo.csv\")"
   ]
  },
  {
   "cell_type": "code",
   "execution_count": null,
   "metadata": {},
   "outputs": [],
   "source": [
    "subj_analysis_df.head()"
   ]
  },
  {
   "cell_type": "code",
   "execution_count": null,
   "metadata": {},
   "outputs": [],
   "source": [
    "subj_analysis_df.ratePartner.value_counts()"
   ]
  },
  {
   "cell_type": "code",
   "execution_count": null,
   "metadata": {
    "scrolled": true
   },
   "outputs": [],
   "source": [
    "subj_analysis_df.gameID.value_counts()"
   ]
  },
  {
   "cell_type": "code",
   "execution_count": null,
   "metadata": {},
   "outputs": [],
   "source": [
    "overlap_vals = []\n",
    "for gameid in subj_analysis_df['gameID']:\n",
    "    overlap_vals.append(gameid in eval_df.gameid.values)"
   ]
  },
  {
   "cell_type": "code",
   "execution_count": null,
   "metadata": {},
   "outputs": [],
   "source": [
    "sum(overlap_vals)/len(overlap_vals)"
   ]
  },
  {
   "cell_type": "code",
   "execution_count": null,
   "metadata": {},
   "outputs": [],
   "source": [
    "len(overlap_vals)"
   ]
  },
  {
   "cell_type": "code",
   "execution_count": null,
   "metadata": {},
   "outputs": [],
   "source": [
    "subj_analysis_subdf2 = subj_analysis_df[(overlap_vals)]"
   ]
  },
  {
   "cell_type": "code",
   "execution_count": null,
   "metadata": {},
   "outputs": [],
   "source": [
    "subj_analysis_subdf.shape"
   ]
  },
  {
   "cell_type": "code",
   "execution_count": null,
   "metadata": {},
   "outputs": [],
   "source": [
    "close_scores.shape"
   ]
  },
  {
   "cell_type": "code",
   "execution_count": null,
   "metadata": {},
   "outputs": [],
   "source": [
    "close_games_subj = close_scores.join(subj_analysis_subdf.set_index('gameID'))"
   ]
  },
  {
   "cell_type": "code",
   "execution_count": null,
   "metadata": {},
   "outputs": [],
   "source": [
    "close_games_subj.head()"
   ]
  },
  {
   "cell_type": "code",
   "execution_count": null,
   "metadata": {},
   "outputs": [],
   "source": [
    "close_games_subj.ratePartner.value_counts(dropna=False)"
   ]
  },
  {
   "cell_type": "code",
   "execution_count": null,
   "metadata": {},
   "outputs": [],
   "source": [
    "134+91+62+23"
   ]
  },
  {
   "cell_type": "code",
   "execution_count": null,
   "metadata": {},
   "outputs": [],
   "source": [
    "rate_partner_colors = []\n",
    "colmap={'loved':'red', 'liked':'green', 'okay':'blue', 'not much':'purple'}\n",
    "#colmap={'loved':'white', 'liked':'white', 'okay':'blue', 'not much':'white'}\n",
    "for rating in close_games_subj.ratePartner.values:\n",
    "    rate_partner_colors.append(colmap.get(rating, 'black'))"
   ]
  },
  {
   "cell_type": "code",
   "execution_count": null,
   "metadata": {},
   "outputs": [],
   "source": [
    "plt.scatter(close_games_subj['numOutcome'], close_games_subj['model_scores'], c=rate_partner_colors, alpha=0.7)\n",
    "plt.show()"
   ]
  },
  {
   "cell_type": "code",
   "execution_count": null,
   "metadata": {},
   "outputs": [],
   "source": [
    "split_games_subj = split_scores.join(subj_analysis_subdf.set_index('gameID'))"
   ]
  },
  {
   "cell_type": "code",
   "execution_count": null,
   "metadata": {},
   "outputs": [],
   "source": [
    "rate_partner_colors_split = []\n",
    "colmap={'loved':'red', 'liked':'green', 'okay':'blue', 'not much':'purple'}\n",
    "#colmap={'loved':'white', 'liked':'white', 'okay':'blue', 'not much':'white'}\n",
    "for rating in split_games_subj.ratePartner.values:\n",
    "    rate_partner_colors_split.append(colmap.get(rating, 'black'))"
   ]
  },
  {
   "cell_type": "code",
   "execution_count": null,
   "metadata": {},
   "outputs": [],
   "source": [
    "plt.scatter(split_games_subj['numOutcome'], split_games_subj['model_scores'], c=rate_partner_colors_split, alpha=0.7)\n",
    "plt.show()"
   ]
  },
  {
   "cell_type": "code",
   "execution_count": null,
   "metadata": {},
   "outputs": [],
   "source": [
    "far_games_subj = far_scores.join(subj_analysis_subdf.set_index('gameID'))"
   ]
  },
  {
   "cell_type": "code",
   "execution_count": null,
   "metadata": {},
   "outputs": [],
   "source": [
    "rate_partner_colors_far = []\n",
    "colmap={'loved':'red', 'liked':'green', 'okay':'blue', 'not much':'purple'}\n",
    "#colmap={'loved':'white', 'liked':'white', 'okay':'blue', 'not much':'white'}\n",
    "for rating in far_games_subj.ratePartner.values:\n",
    "    rate_partner_colors_far.append(colmap.get(rating, 'black'))"
   ]
  },
  {
   "cell_type": "code",
   "execution_count": null,
   "metadata": {},
   "outputs": [],
   "source": [
    "plt.scatter(far_games_subj['numOutcome'], far_games_subj['model_scores'], c=rate_partner_colors_far, alpha=0.7)\n",
    "plt.show()"
   ]
  },
  {
   "cell_type": "code",
   "execution_count": null,
   "metadata": {},
   "outputs": [],
   "source": [
    "far_games_subj.index.get_level_values('gameid')"
   ]
  },
  {
   "cell_type": "code",
   "execution_count": null,
   "metadata": {},
   "outputs": [],
   "source": [
    "far_games_subj.index.get_level_values('gameid')"
   ]
  },
  {
   "cell_type": "code",
   "execution_count": null,
   "metadata": {},
   "outputs": [],
   "source": [
    "subj_analysis_subdf[subj_analysis_subdf.gameID == \"1925-1\"]"
   ]
  },
  {
   "cell_type": "code",
   "execution_count": null,
   "metadata": {},
   "outputs": [],
   "source": [
    "subj_analysis_df[subj_analysis_df.gameID == \"1925-1\"][\"comments\"][468]"
   ]
  },
  {
   "cell_type": "code",
   "execution_count": null,
   "metadata": {},
   "outputs": [],
   "source": [
    "subj_analysis_df[subj_analysis_df.gameID == \"3332-5\"]"
   ]
  },
  {
   "cell_type": "code",
   "execution_count": null,
   "metadata": {},
   "outputs": [],
   "source": [
    "subj_analysis_df[subj_analysis_df.gameID == \"7286-9\"]"
   ]
  },
  {
   "cell_type": "code",
   "execution_count": null,
   "metadata": {},
   "outputs": [],
   "source": [
    "subj_analysis_df[subj_analysis_df.gameID == \"0069-8\"]\n"
   ]
  },
  {
   "cell_type": "code",
   "execution_count": null,
   "metadata": {},
   "outputs": [],
   "source": [
    "subj_analysis_subdf.ratePartner.value_counts()"
   ]
  },
  {
   "cell_type": "code",
   "execution_count": null,
   "metadata": {},
   "outputs": [],
   "source": [
    "subj_analysis_df[subj_analysis_df.role=='speaker'].ratePartner.value_counts()"
   ]
  },
  {
   "cell_type": "code",
   "execution_count": null,
   "metadata": {},
   "outputs": [],
   "source": [
    "subj_analysis_df[subj_analysis_df.role=='listener'].ratePartner.value_counts()"
   ]
  },
  {
   "cell_type": "code",
   "execution_count": null,
   "metadata": {},
   "outputs": [],
   "source": [
    "bad_gameids = subj_analysis_df[(subj_analysis_df.role==\"speaker\") & (subj_analysis_df.ratePartner==\"not much\")].gameID.values"
   ]
  },
  {
   "cell_type": "code",
   "execution_count": null,
   "metadata": {
    "scrolled": true
   },
   "outputs": [],
   "source": [
    "bad_gameids"
   ]
  },
  {
   "cell_type": "code",
   "execution_count": null,
   "metadata": {},
   "outputs": [],
   "source": [
    "good_dev_data = ~dev_data.data.gameid.isin(bad_gameids)"
   ]
  },
  {
   "cell_type": "code",
   "execution_count": null,
   "metadata": {},
   "outputs": [],
   "source": [
    "good_values = dev_data.data[good_dev_data].index.values"
   ]
  },
  {
   "cell_type": "code",
   "execution_count": null,
   "metadata": {},
   "outputs": [],
   "source": [
    "dev_data_good = dev_data.data[good_dev_data]"
   ]
  },
  {
   "cell_type": "code",
   "execution_count": null,
   "metadata": {},
   "outputs": [],
   "source": [
    "dev_data_good_entries = []\n",
    "for val in good_values:\n",
    "    dev_data_good_entries.append(dev_data.entries[val])"
   ]
  },
  {
   "cell_type": "code",
   "execution_count": null,
   "metadata": {},
   "outputs": [],
   "source": [
    "dev_data_good_entries[:2]"
   ]
  },
  {
   "cell_type": "code",
   "execution_count": null,
   "metadata": {},
   "outputs": [],
   "source": [
    "feature_handler_2 = FeatureHandler(train_data, dev_data_good_entries, caption_phi, color_phi)\n",
    "\n"
   ]
  },
  {
   "cell_type": "code",
   "execution_count": null,
   "metadata": {},
   "outputs": [],
   "source": [
    "len(dev_data.data.index.values)"
   ]
  },
  {
   "cell_type": "code",
   "execution_count": null,
   "metadata": {},
   "outputs": [],
   "source": [
    "class dummy:\n",
    "    def __init__(self, data):\n",
    "        self.data=data"
   ]
  },
  {
   "cell_type": "code",
   "execution_count": null,
   "metadata": {},
   "outputs": [],
   "source": [
    "x = evaluate_model(dummy(dev_data_good), feature_handler_2, model_v2, output_to_score, score_model, accuracy=True)"
   ]
  },
  {
   "cell_type": "code",
   "execution_count": null,
   "metadata": {},
   "outputs": [],
   "source": [
    "assess_targets_tgt_v2_good, model_outputs_v2_good, model_scores_v2_good, true_scores_grouped_v2_good, model_scores_grouped_v2_good = x"
   ]
  },
  {
   "cell_type": "code",
   "execution_count": null,
   "metadata": {},
   "outputs": [],
   "source": [
    "plt.scatter(true_scores_grouped_v2_good, model_scores_grouped_v2_good)"
   ]
  },
  {
   "cell_type": "code",
   "execution_count": null,
   "metadata": {},
   "outputs": [],
   "source": [
    "plt.scatter(true_scores_grouped_v2, model_scores_grouped_v2)"
   ]
  },
  {
   "cell_type": "code",
   "execution_count": null,
   "metadata": {},
   "outputs": [],
   "source": [
    "subj_analysis_subdf2.head()"
   ]
  },
  {
   "cell_type": "code",
   "execution_count": null,
   "metadata": {},
   "outputs": [],
   "source": [
    "np.mean(subj_analysis_subdf2[(subj_analysis_subdf2.role==\"listener\") & (subj_analysis_subdf2.ratePartner==\"not much\")].score)"
   ]
  },
  {
   "cell_type": "code",
   "execution_count": null,
   "metadata": {},
   "outputs": [],
   "source": [
    "np.mean(subj_analysis_subdf2[(subj_analysis_subdf2.role==\"listener\") & (subj_analysis_subdf2.ratePartner==\"loved\")].score)"
   ]
  },
  {
   "cell_type": "code",
   "execution_count": null,
   "metadata": {},
   "outputs": [],
   "source": [
    "np.mean(subj_analysis_subdf2[(subj_analysis_subdf2.role==\"listener\") & (subj_analysis_subdf2.ratePartner==\"okay\")].score)"
   ]
  },
  {
   "cell_type": "code",
   "execution_count": null,
   "metadata": {},
   "outputs": [],
   "source": [
    "np.mean(subj_analysis_subdf2[(subj_analysis_subdf2.role==\"listener\") & (subj_analysis_subdf2.ratePartner==\"liked\")].score)"
   ]
  },
  {
   "cell_type": "code",
   "execution_count": null,
   "metadata": {},
   "outputs": [],
   "source": [
    "subj_analysis_subdf2[(subj_analysis_subdf2.role==\"listener\") & (subj_analysis_subdf2.ratePartner==\"not much\")]"
   ]
  },
  {
   "cell_type": "code",
   "execution_count": null,
   "metadata": {},
   "outputs": [],
   "source": [
    "subj_analysis_subdf2[\"comments\"][343]"
   ]
  },
  {
   "cell_type": "code",
   "execution_count": null,
   "metadata": {},
   "outputs": [],
   "source": [
    "dev_data.display_game_for_gameid(\"0767-f\")"
   ]
  },
  {
   "cell_type": "code",
   "execution_count": null,
   "metadata": {},
   "outputs": [],
   "source": [
    "dev_data.display_game_for_gameid(\"4860-7\")"
   ]
  },
  {
   "cell_type": "code",
   "execution_count": null,
   "metadata": {},
   "outputs": [],
   "source": [
    "dev_data.display_game_for_gameid(\"2639-b\")"
   ]
  },
  {
   "cell_type": "code",
   "execution_count": null,
   "metadata": {},
   "outputs": [],
   "source": [
    "dev_data.display_game_for_gameid(\"3332-5\")"
   ]
  },
  {
   "cell_type": "code",
   "execution_count": null,
   "metadata": {},
   "outputs": [],
   "source": [
    "dev_data[5196].condition"
   ]
  },
  {
   "cell_type": "code",
   "execution_count": null,
   "metadata": {},
   "outputs": [],
   "source": [
    "dev_data.display_game_for_gameid(\"5727-1\")\n"
   ]
  },
  {
   "cell_type": "code",
   "execution_count": null,
   "metadata": {},
   "outputs": [],
   "source": [
    "dev_data.display_game_for_gameid(\"9922-e\")"
   ]
  },
  {
   "cell_type": "code",
   "execution_count": null,
   "metadata": {},
   "outputs": [],
   "source": [
    "# create fake datasets from dev set:\n",
    "# 1. get all of correct data\n",
    "# 2. switch targets (be careful with split condition?)"
   ]
  },
  {
   "cell_type": "code",
   "execution_count": null,
   "metadata": {},
   "outputs": [],
   "source": [
    "dev_data_correct = dev_data.data[dev_data.data[\"numOutcome\"] == 1]"
   ]
  },
  {
   "cell_type": "code",
   "execution_count": null,
   "metadata": {
    "scrolled": true
   },
   "outputs": [],
   "source": [
    "dev_data_correct.head().T"
   ]
  },
  {
   "cell_type": "code",
   "execution_count": null,
   "metadata": {},
   "outputs": [],
   "source": [
    "dev_data_correct.shape"
   ]
  },
  {
   "cell_type": "code",
   "execution_count": null,
   "metadata": {},
   "outputs": [],
   "source": [
    "dev_data_correct_entries = list(filter(lambda de: de.target_idx == de.click_idx, dev_data.entries))"
   ]
  },
  {
   "cell_type": "code",
   "execution_count": null,
   "metadata": {},
   "outputs": [],
   "source": [
    "len(dev_data_correct_entries)"
   ]
  },
  {
   "cell_type": "code",
   "execution_count": null,
   "metadata": {},
   "outputs": [],
   "source": [
    "a = [1, 2, 3]"
   ]
  },
  {
   "cell_type": "code",
   "execution_count": null,
   "metadata": {},
   "outputs": [],
   "source": [
    "a[0], a[1] = a[1], a[0]"
   ]
  },
  {
   "cell_type": "code",
   "execution_count": null,
   "metadata": {},
   "outputs": [],
   "source": [
    "a"
   ]
  },
  {
   "cell_type": "code",
   "execution_count": null,
   "metadata": {},
   "outputs": [],
   "source": []
  },
  {
   "cell_type": "code",
   "execution_count": 69,
   "metadata": {},
   "outputs": [],
   "source": [
    "import copy\n",
    "import random"
   ]
  },
  {
   "cell_type": "markdown",
   "metadata": {},
   "source": [
    "One way to to generate these fake answers is to swap the target. This is ok except that it messes up the the whole \"target is always on the left thing\" that I have going on. I think it would be better to keep that the same so that it can work well with the models that we have so far (i.e. we don't have to change the model code that takes advantage of this). So instead, we're actually going to swap the colors and the click indexes."
   ]
  },
  {
   "cell_type": "code",
   "execution_count": 70,
   "metadata": {},
   "outputs": [
    {
     "ename": "NameError",
     "evalue": "name 'dev_data_correct_entries' is not defined",
     "output_type": "error",
     "traceback": [
      "\u001b[0;31m---------------------------------------------------------------------------\u001b[0m",
      "\u001b[0;31mNameError\u001b[0m                                 Traceback (most recent call last)",
      "\u001b[0;32m<timed exec>\u001b[0m in \u001b[0;36m<module>\u001b[0;34m\u001b[0m\n",
      "\u001b[0;31mNameError\u001b[0m: name 'dev_data_correct_entries' is not defined"
     ]
    }
   ],
   "source": [
    "%%time\n",
    "fake_far_entries   = []\n",
    "fake_close_entries = []\n",
    "fake_split_entries = []\n",
    "for de in dev_data_correct_entries:\n",
    "    # if close or far, basically symmetric so add both (far fakes will be misleading, close fakes will be ambiguous)\n",
    "    if de.condition == \"far\" or de.condition == \"close\":\n",
    "        for i in range(1,3):\n",
    "            de_cp = copy.deepcopy(de)\n",
    "            de_cp.click_idx = i\n",
    "            de_cp.colors[0], de_cp.colors[i] = de_cp.colors[i], de_cp.colors[0] # swap target and clicked colors\n",
    "            #de_cp.target_idx = i # i = 1, 2\n",
    "            de_cp.outcome = False\n",
    "            if de.condition == \"far\":\n",
    "                fake_far_entries.append(de_cp)\n",
    "            else:\n",
    "                fake_close_entries.append(de_cp)\n",
    "    # we have to be a bit more careful, because the fake target really should\n",
    "    # be the one that is closest to the target\n",
    "    elif de.condition == \"split\":\n",
    "        # get index to lookup in dataframe\n",
    "        idx = de.index\n",
    "        de_cp = copy.deepcopy(de)\n",
    "        de_cp.outcome = False\n",
    "        click_idx = 2 # assume the close one is the 2nd distractor\n",
    "        if dev_data.data[\"targetD1Diff\"][idx] < dev_data.data[\"targetD2Diff\"][idx]:\n",
    "            # D1 is the close distractor (and new target) - corresponds to color at index 1\n",
    "            click_idx = 1\n",
    "        de_cp.click_idx = click_idx\n",
    "        de_cp.colors[0], de_cp.colors[click_idx] = de_cp.colors[click_idx], de_cp.colors[0]\n",
    "        fake_split_entries.append(de_cp)"
   ]
  },
  {
   "cell_type": "code",
   "execution_count": 71,
   "metadata": {},
   "outputs": [
    {
     "data": {
      "text/plain": [
       "0"
      ]
     },
     "execution_count": 71,
     "metadata": {},
     "output_type": "execute_result"
    }
   ],
   "source": [
    "len(fake_far_entries)"
   ]
  },
  {
   "cell_type": "code",
   "execution_count": 72,
   "metadata": {},
   "outputs": [
    {
     "data": {
      "text/plain": [
       "0"
      ]
     },
     "execution_count": 72,
     "metadata": {},
     "output_type": "execute_result"
    }
   ],
   "source": [
    "len(fake_close_entries)"
   ]
  },
  {
   "cell_type": "code",
   "execution_count": 73,
   "metadata": {},
   "outputs": [
    {
     "data": {
      "text/plain": [
       "0"
      ]
     },
     "execution_count": 73,
     "metadata": {},
     "output_type": "execute_result"
    }
   ],
   "source": [
    "len(fake_split_entries)"
   ]
  },
  {
   "cell_type": "code",
   "execution_count": null,
   "metadata": {},
   "outputs": [],
   "source": [
    "fake_split_entries[0].colors[0].rgb_norm"
   ]
  },
  {
   "cell_type": "code",
   "execution_count": null,
   "metadata": {},
   "outputs": [],
   "source": [
    "fake_split_entries[:4]"
   ]
  },
  {
   "cell_type": "code",
   "execution_count": null,
   "metadata": {},
   "outputs": [],
   "source": [
    "dev_data_correct.condition.value_counts()"
   ]
  },
  {
   "cell_type": "code",
   "execution_count": null,
   "metadata": {
    "scrolled": true
   },
   "outputs": [],
   "source": [
    "dev_data.data.groupby('gameid')['condition'].value_counts()"
   ]
  },
  {
   "cell_type": "code",
   "execution_count": null,
   "metadata": {},
   "outputs": [],
   "source": [
    "dev_data_correct.shape"
   ]
  },
  {
   "cell_type": "code",
   "execution_count": null,
   "metadata": {},
   "outputs": [],
   "source": [
    "14165/150"
   ]
  },
  {
   "cell_type": "markdown",
   "metadata": {},
   "source": [
    "$$\\frac{0}{5}x + \\frac{1}{5}x + \\frac{2}{5}x + \\frac{3}{5}x + \\frac{4}{5}x + \\frac{5}{5}x = 3x = n$$\n",
    "where $n$ is the number of samples, so $x$ is number of samples allocated for each fraction correct. $x = \\frac{n}{3\\cdot 50}$. We divide by 50 because there are 50 rounds per game. The smallest group we have is the correct close condition which has 4320 data points, so we take $n$ to be $3\\cdot 4320 = 12960$ (multiplying by 3 because we have three conditions: close, far, and split.\n",
    "\n",
    "More generally, with a minimum number of samples $n = 3\\cdot4320$, and $f$ folds ($f = 5$ in the example above), the equation \n",
    "$\\frac{\\sum^f_{i=0}i}{50\\cdot f}x = n$ gives the total number of samples allocated for of the $f$ folds from each group (real correct/synthesized incorrect).\n",
    "\n",
    "$$50\\cdot \\frac{\\sum^f_{i=0}i}{f}x = 50\\frac{f\\cdot(f+1)}{2\\cdot f}x = 25\n",
    "(f+1)x = n$$\n",
    "So the of sampels for each round is $\\frac{n}{25\\cdot (f+1)}$, or in this particular case, $\\frac{518.4}{f+1}$"
   ]
  },
  {
   "cell_type": "code",
   "execution_count": null,
   "metadata": {},
   "outputs": [],
   "source": [
    "num_games = lambda x: x*(x+1)/2/x"
   ]
  },
  {
   "cell_type": "code",
   "execution_count": null,
   "metadata": {},
   "outputs": [],
   "source": [
    "num_rounds_per_cond = num_games(10) * 50"
   ]
  },
  {
   "cell_type": "code",
   "execution_count": null,
   "metadata": {},
   "outputs": [],
   "source": [
    "int(4320/num_rounds_per_cond)"
   ]
  },
  {
   "cell_type": "code",
   "execution_count": null,
   "metadata": {},
   "outputs": [],
   "source": [
    "correct_entries = [[], [], []] # far, close, split\n",
    "fake_entries = [fake_far_entries, fake_close_entries, fake_split_entries]\n",
    "\n",
    "cond_map = {\"far\": 0, \"close\": 1, \"split\": 2}\n",
    "for de in dev_data_correct_entries:\n",
    "    correct_entries[cond_map[de.condition]].append(de)"
   ]
  },
  {
   "cell_type": "code",
   "execution_count": null,
   "metadata": {},
   "outputs": [],
   "source": [
    "for de in dev_data_correct_entries:\n",
    "    correct_entries[cond_map[de.condition]].append(de)"
   ]
  },
  {
   "cell_type": "code",
   "execution_count": null,
   "metadata": {},
   "outputs": [],
   "source": [
    "len(correct_entries[0])"
   ]
  },
  {
   "cell_type": "code",
   "execution_count": null,
   "metadata": {},
   "outputs": [],
   "source": [
    "len(list(dev_data_correct_entries))"
   ]
  },
  {
   "cell_type": "code",
   "execution_count": null,
   "metadata": {},
   "outputs": [],
   "source": [
    "(518.4)//(6)"
   ]
  },
  {
   "cell_type": "code",
   "execution_count": null,
   "metadata": {},
   "outputs": [],
   "source": [
    "(3*4320)//150"
   ]
  },
  {
   "cell_type": "code",
   "execution_count": null,
   "metadata": {},
   "outputs": [],
   "source": [
    "synth_data = []\n",
    "condition_counter_fake = 0\n",
    "condition_counter_correct = 0\n",
    "# let's divide into fifths\n",
    "for i in range(6): # 0...5\n",
    "    for game_id in range((3*4320)//150): # 150 size of each group required over whole game over dataset, 3*4320 \n",
    "        synth_game = []\n",
    "        for j in range(50):\n",
    "            if j < 10 * i: # add fake stuff\n",
    "                synth_game.append(fake_entries[condition_counter_fake % 3][condition_counter_fake // 3])\n",
    "                condition_counter_fake += 1\n",
    "            else: # add real stuff\n",
    "                synth_game.append(correct_entries[condition_counter_correct % 3][condition_counter_correct // 3])\n",
    "                condition_counter_correct += 1\n",
    "        random.shuffle(synth_game)\n",
    "        synth_data.extend(synth_game)\n",
    "            "
   ]
  },
  {
   "cell_type": "code",
   "execution_count": null,
   "metadata": {},
   "outputs": [],
   "source": [
    "synth_data_df = pd.DataFrame(index=list(range(len(synth_data))), columns=dev_data.data.columns)"
   ]
  },
  {
   "cell_type": "code",
   "execution_count": null,
   "metadata": {},
   "outputs": [],
   "source": [
    "%%time\n",
    "for round_counter, sde in enumerate(synth_data):\n",
    "    idx = sde.index\n",
    "    game_id = \"synth-%d\"%(round_counter // 50)\n",
    "    synth_data_df.loc[round_counter] = dev_data.data.loc[idx]\n",
    "    synth_data_df.loc[round_counter, \"gameid\"] = game_id\n",
    "    synth_data_df.loc[round_counter, \"roundNum\"] = round_counter % 50 + 1 # they one index...\n",
    "    synth_data_df.loc[round_counter, \"outcome\"] = sde.outcome\n",
    "    synth_data_df.loc[round_counter, \"numOutcome\"] = 1 if sde.outcome else 0"
   ]
  },
  {
   "cell_type": "code",
   "execution_count": null,
   "metadata": {},
   "outputs": [],
   "source": [
    "synth_data_df.tail(50)"
   ]
  },
  {
   "cell_type": "code",
   "execution_count": null,
   "metadata": {},
   "outputs": [],
   "source": [
    "synth_data_df.tail()"
   ]
  },
  {
   "cell_type": "code",
   "execution_count": null,
   "metadata": {},
   "outputs": [],
   "source": [
    "import pickle as pkl\n",
    "\n",
    "with open(\"../data/entries/dev_entries_synth2.pkl\", \"wb\") as pkl_file:\n",
    "    pkl.dump(synth_data, pkl_file)"
   ]
  },
  {
   "cell_type": "code",
   "execution_count": null,
   "metadata": {},
   "outputs": [],
   "source": [
    "synth_data_df.to_csv(\"../data/csv/dev_corpus_synth2.csv\", header=True, index=False)"
   ]
  },
  {
   "cell_type": "code",
   "execution_count": null,
   "metadata": {},
   "outputs": [],
   "source": [
    "dev_data_synth = MonroeData(\"../data/csv/dev_corpus_synth2.csv\", \"../data/entries/dev_entries_synth2.pkl\")"
   ]
  },
  {
   "cell_type": "code",
   "execution_count": null,
   "metadata": {},
   "outputs": [],
   "source": [
    "dev_data_synth.display_game_for_gameid(\"synth-100\")"
   ]
  },
  {
   "cell_type": "code",
   "execution_count": null,
   "metadata": {},
   "outputs": [],
   "source": [
    "dev_data_synth.display_game(5000)"
   ]
  },
  {
   "cell_type": "code",
   "execution_count": null,
   "metadata": {},
   "outputs": [],
   "source": [
    "dev_data_synth.display_game_for_gameid(\"synth-100\")"
   ]
  },
  {
   "cell_type": "code",
   "execution_count": null,
   "metadata": {},
   "outputs": [],
   "source": [
    "plt.hist(dev_data_synth.data.groupby(\"gameid\")['numOutcome'].mean(), 6)"
   ]
  },
  {
   "cell_type": "code",
   "execution_count": null,
   "metadata": {},
   "outputs": [],
   "source": [
    "feature_handler_3 = FeatureHandler(train_data, dev_data_synth, caption_phi, color_phi)"
   ]
  },
  {
   "cell_type": "code",
   "execution_count": null,
   "metadata": {},
   "outputs": [],
   "source": [
    "feature_handler_4 = FeatureHandler(train_data, dev_data_synth, caption_phi, color_phi)"
   ]
  },
  {
   "cell_type": "code",
   "execution_count": null,
   "metadata": {},
   "outputs": [],
   "source": [
    "x = evaluate_model(dev_data_synth, feature_handler_4, model_v2, output_to_score, score_model)"
   ]
  },
  {
   "cell_type": "code",
   "execution_count": null,
   "metadata": {},
   "outputs": [],
   "source": [
    "assess_targets_tgt_v2_s, model_outputs_v2_s, model_scores_v2_s, true_scores_grouped_v2_s, model_scores_grouped_v2_s = x"
   ]
  },
  {
   "cell_type": "code",
   "execution_count": null,
   "metadata": {},
   "outputs": [],
   "source": [
    "plt.scatter(true_scores_grouped_v2_s, model_scores_grouped_v2_s)\n",
    "plt.title(\"Predicting Listener Selection Oracle with synthetic data\\nModel Score vs True Score\")\n",
    "plt.show()"
   ]
  },
  {
   "cell_type": "code",
   "execution_count": null,
   "metadata": {},
   "outputs": [],
   "source": [
    "stats.pearsonr(true_scores_grouped_v2_s, model_scores_grouped_v2_s)"
   ]
  },
  {
   "cell_type": "code",
   "execution_count": null,
   "metadata": {},
   "outputs": [],
   "source": [
    "# literal listener v1\n",
    "train = False\n",
    "model_file_v1 = \"../model/literal_listener_5epoch_endings_tkn.params\"\n",
    "\n",
    "model_v1 = LiteralListener(CaptionEncoder, num_epochs=5)\n",
    "model_v1.init_model(embed_dim = embed_dim, hidden_dim = hidden_dim, vocab_size = feature_handler.caption_featurizer.caption_indexer.size,\n",
    "             color_dim = color_dim)\n",
    "\n",
    "if train:\n",
    "    print(\"Training model and saving to {}:\".format(model_file))\n",
    "    #model_v1.fit(train_features, train_targets)\n",
    "    #model_v1.save_model(model_file)\n",
    "else:\n",
    "    print(\"Loading pretrained model\")\n",
    "    model_v1.load_model(model_file_v1)"
   ]
  },
  {
   "cell_type": "code",
   "execution_count": 399,
   "metadata": {},
   "outputs": [
    {
     "name": "stdout",
     "output_type": "stream",
     "text": [
      "(0.9835602250611073, 0.0)\n",
      "Accuracy: 0.4633333333333333\n"
     ]
    }
   ],
   "source": [
    "x = evaluate_model(dev_data_synth, feature_handler_4, model_v1, output_to_score, score_model)"
   ]
  },
  {
   "cell_type": "code",
   "execution_count": 366,
   "metadata": {},
   "outputs": [],
   "source": [
    "assess_targets_tgt_v1_s, model_outputs_v1_s, model_scores_v1_s, true_scores_grouped_v1_s, model_scores_grouped_v1_s = x"
   ]
  },
  {
   "cell_type": "code",
   "execution_count": 368,
   "metadata": {},
   "outputs": [
    {
     "data": {
      "image/png": "[encoded data removed]",
      "text/plain": [
       "<Figure size 432x288 with 1 Axes>"
      ]
     },
     "metadata": {},
     "output_type": "display_data"
    }
   ],
   "source": [
    "plt.scatter(true_scores_grouped_v1_s, model_scores_grouped_v1_s)\n",
    "plt.title(\"Predicting Target Selection with synthetic data\\nModel Score vs True Score\")\n",
    "plt.show()"
   ]
  },
  {
   "cell_type": "code",
   "execution_count": 369,
   "metadata": {},
   "outputs": [
    {
     "data": {
      "text/plain": [
       "SpearmanrResult(correlation=0.982076573276505, pvalue=0.0)"
      ]
     },
     "execution_count": 369,
     "metadata": {},
     "output_type": "execute_result"
    }
   ],
   "source": [
    "stats.spearmanr(true_scores_grouped_v1_s, model_scores_grouped_v1_s)"
   ]
  },
  {
   "cell_type": "code",
   "execution_count": 345,
   "metadata": {},
   "outputs": [
    {
     "data": {
      "text/plain": [
       "0"
      ]
     },
     "execution_count": 345,
     "metadata": {},
     "output_type": "execute_result"
    }
   ],
   "source": [
    "dev_data_synth[5017].target_idx"
   ]
  },
  {
   "cell_type": "code",
   "execution_count": 328,
   "metadata": {},
   "outputs": [
    {
     "data": {
      "text/plain": [
       "3"
      ]
     },
     "execution_count": 328,
     "metadata": {},
     "output_type": "execute_result"
    }
   ],
   "source": [
    "synth_data[0].index"
   ]
  },
  {
   "cell_type": "code",
   "execution_count": 331,
   "metadata": {},
   "outputs": [
    {
     "data": {
      "text/html": [
       "<div>\n",
       "<style>\n",
       "    .dataframe thead tr:only-child th {\n",
       "        text-align: right;\n",
       "    }\n",
       "\n",
       "    .dataframe thead th {\n",
       "        text-align: left;\n",
       "    }\n",
       "\n",
       "    .dataframe tbody tr th {\n",
       "        vertical-align: top;\n",
       "    }\n",
       "</style>\n",
       "<table border=\"1\" class=\"dataframe\">\n",
       "  <thead>\n",
       "    <tr style=\"text-align: right;\">\n",
       "      <th></th>\n",
       "      <th>gameid</th>\n",
       "      <th>clkTime</th>\n",
       "      <th>roundNum</th>\n",
       "      <th>condition</th>\n",
       "      <th>clickStatus</th>\n",
       "      <th>clickColH</th>\n",
       "      <th>clickColS</th>\n",
       "      <th>clickColL</th>\n",
       "      <th>clickLocS</th>\n",
       "      <th>clickLocL</th>\n",
       "      <th>...</th>\n",
       "      <th>msgTime</th>\n",
       "      <th>role</th>\n",
       "      <th>contents</th>\n",
       "      <th>workerid_uniq</th>\n",
       "      <th>numOutcome</th>\n",
       "      <th>numRawWords</th>\n",
       "      <th>numRawChars</th>\n",
       "      <th>numCleanChars</th>\n",
       "      <th>numCleanWords</th>\n",
       "      <th>source</th>\n",
       "    </tr>\n",
       "  </thead>\n",
       "  <tbody>\n",
       "    <tr>\n",
       "      <th>0</th>\n",
       "      <td>2641-2</td>\n",
       "      <td>1.476490e+12</td>\n",
       "      <td>1</td>\n",
       "      <td>split</td>\n",
       "      <td>target</td>\n",
       "      <td>48</td>\n",
       "      <td>13</td>\n",
       "      <td>50</td>\n",
       "      <td>2</td>\n",
       "      <td>1</td>\n",
       "      <td>...</td>\n",
       "      <td>1.476490e+12</td>\n",
       "      <td>speaker</td>\n",
       "      <td>gray</td>\n",
       "      <td>619.0</td>\n",
       "      <td>1.0</td>\n",
       "      <td>1</td>\n",
       "      <td>4</td>\n",
       "      <td>4.0</td>\n",
       "      <td>1.0</td>\n",
       "      <td>human</td>\n",
       "    </tr>\n",
       "    <tr>\n",
       "      <th>1</th>\n",
       "      <td>2641-2</td>\n",
       "      <td>1.476490e+12</td>\n",
       "      <td>2</td>\n",
       "      <td>split</td>\n",
       "      <td>target</td>\n",
       "      <td>66</td>\n",
       "      <td>26</td>\n",
       "      <td>50</td>\n",
       "      <td>3</td>\n",
       "      <td>3</td>\n",
       "      <td>...</td>\n",
       "      <td>1.476490e+12</td>\n",
       "      <td>speaker</td>\n",
       "      <td>green</td>\n",
       "      <td>619.0</td>\n",
       "      <td>1.0</td>\n",
       "      <td>1</td>\n",
       "      <td>5</td>\n",
       "      <td>5.0</td>\n",
       "      <td>1.0</td>\n",
       "      <td>human</td>\n",
       "    </tr>\n",
       "    <tr>\n",
       "      <th>2</th>\n",
       "      <td>2641-2</td>\n",
       "      <td>1.476490e+12</td>\n",
       "      <td>3</td>\n",
       "      <td>far</td>\n",
       "      <td>target</td>\n",
       "      <td>336</td>\n",
       "      <td>24</td>\n",
       "      <td>50</td>\n",
       "      <td>2</td>\n",
       "      <td>2</td>\n",
       "      <td>...</td>\n",
       "      <td>1.476490e+12</td>\n",
       "      <td>speaker</td>\n",
       "      <td>lavender ~ the duller one</td>\n",
       "      <td>619.0</td>\n",
       "      <td>1.0</td>\n",
       "      <td>3</td>\n",
       "      <td>12</td>\n",
       "      <td>9.0</td>\n",
       "      <td>2.0</td>\n",
       "      <td>human</td>\n",
       "    </tr>\n",
       "    <tr>\n",
       "      <th>3</th>\n",
       "      <td>2641-2</td>\n",
       "      <td>1.476490e+12</td>\n",
       "      <td>4</td>\n",
       "      <td>split</td>\n",
       "      <td>target</td>\n",
       "      <td>172</td>\n",
       "      <td>60</td>\n",
       "      <td>50</td>\n",
       "      <td>1</td>\n",
       "      <td>1</td>\n",
       "      <td>...</td>\n",
       "      <td>1.476490e+12</td>\n",
       "      <td>speaker</td>\n",
       "      <td>the brighter blue</td>\n",
       "      <td>619.0</td>\n",
       "      <td>1.0</td>\n",
       "      <td>3</td>\n",
       "      <td>15</td>\n",
       "      <td>12.0</td>\n",
       "      <td>2.0</td>\n",
       "      <td>human</td>\n",
       "    </tr>\n",
       "    <tr>\n",
       "      <th>4</th>\n",
       "      <td>2641-2</td>\n",
       "      <td>1.476490e+12</td>\n",
       "      <td>5</td>\n",
       "      <td>far</td>\n",
       "      <td>target</td>\n",
       "      <td>41</td>\n",
       "      <td>71</td>\n",
       "      <td>50</td>\n",
       "      <td>1</td>\n",
       "      <td>2</td>\n",
       "      <td>...</td>\n",
       "      <td>1.476490e+12</td>\n",
       "      <td>speaker</td>\n",
       "      <td>yellow</td>\n",
       "      <td>619.0</td>\n",
       "      <td>1.0</td>\n",
       "      <td>1</td>\n",
       "      <td>6</td>\n",
       "      <td>6.0</td>\n",
       "      <td>1.0</td>\n",
       "      <td>human</td>\n",
       "    </tr>\n",
       "  </tbody>\n",
       "</table>\n",
       "<p>5 rows × 36 columns</p>\n",
       "</div>"
      ],
      "text/plain": [
       "   gameid       clkTime  roundNum condition clickStatus  clickColH  clickColS  \\\n",
       "0  2641-2  1.476490e+12         1     split      target         48         13   \n",
       "1  2641-2  1.476490e+12         2     split      target         66         26   \n",
       "2  2641-2  1.476490e+12         3       far      target        336         24   \n",
       "3  2641-2  1.476490e+12         4     split      target        172         60   \n",
       "4  2641-2  1.476490e+12         5       far      target         41         71   \n",
       "\n",
       "   clickColL  clickLocS  clickLocL   ...         msgTime     role  \\\n",
       "0         50          2          1   ...    1.476490e+12  speaker   \n",
       "1         50          3          3   ...    1.476490e+12  speaker   \n",
       "2         50          2          2   ...    1.476490e+12  speaker   \n",
       "3         50          1          1   ...    1.476490e+12  speaker   \n",
       "4         50          1          2   ...    1.476490e+12  speaker   \n",
       "\n",
       "                    contents  workerid_uniq  numOutcome  numRawWords  \\\n",
       "0                       gray          619.0         1.0            1   \n",
       "1                      green          619.0         1.0            1   \n",
       "2  lavender ~ the duller one          619.0         1.0            3   \n",
       "3          the brighter blue          619.0         1.0            3   \n",
       "4                     yellow          619.0         1.0            1   \n",
       "\n",
       "  numRawChars  numCleanChars  numCleanWords  source  \n",
       "0           4            4.0            1.0   human  \n",
       "1           5            5.0            1.0   human  \n",
       "2          12            9.0            2.0   human  \n",
       "3          15           12.0            2.0   human  \n",
       "4           6            6.0            1.0   human  \n",
       "\n",
       "[5 rows x 36 columns]"
      ]
     },
     "execution_count": 331,
     "metadata": {},
     "output_type": "execute_result"
    }
   ],
   "source": [
    "dev_data.data.head()"
   ]
  },
  {
   "cell_type": "code",
   "execution_count": 315,
   "metadata": {},
   "outputs": [
    {
     "data": {
      "text/plain": [
       "86.0"
      ]
     },
     "execution_count": 315,
     "metadata": {},
     "output_type": "execute_result"
    }
   ],
   "source": [
    "len(synth_data)/50/6"
   ]
  },
  {
   "cell_type": "code",
   "execution_count": 308,
   "metadata": {},
   "outputs": [
    {
     "data": {
      "text/plain": [
       "4320"
      ]
     },
     "execution_count": 308,
     "metadata": {},
     "output_type": "execute_result"
    }
   ],
   "source": [
    "condition_counter_correct//3"
   ]
  },
  {
   "cell_type": "code",
   "execution_count": 304,
   "metadata": {},
   "outputs": [
    {
     "data": {
      "text/plain": [
       "[10254, 8640, 4718]"
      ]
     },
     "execution_count": 304,
     "metadata": {},
     "output_type": "execute_result"
    }
   ],
   "source": [
    "[len(x) for x in fake_entries]"
   ]
  },
  {
   "cell_type": "code",
   "execution_count": 305,
   "metadata": {},
   "outputs": [
    {
     "data": {
      "text/plain": [
       "[5127, 4320, 4718]"
      ]
     },
     "execution_count": 305,
     "metadata": {},
     "output_type": "execute_result"
    }
   ],
   "source": [
    "[len(x) for x in correct_entries]"
   ]
  },
  {
   "cell_type": "code",
   "execution_count": 311,
   "metadata": {},
   "outputs": [
    {
     "data": {
      "text/plain": [
       "12960"
      ]
     },
     "execution_count": 311,
     "metadata": {},
     "output_type": "execute_result"
    }
   ],
   "source": [
    "(3*4320)"
   ]
  },
  {
   "cell_type": "code",
   "execution_count": 75,
   "metadata": {},
   "outputs": [],
   "source": [
    "def create_synth_data(fake_entries, correct_entries, num_divisions = 5, filename = \"synthdata\"):\n",
    "    synth_data = []\n",
    "    condition_counter_fake = 0\n",
    "    condition_counter_correct = 0\n",
    "    min_condition_samples = 4173 # train # dev - 4320 # we have the fewest number of correct close samples\n",
    "    num_games = 3*min_condition_samples//((num_divisions + 1) * 25)\n",
    "    \n",
    "    # let's divide into fifths\n",
    "    for i in range(num_divisions + 1): # 0...num_divisions inclusive\n",
    "        for game_id in range(num_games): # 150 size of each group required over whole game over dataset, 3*4320 \n",
    "            synth_game = []\n",
    "            for j in range(50):\n",
    "                if j < (50/num_divisions) * i: # add fake stuff\n",
    "                    synth_game.append(fake_entries[condition_counter_fake % 3][condition_counter_fake // 3])\n",
    "                    condition_counter_fake += 1\n",
    "                else: # add real stuff\n",
    "                    synth_game.append(correct_entries[condition_counter_correct % 3][condition_counter_correct // 3])\n",
    "                    condition_counter_correct += 1\n",
    "            random.shuffle(synth_game)\n",
    "            synth_data.extend(synth_game)\n",
    "    \n",
    "    # construct a dataframe and populate it (this takes a long time)\n",
    "    synth_data_df = pd.DataFrame(index=list(range(len(synth_data))), columns=dev_data.data.columns)\n",
    "\n",
    "    for round_counter, sde in enumerate(synth_data):\n",
    "        idx = sde.index\n",
    "        game_id = \"synth-%d\"%(round_counter // 50)\n",
    "        synth_data_df.loc[round_counter] = dev_data.data.loc[idx]\n",
    "        synth_data_df.loc[round_counter, \"gameid\"] = game_id\n",
    "        synth_data_df.loc[round_counter, \"roundNum\"] = round_counter % 50 + 1 # they one index rounds so we do the same...\n",
    "        synth_data_df.loc[round_counter, \"outcome\"] = sde.outcome\n",
    "        synth_data_df.loc[round_counter, \"numOutcome\"] = 1 if sde.outcome else 0\n",
    "        \n",
    "    with open(\"../data/entries/%s.pkl\"%filename, \"wb\") as pkl_file:\n",
    "        pkl.dump(synth_data, pkl_file)\n",
    "    synth_data_df.to_csv(\"../data/csv/%s.csv\"%filename, header=True, index=False)\n",
    "    monroe_synth_data = MonroeData(\"../data/csv/%s.csv\"%filename, \"../data/entries/%s.pkl\"%filename)\n",
    "    return monroe_synth_data"
   ]
  },
  {
   "cell_type": "code",
   "execution_count": 76,
   "metadata": {},
   "outputs": [
    {
     "ename": "NameError",
     "evalue": "name 'fake_entries' is not defined",
     "output_type": "error",
     "traceback": [
      "\u001b[0;31m---------------------------------------------------------------------------\u001b[0m",
      "\u001b[0;31mNameError\u001b[0m                                 Traceback (most recent call last)",
      "\u001b[0;32m<ipython-input-76-b9e0f62160ac>\u001b[0m in \u001b[0;36m<module>\u001b[0;34m\u001b[0m\n\u001b[0;32m----> 1\u001b[0;31m \u001b[0mdev_data_synth_10\u001b[0m \u001b[0;34m=\u001b[0m \u001b[0mcreate_synth_data\u001b[0m\u001b[0;34m(\u001b[0m\u001b[0mfake_entries\u001b[0m\u001b[0;34m,\u001b[0m \u001b[0mcorrect_entries\u001b[0m\u001b[0;34m,\u001b[0m \u001b[0mnum_divisions\u001b[0m\u001b[0;34m=\u001b[0m\u001b[0;36m10\u001b[0m\u001b[0;34m,\u001b[0m \u001b[0mfilename\u001b[0m \u001b[0;34m=\u001b[0m \u001b[0;34m\"dev_corpus_synth_10fold\"\u001b[0m\u001b[0;34m)\u001b[0m\u001b[0;34m\u001b[0m\u001b[0;34m\u001b[0m\u001b[0m\n\u001b[0m",
      "\u001b[0;31mNameError\u001b[0m: name 'fake_entries' is not defined"
     ]
    }
   ],
   "source": [
    "dev_data_synth_10 = create_synth_data(fake_entries, correct_entries, num_divisions=10, filename = \"dev_corpus_synth_10fold\")"
   ]
  },
  {
   "cell_type": "code",
   "execution_count": 426,
   "metadata": {},
   "outputs": [],
   "source": [
    "feature_handler_5 = FeatureHandler(train_data, dev_data_synth_10, caption_phi, color_phi)"
   ]
  },
  {
   "cell_type": "code",
   "execution_count": 427,
   "metadata": {},
   "outputs": [
    {
     "name": "stdout",
     "output_type": "stream",
     "text": [
      "(0.9803888168043288, 0.0)\n",
      "Accuracy: 0.46336557059961314\n"
     ]
    }
   ],
   "source": [
    "x = evaluate_model(dev_data_synth_10, feature_handler_5, model_v1, output_to_score, score_model)\n",
    "assess_targets_tgt_v1_s, model_outputs_v1_s, model_scores_v1_s, true_scores_grouped_v1_s, model_scores_grouped_v1_s = x"
   ]
  },
  {
   "cell_type": "code",
   "execution_count": 428,
   "metadata": {},
   "outputs": [
    {
     "data": {
      "image/png": "[encoded data removed]",
      "text/plain": [
       "<Figure size 432x288 with 1 Axes>"
      ]
     },
     "metadata": {},
     "output_type": "display_data"
    }
   ],
   "source": [
    "plt.scatter(true_scores_grouped_v1_s, model_scores_grouped_v1_s)\n",
    "plt.title(\"Predicting Target Selection with synthetic data\\nModel Score vs True Score\")\n",
    "plt.show()"
   ]
  },
  {
   "cell_type": "code",
   "execution_count": 77,
   "metadata": {},
   "outputs": [
    {
     "name": "stdout",
     "output_type": "stream",
     "text": [
      "(0.965577233389709, 2.3575895002472486e-303)\n",
      "Accuracy: 0.43705996131528047\n"
     ]
    }
   ],
   "source": [
    "x = evaluate_model(dev_data_synth_10, feature_handler_5, model_v2, output_to_score, score_model)\n",
    "assess_targets_tgt_v2_s, model_outputs_v2_s, model_scores_v2_s, true_scores_grouped_v2_s, model_scores_grouped_v2_s = x"
   ]
  },
  {
   "cell_type": "code",
   "execution_count": 78,
   "metadata": {},
   "outputs": [
    {
     "data": {
      "image/png": "[encoded data removed]",
      "text/plain": [
       "<Figure size 432x288 with 1 Axes>"
      ]
     },
     "metadata": {
      "needs_background": "light"
     },
     "output_type": "display_data"
    }
   ],
   "source": [
    "plt.scatter(true_scores_grouped_v2_s, model_scores_grouped_v2_s)\n",
    "plt.title(\"Predicting Target Selection with synthetic data\\nModel Score vs True Score\")\n",
    "plt.show()"
   ]
  },
  {
   "cell_type": "code",
   "execution_count": 447,
   "metadata": {},
   "outputs": [
    {
     "data": {
      "text/plain": [
       "0.7328506028564533"
      ]
     },
     "execution_count": 447,
     "metadata": {},
     "output_type": "execute_result"
    }
   ],
   "source": [
    "random.random()"
   ]
  },
  {
   "cell_type": "code",
   "execution_count": 434,
   "metadata": {},
   "outputs": [],
   "source": [
    "def generate_synth_entries(monroe_df):\n",
    "    # get correct entries\n",
    "    correct_entries = list(filter(lambda de: de.target_idx == de.click_idx, monroe_df.entries))\n",
    "    \n",
    "    fake_far_entries   = []\n",
    "    fake_close_entries = []\n",
    "    fake_split_entries = []\n",
    "    \n",
    "    for de in correct_entries:\n",
    "        # if close or far, basically symmetric so add both (far fakes will be misleading, close fakes will be ambiguous)\n",
    "        if de.condition == \"far\" or de.condition == \"close\":\n",
    "            for i in range(1,3):\n",
    "                de_cp = copy.deepcopy(de)\n",
    "                de_cp.click_idx = i\n",
    "                de_cp.colors[0], de_cp.colors[i] = de_cp.colors[i], de_cp.colors[0] # swap target and clicked colors\n",
    "                #de_cp.target_idx = i # i = 1, 2\n",
    "                de_cp.outcome = False\n",
    "                if de.condition == \"far\":\n",
    "                    if de.index % 2 == 0:\n",
    "                        fake_far_entries.append(de_cp)\n",
    "                    else:\n",
    "                        fake_far_entries.insert(0, de_cp)\n",
    "                else: # close\n",
    "                    if de.index % 2 == 0:\n",
    "                        fake_close_entries.append(de_cp)\n",
    "                    else:\n",
    "                        fake_close_entries.insert(0, de_cp)\n",
    "        # we have to be a bit more careful, because the fake target really should\n",
    "        # be the one that is closest to the target\n",
    "        elif de.condition == \"split\":\n",
    "            # get index to lookup in dataframe\n",
    "            idx = de.index\n",
    "            de_cp = copy.deepcopy(de)\n",
    "            de_cp.outcome = False\n",
    "            click_idx = 2 # assume the close one is the 2nd distractor\n",
    "            if monroe_df.data[\"targetD1Diff\"][idx] < monroe_df.data[\"targetD2Diff\"][idx]:\n",
    "                # D1 is the close distractor (and new target) - corresponds to color at index 1\n",
    "                click_idx = 1\n",
    "            de_cp.click_idx = click_idx\n",
    "            de_cp.colors[0], de_cp.colors[click_idx] = de_cp.colors[click_idx], de_cp.colors[0]\n",
    "            fake_split_entries.append(de_cp)\n",
    "    \n",
    "    # we also need the correct versions of these tasks\n",
    "    correct_entries_cond = [[], [], []]\n",
    "    cond_map = {\"far\": 0, \"close\": 1, \"split\": 2}\n",
    "    for de in correct_entries:\n",
    "        correct_entries_cond[cond_map[de.condition]].append(de)\n",
    "    return [fake_far_entries, fake_close_entries, fake_split_entries], correct_entries_cond"
   ]
  },
  {
   "cell_type": "code",
   "execution_count": 435,
   "metadata": {},
   "outputs": [],
   "source": [
    "train_data_synth_fake_entries, train_data_synth_correct_entries = generate_synth_entries(train_data)"
   ]
  },
  {
   "cell_type": "code",
   "execution_count": 444,
   "metadata": {},
   "outputs": [],
   "source": [
    "train_data_synth_10 = create_synth_data(train_data_synth_fake_entries, train_data_synth_correct_entries, num_divisions=10, filename = \"train_corpus_synth_10fold\")"
   ]
  },
  {
   "cell_type": "code",
   "execution_count": null,
   "metadata": {},
   "outputs": [],
   "source": [
    "# len(train_data_synth_fake_entries[0])"
   ]
  },
  {
   "cell_type": "code",
   "execution_count": 442,
   "metadata": {},
   "outputs": [
    {
     "data": {
      "text/plain": [
       "4173"
      ]
     },
     "execution_count": 442,
     "metadata": {},
     "output_type": "execute_result"
    }
   ],
   "source": [
    "len(train_data_synth_correct_entries[1])"
   ]
  },
  {
   "cell_type": "markdown",
   "metadata": {},
   "source": [
    "# Making new metric: Literal Listener"
   ]
  },
  {
   "cell_type": "code",
   "execution_count": 79,
   "metadata": {},
   "outputs": [],
   "source": [
    "import matplotlib.pyplot as plt\n",
    "%matplotlib inline"
   ]
  },
  {
   "cell_type": "code",
   "execution_count": 80,
   "metadata": {},
   "outputs": [],
   "source": [
    "dev_data_synth_10 = MonroeData(\"../data/csv/dev_corpus_synth_10fold.csv\", \"../data/entries/dev_corpus_synth_10fold.pkl\")"
   ]
  },
  {
   "cell_type": "code",
   "execution_count": 81,
   "metadata": {},
   "outputs": [],
   "source": [
    "eval_df = None\n",
    "def score_model(test_data, scores, regressor=stats.pearsonr, groupbycond=False):\n",
    "    \"\"\"\n",
    "    Assume scores are in the same order as the test data (i.e. 0th row is 0th score) and calculates a regression\n",
    "    between the scores of the individual games and the scores from the model\n",
    "    \"\"\"\n",
    "    global eval_df\n",
    "    relevant_columns = [\"gameid\", \"roundNum\", \"numOutcome\", \"workerid_uniq\", \"condition\",\n",
    "                        \"msgTime\", \"clkTime\", \"numCleanWords\", \"numCleanChars\"]\n",
    "#     if speaker == Speaker.BY_WORKER_ID:\n",
    "#         relevant_columns.append(Speaker.BY_WORKER_ID.value)\n",
    "\n",
    "# #     if score == Score.COMPOSITE:\n",
    "#         # no support for this yet but probably also need:\n",
    "#         relevant_columns.extend([\"contents\", \"clkTime\", \"msgTime\"])\n",
    "\n",
    "    eval_df = test_data.data[relevant_columns].copy()\n",
    "    eval_df[\"model_scores\"] = scores # why we need scores to be in same order as rows\n",
    "\n",
    "    # true_scores = eval_df.groupby(\"gameid\").numOutcome.mean()\n",
    "    mean_scores = eval_df.groupby(\"gameid\").numOutcome.mean()\n",
    "    mean_msgTime = eval_df.groupby(\"gameid\").msgTime.mean()\n",
    "    mean_clkTime = eval_df.groupby(\"gameid\").clkTime.mean()\n",
    "    mean_numCleanWords = eval_df.groupby(\"gameid\").numCleanWords.mean()\n",
    "    mean_numCleanChars = eval_df.groupby(\"gameid\").numCleanChars.mean()\n",
    "    \n",
    "    if groupbycond:\n",
    "        mean_scores = eval_df.groupby([\"gameid\", \"condition\"]).numOutcome.mean()\n",
    "        mean_msgTime = eval_df.groupby([\"gameid\", \"condition\"]).msgTime.mean()\n",
    "        mean_clkTime = eval_df.groupby([\"gameid\", \"condition\"]).clkTime.mean()\n",
    "        mean_numCleanWords = eval_df.groupby([\"gameid\", \"condition\"]).numCleanWords.mean()\n",
    "        mean_numCleanChars = eval_df.groupby([\"gameid\", \"condition\"]).numCleanChars.mean()\n",
    "    \n",
    "    true_scores = mean_scores / mean_clkTime / mean_numCleanWords\n",
    "    max_score = true_scores.max()\n",
    "    true_scores /= max_score # normalize the scores\n",
    "\n",
    "#     if score == score.SIMPLE:\n",
    "#         # calculate scores as the mean of the number of successful utterances\n",
    "#         # a speaker has\n",
    "#         true_scores = eval_df.groupby(speaker.value).numOutcome.mean()\n",
    "#     else:\n",
    "#         true_scores = calculate_scores(eval_df, score)\n",
    "\n",
    "    # calculate a model score\n",
    "    #model_scores = eval_df.groupby(\"gameid\").model_scores.mean()\n",
    "    model_scores = eval_df.groupby(\"gameid\").model_scores.mean()\n",
    "    if groupbycond:\n",
    "        model_scores = eval_df.groupby([\"gameid\", \"condition\"]).model_scores.mean()\n",
    "\n",
    "    result = regressor(true_scores, model_scores)\n",
    "    print(result)\n",
    "    return result, true_scores, model_scores"
   ]
  },
  {
   "cell_type": "code",
   "execution_count": 82,
   "metadata": {},
   "outputs": [
    {
     "name": "stdout",
     "output_type": "stream",
     "text": [
      "Loading pretrained model\n"
     ]
    }
   ],
   "source": [
    "# literal listener v1\n",
    "train = False\n",
    "model_file_v1 = \"../model/literal_listener_5epoch_endings_tkn.params\"\n",
    "\n",
    "model_v1 = LiteralListener(CaptionEncoder, num_epochs=5)\n",
    "model_v1.init_model(embed_dim = embed_dim, hidden_dim = hidden_dim, vocab_size = feature_handler.caption_featurizer.caption_indexer.size,\n",
    "             color_dim = color_dim)\n",
    "\n",
    "if train:\n",
    "    print(\"Training model and saving to {}:\".format(model_file))\n",
    "    #model_v1.fit(train_features, train_targets)\n",
    "    #model_v1.save_model(model_file)\n",
    "else:\n",
    "    print(\"Loading pretrained model\")\n",
    "    model_v1.load_model(model_file_v1)"
   ]
  },
  {
   "cell_type": "code",
   "execution_count": 83,
   "metadata": {},
   "outputs": [
    {
     "name": "stdout",
     "output_type": "stream",
     "text": [
      "Loading pretrained model\n"
     ]
    }
   ],
   "source": [
    "train = False\n",
    "model_file_v2 = \"../model/literal_listener_listener_click_5epoch_endings_tkn.params\"\n",
    "\n",
    "model_v2 = LiteralListener(CaptionEncoder, num_epochs=30)\n",
    "model_v2.init_model(embed_dim = embed_dim, hidden_dim = hidden_dim, vocab_size = feature_handler.caption_featurizer.caption_indexer.size,\n",
    "             color_dim = color_dim)\n",
    "\n",
    "if train:\n",
    "    print(\"Training model and saving to {}:\".format(model_file_v2))\n",
    "    model_v2.fit(train_features, train_targets)\n",
    "    model_v2.save_model(model_file_v2)\n",
    "else:\n",
    "    print(\"Loading pretrained model\")\n",
    "    model_v2.load_model(model_file_v2)"
   ]
  },
  {
   "cell_type": "code",
   "execution_count": 84,
   "metadata": {},
   "outputs": [],
   "source": [
    "feature_handler_5 = FeatureHandler(train_data, dev_data_synth_10, caption_phi, color_phi)"
   ]
  },
  {
   "cell_type": "code",
   "execution_count": 85,
   "metadata": {
    "scrolled": true
   },
   "outputs": [
    {
     "name": "stdout",
     "output_type": "stream",
     "text": [
      "(0.94470461641517, 1.558215061240238e-251)\n",
      "(0.94470461641517, 1.558215061240238e-251)\n",
      "Accuracy: 0.4471953578336557\n"
     ]
    }
   ],
   "source": [
    "x = evaluate_model(dev_data_synth_10, feature_handler_5, model_v1, output_to_score, score_model)\n",
    "assess_targets_tgt_v1_s, model_outputs_v1_s, model_scores_v1_s, true_scores_grouped_v1_s, model_scores_grouped_v1_s = x"
   ]
  },
  {
   "cell_type": "code",
   "execution_count": 86,
   "metadata": {},
   "outputs": [
    {
     "data": {
      "image/png": "[encoded data removed]",
      "text/plain": [
       "<Figure size 432x288 with 1 Axes>"
      ]
     },
     "metadata": {
      "needs_background": "light"
     },
     "output_type": "display_data"
    }
   ],
   "source": [
    "plt.scatter(true_scores_grouped_v1_s, model_scores_grouped_v1_s)\n",
    "plt.title(\"Predicting Target Selection with synthetic data\\nModel Score vs True Score\")\n",
    "plt.show()"
   ]
  },
  {
   "cell_type": "code",
   "execution_count": 87,
   "metadata": {
    "scrolled": true
   },
   "outputs": [
    {
     "name": "stdout",
     "output_type": "stream",
     "text": [
      "(0.9410051220711415, 1.6737074691051348e-244)\n",
      "(0.9410051220711415, 1.6737074691051348e-244)\n",
      "Accuracy: 0.43705996131528047\n"
     ]
    }
   ],
   "source": [
    "x2 = evaluate_model(dev_data_synth_10, feature_handler_5, model_v2, output_to_score, score_model)\n",
    "assess_targets_tgt_v2_s, model_outputs_v2_s, model_scores_v2_s, true_scores_grouped_v2_s, model_scores_grouped_v2_s = x2"
   ]
  },
  {
   "cell_type": "code",
   "execution_count": 88,
   "metadata": {},
   "outputs": [
    {
     "data": {
      "image/png": "[encoded data removed]",
      "text/plain": [
       "<Figure size 432x288 with 1 Axes>"
      ]
     },
     "metadata": {
      "needs_background": "light"
     },
     "output_type": "display_data"
    }
   ],
   "source": [
    "plt.scatter(true_scores_grouped_v2_s, model_scores_grouped_v2_s)\n",
    "plt.title(\"Predicting Target Selection with synthetic data\\nModel Score vs True Score\")\n",
    "plt.show()"
   ]
  },
  {
   "cell_type": "markdown",
   "metadata": {},
   "source": [
    "# Pragmatic Listener"
   ]
  },
  {
   "cell_type": "code",
   "execution_count": 89,
   "metadata": {},
   "outputs": [],
   "source": [
    "#literal listener: use model_v1 trained above\n",
    "\n",
    "#literal speaker:\n",
    "epochs=30; color_in_dim = 54; color_dim = 100; embed_dim = 100; hidden_dim = 100; lr = 0.004\n",
    "ls_model_glove = LiteralSpeaker(CaptionGenerator, optimizer=torch.optim.Adam, lr=lr, num_epochs=epochs)\n",
    "ls_model_glove.init_model(color_in_dim=color_in_dim, color_dim=color_dim,\n",
    "                  vocab_size=caption_phi.caption_indexer.size, embed_dim=embed_dim,\n",
    "                  speaker_hidden_dim=hidden_dim)\n",
    "ls_model_glove.load_model(\"../model/literal_speaker_30epochGLOVE.params\")\n",
    "\n",
    "model_p = PragmaticListener(model_v1, ls_model_glove)"
   ]
  },
  {
   "cell_type": "code",
   "execution_count": 90,
   "metadata": {},
   "outputs": [
    {
     "name": "stdout",
     "output_type": "stream",
     "text": [
      "[[ -2.09427118  -0.13143063 -24.25899124]]\n"
     ]
    }
   ],
   "source": [
    "#confirm models are loaded\n",
    "print(model_v1.predict([train_features[0]]))\n",
    "# print(model_p.predict([train_features[0]]))"
   ]
  },
  {
   "cell_type": "code",
   "execution_count": 91,
   "metadata": {},
   "outputs": [
    {
     "name": "stdout",
     "output_type": "stream",
     "text": [
      "(0.9477390600543572, 1.1320071833501604e-257)\n",
      "(0.9477390600543572, 1.1320071833501604e-257)\n",
      "Accuracy: 0.44804642166344294\n"
     ]
    }
   ],
   "source": [
    "feature_handler_5_listener = feature_handler_5\n",
    "color_phi_speaker = ColorFeaturizer(color_phi_fourier, \"hsv\", normalized=True)\n",
    "feature_handler_5_speaker = FeatureHandler(train_data, dev_data_synth_10, caption_phi, color_phi_speaker)\n",
    "xp = evaluate_model(dev_data_synth_10, feature_handler_5_listener, model_p, output_to_score, score_model, feature_handler_2=feature_handler_5_speaker)"
   ]
  },
  {
   "cell_type": "code",
   "execution_count": 92,
   "metadata": {},
   "outputs": [],
   "source": [
    "assess_targets_tgt_p_s, model_outputs_p_s, model_scores_p_s, true_scores_grouped_p_s, model_scores_grouped_p_s = xp"
   ]
  },
  {
   "cell_type": "code",
   "execution_count": 93,
   "metadata": {},
   "outputs": [
    {
     "data": {
      "image/png": "[encoded data removed]",
      "text/plain": [
       "<Figure size 432x288 with 1 Axes>"
      ]
     },
     "metadata": {
      "needs_background": "light"
     },
     "output_type": "display_data"
    }
   ],
   "source": [
    "plt.scatter(true_scores_grouped_p_s, model_scores_grouped_p_s)\n",
    "plt.title(\"Predicting Target Selection with synthetic data\\nModel Score vs True Score\")\n",
    "plt.show()"
   ]
  },
  {
   "cell_type": "code",
   "execution_count": 98,
   "metadata": {},
   "outputs": [],
   "source": [
    "model_p2 = PragmaticListener(model_v1, ls_model_glove, sample=8)"
   ]
  },
  {
   "cell_type": "code",
   "execution_count": 99,
   "metadata": {},
   "outputs": [
    {
     "name": "stdout",
     "output_type": "stream",
     "text": [
      "(0.9473983309536382, 5.770109621369871e-257)\n",
      "(0.9473983309536382, 5.770109621369871e-257)\n",
      "Accuracy: 0.4480851063829787\n"
     ]
    }
   ],
   "source": [
    "xp2 = evaluate_model(dev_data_synth_10, feature_handler_5_listener, model_p2, output_to_score, score_model, feature_handler_2=feature_handler_5_speaker)"
   ]
  },
  {
   "cell_type": "code",
   "execution_count": 100,
   "metadata": {},
   "outputs": [],
   "source": [
    "assess_targets_tgt_p2_s, model_outputs_p2_s, model_scores_p2_s, true_scores_grouped_p2_s, model_scores_grouped_p2_s = xp2"
   ]
  },
  {
   "cell_type": "code",
   "execution_count": 101,
   "metadata": {},
   "outputs": [
    {
     "data": {
      "image/png": "[encoded data removed]",
      "text/plain": [
       "<Figure size 432x288 with 1 Axes>"
      ]
     },
     "metadata": {
      "needs_background": "light"
     },
     "output_type": "display_data"
    }
   ],
   "source": [
    "plt.scatter(true_scores_grouped_p2_s, model_scores_grouped_p2_s)\n",
    "plt.title(\"Predicting Target Selection with synthetic data\\nModel Score vs True Score\")\n",
    "plt.show()"
   ]
  },
  {
   "cell_type": "markdown",
   "metadata": {},
   "source": [
    "# Imaginative Listener"
   ]
  },
  {
   "cell_type": "code",
   "execution_count": 112,
   "metadata": {},
   "outputs": [],
   "source": [
    "from skimage import io, color"
   ]
  },
  {
   "cell_type": "code",
   "execution_count": 102,
   "metadata": {},
   "outputs": [],
   "source": [
    "# Model 3: third simplest version of the model - generate target color from description AND distractors\n",
    "# (but just use fully connected layers rather than an RNN to encode the colors\n",
    "class ColorGeneratorWithDistractorsLinear(nn.Module):\n",
    "    def __init__(self, embed_dim, hidden_dim, vocab_size, color_in_dim, color_hidden_dim, weight_matrix=None):\n",
    "        super(ColorGeneratorWithDistractorsLinear, self).__init__()\n",
    "        # Embedding/LSTM for words\n",
    "        self.embed = nn.Embedding(vocab_size, embed_dim)\n",
    "        if weight_matrix is not None:\n",
    "            self.embed.load_state_dict({'weight': weight_matrix})\n",
    "            \n",
    "        self.lstm = nn.LSTM(embed_dim, hidden_dim, bidirectional=True, batch_first=True)\n",
    "        \n",
    "        # Linear layers for colors\n",
    "        #self.color_rnn = nn.RNN(color_in_dim, color_hidden_dim, bidirectional=True, batch_first=True)\n",
    "        self.color_encode = nn.Linear(2*color_in_dim, color_hidden_dim)\n",
    "        \n",
    "        # now generate color from embedding dim:\n",
    "        # two linear layers to allow for some non-linear function of the hidden state elements\n",
    "        # if this leads to overfitting I'll take it out\n",
    "        self.linear1 = nn.Linear(2*hidden_dim + color_hidden_dim, hidden_dim)\n",
    "        self.linear2 = nn.Linear(hidden_dim, 3) # 3 for rgb\n",
    "        \n",
    "        self.hidden_dim = hidden_dim\n",
    "        self.color_hidden_dim = color_hidden_dim\n",
    "        \n",
    "    def forward(self, caption, colors):\n",
    "        # get caption encodings\n",
    "        embeddings = self.embed(caption)\n",
    "        output, _ = self.lstm(embeddings)\n",
    "        \n",
    "        # get color encodings\n",
    "        colors = colors.reshape(1, 1, -1)\n",
    "        color_encodings = nn.functional.relu(self.color_encode(colors))\n",
    "        color_encodings = color_encodings.squeeze(0)\n",
    "        \n",
    "        # only care about vector of last sequence\n",
    "        output = torch.cat((output[:, -1, :self.hidden_dim],\n",
    "                            output[:, 0, self.hidden_dim:]), 1)\n",
    "\n",
    "        # combine colors and caption\n",
    "        combined_output = torch.cat((output, color_encodings), 1)\n",
    "        output = self.linear1(combined_output)\n",
    "        output = nn.functional.relu(output)\n",
    "        output = nn.functional.softmax(self.linear2(output), dim=1)\n",
    "        return output"
   ]
  },
  {
   "cell_type": "code",
   "execution_count": 93,
   "metadata": {},
   "outputs": [],
   "source": [
    "class ImaginativeListener(PytorchModel):\n",
    "    def __init__(self, model, use_color=True, **kwargs):\n",
    "        super(ImaginativeListener, self).__init__(model, **kwargs)\n",
    "        self.use_color = use_color\n",
    "        \n",
    "    def train_iter(self, caption_tensor, color_tensor, target_tensor, optimizer, criterion):\n",
    "        optimizer.zero_grad()\n",
    "        loss = 0\n",
    "        \n",
    "        # not using colors at the moment\n",
    "        if self.use_color:\n",
    "            color_tensor = color_tensor[:, 1:3, :] # don't include the target at index 0\n",
    "            model_output = self.model(caption_tensor, color_tensor)\n",
    "        else:\n",
    "            model_output = self.model(caption_tensor)\n",
    "            \n",
    "        if isinstance(criterion, nn.MSELoss):\n",
    "            loss += criterion(model_output, target_tensor.type(torch.FloatTensor))\n",
    "        else:\n",
    "            model_output = model_output.type(torch.DoubleTensor)\n",
    "            label = torch.tensor(1, dtype=torch.double)\n",
    "            loss += criterion(model_output, target_tensor.detach(), label)\n",
    "        loss.backward()\n",
    "        optimizer.step()\n",
    "        \n",
    "        return loss\n",
    "        \n",
    "    def predict(self, X):\n",
    "        model_outputs = np.empty([len(X), 3])\n",
    "        self.model.eval()\n",
    "        with torch.no_grad():\n",
    "            for i, feature in enumerate(X):\n",
    "                caption, colors = feature\n",
    "                caption_tensor = torch.tensor([caption], dtype=torch.long)\n",
    "                color_tensor = torch.tensor([colors], dtype=torch.float)\n",
    "                if self.use_color:\n",
    "                    color_tensor = color_tensor[:, 1:3, :] # don't include the target\n",
    "                    model_output = self.model(caption_tensor, color_tensor)\n",
    "                else:\n",
    "                    model_output = self.model(caption_tensor)\n",
    "                    \n",
    "                model_output_np = model_output.view(-1).numpy()\n",
    "                model_outputs[i] = model_output_np\n",
    "        return np.array(model_outputs)"
   ]
  },
  {
   "cell_type": "code",
   "execution_count": 117,
   "metadata": {},
   "outputs": [],
   "source": [
    "# author: Chris Potts\n",
    "def glove2dict(src_filename):\n",
    "    \"\"\"GloVe Reader.\n",
    "    Parameters\n",
    "    ----------\n",
    "    src_filename : str\n",
    "        Full path to the GloVe file to be processed.\n",
    "    Returns\n",
    "    -------\n",
    "    dict\n",
    "        Mapping words to their GloVe vectors.\n",
    "    \"\"\"\n",
    "    data = {}\n",
    "    with open(src_filename, encoding='utf8') as f:\n",
    "        while True:\n",
    "            try:\n",
    "                line = next(f)\n",
    "                line = line.strip().split()\n",
    "                data[line[0]] = np.array(line[1: ], dtype=np.float)\n",
    "            except StopIteration:\n",
    "                break\n",
    "            except UnicodeDecodeError:\n",
    "                pass\n",
    "    return data"
   ]
  },
  {
   "cell_type": "code",
   "execution_count": 125,
   "metadata": {},
   "outputs": [],
   "source": [
    "def assess_model(model):\n",
    "    # get model outputs\n",
    "    assess_model_outputs = model.predict(assess_features)\n",
    "    \n",
    "    # first do delta e check\n",
    "    assess_model_scores = [output_to_score_de(assess_model_outputs[i], assess_targets[i]) for i in range(len(assess_model_outputs))]\n",
    "    #_, true_scores_grouped, model_scores_grouped = score_model(dev_data_synth, assess_model_scores)\n",
    "    _, close_scores, split_scores, far_scores, all_scores = score_model(dev_data_synth, assess_model_scores, score=Score.CONDITION, return_df=True)\n",
    "#     plt.scatter(true_scores_grouped, model_scores_grouped)\n",
    "#     plt.show()\n",
    "    \n",
    "    # next do accuracy check\n",
    "    assess_model_scores_eval = [output_to_score_closest_color(assess_model_outputs[i], assess_targets_eval[i]) for i in range(len(assess_model_outputs))]\n",
    "    #_, true_scores_grouped_eval, model_scores_grouped_eval = score_model(dev_data_synth, assess_model_scores_eval)\n",
    "    _, close_scores_eval, split_scores_eval, far_scores_eval, all_scores_eval = score_model(dev_data_synth, assess_model_scores_eval, score=Score.CONDITION, return_df=True)\n",
    "    close_scores[\"model_scores_eval\"] = close_scores_eval[\"model_scores\"]\n",
    "    split_scores[\"model_scores_eval\"] = split_scores_eval[\"model_scores\"]\n",
    "    far_scores[\"model_scores_eval\"] = far_scores_eval[\"model_scores\"]\n",
    "    all_scores[\"model_scores_eval\"] = all_scores_eval[\"model_scores\"]\n",
    "    \n",
    "    close_scores = close_scores.groupby(\"gameid\").mean()\n",
    "    split_scores = split_scores.groupby(\"gameid\").mean()\n",
    "    far_scores = far_scores.groupby(\"gameid\").mean()\n",
    "    all_scores = all_scores.groupby(\"gameid\").mean()\n",
    "    \n",
    "    find_correlation(close_scores, \"red\", \"Close\")\n",
    "    find_correlation(split_scores, \"blue\", \"Split\")\n",
    "    find_correlation(far_scores, \"green\", \"Far\")\n",
    "    find_correlation(all_scores, \"black\", \"All\")\n",
    "    \n",
    "    # all_scores_eval['model_outputs'] = assess_model_outputs\n",
    "    return all_scores_eval, assess_model_outputs\n",
    "    \n",
    "#     plt.scatter(true_scores_grouped_eval, model_scores_grouped_eval)\n",
    "#     plt.show()"
   ]
  },
  {
   "cell_type": "code",
   "execution_count": 118,
   "metadata": {},
   "outputs": [],
   "source": [
    "glove100 = glove2dict(\"../../cs224u/data/glove.6B/glove.6B.100d.txt\")"
   ]
  },
  {
   "cell_type": "code",
   "execution_count": 119,
   "metadata": {},
   "outputs": [],
   "source": [
    "# from https://medium.com/@martinpella/how-to-use-pre-trained-word-embeddings-in-pytorch-71ca59249f76\n",
    "weight_matrix = np.empty((feature_handler.caption_featurizer.caption_indexer.size, 100))\n",
    "for i, word in feature_handler.caption_featurizer.caption_indexer.idx2word.items():\n",
    "    weight_matrix[i] = glove100.get(word, np.random.normal(scale=0.6, size=(100, )))"
   ]
  },
  {
   "cell_type": "code",
   "execution_count": 120,
   "metadata": {},
   "outputs": [],
   "source": [
    "MSELossSum = lambda: nn.MSELoss(reduction='sum')\n",
    "model_im_glove = ImaginativeListener(ColorGeneratorWithDistractorsLinear, criterion=MSELossSum, \n",
    "                            optimizer=torch.optim.Adam, lr=0.004, num_epochs=5, use_color=True)\n",
    "model_im_glove.init_model(embed_dim=100, hidden_dim=100, vocab_size=feature_handler.caption_featurizer.caption_indexer.size,\n",
    "                color_in_dim=54, color_hidden_dim=100, weight_matrix=torch.tensor(weight_matrix))"
   ]
  },
  {
   "cell_type": "code",
   "execution_count": 122,
   "metadata": {},
   "outputs": [
    {
     "name": "stdout",
     "output_type": "stream",
     "text": [
      "Loading pretrained model\n"
     ]
    }
   ],
   "source": [
    "train = False\n",
    "model_file_im_glove = \"../model/imaginative_listener_with_distractors_linear100hd5epoch_GLOVE_MSE.params\"\n",
    "\n",
    "if train:\n",
    "    print(\"Training model and saving to {}:\".format(model_file))\n",
    "    model_im_glove.fit(train_features, train_targets)\n",
    "    model_im_glove.save_model(model_file_im2)\n",
    "else:\n",
    "    print(\"Loading pretrained model\")\n",
    "    model_im_glove.load_model(model_file_im2)"
   ]
  },
  {
   "cell_type": "code",
   "execution_count": 109,
   "metadata": {},
   "outputs": [],
   "source": [
    "output_to_score_cosine = lambda output, target: 2 - scipy.spatial.distance.cosine(output, target)\n",
    "output_to_score_de = lambda output, target: delta_e_dist(output, target)\n",
    "\n",
    "def delta_e_dist(color1, color2):\n",
    "    \"\"\"color1 and color2 are in rgb space\"\"\"\n",
    "    # do some nice integer conversions\n",
    "    color1 = np.round(255*color1)\n",
    "    color2 = np.round(255*color2)\n",
    "    # convert colors to lab\n",
    "    color1_lab = color.rgb2lab(np.array([[color1]], dtype=np.uint8)).flatten()\n",
    "    color2_lab = color.rgb2lab(np.array([[color2]], dtype=np.uint8)).flatten()\n",
    "    \n",
    "    # compute Delta E CIEDE 2000 distance\n",
    "    return color.deltaE_ciede2000(color1_lab, color2_lab)"
   ]
  },
  {
   "cell_type": "code",
   "execution_count": 130,
   "metadata": {},
   "outputs": [],
   "source": [
    "def all_color_target(data_entry):\n",
    "    color_array, _ = color_phi.to_color_lists(data_entry.colors, normalized=True)\n",
    "    return np.array(color_array)\n",
    "\n",
    "feature_handler_eval = FeatureHandler(train_data, dev_data_synth_10, caption_phi, color_phi, target_fn=all_color_target,\n",
    "                                randomized_colors=False)"
   ]
  },
  {
   "cell_type": "code",
   "execution_count": 132,
   "metadata": {},
   "outputs": [],
   "source": [
    "def output_to_score_closest_color(model_output, target):\n",
    "    distances = np.array([delta_e_dist(model_output, color) for color in target])\n",
    "    return np.argmin(distances) == 0 # target is closest"
   ]
  },
  {
   "cell_type": "code",
   "execution_count": 131,
   "metadata": {},
   "outputs": [],
   "source": [
    "assess_features = feature_handler_eval.test_features()\n",
    "assess_targets = feature_handler_eval.test_targets()"
   ]
  },
  {
   "cell_type": "code",
   "execution_count": 133,
   "metadata": {},
   "outputs": [],
   "source": [
    "# using closest color\n",
    "assess_model_scores = [output_to_score_closest_color(assess_model_outputs[i], assess_targets[i]) for i in range(len(assess_model_outputs))]"
   ]
  },
  {
   "cell_type": "code",
   "execution_count": 175,
   "metadata": {},
   "outputs": [],
   "source": [
    "# using de\n",
    "assess_model_scores = [output_to_score_de(assess_model_outputs[i], assess_targets[i]) for i in range(len(assess_model_outputs))]"
   ]
  },
  {
   "cell_type": "code",
   "execution_count": 138,
   "metadata": {},
   "outputs": [
    {
     "name": "stdout",
     "output_type": "stream",
     "text": [
      "(0.8564912607001747, 4.981924900611038e-150)\n"
     ]
    }
   ],
   "source": [
    "_, true_scores_grouped, model_scores_grouped = score_model(dev_data_synth_10, assess_model_scores)"
   ]
  },
  {
   "cell_type": "code",
   "execution_count": 139,
   "metadata": {},
   "outputs": [
    {
     "data": {
      "text/plain": [
       "<matplotlib.collections.PathCollection at 0x206e1e82240>"
      ]
     },
     "execution_count": 139,
     "metadata": {},
     "output_type": "execute_result"
    },
    {
     "data": {
      "image/png": "[encoded data removed]",
      "text/plain": [
       "<Figure size 432x288 with 1 Axes>"
      ]
     },
     "metadata": {
      "needs_background": "light"
     },
     "output_type": "display_data"
    }
   ],
   "source": [
    "plt.scatter(true_scores_grouped, model_scores_grouped)"
   ]
  },
  {
   "cell_type": "markdown",
   "metadata": {},
   "source": [
    "# Visualize with Conditions"
   ]
  },
  {
   "cell_type": "code",
   "execution_count": 176,
   "metadata": {},
   "outputs": [
    {
     "name": "stdout",
     "output_type": "stream",
     "text": [
      "(-0.19963098394232448, 2.0933882749803276e-15)\n"
     ]
    }
   ],
   "source": [
    "relevant_columns = [\"gameid\", \"roundNum\", \"numOutcome\", \"condition\"]\n",
    "eval_df = dev_data_synth_10.data[relevant_columns].copy()\n",
    "\n",
    "_, true_scores_grouped_cond, model_scores_grouped_cond = score_model(dev_data_synth_10, assess_model_scores, groupbycond=True)\n",
    "\n",
    "# eval_df[\"model_scores_dlg\"] = assess_model_scores\n",
    "# eval_scores_split = eval_df.groupby(['gameid', 'condition']).mean()"
   ]
  },
  {
   "cell_type": "code",
   "execution_count": 177,
   "metadata": {},
   "outputs": [],
   "source": [
    "colors = []\n",
    "for cond in true_scores_grouped_cond.index.get_level_values(1).values:\n",
    "    if cond == 'close':\n",
    "        colors.append('red')\n",
    "    elif cond == 'split':\n",
    "        colors.append('blue')\n",
    "    else:\n",
    "        colors.append('green')"
   ]
  },
  {
   "cell_type": "code",
   "execution_count": 179,
   "metadata": {},
   "outputs": [
    {
     "data": {
      "image/png": "[encoded data removed]",
      "text/plain": [
       "<Figure size 432x288 with 1 Axes>"
      ]
     },
     "metadata": {
      "needs_background": "light"
     },
     "output_type": "display_data"
    }
   ],
   "source": [
    "# Imaginative listener eval results by conditions\n",
    "plt.scatter(true_scores_grouped_cond, model_scores_grouped_cond, c=colors)\n",
    "plt.show()"
   ]
  },
  {
   "cell_type": "code",
   "execution_count": 181,
   "metadata": {},
   "outputs": [
    {
     "name": "stdout",
     "output_type": "stream",
     "text": [
      "(0.836993221752449, 0.0)\n"
     ]
    }
   ],
   "source": [
    "relevant_columns = [\"gameid\", \"roundNum\", \"numOutcome\", \"condition\"]\n",
    "eval_df_lit = dev_data_synth_10.data[relevant_columns].copy()\n",
    "\n",
    "_, true_scores_grouped_cond, model_scores_grouped_cond = score_model(dev_data_synth_10, model_scores_v2_s, groupbycond=True)\n",
    "\n",
    "# eval_df_lit[\"model_scores_dlg\"] = model_scores_v2_s\n",
    "# eval_scores_split_lit = eval_df_lit.groupby(['gameid', 'condition']).mean()"
   ]
  },
  {
   "cell_type": "code",
   "execution_count": 182,
   "metadata": {},
   "outputs": [],
   "source": [
    "colors = []\n",
    "for cond in true_scores_grouped_cond.index.get_level_values(1).values:\n",
    "    if cond == 'close':\n",
    "        colors.append('red')\n",
    "    elif cond == 'split':\n",
    "        colors.append('blue')\n",
    "    else:\n",
    "        colors.append('green')"
   ]
  },
  {
   "cell_type": "code",
   "execution_count": 183,
   "metadata": {},
   "outputs": [
    {
     "data": {
      "image/png": "[encoded data removed]",
      "text/plain": [
       "<Figure size 432x288 with 1 Axes>"
      ]
     },
     "metadata": {
      "needs_background": "light"
     },
     "output_type": "display_data"
    }
   ],
   "source": [
    "# Literal listener v2 eval results by conditions\n",
    "plt.scatter(true_scores_grouped_cond, model_scores_grouped_cond, c=colors)\n",
    "plt.show()"
   ]
  },
  {
   "cell_type": "code",
   "execution_count": null,
   "metadata": {},
   "outputs": [],
   "source": []
  }
 ],
 "metadata": {
  "kernelspec": {
   "display_name": "Python 3",
   "language": "python",
   "name": "python3"
  },
  "language_info": {
   "codemirror_mode": {
    "name": "ipython",
    "version": 3
   },
   "file_extension": ".py",
   "mimetype": "text/x-python",
   "name": "python",
   "nbconvert_exporter": "python",
   "pygments_lexer": "ipython3",
   "version": "3.7.1"
  }
 },
 "nbformat": 4,
 "nbformat_minor": 2
}
