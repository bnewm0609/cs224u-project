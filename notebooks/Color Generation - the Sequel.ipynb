{
 "cells": [
  {
   "cell_type": "markdown",
   "metadata": {},
   "source": [
    "7/8/2019\n",
    "\n",
    "One thing I'm interested in taking a look at is the difference between 4 different types of \"imaginative listener\" models. \n",
    "\n",
    "1. Produces straight RGB values  \n",
    "  a. Uses distractor context  \n",
    "  b. No distractor context\n",
    "    \n",
    "2. Selects target from potential targets  \n",
    "    a. Uses distractor context  \n",
    "    b. No distractor context  \n",
    "    \n",
    "The first one I have trained, but the second one I do not. The second one might also require a little bit of planning / thinking about it and I think honestly it might be best to get someone's opinion about it."
   ]
  },
  {
   "cell_type": "code",
   "execution_count": null,
   "metadata": {},
   "outputs": [],
   "source": [
    "# so we can use packages from parent directory\n",
    "import sys\n",
    "sys.path.append(\"..\")"
   ]
  }
 ],
 "metadata": {
  "kernelspec": {
   "display_name": "Python 3",
   "language": "python",
   "name": "python3"
  },
  "language_info": {
   "codemirror_mode": {
    "name": "ipython",
    "version": 3
   },
   "file_extension": ".py",
   "mimetype": "text/x-python",
   "name": "python",
   "nbconvert_exporter": "python",
   "pygments_lexer": "ipython3",
   "version": "3.6.8"
  }
 },
 "nbformat": 4,
 "nbformat_minor": 2
}
