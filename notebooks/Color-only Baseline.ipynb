{
 "cells": [
  {
   "cell_type": "code",
   "execution_count": 27,
   "metadata": {},
   "outputs": [],
   "source": [
    "import sys\n",
    "sys.path.append(\"..\")"
   ]
  },
  {
   "cell_type": "code",
   "execution_count": 77,
   "metadata": {},
   "outputs": [],
   "source": [
    "import torch\n",
    "import torch.nn as nn\n",
    "import numpy as np\n",
    "\n",
    "from models import PytorchModel\n",
    "from monroe_data import MonroeData, MonroeDataEntry, Color # last two for reading pkl file\n",
    "import caption_featurizers\n",
    "from color_featurizers import ColorFeaturizer, color_phi_fourier\n",
    "from experiment import FeatureHandler, evaluate_model\n",
    "import scipy.stats as stats\n",
    "from evaluation import score_model, Score"
   ]
  },
  {
   "cell_type": "code",
   "execution_count": 62,
   "metadata": {},
   "outputs": [],
   "source": [
    "class ColorSelector(nn.Module):\n",
    "    def __init__(self, color_dim):\n",
    "        super(ColorSelector, self).__init__()\n",
    "        self.linear1 = nn.Linear(3*color_dim, color_dim)\n",
    "        self.linear2 = nn.Linear(color_dim, 3)\n",
    "        self.nll = nn.LogSoftmax(dim=2)\n",
    "    \n",
    "    def forward(self, colors):\n",
    "        colors = colors.reshape(1, 1, -1)\n",
    "        output = self.linear1(colors)\n",
    "        output = nn.functional.relu(output)\n",
    "        output = self.linear2(output)\n",
    "        output = self.nll(output)\n",
    "        return output"
   ]
  },
  {
   "cell_type": "code",
   "execution_count": 71,
   "metadata": {},
   "outputs": [],
   "source": [
    "class ColorOnlyBaseline(PytorchModel):\n",
    "    \n",
    "    def train_iter(self, caption_tensor, color_tensor, target_tensor, criterion):\n",
    "        model_output = self.model(color_tensor)\n",
    "        loss = criterion(model_output.view(1, -1), target_tensor)\n",
    "        return loss\n",
    "        \n",
    "    \n",
    "    def predict(self, X):\n",
    "        model_outputs = np.empty([len(X), 3])\n",
    "        self.model.eval()\n",
    "        with torch.no_grad():\n",
    "            for i, feature in enumerate(X):\n",
    "                caption, colors = feature\n",
    "                color_tensor = torch.tensor([colors], dtype=torch.float)\n",
    "                model_output = self.model(color_tensor)\n",
    "                            \n",
    "                model_output_np = model_output.view(-1).numpy()\n",
    "                model_outputs[i] = model_output_np\n",
    "        return model_outputs\n",
    "                "
   ]
  },
  {
   "cell_type": "code",
   "execution_count": 46,
   "metadata": {},
   "outputs": [],
   "source": [
    "baseline = ColorOnlyBaseline(ColorSelector)"
   ]
  },
  {
   "cell_type": "code",
   "execution_count": 34,
   "metadata": {},
   "outputs": [],
   "source": [
    "# ok, let's train it\n",
    "train_data = MonroeData(\"../data/csv/train_corpus_monroe.csv\", \"../data/entries/train_entries_monroe.pkl\")\n",
    "dev_data_synth = MonroeData(\"../data/csv/dev_corpus_synth_10fold.csv\", \"../data/entries/dev_corpus_synth_10fold.pkl\")"
   ]
  },
  {
   "cell_type": "code",
   "execution_count": 36,
   "metadata": {},
   "outputs": [
    {
     "ename": "NameError",
     "evalue": "name 'baseline_model' is not defined",
     "output_type": "error",
     "traceback": [
      "\u001b[0;31m---------------------------------------------------------------------------\u001b[0m",
      "\u001b[0;31mNameError\u001b[0m                                 Traceback (most recent call last)",
      "\u001b[0;32m<ipython-input-36-d8450fc7fb5e>\u001b[0m in \u001b[0;36m<module>\u001b[0;34m()\u001b[0m\n\u001b[1;32m      7\u001b[0m \u001b[0;31m# model params\u001b[0m\u001b[0;34m\u001b[0m\u001b[0;34m\u001b[0m\u001b[0;34m\u001b[0m\u001b[0m\n\u001b[1;32m      8\u001b[0m \u001b[0mbasline_model\u001b[0m \u001b[0;34m=\u001b[0m \u001b[0mColorOnlyBaseline\u001b[0m\u001b[0;34m(\u001b[0m\u001b[0mColorSelector\u001b[0m\u001b[0;34m,\u001b[0m \u001b[0moptimizer\u001b[0m\u001b[0;34m=\u001b[0m\u001b[0mtorch\u001b[0m\u001b[0;34m.\u001b[0m\u001b[0moptim\u001b[0m\u001b[0;34m.\u001b[0m\u001b[0mAdam\u001b[0m\u001b[0;34m,\u001b[0m \u001b[0mlr\u001b[0m\u001b[0;34m=\u001b[0m\u001b[0;36m0.001\u001b[0m\u001b[0;34m)\u001b[0m\u001b[0;34m\u001b[0m\u001b[0;34m\u001b[0m\u001b[0m\n\u001b[0;32m----> 9\u001b[0;31m \u001b[0mbaseline_model\u001b[0m\u001b[0;34m.\u001b[0m\u001b[0minit_model\u001b[0m\u001b[0;34m(\u001b[0m\u001b[0mcolor_dim\u001b[0m\u001b[0;34m=\u001b[0m\u001b[0;36m54\u001b[0m\u001b[0;34m)\u001b[0m\u001b[0;34m\u001b[0m\u001b[0;34m\u001b[0m\u001b[0m\n\u001b[0m",
      "\u001b[0;31mNameError\u001b[0m: name 'baseline_model' is not defined"
     ]
    }
   ],
   "source": [
    "caption_phi = caption_featurizers.CaptionFeaturizer(tokenizer=caption_featurizers.EndingTokenizer) # Use with parameter files that end in `endings_tkn` - using endings tokenizer to separate endings like \"ish\" and \"er\"\n",
    "color_phi = ColorFeaturizer(color_phi_fourier, \"rgb\", normalized=True)\n",
    "feature_handler = FeatureHandler(train_data, dev_data_synth, caption_phi, color_phi)\n",
    "train_features = feature_handler.train_features()\n",
    "train_targets = feature_handler.train_targets()\n",
    "\n"
   ]
  },
  {
   "cell_type": "code",
   "execution_count": 44,
   "metadata": {},
   "outputs": [
    {
     "data": {
      "text/plain": [
       "array([0, 1, 0, 1, 1, 0, 2, 1, 2, 0])"
      ]
     },
     "execution_count": 44,
     "metadata": {},
     "output_type": "execute_result"
    }
   ],
   "source": [
    "train_targets[:10]"
   ]
  },
  {
   "cell_type": "code",
   "execution_count": 74,
   "metadata": {},
   "outputs": [],
   "source": [
    "# model params\n",
    "baseline_model = ColorOnlyBaseline(ColorSelector, optimizer=torch.optim.Adam, lr=0.001, num_epochs=5)\n",
    "baseline_model.init_model(color_dim=54)"
   ]
  },
  {
   "cell_type": "code",
   "execution_count": 67,
   "metadata": {
    "scrolled": true
   },
   "outputs": [
    {
     "name": "stdout",
     "output_type": "stream",
     "text": [
      "---EPOCH 0---\n",
      "0m 0s (0:0 0.00%) 0.0010\n",
      "0m 0s (0:1000 7.90%) 1.1131\n",
      "0m 1s (0:2000 15.79%) 1.1006\n",
      "0m 1s (0:3000 23.69%) 1.1002\n",
      "0m 2s (0:4000 31.58%) 1.0988\n",
      "0m 2s (0:5000 39.48%) 1.1051\n",
      "0m 3s (0:6000 47.37%) 1.0953\n",
      "0m 4s (0:7000 55.27%) 1.1004\n",
      "0m 4s (0:8000 63.17%) 1.0900\n",
      "0m 5s (0:9000 71.06%) 1.0962\n",
      "0m 6s (0:10000 78.96%) 1.0962\n",
      "0m 6s (0:11000 86.85%) 1.0990\n",
      "0m 7s (0:12000 94.75%) 1.0970\n",
      "=========================\n",
      "AFTER EPOCH 2999 - AVERAGE VALIDATION LOSS: 1.0915622524023056\n",
      "=========================\n",
      "---EPOCH 1---\n",
      "0m 8s (1:0 0.00%) 0.0009\n",
      "0m 8s (1:1000 7.90%) 1.0915\n",
      "0m 9s (1:2000 15.79%) 1.0838\n",
      "0m 10s (1:3000 23.69%) 1.0874\n",
      "0m 10s (1:4000 31.58%) 1.0793\n",
      "0m 11s (1:5000 39.48%) 1.0865\n",
      "0m 12s (1:6000 47.37%) 1.0810\n",
      "0m 12s (1:7000 55.27%) 1.0807\n",
      "0m 13s (1:8000 63.17%) 1.0773\n",
      "0m 14s (1:9000 71.06%) 1.0804\n",
      "0m 15s (1:10000 78.96%) 1.0806\n",
      "0m 15s (1:11000 86.85%) 1.0774\n",
      "0m 16s (1:12000 94.75%) 1.0771\n",
      "=========================\n",
      "AFTER EPOCH 2999 - AVERAGE VALIDATION LOSS: 1.0878375240663687\n",
      "=========================\n",
      "---EPOCH 2---\n",
      "0m 17s (2:0 0.00%) 0.0006\n",
      "0m 18s (2:1000 7.90%) 1.0811\n",
      "0m 18s (2:2000 15.79%) 1.0733\n",
      "0m 19s (2:3000 23.69%) 1.0751\n",
      "0m 20s (2:4000 31.58%) 1.0736\n",
      "0m 21s (2:5000 39.48%) 1.0768\n",
      "0m 21s (2:6000 47.37%) 1.0743\n",
      "0m 22s (2:7000 55.27%) 1.0656\n",
      "0m 23s (2:8000 63.17%) 1.0721\n",
      "0m 23s (2:9000 71.06%) 1.0758\n",
      "0m 24s (2:10000 78.96%) 1.0731\n",
      "0m 25s (2:11000 86.85%) 1.0637\n",
      "0m 26s (2:12000 94.75%) 1.0785\n",
      "=========================\n",
      "AFTER EPOCH 2999 - AVERAGE VALIDATION LOSS: 1.0895981619854769\n",
      "=========================\n",
      "---EPOCH 3---\n",
      "0m 26s (3:0 0.00%) 0.0009\n",
      "0m 27s (3:1000 7.90%) 1.0736\n",
      "0m 28s (3:2000 15.79%) 1.0563\n",
      "0m 28s (3:3000 23.69%) 1.0662\n",
      "0m 29s (3:4000 31.58%) 1.0644\n",
      "0m 30s (3:5000 39.48%) 1.0703\n",
      "0m 31s (3:6000 47.37%) 1.0655\n",
      "0m 31s (3:7000 55.27%) 1.0508\n",
      "0m 32s (3:8000 63.17%) 1.0676\n",
      "0m 33s (3:9000 71.06%) 1.0632\n",
      "0m 33s (3:10000 78.96%) 1.0695\n",
      "0m 34s (3:11000 86.85%) 1.0493\n",
      "0m 35s (3:12000 94.75%) 1.0722\n",
      "=========================\n",
      "AFTER EPOCH 2999 - AVERAGE VALIDATION LOSS: 1.0917851494252682\n",
      "=========================\n",
      "---EPOCH 4---\n",
      "0m 36s (4:0 0.00%) 0.0006\n",
      "0m 37s (4:1000 7.90%) 1.0659\n",
      "0m 37s (4:2000 15.79%) 1.0440\n",
      "0m 38s (4:3000 23.69%) 1.0570\n",
      "0m 39s (4:4000 31.58%) 1.0572\n",
      "0m 40s (4:5000 39.48%) 1.0667\n",
      "0m 40s (4:6000 47.37%) 1.0609\n",
      "0m 41s (4:7000 55.27%) 1.0441\n",
      "0m 42s (4:8000 63.17%) 1.0603\n",
      "0m 42s (4:9000 71.06%) 1.0488\n",
      "0m 43s (4:10000 78.96%) 1.0554\n",
      "0m 44s (4:11000 86.85%) 1.0510\n",
      "0m 45s (4:12000 94.75%) 1.0610\n",
      "=========================\n",
      "AFTER EPOCH 2999 - AVERAGE VALIDATION LOSS: 1.0918842220207055\n",
      "=========================\n"
     ]
    }
   ],
   "source": [
    "baseline_model.fit(train_features, train_targets)"
   ]
  },
  {
   "cell_type": "code",
   "execution_count": 68,
   "metadata": {},
   "outputs": [],
   "source": [
    "assess_features = feature_handler.test_features()\n",
    "assess_targets = feature_handler.test_targets()\n",
    "\n"
   ]
  },
  {
   "cell_type": "code",
   "execution_count": 73,
   "metadata": {},
   "outputs": [],
   "source": [
    "baseline_model.save_model(\"../model/baseline_model.params\")"
   ]
  },
  {
   "cell_type": "code",
   "execution_count": 75,
   "metadata": {},
   "outputs": [],
   "source": [
    "baseline_model.load_model(\"../model/baseline_model.params\")"
   ]
  },
  {
   "cell_type": "code",
   "execution_count": 78,
   "metadata": {},
   "outputs": [
    {
     "name": "stdout",
     "output_type": "stream",
     "text": [
      "(-0.04931313036969144, 0.26304163420872834)\n",
      "Accuracy: 0.38042553191489364\n"
     ]
    },
    {
     "data": {
      "text/plain": [
       "(-0.04931313036969144, 0.26304163420872834)"
      ]
     },
     "execution_count": 78,
     "metadata": {},
     "output_type": "execute_result"
    }
   ],
   "source": [
    "predictions = baseline_model.predict(assess_features)\n",
    "output_to_score = lambda model_outputs, targets: np.exp(model_outputs[np.arange(len(model_outputs)), targets]) # get the model's predicted probablity at each target index and use that as the score\n",
    "evaluate_model(dev_data_synth, feature_handler, baseline_model, output_to_score, score_model)\n"
   ]
  },
  {
   "cell_type": "markdown",
   "metadata": {},
   "source": [
    "It does bad. Yay. Accuracy just above random"
   ]
  },
  {
   "cell_type": "code",
   "execution_count": 79,
   "metadata": {},
   "outputs": [
    {
     "data": {
      "text/plain": [
       "0.38280000000000003"
      ]
     },
     "execution_count": 79,
     "metadata": {},
     "output_type": "execute_result"
    }
   ],
   "source": [
    "0.33 * 0.5 + 0.66 * 0.33"
   ]
  },
  {
   "cell_type": "code",
   "execution_count": null,
   "metadata": {},
   "outputs": [],
   "source": []
  }
 ],
 "metadata": {
  "kernelspec": {
   "display_name": "Python 3",
   "language": "python",
   "name": "python3"
  },
  "language_info": {
   "codemirror_mode": {
    "name": "ipython",
    "version": 3
   },
   "file_extension": ".py",
   "mimetype": "text/x-python",
   "name": "python",
   "nbconvert_exporter": "python",
   "pygments_lexer": "ipython3",
   "version": "3.6.8"
  }
 },
 "nbformat": 4,
 "nbformat_minor": 2
}
