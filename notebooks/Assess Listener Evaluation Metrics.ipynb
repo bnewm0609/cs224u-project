{
 "cells": [
  {
   "cell_type": "markdown",
   "metadata": {},
   "source": [
    "8/1/2019\n",
    "\n",
    "I need to get accuracy values for the literal listener and pragmatic listener evaluation metrics for the part of my paper where I talk about how the accurcies don't really matter:"
   ]
  },
  {
   "cell_type": "code",
   "execution_count": 2,
   "metadata": {},
   "outputs": [],
   "source": [
    "import sys\n",
    "sys.path.append(\"..\")"
   ]
  },
  {
   "cell_type": "code",
   "execution_count": 4,
   "metadata": {},
   "outputs": [],
   "source": [
    "import caption_featurizers\n",
    "import color_featurizers\n",
    "from evaluation import delta_e_dist\n",
    "from experiment import FeatureHandler\n",
    "from models import LiteralListener, CaptionEncoder, LiteralSpeakerScorer, CaptionGenerator\n",
    "from monroe_data import MonroeData, MonroeDataEntry, Color # for loading in training data"
   ]
  },
  {
   "cell_type": "code",
   "execution_count": 36,
   "metadata": {},
   "outputs": [],
   "source": [
    "import numpy as np\n",
    "import torch\n",
    "from sklearn.metrics import classification_report, accuracy_score\n",
    "from scipy.special import logsumexp"
   ]
  },
  {
   "cell_type": "code",
   "execution_count": 3,
   "metadata": {},
   "outputs": [],
   "source": [
    "train_data = MonroeData(\"../data/csv/train_corpus_monroe.csv\", \"../data/entries/train_entries_monroe.pkl\")\n",
    "test_data = MonroeData(\"../data/csv/test_corpus_monroe.csv\", \"../data/entries/test_entries_monroe.pkl\")\n",
    "\n",
    "caption_phi = caption_featurizers.CaptionFeaturizer(tokenizer=caption_featurizers.EndingTokenizer)\n",
    "color_phi_listener = color_featurizers.ColorFeaturizer(color_featurizers.color_phi_fourier, \"rgb\", normalized=True) # NOTE: RGB\n",
    "color_phi_speaker = color_featurizers.ColorFeaturizer(color_featurizers.color_phi_fourier, \"hsv\", normalized=True) # NOTE: RGB\n",
    "\n",
    "feature_handler_ll = FeatureHandler(train_data, test_data, caption_phi, color_phi_listener, randomized_colors=True)\n",
    "\n",
    "def speaker_target(data_entry):\n",
    "    _, caption_ids = caption_phi.to_string_features(data_entry.caption) # this probably works...\n",
    "    target = caption_ids[1:]\n",
    "    return target\n",
    "feature_handler_pl = FeatureHandler(train_data, test_data, caption_phi, color_phi_speaker,\n",
    "                                    target_fn=speaker_target, randomized_colors=False)"
   ]
  },
  {
   "cell_type": "code",
   "execution_count": null,
   "metadata": {},
   "outputs": [],
   "source": [
    "# Let's do the literal listener first"
   ]
  },
  {
   "cell_type": "code",
   "execution_count": 5,
   "metadata": {},
   "outputs": [],
   "source": [
    "model_ll = LiteralListener(CaptionEncoder)\n",
    "model_ll.init_model(\n",
    "            embed_dim=100,\n",
    "            hidden_dim=100,\n",
    "            vocab_size=feature_handler_ll.caption_featurizer.caption_indexer.size,\n",
    "            color_dim=54)\n",
    "model_ll.load_model(\"../model/literal_listener_5epoch_endings_tkn.params\")"
   ]
  },
  {
   "cell_type": "code",
   "execution_count": 7,
   "metadata": {},
   "outputs": [],
   "source": [
    "X_assess_ll = feature_handler_ll.test_features()\n",
    "y_assess_ll = feature_handler_ll.test_targets()"
   ]
  },
  {
   "cell_type": "code",
   "execution_count": 12,
   "metadata": {},
   "outputs": [],
   "source": [
    "scores_ll = model_ll.predict(X_assess_ll)"
   ]
  },
  {
   "cell_type": "code",
   "execution_count": 15,
   "metadata": {},
   "outputs": [],
   "source": [
    "preds_ll = np.argmax(scores_ll, axis=1)"
   ]
  },
  {
   "cell_type": "code",
   "execution_count": 17,
   "metadata": {},
   "outputs": [
    {
     "name": "stdout",
     "output_type": "stream",
     "text": [
      "              precision    recall  f1-score   support\n",
      "\n",
      "           0       0.77      0.77      0.77      5270\n",
      "           1       0.76      0.76      0.76      5209\n",
      "           2       0.76      0.77      0.77      5180\n",
      "\n",
      "    accuracy                           0.77     15659\n",
      "   macro avg       0.77      0.77      0.77     15659\n",
      "weighted avg       0.77      0.77      0.77     15659\n",
      "\n"
     ]
    }
   ],
   "source": [
    "print(classification_report(preds_ll, y_assess_ll))"
   ]
  },
  {
   "cell_type": "code",
   "execution_count": 48,
   "metadata": {},
   "outputs": [
    {
     "data": {
      "text/plain": [
       "0.7653106839517211"
      ]
     },
     "execution_count": 48,
     "metadata": {},
     "output_type": "execute_result"
    }
   ],
   "source": [
    "sum(preds_ll == y_assess_ll)/len(y_assess_ll)"
   ]
  },
  {
   "cell_type": "code",
   "execution_count": null,
   "metadata": {},
   "outputs": [],
   "source": [
    "# Now let's do this for the Pragmatic Listener"
   ]
  },
  {
   "cell_type": "code",
   "execution_count": 6,
   "metadata": {},
   "outputs": [],
   "source": [
    "model_pl = LiteralSpeakerScorer(CaptionGenerator)\n",
    "model_pl.init_model(color_in_dim=54,\n",
    "                    color_dim=100,\n",
    "                    vocab_size=feature_handler_pl.caption_featurizer.caption_indexer.size,\n",
    "                    embed_dim=100,\n",
    "                    speaker_hidden_dim=100)\n",
    "model_pl.load_model(\"../model/literal_speaker_30epochGLOVE.params\")"
   ]
  },
  {
   "cell_type": "code",
   "execution_count": 18,
   "metadata": {},
   "outputs": [],
   "source": [
    "X_assess_pl = feature_handler_pl.test_features()\n",
    "y_assess_pl = feature_handler_pl.test_targets()"
   ]
  },
  {
   "cell_type": "code",
   "execution_count": 19,
   "metadata": {},
   "outputs": [],
   "source": [
    "scores_pl = model_pl.predict(X_assess_pl)"
   ]
  },
  {
   "cell_type": "code",
   "execution_count": 28,
   "metadata": {},
   "outputs": [],
   "source": [
    "scores_c_pl = speaker_predictions_to_scores(scores_pl, y_assess_pl)"
   ]
  },
  {
   "cell_type": "code",
   "execution_count": 29,
   "metadata": {},
   "outputs": [],
   "source": [
    "preds_pl = np.argmax(scores_c_pl, axis=1)"
   ]
  },
  {
   "cell_type": "code",
   "execution_count": 35,
   "metadata": {},
   "outputs": [
    {
     "data": {
      "text/plain": [
       "0.7501756178555463"
      ]
     },
     "execution_count": 35,
     "metadata": {},
     "output_type": "execute_result"
    }
   ],
   "source": [
    "sum(preds_pl == 0)/len(preds_pl)"
   ]
  },
  {
   "cell_type": "code",
   "execution_count": 47,
   "metadata": {},
   "outputs": [
    {
     "name": "stdout",
     "output_type": "stream",
     "text": [
      "              precision    recall  f1-score   support\n",
      "\n",
      "         0.0       1.00      0.75      0.86     15659\n",
      "         1.0       0.00      0.00      0.00         0\n",
      "         2.0       0.00      0.00      0.00         0\n",
      "\n",
      "    accuracy                           0.75     15659\n",
      "   macro avg       0.33      0.25      0.29     15659\n",
      "weighted avg       1.00      0.75      0.86     15659\n",
      "\n"
     ]
    },
    {
     "name": "stderr",
     "output_type": "stream",
     "text": [
      "/Users/benjaminnewman/miniconda3/envs/listener-evaluation/lib/python3.7/site-packages/sklearn/metrics/classification.py:1439: UndefinedMetricWarning: Recall and F-score are ill-defined and being set to 0.0 in labels with no true samples.\n",
      "  'recall', 'true', average, warn_for)\n"
     ]
    }
   ],
   "source": [
    "print(classification_report(np.zeros(len(preds_pl)), preds_pl))"
   ]
  },
  {
   "cell_type": "code",
   "execution_count": 27,
   "metadata": {},
   "outputs": [],
   "source": [
    "def speaker_predictions_to_scores(results, targets):\n",
    "    \"\"\"Translate the the predicted probabilities for each\n",
    "    token for each color into scores for each color\n",
    "    \n",
    "    Args:\n",
    "        results: the raw list of list of tensors output by the model\n",
    "        targets: the tokens in the gold caption.\n",
    "        \n",
    "    Returns:\n",
    "        np.array of shape (len(targets),) containing scores for target color.\n",
    "    \"\"\"\n",
    "    all_scores = []\n",
    "    target_lens = np.array([len(target) for target in targets])\n",
    "    for i, predictions in enumerate(results):\n",
    "\n",
    "        scores = [0, 0, 0]\n",
    "        for j, prediction in enumerate(predictions):\n",
    "            scores[j] = np.sum(prediction[np.arange(target_lens[i]), targets[i]].numpy()) # end tokens are already cut off\n",
    "\n",
    "        all_scores.append(scores)\n",
    "    \n",
    "    # now we can softmax these probabilities in log space\n",
    "    all_scores = np.array(all_scores)\n",
    "    all_scores_dist = (all_scores.T - logsumexp(all_scores, axis=1)).T\n",
    "    # the target is at index 0\n",
    "    return all_scores_dist"
   ]
  },
  {
   "cell_type": "code",
   "execution_count": null,
   "metadata": {},
   "outputs": [],
   "source": [
    "# just out of curiousity... what happens if we feed in random sequences of tokens along with randomly \n",
    "# generated contexts?"
   ]
  },
  {
   "cell_type": "code",
   "execution_count": 114,
   "metadata": {},
   "outputs": [],
   "source": [
    "class FakeMonroeData:\n",
    "    \"\"\"Class that has the minimal set of variables needed to run the predictions\"\"\"\n",
    "    def __init__(self, caption, colors):\n",
    "        self.caption = caption\n",
    "        self.colors = colors\n",
    "        self.target_idx = 0"
   ]
  },
  {
   "cell_type": "code",
   "execution_count": 115,
   "metadata": {},
   "outputs": [],
   "source": [
    "import random\n",
    "random.seed(142)\n",
    "def gen_fake_data():\n",
    "    rand_colors = []\n",
    "    for _ in range(3):\n",
    "        rand_color = [random.randint(0, 255) for _ in range(3)]\n",
    "        rand_colors.append(Color(*rand_color, \"rgb\"))\n",
    "    \n",
    "    rand_tokens = ['<sos>']\n",
    "    while True: # geometric distribution with hard tail\n",
    "        rand_token = random.choice(list(feature_handler_ll.caption_featurizer.caption_indexer.word2idx.keys()))\n",
    "        rand_tokens.append(rand_token)\n",
    "        if random.random() < 0.2 or len(rand_tokens) > 10:\n",
    "            break\n",
    "    rand_tokens.append('<eos>')\n",
    "    \n",
    "    return FakeMonroeData(\" \".join(rand_tokens), rand_colors)"
   ]
  },
  {
   "cell_type": "code",
   "execution_count": 116,
   "metadata": {},
   "outputs": [],
   "source": [
    "fake_data = []\n",
    "for _ in range(1000):\n",
    "    fake_data.append(gen_fake_data())"
   ]
  },
  {
   "cell_type": "code",
   "execution_count": 99,
   "metadata": {},
   "outputs": [],
   "source": [
    "import matplotlib.pyplot as plt\n",
    "from collections import Counter\n",
    "%matplotlib inline"
   ]
  },
  {
   "cell_type": "code",
   "execution_count": 101,
   "metadata": {},
   "outputs": [
    {
     "data": {
      "text/plain": [
       "<matplotlib.collections.PathCollection at 0x1c3b815f98>"
      ]
     },
     "execution_count": 101,
     "metadata": {},
     "output_type": "execute_result"
    },
    {
     "data": {
      "image/png": "[encoded data removed]",
      "text/plain": [
       "<Figure size 432x288 with 1 Axes>"
      ]
     },
     "metadata": {
      "needs_background": "light"
     },
     "output_type": "display_data"
    }
   ],
   "source": [
    "plt.scatter(*list(zip(*Counter([len(d.caption.split()) for d in fake_data]).items())))"
   ]
  },
  {
   "cell_type": "code",
   "execution_count": 138,
   "metadata": {},
   "outputs": [
    {
     "name": "stdout",
     "output_type": "stream",
     "text": [
      "<sos> cheeks almosy nor speak grass-like rosy blah ? cheeks <eos>\n"
     ]
    },
    {
     "data": {
      "image/png": "[encoded data removed]",
      "text/plain": [
       "<Figure size 432x288 with 1 Axes>"
      ]
     },
     "metadata": {},
     "output_type": "display_data"
    }
   ],
   "source": [
    "i = 4\n",
    "train_data.display_custom_game(fake_data[i].colors, fake_data[i].caption)"
   ]
  },
  {
   "cell_type": "code",
   "execution_count": 118,
   "metadata": {},
   "outputs": [],
   "source": [
    "feature_handler_ll_rand = FeatureHandler(train_data, fake_data, caption_phi, color_phi_listener, randomized_colors=True)\n",
    "\n",
    "X_assess_ll_rand = feature_handler_ll_rand.test_features()\n",
    "y_assess_ll_rand = feature_handler_ll_rand.test_targets()"
   ]
  },
  {
   "cell_type": "code",
   "execution_count": 119,
   "metadata": {},
   "outputs": [],
   "source": [
    "scores_raw_ll_rand = model_ll.predict(X_assess_ll_rand)\n",
    "scores_ll_rand = np.exp(scores_raw_ll_rand[np.arange(len(scores_raw_ll_rand)), y_assess_ll_rand])"
   ]
  },
  {
   "cell_type": "code",
   "execution_count": 120,
   "metadata": {},
   "outputs": [
    {
     "data": {
      "text/plain": [
       "array([9.7728604e-01, 9.6860397e-01, 2.8813784e-07, 2.4888052e-01,\n",
       "       2.6270071e-11, 1.8835228e-31, 9.5540136e-01, 1.6193444e-15,\n",
       "       7.0511229e-02, 9.9990845e-01], dtype=float32)"
      ]
     },
     "execution_count": 120,
     "metadata": {},
     "output_type": "execute_result"
    }
   ],
   "source": [
    "scores_ll_rand[:10]"
   ]
  },
  {
   "cell_type": "code",
   "execution_count": 121,
   "metadata": {},
   "outputs": [
    {
     "data": {
      "text/plain": [
       "{'bodies': [<matplotlib.collections.PolyCollection at 0x1c3c2597b8>],\n",
       " 'cmaxes': <matplotlib.collections.LineCollection at 0x1c3c25d400>,\n",
       " 'cmins': <matplotlib.collections.LineCollection at 0x1c3c259a20>,\n",
       " 'cbars': <matplotlib.collections.LineCollection at 0x1c3c259908>}"
      ]
     },
     "execution_count": 121,
     "metadata": {},
     "output_type": "execute_result"
    },
    {
     "data": {
      "image/png": "[encoded data removed]",
      "text/plain": [
       "<Figure size 432x288 with 1 Axes>"
      ]
     },
     "metadata": {
      "needs_background": "light"
     },
     "output_type": "display_data"
    }
   ],
   "source": [
    "plt.violinplot(scores_ll_rand)"
   ]
  },
  {
   "cell_type": "code",
   "execution_count": 124,
   "metadata": {},
   "outputs": [
    {
     "data": {
      "text/plain": [
       "(array([316.,   0.,   0.,   0.,   0., 362.,   0.,   0.,   0., 322.]),\n",
       " array([0. , 0.2, 0.4, 0.6, 0.8, 1. , 1.2, 1.4, 1.6, 1.8, 2. ]),\n",
       " <a list of 10 Patch objects>)"
      ]
     },
     "execution_count": 124,
     "metadata": {},
     "output_type": "execute_result"
    },
    {
     "data": {
      "image/png": "[encoded data removed]",
      "text/plain": [
       "<Figure size 432x288 with 1 Axes>"
      ]
     },
     "metadata": {
      "needs_background": "light"
     },
     "output_type": "display_data"
    }
   ],
   "source": [
    "plt.hist(np.argmax(scores_raw_ll_rand, axis=1))"
   ]
  },
  {
   "cell_type": "code",
   "execution_count": 125,
   "metadata": {},
   "outputs": [],
   "source": [
    "feature_handler_pl_rand = FeatureHandler(train_data, fake_data, caption_phi, color_phi_speaker,\n",
    "                                    target_fn=speaker_target, randomized_colors=False)"
   ]
  },
  {
   "cell_type": "code",
   "execution_count": 126,
   "metadata": {},
   "outputs": [],
   "source": [
    "X_assess_pl_rand = feature_handler_pl_rand.test_features()\n",
    "y_assess_pl_rand = feature_handler_pl_rand.test_targets()\n",
    "\n",
    "scores_pl_rand = model_pl.predict(X_assess_pl_rand)\n",
    "scores_c_pl_rand = speaker_predictions_to_scores(scores_pl_rand, y_assess_pl_rand)"
   ]
  },
  {
   "cell_type": "code",
   "execution_count": 128,
   "metadata": {},
   "outputs": [
    {
     "data": {
      "text/plain": [
       "{'bodies': [<matplotlib.collections.PolyCollection at 0x1c3c68d710>],\n",
       " 'cmaxes': <matplotlib.collections.LineCollection at 0x1c3c68d630>,\n",
       " 'cmins': <matplotlib.collections.LineCollection at 0x1c3c68d978>,\n",
       " 'cbars': <matplotlib.collections.LineCollection at 0x1c3c68d780>}"
      ]
     },
     "execution_count": 128,
     "metadata": {},
     "output_type": "execute_result"
    },
    {
     "data": {
      "image/png": "[encoded data removed]",
      "text/plain": [
       "<Figure size 432x288 with 1 Axes>"
      ]
     },
     "metadata": {
      "needs_background": "light"
     },
     "output_type": "display_data"
    }
   ],
   "source": [
    "plt.violinplot(np.exp(scores_c_pl_rand[:, 0]))"
   ]
  },
  {
   "cell_type": "code",
   "execution_count": 135,
   "metadata": {},
   "outputs": [
    {
     "data": {
      "text/plain": [
       "{'bodies': [<matplotlib.collections.PolyCollection at 0x1c3adb9f98>,\n",
       "  <matplotlib.collections.PolyCollection at 0x1c3adb9a58>,\n",
       "  <matplotlib.collections.PolyCollection at 0x1c3adb98d0>],\n",
       " 'cmaxes': <matplotlib.collections.LineCollection at 0x1c3adb90b8>,\n",
       " 'cmins': <matplotlib.collections.LineCollection at 0x1c3adb91d0>,\n",
       " 'cbars': <matplotlib.collections.LineCollection at 0x1c3ab207b8>}"
      ]
     },
     "execution_count": 135,
     "metadata": {},
     "output_type": "execute_result"
    },
    {
     "data": {
      "image/png": "[encoded data removed]",
      "text/plain": [
       "<Figure size 432x288 with 1 Axes>"
      ]
     },
     "metadata": {
      "needs_background": "light"
     },
     "output_type": "display_data"
    }
   ],
   "source": [
    "plt.violinplot(np.exp(scores_c_pl_rand))"
   ]
  },
  {
   "cell_type": "code",
   "execution_count": 136,
   "metadata": {},
   "outputs": [
    {
     "data": {
      "text/plain": [
       "array([[5.8017915e-01, 1.8968105e-02, 4.0085253e-01],\n",
       "       [1.1675007e-15, 1.0000000e+00, 0.0000000e+00],\n",
       "       [4.1526216e-01, 1.8513106e-01, 3.9960670e-01],\n",
       "       [3.7335354e-01, 5.0549334e-01, 1.2115098e-01],\n",
       "       [1.0000000e+00, 0.0000000e+00, 0.0000000e+00],\n",
       "       [0.0000000e+00, 0.0000000e+00, 1.0000000e+00],\n",
       "       [0.0000000e+00, 0.0000000e+00, 1.0000000e+00],\n",
       "       [4.5185294e-07, 1.8336779e-14, 1.0000000e+00],\n",
       "       [5.8413045e-14, 3.1834097e-12, 1.0000000e+00],\n",
       "       [0.0000000e+00, 1.0000000e+00, 0.0000000e+00]], dtype=float32)"
      ]
     },
     "execution_count": 136,
     "metadata": {},
     "output_type": "execute_result"
    }
   ],
   "source": [
    "np.exp(scores_c_pl_rand)[:10]"
   ]
  },
  {
   "cell_type": "code",
   "execution_count": 130,
   "metadata": {},
   "outputs": [],
   "source": [
    "scores_pl_rand_true = np.exp(scores_c_pl_rand[:, 0])"
   ]
  },
  {
   "cell_type": "code",
   "execution_count": 132,
   "metadata": {},
   "outputs": [
    {
     "data": {
      "text/plain": [
       "array([5.8017915e-01, 1.1675007e-15, 4.1526216e-01, 3.7335354e-01,\n",
       "       1.0000000e+00, 0.0000000e+00, 0.0000000e+00, 4.5185294e-07,\n",
       "       5.8413045e-14, 0.0000000e+00], dtype=float32)"
      ]
     },
     "execution_count": 132,
     "metadata": {},
     "output_type": "execute_result"
    }
   ],
   "source": [
    "scores_pl_rand_true[:10]"
   ]
  },
  {
   "cell_type": "code",
   "execution_count": 134,
   "metadata": {},
   "outputs": [
    {
     "data": {
      "text/plain": [
       "(array([349.,   0.,   0.,   0.,   0., 313.,   0.,   0.,   0., 338.]),\n",
       " array([0. , 0.2, 0.4, 0.6, 0.8, 1. , 1.2, 1.4, 1.6, 1.8, 2. ]),\n",
       " <a list of 10 Patch objects>)"
      ]
     },
     "execution_count": 134,
     "metadata": {},
     "output_type": "execute_result"
    },
    {
     "data": {
      "image/png": "[encoded data removed]",
      "text/plain": [
       "<Figure size 432x288 with 1 Axes>"
      ]
     },
     "metadata": {
      "needs_background": "light"
     },
     "output_type": "display_data"
    }
   ],
   "source": [
    "plt.hist(np.argmax(scores_c_pl_rand, axis=1))"
   ]
  },
  {
   "cell_type": "code",
   "execution_count": null,
   "metadata": {},
   "outputs": [],
   "source": []
  }
 ],
 "metadata": {
  "kernelspec": {
   "display_name": "Python 3",
   "language": "python",
   "name": "python3"
  },
  "language_info": {
   "codemirror_mode": {
    "name": "ipython",
    "version": 3
   },
   "file_extension": ".py",
   "mimetype": "text/x-python",
   "name": "python",
   "nbconvert_exporter": "python",
   "pygments_lexer": "ipython3",
   "version": "3.6.8"
  }
 },
 "nbformat": 4,
 "nbformat_minor": 2
}
